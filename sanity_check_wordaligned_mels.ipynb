{
 "cells": [
  {
   "cell_type": "markdown",
   "id": "11f1f25c",
   "metadata": {},
   "source": [
    "# instructions\n",
    "\n",
    "use fastpitch conda env\n",
    "```bash\n",
    "conda activate fastpitch\n",
    "cd rlspeller/\n",
    "./jupyter_lab.sh\n",
    "```"
   ]
  },
  {
   "cell_type": "code",
   "execution_count": 1,
   "id": "a0453510-71c2-4a70-960a-970940bfc5d5",
   "metadata": {
    "pycharm": {
     "name": "#%%\n"
    },
    "vscode": {
     "languageId": "python"
    }
   },
   "outputs": [],
   "source": [
    "docstring = \"\"\"\n",
    "(Use fastpitch conda env)\n",
    "\n",
    "Helper script that takes a folder of speech reps (wav2vec2, mel-spec, etc.)\n",
    "and aligns them at word-level using MFA alignments.\n",
    "\n",
    "Speech reps corresponding to word tokens in the corpus are then saved individually to an output folder\n",
    "with the following structure:\n",
    "- data_path\n",
    "    - word1\n",
    "        - word1_LJ010-0292_001.pt\n",
    "        - word1_LJ010-0292_002.pt\n",
    "        - ...\n",
    "    - word2\n",
    "        - word2_LJ001-0012_001.pt\n",
    "        - word2_LJ002-0024_001.pt\n",
    "        - ...\n",
    "    - ...\n",
    "\n",
    "- word1, word2, ... subfolders refer to a particular wordtype in the corpus.\n",
    "- .pt files contain speech representations that map to a particular example of a wordtype.\n",
    "  It is named as:\n",
    "    <wordtype>_<utt id>_<numbered occurrence in the utterance>.pt\n",
    "\n",
    "Example usage:\n",
    "    #hubert w/ padding offset\n",
    "    cd ~/fairseq\n",
    "    python examples/lexicon_learner/wordalign_speechreps.py \\\n",
    "        -t hubert \\\n",
    "        --padding_idx_offset 1 \\\n",
    "        -s /home/s1785140/fairseq/examples/lexicon_learner/lj_speech_quantized.txt \\\n",
    "        -a /home/s1785140/data/ljspeech_MFA_alignments \\\n",
    "        -o /home/s1785140/data/ljspeech_hubert_reps/hubert-base/layer-6/word_level_with_padding_idx_offset\n",
    "\n",
    "    #hubert w/o padding offset\n",
    "    cd ~/fairseq\n",
    "    python examples/lexicon_learner/wordalign_speechreps.py \\\n",
    "        -t hubert \\\n",
    "        --padding_idx_offset 0 \\\n",
    "        -s /home/s1785140/fairseq/examples/lexicon_learner/lj_speech_quantized.txt \\\n",
    "        -a /home/s1785140/data/ljspeech_MFA_alignments \\\n",
    "        -o /home/s1785140/data/ljspeech_hubert_reps/hubert-base/layer-6/word_level_without_padding_idx_offset\n",
    "\n",
    "    #wav2vec2\n",
    "    cd ~/fairseq\n",
    "    python examples/lexicon_learner/wordalign_speechreps.py \\\n",
    "        -t wav2vec2 \\\n",
    "        -s /home/s1785140/data/ljspeech_wav2vec2_reps/wav2vec2-large-960h/layer-15/utt_level \\\n",
    "        -a /home/s1785140/data/ljspeech_MFA_alignments \\\n",
    "        -o /home/s1785140/data/ljspeech_wav2vec2_reps/wav2vec2-large-960h/layer-15/word_level\n",
    "\"\"\""
   ]
  },
  {
   "cell_type": "markdown",
   "id": "95da2491",
   "metadata": {},
   "source": [
    "Command line args"
   ]
  },
  {
   "cell_type": "code",
   "execution_count": 2,
   "id": "6ed31824-8d7f-4e8c-a96b-937915cfc08f",
   "metadata": {
    "pycharm": {
     "name": "#%%\n"
    },
    "vscode": {
     "languageId": "python"
    }
   },
   "outputs": [],
   "source": [
    "# imitate CLAs\n",
    "import sys\n",
    "\n",
    "cla_dict = {\n",
    "    \"fastpitch\": [\n",
    "        'train.py',\n",
    "        '--type', 'mel',\n",
    "        '--utt_id_list', '/home/s1785140/data/ljspeech_fastpitch/respeller_uttids.txt', \n",
    "        '--input_directory', '/home/s1785140/data/ljspeech_fastpitch/mels',\n",
    "        # '--alignments', '/home/s1785140/data/ljspeech_fastpitch/aligns', # older alignments (without using improved tokenizer)\n",
    "        '--alignments', '/home/s1785140/speechbrain/templates/speech_recognition_CharTokens_NoLM/data/LJSpeech-1.1/MFA_alignments_lowercase_nopunc', # newer alignments, lowercase no punctuation\n",
    "        '--output_directory', '/home/s1785140/data/ljspeech_fastpitch/wordaligned_mels_lowercase_nopunc',\n",
    "        '--clean-output-folder',\n",
    "#         '--max-utts-to-generate', '5', # for testing!!!\n",
    "    ],\n",
    "    \"speechbrain\": [\n",
    "        'train.py',\n",
    "        '--type', 'wav',\n",
    "        '--utt_id_list', '/home/s1785140/data/ljspeech_fastpitch/respeller_uttids.txt', \n",
    "        '--input_directory', '/home/s1785140/speechbrain/templates/speech_recognition_CharTokens_NoLM/data/LJSpeech-1.1/wavs_16khz',\n",
    "        '--alignments', '/home/s1785140/speechbrain/templates/speech_recognition_CharTokens_NoLM/data/LJSpeech-1.1/MFA_alignments_lowercase_nopunc', # newer alignments, lowercase no punctuation\n",
    "        '--output_directory', '/home/s1785140/speechbrain/templates/speech_recognition_CharTokens_NoLM/data/ljspeech_wavs_16khz_word_aligned',\n",
    "        # '--clean-output-folder',\n",
    "        # '--max-utts-to-generate', '100', # for testing!!!\n",
    "    ],\n",
    "}\n",
    "\n",
    "sys.argv = cla_dict[\"fastpitch\"]"
   ]
  },
  {
   "cell_type": "markdown",
   "id": "2d1186da",
   "metadata": {},
   "source": [
    "# imports and globals"
   ]
  },
  {
   "cell_type": "code",
   "execution_count": 3,
   "id": "d3f0393f-64f2-4056-b219-a3e4f557516d",
   "metadata": {
    "pycharm": {
     "name": "#%%\n"
    },
    "vscode": {
     "languageId": "python"
    }
   },
   "outputs": [],
   "source": [
    "import os\n",
    "import argparse\n",
    "import torch\n",
    "from tqdm import tqdm\n",
    "from collections import Counter\n",
    "import numpy as np\n",
    "import tgt\n",
    "import string\n",
    "import librosa\n",
    "import glob\n",
    "import random\n",
    "from IPython.display import Audio\n",
    "import nltk\n",
    "from nltk.corpus import stopwords\n",
    "import math\n",
    "import shutil\n",
    "# nltk.download('stopwords')\n",
    "\n",
    "SKIP_NON_ASCII = False\n",
    "WORDS_TO_SKIP = [\"wdsu-tv\"]"
   ]
  },
  {
   "cell_type": "markdown",
   "id": "c1439b58",
   "metadata": {},
   "source": [
    "# Parser"
   ]
  },
  {
   "cell_type": "code",
   "execution_count": 4,
   "id": "9ff2a0ad-4c05-476f-a430-ddd4e8e92e6e",
   "metadata": {
    "pycharm": {
     "name": "#%%\n"
    },
    "tags": [],
    "vscode": {
     "languageId": "python"
    }
   },
   "outputs": [],
   "source": [
    "parser = argparse.ArgumentParser()\n",
    "parser.add_argument('-t', '--type', type=str, default='hubert',\n",
    "                    help='type of input speech reps that we are using, i.e. hubert wav2vec2 etc.')\n",
    "parser.add_argument('--padding_idx_offset', type=int, default=0,\n",
    "                    help='add 1 to token id of discrete reps in order to allow for padding_idx==0')\n",
    "parser.add_argument('--utt_id_list', type=str, required=False, default=\"\",\n",
    "                    help='path to text file that contains list of utterance ids that we extract from')\n",
    "parser.add_argument('-s', '--input_directory', type=str, required=True,\n",
    "                    help='path to single non-nested folder containing speech representations (.pt files) or txt file (hubert)')\n",
    "parser.add_argument('-a', '--alignments', type=str, required=True,\n",
    "                    help='path to single non-nested folder containing MFA alignments (.TextGrid files)')\n",
    "parser.add_argument('-o', '--output_directory', type=str, required=True,\n",
    "                    help='where to write word-level data')\n",
    "parser.add_argument('--max-utts-to-generate', type=int, default=None,\n",
    "                    help='How many utts to extract word aligned speech reps for. If None, extract all utts.')\n",
    "parser.add_argument('--mel-to-graphemes-ratio-lowest-threshold', type=float, default=0.0,\n",
    "                    help='Lowest mel-to-graphemes ratio to consider. (lower ratio means fewer mel frames per grapheme)')\n",
    "parser.add_argument('--mel-to-graphemes-ratio-highest-threshold', type=float, default=math.inf,\n",
    "                    help='Lowest mel-to-graphemes ratio to consider. (higher ratio means more mel frames per grapheme)')\n",
    "parser.add_argument('--clean-output-folder', action=\"store_true\",\n",
    "                    help='Clean output folder before writing new data')\n",
    "args = parser.parse_args()\n",
    "\n",
    "if \"speechbrain\" in args.input_directory:\n",
    "    args.corpus_name = \"speechbrain\"\n",
    "    args.transpose_mel = False\n",
    "    SAMPLING_RATE = 16000 # hz\n",
    "    HOP_LENGTH_IN_MS = 10 # in ms\n",
    "    WIN_LENGTH_IN_MS = 25 # in ms\n",
    "    HOP_LENGTH = int(HOP_LENGTH_IN_MS * SAMPLING_RATE / 1000) # convert HOP_LENGTH to samples\n",
    "    WIN_LENGTH = int(WIN_LENGTH_IN_MS * SAMPLING_RATE / 1000) # convert WIN_LENGTH to samples\n",
    "elif \"ljspeech\" in args.input_directory:\n",
    "    args.corpus_name = \"ljspeech\"\n",
    "    args.transpose_mel = True\n",
    "    SAMPLING_RATE = 22050 # hz\n",
    "    HOP_LENGTH_IN_MS = 10 # in ms\n",
    "    WIN_LENGTH_IN_MS = 25 # in ms\n",
    "    HOP_LENGTH = int(HOP_LENGTH_IN_MS * SAMPLING_RATE / 1000) # convert HOP_LENGTH to samples\n",
    "    WIN_LENGTH = int(WIN_LENGTH_IN_MS * SAMPLING_RATE / 1000) # convert WIN_LENGTH to samples"
   ]
  },
  {
   "cell_type": "markdown",
   "id": "91b402ed",
   "metadata": {},
   "source": [
    "## sanity check alignments by generating wordaligned spectrograms using griffin-lim"
   ]
  },
  {
   "cell_type": "code",
   "execution_count": 7,
   "id": "6b97e976",
   "metadata": {
    "vscode": {
     "languageId": "python"
    }
   },
   "outputs": [
    {
     "name": "stderr",
     "output_type": "stream",
     "text": [
      "100%|█████████████████████████████████████████████████████| 2/2 [00:00<00:00, 1399.27it/s]"
     ]
    },
    {
     "name": "stdout",
     "output_type": "stream",
     "text": [
      "2\n"
     ]
    },
    {
     "name": "stderr",
     "output_type": "stream",
     "text": [
      "\n"
     ]
    }
   ],
   "source": [
    "# grab all mels and words in the output directory\n",
    "\n",
    "# glob pytorch tensors from nested folders in output directory\n",
    "# mel_paths = glob.glob(f'{args.output_directory}/**/*.pt', recursive=True)\n",
    "\n",
    "wordtype = \"secrete\"\n",
    "mel_paths = glob.glob(f'{args.output_directory}/{wordtype}/*.pt', recursive=True)\n",
    "\n",
    "MAX_NUM = 10\n",
    "\n",
    "# load mels into list\n",
    "mels = []\n",
    "words = []\n",
    "for mel_path in tqdm(mel_paths[:MAX_NUM]):\n",
    "    mel = torch.load(mel_path)\n",
    "    mels.append(mel)\n",
    "\n",
    "    # also get word from path\n",
    "    word = mel_path.split('/')[-2]\n",
    "    words.append(word)\n",
    "\n",
    "tuples = list(zip(mels, words))\n",
    "print(len(tuples))"
   ]
  },
  {
   "cell_type": "code",
   "execution_count": 8,
   "id": "c77f83a1",
   "metadata": {
    "vscode": {
     "languageId": "python"
    }
   },
   "outputs": [],
   "source": [
    "def griffin_lim_synthesise(mel, n_iter=100):\n",
    "    \"\"\"Synthesises audio from mel spectrogram using Griffin-Lim algorithm.\n",
    "    Args:\n",
    "        mel (torch.Tensor): Mel spectrogram (B, C, T).\n",
    "        n_iter (int): Number of iterations for Griffin-Lim algorithm.\n",
    "    Returns:\n",
    "        torch.Tensor: Audio waveform (B, T).\n",
    "    \"\"\"\n",
    "    mel = mel.detach().cpu().numpy()\n",
    "    mel = librosa.feature.inverse.mel_to_audio(\n",
    "        mel, sr=SAMPLING_RATE, n_fft=1000, hop_length=HOP_LENGTH, win_length=WIN_LENGTH,\n",
    "        window='hamming', center=True, pad_mode='constant', power=1.0, \n",
    "        n_iter=n_iter,\n",
    "        )\n",
    "    mel = torch.from_numpy(mel).float()\n",
    "    return mel\n",
    "\n",
    "def reshape_mel_for_librosa(mel):\n",
    "    mel = mel.unsqueeze(0) # make batch dimension\n",
    "    mel = mel.transpose(1, 2)\n",
    "    return mel\n",
    "\n",
    "def synthesise_and_play_Audio(mel, n_iter=100):\n",
    "    mel = reshape_mel_for_librosa(mel)\n",
    "    print(mel.shape)\n",
    "    audio = griffin_lim_synthesise(mel, n_iter)\n",
    "    return Audio(audio, rate=SAMPLING_RATE)"
   ]
  },
  {
   "cell_type": "markdown",
   "id": "6415644b",
   "metadata": {},
   "source": [
    "## listen to generated audio for each word"
   ]
  },
  {
   "cell_type": "code",
   "execution_count": 9,
   "id": "372bd11f",
   "metadata": {
    "vscode": {
     "languageId": "python"
    }
   },
   "outputs": [],
   "source": [
    "# NOTE these might sound very bad for two reasons\n",
    "# 1. stft -> mel spec is not lossless\n",
    "# 2. (speechbrain) ASR features are fewer bins (i.e. 40 rather than 80 mel spec bins)\n",
    "# but still good enough for sanity checking alignments!\n",
    "\n",
    "\n",
    "# generate wavs from mels and then concatenate them into a single wav separated by silences and play in notebook\n",
    "# NOTE this is not lossless, but still good enough for sanity checking alignments!\n",
    "def generate_wav_from_mel(mel, n_iter=100):\n",
    "    mel = reshape_mel_for_librosa(mel)\n",
    "    audio = griffin_lim_synthesise(mel, n_iter)\n",
    "    audio = audio.squeeze(0)\n",
    "    audio = audio.numpy()\n",
    "    return audio\n",
    "\n",
    "def generate_wav_from_mels_with_silences(mels, n_iter=100, silence_duration=0.5):\n",
    "    wavs = []\n",
    "    for mel in mels:\n",
    "        wavs.append(generate_wav_from_mel(mel, n_iter))\n",
    "        wavs.append(np.zeros(int(silence_duration * SAMPLING_RATE)))\n",
    "    wav = np.concatenate(wavs)\n",
    "    return wav\n",
    "\n",
    "def generate_wav_from_mels_with_silences_and_play(mels, n_iter=100, silence_duration=0.5):\n",
    "    wav = generate_wav_from_mels_with_silences(mels, n_iter, silence_duration)\n",
    "    return Audio(wav, rate=SAMPLING_RATE)\n"
   ]
  },
  {
   "cell_type": "code",
   "execution_count": 15,
   "id": "7ab53e3c",
   "metadata": {
    "vscode": {
     "languageId": "python"
    }
   },
   "outputs": [],
   "source": [
    "import matplotlib.pyplot as plt\n",
    "import librosa.display\n",
    "\n",
    "# plot mel spectrogram\n",
    "def plot_mel(mel):\n",
    "    mel = mel.detach().cpu().numpy()\n",
    "    mel = librosa.power_to_db(mel, ref=np.max)\n",
    "    plt.figure(figsize=(10, 4))\n",
    "    librosa.display.specshow(mel, x_axis=\"time\", y_axis=\"mel\", sr=SAMPLING_RATE, hop_length=HOP_LENGTH)\n",
    "    plt.colorbar(format=\"%+2.f dB\")\n",
    "    plt.show()"
   ]
  },
  {
   "cell_type": "code",
   "execution_count": null,
   "id": "5239278f",
   "metadata": {
    "vscode": {
     "languageId": "python"
    }
   },
   "outputs": [],
   "source": [
    "from fastpitch import models as fastpitch_model\n",
    "\n",
    "def load_vocoder(args, device):\n",
    "    \"\"\"Load HiFi-GAN vocoder from checkpoint\"\"\"\n",
    "    checkpoint_data = torch.load(args.hifigan)\n",
    "    vocoder_config = fastpitch_model.get_model_config('HiFi-GAN', args)\n",
    "    vocoder = fastpitch_model.get_model('HiFi-GAN', vocoder_config, device)\n",
    "    vocoder.load_state_dict(checkpoint_data['generator'])\n",
    "    vocoder.remove_weight_norm()\n",
    "    vocoder.eval()\n",
    "    return vocoder\n",
    "\n",
    "vocoder = load_vocoder(args, device)"
   ]
  },
  {
   "cell_type": "code",
   "execution_count": 16,
   "id": "07fb4d82",
   "metadata": {
    "vscode": {
     "languageId": "python"
    }
   },
   "outputs": [
    {
     "name": "stdout",
     "output_type": "stream",
     "text": [
      "secrete\n",
      "tensor([[ -6.3885,  -5.6114,  -5.0328,  ...,  -5.7186,  -6.0339,  -5.9477],\n",
      "        [ -6.9023,  -6.2450,  -5.5079,  ...,  -4.3837,  -4.3223,  -4.8648],\n",
      "        [ -9.3178,  -7.0049,  -5.5504,  ...,  -3.1397,  -3.1995,  -3.5578],\n",
      "        ...,\n",
      "        [ -7.8716,  -7.2103,  -6.9310,  ..., -10.2974, -10.3621, -10.0296],\n",
      "        [ -8.4859,  -7.0208,  -6.5747,  ..., -10.4048, -10.4245, -10.2675],\n",
      "        [ -8.0095,  -7.0117,  -6.8422,  ..., -10.2227, -10.6376, -10.6821]])\n"
     ]
    },
    {
     "data": {
      "image/png": "[encoded data removed]",
      "text/plain": [
       "<Figure size 1000x400 with 2 Axes>"
      ]
     },
     "metadata": {},
     "output_type": "display_data"
    },
    {
     "name": "stdout",
     "output_type": "stream",
     "text": [
      "torch.Size([1, 80, 49])\n"
     ]
    },
    {
     "data": {
      "text/html": [
       "\n",
       "                <audio  controls=\"controls\" >\n",
       "                    <source src=\"data:audio/wav;base64,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\" type=\"audio/wav\" />\n",
       "                    Your browser does not support the audio element.\n",
       "                </audio>\n",
       "              "
      ],
      "text/plain": [
       "<IPython.lib.display.Audio object>"
      ]
     },
     "metadata": {},
     "output_type": "display_data"
    },
    {
     "name": "stdout",
     "output_type": "stream",
     "text": [
      "secrete\n",
      "tensor([[ -8.0569,  -7.2965,  -6.5549,  ...,  -8.9195,  -9.1096,  -8.8437],\n",
      "        [ -7.4986,  -7.3319,  -6.0000,  ...,  -5.1960,  -5.3320,  -5.2952],\n",
      "        [ -7.1921,  -6.2792,  -5.7799,  ...,  -3.8230,  -3.3961,  -4.1982],\n",
      "        ...,\n",
      "        [-10.7512,  -7.1502,  -7.3660,  ...,  -7.9844,  -7.8760,  -8.4793],\n",
      "        [ -7.6466,  -7.8447,  -6.7955,  ...,  -5.5041,  -5.6101,  -5.6321],\n",
      "        [ -7.7908,  -7.1411,  -7.0233,  ...,  -5.3558,  -5.3907,  -5.7967]])\n"
     ]
    },
    {
     "data": {
      "image/png": "[encoded data removed]",
      "text/plain": [
       "<Figure size 1000x400 with 2 Axes>"
      ]
     },
     "metadata": {},
     "output_type": "display_data"
    },
    {
     "name": "stdout",
     "output_type": "stream",
     "text": [
      "torch.Size([1, 80, 54])\n"
     ]
    },
    {
     "data": {
      "text/html": [
       "\n",
       "                <audio  controls=\"controls\" >\n",
       "                    <source src=\"data:audio/wav;base64,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\" type=\"audio/wav\" />\n",
       "                    Your browser does not support the audio element.\n",
       "                </audio>\n",
       "              "
      ],
      "text/plain": [
       "<IPython.lib.display.Audio object>"
      ]
     },
     "metadata": {},
     "output_type": "display_data"
    }
   ],
   "source": [
    "NUM_TO_LISTEN = 10\n",
    "# NUM_TO_LISTEN = 20\n",
    "\n",
    "generate_all = True\n",
    "generated_wordtypes = set()\n",
    "skip_generated_wordtypes = True\n",
    "\n",
    "if generate_all:\n",
    "    # Generate all words in tuples\n",
    "    mels_to_gen = [t[0] for t in tuples[:NUM_TO_LISTEN]]\n",
    "    words_to_gen = [t[1] for t in tuples[:NUM_TO_LISTEN]]\n",
    "\n",
    "    # sort mels and words by alphabetical order of words\n",
    "    mels_to_gen, words_to_gen = zip(*sorted(zip(mels_to_gen, words_to_gen), key=lambda x: x[1]))\n",
    "\n",
    "    for mel, word in zip(mels_to_gen, words_to_gen):\n",
    "        if skip_generated_wordtypes and word in generated_wordtypes:\n",
    "            continue\n",
    "        else:\n",
    "            print(word)\n",
    "            print(mel)\n",
    "            plot_mel(mel)\n",
    "            display(synthesise_and_play_Audio(mel))"
   ]
  },
  {
   "cell_type": "code",
   "execution_count": null,
   "id": "819de895",
   "metadata": {
    "vscode": {
     "languageId": "python"
    }
   },
   "outputs": [],
   "source": [
    "generate_all = False\n",
    "if generate_all:\n",
    "    # Generate all words in tuples\n",
    "    mels_to_gen = [t[0] for t in tuples[:NUM_TO_LISTEN]]\n",
    "    words_to_gen = [t[1] for t in tuples[:NUM_TO_LISTEN]]\n",
    "\n",
    "    # sort mels and words by alphabetical order of words\n",
    "    mels_to_gen, words_to_gen = zip(*sorted(zip(mels_to_gen, words_to_gen), key=lambda x: x[1]))\n",
    "\n",
    "    print(\"Generating audio for following words:\", words_to_gen)\n",
    "    generate_wav_from_mels_with_silences_and_play(mels_to_gen, silence_duration=0.4)"
   ]
  },
  {
   "cell_type": "code",
   "execution_count": null,
   "id": "6a6e16a9",
   "metadata": {
    "vscode": {
     "languageId": "python"
    }
   },
   "outputs": [],
   "source": [
    "raise ValueError(\"STOP after sanity check mels)"
   ]
  },
  {
   "cell_type": "markdown",
   "id": "1884179c",
   "metadata": {},
   "source": [
    "# Filter poor alignments"
   ]
  },
  {
   "cell_type": "code",
   "execution_count": null,
   "id": "db75ca43",
   "metadata": {
    "vscode": {
     "languageId": "python"
    }
   },
   "outputs": [],
   "source": [
    "\"\"\" filter out alignments based on certain criteria \n",
    "- where ratio of frames to graphemes is too low\n",
    "- graphemes is too short\n",
    "\n",
    "some problematic ones:\n",
    "    - surpassed\n",
    "\n",
    "from the below code, seems that mel-to-graphemes ratio of \n",
    "    - > 15.0 includes many examples of poor alignments\n",
    "    - < \n",
    "\"\"\""
   ]
  },
  {
   "cell_type": "code",
   "execution_count": null,
   "id": "7f51d521",
   "metadata": {
    "vscode": {
     "languageId": "python"
    }
   },
   "outputs": [],
   "source": [
    "# get mel to graphemes ratio for each word token\n",
    "mel_to_graphemes_ratio = []\n",
    "for mel, word in tqdm(tuples):\n",
    "    mel_to_graphemes_ratio.append((mel, word, mel.shape[0] / len(word)))\n",
    "\n",
    "# sort by ratio\n",
    "mel_to_graphemes_ratio = sorted(mel_to_graphemes_ratio, key=lambda x: x[2])\n",
    "\n",
    "NUM_TO_LISTEN = 30\n",
    "\n",
    "# synthesise words with highest ratios (lowest to highest ratio)\n",
    "mels_to_gen = [t[0] for t in mel_to_graphemes_ratio[-NUM_TO_LISTEN:]]\n",
    "words_to_gen = [t[1] for t in mel_to_graphemes_ratio[-NUM_TO_LISTEN:]]\n",
    "ratios = [t[2] for t in mel_to_graphemes_ratio[-NUM_TO_LISTEN:]]\n",
    "\n",
    "print(\"Generating audio for following words:\", list(zip(words_to_gen, ratios)))\n",
    "generate_wav_from_mels_with_silences_and_play(mels_to_gen, silence_duration=0.4)"
   ]
  },
  {
   "cell_type": "code",
   "execution_count": null,
   "id": "6c18bff7",
   "metadata": {
    "vscode": {
     "languageId": "python"
    }
   },
   "outputs": [],
   "source": [
    "\n",
    "# synthesise words with lowest ratios (lowest to highest ratio)\n",
    "mels_to_gen = [t[0] for t in mel_to_graphemes_ratio[:NUM_TO_LISTEN]]\n",
    "words_to_gen = [t[1] for t in mel_to_graphemes_ratio[:NUM_TO_LISTEN]]\n",
    "ratios = [t[2] for t in mel_to_graphemes_ratio[:NUM_TO_LISTEN]]\n",
    "\n",
    "print(\"Generating audio for following words:\", list(zip(words_to_gen, ratios)))\n",
    "generate_wav_from_mels_with_silences_and_play(mels_to_gen, silence_duration=0.4)\n"
   ]
  },
  {
   "cell_type": "code",
   "execution_count": null,
   "id": "b4ad23a0",
   "metadata": {
    "vscode": {
     "languageId": "python"
    }
   },
   "outputs": [],
   "source": [
    "# calculate mel to graphemes ratio threshold for bottom 5% and top 5%\n",
    "# NOTE: this is not a good way to do this, since the distribution is not normal\n",
    "# but it's good enough for now\n",
    "bottom_5_percent = int(len(mel_to_graphemes_ratio) * 0.05)\n",
    "top_5_percent = int(len(mel_to_graphemes_ratio) * 0.95)\n",
    "\n",
    "bottom_5_percent_mel_to_graphemes_ratio = mel_to_graphemes_ratio[bottom_5_percent][2]\n",
    "top_5_percent_mel_to_graphemes_ratio = mel_to_graphemes_ratio[top_5_percent][2]\n",
    "\n",
    "print(f\"{bottom_5_percent_mel_to_graphemes_ratio=}\")\n",
    "print(f\"{top_5_percent_mel_to_graphemes_ratio=}\")\n",
    "print(\"Use these ratios to filter what speech reps get saved to disk!!!\")\n",
    "\n",
    "# filter out words with mel to graphemes ratio below threshold\n",
    "# NOTE: this is not a good way to do this, since the distribution is not normal\n",
    "# but it's good enough for now\n",
    "mels_to_gen = [t[0] for t in mel_to_graphemes_ratio if t[2] > bottom_5_percent_mel_to_graphemes_ratio]\n",
    "words_to_gen = [t[1] for t in mel_to_graphemes_ratio if t[2] > bottom_5_percent_mel_to_graphemes_ratio]\n",
    "ratios = [t[2] for t in mel_to_graphemes_ratio if t[2] > bottom_5_percent_mel_to_graphemes_ratio]\n"
   ]
  },
  {
   "cell_type": "code",
   "execution_count": null,
   "id": "cd935f97",
   "metadata": {
    "vscode": {
     "languageId": "python"
    }
   },
   "outputs": [],
   "source": [
    "raise ValueError(\"stop before creating datasplits\")"
   ]
  },
  {
   "cell_type": "markdown",
   "id": "5cd5c7db-860e-4daf-aa2e-52f6d6a12cff",
   "metadata": {
    "pycharm": {
     "name": "#%% md\n"
    }
   },
   "source": [
    "# create train,dev,test datasplits for training respeller\n",
    "\n",
    "We hold out WORDTYPES from training for the dev and test splits"
   ]
  },
  {
   "cell_type": "markdown",
   "id": "5e1d3344-f2ed-44f3-bf87-0f0b038c0421",
   "metadata": {
    "pycharm": {
     "name": "#%% md\n"
    }
   },
   "source": [
    "## Random"
   ]
  },
  {
   "cell_type": "code",
   "execution_count": null,
   "id": "835dc300-35a9-4f21-a5d3-584919022662",
   "metadata": {
    "pycharm": {
     "name": "#%%\n"
    },
    "vscode": {
     "languageId": "python"
    }
   },
   "outputs": [],
   "source": [
    "import random\n",
    "import json\n",
    "\n",
    "random.seed(1337)\n",
    "\n",
    "train_ratio, dev_ratio, test_ratio = [0.9, 0.05, 0.05]"
   ]
  },
  {
   "cell_type": "code",
   "execution_count": null,
   "id": "d7fc263e-51ae-4d31-b7c8-b5b75454bf24",
   "metadata": {
    "pycharm": {
     "name": "#%%\n"
    },
    "vscode": {
     "languageId": "python"
    }
   },
   "outputs": [],
   "source": [
    "# get oov wordtypes list (words that are not seen in tts training)\n",
    "oov_wordlist_path = '/home/s1785140/data/ljspeech_fastpitch/oov_list.json'\n",
    "with open(oov_wordlist_path, 'r') as f:\n",
    "    oovs_and_freqs = json.load(f)\n",
    "    \n",
    "all_wordtypes = set(oovs_and_freqs.keys())\n",
    "print(f'original before cleaning/sampling {len(all_wordtypes)=}')"
   ]
  },
  {
   "cell_type": "code",
   "execution_count": null,
   "id": "17c6d733-557d-49bf-8ef2-63983caba003",
   "metadata": {
    "pycharm": {
     "name": "#%%\n"
    },
    "vscode": {
     "languageId": "python"
    }
   },
   "outputs": [],
   "source": [
    "# clean/remove words that do not have speech reps\n",
    "words_with_aligned_mels = set(os.listdir(args.output_directory))\n",
    "words_no_mels = all_wordtypes - words_with_aligned_mels\n",
    "print(f'{len(words_no_mels)}=')"
   ]
  },
  {
   "cell_type": "code",
   "execution_count": null,
   "id": "a134aa68-17fb-425e-b5ee-0a4bd19407bd",
   "metadata": {
    "pycharm": {
     "name": "#%%\n"
    },
    "vscode": {
     "languageId": "python"
    }
   },
   "outputs": [],
   "source": [
    "print(\"list of words to be excluded from respeller training as they do not have mels (likely due to how normalisation is different between mfa and our own data processing):\")\n",
    "words_no_mels"
   ]
  },
  {
   "cell_type": "code",
   "execution_count": null,
   "id": "a4e5f5f6",
   "metadata": {
    "vscode": {
     "languageId": "python"
    }
   },
   "outputs": [],
   "source": [
    "# sort"
   ]
  },
  {
   "cell_type": "code",
   "execution_count": null,
   "id": "0cae348a-0333-484a-8245-383537c4877f",
   "metadata": {
    "pycharm": {
     "name": "#%%\n"
    },
    "vscode": {
     "languageId": "python"
    }
   },
   "outputs": [],
   "source": [
    "# remove these problematic words from respeller training dev test\n",
    "for w in words_no_mels:\n",
    "    del oovs_and_freqs[w]\n",
    "    \n",
    "all_wordtypes = set(oovs_and_freqs.keys())\n",
    "print(f'original after cleaning {len(all_wordtypes)=}')\n",
    "\n",
    "dev_N = int(dev_ratio * len(all_wordtypes))\n",
    "test_N = int(test_ratio * len(all_wordtypes))"
   ]
  },
  {
   "cell_type": "code",
   "execution_count": null,
   "id": "07ce65fc-a973-4fbc-8b82-e63dd0131ee8",
   "metadata": {
    "pycharm": {
     "name": "#%%\n"
    },
    "vscode": {
     "languageId": "python"
    }
   },
   "outputs": [],
   "source": [
    "def sample_and_remove(s: set, N: int):\n",
    "    \"\"\"sample N words from set s\n",
    "    then remove these words from the set\"\"\"\n",
    "    sampled = random.sample(s, N)\n",
    "    for item in sampled:\n",
    "        s.remove(item)\n",
    "    return set(sampled)"
   ]
  },
  {
   "cell_type": "code",
   "execution_count": null,
   "id": "5f3e4eed-a336-43c1-8634-8b54707034fd",
   "metadata": {
    "pycharm": {
     "name": "#%%\n"
    },
    "tags": [],
    "vscode": {
     "languageId": "python"
    }
   },
   "outputs": [],
   "source": [
    "#get dev and test splits\n",
    "oov_singletons = set(wordtype for wordtype, freq in oovs_and_freqs.items() if freq == 1)\n",
    "assert len(oov_singletons) > dev_N + test_N, \"not enough OOV singletons to create dev and test sets\" \n",
    "print(f'before sampling dev and test {len(oov_singletons)=}')\n",
    "\n",
    "dev = sample_and_remove(oov_singletons, dev_N)\n",
    "print(f'after sampling dev {len(oov_singletons)=}, {len(dev)=}')\n",
    "\n",
    "test = sample_and_remove(oov_singletons, test_N)\n",
    "print(f'after sampling test {len(oov_singletons)=}, {len(test)=}')"
   ]
  },
  {
   "cell_type": "code",
   "execution_count": null,
   "id": "a69f58b0-b7c7-4c54-9333-adee647b291b",
   "metadata": {
    "pycharm": {
     "name": "#%%\n"
    },
    "vscode": {
     "languageId": "python"
    }
   },
   "outputs": [],
   "source": [
    "list(dev)[:10]"
   ]
  },
  {
   "cell_type": "code",
   "execution_count": null,
   "id": "acb7c6d1-0c33-479d-8cbf-859fba31d7bd",
   "metadata": {
    "pycharm": {
     "name": "#%%\n"
    },
    "vscode": {
     "languageId": "python"
    }
   },
   "outputs": [],
   "source": [
    "list(test)[:10]"
   ]
  },
  {
   "cell_type": "code",
   "execution_count": null,
   "id": "01092fe6-fd9f-42db-a206-01097ef558e9",
   "metadata": {
    "pycharm": {
     "name": "#%%\n"
    },
    "tags": [],
    "vscode": {
     "languageId": "python"
    }
   },
   "outputs": [],
   "source": [
    "#get train split\n",
    "print(f'before removing dev and test wordtypes {len(all_wordtypes)=}')\n",
    "for word in dev | test:\n",
    "    all_wordtypes.remove(word)\n",
    "print(f'after removing dev and test wordtypes {len(all_wordtypes)=}')\n",
    "\n",
    "train = set(all_wordtypes)"
   ]
  },
  {
   "cell_type": "code",
   "execution_count": null,
   "id": "9aa0bce1-1baa-422d-a6eb-fb53e8d05964",
   "metadata": {
    "pycharm": {
     "name": "#%%\n"
    },
    "vscode": {
     "languageId": "python"
    }
   },
   "outputs": [],
   "source": [
    "# sanity checks\n",
    "assert len(dev.intersection(test)) == 0\n",
    "assert len(train.intersection(dev)) == 0\n",
    "assert len(train.intersection(test)) == 0\n",
    "print(\"Good! No overlapping words between train, dev, and test!!!\")"
   ]
  },
  {
   "cell_type": "code",
   "execution_count": null,
   "id": "455c0255-bf59-480b-9d83-6b43376125f0",
   "metadata": {
    "pycharm": {
     "name": "#%%\n"
    },
    "vscode": {
     "languageId": "python"
    }
   },
   "outputs": [],
   "source": [
    "# write to disk\n",
    "def save_wordlist(path, words):\n",
    "    with open(path, 'w') as f:\n",
    "        json.dump(sorted(list(words)), f, indent=4)\n",
    "        \n",
    "train_path = '/home/s1785140/data/ljspeech_fastpitch/respeller_train_words.json'\n",
    "dev_path = '/home/s1785140/data/ljspeech_fastpitch/respeller_dev_words.json'\n",
    "test_path = '/home/s1785140/data/ljspeech_fastpitch/respeller_test_words.json'\n",
    "\n",
    "save_wordlist(train_path, train)\n",
    "save_wordlist(dev_path, dev)\n",
    "save_wordlist(test_path, test)"
   ]
  },
  {
   "cell_type": "markdown",
   "id": "d61f2ebd-5d54-4e81-ae06-295add409a5e",
   "metadata": {
    "pycharm": {
     "name": "#%% md\n"
    }
   },
   "source": [
    "## G2P selection"
   ]
  },
  {
   "cell_type": "code",
   "execution_count": null,
   "id": "2c63569d-3f12-45c0-ba6a-a4379235d35f",
   "metadata": {
    "pycharm": {
     "name": "#%%\n"
    },
    "vscode": {
     "languageId": "python"
    }
   },
   "outputs": [],
   "source": []
  }
 ],
 "metadata": {
  "kernelspec": {
   "display_name": "Python 3 (ipykernel)",
   "language": "python",
   "name": "python3"
  },
  "language_info": {
   "codemirror_mode": {
    "name": "ipython",
    "version": 3
   },
   "file_extension": ".py",
   "mimetype": "text/x-python",
   "name": "python",
   "nbconvert_exporter": "python",
   "pygments_lexer": "ipython3",
   "version": "3.8.13"
  },
  "vscode": {
   "interpreter": {
    "hash": "2ed8b345ca459c03f8526b7bad908d345c967956aebabae0df909223b22f2255"
   }
  }
 },
 "nbformat": 4,
 "nbformat_minor": 5
}
