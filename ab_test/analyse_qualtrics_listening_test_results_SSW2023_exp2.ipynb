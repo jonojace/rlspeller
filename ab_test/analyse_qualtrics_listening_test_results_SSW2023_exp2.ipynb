{
 "cells": [
  {
   "cell_type": "code",
   "execution_count": 274,
   "id": "dbb39c45-26ef-45b3-bba6-3f90b5193f22",
   "metadata": {
    "tags": []
   },
   "outputs": [],
   "source": [
    "from collections import defaultdict, Counter\n",
    "import numpy as np\n",
    "import pandas as pd\n",
    "\n",
    "# conda activate is2022"
   ]
  },
  {
   "cell_type": "markdown",
   "id": "5c03ae50-99fa-4556-addd-918d0dabfc21",
   "metadata": {},
   "source": [
    "# copy listening test results to ilcc cluster\n",
    "\n",
    "```bash\n",
    "rsync -avu /Users/jonojace/Downloads/SSW2023\\ -\\ Experiment\\ 2_April\\ 14,\\ 2023_04.34.tsv s1785140@escience6.inf.ed.ac.uk:/home/s1785140/rlspeller/ab_test/\n",
    "```"
   ]
  },
  {
   "cell_type": "markdown",
   "id": "0f6c3607-9b91-4034-a43c-53b4079cbb4e",
   "metadata": {},
   "source": [
    "# import tsv results as dataframe\n"
   ]
  },
  {
   "cell_type": "code",
   "execution_count": 275,
   "id": "ac877ce7-d821-4521-a4a5-08feaaccf8a8",
   "metadata": {
    "tags": []
   },
   "outputs": [],
   "source": [
    "EXP_NUM = 2\n",
    "\n",
    "# data_path = \"SSW2023 - Experiment 1_April 7, 2023_07.02.tsv\" # exp1 results\n",
    "data_path = 'SSW2023 - Experiment 2_April 14, 2023_04.34.tsv' # exp2 results \n",
    "\n",
    "with open(data_path, encoding='UTF-16') as f:\n",
    "    df = pd.read_table(f)"
   ]
  },
  {
   "cell_type": "code",
   "execution_count": 276,
   "id": "d7b3be68-b0a5-429a-a33c-a722a682925c",
   "metadata": {
    "tags": []
   },
   "outputs": [
    {
     "data": {
      "text/plain": [
       "Index(['StartDate', 'EndDate', 'Status', 'IPAddress', 'Progress',\n",
       "       'Duration (in seconds)', 'Finished', 'RecordedDate', 'ResponseId',\n",
       "       'RecipientLastName',\n",
       "       ...\n",
       "       'Q13.92', 'Q13.93', 'Q13.94', 'Q13.95', 'Q13.96', 'Q13.97', 'Q13.98',\n",
       "       'Q13.99', 'Q13.100', 'Q14.1'],\n",
       "      dtype='object', length=1020)"
      ]
     },
     "execution_count": 276,
     "metadata": {},
     "output_type": "execute_result"
    }
   ],
   "source": [
    "df.columns"
   ]
  },
  {
   "cell_type": "markdown",
   "id": "b9bec48e-3e4f-4ed6-a6c3-39d187f2a3ab",
   "metadata": {},
   "source": [
    "## figure out which columns belong to each test\n",
    "\n",
    "Q1.1 means block 1 question 1 \n",
    "\n",
    "but tests start from around block 5 or 6\n",
    "\n",
    "so Q5.1 is block 5 (test 1), question 1"
   ]
  },
  {
   "cell_type": "code",
   "execution_count": 277,
   "id": "ac18d1c9-10f2-431d-afcf-56f0435d4f85",
   "metadata": {
    "tags": []
   },
   "outputs": [
    {
     "data": {
      "text/plain": [
       "{'Q4': 1,\n",
       " 'Q5': 2,\n",
       " 'Q6': 3,\n",
       " 'Q7': 4,\n",
       " 'Q8': 5,\n",
       " 'Q9': 6,\n",
       " 'Q10': 7,\n",
       " 'Q11': 8,\n",
       " 'Q12': 9,\n",
       " 'Q13': 10}"
      ]
     },
     "execution_count": 277,
     "metadata": {},
     "output_type": "execute_result"
    }
   ],
   "source": [
    "first_test_block_num = 4\n",
    "last_test_block_num = 13\n",
    "\n",
    "block2test = {f\"Q{block_num}\": 1+i for i, block_num in enumerate(range(first_test_block_num, last_test_block_num+1))}\n",
    "block2test"
   ]
  },
  {
   "cell_type": "markdown",
   "id": "028f50f8-0bfb-4444-8edd-f49551b17c20",
   "metadata": {},
   "source": [
    "# Aggregate answers from all tests and all questions in each test"
   ]
  },
  {
   "cell_type": "code",
   "execution_count": 278,
   "id": "5e63719c-3cd3-4f51-80c0-79dec7830cdb",
   "metadata": {},
   "outputs": [
    {
     "name": "stdout",
     "output_type": "stream",
     "text": [
      "*** processing Q4\n",
      "for test 1 there are 100 questions\n",
      "*** processing Q5\n",
      "for test 2 there are 100 questions\n",
      "*** processing Q6\n",
      "for test 3 there are 100 questions\n",
      "*** processing Q7\n",
      "for test 4 there are 100 questions\n",
      "*** processing Q8\n",
      "for test 5 there are 100 questions\n",
      "*** processing Q9\n",
      "for test 6 there are 100 questions\n",
      "*** processing Q10\n",
      "for test 7 there are 100 questions\n",
      "*** processing Q11\n",
      "for test 8 there are 100 questions\n",
      "*** processing Q12\n",
      "for test 9 there are 100 questions\n",
      "*** processing Q13\n",
      "for test 10 there are 100 questions\n"
     ]
    }
   ],
   "source": [
    "\"\"\"\n",
    "aggregated_answers = {\n",
    "    test1: {\n",
    "        question1: {\n",
    "            ans1: count_of_ans1,\n",
    "            ans2: count_of_ans2,\n",
    "            ans3: count_of_ans3,\n",
    "        }, \n",
    "        question2: {\n",
    "            ans1: count_of_ans1,\n",
    "            ans2: count_of_ans2,\n",
    "            ans3: count_of_ans3,\n",
    "        },\n",
    "        ...\n",
    "    }\n",
    "    test2: {\n",
    "        ...\n",
    "    }\n",
    "}\n",
    "\"\"\"\n",
    "QUESTIONS_PER_BLOCK = 100\n",
    "\n",
    "aggregated_answers = {}\n",
    "\n",
    "for block, test_num in block2test.items():\n",
    "    print(\"*** processing\", block)\n",
    "    cols = df.columns[df.columns.str.contains(block)]\n",
    "    print(f\"for test {test_num} there are {len(cols)} questions\")\n",
    "    assert len(cols) == QUESTIONS_PER_BLOCK\n",
    "    aggregated_answers[f'test{test_num}'] = {}\n",
    "    for col in cols:\n",
    "        question_num = int(col.split('.')[1])\n",
    "        aggregated_answers[f'test{test_num}'][f'question{question_num}'] = {}\n",
    "\n",
    "        # to_numeric will cause non numeric rows to get turned into NaN\n",
    "        ans2count = pd.to_numeric(df[col], errors='coerce', downcast='integer').dropna().astype(int).value_counts().to_dict()\n",
    "        for ans, count in ans2count.items():\n",
    "            aggregated_answers[f'test{test_num}'][f'question{question_num}'][ans] = count"
   ]
  },
  {
   "cell_type": "code",
   "execution_count": 279,
   "id": "38033929-568e-427d-a251-9e48dd9052e3",
   "metadata": {
    "tags": []
   },
   "outputs": [],
   "source": [
    "# aggregated_answers"
   ]
  },
  {
   "cell_type": "code",
   "execution_count": 280,
   "id": "44c1923f-76c7-4d82-b9f0-491512f5af04",
   "metadata": {},
   "outputs": [],
   "source": [
    "# NUM_ANS = 100 # per subtest \n",
    "\n",
    "# POSSIBLE_ANSWERS = [\n",
    "#     1, # sys1\n",
    "#     2, # sys2 \n",
    "#     3, # no preference\n",
    "# ]\n",
    "# participants_to_exclude = [\n",
    "#     \"jason fong\",\n",
    "#     \"Dan test\",\n",
    "#     \"not applicable\",\n",
    "# ]\n",
    "\n",
    "# def get_aggregated_answers(csv_path):\n",
    "#     # load data from each test from csvs\n",
    "#     with open(csv_path) as f:\n",
    "#         all_lines = f.readlines()\n",
    "\n",
    "#     # only get the lines referring to specific participants\n",
    "#     lines = [l for l in all_lines if \"anonymous,EN\" in l]\n",
    "    \n",
    "\n",
    "#     aggregated_answers = defaultdict(Counter) # aggregated over all participants, key is question num, value is dict of answers to answer counts\n",
    "#     \"\"\"\n",
    "#     aggregated_answers = {\n",
    "#         question1: {\n",
    "#             ans1: count_of_ans1,\n",
    "#             ans2: count_of_ans2,\n",
    "#             ans3: count_of_ans3,\n",
    "#         }, \n",
    "#         question2: {\n",
    "#             ans1: count_of_ans1,\n",
    "#             ans2: count_of_ans2,\n",
    "#             ans3: count_of_ans3,\n",
    "#         }, \n",
    "#         ...\n",
    "#     }\n",
    "#     \"\"\"\n",
    "    \n",
    "#     print(f\"after filtering found {len(lines)} participants in {csv_path}\")\n",
    "    \n",
    "#     for line in lines:\n",
    "#         # get the answers for each participant\n",
    "#         answers = line.split(\"anonymous,EN\")[-1].split(',')[3:-1] # upto but excluding last element as last question in survey is confirmation of working audio\n",
    "#         answers = [int(ans) for ans in answers]\n",
    "\n",
    "#         # assert that we have the correct number of answers and that they have the correct values\n",
    "#         assert len(answers) == NUM_ANS, len(answers)\n",
    "#         for ans in answers:\n",
    "#             assert ans in POSSIBLE_ANSWERS\n",
    "\n",
    "#         # aggregate the answer for this participant\n",
    "#         for question_num, ans in enumerate(answers, 1):\n",
    "#             aggregated_answers[question_num][ans] += 1\n",
    "            \n",
    "#     return aggregated_answers"
   ]
  },
  {
   "cell_type": "code",
   "execution_count": 281,
   "id": "e13fee96-ae64-4535-9634-007c5a8c95ca",
   "metadata": {
    "tags": []
   },
   "outputs": [],
   "source": [
    "# # create testnum + uttnum -> pair of conditions -> conditions mapping \n",
    "# ranges = [ # range of questions related to each condition pair\n",
    "#     (0,13), # for first condition pair\n",
    "#     (13,26), # for second condition pair\n",
    "#     (26,39), # etc.\n",
    "#     (39,52),\n",
    "#     (52,65),\n",
    "#     (65,78),\n",
    "# ]\n",
    "\n",
    "# testnum2conditionpairs = { \n",
    "#     1: ('A','B','F','C','E','D'), # test num to condition pairs \n",
    "#     2: ('B','C','A','D','F','E'), \n",
    "#     3: ('C','D','B','E','A','F'),\n",
    "#     4: ('D','E','C','F','B','A'),\n",
    "#     5: ('E','F','D','A','C','B'),\n",
    "#     6: ('F','A','E','B','D','C'),\n",
    "# }\n",
    "\n",
    "# letter2conditionpair = {\n",
    "#     'A': (\"sac_grapheme\", \"vanillatts_grapheme\"), # condition pair to system on left and system on right\n",
    "#     'B': (\"sac_speechcode_us\", \"vanillatts_grapheme\"),\n",
    "#     'C': (\"sac_speechcode_us\", \"sac_grapheme\"),\n",
    "#     'D': (\"sac_speechcode_scot\", \"vanillatts_grapheme\"),\n",
    "#     'E': (\"sac_speechcode_scot\", \"sac_grapheme\"),\n",
    "#     'F': (\"sac_speechcode_scot\", \"sac_speechcode_us\"),\n",
    "# }"
   ]
  },
  {
   "cell_type": "code",
   "execution_count": 282,
   "id": "084f02b1-27d5-428b-b8cc-6dc1ad21f828",
   "metadata": {
    "tags": []
   },
   "outputs": [],
   "source": [
    "import pickle \n",
    "\n",
    "# load from disk test config created by create_ab_url_lists_for_qualtreats.ipynb\n",
    "with open(f\"exp{EXP_NUM}_testconfig.pkl\", 'rb') as f:\n",
    "    testconfig = pickle.load(f)"
   ]
  },
  {
   "cell_type": "code",
   "execution_count": 283,
   "id": "c14c151e-df17-4cac-b72d-2b65cb3e6780",
   "metadata": {
    "tags": []
   },
   "outputs": [
    {
     "data": {
      "text/plain": [
       "[(0, 10),\n",
       " (10, 20),\n",
       " (20, 30),\n",
       " (30, 40),\n",
       " (40, 50),\n",
       " (50, 60),\n",
       " (60, 70),\n",
       " (70, 80),\n",
       " (80, 90),\n",
       " (90, 100)]"
      ]
     },
     "execution_count": 283,
     "metadata": {},
     "output_type": "execute_result"
    }
   ],
   "source": [
    "ranges = testconfig['ranges']\n",
    "ranges"
   ]
  },
  {
   "cell_type": "code",
   "execution_count": 284,
   "id": "72a2f02a-0657-40e1-a26d-42dc9be83243",
   "metadata": {
    "tags": []
   },
   "outputs": [
    {
     "data": {
      "text/plain": [
       "{1: ('A', 'B', 'C', 'D', 'E', 'F', 'G', 'H', 'I', 'J'),\n",
       " 2: ('B', 'C', 'D', 'E', 'F', 'G', 'H', 'I', 'J', 'A'),\n",
       " 3: ('C', 'D', 'E', 'F', 'G', 'H', 'I', 'J', 'A', 'B'),\n",
       " 4: ('D', 'E', 'F', 'G', 'H', 'I', 'J', 'A', 'B', 'C'),\n",
       " 5: ('E', 'F', 'G', 'H', 'I', 'J', 'A', 'B', 'C', 'D'),\n",
       " 6: ('F', 'G', 'H', 'I', 'J', 'A', 'B', 'C', 'D', 'E'),\n",
       " 7: ('G', 'H', 'I', 'J', 'A', 'B', 'C', 'D', 'E', 'F'),\n",
       " 8: ('H', 'I', 'J', 'A', 'B', 'C', 'D', 'E', 'F', 'G'),\n",
       " 9: ('I', 'J', 'A', 'B', 'C', 'D', 'E', 'F', 'G', 'H'),\n",
       " 10: ('J', 'A', 'B', 'C', 'D', 'E', 'F', 'G', 'H', 'I')}"
      ]
     },
     "execution_count": 284,
     "metadata": {},
     "output_type": "execute_result"
    }
   ],
   "source": [
    "testnum2conditionpairs = testconfig['testnum2letters']\n",
    "testnum2conditionpairs"
   ]
  },
  {
   "cell_type": "code",
   "execution_count": 285,
   "id": "8de85c24-7607-42d4-86f2-4ede9341202a",
   "metadata": {
    "tags": []
   },
   "outputs": [
    {
     "data": {
      "text/plain": [
       "{'A': ('asr_1000_best_acoustic_autorank_top1',\n",
       "  'asr_1000_best_acoustic_autorank_top5_filtered'),\n",
       " 'B': ('asr_1000_best_acoustic_autorank_top1', 'asr_1_best'),\n",
       " 'C': ('asr_1000_best_acoustic_autorank_top1', 'asr_5_best_acoustic_filtered'),\n",
       " 'D': ('asr_1000_best_acoustic_autorank_top1', 'original_spellings'),\n",
       " 'E': ('asr_1000_best_acoustic_autorank_top5_filtered', 'asr_1_best'),\n",
       " 'F': ('asr_1000_best_acoustic_autorank_top5_filtered',\n",
       "  'asr_5_best_acoustic_filtered'),\n",
       " 'G': ('asr_1000_best_acoustic_autorank_top5_filtered', 'original_spellings'),\n",
       " 'H': ('asr_1_best', 'asr_5_best_acoustic_filtered'),\n",
       " 'I': ('asr_1_best', 'original_spellings'),\n",
       " 'J': ('asr_5_best_acoustic_filtered', 'original_spellings')}"
      ]
     },
     "execution_count": 285,
     "metadata": {},
     "output_type": "execute_result"
    }
   ],
   "source": [
    "letter2conditionpair = testconfig['letter2systempair']\n",
    "letter2conditionpair = {letter: (sys_dict['sys1'], sys_dict['sys2']) for letter, sys_dict in letter2conditionpair.items()}\n",
    "letter2conditionpair"
   ]
  },
  {
   "cell_type": "code",
   "execution_count": 286,
   "id": "28fc82d5-a73d-4c82-ae95-652bfa15daa8",
   "metadata": {
    "tags": []
   },
   "outputs": [],
   "source": [
    "conditions = set()\n",
    "for cond1, cond2 in letter2conditionpair.values():\n",
    "    conditions.add(cond1)\n",
    "    conditions.add(cond2)\n",
    "conditions = list(sorted(conditions))"
   ]
  },
  {
   "cell_type": "code",
   "execution_count": 287,
   "id": "c9494cac-79aa-4c6e-9b6f-be0865ad8143",
   "metadata": {
    "tags": []
   },
   "outputs": [],
   "source": [
    "def get_conditions(test_num, utt_num):\n",
    "    # get the condition pair\n",
    "    for condition_pair_idx, (range_start, range_end) in enumerate(ranges):\n",
    "        conditionpairs = testnum2conditionpairs[test_num]\n",
    "        assert len(ranges) == len(conditionpairs)\n",
    "        if range_start < utt_num <= range_end:\n",
    "            condition_pair = conditionpairs[condition_pair_idx]\n",
    "            break\n",
    "    else:\n",
    "        raise ValueError(\"utt_num not in any range!!!\")\n",
    "\n",
    "    # get the conditions from the condition pair\n",
    "    cond1, cond2 = letter2conditionpair[condition_pair]\n",
    "    # print(\"test_num\", test_num, \"utt_num\", utt_num, \"condition_pair\", condition_pair,\"cond1\", cond1, \"cond2\", cond2)\n",
    "    \n",
    "    return cond1, cond2"
   ]
  },
  {
   "cell_type": "code",
   "execution_count": 288,
   "id": "651c99f7-aaff-414a-940a-2f3a275bb746",
   "metadata": {},
   "outputs": [],
   "source": [
    "def get_conditionpair2wincounts(aggregated_answers, # for a single test\n",
    "                                test_num):\n",
    "    \n",
    "    \n",
    "\n",
    "    conditionpair2wincounts = Counter()\n",
    "    \"\"\"\n",
    "    conditionpair2wincounts = {\n",
    "        (cond1,cond2): 5, # cond1 beats cond2 5 times\n",
    "        (cond2,cond1): 50 # cond2 beats cond1 50 times\n",
    "    }\n",
    "\n",
    "    NB ties/draws give 0.5 of a win to both conditions\n",
    "    \"\"\"\n",
    "    \n",
    "    conditionpair2numwins_and_numdraws = defaultdict(Counter)\n",
    "    \"\"\"\n",
    "    conditionpair2numwins_and_numdraws = {\n",
    "        (cond1,cond2): {\n",
    "            wins: 20\n",
    "            draws: 12\n",
    "        },\n",
    "        (cond2,cond1): {\n",
    "            wins: 5\n",
    "            draws: 4\n",
    "        } \n",
    "        ...\n",
    "    }\n",
    "    \"\"\"\n",
    "    \n",
    "\n",
    "    # add wins to systems based on aggregated_answers and the pair of conditions\n",
    "    for question, answer2counts in aggregated_answers.items():\n",
    "        question_num = int(question.split('question')[1])\n",
    "        \n",
    "        cond1, cond2 = get_conditions(test_num, question_num)\n",
    "        if 1 in answer2counts: # cond1 won\n",
    "            conditionpair2wincounts[(cond1, cond2)] += answer2counts[1]\n",
    "            conditionpair2numwins_and_numdraws[(cond1, cond2)]['wins'] += answer2counts[1]\n",
    "            conditionpair2numwins_and_numdraws[(cond2, cond1)]['losses'] += answer2counts[1]\n",
    "        if 2 in answer2counts: # cond2 won\n",
    "            conditionpair2wincounts[(cond2, cond1)] += answer2counts[2]\n",
    "            conditionpair2numwins_and_numdraws[(cond2, cond1)]['wins'] += answer2counts[2]\n",
    "            conditionpair2numwins_and_numdraws[(cond1, cond2)]['losses'] += answer2counts[2]\n",
    "        if 3 in answer2counts: # cond1 and 2 drew\n",
    "            conditionpair2wincounts[(cond1, cond2)] += 0.5 * answer2counts[3]\n",
    "            # print(\"conditionpair2wincounts[(cond1, cond2)]\", conditionpair2wincounts[(cond1, cond2)])\n",
    "            conditionpair2wincounts[(cond2, cond1)] += 0.5 * answer2counts[3]\n",
    "            conditionpair2numwins_and_numdraws[(cond1, cond2)]['draws'] += answer2counts[3]\n",
    "            conditionpair2numwins_and_numdraws[(cond2, cond1)]['draws'] += answer2counts[3]\n",
    "\n",
    "    return conditionpair2wincounts, conditionpair2numwins_and_numdraws"
   ]
  },
  {
   "cell_type": "code",
   "execution_count": 289,
   "id": "9d4bfc58-6ff2-4261-bb40-1abd6d21155b",
   "metadata": {
    "tags": []
   },
   "outputs": [],
   "source": [
    "# use testnum + uttnum -> pair of conditions -> conditions mapping \n",
    "# to assemble counts of how many times one condition beats another condition\n",
    "\n",
    "alltests_conditionpair2wincounts = Counter()\n",
    "alltests_conditionpair2numwins_and_numdraws = defaultdict(Counter)\n",
    "\n",
    "for test, questions in aggregated_answers.items():\n",
    "    test_num = int(test.split('test')[1])\n",
    "    conditionpair2wincounts, conditionpair2numwins_and_numdraws = get_conditionpair2wincounts(questions, test_num)\n",
    "    for conditionpair, wincount in conditionpair2wincounts.items():\n",
    "        alltests_conditionpair2wincounts[conditionpair] += wincount\n",
    "        \n",
    "    for conditionpair,numwins_and_numdraws in conditionpair2numwins_and_numdraws.items():\n",
    "        alltests_conditionpair2numwins_and_numdraws[conditionpair]['wins'] += numwins_and_numdraws['wins']\n",
    "        alltests_conditionpair2numwins_and_numdraws[conditionpair]['draws'] += numwins_and_numdraws['draws']\n",
    "        alltests_conditionpair2numwins_and_numdraws[conditionpair]['losses'] += numwins_and_numdraws['losses']\n",
    "\n",
    "# calc num observations        \n",
    "for conditionpair, numwins_and_numdraws in alltests_conditionpair2numwins_and_numdraws.items():\n",
    "    alltests_conditionpair2numwins_and_numdraws[conditionpair]['nobs'] = (\n",
    "        alltests_conditionpair2numwins_and_numdraws[conditionpair]['wins'] +\n",
    "        alltests_conditionpair2numwins_and_numdraws[conditionpair]['draws'] +\n",
    "        alltests_conditionpair2numwins_and_numdraws[conditionpair]['losses']\n",
    "    )\n",
    "\n"
   ]
  },
  {
   "cell_type": "code",
   "execution_count": 290,
   "id": "1d6c4fc3-606e-440c-b114-0d71ab316dd8",
   "metadata": {},
   "outputs": [
    {
     "data": {
      "text/plain": [
       "Counter({('asr_1000_best_acoustic_autorank_top1',\n",
       "          'asr_1000_best_acoustic_autorank_top5_filtered'): 122.0,\n",
       "         ('asr_1000_best_acoustic_autorank_top5_filtered',\n",
       "          'asr_1000_best_acoustic_autorank_top1'): 178.0,\n",
       "         ('asr_1000_best_acoustic_autorank_top1', 'asr_1_best'): 269.0,\n",
       "         ('asr_1000_best_acoustic_autorank_top1',\n",
       "          'asr_5_best_acoustic_filtered'): 231.5,\n",
       "         ('asr_5_best_acoustic_filtered',\n",
       "          'asr_1000_best_acoustic_autorank_top1'): 68.5,\n",
       "         ('asr_1000_best_acoustic_autorank_top1', 'original_spellings'): 214.0,\n",
       "         ('original_spellings', 'asr_1000_best_acoustic_autorank_top1'): 86.0,\n",
       "         ('asr_1000_best_acoustic_autorank_top5_filtered',\n",
       "          'asr_1_best'): 277.0,\n",
       "         ('asr_1_best', 'asr_1000_best_acoustic_autorank_top5_filtered'): 23.0,\n",
       "         ('asr_1000_best_acoustic_autorank_top5_filtered',\n",
       "          'asr_5_best_acoustic_filtered'): 249.5,\n",
       "         ('asr_5_best_acoustic_filtered',\n",
       "          'asr_1000_best_acoustic_autorank_top5_filtered'): 50.5,\n",
       "         ('asr_1000_best_acoustic_autorank_top5_filtered',\n",
       "          'original_spellings'): 235.0,\n",
       "         ('original_spellings',\n",
       "          'asr_1000_best_acoustic_autorank_top5_filtered'): 65.0,\n",
       "         ('asr_1_best', 'asr_5_best_acoustic_filtered'): 92.0,\n",
       "         ('asr_5_best_acoustic_filtered', 'asr_1_best'): 208.0,\n",
       "         ('original_spellings', 'asr_1_best'): 208.5,\n",
       "         ('asr_1_best', 'original_spellings'): 91.5,\n",
       "         ('asr_5_best_acoustic_filtered', 'original_spellings'): 148.5,\n",
       "         ('original_spellings', 'asr_5_best_acoustic_filtered'): 151.5,\n",
       "         ('asr_1_best', 'asr_1000_best_acoustic_autorank_top1'): 31.0})"
      ]
     },
     "execution_count": 290,
     "metadata": {},
     "output_type": "execute_result"
    }
   ],
   "source": [
    "# visualise this counts matrix\n",
    "alltests_conditionpair2wincounts"
   ]
  },
  {
   "cell_type": "code",
   "execution_count": 291,
   "id": "5095218c-5a11-41d7-aeec-160182dc2f09",
   "metadata": {
    "tags": []
   },
   "outputs": [
    {
     "data": {
      "text/plain": [
       "['asr_1000_best_acoustic_autorank_top1',\n",
       " 'asr_1000_best_acoustic_autorank_top5_filtered',\n",
       " 'asr_1_best',\n",
       " 'asr_5_best_acoustic_filtered',\n",
       " 'original_spellings']"
      ]
     },
     "execution_count": 291,
     "metadata": {},
     "output_type": "execute_result"
    }
   ],
   "source": [
    "conditions"
   ]
  },
  {
   "cell_type": "code",
   "execution_count": 292,
   "id": "83dec5a3-607a-41be-a83c-38ad011a5ddb",
   "metadata": {},
   "outputs": [],
   "source": [
    "def get_counts_matrix(conditionpair2wincounts, conditions):\n",
    "    num_conditions = len(conditions)\n",
    "    \n",
    "    # save counts matrix in format ready for R and bradley terry analysis (perfmod version of BTL)\n",
    "    c = np.zeros((num_conditions,num_conditions), dtype=float)\n",
    "\n",
    "    # description from https://github.com/EllaKaye/BradleyTerryScalable\n",
    "    # A matrix (either a base matrix or a class from the Matrix package), dimension K by K, \n",
    "    # where K is the number of items. The i, j-th element is wi**j, the number of times item i has beaten item j. \n",
    "    # Ties can be accounted for by assigning half a win (i.e. 0.5) to each item.\n",
    "    \n",
    "    cond2matrix_idx = {\n",
    "        condition: i for i, condition in enumerate(conditions)\n",
    "    }\n",
    "    \n",
    "    for (cond1, cond2), count in conditionpair2wincounts.items():\n",
    "        i, j = cond2matrix_idx[cond1], cond2matrix_idx[cond2]\n",
    "        c[i][j] = count\n",
    "    \n",
    "    return c"
   ]
  },
  {
   "cell_type": "code",
   "execution_count": 293,
   "id": "6e2b391b-53be-4c64-9be9-cd11ff710076",
   "metadata": {},
   "outputs": [
    {
     "data": {
      "text/plain": [
       "array([[  0. , 122. , 269. , 231.5, 214. ],\n",
       "       [178. ,   0. , 277. , 249.5, 235. ],\n",
       "       [ 31. ,  23. ,   0. ,  92. ,  91.5],\n",
       "       [ 68.5,  50.5, 208. ,   0. , 148.5],\n",
       "       [ 86. ,  65. , 208.5, 151.5,   0. ]])"
      ]
     },
     "execution_count": 293,
     "metadata": {},
     "output_type": "execute_result"
    }
   ],
   "source": [
    "c = get_counts_matrix(alltests_conditionpair2wincounts, conditions)\n",
    "c"
   ]
  },
  {
   "cell_type": "code",
   "execution_count": 294,
   "id": "40510666-a081-46f7-9c3f-78d185556741",
   "metadata": {},
   "outputs": [],
   "source": [
    "# create a pandas dataframe so we can label rows and columns\n",
    "column_names = conditions\n",
    "row_names = column_names.copy()\n",
    "df = pd.DataFrame(c, columns=column_names, index=row_names)"
   ]
  },
  {
   "cell_type": "code",
   "execution_count": 295,
   "id": "83f1c4fe-96b4-4821-bb61-8330ed489291",
   "metadata": {},
   "outputs": [
    {
     "data": {
      "text/html": [
       "<div>\n",
       "<style scoped>\n",
       "    .dataframe tbody tr th:only-of-type {\n",
       "        vertical-align: middle;\n",
       "    }\n",
       "\n",
       "    .dataframe tbody tr th {\n",
       "        vertical-align: top;\n",
       "    }\n",
       "\n",
       "    .dataframe thead th {\n",
       "        text-align: right;\n",
       "    }\n",
       "</style>\n",
       "<table border=\"1\" class=\"dataframe\">\n",
       "  <thead>\n",
       "    <tr style=\"text-align: right;\">\n",
       "      <th></th>\n",
       "      <th>asr_1000_best_acoustic_autorank_top1</th>\n",
       "      <th>asr_1000_best_acoustic_autorank_top5_filtered</th>\n",
       "      <th>asr_1_best</th>\n",
       "      <th>asr_5_best_acoustic_filtered</th>\n",
       "      <th>original_spellings</th>\n",
       "    </tr>\n",
       "  </thead>\n",
       "  <tbody>\n",
       "    <tr>\n",
       "      <th>asr_1000_best_acoustic_autorank_top1</th>\n",
       "      <td>0.0</td>\n",
       "      <td>122.0</td>\n",
       "      <td>269.0</td>\n",
       "      <td>231.5</td>\n",
       "      <td>214.0</td>\n",
       "    </tr>\n",
       "    <tr>\n",
       "      <th>asr_1000_best_acoustic_autorank_top5_filtered</th>\n",
       "      <td>178.0</td>\n",
       "      <td>0.0</td>\n",
       "      <td>277.0</td>\n",
       "      <td>249.5</td>\n",
       "      <td>235.0</td>\n",
       "    </tr>\n",
       "    <tr>\n",
       "      <th>asr_1_best</th>\n",
       "      <td>31.0</td>\n",
       "      <td>23.0</td>\n",
       "      <td>0.0</td>\n",
       "      <td>92.0</td>\n",
       "      <td>91.5</td>\n",
       "    </tr>\n",
       "    <tr>\n",
       "      <th>asr_5_best_acoustic_filtered</th>\n",
       "      <td>68.5</td>\n",
       "      <td>50.5</td>\n",
       "      <td>208.0</td>\n",
       "      <td>0.0</td>\n",
       "      <td>148.5</td>\n",
       "    </tr>\n",
       "    <tr>\n",
       "      <th>original_spellings</th>\n",
       "      <td>86.0</td>\n",
       "      <td>65.0</td>\n",
       "      <td>208.5</td>\n",
       "      <td>151.5</td>\n",
       "      <td>0.0</td>\n",
       "    </tr>\n",
       "  </tbody>\n",
       "</table>\n",
       "</div>"
      ],
      "text/plain": [
       "                                               asr_1000_best_acoustic_autorank_top1  \\\n",
       "asr_1000_best_acoustic_autorank_top1                                            0.0   \n",
       "asr_1000_best_acoustic_autorank_top5_filtered                                 178.0   \n",
       "asr_1_best                                                                     31.0   \n",
       "asr_5_best_acoustic_filtered                                                   68.5   \n",
       "original_spellings                                                             86.0   \n",
       "\n",
       "                                               asr_1000_best_acoustic_autorank_top5_filtered  \\\n",
       "asr_1000_best_acoustic_autorank_top1                                                   122.0   \n",
       "asr_1000_best_acoustic_autorank_top5_filtered                                            0.0   \n",
       "asr_1_best                                                                              23.0   \n",
       "asr_5_best_acoustic_filtered                                                            50.5   \n",
       "original_spellings                                                                      65.0   \n",
       "\n",
       "                                               asr_1_best  \\\n",
       "asr_1000_best_acoustic_autorank_top1                269.0   \n",
       "asr_1000_best_acoustic_autorank_top5_filtered       277.0   \n",
       "asr_1_best                                            0.0   \n",
       "asr_5_best_acoustic_filtered                        208.0   \n",
       "original_spellings                                  208.5   \n",
       "\n",
       "                                               asr_5_best_acoustic_filtered  \\\n",
       "asr_1000_best_acoustic_autorank_top1                                  231.5   \n",
       "asr_1000_best_acoustic_autorank_top5_filtered                         249.5   \n",
       "asr_1_best                                                             92.0   \n",
       "asr_5_best_acoustic_filtered                                            0.0   \n",
       "original_spellings                                                    151.5   \n",
       "\n",
       "                                               original_spellings  \n",
       "asr_1000_best_acoustic_autorank_top1                        214.0  \n",
       "asr_1000_best_acoustic_autorank_top5_filtered               235.0  \n",
       "asr_1_best                                                   91.5  \n",
       "asr_5_best_acoustic_filtered                                148.5  \n",
       "original_spellings                                            0.0  "
      ]
     },
     "execution_count": 295,
     "metadata": {},
     "output_type": "execute_result"
    }
   ],
   "source": [
    "df"
   ]
  },
  {
   "cell_type": "code",
   "execution_count": 296,
   "id": "a504c078-a98b-4fab-b844-07fa6ea24319",
   "metadata": {},
   "outputs": [
    {
     "data": {
      "text/plain": [
       "asr_1000_best_acoustic_autorank_top1             836.5\n",
       "asr_1000_best_acoustic_autorank_top5_filtered    939.5\n",
       "asr_1_best                                       237.5\n",
       "asr_5_best_acoustic_filtered                     475.5\n",
       "original_spellings                               511.0\n",
       "dtype: float64"
      ]
     },
     "execution_count": 296,
     "metadata": {},
     "output_type": "execute_result"
    }
   ],
   "source": [
    "# total wins for each condition \n",
    "# add col that sums the wins for each condition / row \n",
    "df.sum(axis=1)"
   ]
  },
  {
   "cell_type": "code",
   "execution_count": 297,
   "id": "73a95e1d-016f-47a9-a95c-52a3b949eddf",
   "metadata": {},
   "outputs": [
    {
     "data": {
      "text/plain": [
       "asr_1000_best_acoustic_autorank_top1             363.5\n",
       "asr_1000_best_acoustic_autorank_top5_filtered    260.5\n",
       "asr_1_best                                       962.5\n",
       "asr_5_best_acoustic_filtered                     724.5\n",
       "original_spellings                               689.0\n",
       "dtype: float64"
      ]
     },
     "execution_count": 297,
     "metadata": {},
     "output_type": "execute_result"
    }
   ],
   "source": [
    "# total losses for each condition\n",
    "df.sum(axis=0)"
   ]
  },
  {
   "cell_type": "markdown",
   "id": "ad29b998-ff46-42cb-bfc1-992d240f68d0",
   "metadata": {},
   "source": [
    "# Use python package choix to get bradley terry estimates of quality for our conditions"
   ]
  },
  {
   "cell_type": "code",
   "execution_count": 298,
   "id": "31250c2e-1506-4cd0-a6b5-b9f136e9bb01",
   "metadata": {},
   "outputs": [],
   "source": [
    "from choix import lsr_pairwise_dense, ilsr_pairwise_dense #non iterative and iterative versions\n",
    "import matplotlib.pyplot as plt"
   ]
  },
  {
   "cell_type": "code",
   "execution_count": 299,
   "id": "a3688e3f-4404-4bde-babb-906206c4eb12",
   "metadata": {},
   "outputs": [],
   "source": [
    "def rename_condition(condition):\n",
    "    mapping = {\n",
    "        # exp1\n",
    "        'hubert-discrete-centroid==Distance(Cosine)': 'hubert-centroid',\n",
    "        'hubert-discrete-code==Distance(Levenshtein)': 'hubert-code',\n",
    "        'hubert-raw==Distance(Cosine)': 'hubert-raw',\n",
    "        'hubert-soft==Distance(Cosine)': 'hubert-soft',\n",
    "        'mfcc==Distance(Euclidean)': 'mfcc',\n",
    "        \n",
    "        # exp2\n",
    "        'asr_1000_best_acoustic_autorank_top1': 'asr-acousticrank1',\n",
    "        'asr_1000_best_acoustic_autorank_top5_filtered': 'asr-acousticrank5',\n",
    "        'asr_1_best': 'asr-1best',\n",
    "        'asr_5_best_acoustic_filtered': 'asr-5best',\n",
    "        'original_spellings': 'origspell',\n",
    "    }\n",
    "    return mapping[condition]\n",
    "\n",
    "condition2colour = {\n",
    "    # exp1\n",
    "    'hubert-discrete-centroid==Distance(Cosine)': \"#6dda9d\",\n",
    "    'hubert-discrete-code==Distance(Levenshtein)': \"#e96860\",\n",
    "    'hubert-raw==Distance(Cosine)': \"#7ea9e5\",\n",
    "    'hubert-soft==Distance(Cosine)': \"#e46af0\",\n",
    "    'mfcc==Distance(Euclidean)': \"#FFA533\",\n",
    "    \n",
    "    # exp2\n",
    "    'asr_1000_best_acoustic_autorank_top1': \"#6dda9d\",\n",
    "    'asr_1000_best_acoustic_autorank_top5_filtered': \"#e96860\",\n",
    "    'asr_1_best': \"#7ea9e5\",\n",
    "    'asr_5_best_acoustic_filtered': \"#e46af0\",\n",
    "    'original_spellings': \"#FFA533\",\n",
    "}"
   ]
  },
  {
   "cell_type": "code",
   "execution_count": 300,
   "id": "92780a36-e8de-4e5d-a86a-69ee1b18323c",
   "metadata": {
    "tags": []
   },
   "outputs": [
    {
     "data": {
      "text/plain": [
       "['asr_1000_best_acoustic_autorank_top1',\n",
       " 'asr_1000_best_acoustic_autorank_top5_filtered',\n",
       " 'asr_1_best',\n",
       " 'asr_5_best_acoustic_filtered',\n",
       " 'original_spellings']"
      ]
     },
     "execution_count": 300,
     "metadata": {},
     "output_type": "execute_result"
    }
   ],
   "source": [
    "column_names"
   ]
  },
  {
   "cell_type": "code",
   "execution_count": 301,
   "id": "d7f1e2d2-c0f6-4b47-a1b8-e6db6af90aa9",
   "metadata": {},
   "outputs": [
    {
     "name": "stdout",
     "output_type": "stream",
     "text": [
      "[0.7635513259182091, 1.1345074740307564, -1.222742490826383, -0.3942624305186588, -0.28105387860392367]\n"
     ]
    },
    {
     "data": {
      "image/png": "[encoded data removed]",
      "text/plain": [
       "<Figure size 600x150 with 1 Axes>"
      ]
     },
     "metadata": {},
     "output_type": "display_data"
    }
   ],
   "source": [
    "def counts_matrix_to_bradley_terry_plot(c, savepath=\"\"):\n",
    "    islr_res = ilsr_pairwise_dense(c).tolist()\n",
    "    print(islr_res)\n",
    "\n",
    "    # list(zip(islr_res, column_names)) # unsorted\n",
    "    # # sort cols by result value to make legend easier to read\n",
    "    # sorted(zip(islr_res, column_names), reverse=True)\n",
    "\n",
    "    fig, ax = plt.subplots()\n",
    "    fig.set_size_inches(6,1.5)\n",
    "    # ax.scatter(x=islr_res, y=np.array([0,0,0,0]))\n",
    "    markers = ['^', 'o','X', 's', 'h']\n",
    "    # colours = ['#6dda9d', '#e96860', '#7ea9e5', '#e46af0', '#FFA533']\n",
    "    assert len(conditions) == len(markers)\n",
    "    for (x_val, condition), marker in zip(zip(islr_res, column_names), markers):\n",
    "    # for (x_val, label), marker, colour in zip(sorted(zip(islr_res, column_names), reverse=False), markers, colours):\n",
    "        ax.scatter(x=x_val, y=[0.125], marker=marker, label=rename_condition(condition), s=125, c=condition2colour[condition])\n",
    "\n",
    "    # ax.set_aspect(2)\n",
    "    ax.grid(True, which='both', axis=\"x\")\n",
    "\n",
    "    #############################################\n",
    "    # set the x-spine (see below for more info on `set_position`)\n",
    "    # ax.spines['left'].set_position('zero')\n",
    "    # turn off the right spine/ticks\n",
    "\n",
    "    ax.spines['left'].set_color('none')\n",
    "    ax.spines['right'].set_color('none')\n",
    "    # ax.yaxis.tick_left()\n",
    "    \n",
    "\n",
    "    #############################################\n",
    "    # set the y-spine\n",
    "    ax.spines['bottom'].set_position('zero')\n",
    "\n",
    "    #############################################\n",
    "    # turn off the top spine/ticks\n",
    "    ax.spines['top'].set_color('none')\n",
    "    ax.xaxis.tick_bottom()\n",
    "\n",
    "    ax.set_yticks([])\n",
    "    \n",
    "\n",
    "\n",
    "    #############################################\n",
    "    # limits\n",
    "    xlim = 1.3\n",
    "    xlim_offset = 0.01\n",
    "    plt.xlim([-xlim, xlim+xlim_offset])\n",
    "    plt.ylim([0, 0.25])\n",
    "    \n",
    "    #############################################\n",
    "    # set xticks\n",
    "    xtick_interval = 0.25\n",
    "    xtick_lim = 1.25\n",
    "    ax.set_xticks(np.arange(-xtick_lim, xtick_lim+xlim_offset, xtick_interval))\n",
    "\n",
    "    # x axis and y axis\n",
    "    ax.axvline(x=0, color='k')\n",
    "    ax.axhline(y=0, color='k')\n",
    "\n",
    "    legend = ax.legend(\n",
    "        # loc=\"upper left\", \n",
    "        bbox_to_anchor =(-0.03, 1.05),\n",
    "    )\n",
    "\n",
    "    legend.set_title(\"Conditions:\")\n",
    "    legend._legend_box.align = \"left\"\n",
    "\n",
    "    ax.set_xlabel(\"Condition Score\")\n",
    "    if savepath:\n",
    "        plt.savefig(savepath, bbox_inches='tight')\n",
    "        \n",
    "counts_matrix_to_bradley_terry_plot(c, savepath=f'plots/exp{EXP_NUM}_results.pdf')"
   ]
  },
  {
   "cell_type": "markdown",
   "id": "f5fd5ca5-4a7f-40c6-a7a5-aac09f29d69b",
   "metadata": {},
   "source": [
    "# do significance tests for each pair of conditions using the counts matrix"
   ]
  },
  {
   "cell_type": "markdown",
   "id": "7b0c53b8-2bcc-4585-9e82-af6be2fb44f5",
   "metadata": {},
   "source": [
    "## two sample z-test for proportions using python \n",
    "https://vitalflux.com/two-sample-z-test-for-proportions-formula-examples/#:~:text=Summary-,What%20is%20two%20proportion%20Z%2Dtest%3F,the%20two%20proportions%20are%20equal."
   ]
  },
  {
   "cell_type": "markdown",
   "id": "12b036dd-59f1-4e77-afc2-36cccfad2398",
   "metadata": {},
   "source": [
    "### figure how to do stat test"
   ]
  },
  {
   "cell_type": "code",
   "execution_count": 302,
   "id": "34132996-8e4d-4f8f-a405-a001d91b488e",
   "metadata": {
    "tags": []
   },
   "outputs": [],
   "source": [
    "from statsmodels.stats.proportion import proportions_ztest"
   ]
  },
  {
   "cell_type": "code",
   "execution_count": 303,
   "id": "51166f90-7d62-4828-8d99-197531792a0d",
   "metadata": {
    "tags": []
   },
   "outputs": [],
   "source": [
    "cond1 = conditions[0]\n",
    "cond2 = conditions[1]"
   ]
  },
  {
   "cell_type": "code",
   "execution_count": 304,
   "id": "434d0a12-122c-4e69-93d3-2263b5ae3cd6",
   "metadata": {},
   "outputs": [
    {
     "data": {
      "text/plain": [
       "Counter({'wins': 73, 'draws': 98, 'losses': 129, 'nobs': 300})"
      ]
     },
     "execution_count": 304,
     "metadata": {},
     "output_type": "execute_result"
    }
   ],
   "source": [
    "alltests_conditionpair2numwins_and_numdraws[(cond1, cond2)]"
   ]
  },
  {
   "cell_type": "code",
   "execution_count": 305,
   "id": "ce8d689a-ad3b-4382-9596-39938946520f",
   "metadata": {},
   "outputs": [
    {
     "data": {
      "text/plain": [
       "Counter({'wins': 129, 'draws': 98, 'losses': 73, 'nobs': 300})"
      ]
     },
     "execution_count": 305,
     "metadata": {},
     "output_type": "execute_result"
    }
   ],
   "source": [
    "alltests_conditionpair2numwins_and_numdraws[(cond2, cond1)]"
   ]
  },
  {
   "cell_type": "code",
   "execution_count": 306,
   "id": "71727c24-a195-47a4-9c46-e272ef37cfdf",
   "metadata": {
    "tags": []
   },
   "outputs": [
    {
     "name": "stdout",
     "output_type": "stream",
     "text": [
      "conditions asr_1000_best_acoustic_autorank_top1 and asr_1000_best_acoustic_autorank_top5_filtered are not significantly different\n",
      "with p-value == 1 and α == 0.05\n"
     ]
    }
   ],
   "source": [
    "α = 0.05\n",
    "\n",
    "proportions_ztest\n",
    "\n",
    "wins = [76, 117]\n",
    "nobs = [300, 300]\n",
    "\n",
    "stat, pval = proportions_ztest(count, nobs)\n",
    "\n",
    "if pval < α:\n",
    "    print(f\"!!!!! conditions {cond1} and {cond2} are significantly different !!!!!!\")\n",
    "else:\n",
    "    print(f\"conditions {cond1} and {cond2} are not significantly different\")\n",
    "print(f\"with p-value == {pval:.2g} and α == {α}\")"
   ]
  },
  {
   "cell_type": "markdown",
   "id": "cd00507f-68d6-4a32-85bd-04f42b7f13df",
   "metadata": {},
   "source": [
    "### proper for loop over all condition pairs"
   ]
  },
  {
   "cell_type": "code",
   "execution_count": 307,
   "id": "0386623f-328a-49e7-8cab-6190995de13a",
   "metadata": {},
   "outputs": [
    {
     "data": {
      "image/png": "[encoded data removed]",
      "text/plain": [
       "<Figure size 500x100 with 1 Axes>"
      ]
     },
     "metadata": {},
     "output_type": "display_data"
    },
    {
     "data": {
      "image/png": "[encoded data removed]",
      "text/plain": [
       "<Figure size 500x100 with 1 Axes>"
      ]
     },
     "metadata": {},
     "output_type": "display_data"
    },
    {
     "data": {
      "image/png": "[encoded data removed]",
      "text/plain": [
       "<Figure size 500x100 with 1 Axes>"
      ]
     },
     "metadata": {},
     "output_type": "display_data"
    },
    {
     "data": {
      "image/png": "[encoded data removed]",
      "text/plain": [
       "<Figure size 500x100 with 1 Axes>"
      ]
     },
     "metadata": {},
     "output_type": "display_data"
    },
    {
     "data": {
      "image/png": "[encoded data removed]",
      "text/plain": [
       "<Figure size 500x100 with 1 Axes>"
      ]
     },
     "metadata": {},
     "output_type": "display_data"
    },
    {
     "data": {
      "image/png": "[encoded data removed]",
      "text/plain": [
       "<Figure size 500x100 with 1 Axes>"
      ]
     },
     "metadata": {},
     "output_type": "display_data"
    },
    {
     "data": {
      "image/png": "[encoded data removed]",
      "text/plain": [
       "<Figure size 500x100 with 1 Axes>"
      ]
     },
     "metadata": {},
     "output_type": "display_data"
    },
    {
     "data": {
      "image/png": "[encoded data removed]",
      "text/plain": [
       "<Figure size 500x100 with 1 Axes>"
      ]
     },
     "metadata": {},
     "output_type": "display_data"
    },
    {
     "data": {
      "image/png": "[encoded data removed]",
      "text/plain": [
       "<Figure size 500x100 with 1 Axes>"
      ]
     },
     "metadata": {},
     "output_type": "display_data"
    },
    {
     "data": {
      "image/png": "[encoded data removed]",
      "text/plain": [
       "<Figure size 500x100 with 1 Axes>"
      ]
     },
     "metadata": {},
     "output_type": "display_data"
    }
   ],
   "source": [
    "ADD_DRAWS = False\n",
    "α = 0.05\n",
    "\n",
    "# keep set of seen conditions so we don't double print pairs of conditions\n",
    "seen_condition_pairs = set()\n",
    "\n",
    "printout = False\n",
    "\n",
    "for cond1, cond2 in alltests_conditionpair2numwins_and_numdraws:\n",
    "    if (cond1,cond2) in seen_condition_pairs or (cond2,cond1) in seen_condition_pairs:\n",
    "        continue\n",
    "    seen_condition_pairs.add((cond1,cond2))\n",
    "    seen_condition_pairs.add((cond2,cond1))\n",
    "    \n",
    "    cond1_win_proportion = alltests_conditionpair2numwins_and_numdraws[(cond1, cond2)]['wins'] / alltests_conditionpair2numwins_and_numdraws[(cond1, cond2)]['nobs']\n",
    "    draw_proportion = alltests_conditionpair2numwins_and_numdraws[(cond1, cond2)]['draws'] / alltests_conditionpair2numwins_and_numdraws[(cond1, cond2)]['nobs']\n",
    "    cond2_win_proportion = alltests_conditionpair2numwins_and_numdraws[(cond2, cond1)]['wins'] / alltests_conditionpair2numwins_and_numdraws[(cond2, cond1)]['nobs']\n",
    "    wins = [\n",
    "        alltests_conditionpair2numwins_and_numdraws[(cond1, cond2)]['wins'],\n",
    "        alltests_conditionpair2numwins_and_numdraws[(cond2, cond1)]['wins']\n",
    "    ]\n",
    "    nobs = [\n",
    "        alltests_conditionpair2numwins_and_numdraws[(cond1, cond2)]['nobs'],\n",
    "        alltests_conditionpair2numwins_and_numdraws[(cond2, cond1)]['nobs']\n",
    "    ]\n",
    "    \n",
    "    if ADD_DRAWS:\n",
    "        wins[0] += 0.5 * alltests_conditionpair2numwins_and_numdraws[(cond1, cond2)]['draws']\n",
    "        wins[1] += 0.5 * alltests_conditionpair2numwins_and_numdraws[(cond2, cond1)]['draws']\n",
    "    \n",
    "    _stat, pval = proportions_ztest(wins, nobs)\n",
    "    if printout:\n",
    "        if pval < α:\n",
    "            print(f\"!!!!! win proportions of {cond1} ({cond1_win_proportion:.2g}) and {cond2} ({cond2_win_proportion:.2g}) are significantly different !!!!!!\", end=\"\")\n",
    "        else:\n",
    "            print(f\"xxxxxx win proportions of {cond1} ({cond1_win_proportion:.2g}) and {cond2} ({cond2_win_proportion:.2g}) are not significantly different xxxxxx\", end=\"\")\n",
    "        print(f\" with p-value == {pval:.2g} and α == {α}\")\n",
    "    \n",
    "    # display matplotlib proportion graph\n",
    "    plt.figure(figsize=(5, 1))\n",
    "    plt.barh(y=0, height=0.1, width=cond1_win_proportion, color=condition2colour[cond1])\n",
    "    plt.barh(y=0, height=0.1, width=draw_proportion, left=cond1_win_proportion, color=\"#adadad\")\n",
    "    plt.barh(y=0, height=0.1, width=cond2_win_proportion, left=cond1_win_proportion + draw_proportion, color=condition2colour[cond2])\n",
    "    plt.tight_layout()\n",
    "    plt.xticks([],[])\n",
    "    plt.yticks([],[])\n",
    "    \n",
    "    # write text for proportions for A, no pref, and B onto the plot\n",
    "    def proportion_to_percent_label(proportion):\n",
    "        return f\"{proportion*100:.2g}%\"    \n",
    "    proportion_text_fontsize = 10\n",
    "    plt.text(cond1_win_proportion/2, 0, proportion_to_percent_label(cond1_win_proportion), ha=\"center\", va=\"center\", color=\"white\", fontsize=proportion_text_fontsize)\n",
    "    plt.text(cond1_win_proportion+draw_proportion/2 , 0, proportion_to_percent_label(draw_proportion), ha=\"center\", va=\"center\", color=\"white\", fontsize=proportion_text_fontsize)\n",
    "    plt.text(cond1_win_proportion+draw_proportion+cond2_win_proportion/2, 0, proportion_to_percent_label(cond2_win_proportion), ha=\"center\", va=\"center\", color=\"white\", fontsize=proportion_text_fontsize)\n",
    "    \n",
    "    # remove border of axes\n",
    "    ax = plt.gca() # Get the current axes\n",
    "    ax.spines['top'].set_visible(False)\n",
    "    ax.spines['right'].set_visible(False)\n",
    "    ax.spines['bottom'].set_visible(False)\n",
    "    ax.spines['left'].set_visible(False)\n",
    "    \n",
    "    # add title\n",
    "    add_significant_to_title = False\n",
    "    title = f\"{rename_condition(cond1)} vs. {rename_condition(cond2)}, p-value={pval:.2g}\"\n",
    "    if add_significant_to_title and pval >= α:\n",
    "        title += \" NOT SIGNIFICANT\"\n",
    "    title_on_right = True\n",
    "    if title_on_right:\n",
    "        ytick_label_xpos_adjust = -10\n",
    "        ax = plt.gca() # Get the current axes\n",
    "        ax.yaxis.tick_right() # Move the ticks to the right\n",
    "        ax.yaxis.set_ticks_position('none') # Show ticks on both sides\n",
    "        ax.set_yticks([0])\n",
    "        ax.set_yticklabels([title])\n",
    "        ax.tick_params(axis='y', which='both', pad=ytick_label_xpos_adjust)\n",
    "        # plt.text(cond1_win_proportion+draw_proportion+cond2_win_proportion, 0, title, ha=\"right\", va=\"center\", color=\"black\", fontsize=11)\n",
    "    else:\n",
    "        plt.title(title)\n",
    "        \n",
    "    savepath = f'plots/exp{EXP_NUM}__abproportion__{rename_condition(cond1)}_vs_{rename_condition(cond2)}.pdf'\n",
    "    plt.savefig(savepath, bbox_inches='tight')\n",
    "        \n",
    "    plt.show()\n",
    "    "
   ]
  },
  {
   "cell_type": "markdown",
   "id": "9ad2ac3f-4efb-43d4-a42a-8a335aebb028",
   "metadata": {},
   "source": [
    "# stop execution"
   ]
  },
  {
   "cell_type": "code",
   "execution_count": 308,
   "id": "2c1d90d9-06cb-4d7d-8b5d-d4172bfed4c4",
   "metadata": {
    "tags": []
   },
   "outputs": [
    {
     "ename": "ValueError",
     "evalue": "finish here!",
     "output_type": "error",
     "traceback": [
      "\u001b[0;31m---------------------------------------------------------------------------\u001b[0m",
      "\u001b[0;31mValueError\u001b[0m                                Traceback (most recent call last)",
      "Cell \u001b[0;32mIn[308], line 1\u001b[0m\n\u001b[0;32m----> 1\u001b[0m \u001b[38;5;28;01mraise\u001b[39;00m \u001b[38;5;167;01mValueError\u001b[39;00m(\u001b[38;5;124m\"\u001b[39m\u001b[38;5;124mfinish here!\u001b[39m\u001b[38;5;124m\"\u001b[39m)\n",
      "\u001b[0;31mValueError\u001b[0m: finish here!"
     ]
    }
   ],
   "source": [
    "raise ValueError(\"finish here!\")"
   ]
  },
  {
   "cell_type": "markdown",
   "id": "197d5c5b-ea44-4b89-b509-d6f5b7b61473",
   "metadata": {},
   "source": [
    "# analyse the speakers that are occur in each speech codes conditions SAC-us and SAC-scot"
   ]
  },
  {
   "cell_type": "code",
   "execution_count": null,
   "id": "f998ce96-729d-42b2-b5f7-e7b60eafe7b0",
   "metadata": {},
   "outputs": [],
   "source": [
    "# load url lists\n",
    "with open('url_lists/SAC-speechcode-input-us-fem.txt') as f:\n",
    "    urls = f.readlines()\n",
    "\n",
    "speakers = [url.split('-')[-1].split('_')[0] for url in urls]\n",
    "\n",
    "len(set(speakers))"
   ]
  },
  {
   "cell_type": "code",
   "execution_count": null,
   "id": "55a8285c-4abd-4f20-b656-bd5b50cdf130",
   "metadata": {},
   "outputs": [],
   "source": [
    "Counter(speakers)"
   ]
  },
  {
   "cell_type": "code",
   "execution_count": null,
   "id": "9d53f5b4-bf24-435e-b71e-2c68258070a6",
   "metadata": {},
   "outputs": [],
   "source": [
    "sum(Counter(speakers).values()) / len(set(speakers))"
   ]
  },
  {
   "cell_type": "code",
   "execution_count": null,
   "id": "93762b2f-f04e-40e2-86b2-e3a52c3b42fd",
   "metadata": {},
   "outputs": [],
   "source": [
    "# load url lists\n",
    "with open('url_lists/SAC-speechcode-input-scot-fem.txt') as f:\n",
    "    urls = f.readlines()\n",
    "\n",
    "speakers = [url.split('-')[-1].split('_')[0] for url in urls]\n",
    "\n",
    "len(set(speakers))"
   ]
  },
  {
   "cell_type": "code",
   "execution_count": null,
   "id": "e9829d9b-64a8-4e99-94ec-8f0a3b26f47b",
   "metadata": {},
   "outputs": [],
   "source": [
    "Counter(speakers)"
   ]
  },
  {
   "cell_type": "code",
   "execution_count": null,
   "id": "d9aa3b8b-9381-46f3-a608-c84771ab904f",
   "metadata": {},
   "outputs": [],
   "source": [
    "sum(Counter(speakers).values()) / len(set(speakers))"
   ]
  },
  {
   "cell_type": "markdown",
   "id": "5b317e97-81bd-43e2-a37b-9db4df96c270",
   "metadata": {},
   "source": [
    "# for paper writeup\n",
    "# find the words that are most preferred as US speech codes compare to Scottish speech codes"
   ]
  },
  {
   "cell_type": "code",
   "execution_count": null,
   "id": "5efcd88a-0d95-438d-902d-2b1828264286",
   "metadata": {
    "tags": []
   },
   "outputs": [],
   "source": [
    "all_words = []\n",
    "\n",
    "for test_num, path in enumerate(paths,1):\n",
    "\n",
    "    agg_ans = get_aggregated_answers(path)\n",
    "\n",
    "    with open(f\"url_lists_ab/ab-urls-test{test_num}_targetwords.txt\") as f:\n",
    "        lines = f.readlines()\n",
    "\n",
    "    words = [line.rstrip().split()[-1] for line in lines]\n",
    "\n",
    "    conditions = []\n",
    "    for utt_num in range(1,79):\n",
    "        cond1, cond2 = get_conditions(test_num, utt_num)\n",
    "        conditions.append((cond1,cond2))\n",
    "        # word = words[utt_num-1]\n",
    "\n",
    "    for i, (condition, word) in enumerate(zip(conditions, words), 1):\n",
    "        if condition == ('sac_speechcode_scot', 'sac_speechcode_us') or condition == ('sac_speechcode_us', 'sac_speechcode_scot'):\n",
    "            counter = agg_ans[i]\n",
    "            assert sum(counter.values()) == NUM_PARTICIPANTS_PER_TEST\n",
    "            # print(i, condition, word, counter)\n",
    "            all_words.append((i, condition, word, counter))\n",
    "\n",
    "all_words = sorted(all_words, key=lambda x: x[0])\n",
    "            \n",
    "for x in all_words:\n",
    "    print(x)"
   ]
  },
  {
   "cell_type": "code",
   "execution_count": null,
   "id": "d4815205-5112-4219-aa0e-f929a4359a22",
   "metadata": {
    "tags": []
   },
   "outputs": [],
   "source": [
    "# sort by times us speech codes win most\n",
    "# 2 is us speech codes\n",
    "h_barchart_data = []\n",
    "num_wins2count = Counter()\n",
    "# sort_fn = lambda x:x[3][2] * 100 + x[3][3] #sort by us then by no preference\n",
    "sort_fn = lambda x:(x[3][2] / (x[3][1]+1)) #sort by us / scot ratio (+1 to stop division by 0 error)\n",
    "for i, condition, word, counter in sorted(all_words, key=sort_fn, reverse=True): # lambda x:x[3][2] * 100 + x[3][3] because we want to rank first by 2 (us wins) then by 3 (no preference)\n",
    "    h_barchart_data.append(counter)\n",
    "    print(i, word, counter)\n",
    "    num_wins = counter[2] # 2 is us speech codes\n",
    "    num_wins2count[num_wins] += 1\n",
    "\n",
    "us_wins_counts = sorted(num_wins2count.items(), key=lambda x: x[0], reverse=True)\n",
    "    \n",
    "print(us_wins_counts)"
   ]
  },
  {
   "cell_type": "code",
   "execution_count": null,
   "id": "e82b5fba-63b5-499a-8a63-6fe7ac04bc56",
   "metadata": {
    "tags": []
   },
   "outputs": [],
   "source": [
    "# sort by times scot speech codes win most (1 is scottish speech codes)\n",
    "num_wins2count = Counter()\n",
    "h_barchart_data_scot = []\n",
    "sort_fn = lambda x:x[3][1] * 100 + x[3][3] #sort by scot then by no preference\n",
    "for i, condition, word, counter in sorted(all_words, key=sort_fn, reverse=True):\n",
    "    h_barchart_data_scot.append(counter)\n",
    "    print(i, word, counter)\n",
    "    num_wins = counter[1] # 1 is scot speech codes\n",
    "    num_wins2count[num_wins] += 1\n",
    "    \n",
    "scot_wins_counts = sorted(num_wins2count.items(), key=lambda x: x[0], reverse=True)\n",
    "    \n",
    "print(scot_wins_counts)"
   ]
  },
  {
   "cell_type": "markdown",
   "id": "da343bc6-d05f-44f7-8ec7-8fae3c966459",
   "metadata": {},
   "source": [
    "# make plot comparing times SAC us wins vs SAC scot"
   ]
  },
  {
   "cell_type": "code",
   "execution_count": null,
   "id": "b4f87f8a-6c56-4e57-b6df-c507223f9984",
   "metadata": {
    "tags": []
   },
   "outputs": [],
   "source": [
    "us_wins_counts"
   ]
  },
  {
   "cell_type": "code",
   "execution_count": null,
   "id": "2518141d-d37a-4ae8-b3fd-50e84a4b1c18",
   "metadata": {},
   "outputs": [],
   "source": [
    "scot_wins_counts"
   ]
  },
  {
   "cell_type": "code",
   "execution_count": null,
   "id": "eb781f61-7bd8-4167-9cd8-ce93f55bdf17",
   "metadata": {},
   "outputs": [],
   "source": [
    "x,y = zip(*us_wins_counts)"
   ]
  },
  {
   "cell_type": "code",
   "execution_count": null,
   "id": "e6c4f8d7-4836-45df-a253-527a7bad4a00",
   "metadata": {},
   "outputs": [],
   "source": [
    "x"
   ]
  },
  {
   "cell_type": "code",
   "execution_count": null,
   "id": "8b79592c-cac9-44ff-b684-a241fb9118b7",
   "metadata": {},
   "outputs": [],
   "source": [
    "y"
   ]
  },
  {
   "cell_type": "code",
   "execution_count": null,
   "id": "df316930-2793-4a99-b8a5-4bcbd71e483f",
   "metadata": {},
   "outputs": [],
   "source": [
    "len(y)"
   ]
  },
  {
   "cell_type": "code",
   "execution_count": null,
   "id": "b0c17aeb-e63d-4893-a18f-3eb430b31029",
   "metadata": {},
   "outputs": [],
   "source": [
    "sum(y[:7])"
   ]
  },
  {
   "cell_type": "code",
   "execution_count": null,
   "id": "d2d5d468-5710-4029-a7cb-35d4520ba658",
   "metadata": {},
   "outputs": [],
   "source": [
    "us_wins_counts\n",
    "x,y = zip(*us_wins_counts)\n",
    "plt.plot(x,y, label=\"US\")\n",
    "x,y = zip(*scot_wins_counts)\n",
    "plt.plot(x,y, label=\"SCOT\")\n",
    "plt.legend()"
   ]
  },
  {
   "cell_type": "code",
   "execution_count": null,
   "id": "82e265cd-6b3f-43be-96b8-e130f0c0b934",
   "metadata": {},
   "outputs": [],
   "source": [
    "category_names = ['Strongly disagree', 'Disagree',\n",
    "                  'Neither agree nor disagree', 'Agree', 'Strongly agree']\n",
    "results = {\n",
    "    'Question 1': [10, 15, 17, 32, 26],\n",
    "    'Question 2': [26, 22, 29, 10, 13],\n",
    "    'Question 3': [35, 37, 7, 2, 19],\n",
    "    'Question 4': [32, 11, 9, 15, 33],\n",
    "    'Question 5': [21, 29, 5, 5, 40],\n",
    "    'Question 6': [8, 19, 5, 30, 38]\n",
    "}\n",
    "\n",
    "\n",
    "def survey(results, category_names):\n",
    "    \"\"\"\n",
    "    Parameters\n",
    "    ----------\n",
    "    results : dict\n",
    "        A mapping from question labels to a list of answers per category.\n",
    "        It is assumed all lists contain the same number of entries and that\n",
    "        it matches the length of *category_names*.\n",
    "    category_names : list of str\n",
    "        The category labels.\n",
    "    \"\"\"\n",
    "    labels = list(results.keys())\n",
    "    data = np.array(list(results.values()))\n",
    "    data_cum = data.cumsum(axis=1)\n",
    "    category_colors = plt.colormaps['RdYlGn'](\n",
    "        np.linspace(0.15, 0.85, data.shape[1]))\n",
    "\n",
    "    fig, ax = plt.subplots(figsize=(9.2, 5))\n",
    "    ax.invert_yaxis()\n",
    "    ax.xaxis.set_visible(False)\n",
    "    ax.set_xlim(0, np.sum(data, axis=1).max())\n",
    "\n",
    "    for i, (colname, color) in enumerate(zip(category_names, category_colors)):\n",
    "        print(i, colname, labels)\n",
    "        widths = data[:, i]\n",
    "        starts = data_cum[:, i] - widths\n",
    "        rects = ax.barh(labels, widths, left=starts, height=1,\n",
    "                        label=colname, color=color)\n",
    "\n",
    "        r, g, b, _ = color\n",
    "        text_color = 'white' if r * g * b < 0.5 else 'darkgrey'\n",
    "        ax.bar_label(rects, label_type='center', color=text_color)\n",
    "    ax.legend(ncol=len(category_names), bbox_to_anchor=(0, 1),\n",
    "              loc='lower left', fontsize='small')\n",
    "    \n",
    "    # turn off y axis labels\n",
    "    ax.axes.yaxis.set_visible(False)\n",
    "\n",
    "    return fig, ax\n",
    "\n",
    "\n",
    "survey(results, category_names)\n",
    "plt.show()"
   ]
  },
  {
   "cell_type": "code",
   "execution_count": null,
   "id": "0de37b02-6f6c-4016-b79f-ce1b5c61e10c",
   "metadata": {
    "tags": []
   },
   "outputs": [],
   "source": [
    "def get_barwidths_from_counter(counter):\n",
    "    # US\n",
    "    if 2 in counter: \n",
    "        left = counter[2]\n",
    "    else:\n",
    "        left = 0\n",
    "    # no pref\n",
    "    if 3 in counter: \n",
    "        middle = counter[3]\n",
    "    else:\n",
    "        middle = 0\n",
    "    # Scot\n",
    "    if 1 in counter: \n",
    "        right = counter[1]\n",
    "    else:\n",
    "        right = 0\n",
    "    return [left, middle, right]"
   ]
  },
  {
   "cell_type": "code",
   "execution_count": null,
   "id": "09e00440-0b31-41bd-8029-6aa980b7a051",
   "metadata": {},
   "outputs": [],
   "source": [
    "def get_barwidths_from_counter_scot(counter):\n",
    "    # US\n",
    "    if 1 in counter: \n",
    "        left = counter[1]\n",
    "    else:\n",
    "        left = 0\n",
    "    # no pref\n",
    "    if 3 in counter: \n",
    "        middle = counter[3]\n",
    "    else:\n",
    "        middle = 0\n",
    "    # Scot\n",
    "    if 2 in counter: \n",
    "        right = counter[2]\n",
    "    else:\n",
    "        right = 0\n",
    "    return [left, middle, right]"
   ]
  },
  {
   "cell_type": "code",
   "execution_count": null,
   "id": "6d06cb86-7b8b-42a7-9b0b-c3de30ec2f81",
   "metadata": {
    "tags": []
   },
   "outputs": [],
   "source": [
    "h_barchart_data"
   ]
  },
  {
   "cell_type": "code",
   "execution_count": null,
   "id": "7c9a012f-f4a4-4605-87cf-6d4cb62b3ba6",
   "metadata": {},
   "outputs": [],
   "source": [
    "category_names = ['us', 'no pref', 'scot']\n",
    "\n",
    "results = {f'Question {i}': get_barwidths_from_counter(counter) for i, counter in enumerate(h_barchart_data,1)}\n",
    "\n",
    "\n",
    "def survey(results, category_names):\n",
    "    \"\"\"\n",
    "    Parameters\n",
    "    ----------\n",
    "    results : dict\n",
    "        A mapping from question labels to a list of answers per category.\n",
    "        It is assumed all lists contain the same number of entries and that\n",
    "        it matches the length of *category_names*.\n",
    "    category_names : list of str\n",
    "        The category labels.\n",
    "    \"\"\"\n",
    "    labels = list(results.keys())\n",
    "    data = np.array(list(results.values()))\n",
    "    data_cum = data.cumsum(axis=1)\n",
    "    category_colors = plt.colormaps['RdYlGn'](\n",
    "        np.linspace(0.15, 0.85, data.shape[1]))\n",
    "\n",
    "    fig, ax = plt.subplots(figsize=(20, 10))\n",
    "    ax.invert_yaxis()\n",
    "    ax.xaxis.set_visible(False)\n",
    "    ax.set_xlim(0, np.sum(data, axis=1).max())\n",
    "\n",
    "    for i, (colname, color) in enumerate(zip(category_names, category_colors)):\n",
    "        print(i, colname, labels)\n",
    "        widths = data[:, i]\n",
    "        starts = data_cum[:, i] - widths\n",
    "        rects = ax.barh(labels, widths, left=starts, height=1,\n",
    "                        label=colname, color=color)\n",
    "\n",
    "        r, g, b, _ = color\n",
    "        text_color = 'white' if r * g * b < 0.5 else 'darkgrey'\n",
    "        # ax.bar_label(rects, label_type='center', color=text_color)\n",
    "    ax.legend(ncol=len(category_names), bbox_to_anchor=(0, 1),\n",
    "              loc='lower left', fontsize='small')\n",
    "    \n",
    "    # turn off y axis labels\n",
    "    ax.axes.yaxis.set_visible(False)\n",
    "\n",
    "    return fig, ax\n",
    "\n",
    "\n",
    "survey(results, category_names)\n",
    "plt.show()"
   ]
  },
  {
   "cell_type": "code",
   "execution_count": null,
   "id": "7de45afc-d69a-45ed-a942-5ed55b24505b",
   "metadata": {
    "tags": []
   },
   "outputs": [],
   "source": [
    "category_names = ['scot', 'no pref', 'us']\n",
    "\n",
    "results = {f'Question {i}': get_barwidths_from_counter_scot(counter) for i, counter in enumerate(h_barchart_data_scot,1)}\n",
    "\n",
    "\n",
    "def survey(results, category_names):\n",
    "    \"\"\"\n",
    "    Parameters\n",
    "    ----------\n",
    "    results : dict\n",
    "        A mapping from question labels to a list of answers per category.\n",
    "        It is assumed all lists contain the same number of entries and that\n",
    "        it matches the length of *category_names*.\n",
    "    category_names : list of str\n",
    "        The category labels.\n",
    "    \"\"\"\n",
    "    labels = list(results.keys())\n",
    "    data = np.array(list(results.values()))\n",
    "    data_cum = data.cumsum(axis=1)\n",
    "    category_colors = plt.colormaps['RdYlGn'](\n",
    "        np.linspace(0.15, 0.85, data.shape[1]))\n",
    "\n",
    "    fig, ax = plt.subplots(figsize=(20, 10))\n",
    "    ax.invert_yaxis()\n",
    "    ax.xaxis.set_visible(False)\n",
    "    ax.set_xlim(0, np.sum(data, axis=1).max())\n",
    "\n",
    "    for i, (colname, color) in enumerate(zip(category_names, category_colors)):\n",
    "        print(i, colname, labels)\n",
    "        widths = data[:, i]\n",
    "        starts = data_cum[:, i] - widths\n",
    "        rects = ax.barh(labels, widths, left=starts, height=1,\n",
    "                        label=colname, color=color)\n",
    "\n",
    "        r, g, b, _ = color\n",
    "        text_color = 'white' if r * g * b < 0.5 else 'darkgrey'\n",
    "        # ax.bar_label(rects, label_type='center', color=text_color)\n",
    "    ax.legend(ncol=len(category_names), bbox_to_anchor=(0, 1),\n",
    "              loc='lower left', fontsize='small')\n",
    "    \n",
    "    # turn off y axis labels\n",
    "    ax.axes.yaxis.set_visible(False)\n",
    "\n",
    "    return fig, ax\n",
    "\n",
    "\n",
    "survey(results, category_names)\n",
    "plt.show()"
   ]
  },
  {
   "cell_type": "code",
   "execution_count": null,
   "id": "6c6f7796-e639-44d8-9baa-83ce15141c53",
   "metadata": {},
   "outputs": [],
   "source": []
  }
 ],
 "metadata": {
  "kernelspec": {
   "display_name": "Python 3 (ipykernel)",
   "language": "python",
   "name": "python3"
  },
  "language_info": {
   "codemirror_mode": {
    "name": "ipython",
    "version": 3
   },
   "file_extension": ".py",
   "mimetype": "text/x-python",
   "name": "python",
   "nbconvert_exporter": "python",
   "pygments_lexer": "ipython3",
   "version": "3.8.16"
  }
 },
 "nbformat": 4,
 "nbformat_minor": 5
}
