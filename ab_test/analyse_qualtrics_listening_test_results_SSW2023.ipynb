{
 "cells": [
  {
   "cell_type": "code",
   "execution_count": 192,
   "id": "dbb39c45-26ef-45b3-bba6-3f90b5193f22",
   "metadata": {
    "tags": []
   },
   "outputs": [],
   "source": [
    "from collections import defaultdict, Counter\n",
    "import numpy as np\n",
    "import pandas as pd\n",
    "\n",
    "# conda activate is2022"
   ]
  },
  {
   "cell_type": "markdown",
   "id": "5c03ae50-99fa-4556-addd-918d0dabfc21",
   "metadata": {},
   "source": [
    "# copy listening test results to ilcc cluster\n",
    "\n",
    "```bash\n",
    "rsync -avu /Users/jonojace/Downloads/SSW2023\\ -\\ Experiment\\ 1_April\\ 5,\\ 2023_09.09.tsv s1785140@escience6.inf.ed.ac.uk:/home/s1785140/rlspeller/ab_test/\n",
    "```"
   ]
  },
  {
   "cell_type": "markdown",
   "id": "0f6c3607-9b91-4034-a43c-53b4079cbb4e",
   "metadata": {},
   "source": [
    "# import tsv results as dataframe\n"
   ]
  },
  {
   "cell_type": "code",
   "execution_count": 193,
   "id": "ac877ce7-d821-4521-a4a5-08feaaccf8a8",
   "metadata": {
    "tags": []
   },
   "outputs": [],
   "source": [
    "with open('SSW2023 - Experiment 1_April 5, 2023_09.09.tsv',encoding='UTF-16') as f:\n",
    "    df = pd.read_table(f)"
   ]
  },
  {
   "cell_type": "code",
   "execution_count": 194,
   "id": "d7b3be68-b0a5-429a-a33c-a722a682925c",
   "metadata": {
    "tags": []
   },
   "outputs": [
    {
     "data": {
      "text/plain": [
       "Index(['StartDate', 'EndDate', 'Status', 'IPAddress', 'Progress',\n",
       "       'Duration (in seconds)', 'Finished', 'RecordedDate', 'ResponseId',\n",
       "       'RecipientLastName',\n",
       "       ...\n",
       "       'Q6.91', 'Q6.92', 'Q6.93', 'Q6.94', 'Q6.95', 'Q6.96', 'Q6.97', 'Q6.98',\n",
       "       'Q6.99', 'Q6.100'],\n",
       "      dtype='object', length=220)"
      ]
     },
     "execution_count": 194,
     "metadata": {},
     "output_type": "execute_result"
    }
   ],
   "source": [
    "df.columns"
   ]
  },
  {
   "cell_type": "markdown",
   "id": "b9bec48e-3e4f-4ed6-a6c3-39d187f2a3ab",
   "metadata": {},
   "source": [
    "## figure out which columns belong to each test\n",
    "\n",
    "Q1.1 means block 1 question 1 \n",
    "\n",
    "but tests start from around block 5 or 6\n",
    "\n",
    "so Q5.1 is block 5 (test 1), question 1"
   ]
  },
  {
   "cell_type": "code",
   "execution_count": 195,
   "id": "ac18d1c9-10f2-431d-afcf-56f0435d4f85",
   "metadata": {
    "tags": []
   },
   "outputs": [
    {
     "data": {
      "text/plain": [
       "{'Q5': 1, 'Q6': 2}"
      ]
     },
     "execution_count": 195,
     "metadata": {},
     "output_type": "execute_result"
    }
   ],
   "source": [
    "first_test_block_num = 5\n",
    "last_test_block_num = 6\n",
    "\n",
    "block2test = {f\"Q{block_num}\": 1+i for i, block_num in enumerate(range(first_test_block_num, last_test_block_num+1))}\n",
    "block2test"
   ]
  },
  {
   "cell_type": "markdown",
   "id": "028f50f8-0bfb-4444-8edd-f49551b17c20",
   "metadata": {},
   "source": [
    "# Aggregate answers from all tests and all questions in each test"
   ]
  },
  {
   "cell_type": "code",
   "execution_count": 196,
   "id": "5e63719c-3cd3-4f51-80c0-79dec7830cdb",
   "metadata": {},
   "outputs": [
    {
     "name": "stdout",
     "output_type": "stream",
     "text": [
      "*** processing Q5\n",
      "*** processing Q6\n"
     ]
    }
   ],
   "source": [
    "\"\"\"\n",
    "aggregated_answers = {\n",
    "    test1: {\n",
    "        question1: {\n",
    "            ans1: count_of_ans1,\n",
    "            ans2: count_of_ans2,\n",
    "            ans3: count_of_ans3,\n",
    "        }, \n",
    "        question2: {\n",
    "            ans1: count_of_ans1,\n",
    "            ans2: count_of_ans2,\n",
    "            ans3: count_of_ans3,\n",
    "        },\n",
    "        ...\n",
    "    }\n",
    "    test2: {\n",
    "        ...\n",
    "    }\n",
    "}\n",
    "\"\"\"\n",
    "QUESTIONS_PER_BLOCK = 100\n",
    "\n",
    "aggregated_answers = {}\n",
    "\n",
    "for block, test_num in block2test.items():\n",
    "    print(\"*** processing\", block)\n",
    "    cols = df.columns[df.columns.str.contains('Q5')]\n",
    "    assert len(cols) == QUESTIONS_PER_BLOCK\n",
    "    aggregated_answers[f'test{test_num}'] = {}\n",
    "    for col in cols:\n",
    "        question_num = int(col.split('.')[1])\n",
    "        aggregated_answers[f'test{test_num}'][f'question{question_num}'] = {}\n",
    "        # print(col, question_num)\n",
    "        \n",
    "        # get answers\n",
    "\n",
    "        # to_numeric will cause non numeric rows to get turned into NaN\n",
    "        ans2count = pd.to_numeric(df[col], errors='coerce', downcast='integer').dropna().astype(int).value_counts().to_dict()\n",
    "        for ans, count in ans2count.items():\n",
    "            aggregated_answers[f'test{test_num}'][f'question{question_num}'][ans] = count"
   ]
  },
  {
   "cell_type": "code",
   "execution_count": 197,
   "id": "38033929-568e-427d-a251-9e48dd9052e3",
   "metadata": {
    "tags": []
   },
   "outputs": [
    {
     "data": {
      "text/plain": [
       "{'test1': {'question1': {3: 9, 2: 8, 1: 7},\n",
       "  'question2': {3: 9, 2: 9, 1: 6},\n",
       "  'question3': {3: 10, 1: 7, 2: 7},\n",
       "  'question4': {2: 11, 1: 10, 3: 3},\n",
       "  'question5': {2: 8, 3: 8, 1: 8},\n",
       "  'question6': {3: 11, 2: 8, 1: 5},\n",
       "  'question7': {3: 12, 1: 7, 2: 5},\n",
       "  'question8': {3: 11, 1: 7, 2: 6},\n",
       "  'question9': {3: 10, 1: 9, 2: 5},\n",
       "  'question10': {1: 10, 2: 7, 3: 7},\n",
       "  'question11': {2: 12, 1: 6, 3: 6},\n",
       "  'question12': {1: 9, 2: 8, 3: 7},\n",
       "  'question13': {3: 10, 2: 8, 1: 6},\n",
       "  'question14': {3: 13, 2: 6, 1: 5},\n",
       "  'question15': {1: 12, 2: 9, 3: 3},\n",
       "  'question16': {2: 12, 1: 7, 3: 5},\n",
       "  'question17': {3: 9, 1: 8, 2: 7},\n",
       "  'question18': {3: 9, 1: 8, 2: 7},\n",
       "  'question19': {2: 9, 3: 9, 1: 6},\n",
       "  'question20': {3: 10, 2: 9, 1: 5},\n",
       "  'question21': {3: 11, 2: 8, 1: 5},\n",
       "  'question22': {3: 11, 2: 10, 1: 3},\n",
       "  'question23': {2: 8, 1: 8, 3: 8},\n",
       "  'question24': {2: 9, 1: 9, 3: 6},\n",
       "  'question25': {2: 12, 1: 8, 3: 4},\n",
       "  'question26': {1: 9, 2: 8, 3: 7},\n",
       "  'question27': {2: 11, 1: 7, 3: 6},\n",
       "  'question28': {1: 9, 3: 8, 2: 7},\n",
       "  'question29': {2: 11, 1: 7, 3: 6},\n",
       "  'question30': {3: 10, 1: 7, 2: 7},\n",
       "  'question31': {3: 9, 1: 8, 2: 7},\n",
       "  'question32': {1: 9, 2: 8, 3: 7},\n",
       "  'question33': {2: 11, 1: 8, 3: 5},\n",
       "  'question34': {3: 11, 2: 8, 1: 5},\n",
       "  'question35': {2: 13, 1: 8, 3: 3},\n",
       "  'question36': {1: 10, 2: 8, 3: 6},\n",
       "  'question37': {2: 13, 1: 6, 3: 5},\n",
       "  'question38': {1: 12, 2: 7, 3: 5},\n",
       "  'question39': {1: 10, 2: 8, 3: 6},\n",
       "  'question40': {1: 12, 2: 8, 3: 4},\n",
       "  'question41': {2: 9, 3: 9, 1: 6},\n",
       "  'question42': {1: 9, 3: 8, 2: 7},\n",
       "  'question43': {1: 11, 3: 10, 2: 3},\n",
       "  'question44': {2: 9, 3: 8, 1: 7},\n",
       "  'question45': {1: 9, 3: 8, 2: 7},\n",
       "  'question46': {2: 10, 1: 8, 3: 6},\n",
       "  'question47': {2: 11, 3: 8, 1: 5},\n",
       "  'question48': {1: 12, 3: 8, 2: 4},\n",
       "  'question49': {3: 10, 1: 10, 2: 4},\n",
       "  'question50': {2: 9, 3: 8, 1: 7},\n",
       "  'question51': {3: 11, 1: 8, 2: 5},\n",
       "  'question52': {3: 11, 1: 7, 2: 6},\n",
       "  'question53': {1: 12, 3: 9, 2: 3},\n",
       "  'question54': {2: 8, 3: 8, 1: 8},\n",
       "  'question55': {2: 10, 3: 7, 1: 7},\n",
       "  'question56': {1: 9, 2: 9, 3: 6},\n",
       "  'question57': {2: 10, 1: 7, 3: 7},\n",
       "  'question58': {3: 9, 2: 8, 1: 7},\n",
       "  'question59': {3: 9, 1: 9, 2: 6},\n",
       "  'question60': {3: 10, 2: 8, 1: 6},\n",
       "  'question61': {3: 9, 1: 9, 2: 6},\n",
       "  'question62': {3: 9, 1: 8, 2: 7},\n",
       "  'question63': {2: 10, 3: 8, 1: 6},\n",
       "  'question64': {1: 10, 3: 9, 2: 5},\n",
       "  'question65': {1: 9, 2: 9, 3: 6},\n",
       "  'question66': {3: 9, 1: 8, 2: 7},\n",
       "  'question67': {1: 11, 2: 8, 3: 5},\n",
       "  'question68': {2: 11, 3: 7, 1: 6},\n",
       "  'question69': {2: 11, 3: 8, 1: 5},\n",
       "  'question70': {2: 9, 3: 9, 1: 6},\n",
       "  'question71': {3: 9, 2: 8, 1: 7},\n",
       "  'question72': {1: 8, 3: 8, 2: 8},\n",
       "  'question73': {1: 12, 3: 8, 2: 4},\n",
       "  'question74': {2: 10, 3: 9, 1: 5},\n",
       "  'question75': {2: 11, 3: 8, 1: 5},\n",
       "  'question76': {1: 10, 3: 7, 2: 7},\n",
       "  'question77': {1: 10, 2: 8, 3: 6},\n",
       "  'question78': {2: 9, 1: 8, 3: 7},\n",
       "  'question79': {3: 10, 2: 8, 1: 6},\n",
       "  'question80': {2: 10, 3: 7, 1: 7},\n",
       "  'question81': {1: 10, 2: 7, 3: 7},\n",
       "  'question82': {2: 10, 1: 8, 3: 6},\n",
       "  'question83': {1: 12, 3: 6, 2: 6},\n",
       "  'question84': {2: 11, 1: 11, 3: 2},\n",
       "  'question85': {1: 9, 2: 8, 3: 7},\n",
       "  'question86': {1: 11, 3: 8, 2: 5},\n",
       "  'question87': {2: 11, 1: 7, 3: 6},\n",
       "  'question88': {1: 10, 3: 9, 2: 5},\n",
       "  'question89': {3: 10, 2: 8, 1: 6},\n",
       "  'question90': {1: 11, 3: 9, 2: 4},\n",
       "  'question91': {1: 13, 3: 6, 2: 5},\n",
       "  'question92': {1: 11, 2: 9, 3: 4},\n",
       "  'question93': {1: 10, 3: 7, 2: 7},\n",
       "  'question94': {2: 13, 3: 7, 1: 4},\n",
       "  'question95': {2: 12, 3: 6, 1: 6},\n",
       "  'question96': {2: 11, 1: 8, 3: 5},\n",
       "  'question97': {2: 11, 1: 10, 3: 3},\n",
       "  'question98': {3: 10, 2: 7, 1: 7},\n",
       "  'question99': {3: 10, 2: 9, 1: 5},\n",
       "  'question100': {1: 12, 2: 7, 3: 5}},\n",
       " 'test2': {'question1': {3: 9, 2: 8, 1: 7},\n",
       "  'question2': {3: 9, 2: 9, 1: 6},\n",
       "  'question3': {3: 10, 1: 7, 2: 7},\n",
       "  'question4': {2: 11, 1: 10, 3: 3},\n",
       "  'question5': {2: 8, 3: 8, 1: 8},\n",
       "  'question6': {3: 11, 2: 8, 1: 5},\n",
       "  'question7': {3: 12, 1: 7, 2: 5},\n",
       "  'question8': {3: 11, 1: 7, 2: 6},\n",
       "  'question9': {3: 10, 1: 9, 2: 5},\n",
       "  'question10': {1: 10, 2: 7, 3: 7},\n",
       "  'question11': {2: 12, 1: 6, 3: 6},\n",
       "  'question12': {1: 9, 2: 8, 3: 7},\n",
       "  'question13': {3: 10, 2: 8, 1: 6},\n",
       "  'question14': {3: 13, 2: 6, 1: 5},\n",
       "  'question15': {1: 12, 2: 9, 3: 3},\n",
       "  'question16': {2: 12, 1: 7, 3: 5},\n",
       "  'question17': {3: 9, 1: 8, 2: 7},\n",
       "  'question18': {3: 9, 1: 8, 2: 7},\n",
       "  'question19': {2: 9, 3: 9, 1: 6},\n",
       "  'question20': {3: 10, 2: 9, 1: 5},\n",
       "  'question21': {3: 11, 2: 8, 1: 5},\n",
       "  'question22': {3: 11, 2: 10, 1: 3},\n",
       "  'question23': {2: 8, 1: 8, 3: 8},\n",
       "  'question24': {2: 9, 1: 9, 3: 6},\n",
       "  'question25': {2: 12, 1: 8, 3: 4},\n",
       "  'question26': {1: 9, 2: 8, 3: 7},\n",
       "  'question27': {2: 11, 1: 7, 3: 6},\n",
       "  'question28': {1: 9, 3: 8, 2: 7},\n",
       "  'question29': {2: 11, 1: 7, 3: 6},\n",
       "  'question30': {3: 10, 1: 7, 2: 7},\n",
       "  'question31': {3: 9, 1: 8, 2: 7},\n",
       "  'question32': {1: 9, 2: 8, 3: 7},\n",
       "  'question33': {2: 11, 1: 8, 3: 5},\n",
       "  'question34': {3: 11, 2: 8, 1: 5},\n",
       "  'question35': {2: 13, 1: 8, 3: 3},\n",
       "  'question36': {1: 10, 2: 8, 3: 6},\n",
       "  'question37': {2: 13, 1: 6, 3: 5},\n",
       "  'question38': {1: 12, 2: 7, 3: 5},\n",
       "  'question39': {1: 10, 2: 8, 3: 6},\n",
       "  'question40': {1: 12, 2: 8, 3: 4},\n",
       "  'question41': {2: 9, 3: 9, 1: 6},\n",
       "  'question42': {1: 9, 3: 8, 2: 7},\n",
       "  'question43': {1: 11, 3: 10, 2: 3},\n",
       "  'question44': {2: 9, 3: 8, 1: 7},\n",
       "  'question45': {1: 9, 3: 8, 2: 7},\n",
       "  'question46': {2: 10, 1: 8, 3: 6},\n",
       "  'question47': {2: 11, 3: 8, 1: 5},\n",
       "  'question48': {1: 12, 3: 8, 2: 4},\n",
       "  'question49': {3: 10, 1: 10, 2: 4},\n",
       "  'question50': {2: 9, 3: 8, 1: 7},\n",
       "  'question51': {3: 11, 1: 8, 2: 5},\n",
       "  'question52': {3: 11, 1: 7, 2: 6},\n",
       "  'question53': {1: 12, 3: 9, 2: 3},\n",
       "  'question54': {2: 8, 3: 8, 1: 8},\n",
       "  'question55': {2: 10, 3: 7, 1: 7},\n",
       "  'question56': {1: 9, 2: 9, 3: 6},\n",
       "  'question57': {2: 10, 1: 7, 3: 7},\n",
       "  'question58': {3: 9, 2: 8, 1: 7},\n",
       "  'question59': {3: 9, 1: 9, 2: 6},\n",
       "  'question60': {3: 10, 2: 8, 1: 6},\n",
       "  'question61': {3: 9, 1: 9, 2: 6},\n",
       "  'question62': {3: 9, 1: 8, 2: 7},\n",
       "  'question63': {2: 10, 3: 8, 1: 6},\n",
       "  'question64': {1: 10, 3: 9, 2: 5},\n",
       "  'question65': {1: 9, 2: 9, 3: 6},\n",
       "  'question66': {3: 9, 1: 8, 2: 7},\n",
       "  'question67': {1: 11, 2: 8, 3: 5},\n",
       "  'question68': {2: 11, 3: 7, 1: 6},\n",
       "  'question69': {2: 11, 3: 8, 1: 5},\n",
       "  'question70': {2: 9, 3: 9, 1: 6},\n",
       "  'question71': {3: 9, 2: 8, 1: 7},\n",
       "  'question72': {1: 8, 3: 8, 2: 8},\n",
       "  'question73': {1: 12, 3: 8, 2: 4},\n",
       "  'question74': {2: 10, 3: 9, 1: 5},\n",
       "  'question75': {2: 11, 3: 8, 1: 5},\n",
       "  'question76': {1: 10, 3: 7, 2: 7},\n",
       "  'question77': {1: 10, 2: 8, 3: 6},\n",
       "  'question78': {2: 9, 1: 8, 3: 7},\n",
       "  'question79': {3: 10, 2: 8, 1: 6},\n",
       "  'question80': {2: 10, 3: 7, 1: 7},\n",
       "  'question81': {1: 10, 2: 7, 3: 7},\n",
       "  'question82': {2: 10, 1: 8, 3: 6},\n",
       "  'question83': {1: 12, 3: 6, 2: 6},\n",
       "  'question84': {2: 11, 1: 11, 3: 2},\n",
       "  'question85': {1: 9, 2: 8, 3: 7},\n",
       "  'question86': {1: 11, 3: 8, 2: 5},\n",
       "  'question87': {2: 11, 1: 7, 3: 6},\n",
       "  'question88': {1: 10, 3: 9, 2: 5},\n",
       "  'question89': {3: 10, 2: 8, 1: 6},\n",
       "  'question90': {1: 11, 3: 9, 2: 4},\n",
       "  'question91': {1: 13, 3: 6, 2: 5},\n",
       "  'question92': {1: 11, 2: 9, 3: 4},\n",
       "  'question93': {1: 10, 3: 7, 2: 7},\n",
       "  'question94': {2: 13, 3: 7, 1: 4},\n",
       "  'question95': {2: 12, 3: 6, 1: 6},\n",
       "  'question96': {2: 11, 1: 8, 3: 5},\n",
       "  'question97': {2: 11, 1: 10, 3: 3},\n",
       "  'question98': {3: 10, 2: 7, 1: 7},\n",
       "  'question99': {3: 10, 2: 9, 1: 5},\n",
       "  'question100': {1: 12, 2: 7, 3: 5}}}"
      ]
     },
     "execution_count": 197,
     "metadata": {},
     "output_type": "execute_result"
    }
   ],
   "source": [
    "aggregated_answers"
   ]
  },
  {
   "cell_type": "code",
   "execution_count": 198,
   "id": "44c1923f-76c7-4d82-b9f0-491512f5af04",
   "metadata": {},
   "outputs": [],
   "source": [
    "# NUM_ANS = 100 # per subtest \n",
    "\n",
    "# POSSIBLE_ANSWERS = [\n",
    "#     1, # sys1\n",
    "#     2, # sys2 \n",
    "#     3, # no preference\n",
    "# ]\n",
    "# participants_to_exclude = [\n",
    "#     \"jason fong\",\n",
    "#     \"Dan test\",\n",
    "#     \"not applicable\",\n",
    "# ]\n",
    "\n",
    "# def get_aggregated_answers(csv_path):\n",
    "#     # load data from each test from csvs\n",
    "#     with open(csv_path) as f:\n",
    "#         all_lines = f.readlines()\n",
    "\n",
    "#     # only get the lines referring to specific participants\n",
    "#     lines = [l for l in all_lines if \"anonymous,EN\" in l]\n",
    "    \n",
    "\n",
    "#     aggregated_answers = defaultdict(Counter) # aggregated over all participants, key is question num, value is dict of answers to answer counts\n",
    "#     \"\"\"\n",
    "#     aggregated_answers = {\n",
    "#         question1: {\n",
    "#             ans1: count_of_ans1,\n",
    "#             ans2: count_of_ans2,\n",
    "#             ans3: count_of_ans3,\n",
    "#         }, \n",
    "#         question2: {\n",
    "#             ans1: count_of_ans1,\n",
    "#             ans2: count_of_ans2,\n",
    "#             ans3: count_of_ans3,\n",
    "#         }, \n",
    "#         ...\n",
    "#     }\n",
    "#     \"\"\"\n",
    "    \n",
    "#     print(f\"after filtering found {len(lines)} participants in {csv_path}\")\n",
    "    \n",
    "#     for line in lines:\n",
    "#         # get the answers for each participant\n",
    "#         answers = line.split(\"anonymous,EN\")[-1].split(',')[3:-1] # upto but excluding last element as last question in survey is confirmation of working audio\n",
    "#         answers = [int(ans) for ans in answers]\n",
    "\n",
    "#         # assert that we have the correct number of answers and that they have the correct values\n",
    "#         assert len(answers) == NUM_ANS, len(answers)\n",
    "#         for ans in answers:\n",
    "#             assert ans in POSSIBLE_ANSWERS\n",
    "\n",
    "#         # aggregate the answer for this participant\n",
    "#         for question_num, ans in enumerate(answers, 1):\n",
    "#             aggregated_answers[question_num][ans] += 1\n",
    "            \n",
    "#     return aggregated_answers"
   ]
  },
  {
   "cell_type": "code",
   "execution_count": 199,
   "id": "e13fee96-ae64-4535-9634-007c5a8c95ca",
   "metadata": {
    "tags": []
   },
   "outputs": [],
   "source": [
    "# # create testnum + uttnum -> pair of conditions -> conditions mapping \n",
    "# ranges = [ # range of questions related to each condition pair\n",
    "#     (0,13), # for first condition pair\n",
    "#     (13,26), # for second condition pair\n",
    "#     (26,39), # etc.\n",
    "#     (39,52),\n",
    "#     (52,65),\n",
    "#     (65,78),\n",
    "# ]\n",
    "\n",
    "# testnum2conditionpairs = { \n",
    "#     1: ('A','B','F','C','E','D'), # test num to condition pairs \n",
    "#     2: ('B','C','A','D','F','E'), \n",
    "#     3: ('C','D','B','E','A','F'),\n",
    "#     4: ('D','E','C','F','B','A'),\n",
    "#     5: ('E','F','D','A','C','B'),\n",
    "#     6: ('F','A','E','B','D','C'),\n",
    "# }\n",
    "\n",
    "# letter2conditionpair = {\n",
    "#     'A': (\"sac_grapheme\", \"vanillatts_grapheme\"), # condition pair to system on left and system on right\n",
    "#     'B': (\"sac_speechcode_us\", \"vanillatts_grapheme\"),\n",
    "#     'C': (\"sac_speechcode_us\", \"sac_grapheme\"),\n",
    "#     'D': (\"sac_speechcode_scot\", \"vanillatts_grapheme\"),\n",
    "#     'E': (\"sac_speechcode_scot\", \"sac_grapheme\"),\n",
    "#     'F': (\"sac_speechcode_scot\", \"sac_speechcode_us\"),\n",
    "# }"
   ]
  },
  {
   "cell_type": "code",
   "execution_count": 200,
   "id": "084f02b1-27d5-428b-b8cc-6dc1ad21f828",
   "metadata": {
    "tags": []
   },
   "outputs": [],
   "source": [
    "import pickle \n",
    "\n",
    "# load from disk\n",
    "with open(\"exp1_testconfig.pkl\", 'rb') as f:\n",
    "    testconfig = pickle.load(f)"
   ]
  },
  {
   "cell_type": "code",
   "execution_count": 201,
   "id": "c14c151e-df17-4cac-b72d-2b65cb3e6780",
   "metadata": {
    "tags": []
   },
   "outputs": [
    {
     "data": {
      "text/plain": [
       "[(0, 10),\n",
       " (10, 20),\n",
       " (20, 30),\n",
       " (30, 40),\n",
       " (40, 50),\n",
       " (50, 60),\n",
       " (60, 70),\n",
       " (70, 80),\n",
       " (80, 90),\n",
       " (90, 100)]"
      ]
     },
     "execution_count": 201,
     "metadata": {},
     "output_type": "execute_result"
    }
   ],
   "source": [
    "ranges = testconfig['ranges']\n",
    "ranges"
   ]
  },
  {
   "cell_type": "code",
   "execution_count": 202,
   "id": "72a2f02a-0657-40e1-a26d-42dc9be83243",
   "metadata": {
    "tags": []
   },
   "outputs": [
    {
     "data": {
      "text/plain": [
       "{1: ('A', 'B', 'C', 'D', 'E', 'F', 'G', 'H', 'I', 'J'),\n",
       " 2: ('B', 'C', 'D', 'E', 'F', 'G', 'H', 'I', 'J', 'A'),\n",
       " 3: ('C', 'D', 'E', 'F', 'G', 'H', 'I', 'J', 'A', 'B'),\n",
       " 4: ('D', 'E', 'F', 'G', 'H', 'I', 'J', 'A', 'B', 'C'),\n",
       " 5: ('E', 'F', 'G', 'H', 'I', 'J', 'A', 'B', 'C', 'D'),\n",
       " 6: ('F', 'G', 'H', 'I', 'J', 'A', 'B', 'C', 'D', 'E'),\n",
       " 7: ('G', 'H', 'I', 'J', 'A', 'B', 'C', 'D', 'E', 'F'),\n",
       " 8: ('H', 'I', 'J', 'A', 'B', 'C', 'D', 'E', 'F', 'G'),\n",
       " 9: ('I', 'J', 'A', 'B', 'C', 'D', 'E', 'F', 'G', 'H'),\n",
       " 10: ('J', 'A', 'B', 'C', 'D', 'E', 'F', 'G', 'H', 'I')}"
      ]
     },
     "execution_count": 202,
     "metadata": {},
     "output_type": "execute_result"
    }
   ],
   "source": [
    "testnum2conditionpairs = testconfig['testnum2letters']\n",
    "testnum2conditionpairs"
   ]
  },
  {
   "cell_type": "code",
   "execution_count": 203,
   "id": "8de85c24-7607-42d4-86f2-4ede9341202a",
   "metadata": {
    "tags": []
   },
   "outputs": [
    {
     "data": {
      "text/plain": [
       "{'A': ('hubert-discrete-centroid==Distance(Cosine)',\n",
       "  'hubert-discrete-code==Distance(Levenshtein)'),\n",
       " 'B': ('hubert-discrete-centroid==Distance(Cosine)',\n",
       "  'hubert-raw==Distance(Cosine)'),\n",
       " 'C': ('hubert-discrete-centroid==Distance(Cosine)',\n",
       "  'hubert-soft==Distance(Cosine)'),\n",
       " 'D': ('hubert-discrete-centroid==Distance(Cosine)',\n",
       "  'mfcc==Distance(Euclidean)'),\n",
       " 'E': ('hubert-discrete-code==Distance(Levenshtein)',\n",
       "  'hubert-raw==Distance(Cosine)'),\n",
       " 'F': ('hubert-discrete-code==Distance(Levenshtein)',\n",
       "  'hubert-soft==Distance(Cosine)'),\n",
       " 'G': ('hubert-discrete-code==Distance(Levenshtein)',\n",
       "  'mfcc==Distance(Euclidean)'),\n",
       " 'H': ('hubert-raw==Distance(Cosine)', 'hubert-soft==Distance(Cosine)'),\n",
       " 'I': ('hubert-raw==Distance(Cosine)', 'mfcc==Distance(Euclidean)'),\n",
       " 'J': ('hubert-soft==Distance(Cosine)', 'mfcc==Distance(Euclidean)')}"
      ]
     },
     "execution_count": 203,
     "metadata": {},
     "output_type": "execute_result"
    }
   ],
   "source": [
    "letter2conditionpair = testconfig['letter2systempair']\n",
    "letter2conditionpair = {letter: (sys_dict['sys1'], sys_dict['sys2']) for letter, sys_dict in letter2conditionpair.items()}\n",
    "letter2conditionpair"
   ]
  },
  {
   "cell_type": "code",
   "execution_count": 204,
   "id": "28fc82d5-a73d-4c82-ae95-652bfa15daa8",
   "metadata": {
    "tags": []
   },
   "outputs": [],
   "source": [
    "conditions = set()\n",
    "for cond1, cond2 in letter2conditionpair.values():\n",
    "    conditions.add(cond1)\n",
    "    conditions.add(cond2)\n",
    "conditions = list(conditions)"
   ]
  },
  {
   "cell_type": "code",
   "execution_count": 205,
   "id": "c9494cac-79aa-4c6e-9b6f-be0865ad8143",
   "metadata": {
    "tags": []
   },
   "outputs": [],
   "source": [
    "def get_conditions(test_num, utt_num):\n",
    "    # get the condition pair\n",
    "    for condition_pair_idx, (range_start, range_end) in enumerate(ranges):\n",
    "        conditionpairs = testnum2conditionpairs[test_num]\n",
    "        assert len(ranges) == len(conditionpairs)\n",
    "        if range_start < utt_num <= range_end:\n",
    "            condition_pair = conditionpairs[condition_pair_idx]\n",
    "            break\n",
    "    else:\n",
    "        raise ValueError(\"utt_num not in any range!!!\")\n",
    "\n",
    "    # get the conditions from the condition pair\n",
    "    cond1, cond2 = letter2conditionpair[condition_pair]\n",
    "    # print(\"test_num\", test_num, \"utt_num\", utt_num, \"condition_pair\", condition_pair,\"cond1\", cond1, \"cond2\", cond2)\n",
    "    \n",
    "    return cond1, cond2"
   ]
  },
  {
   "cell_type": "code",
   "execution_count": 206,
   "id": "1c932b7e-96f7-4c47-a0cf-39316a06dc54",
   "metadata": {
    "tags": []
   },
   "outputs": [
    {
     "data": {
      "text/plain": [
       "{1: ('A', 'B', 'C', 'D', 'E', 'F', 'G', 'H', 'I', 'J'),\n",
       " 2: ('B', 'C', 'D', 'E', 'F', 'G', 'H', 'I', 'J', 'A'),\n",
       " 3: ('C', 'D', 'E', 'F', 'G', 'H', 'I', 'J', 'A', 'B'),\n",
       " 4: ('D', 'E', 'F', 'G', 'H', 'I', 'J', 'A', 'B', 'C'),\n",
       " 5: ('E', 'F', 'G', 'H', 'I', 'J', 'A', 'B', 'C', 'D'),\n",
       " 6: ('F', 'G', 'H', 'I', 'J', 'A', 'B', 'C', 'D', 'E'),\n",
       " 7: ('G', 'H', 'I', 'J', 'A', 'B', 'C', 'D', 'E', 'F'),\n",
       " 8: ('H', 'I', 'J', 'A', 'B', 'C', 'D', 'E', 'F', 'G'),\n",
       " 9: ('I', 'J', 'A', 'B', 'C', 'D', 'E', 'F', 'G', 'H'),\n",
       " 10: ('J', 'A', 'B', 'C', 'D', 'E', 'F', 'G', 'H', 'I')}"
      ]
     },
     "execution_count": 206,
     "metadata": {},
     "output_type": "execute_result"
    }
   ],
   "source": [
    "testnum2conditionpairs"
   ]
  },
  {
   "cell_type": "code",
   "execution_count": 207,
   "id": "651c99f7-aaff-414a-940a-2f3a275bb746",
   "metadata": {},
   "outputs": [],
   "source": [
    "def get_conditionpair2wincounts(aggregated_answers, # for a single test\n",
    "                                test_num):\n",
    "    \n",
    "    \n",
    "\n",
    "    conditionpair2wincounts = Counter()\n",
    "    \"\"\"\n",
    "    conditionpair2wincounts = {\n",
    "        (cond1,cond2): 5, # cond1 beats cond2 5 times\n",
    "        (cond2,cond1): 50 # cond2 beats cond1 50 times\n",
    "    }\n",
    "\n",
    "    NB ties/draws give 0.5 of a win to both conditions\n",
    "    \"\"\"\n",
    "    \n",
    "    conditionpair2numwins_and_numdraws = defaultdict(Counter)\n",
    "    \"\"\"\n",
    "    conditionpair2numwins_and_numdraws = {\n",
    "        (cond1,cond2): {\n",
    "            wins: 20\n",
    "            draws: 12\n",
    "        },\n",
    "        (cond2,cond1): {\n",
    "            wins: 5\n",
    "            draws: 4\n",
    "        } \n",
    "        ...\n",
    "    }\n",
    "    \"\"\"\n",
    "    \n",
    "\n",
    "    # add wins to systems based on aggregated_answers and the pair of conditions\n",
    "    for question, answer2counts in aggregated_answers.items():\n",
    "        question_num = int(question.split('question')[1])\n",
    "        \n",
    "        cond1, cond2 = get_conditions(test_num, question_num)\n",
    "        if 1 in answer2counts: # cond1 won\n",
    "            conditionpair2wincounts[(cond1, cond2)] += answer2counts[1]\n",
    "            conditionpair2numwins_and_numdraws[(cond1, cond2)]['wins'] += answer2counts[1]\n",
    "        if 2 in answer2counts: # cond2 won\n",
    "            conditionpair2wincounts[(cond2, cond1)] += answer2counts[2]\n",
    "            conditionpair2numwins_and_numdraws[(cond2, cond1)]['wins'] += answer2counts[2]\n",
    "        if 3 in answer2counts: # cond1 and 2 drew\n",
    "            conditionpair2wincounts[(cond1, cond2)] += 0.5 * answer2counts[3]\n",
    "            # print(\"conditionpair2wincounts[(cond1, cond2)]\", conditionpair2wincounts[(cond1, cond2)])\n",
    "            conditionpair2wincounts[(cond2, cond1)] += 0.5 * answer2counts[3]\n",
    "            conditionpair2numwins_and_numdraws[(cond1, cond2)]['draws'] += answer2counts[3]\n",
    "            conditionpair2numwins_and_numdraws[(cond2, cond1)]['draws'] += answer2counts[3]\n",
    "\n",
    "    return conditionpair2wincounts, conditionpair2numwins_and_numdraws"
   ]
  },
  {
   "cell_type": "code",
   "execution_count": 208,
   "id": "9d4bfc58-6ff2-4261-bb40-1abd6d21155b",
   "metadata": {
    "tags": []
   },
   "outputs": [],
   "source": [
    "# use testnum + uttnum -> pair of conditions -> conditions mapping \n",
    "# to assemble counts of how many times one condition beats another condition\n",
    "\n",
    "alltests_conditionpair2wincounts = Counter()\n",
    "alltests_conditionpair2numwins_and_numdraws = defaultdict(Counter)\n",
    "\n",
    "for test, questions in aggregated_answers.items():\n",
    "    test_num = int(test.split('test')[1])\n",
    "    conditionpair2wincounts, conditionpair2numwins_and_numdraws = get_conditionpair2wincounts(questions, test_num)\n",
    "    for conditionpair, wincount in conditionpair2wincounts.items():\n",
    "        alltests_conditionpair2wincounts[conditionpair] += wincount\n",
    "        \n",
    "    for conditionpair,numwins_and_numdraws in conditionpair2numwins_and_numdraws.items():\n",
    "        alltests_conditionpair2numwins_and_numdraws[conditionpair]['wins'] += numwins_and_numdraws['wins']\n",
    "        alltests_conditionpair2numwins_and_numdraws[conditionpair]['draws'] += numwins_and_numdraws['draws']\n",
    "\n"
   ]
  },
  {
   "cell_type": "code",
   "execution_count": 209,
   "id": "e7e4ecdf-9556-45d9-a2ce-548837168734",
   "metadata": {
    "tags": []
   },
   "outputs": [
    {
     "data": {
      "text/plain": [
       "defaultdict(collections.Counter,\n",
       "            {('hubert-discrete-centroid==Distance(Cosine)',\n",
       "              'hubert-discrete-code==Distance(Levenshtein)'): Counter({'wins': 162,\n",
       "                      'draws': 153}),\n",
       "             ('hubert-discrete-code==Distance(Levenshtein)',\n",
       "              'hubert-discrete-centroid==Distance(Cosine)'): Counter({'wins': 165,\n",
       "                      'draws': 153}),\n",
       "             ('hubert-discrete-centroid==Distance(Cosine)',\n",
       "              'hubert-raw==Distance(Cosine)'): Counter({'wins': 148,\n",
       "                      'draws': 171}),\n",
       "             ('hubert-raw==Distance(Cosine)',\n",
       "              'hubert-discrete-centroid==Distance(Cosine)'): Counter({'wins': 161,\n",
       "                      'draws': 171}),\n",
       "             ('hubert-discrete-centroid==Distance(Cosine)',\n",
       "              'hubert-soft==Distance(Cosine)'): Counter({'wins': 144,\n",
       "                      'draws': 158}),\n",
       "             ('hubert-soft==Distance(Cosine)',\n",
       "              'hubert-discrete-centroid==Distance(Cosine)'): Counter({'wins': 178,\n",
       "                      'draws': 158}),\n",
       "             ('hubert-discrete-centroid==Distance(Cosine)',\n",
       "              'mfcc==Distance(Euclidean)'): Counter({'wins': 160,\n",
       "                      'draws': 138}),\n",
       "             ('mfcc==Distance(Euclidean)',\n",
       "              'hubert-discrete-centroid==Distance(Cosine)'): Counter({'wins': 182,\n",
       "                      'draws': 138}),\n",
       "             ('hubert-discrete-code==Distance(Levenshtein)',\n",
       "              'hubert-raw==Distance(Cosine)'): Counter({'wins': 172,\n",
       "                      'draws': 144}),\n",
       "             ('hubert-raw==Distance(Cosine)',\n",
       "              'hubert-discrete-code==Distance(Levenshtein)'): Counter({'wins': 164,\n",
       "                      'draws': 144}),\n",
       "             ('hubert-discrete-code==Distance(Levenshtein)',\n",
       "              'hubert-soft==Distance(Cosine)'): Counter({'wins': 164,\n",
       "                      'draws': 170}),\n",
       "             ('hubert-soft==Distance(Cosine)',\n",
       "              'hubert-discrete-code==Distance(Levenshtein)'): Counter({'wins': 146,\n",
       "                      'draws': 170}),\n",
       "             ('hubert-discrete-code==Distance(Levenshtein)',\n",
       "              'mfcc==Distance(Euclidean)'): Counter({'wins': 158,\n",
       "                      'draws': 166}),\n",
       "             ('mfcc==Distance(Euclidean)',\n",
       "              'hubert-discrete-code==Distance(Levenshtein)'): Counter({'wins': 156,\n",
       "                      'draws': 166}),\n",
       "             ('hubert-raw==Distance(Cosine)',\n",
       "              'hubert-soft==Distance(Cosine)'): Counter({'wins': 156,\n",
       "                      'draws': 158}),\n",
       "             ('hubert-soft==Distance(Cosine)',\n",
       "              'hubert-raw==Distance(Cosine)'): Counter({'wins': 166,\n",
       "                      'draws': 158}),\n",
       "             ('hubert-raw==Distance(Cosine)',\n",
       "              'mfcc==Distance(Euclidean)'): Counter({'wins': 173,\n",
       "                      'draws': 149}),\n",
       "             ('mfcc==Distance(Euclidean)',\n",
       "              'hubert-raw==Distance(Cosine)'): Counter({'wins': 158,\n",
       "                      'draws': 149}),\n",
       "             ('hubert-soft==Distance(Cosine)',\n",
       "              'mfcc==Distance(Euclidean)'): Counter({'wins': 181,\n",
       "                      'draws': 133}),\n",
       "             ('mfcc==Distance(Euclidean)',\n",
       "              'hubert-soft==Distance(Cosine)'): Counter({'wins': 166,\n",
       "                      'draws': 133})})"
      ]
     },
     "execution_count": 209,
     "metadata": {},
     "output_type": "execute_result"
    }
   ],
   "source": [
    "alltests_conditionpair2numwins_and_numdraws"
   ]
  },
  {
   "cell_type": "code",
   "execution_count": 210,
   "id": "1d6c4fc3-606e-440c-b114-0d71ab316dd8",
   "metadata": {},
   "outputs": [
    {
     "data": {
      "text/plain": [
       "Counter({('hubert-discrete-centroid==Distance(Cosine)',\n",
       "          'hubert-discrete-code==Distance(Levenshtein)'): 238.5,\n",
       "         ('hubert-discrete-code==Distance(Levenshtein)',\n",
       "          'hubert-discrete-centroid==Distance(Cosine)'): 241.5,\n",
       "         ('hubert-discrete-centroid==Distance(Cosine)',\n",
       "          'hubert-raw==Distance(Cosine)'): 233.5,\n",
       "         ('hubert-raw==Distance(Cosine)',\n",
       "          'hubert-discrete-centroid==Distance(Cosine)'): 246.5,\n",
       "         ('hubert-discrete-centroid==Distance(Cosine)',\n",
       "          'hubert-soft==Distance(Cosine)'): 223.0,\n",
       "         ('hubert-soft==Distance(Cosine)',\n",
       "          'hubert-discrete-centroid==Distance(Cosine)'): 257.0,\n",
       "         ('hubert-discrete-centroid==Distance(Cosine)',\n",
       "          'mfcc==Distance(Euclidean)'): 229.0,\n",
       "         ('mfcc==Distance(Euclidean)',\n",
       "          'hubert-discrete-centroid==Distance(Cosine)'): 251.0,\n",
       "         ('hubert-discrete-code==Distance(Levenshtein)',\n",
       "          'hubert-raw==Distance(Cosine)'): 244.0,\n",
       "         ('hubert-raw==Distance(Cosine)',\n",
       "          'hubert-discrete-code==Distance(Levenshtein)'): 236.0,\n",
       "         ('hubert-discrete-code==Distance(Levenshtein)',\n",
       "          'hubert-soft==Distance(Cosine)'): 249.0,\n",
       "         ('hubert-soft==Distance(Cosine)',\n",
       "          'hubert-discrete-code==Distance(Levenshtein)'): 231.0,\n",
       "         ('hubert-discrete-code==Distance(Levenshtein)',\n",
       "          'mfcc==Distance(Euclidean)'): 241.0,\n",
       "         ('mfcc==Distance(Euclidean)',\n",
       "          'hubert-discrete-code==Distance(Levenshtein)'): 239.0,\n",
       "         ('hubert-raw==Distance(Cosine)',\n",
       "          'hubert-soft==Distance(Cosine)'): 235.0,\n",
       "         ('hubert-soft==Distance(Cosine)',\n",
       "          'hubert-raw==Distance(Cosine)'): 245.0,\n",
       "         ('hubert-raw==Distance(Cosine)', 'mfcc==Distance(Euclidean)'): 247.5,\n",
       "         ('mfcc==Distance(Euclidean)', 'hubert-raw==Distance(Cosine)'): 232.5,\n",
       "         ('hubert-soft==Distance(Cosine)', 'mfcc==Distance(Euclidean)'): 247.5,\n",
       "         ('mfcc==Distance(Euclidean)',\n",
       "          'hubert-soft==Distance(Cosine)'): 232.5})"
      ]
     },
     "execution_count": 210,
     "metadata": {},
     "output_type": "execute_result"
    }
   ],
   "source": [
    "# visualise this counts matrix\n",
    "alltests_conditionpair2wincounts"
   ]
  },
  {
   "cell_type": "code",
   "execution_count": 211,
   "id": "5095218c-5a11-41d7-aeec-160182dc2f09",
   "metadata": {
    "tags": []
   },
   "outputs": [
    {
     "data": {
      "text/plain": [
       "['hubert-raw==Distance(Cosine)',\n",
       " 'hubert-soft==Distance(Cosine)',\n",
       " 'hubert-discrete-centroid==Distance(Cosine)',\n",
       " 'hubert-discrete-code==Distance(Levenshtein)',\n",
       " 'mfcc==Distance(Euclidean)']"
      ]
     },
     "execution_count": 211,
     "metadata": {},
     "output_type": "execute_result"
    }
   ],
   "source": [
    "conditions"
   ]
  },
  {
   "cell_type": "code",
   "execution_count": 212,
   "id": "83dec5a3-607a-41be-a83c-38ad011a5ddb",
   "metadata": {},
   "outputs": [],
   "source": [
    "def get_counts_matrix(conditionpair2wincounts, conditions):\n",
    "    num_conditions = len(conditions)\n",
    "    \n",
    "    # save counts matrix in format ready for R and bradley terry analysis (perfmod version of BTL)\n",
    "    c = np.zeros((num_conditions,num_conditions), dtype=float)\n",
    "\n",
    "    # description from https://github.com/EllaKaye/BradleyTerryScalable\n",
    "    # A matrix (either a base matrix or a class from the Matrix package), dimension K by K, \n",
    "    # where K is the number of items. The i, j-th element is wi**j, the number of times item i has beaten item j. \n",
    "    # Ties can be accounted for by assigning half a win (i.e. 0.5) to each item.\n",
    "    \n",
    "    cond2matrix_idx = {\n",
    "        condition: i for i, condition in enumerate(conditions)\n",
    "    }\n",
    "    \n",
    "    for (cond1, cond2), count in conditionpair2wincounts.items():\n",
    "        i, j = cond2matrix_idx[cond1], cond2matrix_idx[cond2]\n",
    "        c[i][j] = count\n",
    "    \n",
    "    return c"
   ]
  },
  {
   "cell_type": "code",
   "execution_count": 213,
   "id": "6e2b391b-53be-4c64-9be9-cd11ff710076",
   "metadata": {},
   "outputs": [
    {
     "data": {
      "text/plain": [
       "array([[  0. , 235. , 246.5, 236. , 247.5],\n",
       "       [245. ,   0. , 257. , 231. , 247.5],\n",
       "       [233.5, 223. ,   0. , 238.5, 229. ],\n",
       "       [244. , 249. , 241.5,   0. , 241. ],\n",
       "       [232.5, 232.5, 251. , 239. ,   0. ]])"
      ]
     },
     "execution_count": 213,
     "metadata": {},
     "output_type": "execute_result"
    }
   ],
   "source": [
    "c = get_counts_matrix(alltests_conditionpair2wincounts, conditions)\n",
    "c"
   ]
  },
  {
   "cell_type": "code",
   "execution_count": 214,
   "id": "40510666-a081-46f7-9c3f-78d185556741",
   "metadata": {},
   "outputs": [],
   "source": [
    "# create a pandas dataframe so we can label rows and columns\n",
    "column_names = conditions\n",
    "row_names = column_names.copy()\n",
    "df = pd.DataFrame(c, columns=column_names, index=row_names)"
   ]
  },
  {
   "cell_type": "code",
   "execution_count": 215,
   "id": "83f1c4fe-96b4-4821-bb61-8330ed489291",
   "metadata": {},
   "outputs": [
    {
     "data": {
      "text/html": [
       "<div>\n",
       "<style scoped>\n",
       "    .dataframe tbody tr th:only-of-type {\n",
       "        vertical-align: middle;\n",
       "    }\n",
       "\n",
       "    .dataframe tbody tr th {\n",
       "        vertical-align: top;\n",
       "    }\n",
       "\n",
       "    .dataframe thead th {\n",
       "        text-align: right;\n",
       "    }\n",
       "</style>\n",
       "<table border=\"1\" class=\"dataframe\">\n",
       "  <thead>\n",
       "    <tr style=\"text-align: right;\">\n",
       "      <th></th>\n",
       "      <th>hubert-raw==Distance(Cosine)</th>\n",
       "      <th>hubert-soft==Distance(Cosine)</th>\n",
       "      <th>hubert-discrete-centroid==Distance(Cosine)</th>\n",
       "      <th>hubert-discrete-code==Distance(Levenshtein)</th>\n",
       "      <th>mfcc==Distance(Euclidean)</th>\n",
       "    </tr>\n",
       "  </thead>\n",
       "  <tbody>\n",
       "    <tr>\n",
       "      <th>hubert-raw==Distance(Cosine)</th>\n",
       "      <td>0.0</td>\n",
       "      <td>235.0</td>\n",
       "      <td>246.5</td>\n",
       "      <td>236.0</td>\n",
       "      <td>247.5</td>\n",
       "    </tr>\n",
       "    <tr>\n",
       "      <th>hubert-soft==Distance(Cosine)</th>\n",
       "      <td>245.0</td>\n",
       "      <td>0.0</td>\n",
       "      <td>257.0</td>\n",
       "      <td>231.0</td>\n",
       "      <td>247.5</td>\n",
       "    </tr>\n",
       "    <tr>\n",
       "      <th>hubert-discrete-centroid==Distance(Cosine)</th>\n",
       "      <td>233.5</td>\n",
       "      <td>223.0</td>\n",
       "      <td>0.0</td>\n",
       "      <td>238.5</td>\n",
       "      <td>229.0</td>\n",
       "    </tr>\n",
       "    <tr>\n",
       "      <th>hubert-discrete-code==Distance(Levenshtein)</th>\n",
       "      <td>244.0</td>\n",
       "      <td>249.0</td>\n",
       "      <td>241.5</td>\n",
       "      <td>0.0</td>\n",
       "      <td>241.0</td>\n",
       "    </tr>\n",
       "    <tr>\n",
       "      <th>mfcc==Distance(Euclidean)</th>\n",
       "      <td>232.5</td>\n",
       "      <td>232.5</td>\n",
       "      <td>251.0</td>\n",
       "      <td>239.0</td>\n",
       "      <td>0.0</td>\n",
       "    </tr>\n",
       "  </tbody>\n",
       "</table>\n",
       "</div>"
      ],
      "text/plain": [
       "                                             hubert-raw==Distance(Cosine)  \\\n",
       "hubert-raw==Distance(Cosine)                                          0.0   \n",
       "hubert-soft==Distance(Cosine)                                       245.0   \n",
       "hubert-discrete-centroid==Distance(Cosine)                          233.5   \n",
       "hubert-discrete-code==Distance(Levenshtein)                         244.0   \n",
       "mfcc==Distance(Euclidean)                                           232.5   \n",
       "\n",
       "                                             hubert-soft==Distance(Cosine)  \\\n",
       "hubert-raw==Distance(Cosine)                                         235.0   \n",
       "hubert-soft==Distance(Cosine)                                          0.0   \n",
       "hubert-discrete-centroid==Distance(Cosine)                           223.0   \n",
       "hubert-discrete-code==Distance(Levenshtein)                          249.0   \n",
       "mfcc==Distance(Euclidean)                                            232.5   \n",
       "\n",
       "                                             hubert-discrete-centroid==Distance(Cosine)  \\\n",
       "hubert-raw==Distance(Cosine)                                                      246.5   \n",
       "hubert-soft==Distance(Cosine)                                                     257.0   \n",
       "hubert-discrete-centroid==Distance(Cosine)                                          0.0   \n",
       "hubert-discrete-code==Distance(Levenshtein)                                       241.5   \n",
       "mfcc==Distance(Euclidean)                                                         251.0   \n",
       "\n",
       "                                             hubert-discrete-code==Distance(Levenshtein)  \\\n",
       "hubert-raw==Distance(Cosine)                                                       236.0   \n",
       "hubert-soft==Distance(Cosine)                                                      231.0   \n",
       "hubert-discrete-centroid==Distance(Cosine)                                         238.5   \n",
       "hubert-discrete-code==Distance(Levenshtein)                                          0.0   \n",
       "mfcc==Distance(Euclidean)                                                          239.0   \n",
       "\n",
       "                                             mfcc==Distance(Euclidean)  \n",
       "hubert-raw==Distance(Cosine)                                     247.5  \n",
       "hubert-soft==Distance(Cosine)                                    247.5  \n",
       "hubert-discrete-centroid==Distance(Cosine)                       229.0  \n",
       "hubert-discrete-code==Distance(Levenshtein)                      241.0  \n",
       "mfcc==Distance(Euclidean)                                          0.0  "
      ]
     },
     "execution_count": 215,
     "metadata": {},
     "output_type": "execute_result"
    }
   ],
   "source": [
    "df"
   ]
  },
  {
   "cell_type": "code",
   "execution_count": 216,
   "id": "a504c078-a98b-4fab-b844-07fa6ea24319",
   "metadata": {},
   "outputs": [
    {
     "data": {
      "text/plain": [
       "hubert-raw==Distance(Cosine)                   965.0\n",
       "hubert-soft==Distance(Cosine)                  980.5\n",
       "hubert-discrete-centroid==Distance(Cosine)     924.0\n",
       "hubert-discrete-code==Distance(Levenshtein)    975.5\n",
       "mfcc==Distance(Euclidean)                      955.0\n",
       "dtype: float64"
      ]
     },
     "execution_count": 216,
     "metadata": {},
     "output_type": "execute_result"
    }
   ],
   "source": [
    "# total wins for each condition \n",
    "# add col that sums the wins for each condition / row \n",
    "df.sum(axis=1)"
   ]
  },
  {
   "cell_type": "code",
   "execution_count": 217,
   "id": "73a95e1d-016f-47a9-a95c-52a3b949eddf",
   "metadata": {},
   "outputs": [
    {
     "data": {
      "text/plain": [
       "hubert-raw==Distance(Cosine)                   955.0\n",
       "hubert-soft==Distance(Cosine)                  939.5\n",
       "hubert-discrete-centroid==Distance(Cosine)     996.0\n",
       "hubert-discrete-code==Distance(Levenshtein)    944.5\n",
       "mfcc==Distance(Euclidean)                      965.0\n",
       "dtype: float64"
      ]
     },
     "execution_count": 217,
     "metadata": {},
     "output_type": "execute_result"
    }
   ],
   "source": [
    "# total losses for each condition\n",
    "df.sum(axis=0)"
   ]
  },
  {
   "cell_type": "markdown",
   "id": "ad29b998-ff46-42cb-bfc1-992d240f68d0",
   "metadata": {},
   "source": [
    "# Use python package choix to get bradley terry estimates of quality for our conditions"
   ]
  },
  {
   "cell_type": "code",
   "execution_count": 218,
   "id": "31250c2e-1506-4cd0-a6b5-b9f136e9bb01",
   "metadata": {},
   "outputs": [],
   "source": [
    "from choix import lsr_pairwise_dense, ilsr_pairwise_dense #non iterative and iterative versions\n",
    "import matplotlib.pyplot as plt"
   ]
  },
  {
   "cell_type": "code",
   "execution_count": 219,
   "id": "d7f1e2d2-c0f6-4b47-a1b8-e6db6af90aa9",
   "metadata": {},
   "outputs": [],
   "source": [
    "def counts_matrix_to_bradley_terry_plot(c, savepath=\"\"):\n",
    "    islr_res = ilsr_pairwise_dense(c).tolist()\n",
    "\n",
    "    # list(zip(islr_res, column_names)) # unsorted\n",
    "    # # sort cols by result value to make legend easier to read\n",
    "    # sorted(zip(islr_res, column_names), reverse=True)\n",
    "\n",
    "    fig, ax = plt.subplots()\n",
    "    # ax.scatter(x=islr_res, y=np.array([0,0,0,0]))\n",
    "    markers = ['^', 'o','X', 's', 'h']\n",
    "    colours = ['#6dda9d', '#e96860', '#7ea9e5', '#e46af0', '#FFA533']\n",
    "    assert len(conditions) == len(markers) == len(colours)\n",
    "    for (x_val, label), marker, colour in zip(zip(islr_res, column_names), markers, colours):\n",
    "    # for (x_val, label), marker, colour in zip(sorted(zip(islr_res, column_names), reverse=False), markers, colours):\n",
    "        ax.scatter(x=x_val, y=[0.125], marker=marker, label=label, s=125, c=colour)\n",
    "\n",
    "    ax.set_aspect(2)\n",
    "    ax.grid(True, which='both', axis=\"x\")\n",
    "\n",
    "    #############################################\n",
    "    # set the x-spine (see below for more info on `set_position`)\n",
    "    # ax.spines['left'].set_position('zero')\n",
    "    # turn off the right spine/ticks\n",
    "\n",
    "    ax.spines['left'].set_color('none')\n",
    "    ax.spines['right'].set_color('none')\n",
    "    # ax.yaxis.tick_left()\n",
    "\n",
    "    #############################################\n",
    "    # set the y-spine\n",
    "    ax.spines['bottom'].set_position('zero')\n",
    "\n",
    "    #############################################\n",
    "    # turn off the top spine/ticks\n",
    "    ax.spines['top'].set_color('none')\n",
    "    ax.xaxis.tick_bottom()\n",
    "\n",
    "    ax.set_yticks([])\n",
    "\n",
    "    #############################################\n",
    "    # limits\n",
    "    plt.xlim([-1, 1.01])\n",
    "    plt.ylim([0, 0.25])\n",
    "\n",
    "    ax.axvline(x=0.0035, color='k')\n",
    "    ax.axhline(y=-0, color='k')\n",
    "\n",
    "    legend = ax.legend(\n",
    "        # loc=\"upper left\", \n",
    "        bbox_to_anchor =(-0.03, 1.05),\n",
    "    )\n",
    "\n",
    "    legend.set_title(\"Conditions:\")\n",
    "    # legend.set_title(r\"$\\bf{Conditions}$\")\n",
    "                     # prop = {'size':15})\n",
    "    legend._legend_box.align = \"left\"\n",
    "\n",
    "    ax.set_xlabel(\"Condition Score\")\n",
    "    if savepath:\n",
    "        plt.savefig(savepath, bbox_inches='tight')"
   ]
  },
  {
   "cell_type": "code",
   "execution_count": 220,
   "id": "c50ae8a4-8469-46c4-becb-3e26384a7619",
   "metadata": {},
   "outputs": [
    {
     "data": {
      "image/png": "[encoded data removed]",
      "text/plain": [
       "<Figure size 640x480 with 1 Axes>"
      ]
     },
     "metadata": {},
     "output_type": "display_data"
    }
   ],
   "source": [
    "counts_matrix_to_bradley_terry_plot(c, savepath='plots/results.pdf')"
   ]
  },
  {
   "cell_type": "markdown",
   "id": "f5fd5ca5-4a7f-40c6-a7a5-aac09f29d69b",
   "metadata": {},
   "source": [
    "# do significance tests for each pair of conditions using the counts matrix"
   ]
  },
  {
   "cell_type": "markdown",
   "id": "7b0c53b8-2bcc-4585-9e82-af6be2fb44f5",
   "metadata": {},
   "source": [
    "## two sample z-test for proportions using python \n",
    "https://vitalflux.com/two-sample-z-test-for-proportions-formula-examples/#:~:text=Summary-,What%20is%20two%20proportion%20Z%2Dtest%3F,the%20two%20proportions%20are%20equal."
   ]
  },
  {
   "cell_type": "code",
   "execution_count": 226,
   "id": "fcde7454-7898-4cf2-941d-32ecb3f3da9f",
   "metadata": {
    "tags": []
   },
   "outputs": [
    {
     "name": "stdout",
     "output_type": "stream",
     "text": [
      "Collecting statsmodels\n",
      "  Downloading statsmodels-0.13.5-cp38-cp38-manylinux_2_17_x86_64.manylinux2014_x86_64.whl (9.9 MB)\n",
      "\u001b[2K     \u001b[90m━━━━━━━━━━━━━━━━━━━━━━━━━━━━━━━━━━━━━━━━\u001b[0m \u001b[32m9.9/9.9 MB\u001b[0m \u001b[31m14.5 MB/s\u001b[0m eta \u001b[36m0:00:00\u001b[0m00:01\u001b[0m00:01\u001b[0m\n",
      "\u001b[?25hRequirement already satisfied: packaging>=21.3 in /disk/nfs/ostrom/s1785140/miniconda3/envs/speller/lib/python3.8/site-packages (from statsmodels) (23.0)\n",
      "Requirement already satisfied: pandas>=0.25 in /disk/nfs/ostrom/s1785140/miniconda3/envs/speller/lib/python3.8/site-packages (from statsmodels) (1.5.3)\n",
      "Requirement already satisfied: numpy>=1.17 in /disk/nfs/ostrom/s1785140/miniconda3/envs/speller/lib/python3.8/site-packages (from statsmodels) (1.23.5)\n",
      "Collecting patsy>=0.5.2\n",
      "  Downloading patsy-0.5.3-py2.py3-none-any.whl (233 kB)\n",
      "\u001b[2K     \u001b[90m━━━━━━━━━━━━━━━━━━━━━━━━━━━━━━━━━━━━━━━\u001b[0m \u001b[32m233.8/233.8 kB\u001b[0m \u001b[31m2.1 MB/s\u001b[0m eta \u001b[36m0:00:00\u001b[0ma \u001b[36m0:00:01\u001b[0m\n",
      "\u001b[?25hRequirement already satisfied: scipy>=1.3 in /disk/nfs/ostrom/s1785140/miniconda3/envs/speller/lib/python3.8/site-packages (from statsmodels) (1.8.1)\n",
      "Requirement already satisfied: pytz>=2020.1 in /disk/nfs/ostrom/s1785140/miniconda3/envs/speller/lib/python3.8/site-packages (from pandas>=0.25->statsmodels) (2022.7.1)\n",
      "Requirement already satisfied: python-dateutil>=2.8.1 in /disk/nfs/ostrom/s1785140/miniconda3/envs/speller/lib/python3.8/site-packages (from pandas>=0.25->statsmodels) (2.8.2)\n",
      "Requirement already satisfied: six in /disk/nfs/ostrom/s1785140/miniconda3/envs/speller/lib/python3.8/site-packages (from patsy>=0.5.2->statsmodels) (1.16.0)\n",
      "Installing collected packages: patsy, statsmodels\n",
      "Successfully installed patsy-0.5.3 statsmodels-0.13.5\n"
     ]
    }
   ],
   "source": [
    "!pip install statsmodels"
   ]
  },
  {
   "cell_type": "code",
   "execution_count": 227,
   "id": "34132996-8e4d-4f8f-a405-a001d91b488e",
   "metadata": {
    "tags": []
   },
   "outputs": [],
   "source": [
    "from statsmodels.stats.proportion import proportions_ztest"
   ]
  },
  {
   "cell_type": "markdown",
   "id": "9ad2ac3f-4efb-43d4-a42a-8a335aebb028",
   "metadata": {},
   "source": [
    "# stop execution"
   ]
  },
  {
   "cell_type": "code",
   "execution_count": 224,
   "id": "2c1d90d9-06cb-4d7d-8b5d-d4172bfed4c4",
   "metadata": {
    "tags": []
   },
   "outputs": [
    {
     "ename": "ValueError",
     "evalue": "finish here!",
     "output_type": "error",
     "traceback": [
      "\u001b[0;31m---------------------------------------------------------------------------\u001b[0m",
      "\u001b[0;31mValueError\u001b[0m                                Traceback (most recent call last)",
      "Cell \u001b[0;32mIn[224], line 1\u001b[0m\n\u001b[0;32m----> 1\u001b[0m \u001b[38;5;28;01mraise\u001b[39;00m \u001b[38;5;167;01mValueError\u001b[39;00m(\u001b[38;5;124m\"\u001b[39m\u001b[38;5;124mfinish here!\u001b[39m\u001b[38;5;124m\"\u001b[39m)\n",
      "\u001b[0;31mValueError\u001b[0m: finish here!"
     ]
    }
   ],
   "source": [
    "raise ValueError(\"finish here!\")"
   ]
  },
  {
   "cell_type": "markdown",
   "id": "197d5c5b-ea44-4b89-b509-d6f5b7b61473",
   "metadata": {},
   "source": [
    "# analyse the speakers that are occur in each speech codes conditions SAC-us and SAC-scot"
   ]
  },
  {
   "cell_type": "code",
   "execution_count": 223,
   "id": "f998ce96-729d-42b2-b5f7-e7b60eafe7b0",
   "metadata": {},
   "outputs": [
    {
     "ename": "FileNotFoundError",
     "evalue": "[Errno 2] No such file or directory: 'url_lists/SAC-speechcode-input-us-fem.txt'",
     "output_type": "error",
     "traceback": [
      "\u001b[0;31m---------------------------------------------------------------------------\u001b[0m",
      "\u001b[0;31mFileNotFoundError\u001b[0m                         Traceback (most recent call last)",
      "Cell \u001b[0;32mIn[223], line 2\u001b[0m\n\u001b[1;32m      1\u001b[0m \u001b[38;5;66;03m# load url lists\u001b[39;00m\n\u001b[0;32m----> 2\u001b[0m \u001b[38;5;28;01mwith\u001b[39;00m \u001b[38;5;28;43mopen\u001b[39;49m\u001b[43m(\u001b[49m\u001b[38;5;124;43m'\u001b[39;49m\u001b[38;5;124;43murl_lists/SAC-speechcode-input-us-fem.txt\u001b[39;49m\u001b[38;5;124;43m'\u001b[39;49m\u001b[43m)\u001b[49m \u001b[38;5;28;01mas\u001b[39;00m f:\n\u001b[1;32m      3\u001b[0m     urls \u001b[38;5;241m=\u001b[39m f\u001b[38;5;241m.\u001b[39mreadlines()\n\u001b[1;32m      5\u001b[0m speakers \u001b[38;5;241m=\u001b[39m [url\u001b[38;5;241m.\u001b[39msplit(\u001b[38;5;124m'\u001b[39m\u001b[38;5;124m-\u001b[39m\u001b[38;5;124m'\u001b[39m)[\u001b[38;5;241m-\u001b[39m\u001b[38;5;241m1\u001b[39m]\u001b[38;5;241m.\u001b[39msplit(\u001b[38;5;124m'\u001b[39m\u001b[38;5;124m_\u001b[39m\u001b[38;5;124m'\u001b[39m)[\u001b[38;5;241m0\u001b[39m] \u001b[38;5;28;01mfor\u001b[39;00m url \u001b[38;5;129;01min\u001b[39;00m urls]\n",
      "File \u001b[0;32m~/miniconda3/envs/speller/lib/python3.8/site-packages/IPython/core/interactiveshell.py:282\u001b[0m, in \u001b[0;36m_modified_open\u001b[0;34m(file, *args, **kwargs)\u001b[0m\n\u001b[1;32m    275\u001b[0m \u001b[38;5;28;01mif\u001b[39;00m file \u001b[38;5;129;01min\u001b[39;00m {\u001b[38;5;241m0\u001b[39m, \u001b[38;5;241m1\u001b[39m, \u001b[38;5;241m2\u001b[39m}:\n\u001b[1;32m    276\u001b[0m     \u001b[38;5;28;01mraise\u001b[39;00m \u001b[38;5;167;01mValueError\u001b[39;00m(\n\u001b[1;32m    277\u001b[0m         \u001b[38;5;124mf\u001b[39m\u001b[38;5;124m\"\u001b[39m\u001b[38;5;124mIPython won\u001b[39m\u001b[38;5;124m'\u001b[39m\u001b[38;5;124mt let you open fd=\u001b[39m\u001b[38;5;132;01m{\u001b[39;00mfile\u001b[38;5;132;01m}\u001b[39;00m\u001b[38;5;124m by default \u001b[39m\u001b[38;5;124m\"\u001b[39m\n\u001b[1;32m    278\u001b[0m         \u001b[38;5;124m\"\u001b[39m\u001b[38;5;124mas it is likely to crash IPython. If you know what you are doing, \u001b[39m\u001b[38;5;124m\"\u001b[39m\n\u001b[1;32m    279\u001b[0m         \u001b[38;5;124m\"\u001b[39m\u001b[38;5;124myou can use builtins\u001b[39m\u001b[38;5;124m'\u001b[39m\u001b[38;5;124m open.\u001b[39m\u001b[38;5;124m\"\u001b[39m\n\u001b[1;32m    280\u001b[0m     )\n\u001b[0;32m--> 282\u001b[0m \u001b[38;5;28;01mreturn\u001b[39;00m \u001b[43mio_open\u001b[49m\u001b[43m(\u001b[49m\u001b[43mfile\u001b[49m\u001b[43m,\u001b[49m\u001b[43m \u001b[49m\u001b[38;5;241;43m*\u001b[39;49m\u001b[43margs\u001b[49m\u001b[43m,\u001b[49m\u001b[43m \u001b[49m\u001b[38;5;241;43m*\u001b[39;49m\u001b[38;5;241;43m*\u001b[39;49m\u001b[43mkwargs\u001b[49m\u001b[43m)\u001b[49m\n",
      "\u001b[0;31mFileNotFoundError\u001b[0m: [Errno 2] No such file or directory: 'url_lists/SAC-speechcode-input-us-fem.txt'"
     ]
    }
   ],
   "source": [
    "# load url lists\n",
    "with open('url_lists/SAC-speechcode-input-us-fem.txt') as f:\n",
    "    urls = f.readlines()\n",
    "\n",
    "speakers = [url.split('-')[-1].split('_')[0] for url in urls]\n",
    "\n",
    "len(set(speakers))"
   ]
  },
  {
   "cell_type": "code",
   "execution_count": null,
   "id": "55a8285c-4abd-4f20-b656-bd5b50cdf130",
   "metadata": {},
   "outputs": [],
   "source": [
    "Counter(speakers)"
   ]
  },
  {
   "cell_type": "code",
   "execution_count": null,
   "id": "9d53f5b4-bf24-435e-b71e-2c68258070a6",
   "metadata": {},
   "outputs": [],
   "source": [
    "sum(Counter(speakers).values()) / len(set(speakers))"
   ]
  },
  {
   "cell_type": "code",
   "execution_count": null,
   "id": "93762b2f-f04e-40e2-86b2-e3a52c3b42fd",
   "metadata": {},
   "outputs": [],
   "source": [
    "# load url lists\n",
    "with open('url_lists/SAC-speechcode-input-scot-fem.txt') as f:\n",
    "    urls = f.readlines()\n",
    "\n",
    "speakers = [url.split('-')[-1].split('_')[0] for url in urls]\n",
    "\n",
    "len(set(speakers))"
   ]
  },
  {
   "cell_type": "code",
   "execution_count": null,
   "id": "e9829d9b-64a8-4e99-94ec-8f0a3b26f47b",
   "metadata": {},
   "outputs": [],
   "source": [
    "Counter(speakers)"
   ]
  },
  {
   "cell_type": "code",
   "execution_count": null,
   "id": "d9aa3b8b-9381-46f3-a608-c84771ab904f",
   "metadata": {},
   "outputs": [],
   "source": [
    "sum(Counter(speakers).values()) / len(set(speakers))"
   ]
  },
  {
   "cell_type": "markdown",
   "id": "5b317e97-81bd-43e2-a37b-9db4df96c270",
   "metadata": {},
   "source": [
    "# for paper writeup\n",
    "# find the words that are most preferred as US speech codes compare to Scottish speech codes"
   ]
  },
  {
   "cell_type": "code",
   "execution_count": null,
   "id": "5efcd88a-0d95-438d-902d-2b1828264286",
   "metadata": {
    "tags": []
   },
   "outputs": [],
   "source": [
    "all_words = []\n",
    "\n",
    "for test_num, path in enumerate(paths,1):\n",
    "\n",
    "    agg_ans = get_aggregated_answers(path)\n",
    "\n",
    "    with open(f\"url_lists_ab/ab-urls-test{test_num}_targetwords.txt\") as f:\n",
    "        lines = f.readlines()\n",
    "\n",
    "    words = [line.rstrip().split()[-1] for line in lines]\n",
    "\n",
    "    conditions = []\n",
    "    for utt_num in range(1,79):\n",
    "        cond1, cond2 = get_conditions(test_num, utt_num)\n",
    "        conditions.append((cond1,cond2))\n",
    "        # word = words[utt_num-1]\n",
    "\n",
    "    for i, (condition, word) in enumerate(zip(conditions, words), 1):\n",
    "        if condition == ('sac_speechcode_scot', 'sac_speechcode_us') or condition == ('sac_speechcode_us', 'sac_speechcode_scot'):\n",
    "            counter = agg_ans[i]\n",
    "            assert sum(counter.values()) == NUM_PARTICIPANTS_PER_TEST\n",
    "            # print(i, condition, word, counter)\n",
    "            all_words.append((i, condition, word, counter))\n",
    "\n",
    "all_words = sorted(all_words, key=lambda x: x[0])\n",
    "            \n",
    "for x in all_words:\n",
    "    print(x)"
   ]
  },
  {
   "cell_type": "code",
   "execution_count": null,
   "id": "d4815205-5112-4219-aa0e-f929a4359a22",
   "metadata": {
    "tags": []
   },
   "outputs": [],
   "source": [
    "# sort by times us speech codes win most\n",
    "# 2 is us speech codes\n",
    "h_barchart_data = []\n",
    "num_wins2count = Counter()\n",
    "# sort_fn = lambda x:x[3][2] * 100 + x[3][3] #sort by us then by no preference\n",
    "sort_fn = lambda x:(x[3][2] / (x[3][1]+1)) #sort by us / scot ratio (+1 to stop division by 0 error)\n",
    "for i, condition, word, counter in sorted(all_words, key=sort_fn, reverse=True): # lambda x:x[3][2] * 100 + x[3][3] because we want to rank first by 2 (us wins) then by 3 (no preference)\n",
    "    h_barchart_data.append(counter)\n",
    "    print(i, word, counter)\n",
    "    num_wins = counter[2] # 2 is us speech codes\n",
    "    num_wins2count[num_wins] += 1\n",
    "\n",
    "us_wins_counts = sorted(num_wins2count.items(), key=lambda x: x[0], reverse=True)\n",
    "    \n",
    "print(us_wins_counts)"
   ]
  },
  {
   "cell_type": "code",
   "execution_count": null,
   "id": "e82b5fba-63b5-499a-8a63-6fe7ac04bc56",
   "metadata": {
    "tags": []
   },
   "outputs": [],
   "source": [
    "# sort by times scot speech codes win most (1 is scottish speech codes)\n",
    "num_wins2count = Counter()\n",
    "h_barchart_data_scot = []\n",
    "sort_fn = lambda x:x[3][1] * 100 + x[3][3] #sort by scot then by no preference\n",
    "for i, condition, word, counter in sorted(all_words, key=sort_fn, reverse=True):\n",
    "    h_barchart_data_scot.append(counter)\n",
    "    print(i, word, counter)\n",
    "    num_wins = counter[1] # 1 is scot speech codes\n",
    "    num_wins2count[num_wins] += 1\n",
    "    \n",
    "scot_wins_counts = sorted(num_wins2count.items(), key=lambda x: x[0], reverse=True)\n",
    "    \n",
    "print(scot_wins_counts)"
   ]
  },
  {
   "cell_type": "markdown",
   "id": "da343bc6-d05f-44f7-8ec7-8fae3c966459",
   "metadata": {},
   "source": [
    "# make plot comparing times SAC us wins vs SAC scot"
   ]
  },
  {
   "cell_type": "code",
   "execution_count": null,
   "id": "b4f87f8a-6c56-4e57-b6df-c507223f9984",
   "metadata": {
    "tags": []
   },
   "outputs": [],
   "source": [
    "us_wins_counts"
   ]
  },
  {
   "cell_type": "code",
   "execution_count": null,
   "id": "2518141d-d37a-4ae8-b3fd-50e84a4b1c18",
   "metadata": {},
   "outputs": [],
   "source": [
    "scot_wins_counts"
   ]
  },
  {
   "cell_type": "code",
   "execution_count": null,
   "id": "eb781f61-7bd8-4167-9cd8-ce93f55bdf17",
   "metadata": {},
   "outputs": [],
   "source": [
    "x,y = zip(*us_wins_counts)"
   ]
  },
  {
   "cell_type": "code",
   "execution_count": null,
   "id": "e6c4f8d7-4836-45df-a253-527a7bad4a00",
   "metadata": {},
   "outputs": [],
   "source": [
    "x"
   ]
  },
  {
   "cell_type": "code",
   "execution_count": null,
   "id": "8b79592c-cac9-44ff-b684-a241fb9118b7",
   "metadata": {},
   "outputs": [],
   "source": [
    "y"
   ]
  },
  {
   "cell_type": "code",
   "execution_count": null,
   "id": "df316930-2793-4a99-b8a5-4bcbd71e483f",
   "metadata": {},
   "outputs": [],
   "source": [
    "len(y)"
   ]
  },
  {
   "cell_type": "code",
   "execution_count": null,
   "id": "b0c17aeb-e63d-4893-a18f-3eb430b31029",
   "metadata": {},
   "outputs": [],
   "source": [
    "sum(y[:7])"
   ]
  },
  {
   "cell_type": "code",
   "execution_count": null,
   "id": "d2d5d468-5710-4029-a7cb-35d4520ba658",
   "metadata": {},
   "outputs": [],
   "source": [
    "us_wins_counts\n",
    "x,y = zip(*us_wins_counts)\n",
    "plt.plot(x,y, label=\"US\")\n",
    "x,y = zip(*scot_wins_counts)\n",
    "plt.plot(x,y, label=\"SCOT\")\n",
    "plt.legend()"
   ]
  },
  {
   "cell_type": "code",
   "execution_count": null,
   "id": "82e265cd-6b3f-43be-96b8-e130f0c0b934",
   "metadata": {},
   "outputs": [],
   "source": [
    "category_names = ['Strongly disagree', 'Disagree',\n",
    "                  'Neither agree nor disagree', 'Agree', 'Strongly agree']\n",
    "results = {\n",
    "    'Question 1': [10, 15, 17, 32, 26],\n",
    "    'Question 2': [26, 22, 29, 10, 13],\n",
    "    'Question 3': [35, 37, 7, 2, 19],\n",
    "    'Question 4': [32, 11, 9, 15, 33],\n",
    "    'Question 5': [21, 29, 5, 5, 40],\n",
    "    'Question 6': [8, 19, 5, 30, 38]\n",
    "}\n",
    "\n",
    "\n",
    "def survey(results, category_names):\n",
    "    \"\"\"\n",
    "    Parameters\n",
    "    ----------\n",
    "    results : dict\n",
    "        A mapping from question labels to a list of answers per category.\n",
    "        It is assumed all lists contain the same number of entries and that\n",
    "        it matches the length of *category_names*.\n",
    "    category_names : list of str\n",
    "        The category labels.\n",
    "    \"\"\"\n",
    "    labels = list(results.keys())\n",
    "    data = np.array(list(results.values()))\n",
    "    data_cum = data.cumsum(axis=1)\n",
    "    category_colors = plt.colormaps['RdYlGn'](\n",
    "        np.linspace(0.15, 0.85, data.shape[1]))\n",
    "\n",
    "    fig, ax = plt.subplots(figsize=(9.2, 5))\n",
    "    ax.invert_yaxis()\n",
    "    ax.xaxis.set_visible(False)\n",
    "    ax.set_xlim(0, np.sum(data, axis=1).max())\n",
    "\n",
    "    for i, (colname, color) in enumerate(zip(category_names, category_colors)):\n",
    "        print(i, colname, labels)\n",
    "        widths = data[:, i]\n",
    "        starts = data_cum[:, i] - widths\n",
    "        rects = ax.barh(labels, widths, left=starts, height=1,\n",
    "                        label=colname, color=color)\n",
    "\n",
    "        r, g, b, _ = color\n",
    "        text_color = 'white' if r * g * b < 0.5 else 'darkgrey'\n",
    "        ax.bar_label(rects, label_type='center', color=text_color)\n",
    "    ax.legend(ncol=len(category_names), bbox_to_anchor=(0, 1),\n",
    "              loc='lower left', fontsize='small')\n",
    "    \n",
    "    # turn off y axis labels\n",
    "    ax.axes.yaxis.set_visible(False)\n",
    "\n",
    "    return fig, ax\n",
    "\n",
    "\n",
    "survey(results, category_names)\n",
    "plt.show()"
   ]
  },
  {
   "cell_type": "code",
   "execution_count": null,
   "id": "0de37b02-6f6c-4016-b79f-ce1b5c61e10c",
   "metadata": {
    "tags": []
   },
   "outputs": [],
   "source": [
    "def get_barwidths_from_counter(counter):\n",
    "    # US\n",
    "    if 2 in counter: \n",
    "        left = counter[2]\n",
    "    else:\n",
    "        left = 0\n",
    "    # no pref\n",
    "    if 3 in counter: \n",
    "        middle = counter[3]\n",
    "    else:\n",
    "        middle = 0\n",
    "    # Scot\n",
    "    if 1 in counter: \n",
    "        right = counter[1]\n",
    "    else:\n",
    "        right = 0\n",
    "    return [left, middle, right]"
   ]
  },
  {
   "cell_type": "code",
   "execution_count": null,
   "id": "09e00440-0b31-41bd-8029-6aa980b7a051",
   "metadata": {},
   "outputs": [],
   "source": [
    "def get_barwidths_from_counter_scot(counter):\n",
    "    # US\n",
    "    if 1 in counter: \n",
    "        left = counter[1]\n",
    "    else:\n",
    "        left = 0\n",
    "    # no pref\n",
    "    if 3 in counter: \n",
    "        middle = counter[3]\n",
    "    else:\n",
    "        middle = 0\n",
    "    # Scot\n",
    "    if 2 in counter: \n",
    "        right = counter[2]\n",
    "    else:\n",
    "        right = 0\n",
    "    return [left, middle, right]"
   ]
  },
  {
   "cell_type": "code",
   "execution_count": null,
   "id": "6d06cb86-7b8b-42a7-9b0b-c3de30ec2f81",
   "metadata": {
    "tags": []
   },
   "outputs": [],
   "source": [
    "h_barchart_data"
   ]
  },
  {
   "cell_type": "code",
   "execution_count": null,
   "id": "7c9a012f-f4a4-4605-87cf-6d4cb62b3ba6",
   "metadata": {},
   "outputs": [],
   "source": [
    "category_names = ['us', 'no pref', 'scot']\n",
    "\n",
    "results = {f'Question {i}': get_barwidths_from_counter(counter) for i, counter in enumerate(h_barchart_data,1)}\n",
    "\n",
    "\n",
    "def survey(results, category_names):\n",
    "    \"\"\"\n",
    "    Parameters\n",
    "    ----------\n",
    "    results : dict\n",
    "        A mapping from question labels to a list of answers per category.\n",
    "        It is assumed all lists contain the same number of entries and that\n",
    "        it matches the length of *category_names*.\n",
    "    category_names : list of str\n",
    "        The category labels.\n",
    "    \"\"\"\n",
    "    labels = list(results.keys())\n",
    "    data = np.array(list(results.values()))\n",
    "    data_cum = data.cumsum(axis=1)\n",
    "    category_colors = plt.colormaps['RdYlGn'](\n",
    "        np.linspace(0.15, 0.85, data.shape[1]))\n",
    "\n",
    "    fig, ax = plt.subplots(figsize=(20, 10))\n",
    "    ax.invert_yaxis()\n",
    "    ax.xaxis.set_visible(False)\n",
    "    ax.set_xlim(0, np.sum(data, axis=1).max())\n",
    "\n",
    "    for i, (colname, color) in enumerate(zip(category_names, category_colors)):\n",
    "        print(i, colname, labels)\n",
    "        widths = data[:, i]\n",
    "        starts = data_cum[:, i] - widths\n",
    "        rects = ax.barh(labels, widths, left=starts, height=1,\n",
    "                        label=colname, color=color)\n",
    "\n",
    "        r, g, b, _ = color\n",
    "        text_color = 'white' if r * g * b < 0.5 else 'darkgrey'\n",
    "        # ax.bar_label(rects, label_type='center', color=text_color)\n",
    "    ax.legend(ncol=len(category_names), bbox_to_anchor=(0, 1),\n",
    "              loc='lower left', fontsize='small')\n",
    "    \n",
    "    # turn off y axis labels\n",
    "    ax.axes.yaxis.set_visible(False)\n",
    "\n",
    "    return fig, ax\n",
    "\n",
    "\n",
    "survey(results, category_names)\n",
    "plt.show()"
   ]
  },
  {
   "cell_type": "code",
   "execution_count": null,
   "id": "7de45afc-d69a-45ed-a942-5ed55b24505b",
   "metadata": {
    "tags": []
   },
   "outputs": [],
   "source": [
    "category_names = ['scot', 'no pref', 'us']\n",
    "\n",
    "results = {f'Question {i}': get_barwidths_from_counter_scot(counter) for i, counter in enumerate(h_barchart_data_scot,1)}\n",
    "\n",
    "\n",
    "def survey(results, category_names):\n",
    "    \"\"\"\n",
    "    Parameters\n",
    "    ----------\n",
    "    results : dict\n",
    "        A mapping from question labels to a list of answers per category.\n",
    "        It is assumed all lists contain the same number of entries and that\n",
    "        it matches the length of *category_names*.\n",
    "    category_names : list of str\n",
    "        The category labels.\n",
    "    \"\"\"\n",
    "    labels = list(results.keys())\n",
    "    data = np.array(list(results.values()))\n",
    "    data_cum = data.cumsum(axis=1)\n",
    "    category_colors = plt.colormaps['RdYlGn'](\n",
    "        np.linspace(0.15, 0.85, data.shape[1]))\n",
    "\n",
    "    fig, ax = plt.subplots(figsize=(20, 10))\n",
    "    ax.invert_yaxis()\n",
    "    ax.xaxis.set_visible(False)\n",
    "    ax.set_xlim(0, np.sum(data, axis=1).max())\n",
    "\n",
    "    for i, (colname, color) in enumerate(zip(category_names, category_colors)):\n",
    "        print(i, colname, labels)\n",
    "        widths = data[:, i]\n",
    "        starts = data_cum[:, i] - widths\n",
    "        rects = ax.barh(labels, widths, left=starts, height=1,\n",
    "                        label=colname, color=color)\n",
    "\n",
    "        r, g, b, _ = color\n",
    "        text_color = 'white' if r * g * b < 0.5 else 'darkgrey'\n",
    "        # ax.bar_label(rects, label_type='center', color=text_color)\n",
    "    ax.legend(ncol=len(category_names), bbox_to_anchor=(0, 1),\n",
    "              loc='lower left', fontsize='small')\n",
    "    \n",
    "    # turn off y axis labels\n",
    "    ax.axes.yaxis.set_visible(False)\n",
    "\n",
    "    return fig, ax\n",
    "\n",
    "\n",
    "survey(results, category_names)\n",
    "plt.show()"
   ]
  },
  {
   "cell_type": "code",
   "execution_count": null,
   "id": "6c6f7796-e639-44d8-9baa-83ce15141c53",
   "metadata": {},
   "outputs": [],
   "source": []
  }
 ],
 "metadata": {
  "kernelspec": {
   "display_name": "Python 3 (ipykernel)",
   "language": "python",
   "name": "python3"
  },
  "language_info": {
   "codemirror_mode": {
    "name": "ipython",
    "version": 3
   },
   "file_extension": ".py",
   "mimetype": "text/x-python",
   "name": "python",
   "nbconvert_exporter": "python",
   "pygments_lexer": "ipython3",
   "version": "3.8.16"
  }
 },
 "nbformat": 4,
 "nbformat_minor": 5
}
