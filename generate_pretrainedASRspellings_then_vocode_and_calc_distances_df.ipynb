{
 "cells": [
  {
   "cell_type": "markdown",
   "id": "4207e21b-d910-485b-8b9c-3fc7d5a59c5a",
   "metadata": {},
   "source": [
    "# Goal of this notebook\n",
    "\n",
    "Develop a training loop for finetuning ASR models using TTS loss by recreating RL training found in RL4LMs/rl4lms/envs/text_generation/training_utils.py\n",
    "\n",
    "```bash\n",
    "conda activate speller\n",
    "cd /home/s1785140/rlspeller\n",
    "```"
   ]
  },
  {
   "cell_type": "code",
   "execution_count": 1,
   "id": "22a894b6-b557-4c63-a830-70c8954d7a6e",
   "metadata": {
    "tags": []
   },
   "outputs": [
    {
     "name": "stdout",
     "output_type": "stream",
     "text": [
      "this notebook is alive!!!\n"
     ]
    }
   ],
   "source": [
    "print(\"this notebook is alive!!!\")"
   ]
  },
  {
   "cell_type": "markdown",
   "id": "a70687ad-9f13-4cdf-8ef7-07eecb34f496",
   "metadata": {},
   "source": [
    "# automatic reloading magic"
   ]
  },
  {
   "cell_type": "code",
   "execution_count": 2,
   "id": "c3ef7885",
   "metadata": {},
   "outputs": [],
   "source": [
    "%load_ext autoreload\n",
    "%autoreload 2"
   ]
  },
  {
   "cell_type": "markdown",
   "id": "738aac35-fdd1-4452-aff0-92caa77ec5ab",
   "metadata": {},
   "source": [
    "# imports"
   ]
  },
  {
   "cell_type": "code",
   "execution_count": 3,
   "id": "9c8a89c2-38ea-4778-8028-0c7854152301",
   "metadata": {
    "tags": []
   },
   "outputs": [],
   "source": [
    "import torch\n",
    "from typing import List, Dict, Tuple, Any\n",
    "import hyperpyyaml\n",
    "from tqdm import tqdm\n",
    "from torchaudio.models.decoder import ctc_decoder\n",
    "from torch.nn.functional import softmax\n",
    "import random\n",
    "from jiwer import cer\n",
    "import numpy as np\n",
    "import speechbrain as sb\n",
    "from IPython.display import Audio\n",
    "import matplotlib.pyplot as plt\n",
    "import librosa\n",
    "import pandas as pd\n",
    "import pickle\n",
    "import torchaudio\n",
    "from collections import Counter"
   ]
  },
  {
   "cell_type": "markdown",
   "id": "6fa2cd37",
   "metadata": {},
   "source": [
    "## check if gpu available"
   ]
  },
  {
   "cell_type": "code",
   "execution_count": 4,
   "id": "53032f3b",
   "metadata": {},
   "outputs": [
    {
     "name": "stdout",
     "output_type": "stream",
     "text": [
      "barre.inf.ed.ac.uk\n"
     ]
    }
   ],
   "source": [
    "# print hostname to make sure we are on correct node\n",
    "disallowed_nodes = ['escience6']\n",
    "import socket\n",
    "hostname = socket.gethostname()\n",
    "print(hostname)\n",
    "node = hostname.split('.')[0]\n",
    "if node in disallowed_nodes:\n",
    "    raise ValueError(f\"Running on disallowed node {node}!\")"
   ]
  },
  {
   "cell_type": "code",
   "execution_count": 5,
   "id": "f67b1b68",
   "metadata": {},
   "outputs": [],
   "source": [
    "device = torch.device('cuda' if torch.cuda.is_available() else 'cpu')\n",
    "torch.cuda.is_available()\n",
    "assert torch.cuda.is_available()"
   ]
  },
  {
   "cell_type": "code",
   "execution_count": 6,
   "id": "b6f67235",
   "metadata": {},
   "outputs": [
    {
     "data": {
      "text/plain": [
       "'/disk/nfs/ostrom/s1785140/rlspeller'"
      ]
     },
     "execution_count": 6,
     "metadata": {},
     "output_type": "execute_result"
    }
   ],
   "source": [
    "import os\n",
    "os.getcwd()"
   ]
  },
  {
   "cell_type": "markdown",
   "id": "b236619f-6c04-44b1-a697-a342417a6694",
   "metadata": {},
   "source": [
    "# HPARAMS"
   ]
  },
  {
   "cell_type": "code",
   "execution_count": 7,
   "id": "c8a11879-640c-433e-a192-9c8b551d8ca2",
   "metadata": {},
   "outputs": [],
   "source": [
    "inference_hparams = {\n",
    "    \"sentencepiece_model_path\": \"/home/s1785140/speechbrain/templates/speech_recognition_CharTokens_NoLM/Tokenizer/save/0_char.model\",\n",
    "\n",
    "    # 'speechbrain_hparams_file': '/home/s1785140/rlspeller/infer_speechbrain_subsampling1x_nowhitespace.yaml',\n",
    "    'speechbrain_hparams_file': '/home/s1785140/rlspeller/infer_speechbrain_subsampling1x.yaml',\n",
    "    # 'speechbrain_hparams_file': '/home/s1785140/rlspeller/infer_speechbrain_subsampling2x.yaml',\n",
    "    # 'speechbrain_hparams_file': '/home/s1785140/rlspeller/infer_speechbrain.yaml', # 4x subsampling\n",
    "\n",
    "    'sample_rate': 16000, # TODO this isn't used???\n",
    "    \n",
    "    ### Loading ASR model \n",
    "    'enable_dropout': False,\n",
    "    # 'dropout_p': 0.0, # 0.15 is the default value in speechbrain\n",
    "    'dropout_p': 0.05, # 0.15 is the default value in speechbrain\n",
    "    # 'dropout_p': 0.15, # 0.15 is the default value in speechbrain\n",
    "    # 'dropout_p': 0.3, # 0.15 is the default value in speechbrain\n",
    "    # 'dropout_p': 0.5, # 0.15 is the default value in speechbrain\n",
    "    # 'dropout_p': 0.99, # 0.15 is the default value in speechbrain\n",
    "    \n",
    "    ### filter ASR dataset by words in oov list\n",
    "    \"filter_by_per\": True,\n",
    "    \"str_min_len_threshold\": 7, # only keep wordtypes with more than this many characters\n",
    "    # \"wordtypes_to_keep\": 2, # max number of wordtypes to transribe DEBUG!!!\n",
    "    \"wordtypes_to_keep\": 100, # max number of wordtypes to transribe\n",
    "    \"max_token_ids_per_wordtype\": 1,\n",
    "\n",
    "    \n",
    "    # ### TRANSCRIBING AUDIO USING PRETRAINED ASR\n",
    "    # FULL TEST RUN\n",
    "    # \"batch_size\": 64,\n",
    "    # 'num_asr_iterations': 1, \n",
    "    # 'num_batches_to_transcribe': None, # transcribe all dataset\n",
    "    # 'max_hyps_per_sample': None,\n",
    "    # \"beamsearch_nbest\": 1000, \n",
    "    \n",
    "    # SMALL TEST RUN\n",
    "    \"batch_size\": 64, # for debug\n",
    "    'num_asr_iterations': 1, # for debug\n",
    "    'num_batches_to_transcribe': None, # for debug\n",
    "    \"beamsearch_nbest\": 100, # for debug\n",
    "    'max_hyps_per_sample': None, # for debug\n",
    "    \n",
    "    # FAST DEBUG\n",
    "    # \"batch_size\": 2, # for debug\n",
    "    # 'num_asr_iterations': 1, # for debug\n",
    "    # 'num_batches_to_transcribe': 2, # for debug\n",
    "    # \"beamsearch_nbest\": 2, # for debug\n",
    "    # 'max_hyps_per_sample': None, # for debug\n",
    "\n",
    "\n",
    "    ### CACHE to avoid recompute\n",
    "    'recompute_tts_caches': False,\n",
    "    'spelling2tts_mel_cache': \"/home/s1785140/rlspeller/caches/spelling2tts_mel_cache.pkl\",\n",
    "    'spelling2tts_mfcc_cache': \"/home/s1785140/rlspeller/caches/spelling2tts_mfcc_cache.pkl\",\n",
    "    'spelling2vocoded_audio_cache': \"/home/s1785140/rlspeller/caches/spelling2vocoded_audio_cache.pkl\",\n",
    "    \n",
    "    ### FASTPITCH INFERENCE\n",
    "    'fastpitch_inference_batch_size': 32,    \n",
    "}"
   ]
  },
  {
   "cell_type": "markdown",
   "id": "2e877615-a6ff-4755-a7e4-e6f72e542432",
   "metadata": {},
   "source": [
    "# TOKENIZER"
   ]
  },
  {
   "cell_type": "code",
   "execution_count": 8,
   "id": "0505c38d-bc92-4f84-9f1f-cfc942ad337d",
   "metadata": {
    "tags": []
   },
   "outputs": [
    {
     "name": "stdout",
     "output_type": "stream",
     "text": [
      "28\n"
     ]
    }
   ],
   "source": [
    "# load pretrained tokenizer used to tokenizer ASR training inputs \n",
    "import sentencepiece as spm \n",
    "spm_path = inference_hparams[\"sentencepiece_model_path\"]\n",
    "sp = spm.SentencePieceProcessor()\n",
    "sp.load(spm_path)\n",
    "print(sp.vocab_size())"
   ]
  },
  {
   "cell_type": "code",
   "execution_count": 9,
   "id": "a4af21be-9224-4c45-87f6-b86a8d7c63ab",
   "metadata": {
    "tags": []
   },
   "outputs": [
    {
     "name": "stdout",
     "output_type": "stream",
     "text": [
      "1 10 2 12 12 4 1 17 4 9 12 11 1 16 20 1 6 5 16 2 1 7 8 1 26 5 8 4 6\n"
     ]
    }
   ],
   "source": [
    "# test tokenizer\n",
    "s = \"hello world my name is jason\"\n",
    "# TODO pass string through text cleaners? \n",
    "encoded = sp.EncodeAsIds(s)\n",
    "assert 0 not in encoded, \"tried to encode an unknown character\"\n",
    "print(\" \".join(str(idx) for idx in encoded))"
   ]
  },
  {
   "cell_type": "code",
   "execution_count": 10,
   "id": "fe3c6048-79c5-47b4-9524-88d2e36ad8d3",
   "metadata": {
    "tags": []
   },
   "outputs": [
    {
     "data": {
      "text/plain": [
       "'hello world my name is jason'"
      ]
     },
     "execution_count": 10,
     "metadata": {},
     "output_type": "execute_result"
    }
   ],
   "source": [
    "sp.DecodeIds(encoded)"
   ]
  },
  {
   "cell_type": "markdown",
   "id": "2996d1f1-d331-4919-8742-7907b46a46ce",
   "metadata": {},
   "source": [
    "# NEW! SIMPLE TOKENIZER"
   ]
  },
  {
   "cell_type": "code",
   "execution_count": 11,
   "id": "f8951a84-e22e-4c62-a169-403a1b5269af",
   "metadata": {
    "tags": []
   },
   "outputs": [],
   "source": [
    "from speechbrain.tokenizers.SimpleTokenizer import SimpleTokenizer"
   ]
  },
  {
   "cell_type": "code",
   "execution_count": 12,
   "id": "bfec85a8-d20d-445e-8483-cf27092e2962",
   "metadata": {
    "tags": []
   },
   "outputs": [],
   "source": [
    "tokenizer = SimpleTokenizer()"
   ]
  },
  {
   "cell_type": "code",
   "execution_count": 13,
   "id": "9c52e4b5-8d26-44c3-a1ad-c772b6feac62",
   "metadata": {
    "tags": []
   },
   "outputs": [
    {
     "name": "stdout",
     "output_type": "stream",
     "text": [
      "hello|my|name|is|jason\n"
     ]
    },
    {
     "data": {
      "text/plain": [
       "[9, 6, 13, 13, 16, 1, 14, 26, 1, 15, 2, 14, 6, 1, 10, 20, 1, 11, 2, 20, 16, 15]"
      ]
     },
     "execution_count": 13,
     "metadata": {},
     "output_type": "execute_result"
    }
   ],
   "source": [
    "text = \"hello my name is jason\"\n",
    "text = text.replace(' ', '|')\n",
    "print(text)\n",
    "ids = tokenizer.encode_as_ids(text)\n",
    "ids"
   ]
  },
  {
   "cell_type": "code",
   "execution_count": 14,
   "id": "f5f1bf5e-500b-47ce-986c-3cbe059cdf41",
   "metadata": {
    "tags": []
   },
   "outputs": [
    {
     "data": {
      "text/plain": [
       "'hello|my|name|is|jason'"
      ]
     },
     "execution_count": 14,
     "metadata": {},
     "output_type": "execute_result"
    }
   ],
   "source": [
    "tokenizer.decode_ids(ids)"
   ]
  },
  {
   "cell_type": "markdown",
   "id": "8c5ea5f7-6224-4089-8136-5c4b8d47a2e2",
   "metadata": {
    "tags": []
   },
   "source": [
    "## test simple tokenizer with probability distribution, and see if CTC decoder successfully generates n-best lists"
   ]
  },
  {
   "cell_type": "code",
   "execution_count": 15,
   "id": "a60ffb1b-6770-466c-90f6-6daa1dbe461b",
   "metadata": {
    "tags": []
   },
   "outputs": [],
   "source": [
    "# create empty array of correct dimensions\n",
    "min_len, max_len = 50, 100\n",
    "bsz = 4\n",
    "lens = torch.randint(min_len, max_len, (bsz,))\n",
    "vocab_size = len(tokenizer.vocab)\n",
    "\n",
    "# randomly assign probaility distribution to each timestep\n",
    "\n",
    "# try to decode"
   ]
  },
  {
   "cell_type": "code",
   "execution_count": 16,
   "id": "cac82712-8559-44d0-86d9-66cf1ddfbd5c",
   "metadata": {
    "tags": []
   },
   "outputs": [],
   "source": [
    "randn = torch.randn(bsz, max_len, vocab_size)"
   ]
  },
  {
   "cell_type": "code",
   "execution_count": 17,
   "id": "26e7e51c-bab1-4f2d-bb12-34f9f9c4454c",
   "metadata": {
    "tags": []
   },
   "outputs": [],
   "source": [
    "ctc_probs = softmax(randn, dim=1)\n",
    "# ctc_probs"
   ]
  },
  {
   "cell_type": "code",
   "execution_count": 18,
   "id": "7f9abdc6-bd05-4c5c-a091-d04dadbaa9e5",
   "metadata": {
    "tags": []
   },
   "outputs": [
    {
     "name": "stdout",
     "output_type": "stream",
     "text": [
      "('sample 1, hyp 1/2', ['|pyhxuvzxrpk|smcbgv|lptcefkcanibuoynhlhchkvabkbyzcrtcujgkhfsjafzngr|gb|gnqpjiyfatasmpghwtedn|'])\n",
      "('sample 1, hyp 2/2', ['|pyhxuvzxrpk|smcbgv|lptcefkcanibuoynhlhchkvabkbyzcrtcujgkhfsjafzngr|gb|gnqpjijfatasmpghwtedn|'])\n",
      "('sample 2, hyp 1/2', ['|gnrjdiowfvjmyrnakigsctac|bmlufrkw|shchkxfjshnqlpyguntwvtehkbt|'])\n",
      "('sample 2, hyp 2/2', ['|gnrjdiowfvjmyrnikigsctac|bmlufrkw|shchkxfjshnqlpyguntwvtehkbt|'])\n",
      "('sample 3, hyp 1/2', ['|mo|ahejuwlbmnvekvqfkynjkgvetwkrz|m|zxrtgoxyjohidltbsnmufpnbnshuc|'])\n",
      "('sample 3, hyp 2/2', ['|md|ahejuwlbmnvekvqfkynjkgvetwkrz|m|zxrtgoxyjohidltbsnmufpnbnshuc|'])\n",
      "('sample 4, hyp 1/2', ['|qwsnk|argxv|lhprenyvkolerkuhfhnxdp|zudpbofxwkvwtlcpsdwsvifcwmnzbnsvtomftmg|'])\n",
      "('sample 4, hyp 2/2', ['|qwsnk|argxv|lhprenyvkolevkuhfhnxdp|zudpbofxwkvwtlcpsdwsvifcwmnzbnsvtomftmg|'])\n"
     ]
    }
   ],
   "source": [
    "ctc_beamsearch_decoder_test = ctc_decoder(\n",
    "    lexicon=None,\n",
    "    # tokens=\"/home/s1785140/rlspeller/templates/speech_recognition_CharTokens_NoLM/Tokenizer/save/tokens.txt\",\n",
    "    tokens=tokenizer.vocab,\n",
    "    nbest=2,\n",
    "    blank_token='-',\n",
    "    sil_token=\"|\",\n",
    ")\n",
    "\n",
    "predicted_ids = ctc_beamsearch_decoder_test(ctc_probs, lens)\n",
    "\n",
    "predicted_words = []\n",
    "for i, hyps in enumerate(predicted_ids):\n",
    "    for j, hyp in enumerate(hyps):\n",
    "        words = tokenizer.decode_ids(hyp.tokens.tolist()).split(\" \")\n",
    "        tup = (f\"sample {i+1}, hyp {j+1}/{len(hyps)}\", words)\n",
    "        predicted_words.append(tup)\n",
    "        print(tup)"
   ]
  },
  {
   "cell_type": "markdown",
   "id": "cd650fd4",
   "metadata": {},
   "source": [
    "# LOAD ASR (PRETRAINED)"
   ]
  },
  {
   "cell_type": "code",
   "execution_count": 19,
   "id": "56bf160c",
   "metadata": {},
   "outputs": [],
   "source": [
    "from templates.speech_recognition_CharTokens_NoLM.ASR.train import ASR\n",
    "from templates.speech_recognition_CharTokens_NoLM.ASR.train import dataio_prepare\n",
    "from torch.utils.data import DataLoader\n",
    "from speechbrain.dataio.dataloader import LoopedLoader"
   ]
  },
  {
   "cell_type": "code",
   "execution_count": 20,
   "id": "36d8019b",
   "metadata": {},
   "outputs": [
    {
     "name": "stdout",
     "output_type": "stream",
     "text": [
      "/home/s1785140/speechbrain/templates/speech_recognition_CharTokens_NoLM/data/rirs_noises.zip exists. Skipping download\n"
     ]
    }
   ],
   "source": [
    "# Load hyperparameters file with command-line overrides\n",
    "speechbrain_hparams_file = inference_hparams['speechbrain_hparams_file']\n",
    "with open(speechbrain_hparams_file) as f:\n",
    "    speechbrain_hparams = hyperpyyaml.load_hyperpyyaml(f)"
   ]
  },
  {
   "cell_type": "code",
   "execution_count": 21,
   "id": "9b624228-ac94-4503-a563-ad90d8fbe95e",
   "metadata": {},
   "outputs": [],
   "source": [
    "# overrides\n",
    "if 'batch_size' in inference_hparams:\n",
    "    speechbrain_hparams['batch_size'] = inference_hparams['batch_size']"
   ]
  },
  {
   "cell_type": "code",
   "execution_count": 22,
   "id": "26c15de1-25d9-428e-900f-967c3af9a8ad",
   "metadata": {
    "tags": []
   },
   "outputs": [
    {
     "data": {
      "text/plain": [
       "'/home/s1785140/speechbrain/templates/speech_recognition_CharTokens_NoLM/ASR/results/CRDNN_CHAR_LJSpeech_halved_subsampling1x/2602/save'"
      ]
     },
     "execution_count": 22,
     "metadata": {},
     "output_type": "execute_result"
    }
   ],
   "source": [
    "speechbrain_hparams['save_folder']"
   ]
  },
  {
   "cell_type": "code",
   "execution_count": 23,
   "id": "896a3d09",
   "metadata": {},
   "outputs": [],
   "source": [
    "# replace some values with inference time values\n",
    "speechbrain_hparams['dropout'] = inference_hparams['dropout_p']"
   ]
  },
  {
   "cell_type": "code",
   "execution_count": 24,
   "id": "b4072195-fb2b-4c9a-b201-c84b7a7ae104",
   "metadata": {
    "tags": []
   },
   "outputs": [],
   "source": [
    "# initialise trainer (we don't want to train, but model is tightly coupled with trainer)\n",
    "asr_brain = ASR(\n",
    "    modules=speechbrain_hparams[\"modules\"],\n",
    "    opt_class=speechbrain_hparams[\"opt_class\"],\n",
    "    hparams=speechbrain_hparams,\n",
    "    checkpointer=speechbrain_hparams[\"checkpointer\"],\n",
    ")"
   ]
  },
  {
   "cell_type": "code",
   "execution_count": 25,
   "id": "1e8b676b",
   "metadata": {},
   "outputs": [
    {
     "name": "stdout",
     "output_type": "stream",
     "text": [
      "if on_evaluate_start() get runtime error, likely need to restart notebook kernel\n"
     ]
    }
   ],
   "source": [
    "def change_dropout_p(brain, new_dropout_p):\n",
    "    for module_name in brain.modules.keys():\n",
    "        module = brain.modules[module_name]\n",
    "        for submodule_name, submodule in module.named_modules():\n",
    "            if isinstance(submodule, torch.nn.Dropout) or isinstance(submodule, torch.nn.Dropout2d):\n",
    "                # handle proper dropout submodules\n",
    "                print(f\"changed dropout p of {module_name}-{submodule_name}-{submodule} from {submodule.p} to {new_dropout_p}\")\n",
    "                submodule.p = new_dropout_p\n",
    "            else:\n",
    "                # handle dropout in nn.LSTM\n",
    "                for attr in [\"dropout\", \"drop\"]:\n",
    "                    if hasattr(submodule, attr) and type(getattr(submodule, attr)) == float: \n",
    "                        print(f\"changed dropout p of {module_name}-{submodule_name}-{submodule} from {getattr(submodule, attr)} to {new_dropout_p}\")\n",
    "                        setattr(submodule, attr, new_dropout_p)\n",
    "\n",
    "def setup_asr_brain_for_infer(asr_brain, enable_dropout=False, new_dropout_p=0.15):\n",
    "    asr_brain.on_evaluate_start(min_key=\"WER\") # We call the on_evaluate_start that will load the best model\n",
    "    if enable_dropout:\n",
    "        asr_brain.modules.train()\n",
    "        print(\"Enabled dropout in model:\")\n",
    "        change_dropout_p(asr_brain, new_dropout_p)\n",
    "    else:\n",
    "        asr_brain.modules.eval() # We set the model to eval mode (remove dropout etc)\n",
    "\n",
    "print(\"if on_evaluate_start() get runtime error, likely need to restart notebook kernel\")\n",
    "setup_asr_brain_for_infer(asr_brain, enable_dropout=inference_hparams[\"enable_dropout\"], new_dropout_p=inference_hparams[\"dropout_p\"])"
   ]
  },
  {
   "cell_type": "code",
   "execution_count": 26,
   "id": "909b3c39-3a03-4384-82ca-2305b3ed2272",
   "metadata": {},
   "outputs": [],
   "source": [
    "# create dataset and dataloader for inference\n",
    "datasets = dataio_prepare(speechbrain_hparams)\n",
    "\n",
    "test_set = datasets['test']\n",
    "\n",
    "if not isinstance(test_set, DataLoader) or isinstance(test_set, LoopedLoader):\n",
    "    test_loader_kwargs=speechbrain_hparams[\"test_dataloader_opts\"]\n",
    "    test_set = asr_brain.make_dataloader(\n",
    "        test_set, stage=sb.Stage.TEST, **test_loader_kwargs\n",
    "    )"
   ]
  },
  {
   "cell_type": "code",
   "execution_count": 27,
   "id": "69b4b4b1",
   "metadata": {},
   "outputs": [
    {
     "name": "stdout",
     "output_type": "stream",
     "text": [
      "[' ⁇ ', '', 'e', 't', 'o', 'a', 'n', 'i', 's', 'r', 'h', 'd', 'l', 'c', 'f', 'u', 'm', 'w', 'p', 'g', 'y', 'b', 'v', 'k', 'x', 'q', 'j', 'z']\n",
      "['-', '|', 'e', 't', 'o', 'a', 'n', 'i', 's', 'r', 'h', 'd', 'l', 'c', 'f', 'u', 'm', 'w', 'p', 'g', 'y', 'b', 'v', 'k', 'x', 'q', 'j', 'z']\n"
     ]
    }
   ],
   "source": [
    "# get vocab from tokenizer (needed for ctc decoding)\n",
    "vocab_size = len(asr_brain.hparams.tokenizer)\n",
    "vocab = []\n",
    "for i in range(vocab_size):\n",
    "    vocab.append(asr_brain.hparams.tokenizer.decode_ids([i]))\n",
    "print(vocab)\n",
    "\n",
    "# edit vocab to match default ctc decoder symbols for blank and silence\n",
    "vocab[0] = '-'\n",
    "vocab[1] = \"|\"\n",
    "\n",
    "print(vocab)"
   ]
  },
  {
   "cell_type": "code",
   "execution_count": 28,
   "id": "6af49d3e",
   "metadata": {},
   "outputs": [],
   "source": [
    "ctc_beamsearch_decoder = ctc_decoder(\n",
    "    lexicon=None,\n",
    "    # tokens=\"/home/s1785140/rlspeller/templates/speech_recognition_CharTokens_NoLM/Tokenizer/save/tokens.txt\",\n",
    "    tokens=vocab,\n",
    "    nbest=inference_hparams['beamsearch_nbest'],\n",
    "    beam_size=1500,\n",
    "    beam_threshold=50,\n",
    "    blank_token='-',\n",
    "    sil_token=\"|\",\n",
    ")"
   ]
  },
  {
   "cell_type": "code",
   "execution_count": 29,
   "id": "b4d6501c",
   "metadata": {},
   "outputs": [],
   "source": [
    "# generate transcriptions for all batches in test set\n",
    "def transcribe_dataset(asr_brain, dataset, greedy=False, num_batches_to_transcribe=None):\n",
    "    # Now we iterate over the dataset and we simply compute_forward and decode\n",
    "    with torch.no_grad():\n",
    "        transcripts = []\n",
    "        for batch in tqdm(list(dataset)[:num_batches_to_transcribe], dynamic_ncols=True):\n",
    "            orig_transcriptions = batch.words\n",
    "\n",
    "            # Make sure that your compute_forward returns the predictions !!!\n",
    "            # In the case of the template, when stage = TEST, a beam search is applied \n",
    "            # in compute_forward(). \n",
    "            predictions = asr_brain.compute_forward(batch, stage=sb.Stage.TEST)\n",
    "            \n",
    "            ctc_probs = predictions['ctc_logprobs'] # FOR DEBUG\n",
    "\n",
    "            if greedy:\n",
    "                predicted_ids = sb.decoders.ctc_greedy_decode(\n",
    "                    predictions[\"ctc_logprobs\"], asr_brain.feat_lens, blank_id=asr_brain.hparams.blank_index\n",
    "                )\n",
    "                predicted_words = [\n",
    "                    asr_brain.tokenizer.decode_ids(ids).split(\" \")\n",
    "                    for ids in predicted_ids\n",
    "                ]\n",
    "            else:\n",
    "                # get mel lens from wav len ratios since torch ctc decoder requires lens in frames\n",
    "                batch_max_len = predictions[\"ctc_logprobs\"].size(1)\n",
    "                bsz = predictions[\"ctc_logprobs\"].size(0)\n",
    "                mel_lens = torch.zeros(bsz)\n",
    "                for i, len_ratio in enumerate(asr_brain.feat_lens):\n",
    "                    mel_lens[i] = int(torch.round(len_ratio * batch_max_len))\n",
    "                \n",
    "                predicted_ids = ctc_beamsearch_decoder(\n",
    "                    predictions[\"ctc_logprobs\"], lengths=mel_lens\n",
    "                )\n",
    "\n",
    "                predicted_words = []\n",
    "                for i, (utt_id, orig_text, hyps) in enumerate(zip(batch.utt_id, orig_transcriptions, predicted_ids)):\n",
    "                    print(f\"\\nsample {i+1} - ({utt_id}: '{orig_text}')\")\n",
    "                    sample_cers = []\n",
    "                    for j, hyp in enumerate(hyps):\n",
    "                        words = asr_brain.hparams.tokenizer.decode_ids(hyp.tokens.tolist()) # .split(\"|\")\n",
    "                        # words = tokenizer.decode_ids(hyp.tokens.tolist()) # .split(\"|\")\n",
    "                        hyp_cer = 100 * cer(orig_text, words)\n",
    "                        sample_cers.append(hyp_cer)\n",
    "                        print(f\"\\thyp {j+1}/{len(hyps)} (CER={hyp_cer:.1f}%): '{words}'\")\n",
    "                        predicted_words.append((f\"sample {i+1}, hyp {j+1}/{len(hyps)}\", words))\n",
    "                        \n",
    "                    print(f\"\\t=== Mean CER: {np.mean(sample_cers):.1f}%, Std CER: {np.std(sample_cers):.1f}% ===\")\n",
    "\n",
    "            transcripts.append(predicted_words)\n",
    "\n",
    "    return transcripts, ctc_probs\n",
    "\n",
    "# transcripts, ctc_probs = transcribe_dataset(asr_brain, test_set, greedy=False, num_batches_to_transcribe=1)"
   ]
  },
  {
   "cell_type": "markdown",
   "id": "cf186366",
   "metadata": {},
   "source": [
    "# LOAD WORD ALIGNED WAVS into dataset"
   ]
  },
  {
   "cell_type": "code",
   "execution_count": 30,
   "id": "c91aad24",
   "metadata": {},
   "outputs": [],
   "source": [
    "# imitate CLAs\n",
    "import sys\n",
    "import argparse\n",
    "import math\n",
    "import glob\n",
    "from tqdm import tqdm\n",
    "import json"
   ]
  },
  {
   "cell_type": "code",
   "execution_count": 31,
   "id": "c0e87365",
   "metadata": {},
   "outputs": [],
   "source": [
    "# set these in yaml config!\n",
    "\n",
    "# these are to be loaded!\n",
    "train_annotation_path = '/home/s1785140/speechbrain/templates/speech_recognition_CharTokens_NoLM/data/respeller_train_wordtoken_wav_annotation.json'\n",
    "valid_annotation_path = '/home/s1785140/speechbrain/templates/speech_recognition_CharTokens_NoLM/data/respeller_valid_wordtoken_wav_annotation.json'\n",
    "test_annotation_path = '/home/s1785140/speechbrain/templates/speech_recognition_CharTokens_NoLM/data/respeller_test_wordtoken_wav_annotation.json'\n",
    "\n",
    "# this will be saved!\n",
    "allsplits_annotation_path = '/home/s1785140/speechbrain/templates/speech_recognition_CharTokens_NoLM/data/respeller_allsplits_wordtoken_wav_annotation.json'"
   ]
  },
  {
   "cell_type": "code",
   "execution_count": 32,
   "id": "37bbdf2d-1221-49fe-ae1b-26c4479d40f6",
   "metadata": {
    "tags": []
   },
   "outputs": [],
   "source": [
    "# create a new \"combined annotation\", that includes all of train, valid and test\n",
    "def load_json(p):\n",
    "    with open(p) as f:\n",
    "        d = json.load(f)\n",
    "    return d\n",
    "\n",
    "allsplits_d = {}\n",
    "for p in [train_annotation_path, valid_annotation_path, test_annotation_path]:\n",
    "    allsplits_d.update(load_json(p))\n",
    "    \n",
    "json_data = json.dumps(allsplits_d)\n",
    "with open(allsplits_annotation_path, 'w') as f:\n",
    "    f.write(json_data)"
   ]
  },
  {
   "cell_type": "code",
   "execution_count": 33,
   "id": "06edab0b",
   "metadata": {},
   "outputs": [],
   "source": [
    "speechbrain_hparams['train_annotation'] = train_annotation_path\n",
    "speechbrain_hparams['valid_annotation'] = valid_annotation_path\n",
    "speechbrain_hparams['test_annotation'] = test_annotation_path\n",
    "speechbrain_hparams['allsplits_annotation'] = allsplits_annotation_path"
   ]
  },
  {
   "cell_type": "code",
   "execution_count": 34,
   "id": "a6adcc83",
   "metadata": {},
   "outputs": [],
   "source": [
    "def dataio_prepare(\n",
    "    hparams, \n",
    "    split2data=None # use to optionally initialise datasets from data dicts rather than json files\n",
    "):\n",
    "    \"\"\"This function prepares the datasets to be used in the brain class.\n",
    "    It also defines the data processing pipeline through user-defined functions.\n",
    "\n",
    "\n",
    "    Arguments\n",
    "    ---------\n",
    "    hparams : dict\n",
    "        This dictionary is loaded from the `train.yaml` file, and it includes\n",
    "        all the hyperparameters needed for dataset construction and loading.\n",
    "\n",
    "    Returns\n",
    "    -------\n",
    "    datasets : dict\n",
    "        Dictionary containing \"train\", \"valid\", and \"test\" keys that correspond\n",
    "        to the DynamicItemDataset objects.\n",
    "    \"\"\"\n",
    "    # Define audio pipeline. In this case, we simply read the path contained\n",
    "    # in the variable wav with the audio reader.\n",
    "    # wav path like: data/ljspeech_wavs_16khz_word_aligned/differs/differs__LJ001-0001__occ1__len8320.wav\n",
    "    @sb.utils.data_pipeline.takes(\"wav\")\n",
    "    @sb.utils.data_pipeline.provides(\"sig\", \"wav_path\", \"utt_id\")\n",
    "    def audio_pipeline(wav_path):\n",
    "        \"\"\"Load the audio signal. This is done on the CPU in the `collate_fn`.\"\"\"\n",
    "        sig = sb.dataio.dataio.read_audio(wav_path)\n",
    "        yield sig\n",
    "\n",
    "        yield wav_path\n",
    "\n",
    "        utt_id = wav_path.split(\"/\")[-1].split(\".\")[0]\n",
    "        yield utt_id\n",
    "\n",
    "    @sb.utils.data_pipeline.takes(\"samples_to_graphemes_ratio\")\n",
    "    @sb.utils.data_pipeline.provides(\"samples_to_graphemes_ratio\")\n",
    "    def ratio_pipeline(samples_to_graphemes_ratio):\n",
    "        yield samples_to_graphemes_ratio\n",
    "\n",
    "    @sb.utils.data_pipeline.takes(\"length\")\n",
    "    @sb.utils.data_pipeline.provides(\"length\")\n",
    "    def length_pipeline(length):\n",
    "        yield length\n",
    "\n",
    "    @sb.utils.data_pipeline.takes(\"words\")\n",
    "    @sb.utils.data_pipeline.provides(\"words\")\n",
    "    def text_pipeline(words):\n",
    "        \"\"\"Processes the transcriptions to generate proper labels\n",
    "\n",
    "        NB Make sure that you yield exactly what is defined above in @sb.utils.data_pipeline.provides()\"\"\"\n",
    "        yield words\n",
    "\n",
    "    # Define datasets from json data manifest file\n",
    "    # Define datasets sorted by ascending lengths for efficiency\n",
    "    datasets = {}\n",
    "\n",
    "    load_annotations_from_json_files = split2data is None\n",
    "    if load_annotations_from_json_files:\n",
    "        # by default load all splits from the json files specified in hparams\n",
    "        data_info = {\n",
    "            \"train\": hparams[\"train_annotation\"],\n",
    "            \"valid\": hparams[\"valid_annotation\"],\n",
    "            \"test\": hparams[\"test_annotation\"],\n",
    "            \"allsplits\": hparams[\"allsplits_annotation\"],\n",
    "        }\n",
    "    else:\n",
    "        data_info = split2data\n",
    "        \n",
    "    for split in data_info:\n",
    "        print(f\"create Dataset from split {split}\")\n",
    "        if load_annotations_from_json_files:\n",
    "            constructor = sb.dataio.dataset.DynamicItemDataset.from_json\n",
    "        else:\n",
    "            constructor = sb.dataio.dataset.DynamicItemDataset\n",
    "            \n",
    "        datasets[split] = constructor(\n",
    "            data_info[split],\n",
    "            dynamic_items=[audio_pipeline, ratio_pipeline, length_pipeline, text_pipeline],\n",
    "            output_keys = [\n",
    "                \"id\",\n",
    "                \"sig\",\n",
    "                \"wav_path\",\n",
    "                \"utt_id\",\n",
    "                \"samples_to_graphemes_ratio\",\n",
    "                \"length\",\n",
    "                \"words\",\n",
    "            ],\n",
    "        )\n",
    "        hparams[f\"{split}_dataloader_opts\"][\"shuffle\"] = True\n",
    "        datasets[split].split = split # add attribute to keep track of the split of the dataset\n",
    "\n",
    "    def print_dataset_lens(extra_str):\n",
    "        for split in data_info:\n",
    "            dataset_split = datasets[split]\n",
    "            print(f\"{split} dataset has {len(dataset_split)} samples\", extra_str)\n",
    "\n",
    "    print_dataset_lens(\"before any filtering\")\n",
    "\n",
    "    # Filter data for samples_to_graphemes_ratio that is either too small or too large\n",
    "    key_min_value = {}\n",
    "    if hparams[\"min_samples_to_graphemes_ratio\"] is not None:\n",
    "        key_min_value = {\"samples_to_graphemes_ratio\": hparams[\"min_samples_to_graphemes_ratio\"]}\n",
    "\n",
    "    key_max_value = {}\n",
    "    if hparams[\"max_samples_to_graphemes_ratio\"] is not None:\n",
    "        key_max_value = {\"samples_to_graphemes_ratio\": hparams[\"max_samples_to_graphemes_ratio\"]}\n",
    "\n",
    "    for split in data_info:\n",
    "        datasets[split] = datasets[split].filtered_sorted(\n",
    "            key_min_value=key_min_value,\n",
    "            key_max_value=key_max_value,\n",
    "        )\n",
    "    print_dataset_lens(\"after filtering by min and max samples to graphemes ratio\")\n",
    "\n",
    "    # Filter samples whos length is too short\n",
    "    key_min_value = {}\n",
    "    if hparams[\"min_length_seconds\"] is not None:\n",
    "        key_min_value = {\"length\": hparams[\"min_length_seconds\"]}\n",
    "    for split in data_info:\n",
    "        datasets[split] = datasets[split].filtered_sorted(\n",
    "            key_min_value=key_min_value,\n",
    "        )\n",
    "    print_dataset_lens(\"after filtering by minimum length\")\n",
    "\n",
    "    # Sorting training data with ascending order makes the code  much\n",
    "    # faster  because we minimize zero-padding. In most of the cases, this\n",
    "    # does not harm the performance.\n",
    "    if load_annotations_from_json_files:\n",
    "        if hparams[\"sorting\"] == \"ascending\":\n",
    "            datasets[\"train\"] = datasets[\"train\"].filtered_sorted(sort_key=\"length\")\n",
    "            hparams[\"train_dataloader_opts\"][\"shuffle\"] = False\n",
    "\n",
    "        elif hparams[\"sorting\"] == \"descending\":\n",
    "            datasets[\"train\"] = datasets[\"train\"].filtered_sorted(\n",
    "                sort_key=\"length\", reverse=True\n",
    "            )\n",
    "            hparams[\"train_dataloader_opts\"][\"shuffle\"] = False\n",
    "\n",
    "        elif hparams[\"sorting\"] == \"random\":\n",
    "            hparams[\"train_dataloader_opts\"][\"shuffle\"] = True\n",
    "            pass\n",
    "\n",
    "        else:\n",
    "            raise NotImplementedError(\n",
    "                \"sorting must be random, ascending or descending\"\n",
    "            )\n",
    "    \n",
    "    return datasets"
   ]
  },
  {
   "cell_type": "markdown",
   "id": "d485c146-a1a6-4ecf-900d-73408442098f",
   "metadata": {},
   "source": [
    "## filter dataset by PER of wordtypes as predicted by RNN-based G2P model"
   ]
  },
  {
   "cell_type": "code",
   "execution_count": 35,
   "id": "b9c40abe-e4d0-4469-8108-41b0eb089874",
   "metadata": {},
   "outputs": [
    {
     "name": "stdout",
     "output_type": "stream",
     "text": [
      "create Dataset from split allsplits\n",
      "allsplits dataset has 100 samples before any filtering\n",
      "allsplits dataset has 99 samples after filtering by min and max samples to graphemes ratio\n",
      "allsplits dataset has 99 samples after filtering by minimum length\n"
     ]
    }
   ],
   "source": [
    "def filter_data_by_per(data, str_min_len_threshold, N, max_token_ids_per_wordtype):\n",
    "    p = '/home/s1785140/data/ljspeech_fastpitch/oov_list_with_PER.pickle'\n",
    "    loaded_df = pd.read_pickle(p)\n",
    "    loaded_df = loaded_df[loaded_df['wordtype'].str.len() >= str_min_len_threshold]\n",
    "    loaded_df = loaded_df.sort_values('per', ascending=False).head(N)\n",
    "    wordtypes_to_keep = set(loaded_df['wordtype'])\n",
    "    new_data = {}\n",
    "    wordtype2tokenid_count = Counter()\n",
    "    for token_id, token_id_values in data.items():\n",
    "        wordtype = token_id_values['words']\n",
    "        if wordtype not in wordtypes_to_keep or wordtype2tokenid_count[wordtype] >= max_token_ids_per_wordtype:\n",
    "            continue\n",
    "        new_data[token_id] = token_id_values\n",
    "        wordtype2tokenid_count[wordtype] += 1\n",
    "    return new_data\n",
    "\n",
    "filter_by_per = inference_hparams[\"filter_by_per\"]\n",
    "# load from json files\n",
    "if not filter_by_per:\n",
    "    datasets = dataio_prepare(speechbrain_hparams)\n",
    "else:\n",
    "    filtered_allsplits_d = filter_data_by_per(allsplits_d, str_min_len_threshold=inference_hparams[\"str_min_len_threshold\"], \n",
    "                                              N=inference_hparams[\"wordtypes_to_keep\"], max_token_ids_per_wordtype=inference_hparams['max_token_ids_per_wordtype'])\n",
    "    datasets = dataio_prepare(speechbrain_hparams, {'allsplits': filtered_allsplits_d})"
   ]
  },
  {
   "cell_type": "code",
   "execution_count": 36,
   "id": "c10b22b1-b9a8-45c5-88f8-03f9f1c79440",
   "metadata": {
    "tags": []
   },
   "outputs": [],
   "source": [
    "# create tokenid2wavpath dict\n",
    "tokenid2wavpath = {token_id: allsplits_d[token_id]['wav'] for token_id in allsplits_d.keys()}"
   ]
  },
  {
   "cell_type": "code",
   "execution_count": 37,
   "id": "10d20085",
   "metadata": {},
   "outputs": [],
   "source": [
    "# convert from datasets to dataloaders\n",
    "split2stage = {\"train\": sb.Stage.TRAIN, \"valid\": sb.Stage.VALID, \"test\": sb.Stage.TEST, \"allsplits\": sb.Stage.TEST}\n",
    "for split in datasets.keys():\n",
    "    if not isinstance(datasets[split], DataLoader) or isinstance(datasets[split], LoopedLoader):\n",
    "        dataloader_kwargs=speechbrain_hparams[f\"{split}_dataloader_opts\"]\n",
    "        datasets[split] = asr_brain.make_dataloader(\n",
    "            datasets[split], stage=split2stage[split], **dataloader_kwargs\n",
    "        )"
   ]
  },
  {
   "cell_type": "code",
   "execution_count": 38,
   "id": "c61a3fb8",
   "metadata": {},
   "outputs": [],
   "source": [
    "def set_whitespace_to_0_probability(ctc_probs, vocab, log_probs=True, whitespace_symbol=\"|\"):\n",
    "    \"\"\"ctc_probs [bsz, max_seq_len, vocab_size]\"\"\"\n",
    "    new_probability = -math.inf if log_probs else 0.0\n",
    "    ctc_probs[:,:,vocab.index(whitespace_symbol)] = new_probability\n",
    "    return ctc_probs"
   ]
  },
  {
   "cell_type": "markdown",
   "id": "d2932070",
   "metadata": {},
   "source": [
    "# TRANSCRIBE WORD ALIGNED WAVS"
   ]
  },
  {
   "cell_type": "code",
   "execution_count": 39,
   "id": "25a61168",
   "metadata": {
    "tags": []
   },
   "outputs": [],
   "source": [
    "from collections import defaultdict\n",
    "\n",
    "# generate transcriptions for all batches in test set\n",
    "def transcribe_dataset(asr_brain, dataset, \n",
    "                       num_batches_to_transcribe=None,\n",
    "                       hack_whitespace_probs=False, collapse_whitespace=True,\n",
    "                       print_info=False, max_hyps_per_sample=None,\n",
    "                       wordtypes_to_transcribe=[]):\n",
    "    # Now we iterate over the dataset and we simply compute_forward and decode\n",
    "\n",
    "    orig_words = []\n",
    "    printouts = []\n",
    "    orig_wavs = []\n",
    "    token_ids = []\n",
    "    transcribed_words = defaultdict(list)\n",
    "    n = 0 # number of batches transcribed\n",
    "    \n",
    "    break_forloop_early = num_batches_to_transcribe is not None\n",
    "\n",
    "    with torch.no_grad():\n",
    "        for batch in tqdm(dataset, dynamic_ncols=True, total=num_batches_to_transcribe):\n",
    "            # break out of loop if we have transcribed enough batches\n",
    "            if break_forloop_early and n >= num_batches_to_transcribe:\n",
    "                break\n",
    "            n += 1\n",
    "\n",
    "            orig_transcriptions = batch.words\n",
    "            wavs = batch.sig.data\n",
    "\n",
    "            # Make sure that your compute_forward returns the predictions !!!\n",
    "            # In the case of the template, when stage = TEST, a beam search is applied \n",
    "            # in compute_forward(). \n",
    "            predictions = asr_brain.compute_forward(batch, stage=sb.Stage.TEST)\n",
    "            ctc_probs = predictions['ctc_logprobs'] # FOR DEBUG\n",
    "\n",
    "            # hack probabilities to set all probs to 0 for whitespace\n",
    "            if hack_whitespace_probs:\n",
    "                ctc_probs = set_whitespace_to_0_probability(ctc_probs, vocab, log_probs=True, whitespace_symbol=\"|\")\n",
    "\n",
    "            # get mel lens from wav len ratios since torch ctc decoder requires lens in frames\n",
    "            batch_max_len = predictions[\"ctc_logprobs\"].size(1)\n",
    "            bsz = predictions[\"ctc_logprobs\"].size(0)\n",
    "            mel_lens = torch.zeros(bsz)\n",
    "            for i, len_ratio in enumerate(asr_brain.feat_lens):\n",
    "                mel_lens[i] = int(torch.round(len_ratio * batch_max_len))\n",
    "            \n",
    "            predicted_ids = ctc_beamsearch_decoder(\n",
    "                predictions[\"ctc_logprobs\"], lengths=mel_lens\n",
    "            )\n",
    "\n",
    "            # iterate over samples in batch\n",
    "            for i, (utt_id, orig_text, hyps, wav) in enumerate(zip(batch.utt_id, orig_transcriptions, predicted_ids, wavs)):\n",
    "                sample_printout = f\"\\nsample {i+1} - ({utt_id}: '{orig_text}')\"\n",
    "                orig_utt_text = \"INSERT ORIG UTT TEXT\"\n",
    "                sample_printout += f\"\\nOriginal Utterance: {orig_utt_text}\"\n",
    "                # if print_info: print(f\"\\nsample {i+1} - ({utt_id}: '{orig_text}')\")\n",
    "                sample_cers = []\n",
    "                for j, hyp in enumerate(list(hyps)[:max_hyps_per_sample]):\n",
    "                    words = asr_brain.hparams.tokenizer.decode_ids(hyp.tokens.tolist())\n",
    "                    if collapse_whitespace:\n",
    "                        words = \"\".join(c for c in words if c != \" \")\n",
    "                    hyp_cer = 100 * cer(orig_text, words)\n",
    "                    sample_cers.append(hyp_cer)\n",
    "                    sample_printout += f\"\\n\\thyp {j+1}/{len(hyps)} (CER={hyp_cer:.1f}%): '{words}'\"\n",
    "                    # if print_info: print(f\"\\thyp {j+1}/{len(hyps)} (CER={hyp_cer:.1f}%): '{words}'\")\n",
    "                    if not wordtypes_to_transcribe or orig_text in wordtypes_to_transcribe:\n",
    "                        transcribed_words[orig_text].append(words)\n",
    "                    \n",
    "                sample_printout += f\"\\n\\t=== Mean CER: {np.mean(sample_cers):.1f}%, Std CER: {np.std(sample_cers):.1f}% ===\"\n",
    "                # if print_info: print(f\"\\t=== Mean CER: {np.mean(sample_cers):.1f}%, Std CER: {np.std(sample_cers):.1f}% ===\")\n",
    "\n",
    "                include_current_wordtype = (wordtypes_to_transcribe == [] or orig_text in wordtypes_to_transcribe)\n",
    "                if include_current_wordtype:\n",
    "                    orig_words.append(orig_text)\n",
    "                    printouts.append(sample_printout)\n",
    "                    orig_wavs.append(wav)\n",
    "                    token_ids.append(utt_id)\n",
    "\n",
    "    output_dict = {\n",
    "        \"orig_words\": orig_words,\n",
    "        \"transcribed_words\": transcribed_words,\n",
    "        \"wavs\": orig_wavs,\n",
    "        \"printouts\": printouts,\n",
    "        \"token_ids\": token_ids,\n",
    "    }\n",
    "\n",
    "    return output_dict\n"
   ]
  },
  {
   "cell_type": "markdown",
   "id": "99df03d5",
   "metadata": {},
   "source": [
    "## Generate multiple times to see if outputs change (i.e. should change if dropout is enabled in model)"
   ]
  },
  {
   "cell_type": "code",
   "execution_count": 40,
   "id": "96603643-3a86-409a-badb-29d086535eee",
   "metadata": {
    "tags": []
   },
   "outputs": [
    {
     "name": "stdout",
     "output_type": "stream",
     "text": [
      "Iteration 1/1\n"
     ]
    },
    {
     "name": "stderr",
     "output_type": "stream",
     "text": [
      "100%|███████████████████████████████████████████████████████████████████| 50/50 [01:15<00:00,  1.52s/it]"
     ]
    },
    {
     "name": "stdout",
     "output_type": "stream",
     "text": [
      "added 100 new spellings for 'marquis' to its word set\n",
      "added 100 new spellings for 'fancier' to its word set\n",
      "added 100 new spellings for 'fatigues' to its word set\n",
      "added 100 new spellings for 'appleby' to its word set\n",
      "added 100 new spellings for 'hammurabi' to its word set\n",
      "added 100 new spellings for 'collared' to its word set\n",
      "added 100 new spellings for 'guiseppe' to its word set\n",
      "added 100 new spellings for 'reigate' to its word set\n",
      "added 100 new spellings for 'ulysses' to its word set\n",
      "added 100 new spellings for 'giovanni' to its word set\n",
      "added 100 new spellings for 'femoral' to its word set\n",
      "added 100 new spellings for 'pirates' to its word set\n",
      "added 100 new spellings for 'plagued' to its word set\n",
      "added 100 new spellings for 'speeches' to its word set\n",
      "added 100 new spellings for 'cologne' to its word set\n",
      "added 100 new spellings for 'butcher' to its word set\n",
      "added 100 new spellings for 'european' to its word set\n",
      "added 100 new spellings for 'hurried' to its word set\n",
      "added 100 new spellings for 'gregory' to its word set\n",
      "added 100 new spellings for 'rouleaux' to its word set\n",
      "added 100 new spellings for 'erasures' to its word set\n",
      "added 100 new spellings for 'islands' to its word set\n",
      "added 100 new spellings for 'fancied' to its word set\n",
      "added 100 new spellings for 'grimaldi' to its word set\n",
      "added 100 new spellings for 'erroneous' to its word set\n",
      "added 100 new spellings for 'awesome' to its word set\n",
      "added 100 new spellings for 'allegiance' to its word set\n",
      "added 100 new spellings for 'heiresses' to its word set\n",
      "added 100 new spellings for 'respiratory' to its word set\n",
      "added 100 new spellings for 'queries' to its word set\n",
      "added 100 new spellings for 'ctesias' to its word set\n",
      "added 100 new spellings for 'brougham' to its word set\n",
      "added 100 new spellings for 'exhortation' to its word set\n",
      "added 100 new spellings for 'tocqueville' to its word set\n",
      "added 100 new spellings for 'peripheral' to its word set\n",
      "added 100 new spellings for 'cribbage' to its word set\n",
      "added 100 new spellings for 'jamaica' to its word set\n",
      "added 100 new spellings for 'nicholas' to its word set\n",
      "added 100 new spellings for 'heiress' to its word set\n",
      "added 100 new spellings for 'schoeffer' to its word set\n",
      "added 100 new spellings for 'elamite' to its word set\n",
      "added 100 new spellings for 'usurious' to its word set\n",
      "added 100 new spellings for 'delicti' to its word set\n",
      "added 100 new spellings for 'forgive' to its word set\n",
      "added 100 new spellings for 'napoleon' to its word set\n",
      "added 100 new spellings for 'forgiveness' to its word set\n",
      "added 100 new spellings for 'jacques' to its word set\n",
      "added 100 new spellings for 'czolgosz' to its word set\n",
      "added 100 new spellings for 'bequeathed' to its word set\n",
      "added 100 new spellings for 'schleiden' to its word set\n",
      "added 100 new spellings for 'clangour' to its word set\n",
      "added 100 new spellings for 'carotid' to its word set\n",
      "added 100 new spellings for 'niebuhr' to its word set\n",
      "added 100 new spellings for 'gloucester' to its word set\n",
      "added 100 new spellings for 'massage' to its word set\n",
      "added 100 new spellings for 'jealousy' to its word set\n",
      "added 100 new spellings for 'douglas' to its word set\n",
      "added 100 new spellings for 'mouthed' to its word set\n",
      "added 100 new spellings for 'militia' to its word set\n",
      "added 100 new spellings for 'executors' to its word set\n",
      "added 100 new spellings for 'endorsed' to its word set\n",
      "added 100 new spellings for 'sepulchre' to its word set\n",
      "added 100 new spellings for 'erasing' to its word set\n",
      "added 100 new spellings for 'deutsche' to its word set\n",
      "added 100 new spellings for 'schwann' to its word set\n",
      "added 100 new spellings for 'croesus' to its word set\n",
      "added 100 new spellings for 'scourge' to its word set\n",
      "added 100 new spellings for 'maecenas' to its word set\n",
      "added 100 new spellings for 'bruised' to its word set\n",
      "added 100 new spellings for 'nourish' to its word set\n",
      "added 100 new spellings for 'saccharine' to its word set\n",
      "added 100 new spellings for 'nuclear' to its word set\n",
      "added 100 new spellings for 'decorous' to its word set\n",
      "added 100 new spellings for 'brochure' to its word set\n",
      "added 100 new spellings for 'bizarre' to its word set\n",
      "added 100 new spellings for 'courier' to its word set\n",
      "added 100 new spellings for 'paradise' to its word set\n",
      "added 100 new spellings for 'gloucestershire' to its word set\n",
      "added 100 new spellings for 'ehrenberg' to its word set\n",
      "added 100 new spellings for 'poydras' to its word set\n",
      "added 100 new spellings for 'immature' to its word set\n",
      "added 100 new spellings for 'berthed' to its word set\n",
      "added 100 new spellings for 'minority' to its word set\n",
      "added 100 new spellings for 'aligning' to its word set\n",
      "added 100 new spellings for 'queried' to its word set\n",
      "added 100 new spellings for 'ranging' to its word set\n",
      "added 100 new spellings for 'protests' to its word set\n",
      "added 100 new spellings for 'executor' to its word set\n",
      "added 100 new spellings for 'beaumont' to its word set\n",
      "added 100 new spellings for 'adelphi' to its word set\n",
      "added 100 new spellings for 'remorse' to its word set\n",
      "added 100 new spellings for 'seleucia' to its word set\n",
      "added 100 new spellings for 'severed' to its word set\n",
      "added 100 new spellings for 'khrushchev' to its word set\n",
      "added 100 new spellings for 'columns' to its word set\n",
      "added 100 new spellings for 'boulogne' to its word set\n",
      "added 100 new spellings for 'shredded' to its word set\n",
      "added 100 new spellings for 'courtesy' to its word set\n",
      "added 100 new spellings for 'ferrari' to its word set\n",
      "\n",
      " *** Will synthesise these 9900 spellings using TTS pipeline\n"
     ]
    },
    {
     "name": "stderr",
     "output_type": "stream",
     "text": [
      "\n"
     ]
    }
   ],
   "source": [
    "wordtypes_to_transcribe = []\n",
    "# wordtypes_to_transcribe = ['anesthesiologists'] # used for debugging and checking results only for a subset of wordtypes\n",
    "\n",
    "word_sets = defaultdict(set)\n",
    "\n",
    "print_printout = False\n",
    "display_audio = False\n",
    "\n",
    "'''create output dict of form:\n",
    "token_id:\n",
    "    word: xxx\n",
    "    hyps:\n",
    "        xxx\n",
    "        xxx\n",
    "        xxx\n",
    "        ...\n",
    "    wav: /path/to/token_id.wav\n",
    "'''\n",
    "token_id2gt_audio = {}\n",
    "master_transcription_dict = defaultdict(dict)\n",
    "print_num_new_spellings_per_iteration = False\n",
    "\n",
    "for i in range(inference_hparams['num_asr_iterations']):\n",
    "    random.seed(i)\n",
    "    torch.random.manual_seed(i)\n",
    "    np.random.seed(i)\n",
    "    \n",
    "    print(f\"Iteration {1+i}/{inference_hparams['num_asr_iterations']}\")\n",
    "    transcription_output_dict = transcribe_dataset(asr_brain, datasets[\"allsplits\"], \n",
    "                                                num_batches_to_transcribe=inference_hparams['num_batches_to_transcribe'],\n",
    "                                                collapse_whitespace=False, hack_whitespace_probs=True,\n",
    "                                                max_hyps_per_sample=inference_hparams['max_hyps_per_sample'],\n",
    "                                                wordtypes_to_transcribe=wordtypes_to_transcribe)\n",
    "    \n",
    "    for token_id, orig_word, printout, wav in zip(\n",
    "        transcription_output_dict[\"token_ids\"], \n",
    "        transcription_output_dict[\"orig_words\"], \n",
    "        transcription_output_dict[\"printouts\"], \n",
    "        transcription_output_dict[\"wavs\"]\n",
    "    ):\n",
    "        if print_printout:\n",
    "            print(printout)\n",
    "        if display_audio:\n",
    "            display(Audio(wav, rate=16000))\n",
    "        old_count = len(word_sets[orig_word])\n",
    "        asr_hypotheses = transcription_output_dict[\"transcribed_words\"][orig_word]\n",
    "        asr_hypotheses = [hyp.rstrip() for hyp in asr_hypotheses] # as CTC decoder always adds extra whitespace to end\n",
    "        word_sets[orig_word].update(asr_hypotheses)\n",
    "        master_transcription_dict[token_id][\"orig_word\"] = orig_word\n",
    "        \n",
    "        wav_path = tokenid2wavpath[token_id]\n",
    "        master_transcription_dict[token_id][\"orig_wav\"] = wav_path\n",
    "        token_id2gt_audio[token_id] = wav_path\n",
    "        \n",
    "        if \"hyps\" not in master_transcription_dict[token_id]:\n",
    "            master_transcription_dict[token_id][\"hyps\"] = set(asr_hypotheses)\n",
    "        else:\n",
    "            master_transcription_dict[token_id][\"hyps\"].update(asr_hypotheses)\n",
    "        \n",
    "        new_count = len(word_sets[orig_word])\n",
    "        if new_count > old_count:\n",
    "            if print_num_new_spellings_per_iteration:\n",
    "                print(f\"added {new_count - old_count} new spellings for '{orig_word}' to its word set\")\n",
    "\n",
    "total_num = 0\n",
    "for orig_word, word_set in word_sets.items():\n",
    "    print(f\"added {len(word_set)} new spellings for '{orig_word}' to its word set\")\n",
    "    total_num += len(word_set)\n",
    "    \n",
    "print(f\"\\n *** Will synthesise these {total_num} spellings using TTS pipeline\")"
   ]
  },
  {
   "cell_type": "markdown",
   "id": "847e3594",
   "metadata": {},
   "source": [
    "# create dataframe to store respellings (and respective CERs) and original spellings "
   ]
  },
  {
   "cell_type": "code",
   "execution_count": 41,
   "id": "8790788f-e03f-4763-ae5a-64ebbd687532",
   "metadata": {},
   "outputs": [
    {
     "name": "stdout",
     "output_type": "stream",
     "text": [
      "number of token_id-spelling combinations 9900\n"
     ]
    }
   ],
   "source": [
    "# create big dataframe to hold all data\n",
    "df = pd.DataFrame(columns=['token_id', 'wordtype', 'respelling', 'cer'])\n",
    "data = [] # used to populate pandas dataframe\n",
    "\n",
    "for token_id in master_transcription_dict:    \n",
    "    for hyp in master_transcription_dict[token_id]['hyps']:\n",
    "        data.append({'token_id': token_id, \n",
    "                     'wordtype': master_transcription_dict[token_id]['orig_word'], \n",
    "                     'respelling': hyp, \n",
    "                     'orig_wav': master_transcription_dict[token_id]['orig_wav'],\n",
    "                     'cer': 100*cer(master_transcription_dict[token_id]['orig_word'], hyp)}),\n",
    "\n",
    "df = pd.concat([df, pd.DataFrame(data)])\n",
    "print('number of token_id-spelling combinations', len(df))"
   ]
  },
  {
   "cell_type": "code",
   "execution_count": 42,
   "id": "e7de5fd6-1b8a-4852-8bea-364b446bd0c6",
   "metadata": {},
   "outputs": [
    {
     "name": "stdout",
     "output_type": "stream",
     "text": [
      "number of token_id-spelling combinations 9978\n"
     ]
    }
   ],
   "source": [
    "# guarantee that original spelling will be generated by TTS\n",
    "# i.e. add orig_word to \"respelling\" column if it doesn't occur in it already\n",
    "dfs_to_concat = []\n",
    "for orig_word in df['wordtype'].unique():\n",
    "    match_mask = df['respelling'] == orig_word\n",
    "    matching_respellings = df.loc[match_mask]\n",
    "    if matching_respellings.empty:\n",
    "        # copy the first row, but change value for respelling\n",
    "        first_row_df = df.loc[df['wordtype'] == orig_word].head(1)\n",
    "        row_idx = first_row_df.index[0]\n",
    "        first_row_df.loc[row_idx, 'respelling'] = orig_word\n",
    "        first_row_df.loc[row_idx, 'cer'] = 0.0\n",
    "        dfs_to_concat.append(first_row_df)\n",
    "        # print(f'added original spelling to respelling column for \"{orig_word}\"')\n",
    "\n",
    "for temp_df in dfs_to_concat:\n",
    "    df = pd.concat([df, temp_df], ignore_index=True)\n",
    "print('number of token_id-spelling combinations', len(df))"
   ]
  },
  {
   "cell_type": "markdown",
   "id": "42e7d977-c16f-41b7-a3ab-c4c87e1fde0c",
   "metadata": {},
   "source": [
    "# create mapping from token_id to ground truth fastpitch mels and MFCCs"
   ]
  },
  {
   "cell_type": "code",
   "execution_count": 43,
   "id": "6e267003-b7f8-4763-abbc-8a26af0db137",
   "metadata": {
    "tags": []
   },
   "outputs": [],
   "source": [
    "#build mapping from token_id to path to its gt word aligned mel \n",
    "word_aligned_feats_path = '/home/s1785140/data/ljspeech_fastpitch/wordaligned_mels_lowercase_nopunc'\n",
    "token_id2fastpitch_gt_mel_path = {}\n",
    "\n",
    "for token_id in df['token_id'].unique():\n",
    "    wordtype = token_id.split('__')[0]\n",
    "    path = os.path.join(word_aligned_feats_path, wordtype, token_id + '.pt')\n",
    "    token_id2fastpitch_gt_mel_path[token_id] = path"
   ]
  },
  {
   "cell_type": "code",
   "execution_count": 44,
   "id": "0da5d358-e3ba-4574-962a-a9a0bbfec2f0",
   "metadata": {
    "tags": []
   },
   "outputs": [
    {
     "name": "stderr",
     "output_type": "stream",
     "text": [
      "100%|███████████████████████████████████████████████████████████████████| 99/99 [00:03<00:00, 28.03it/s]\n",
      "100%|███████████████████████████████████████████████████████████████████| 99/99 [00:02<00:00, 38.35it/s]\n"
     ]
    }
   ],
   "source": [
    "# load mels from disk\n",
    "token_id2fastpitch_gt_mel = {}\n",
    "\n",
    "for token_id, gt_mel_path in tqdm(token_id2fastpitch_gt_mel_path.items()):\n",
    "    # remove len and file extension from path\n",
    "    # e.g. 'wordaligned_mels/unconstitutionality/unconstitutionality__LJ021-0191__occ1__len25760.wav' \n",
    "    # ---> 'wordaligned_mels/unconstitutionality/unconstitutionality__LJ021-0191__occ1\"\n",
    "    path_no_len_no_ext = gt_mel_path.split('__len')[0]\n",
    "    \n",
    "    # glob to fine the matching ground truth mel saved on disk\n",
    "    matches = glob.glob(path_no_len_no_ext + '*.pt')\n",
    "    assert len(matches) == 1\n",
    "    fastpitch_gt_mel = torch.load(matches[0]).transpose(0,1).cpu().numpy()\n",
    "    token_id2fastpitch_gt_mel[token_id] = fastpitch_gt_mel\n",
    "    \n",
    "def melspec2mfcc(mel, n_mfcc=12):\n",
    "    log_mel = librosa.core.amplitude_to_db(mel, ref=np.max)\n",
    "    mfcc = librosa.feature.mfcc(S=log_mel, n_mfcc=n_mfcc)\n",
    "    return mfcc\n",
    "\n",
    "token_id2fastpitch_gt_mfcc = {}\n",
    "for token_id, fastpitch_gt_mel in tqdm(token_id2fastpitch_gt_mel.items()):\n",
    "    token_id2fastpitch_gt_mfcc[token_id] = melspec2mfcc(fastpitch_gt_mel)  "
   ]
  },
  {
   "cell_type": "markdown",
   "id": "e87e8270",
   "metadata": {},
   "source": [
    "# load pretrained fastpitch and hifigan models"
   ]
  },
  {
   "cell_type": "code",
   "execution_count": 45,
   "id": "466a024c",
   "metadata": {},
   "outputs": [],
   "source": [
    "from load_pretrained_tts_and_vocoder import load_vocoder, load_pretrained_fastpitch"
   ]
  },
  {
   "cell_type": "code",
   "execution_count": 46,
   "id": "de1a0f3e",
   "metadata": {},
   "outputs": [],
   "source": [
    "hifigan_checkpoint = \"/home/s1785140/pretrained_models/hifigan/ljspeech/LJ_V1/generator_v1\"\n",
    "fastpitch_checkpoint = '/home/s1785140/respeller/fastpitch/exps/halved_ljspeech_data_nospaces_noeos_pad_lowercase_nopunc/FastPitch_checkpoint_1000.pt'"
   ]
  },
  {
   "cell_type": "code",
   "execution_count": 47,
   "id": "3d5fd0fb",
   "metadata": {},
   "outputs": [],
   "source": [
    "hifigan = load_vocoder(hifigan_checkpoint)"
   ]
  },
  {
   "cell_type": "code",
   "execution_count": 48,
   "id": "be3d2747",
   "metadata": {},
   "outputs": [],
   "source": [
    "fastpitch, *_ = load_pretrained_fastpitch(fastpitch_checkpoint)"
   ]
  },
  {
   "cell_type": "markdown",
   "id": "ed4c881e-ccc2-4374-a52e-73d410629e37",
   "metadata": {},
   "source": [
    "# load TTS+vocoder generation cache from disk"
   ]
  },
  {
   "cell_type": "code",
   "execution_count": 49,
   "id": "00aa4609-8caa-49d2-b9aa-cad679b347ac",
   "metadata": {},
   "outputs": [],
   "source": [
    "def load_cache(cache_path):\n",
    "    if os.path.exists(cache_path):\n",
    "        with open(cache_path, \"rb\") as f:\n",
    "            cache = pickle.load(f)\n",
    "        print(\"loaded cache at\", cache_path)\n",
    "    else:\n",
    "        print(\"WARNING NO CACHE NOT FOUND AT\", cache_path, 'returning empty one')\n",
    "        cache = {}\n",
    "    return cache"
   ]
  },
  {
   "cell_type": "code",
   "execution_count": 50,
   "id": "068b4616-16d6-4af1-ae69-08ac6445035a",
   "metadata": {},
   "outputs": [
    {
     "name": "stdout",
     "output_type": "stream",
     "text": [
      "loaded cache at /home/s1785140/rlspeller/caches/spelling2tts_mel_cache.pkl\n",
      "loaded cache at /home/s1785140/rlspeller/caches/spelling2tts_mfcc_cache.pkl\n",
      "loaded cache at /home/s1785140/rlspeller/caches/spelling2vocoded_audio_cache.pkl\n"
     ]
    }
   ],
   "source": [
    "if inference_hparams['recompute_tts_caches']:\n",
    "    if os.path.exists(inference_hparams['spelling2tts_mel_cache']):\n",
    "        os.remove(inference_hparams['spelling2tts_mel_cache'])\n",
    "    if os.path.exists(inference_hparams['spelling2tts_mfcc_cache']):\n",
    "        os.remove(inference_hparams['spelling2tts_mfcc_cache'])\n",
    "    if os.path.exists(inference_hparams['spelling2vocoded_audio_cache']):\n",
    "        os.remove(inference_hparams['spelling2vocoded_audio_cache'])\n",
    "\n",
    "spelling2tts_mel = load_cache(inference_hparams['spelling2tts_mel_cache'])\n",
    "spelling2tts_mfcc = load_cache(inference_hparams['spelling2tts_mfcc_cache'])\n",
    "spelling2vocoded_audio = load_cache(inference_hparams['spelling2vocoded_audio_cache'])\n",
    "\n",
    "assert set(spelling2tts_mel.keys()) == set(spelling2tts_mfcc.keys()) == set(spelling2vocoded_audio.keys())"
   ]
  },
  {
   "cell_type": "markdown",
   "id": "89b22229",
   "metadata": {},
   "source": [
    "# run each respelling through TTS to get mel-spectrogram (and optionally vocode to get wav)"
   ]
  },
  {
   "cell_type": "code",
   "execution_count": 51,
   "id": "283f5dcc",
   "metadata": {},
   "outputs": [],
   "source": [
    "from fastpitch.inference import prepare_input_sequence"
   ]
  },
  {
   "cell_type": "code",
   "execution_count": 52,
   "id": "f8174202-60f1-4cf0-820a-687fd48c7f5b",
   "metadata": {},
   "outputs": [],
   "source": [
    "cached_spellings = list(spelling2tts_mel.keys())"
   ]
  },
  {
   "cell_type": "code",
   "execution_count": 53,
   "id": "325aac31-c847-409e-b6af-871f03bace14",
   "metadata": {},
   "outputs": [],
   "source": [
    "# we only want to generate using TTS for words that are not already in our cache\n",
    "mask = ~df[\"respelling\"].isin(cached_spellings)\n",
    "exclude_cached_spellings_df = df[mask]"
   ]
  },
  {
   "cell_type": "code",
   "execution_count": 54,
   "id": "79c07378-f1a3-4627-9a3d-c3ac1b70ac92",
   "metadata": {
    "tags": []
   },
   "outputs": [
    {
     "data": {
      "text/html": [
       "<div>\n",
       "<style scoped>\n",
       "    .dataframe tbody tr th:only-of-type {\n",
       "        vertical-align: middle;\n",
       "    }\n",
       "\n",
       "    .dataframe tbody tr th {\n",
       "        vertical-align: top;\n",
       "    }\n",
       "\n",
       "    .dataframe thead th {\n",
       "        text-align: right;\n",
       "    }\n",
       "</style>\n",
       "<table border=\"1\" class=\"dataframe\">\n",
       "  <thead>\n",
       "    <tr style=\"text-align: right;\">\n",
       "      <th></th>\n",
       "      <th>token_id</th>\n",
       "      <th>wordtype</th>\n",
       "      <th>respelling</th>\n",
       "      <th>cer</th>\n",
       "      <th>orig_wav</th>\n",
       "    </tr>\n",
       "  </thead>\n",
       "  <tbody>\n",
       "    <tr>\n",
       "      <th>0</th>\n",
       "      <td>marquis__LJ003-0177__occ1__len9280</td>\n",
       "      <td>marquis</td>\n",
       "      <td>wmarke</td>\n",
       "      <td>71.428571</td>\n",
       "      <td>/home/s1785140/speechbrain/templates/speech_re...</td>\n",
       "    </tr>\n",
       "    <tr>\n",
       "      <th>2</th>\n",
       "      <td>marquis__LJ003-0177__occ1__len9280</td>\n",
       "      <td>marquis</td>\n",
       "      <td>amarkey</td>\n",
       "      <td>71.428571</td>\n",
       "      <td>/home/s1785140/speechbrain/templates/speech_re...</td>\n",
       "    </tr>\n",
       "    <tr>\n",
       "      <th>7</th>\n",
       "      <td>marquis__LJ003-0177__occ1__len9280</td>\n",
       "      <td>marquis</td>\n",
       "      <td>dmark</td>\n",
       "      <td>71.428571</td>\n",
       "      <td>/home/s1785140/speechbrain/templates/speech_re...</td>\n",
       "    </tr>\n",
       "    <tr>\n",
       "      <th>10</th>\n",
       "      <td>marquis__LJ003-0177__occ1__len9280</td>\n",
       "      <td>marquis</td>\n",
       "      <td>dmarkey</td>\n",
       "      <td>71.428571</td>\n",
       "      <td>/home/s1785140/speechbrain/templates/speech_re...</td>\n",
       "    </tr>\n",
       "    <tr>\n",
       "      <th>15</th>\n",
       "      <td>marquis__LJ003-0177__occ1__len9280</td>\n",
       "      <td>marquis</td>\n",
       "      <td>tmarkey</td>\n",
       "      <td>71.428571</td>\n",
       "      <td>/home/s1785140/speechbrain/templates/speech_re...</td>\n",
       "    </tr>\n",
       "    <tr>\n",
       "      <th>...</th>\n",
       "      <td>...</td>\n",
       "      <td>...</td>\n",
       "      <td>...</td>\n",
       "      <td>...</td>\n",
       "      <td>...</td>\n",
       "    </tr>\n",
       "    <tr>\n",
       "      <th>9944</th>\n",
       "      <td>douglas__LJ050-0133__occ1__len8480</td>\n",
       "      <td>douglas</td>\n",
       "      <td>douglas</td>\n",
       "      <td>0.000000</td>\n",
       "      <td>/home/s1785140/speechbrain/templates/speech_re...</td>\n",
       "    </tr>\n",
       "    <tr>\n",
       "      <th>9945</th>\n",
       "      <td>mouthed__LJ041-0038__occ1__len6560</td>\n",
       "      <td>mouthed</td>\n",
       "      <td>mouthed</td>\n",
       "      <td>0.000000</td>\n",
       "      <td>/home/s1785140/speechbrain/templates/speech_re...</td>\n",
       "    </tr>\n",
       "    <tr>\n",
       "      <th>9949</th>\n",
       "      <td>erasing__LJ014-0255__occ1__len10080</td>\n",
       "      <td>erasing</td>\n",
       "      <td>erasing</td>\n",
       "      <td>0.000000</td>\n",
       "      <td>/home/s1785140/speechbrain/templates/speech_re...</td>\n",
       "    </tr>\n",
       "    <tr>\n",
       "      <th>9969</th>\n",
       "      <td>adelphi__LJ018-0093__occ1__len7840</td>\n",
       "      <td>adelphi</td>\n",
       "      <td>adelphi</td>\n",
       "      <td>0.000000</td>\n",
       "      <td>/home/s1785140/speechbrain/templates/speech_re...</td>\n",
       "    </tr>\n",
       "    <tr>\n",
       "      <th>9970</th>\n",
       "      <td>remorse__LJ016-0379__occ1__len9760</td>\n",
       "      <td>remorse</td>\n",
       "      <td>remorse</td>\n",
       "      <td>0.000000</td>\n",
       "      <td>/home/s1785140/speechbrain/templates/speech_re...</td>\n",
       "    </tr>\n",
       "  </tbody>\n",
       "</table>\n",
       "<p>5831 rows × 5 columns</p>\n",
       "</div>"
      ],
      "text/plain": [
       "                                 token_id wordtype respelling        cer  \\\n",
       "0      marquis__LJ003-0177__occ1__len9280  marquis     wmarke  71.428571   \n",
       "2      marquis__LJ003-0177__occ1__len9280  marquis    amarkey  71.428571   \n",
       "7      marquis__LJ003-0177__occ1__len9280  marquis      dmark  71.428571   \n",
       "10     marquis__LJ003-0177__occ1__len9280  marquis    dmarkey  71.428571   \n",
       "15     marquis__LJ003-0177__occ1__len9280  marquis    tmarkey  71.428571   \n",
       "...                                   ...      ...        ...        ...   \n",
       "9944   douglas__LJ050-0133__occ1__len8480  douglas    douglas   0.000000   \n",
       "9945   mouthed__LJ041-0038__occ1__len6560  mouthed    mouthed   0.000000   \n",
       "9949  erasing__LJ014-0255__occ1__len10080  erasing    erasing   0.000000   \n",
       "9969   adelphi__LJ018-0093__occ1__len7840  adelphi    adelphi   0.000000   \n",
       "9970   remorse__LJ016-0379__occ1__len9760  remorse    remorse   0.000000   \n",
       "\n",
       "                                               orig_wav  \n",
       "0     /home/s1785140/speechbrain/templates/speech_re...  \n",
       "2     /home/s1785140/speechbrain/templates/speech_re...  \n",
       "7     /home/s1785140/speechbrain/templates/speech_re...  \n",
       "10    /home/s1785140/speechbrain/templates/speech_re...  \n",
       "15    /home/s1785140/speechbrain/templates/speech_re...  \n",
       "...                                                 ...  \n",
       "9944  /home/s1785140/speechbrain/templates/speech_re...  \n",
       "9945  /home/s1785140/speechbrain/templates/speech_re...  \n",
       "9949  /home/s1785140/speechbrain/templates/speech_re...  \n",
       "9969  /home/s1785140/speechbrain/templates/speech_re...  \n",
       "9970  /home/s1785140/speechbrain/templates/speech_re...  \n",
       "\n",
       "[5831 rows x 5 columns]"
      ]
     },
     "execution_count": 54,
     "metadata": {},
     "output_type": "execute_result"
    }
   ],
   "source": [
    "exclude_cached_spellings_df"
   ]
  },
  {
   "cell_type": "code",
   "execution_count": 55,
   "id": "ee8415ff",
   "metadata": {},
   "outputs": [],
   "source": [
    "# create input to fastpitch batch maker\n",
    "all_orig_words = [orig_word for orig_word in exclude_cached_spellings_df['wordtype']]\n",
    "all_respellings = [respelling for respelling in exclude_cached_spellings_df['respelling']]\n",
    "fields = {'orig_spelling': all_orig_words, \n",
    "          'respelling': all_respellings,\n",
    "          'text': all_respellings} # will be encoded by text processes into IDs"
   ]
  },
  {
   "cell_type": "code",
   "execution_count": 56,
   "id": "6bf1f8da",
   "metadata": {},
   "outputs": [
    {
     "name": "stderr",
     "output_type": "stream",
     "text": [
      "Loading texts: 100%|██████████████████████████████████████████████| 5831/5831 [00:00<00:00, 6984.42it/s]\n"
     ]
    }
   ],
   "source": [
    "# create batches for fastpitch inference\n",
    "batches = prepare_input_sequence(fields, device, input_type='char', \n",
    "                       symbol_set='english_pad_lowercase_nopunc', \n",
    "                       text_cleaners=['lowercase_no_punc'],\n",
    "                       batch_size=inference_hparams['fastpitch_inference_batch_size'])"
   ]
  },
  {
   "cell_type": "code",
   "execution_count": 57,
   "id": "e05a9e9f",
   "metadata": {
    "tags": []
   },
   "outputs": [],
   "source": [
    "def generate_audio(y, vocoder=None, hop_length=256):\n",
    "    \"\"\"Generate audio from spectrograms for n utterances in batch\"\"\"\n",
    "    mel, mel_lens = y\n",
    "    bs = mel.size(0)\n",
    "    with torch.no_grad():\n",
    "        audios = vocoder(mel).cpu().squeeze(1).numpy() # [bsz, dim, samples ]only squeeze away dim (equals 1 for waveform)\n",
    "        mel_lens = mel_lens.cpu().numpy() - 1\n",
    "    audios_to_return = []\n",
    "    for audio, mel_len in zip(audios, mel_lens):\n",
    "        audio = audio[:mel_len * hop_length]\n",
    "        audio = audio / np.max(np.abs(audio))\n",
    "        audios_to_return.append(audio)\n",
    "        \n",
    "    return audios_to_return"
   ]
  },
  {
   "cell_type": "code",
   "execution_count": 58,
   "id": "39f8651d",
   "metadata": {
    "tags": []
   },
   "outputs": [
    {
     "name": "stderr",
     "output_type": "stream",
     "text": [
      "synthesising respellings: 100%|███████████████████████████████████████| 183/183 [01:06<00:00,  2.76it/s]\n"
     ]
    }
   ],
   "source": [
    "do_vocode = True\n",
    "audios = None\n",
    "\n",
    "if batches:\n",
    "    with torch.no_grad():\n",
    "        for b in tqdm(batches, \"synthesising respellings\"):\n",
    "            mel, mel_lens, *_ = fastpitch(b['text'])\n",
    "\n",
    "            if do_vocode:\n",
    "                vocoder_inputs = (mel, mel_lens)\n",
    "                audios = generate_audio(vocoder_inputs, hifigan)\n",
    "\n",
    "            # add samples in batch to dicts\n",
    "            bsz = len(mel)\n",
    "            for i in range(bsz):\n",
    "                respelling = b['respelling'][i]\n",
    "                mel_len = mel_lens[i]\n",
    "                spelling2tts_mel[respelling] = mel[i, :, :mel_len].cpu().numpy() # mel [bsz, feats, time]\n",
    "                spelling2tts_mfcc[respelling] = melspec2mfcc(spelling2tts_mel[respelling])\n",
    "\n",
    "                if do_vocode and audios is not None:\n",
    "                    spelling2vocoded_audio[respelling] = audios[i]\n",
    "else:\n",
    "    print(\"Warning! Nothing in batches, possibly because all spellings have been generated by TTS and then cached!!!\")"
   ]
  },
  {
   "cell_type": "code",
   "execution_count": 59,
   "id": "ce8e04fc-6931-465d-a844-8954c097b752",
   "metadata": {},
   "outputs": [],
   "source": [
    "# save new caches / updated caches to disk\n",
    "with open(inference_hparams['spelling2tts_mel_cache'], 'wb') as f:\n",
    "    pickle.dump(spelling2tts_mel, f)\n",
    "with open(inference_hparams['spelling2tts_mfcc_cache'], 'wb') as f:\n",
    "    pickle.dump(spelling2tts_mfcc, f)\n",
    "with open(inference_hparams['spelling2vocoded_audio_cache'], 'wb') as f:\n",
    "    pickle.dump(spelling2vocoded_audio, f)"
   ]
  },
  {
   "cell_type": "markdown",
   "id": "b6ceb55c-6815-4cd2-a553-f23b6cedb920",
   "metadata": {},
   "source": [
    "## Encode TTS output into MFCC and Hubert representations (continuous and discrete)"
   ]
  },
  {
   "cell_type": "code",
   "execution_count": 60,
   "id": "ea60eee8-cd14-4469-9c5a-f75d50fefdec",
   "metadata": {
    "tags": []
   },
   "outputs": [],
   "source": [
    "def codes2centroids(code_seq):\n",
    "    assert code_seq.dim() == 1\n",
    "    centroids = hubert.kmeans.cluster_centers_\n",
    "    centroid_seq = [centroids[code] for code in code_seq] \n",
    "    stacked_centroid_seq = np.stack(centroid_seq)\n",
    "    assert stacked_centroid_seq.shape[0] == len(centroid_seq)\n",
    "    return stacked_centroid_seq"
   ]
  },
  {
   "cell_type": "code",
   "execution_count": 61,
   "id": "1ca5777d-59d2-479c-ab7d-026e5d133519",
   "metadata": {
    "tags": []
   },
   "outputs": [],
   "source": [
    "resampler = torchaudio.transforms.Resample(orig_freq=22050,\n",
    "                                           new_freq=16000).cuda()\n",
    "\n",
    "def wav2ssl_feats(\n",
    "    wav, \n",
    "    hubert_type,\n",
    "    discrete_type,\n",
    "    output_layer=7 # from paper (A COMPARISON OF DISCRETE AND SOFT SPEECH UNITS FOR IMPROVED VOICE CONVERSION)\n",
    "):\n",
    "    \"\"\"\n",
    "    returns numpy array of SSL features \n",
    "    \n",
    "    size:\n",
    "        [timesteps, feats]\n",
    "        or [timesteps] for discrete codes\n",
    "    \"\"\"\n",
    "    wav = torch.tensor(wav)\n",
    "    assert wav.dim() == 1\n",
    "    wav = wav.unsqueeze(0).unsqueeze(0).cuda()\n",
    "    wav = resampler(wav)\n",
    "\n",
    "    # Extract speech units\n",
    "    if hubert_type == 'raw':\n",
    "        feats = hubert.encode(wav, layer=output_layer)[0].detach().transpose(1,2)\n",
    "    else: # discrete / soft\n",
    "        feats = hubert.units(wav)\n",
    "        if feats.dim() == 3:\n",
    "            # soft features\n",
    "            feats = feats.transpose(1,2)\n",
    "        if hubert_type == 'discrete' and discrete_type == 'centroid':\n",
    "            # convert from sequence of discrete codes to sequence of centroid vectors that correspond to the discrete codes\n",
    "            feats = codes2centroids(feats).T\n",
    "\n",
    "    # standardise feats by removing batch dimension, and converting to numpy arrays\n",
    "    if type(feats) == torch.Tensor:\n",
    "        feats = feats.cpu().numpy()\n",
    "    if len(feats.shape) == 3: # likely [b_sz, timesteps, feats]\n",
    "        # squeeze away batchsize dimension\n",
    "        feats = np.squeeze(feats, axis=0)\n",
    "        assert len(feats.shape) == 2\n",
    "    \n",
    "    return feats"
   ]
  },
  {
   "cell_type": "markdown",
   "id": "87c67f95-1849-4250-89c0-a6008d5fb7fd",
   "metadata": {
    "tags": []
   },
   "source": [
    "## Add to the dataframe a path to each form of cached hubert features for each spelling\n",
    "\n",
    "For each token_id and for each spelling, load cached hubert features from disk otherwise, encode using hubert then save to disk in cache folder\n",
    "\n",
    "Cache directory hierarchy:\n",
    "\n",
    "- cache/\n",
    "    - hubert/\n",
    "        - raw/\n",
    "        - soft/\n",
    "        - discrete/\n",
    "            - code/\n",
    "            - centroid/"
   ]
  },
  {
   "cell_type": "code",
   "execution_count": 62,
   "id": "99a69887-0fe8-4945-8752-36cc74316b36",
   "metadata": {},
   "outputs": [
    {
     "name": "stdout",
     "output_type": "stream",
     "text": [
      "*** encoding spellings and GT audio using mfcc\n"
     ]
    },
    {
     "name": "stderr",
     "output_type": "stream",
     "text": [
      "encoding respelling: 100%|██████████████████████████████████████████| 9974/9974 [03:12<00:00, 51.76it/s]\n",
      "encoding token_id: 100%|████████████████████████████████████████████████| 99/99 [00:05<00:00, 17.38it/s]\n",
      "Using cache found in /home/s1785140/.cache/torch/hub/bshall_hubert_main\n"
     ]
    },
    {
     "name": "stdout",
     "output_type": "stream",
     "text": [
      "*** encoding spellings and GT audio using hubert-raw\n"
     ]
    },
    {
     "name": "stderr",
     "output_type": "stream",
     "text": [
      "encoding respelling: 100%|██████████████████████████████████████████| 9974/9974 [10:01<00:00, 16.58it/s]\n",
      "encoding token_id: 100%|████████████████████████████████████████████████| 99/99 [00:08<00:00, 11.48it/s]\n",
      "Using cache found in /home/s1785140/.cache/torch/hub/bshall_hubert_main\n"
     ]
    },
    {
     "name": "stdout",
     "output_type": "stream",
     "text": [
      "*** encoding spellings and GT audio using hubert-soft\n"
     ]
    },
    {
     "name": "stderr",
     "output_type": "stream",
     "text": [
      "encoding respelling: 100%|██████████████████████████████████████████| 9974/9974 [07:49<00:00, 21.26it/s]\n",
      "encoding token_id: 100%|████████████████████████████████████████████████| 99/99 [00:06<00:00, 15.33it/s]\n",
      "Using cache found in /home/s1785140/.cache/torch/hub/bshall_hubert_main\n"
     ]
    },
    {
     "name": "stdout",
     "output_type": "stream",
     "text": [
      "*** encoding spellings and GT audio using hubert-discrete-code\n"
     ]
    },
    {
     "name": "stderr",
     "output_type": "stream",
     "text": [
      "encoding respelling: 100%|██████████████████████████████████████████| 9974/9974 [04:47<00:00, 34.64it/s]\n",
      "encoding token_id: 100%|████████████████████████████████████████████████| 99/99 [00:05<00:00, 17.24it/s]\n",
      "Using cache found in /home/s1785140/.cache/torch/hub/bshall_hubert_main\n"
     ]
    },
    {
     "name": "stdout",
     "output_type": "stream",
     "text": [
      "*** encoding spellings and GT audio using hubert-discrete-centroid\n"
     ]
    },
    {
     "name": "stderr",
     "output_type": "stream",
     "text": [
      "encoding respelling: 100%|██████████████████████████████████████████| 9974/9974 [10:45<00:00, 15.46it/s]\n",
      "encoding token_id: 100%|████████████████████████████████████████████████| 99/99 [00:08<00:00, 11.80it/s]"
     ]
    },
    {
     "name": "stdout",
     "output_type": "stream",
     "text": [
      "!!! DONE !!!\n"
     ]
    },
    {
     "name": "stderr",
     "output_type": "stream",
     "text": [
      "\n"
     ]
    }
   ],
   "source": [
    "cache_dir = \"/home/s1785140/rlspeller/caches\"\n",
    "\n",
    "feats_to_use = [\n",
    "    ('mfcc', None, None),\n",
    "    ('hubert', 'raw', None),\n",
    "    ('hubert', 'soft', None),\n",
    "    ('hubert', 'discrete', 'code'),\n",
    "    ('hubert', 'discrete', 'centroid'),\n",
    "]\n",
    "\n",
    "def feats2feats_col(feats):\n",
    "    feat_col = feats[0]\n",
    "    \n",
    "    for descriptor in feats[1:]:\n",
    "        if descriptor is not None:\n",
    "            feat_col += f\"-{descriptor}\"\n",
    "    \n",
    "    gt_feat_col = feat_col + '-GT'\n",
    "    return feat_col, gt_feat_col\n",
    "\n",
    "def feats2feats_dir(feats):\n",
    "    outdir = feats[0]\n",
    "    \n",
    "    for descriptor in feats[1:]:\n",
    "        if descriptor is not None:\n",
    "            outdir = os.path.join(outdir, descriptor)\n",
    "    \n",
    "    return outdir\n",
    "\n",
    "def load_hubert_model(hubert_type):\n",
    "    if hubert_type in ['soft']: # NB raw feats can be extracted from hubert_soft or discrete\n",
    "        hubert = torch.hub.load(\"bshall/hubert:main\", \"hubert_soft\").cuda() # input sample rate should be 16khz\n",
    "    elif hubert_type == ['discrete', 'raw']:\n",
    "        # NOTE FOR RAW, WE LOAD DISCRETE HUBERT NOT SOFT, THIS IS BECAUSE SOFT HUBERT HAS BEEN FINETUNED TO LEARN THE SOFT SPEECH UNITS\n",
    "        hubert = torch.hub.load(\"bshall/hubert:main\", \"hubert_discrete\").cuda() # input sample rate should be 16khz\n",
    "    else:\n",
    "        raise ValueError\n",
    "    return hubert\n",
    "\n",
    "for feats in feats_to_use:\n",
    "    # create output directory to store caches\n",
    "    outdir = os.path.join(cache_dir, feats2feats_dir(feats))    \n",
    "    if not os.path.exists(outdir):\n",
    "        os.makedirs(outdir, exist_ok=True)\n",
    "    \n",
    "    col_name, gt_col_name = feats2feats_col(feats)\n",
    "    \n",
    "    print(f\"*** encoding spellings and GT audio using {col_name}\")\n",
    "        \n",
    "    if col_name not in df.columns:\n",
    "        # then add the column\n",
    "        df[col_name] = None\n",
    "    if gt_col_name not in df.columns:\n",
    "        # add column for encoding of GT audio\n",
    "        df[gt_col_name] = None\n",
    "        \n",
    "    feat_type, hubert_type, discrete_type = feats\n",
    "     \n",
    "    # load hubert model\n",
    "    if feat_type == 'hubert':\n",
    "        hubert = load_hubert_model(hubert_type)\n",
    "        \n",
    "    # check each spelling in df and check if hubert has been computed already\n",
    "    def encode_column(input_audio_col_name, feats_col_name, input2audio_map):\n",
    "        # TODO handle token_id differently as a token_id will be shared across many different respellings\n",
    "        \n",
    "        ## OLD VERSION OF CODE, WILL CHECK WHETHER TO ENCODE EACH ROW, VERY SLOW FOR TOKEN_ID AS TOKEN_ID IS IDENTICAL FOR MANY RESPELLINGS SHARING A WORDTYPE\n",
    "#         for input_id in tqdm(df[input_audio_col_name].unique(), desc=f\"encoding {input_audio_col_name}\"):\n",
    "#             for i in df[df[input_audio_col_name] == input_id].index:\n",
    "#                 do_encode = df.loc[i, feats_col_name] == None or not os.path.exists(df.loc[i, feats_col_name])\n",
    "#                 if do_encode:\n",
    "#                     wav = input2audio_map[input_id]\n",
    "#                     if feat_type == 'hubert':\n",
    "#                         encoding = wav2ssl_feats(wav, hubert_type, discrete_type)\n",
    "#                     elif feat_type == 'mfcc':\n",
    "#                         if input_audio_col_name == 'respelling':\n",
    "#                             encoding = spelling2tts_mfcc[input_id]\n",
    "#                         elif input_audio_col_name == 'token_id':\n",
    "#                             encoding = token_id2fastpitch_gt_mfcc[input_id]\n",
    "                            \n",
    "#                     else:\n",
    "#                         raise ValueError\n",
    "#                     save_path = os.path.join(outdir, f\"{input_id}.npy\")\n",
    "#                     np.save(save_path, encoding)\n",
    "#                     df.loc[i, feats_col_name] = save_path\n",
    "\n",
    "        def do_encode(input_id, feats_col_name):\n",
    "            \"\"\"logic to determine if the input has been encoded before\n",
    "            if there is None in any of the rows corresponding to this input id and feats col, then we need to generate\"\"\"\n",
    "            if df[df[input_audio_col_name] == input_id][feats_col_name].apply(lambda x: x is None).any():\n",
    "                return True\n",
    "            return False\n",
    "            \n",
    "        for input_id in tqdm(df[input_audio_col_name].unique(), desc=f\"encoding {input_audio_col_name}\"):\n",
    "            if do_encode(input_id, feats_col_name):\n",
    "                # encode and save to disk\n",
    "                if type(input2audio_map[input_id]) == str:\n",
    "                    wav, _sr = librosa.load(input2audio_map[input_id])\n",
    "                else:\n",
    "                    wav = input2audio_map[input_id]\n",
    "                if feat_type == 'hubert':\n",
    "                    encoding = wav2ssl_feats(wav, hubert_type, discrete_type)\n",
    "                elif feat_type == 'mfcc':\n",
    "                    if input_audio_col_name == 'respelling':\n",
    "                        encoding = spelling2tts_mfcc[input_id]\n",
    "                    elif input_audio_col_name == 'token_id':\n",
    "                        encoding = token_id2fastpitch_gt_mfcc[input_id]\n",
    "                else:\n",
    "                    raise ValueError\n",
    "                save_path = os.path.join(outdir, f\"{input_id}.npy\")\n",
    "                np.save(save_path, encoding)\n",
    "\n",
    "                # enter save path into col for all matching rows\n",
    "                for i in df[df[input_audio_col_name] == input_id][feats_col_name].index:\n",
    "                    df.loc[i, feats_col_name] = save_path\n",
    "                    \n",
    "    encode_column('respelling', col_name, spelling2vocoded_audio)\n",
    "    encode_column('token_id', gt_col_name, token_id2gt_audio)\n",
    "    \n",
    "print(\"!!! DONE !!!\")\n",
    "\n",
    "hubert = None # remove hubert model from memory"
   ]
  },
  {
   "cell_type": "code",
   "execution_count": 63,
   "id": "f40e8813-64f5-42a7-be91-f179ba94d2d9",
   "metadata": {
    "tags": []
   },
   "outputs": [
    {
     "data": {
      "text/plain": [
       "array(['marquis__LJ003-0177__occ1__len9280',\n",
       "       'fancier__LJ009-0291__occ1__len10080',\n",
       "       'fatigues__LJ012-0200__occ1__len10400',\n",
       "       'appleby__LJ007-0087__occ1__len8160',\n",
       "       'hammurabi__LJ028-0037__occ1__len13600',\n",
       "       'collared__LJ010-0261__occ1__len8320',\n",
       "       'guiseppe__LJ050-0102__occ1__len6880',\n",
       "       'reigate__LJ015-0054__occ1__len11360',\n",
       "       'ulysses__LJ024-0050__occ1__len11040',\n",
       "       'giovanni__LJ016-0389__occ1__len10239',\n",
       "       'femoral__LJ031-0055__occ1__len7840',\n",
       "       'pirates__LJ002-0240__occ1__len10560',\n",
       "       'plagued__LJ044-0200__occ1__len6240',\n",
       "       'speeches__LJ010-0211__occ1__len8960',\n",
       "       'cologne__LJ001-0067__occ1__len9760',\n",
       "       'butcher__LJ013-0254__occ1__len9440',\n",
       "       'european__LJ003-0298__occ1__len9760',\n",
       "       'hurried__LJ009-0246__occ1__len9280',\n",
       "       'gregory__LJ031-0116__occ1__len10240',\n",
       "       'rouleaux__LJ013-0175__occ1__len10240',\n",
       "       'erasures__LJ014-0257__occ1__len13280',\n",
       "       'islands__LJ013-0022__occ1__len12000',\n",
       "       'fancied__LJ010-0078__occ1__len9440',\n",
       "       'grimaldi__LJ011-0238__occ1__len10400',\n",
       "       'erroneous__LJ025-0089__occ1__len10080',\n",
       "       'awesome__LJ021-0191__occ1__len8320',\n",
       "       'allegiance__LJ007-0223__occ1__len8960',\n",
       "       'heiresses__LJ011-0149__occ1__len9920',\n",
       "       'respiratory__LJ017-0094__occ1__len12480',\n",
       "       'queries__LJ005-0100__occ1__len9280',\n",
       "       'ctesias__LJ028-0174__occ1__len10400',\n",
       "       'brougham__LJ014-0268__occ1__len8640',\n",
       "       'exhortation__LJ007-0165__occ1__len13920',\n",
       "       'tocqueville__LJ006-0025__occ1__len11520',\n",
       "       'peripheral__LJ031-0066__occ1__len8960',\n",
       "       'cribbage__LJ006-0197__occ1__len12000',\n",
       "       'jamaica__LJ013-0030__occ1__len10560',\n",
       "       'nicholas__LJ001-0044__occ1__len8320',\n",
       "       'heiress__LJ011-0085__occ1__len8320',\n",
       "       'schoeffer__LJ001-0024__occ1__len9920',\n",
       "       'elamite__LJ028-0390__occ1__len10560',\n",
       "       'usurious__LJ014-0066__occ1__len12320',\n",
       "       'delicti__LJ012-0279__occ1__len11840',\n",
       "       'forgive__LJ018-0051__occ1__len6080',\n",
       "       'napoleon__LJ014-0308__occ1__len9280',\n",
       "       'forgiveness__LJ014-0234__occ1__len9280',\n",
       "       'jacques__LJ001-0055__occ1__len7040',\n",
       "       'czolgosz__LJ050-0101__occ1__len14880',\n",
       "       'bequeathed__LJ016-0219__occ1__len9760',\n",
       "       'schleiden__LJ025-0113__occ1__len10560',\n",
       "       'clangour__LJ016-0353__occ1__len10080',\n",
       "       'carotid__LJ031-0066__occ1__len9440',\n",
       "       'niebuhr__LJ028-0422__occ1__len9920',\n",
       "       'gloucester__LJ003-0291__occ1__len10080',\n",
       "       'massage__LJ031-0065__occ1__len9280',\n",
       "       'jealousy__LJ014-0136__occ1__len9920',\n",
       "       'douglas__LJ050-0133__occ1__len8480',\n",
       "       'mouthed__LJ041-0038__occ1__len6560',\n",
       "       'militia__LJ009-0201__occ1__len9440',\n",
       "       'executors__LJ009-0194__occ1__len15680',\n",
       "       'endorsed__LJ012-0236__occ1__len8320',\n",
       "       'sepulchre__LJ008-0254__occ1__len10880',\n",
       "       'erasing__LJ014-0255__occ1__len10080',\n",
       "       'deutsche__LJ028-0425__occ1__len8160',\n",
       "       'schwann__LJ025-0113__occ1__len8480',\n",
       "       'croesus__LJ028-0186__occ1__len10880',\n",
       "       'scourge__LJ028-0289__occ1__len12728',\n",
       "       'maecenas__LJ015-0145__occ1__len13120',\n",
       "       'bruised__LJ006-0239__occ1__len6560',\n",
       "       'nourish__LJ020-0042__occ1__len8000',\n",
       "       'saccharine__LJ025-0096__occ1__len9280',\n",
       "       'nuclear__LJ027-0014__occ1__len8160',\n",
       "       'decorous__LJ007-0017__occ1__len10400',\n",
       "       'brochure__LJ009-0031__occ1__len13280',\n",
       "       'bizarre__LJ046-0123__occ1__len8160',\n",
       "       'courier__LJ015-0234__occ1__len6560',\n",
       "       'paradise__LJ028-0134__occ1__len15040',\n",
       "       'gloucestershire__LJ014-0053__occ1__len14720',\n",
       "       'ehrenberg__LJ025-0066__occ1__len12960',\n",
       "       'poydras__LJ036-0034__occ1__len9920',\n",
       "       'immature__LJ042-0169__occ1__len11040',\n",
       "       'berthed__LJ044-0016__occ1__len6720',\n",
       "       'minority__LJ021-0053__occ1__len10720',\n",
       "       'aligning__LJ039-0089__occ1__len7840',\n",
       "       'queried__LJ036-0163__occ1__len7360',\n",
       "       'ranging__LJ039-0206__occ1__len7680',\n",
       "       'protests__LJ004-0047__occ1__len11680',\n",
       "       'executor__LJ013-0071__occ1__len10720',\n",
       "       'beaumont__LJ006-0025__occ1__len9120',\n",
       "       'adelphi__LJ018-0093__occ1__len7840',\n",
       "       'remorse__LJ016-0379__occ1__len9760',\n",
       "       'seleucia__LJ028-0366__occ1__len11680',\n",
       "       'severed__LJ043-0035__occ1__len8160',\n",
       "       'khrushchev__LJ041-0031__occ1__len12640',\n",
       "       'columns__LJ005-0109__occ1__len9600',\n",
       "       'boulogne__LJ015-0213__occ1__len8000',\n",
       "       'shredded__LJ031-0047__occ1__len8960',\n",
       "       'courtesy__LJ029-0179__occ1__len10080',\n",
       "       'ferrari__LJ012-0214__occ1__len11200'], dtype=object)"
      ]
     },
     "execution_count": 63,
     "metadata": {},
     "output_type": "execute_result"
    }
   ],
   "source": [
    "df['token_id'].unique()"
   ]
  },
  {
   "cell_type": "code",
   "execution_count": 64,
   "id": "fdbf3b99-522d-4483-9a97-0379b140d22b",
   "metadata": {
    "tags": []
   },
   "outputs": [
    {
     "data": {
      "text/html": [
       "<div>\n",
       "<style scoped>\n",
       "    .dataframe tbody tr th:only-of-type {\n",
       "        vertical-align: middle;\n",
       "    }\n",
       "\n",
       "    .dataframe tbody tr th {\n",
       "        vertical-align: top;\n",
       "    }\n",
       "\n",
       "    .dataframe thead th {\n",
       "        text-align: right;\n",
       "    }\n",
       "</style>\n",
       "<table border=\"1\" class=\"dataframe\">\n",
       "  <thead>\n",
       "    <tr style=\"text-align: right;\">\n",
       "      <th></th>\n",
       "      <th>token_id</th>\n",
       "      <th>wordtype</th>\n",
       "      <th>respelling</th>\n",
       "      <th>cer</th>\n",
       "      <th>orig_wav</th>\n",
       "      <th>mfcc</th>\n",
       "      <th>mfcc-GT</th>\n",
       "      <th>hubert-raw</th>\n",
       "      <th>hubert-raw-GT</th>\n",
       "      <th>hubert-soft</th>\n",
       "      <th>hubert-soft-GT</th>\n",
       "      <th>hubert-discrete-code</th>\n",
       "      <th>hubert-discrete-code-GT</th>\n",
       "      <th>hubert-discrete-centroid</th>\n",
       "      <th>hubert-discrete-centroid-GT</th>\n",
       "    </tr>\n",
       "  </thead>\n",
       "  <tbody>\n",
       "    <tr>\n",
       "      <th>100</th>\n",
       "      <td>fancier__LJ009-0291__occ1__len10080</td>\n",
       "      <td>fancier</td>\n",
       "      <td>efansehiere</td>\n",
       "      <td>71.428571</td>\n",
       "      <td>/home/s1785140/speechbrain/templates/speech_re...</td>\n",
       "      <td>/home/s1785140/rlspeller/caches/mfcc/efansehie...</td>\n",
       "      <td>/home/s1785140/rlspeller/caches/mfcc/fancier__...</td>\n",
       "      <td>/home/s1785140/rlspeller/caches/hubert/raw/efa...</td>\n",
       "      <td>/home/s1785140/rlspeller/caches/hubert/raw/fan...</td>\n",
       "      <td>/home/s1785140/rlspeller/caches/hubert/soft/ef...</td>\n",
       "      <td>/home/s1785140/rlspeller/caches/hubert/soft/fa...</td>\n",
       "      <td>/home/s1785140/rlspeller/caches/hubert/discret...</td>\n",
       "      <td>/home/s1785140/rlspeller/caches/hubert/discret...</td>\n",
       "      <td>/home/s1785140/rlspeller/caches/hubert/discret...</td>\n",
       "      <td>/home/s1785140/rlspeller/caches/hubert/discret...</td>\n",
       "    </tr>\n",
       "    <tr>\n",
       "      <th>101</th>\n",
       "      <td>fancier__LJ009-0291__occ1__len10080</td>\n",
       "      <td>fancier</td>\n",
       "      <td>fansehiere</td>\n",
       "      <td>57.142857</td>\n",
       "      <td>/home/s1785140/speechbrain/templates/speech_re...</td>\n",
       "      <td>/home/s1785140/rlspeller/caches/mfcc/fansehier...</td>\n",
       "      <td>/home/s1785140/rlspeller/caches/mfcc/fancier__...</td>\n",
       "      <td>/home/s1785140/rlspeller/caches/hubert/raw/fan...</td>\n",
       "      <td>/home/s1785140/rlspeller/caches/hubert/raw/fan...</td>\n",
       "      <td>/home/s1785140/rlspeller/caches/hubert/soft/fa...</td>\n",
       "      <td>/home/s1785140/rlspeller/caches/hubert/soft/fa...</td>\n",
       "      <td>/home/s1785140/rlspeller/caches/hubert/discret...</td>\n",
       "      <td>/home/s1785140/rlspeller/caches/hubert/discret...</td>\n",
       "      <td>/home/s1785140/rlspeller/caches/hubert/discret...</td>\n",
       "      <td>/home/s1785140/rlspeller/caches/hubert/discret...</td>\n",
       "    </tr>\n",
       "    <tr>\n",
       "      <th>102</th>\n",
       "      <td>fancier__LJ009-0291__occ1__len10080</td>\n",
       "      <td>fancier</td>\n",
       "      <td>fansyhere</td>\n",
       "      <td>57.142857</td>\n",
       "      <td>/home/s1785140/speechbrain/templates/speech_re...</td>\n",
       "      <td>/home/s1785140/rlspeller/caches/mfcc/fansyhere...</td>\n",
       "      <td>/home/s1785140/rlspeller/caches/mfcc/fancier__...</td>\n",
       "      <td>/home/s1785140/rlspeller/caches/hubert/raw/fan...</td>\n",
       "      <td>/home/s1785140/rlspeller/caches/hubert/raw/fan...</td>\n",
       "      <td>/home/s1785140/rlspeller/caches/hubert/soft/fa...</td>\n",
       "      <td>/home/s1785140/rlspeller/caches/hubert/soft/fa...</td>\n",
       "      <td>/home/s1785140/rlspeller/caches/hubert/discret...</td>\n",
       "      <td>/home/s1785140/rlspeller/caches/hubert/discret...</td>\n",
       "      <td>/home/s1785140/rlspeller/caches/hubert/discret...</td>\n",
       "      <td>/home/s1785140/rlspeller/caches/hubert/discret...</td>\n",
       "    </tr>\n",
       "    <tr>\n",
       "      <th>103</th>\n",
       "      <td>fancier__LJ009-0291__occ1__len10080</td>\n",
       "      <td>fancier</td>\n",
       "      <td>fanseehere</td>\n",
       "      <td>71.428571</td>\n",
       "      <td>/home/s1785140/speechbrain/templates/speech_re...</td>\n",
       "      <td>/home/s1785140/rlspeller/caches/mfcc/fanseeher...</td>\n",
       "      <td>/home/s1785140/rlspeller/caches/mfcc/fancier__...</td>\n",
       "      <td>/home/s1785140/rlspeller/caches/hubert/raw/fan...</td>\n",
       "      <td>/home/s1785140/rlspeller/caches/hubert/raw/fan...</td>\n",
       "      <td>/home/s1785140/rlspeller/caches/hubert/soft/fa...</td>\n",
       "      <td>/home/s1785140/rlspeller/caches/hubert/soft/fa...</td>\n",
       "      <td>/home/s1785140/rlspeller/caches/hubert/discret...</td>\n",
       "      <td>/home/s1785140/rlspeller/caches/hubert/discret...</td>\n",
       "      <td>/home/s1785140/rlspeller/caches/hubert/discret...</td>\n",
       "      <td>/home/s1785140/rlspeller/caches/hubert/discret...</td>\n",
       "    </tr>\n",
       "    <tr>\n",
       "      <th>104</th>\n",
       "      <td>fancier__LJ009-0291__occ1__len10080</td>\n",
       "      <td>fancier</td>\n",
       "      <td>fanehere</td>\n",
       "      <td>42.857143</td>\n",
       "      <td>/home/s1785140/speechbrain/templates/speech_re...</td>\n",
       "      <td>/home/s1785140/rlspeller/caches/mfcc/fanehere.npy</td>\n",
       "      <td>/home/s1785140/rlspeller/caches/mfcc/fancier__...</td>\n",
       "      <td>/home/s1785140/rlspeller/caches/hubert/raw/fan...</td>\n",
       "      <td>/home/s1785140/rlspeller/caches/hubert/raw/fan...</td>\n",
       "      <td>/home/s1785140/rlspeller/caches/hubert/soft/fa...</td>\n",
       "      <td>/home/s1785140/rlspeller/caches/hubert/soft/fa...</td>\n",
       "      <td>/home/s1785140/rlspeller/caches/hubert/discret...</td>\n",
       "      <td>/home/s1785140/rlspeller/caches/hubert/discret...</td>\n",
       "      <td>/home/s1785140/rlspeller/caches/hubert/discret...</td>\n",
       "      <td>/home/s1785140/rlspeller/caches/hubert/discret...</td>\n",
       "    </tr>\n",
       "    <tr>\n",
       "      <th>...</th>\n",
       "      <td>...</td>\n",
       "      <td>...</td>\n",
       "      <td>...</td>\n",
       "      <td>...</td>\n",
       "      <td>...</td>\n",
       "      <td>...</td>\n",
       "      <td>...</td>\n",
       "      <td>...</td>\n",
       "      <td>...</td>\n",
       "      <td>...</td>\n",
       "      <td>...</td>\n",
       "      <td>...</td>\n",
       "      <td>...</td>\n",
       "      <td>...</td>\n",
       "      <td>...</td>\n",
       "    </tr>\n",
       "    <tr>\n",
       "      <th>196</th>\n",
       "      <td>fancier__LJ009-0291__occ1__len10080</td>\n",
       "      <td>fancier</td>\n",
       "      <td>fansehear</td>\n",
       "      <td>57.142857</td>\n",
       "      <td>/home/s1785140/speechbrain/templates/speech_re...</td>\n",
       "      <td>/home/s1785140/rlspeller/caches/mfcc/fansehear...</td>\n",
       "      <td>/home/s1785140/rlspeller/caches/mfcc/fancier__...</td>\n",
       "      <td>/home/s1785140/rlspeller/caches/hubert/raw/fan...</td>\n",
       "      <td>/home/s1785140/rlspeller/caches/hubert/raw/fan...</td>\n",
       "      <td>/home/s1785140/rlspeller/caches/hubert/soft/fa...</td>\n",
       "      <td>/home/s1785140/rlspeller/caches/hubert/soft/fa...</td>\n",
       "      <td>/home/s1785140/rlspeller/caches/hubert/discret...</td>\n",
       "      <td>/home/s1785140/rlspeller/caches/hubert/discret...</td>\n",
       "      <td>/home/s1785140/rlspeller/caches/hubert/discret...</td>\n",
       "      <td>/home/s1785140/rlspeller/caches/hubert/discret...</td>\n",
       "    </tr>\n",
       "    <tr>\n",
       "      <th>197</th>\n",
       "      <td>fancier__LJ009-0291__occ1__len10080</td>\n",
       "      <td>fancier</td>\n",
       "      <td>ifansehere</td>\n",
       "      <td>71.428571</td>\n",
       "      <td>/home/s1785140/speechbrain/templates/speech_re...</td>\n",
       "      <td>/home/s1785140/rlspeller/caches/mfcc/ifanseher...</td>\n",
       "      <td>/home/s1785140/rlspeller/caches/mfcc/fancier__...</td>\n",
       "      <td>/home/s1785140/rlspeller/caches/hubert/raw/ifa...</td>\n",
       "      <td>/home/s1785140/rlspeller/caches/hubert/raw/fan...</td>\n",
       "      <td>/home/s1785140/rlspeller/caches/hubert/soft/if...</td>\n",
       "      <td>/home/s1785140/rlspeller/caches/hubert/soft/fa...</td>\n",
       "      <td>/home/s1785140/rlspeller/caches/hubert/discret...</td>\n",
       "      <td>/home/s1785140/rlspeller/caches/hubert/discret...</td>\n",
       "      <td>/home/s1785140/rlspeller/caches/hubert/discret...</td>\n",
       "      <td>/home/s1785140/rlspeller/caches/hubert/discret...</td>\n",
       "    </tr>\n",
       "    <tr>\n",
       "      <th>198</th>\n",
       "      <td>fancier__LJ009-0291__occ1__len10080</td>\n",
       "      <td>fancier</td>\n",
       "      <td>ufanseere</td>\n",
       "      <td>57.142857</td>\n",
       "      <td>/home/s1785140/speechbrain/templates/speech_re...</td>\n",
       "      <td>/home/s1785140/rlspeller/caches/mfcc/ufanseere...</td>\n",
       "      <td>/home/s1785140/rlspeller/caches/mfcc/fancier__...</td>\n",
       "      <td>/home/s1785140/rlspeller/caches/hubert/raw/ufa...</td>\n",
       "      <td>/home/s1785140/rlspeller/caches/hubert/raw/fan...</td>\n",
       "      <td>/home/s1785140/rlspeller/caches/hubert/soft/uf...</td>\n",
       "      <td>/home/s1785140/rlspeller/caches/hubert/soft/fa...</td>\n",
       "      <td>/home/s1785140/rlspeller/caches/hubert/discret...</td>\n",
       "      <td>/home/s1785140/rlspeller/caches/hubert/discret...</td>\n",
       "      <td>/home/s1785140/rlspeller/caches/hubert/discret...</td>\n",
       "      <td>/home/s1785140/rlspeller/caches/hubert/discret...</td>\n",
       "    </tr>\n",
       "    <tr>\n",
       "      <th>199</th>\n",
       "      <td>fancier__LJ009-0291__occ1__len10080</td>\n",
       "      <td>fancier</td>\n",
       "      <td>fansehure</td>\n",
       "      <td>71.428571</td>\n",
       "      <td>/home/s1785140/speechbrain/templates/speech_re...</td>\n",
       "      <td>/home/s1785140/rlspeller/caches/mfcc/fansehure...</td>\n",
       "      <td>/home/s1785140/rlspeller/caches/mfcc/fancier__...</td>\n",
       "      <td>/home/s1785140/rlspeller/caches/hubert/raw/fan...</td>\n",
       "      <td>/home/s1785140/rlspeller/caches/hubert/raw/fan...</td>\n",
       "      <td>/home/s1785140/rlspeller/caches/hubert/soft/fa...</td>\n",
       "      <td>/home/s1785140/rlspeller/caches/hubert/soft/fa...</td>\n",
       "      <td>/home/s1785140/rlspeller/caches/hubert/discret...</td>\n",
       "      <td>/home/s1785140/rlspeller/caches/hubert/discret...</td>\n",
       "      <td>/home/s1785140/rlspeller/caches/hubert/discret...</td>\n",
       "      <td>/home/s1785140/rlspeller/caches/hubert/discret...</td>\n",
       "    </tr>\n",
       "    <tr>\n",
       "      <th>9901</th>\n",
       "      <td>fancier__LJ009-0291__occ1__len10080</td>\n",
       "      <td>fancier</td>\n",
       "      <td>fancier</td>\n",
       "      <td>0.000000</td>\n",
       "      <td>/home/s1785140/speechbrain/templates/speech_re...</td>\n",
       "      <td>/home/s1785140/rlspeller/caches/mfcc/fancier.npy</td>\n",
       "      <td>/home/s1785140/rlspeller/caches/mfcc/fancier__...</td>\n",
       "      <td>/home/s1785140/rlspeller/caches/hubert/raw/fan...</td>\n",
       "      <td>/home/s1785140/rlspeller/caches/hubert/raw/fan...</td>\n",
       "      <td>/home/s1785140/rlspeller/caches/hubert/soft/fa...</td>\n",
       "      <td>/home/s1785140/rlspeller/caches/hubert/soft/fa...</td>\n",
       "      <td>/home/s1785140/rlspeller/caches/hubert/discret...</td>\n",
       "      <td>/home/s1785140/rlspeller/caches/hubert/discret...</td>\n",
       "      <td>/home/s1785140/rlspeller/caches/hubert/discret...</td>\n",
       "      <td>/home/s1785140/rlspeller/caches/hubert/discret...</td>\n",
       "    </tr>\n",
       "  </tbody>\n",
       "</table>\n",
       "<p>101 rows × 15 columns</p>\n",
       "</div>"
      ],
      "text/plain": [
       "                                 token_id wordtype   respelling        cer  \\\n",
       "100   fancier__LJ009-0291__occ1__len10080  fancier  efansehiere  71.428571   \n",
       "101   fancier__LJ009-0291__occ1__len10080  fancier   fansehiere  57.142857   \n",
       "102   fancier__LJ009-0291__occ1__len10080  fancier    fansyhere  57.142857   \n",
       "103   fancier__LJ009-0291__occ1__len10080  fancier   fanseehere  71.428571   \n",
       "104   fancier__LJ009-0291__occ1__len10080  fancier     fanehere  42.857143   \n",
       "...                                   ...      ...          ...        ...   \n",
       "196   fancier__LJ009-0291__occ1__len10080  fancier    fansehear  57.142857   \n",
       "197   fancier__LJ009-0291__occ1__len10080  fancier   ifansehere  71.428571   \n",
       "198   fancier__LJ009-0291__occ1__len10080  fancier    ufanseere  57.142857   \n",
       "199   fancier__LJ009-0291__occ1__len10080  fancier    fansehure  71.428571   \n",
       "9901  fancier__LJ009-0291__occ1__len10080  fancier      fancier   0.000000   \n",
       "\n",
       "                                               orig_wav  \\\n",
       "100   /home/s1785140/speechbrain/templates/speech_re...   \n",
       "101   /home/s1785140/speechbrain/templates/speech_re...   \n",
       "102   /home/s1785140/speechbrain/templates/speech_re...   \n",
       "103   /home/s1785140/speechbrain/templates/speech_re...   \n",
       "104   /home/s1785140/speechbrain/templates/speech_re...   \n",
       "...                                                 ...   \n",
       "196   /home/s1785140/speechbrain/templates/speech_re...   \n",
       "197   /home/s1785140/speechbrain/templates/speech_re...   \n",
       "198   /home/s1785140/speechbrain/templates/speech_re...   \n",
       "199   /home/s1785140/speechbrain/templates/speech_re...   \n",
       "9901  /home/s1785140/speechbrain/templates/speech_re...   \n",
       "\n",
       "                                                   mfcc  \\\n",
       "100   /home/s1785140/rlspeller/caches/mfcc/efansehie...   \n",
       "101   /home/s1785140/rlspeller/caches/mfcc/fansehier...   \n",
       "102   /home/s1785140/rlspeller/caches/mfcc/fansyhere...   \n",
       "103   /home/s1785140/rlspeller/caches/mfcc/fanseeher...   \n",
       "104   /home/s1785140/rlspeller/caches/mfcc/fanehere.npy   \n",
       "...                                                 ...   \n",
       "196   /home/s1785140/rlspeller/caches/mfcc/fansehear...   \n",
       "197   /home/s1785140/rlspeller/caches/mfcc/ifanseher...   \n",
       "198   /home/s1785140/rlspeller/caches/mfcc/ufanseere...   \n",
       "199   /home/s1785140/rlspeller/caches/mfcc/fansehure...   \n",
       "9901   /home/s1785140/rlspeller/caches/mfcc/fancier.npy   \n",
       "\n",
       "                                                mfcc-GT  \\\n",
       "100   /home/s1785140/rlspeller/caches/mfcc/fancier__...   \n",
       "101   /home/s1785140/rlspeller/caches/mfcc/fancier__...   \n",
       "102   /home/s1785140/rlspeller/caches/mfcc/fancier__...   \n",
       "103   /home/s1785140/rlspeller/caches/mfcc/fancier__...   \n",
       "104   /home/s1785140/rlspeller/caches/mfcc/fancier__...   \n",
       "...                                                 ...   \n",
       "196   /home/s1785140/rlspeller/caches/mfcc/fancier__...   \n",
       "197   /home/s1785140/rlspeller/caches/mfcc/fancier__...   \n",
       "198   /home/s1785140/rlspeller/caches/mfcc/fancier__...   \n",
       "199   /home/s1785140/rlspeller/caches/mfcc/fancier__...   \n",
       "9901  /home/s1785140/rlspeller/caches/mfcc/fancier__...   \n",
       "\n",
       "                                             hubert-raw  \\\n",
       "100   /home/s1785140/rlspeller/caches/hubert/raw/efa...   \n",
       "101   /home/s1785140/rlspeller/caches/hubert/raw/fan...   \n",
       "102   /home/s1785140/rlspeller/caches/hubert/raw/fan...   \n",
       "103   /home/s1785140/rlspeller/caches/hubert/raw/fan...   \n",
       "104   /home/s1785140/rlspeller/caches/hubert/raw/fan...   \n",
       "...                                                 ...   \n",
       "196   /home/s1785140/rlspeller/caches/hubert/raw/fan...   \n",
       "197   /home/s1785140/rlspeller/caches/hubert/raw/ifa...   \n",
       "198   /home/s1785140/rlspeller/caches/hubert/raw/ufa...   \n",
       "199   /home/s1785140/rlspeller/caches/hubert/raw/fan...   \n",
       "9901  /home/s1785140/rlspeller/caches/hubert/raw/fan...   \n",
       "\n",
       "                                          hubert-raw-GT  \\\n",
       "100   /home/s1785140/rlspeller/caches/hubert/raw/fan...   \n",
       "101   /home/s1785140/rlspeller/caches/hubert/raw/fan...   \n",
       "102   /home/s1785140/rlspeller/caches/hubert/raw/fan...   \n",
       "103   /home/s1785140/rlspeller/caches/hubert/raw/fan...   \n",
       "104   /home/s1785140/rlspeller/caches/hubert/raw/fan...   \n",
       "...                                                 ...   \n",
       "196   /home/s1785140/rlspeller/caches/hubert/raw/fan...   \n",
       "197   /home/s1785140/rlspeller/caches/hubert/raw/fan...   \n",
       "198   /home/s1785140/rlspeller/caches/hubert/raw/fan...   \n",
       "199   /home/s1785140/rlspeller/caches/hubert/raw/fan...   \n",
       "9901  /home/s1785140/rlspeller/caches/hubert/raw/fan...   \n",
       "\n",
       "                                            hubert-soft  \\\n",
       "100   /home/s1785140/rlspeller/caches/hubert/soft/ef...   \n",
       "101   /home/s1785140/rlspeller/caches/hubert/soft/fa...   \n",
       "102   /home/s1785140/rlspeller/caches/hubert/soft/fa...   \n",
       "103   /home/s1785140/rlspeller/caches/hubert/soft/fa...   \n",
       "104   /home/s1785140/rlspeller/caches/hubert/soft/fa...   \n",
       "...                                                 ...   \n",
       "196   /home/s1785140/rlspeller/caches/hubert/soft/fa...   \n",
       "197   /home/s1785140/rlspeller/caches/hubert/soft/if...   \n",
       "198   /home/s1785140/rlspeller/caches/hubert/soft/uf...   \n",
       "199   /home/s1785140/rlspeller/caches/hubert/soft/fa...   \n",
       "9901  /home/s1785140/rlspeller/caches/hubert/soft/fa...   \n",
       "\n",
       "                                         hubert-soft-GT  \\\n",
       "100   /home/s1785140/rlspeller/caches/hubert/soft/fa...   \n",
       "101   /home/s1785140/rlspeller/caches/hubert/soft/fa...   \n",
       "102   /home/s1785140/rlspeller/caches/hubert/soft/fa...   \n",
       "103   /home/s1785140/rlspeller/caches/hubert/soft/fa...   \n",
       "104   /home/s1785140/rlspeller/caches/hubert/soft/fa...   \n",
       "...                                                 ...   \n",
       "196   /home/s1785140/rlspeller/caches/hubert/soft/fa...   \n",
       "197   /home/s1785140/rlspeller/caches/hubert/soft/fa...   \n",
       "198   /home/s1785140/rlspeller/caches/hubert/soft/fa...   \n",
       "199   /home/s1785140/rlspeller/caches/hubert/soft/fa...   \n",
       "9901  /home/s1785140/rlspeller/caches/hubert/soft/fa...   \n",
       "\n",
       "                                   hubert-discrete-code  \\\n",
       "100   /home/s1785140/rlspeller/caches/hubert/discret...   \n",
       "101   /home/s1785140/rlspeller/caches/hubert/discret...   \n",
       "102   /home/s1785140/rlspeller/caches/hubert/discret...   \n",
       "103   /home/s1785140/rlspeller/caches/hubert/discret...   \n",
       "104   /home/s1785140/rlspeller/caches/hubert/discret...   \n",
       "...                                                 ...   \n",
       "196   /home/s1785140/rlspeller/caches/hubert/discret...   \n",
       "197   /home/s1785140/rlspeller/caches/hubert/discret...   \n",
       "198   /home/s1785140/rlspeller/caches/hubert/discret...   \n",
       "199   /home/s1785140/rlspeller/caches/hubert/discret...   \n",
       "9901  /home/s1785140/rlspeller/caches/hubert/discret...   \n",
       "\n",
       "                                hubert-discrete-code-GT  \\\n",
       "100   /home/s1785140/rlspeller/caches/hubert/discret...   \n",
       "101   /home/s1785140/rlspeller/caches/hubert/discret...   \n",
       "102   /home/s1785140/rlspeller/caches/hubert/discret...   \n",
       "103   /home/s1785140/rlspeller/caches/hubert/discret...   \n",
       "104   /home/s1785140/rlspeller/caches/hubert/discret...   \n",
       "...                                                 ...   \n",
       "196   /home/s1785140/rlspeller/caches/hubert/discret...   \n",
       "197   /home/s1785140/rlspeller/caches/hubert/discret...   \n",
       "198   /home/s1785140/rlspeller/caches/hubert/discret...   \n",
       "199   /home/s1785140/rlspeller/caches/hubert/discret...   \n",
       "9901  /home/s1785140/rlspeller/caches/hubert/discret...   \n",
       "\n",
       "                               hubert-discrete-centroid  \\\n",
       "100   /home/s1785140/rlspeller/caches/hubert/discret...   \n",
       "101   /home/s1785140/rlspeller/caches/hubert/discret...   \n",
       "102   /home/s1785140/rlspeller/caches/hubert/discret...   \n",
       "103   /home/s1785140/rlspeller/caches/hubert/discret...   \n",
       "104   /home/s1785140/rlspeller/caches/hubert/discret...   \n",
       "...                                                 ...   \n",
       "196   /home/s1785140/rlspeller/caches/hubert/discret...   \n",
       "197   /home/s1785140/rlspeller/caches/hubert/discret...   \n",
       "198   /home/s1785140/rlspeller/caches/hubert/discret...   \n",
       "199   /home/s1785140/rlspeller/caches/hubert/discret...   \n",
       "9901  /home/s1785140/rlspeller/caches/hubert/discret...   \n",
       "\n",
       "                            hubert-discrete-centroid-GT  \n",
       "100   /home/s1785140/rlspeller/caches/hubert/discret...  \n",
       "101   /home/s1785140/rlspeller/caches/hubert/discret...  \n",
       "102   /home/s1785140/rlspeller/caches/hubert/discret...  \n",
       "103   /home/s1785140/rlspeller/caches/hubert/discret...  \n",
       "104   /home/s1785140/rlspeller/caches/hubert/discret...  \n",
       "...                                                 ...  \n",
       "196   /home/s1785140/rlspeller/caches/hubert/discret...  \n",
       "197   /home/s1785140/rlspeller/caches/hubert/discret...  \n",
       "198   /home/s1785140/rlspeller/caches/hubert/discret...  \n",
       "199   /home/s1785140/rlspeller/caches/hubert/discret...  \n",
       "9901  /home/s1785140/rlspeller/caches/hubert/discret...  \n",
       "\n",
       "[101 rows x 15 columns]"
      ]
     },
     "execution_count": 64,
     "metadata": {},
     "output_type": "execute_result"
    }
   ],
   "source": [
    "df[df['token_id'] == 'fancier__LJ009-0291__occ1__len10080']"
   ]
  },
  {
   "cell_type": "code",
   "execution_count": 65,
   "id": "5e53e9d7-8020-4bd1-9ae8-f602861f8b39",
   "metadata": {
    "tags": []
   },
   "outputs": [
    {
     "data": {
      "text/plain": [
       "100     /home/s1785140/rlspeller/caches/mfcc/fancier__...\n",
       "101     /home/s1785140/rlspeller/caches/mfcc/fancier__...\n",
       "102     /home/s1785140/rlspeller/caches/mfcc/fancier__...\n",
       "103     /home/s1785140/rlspeller/caches/mfcc/fancier__...\n",
       "104     /home/s1785140/rlspeller/caches/mfcc/fancier__...\n",
       "                              ...                        \n",
       "196     /home/s1785140/rlspeller/caches/mfcc/fancier__...\n",
       "197     /home/s1785140/rlspeller/caches/mfcc/fancier__...\n",
       "198     /home/s1785140/rlspeller/caches/mfcc/fancier__...\n",
       "199     /home/s1785140/rlspeller/caches/mfcc/fancier__...\n",
       "9901    /home/s1785140/rlspeller/caches/mfcc/fancier__...\n",
       "Name: mfcc-GT, Length: 101, dtype: object"
      ]
     },
     "execution_count": 65,
     "metadata": {},
     "output_type": "execute_result"
    }
   ],
   "source": [
    "df[df['token_id'] == 'fancier__LJ009-0291__occ1__len10080']['mfcc-GT']"
   ]
  },
  {
   "cell_type": "code",
   "execution_count": 66,
   "id": "a6ef53c3-2bce-484b-9997-7dffdc2df023",
   "metadata": {
    "tags": []
   },
   "outputs": [
    {
     "data": {
      "text/plain": [
       "False"
      ]
     },
     "execution_count": 66,
     "metadata": {},
     "output_type": "execute_result"
    }
   ],
   "source": [
    "df[df['token_id'] == 'fancier__LJ009-0291__occ1__len10080']['mfcc-GT'].apply(lambda x: x is None).any()"
   ]
  },
  {
   "cell_type": "code",
   "execution_count": 67,
   "id": "7689f970-ae65-4a33-a1b5-3f88d83b8fb7",
   "metadata": {
    "tags": []
   },
   "outputs": [
    {
     "data": {
      "text/html": [
       "<div>\n",
       "<style scoped>\n",
       "    .dataframe tbody tr th:only-of-type {\n",
       "        vertical-align: middle;\n",
       "    }\n",
       "\n",
       "    .dataframe tbody tr th {\n",
       "        vertical-align: top;\n",
       "    }\n",
       "\n",
       "    .dataframe thead th {\n",
       "        text-align: right;\n",
       "    }\n",
       "</style>\n",
       "<table border=\"1\" class=\"dataframe\">\n",
       "  <thead>\n",
       "    <tr style=\"text-align: right;\">\n",
       "      <th></th>\n",
       "      <th>token_id</th>\n",
       "      <th>wordtype</th>\n",
       "      <th>respelling</th>\n",
       "      <th>cer</th>\n",
       "      <th>orig_wav</th>\n",
       "      <th>mfcc</th>\n",
       "      <th>mfcc-GT</th>\n",
       "      <th>hubert-raw</th>\n",
       "      <th>hubert-raw-GT</th>\n",
       "      <th>hubert-soft</th>\n",
       "      <th>hubert-soft-GT</th>\n",
       "      <th>hubert-discrete-code</th>\n",
       "      <th>hubert-discrete-code-GT</th>\n",
       "      <th>hubert-discrete-centroid</th>\n",
       "      <th>hubert-discrete-centroid-GT</th>\n",
       "    </tr>\n",
       "  </thead>\n",
       "  <tbody>\n",
       "    <tr>\n",
       "      <th>0</th>\n",
       "      <td>marquis__LJ003-0177__occ1__len9280</td>\n",
       "      <td>marquis</td>\n",
       "      <td>wmarke</td>\n",
       "      <td>71.428571</td>\n",
       "      <td>/home/s1785140/speechbrain/templates/speech_re...</td>\n",
       "      <td>/home/s1785140/rlspeller/caches/mfcc/wmarke.npy</td>\n",
       "      <td>/home/s1785140/rlspeller/caches/mfcc/marquis__...</td>\n",
       "      <td>/home/s1785140/rlspeller/caches/hubert/raw/wma...</td>\n",
       "      <td>/home/s1785140/rlspeller/caches/hubert/raw/mar...</td>\n",
       "      <td>/home/s1785140/rlspeller/caches/hubert/soft/wm...</td>\n",
       "      <td>/home/s1785140/rlspeller/caches/hubert/soft/ma...</td>\n",
       "      <td>/home/s1785140/rlspeller/caches/hubert/discret...</td>\n",
       "      <td>/home/s1785140/rlspeller/caches/hubert/discret...</td>\n",
       "      <td>/home/s1785140/rlspeller/caches/hubert/discret...</td>\n",
       "      <td>/home/s1785140/rlspeller/caches/hubert/discret...</td>\n",
       "    </tr>\n",
       "    <tr>\n",
       "      <th>1</th>\n",
       "      <td>marquis__LJ003-0177__occ1__len9280</td>\n",
       "      <td>marquis</td>\n",
       "      <td>markhhe</td>\n",
       "      <td>57.142857</td>\n",
       "      <td>/home/s1785140/speechbrain/templates/speech_re...</td>\n",
       "      <td>/home/s1785140/rlspeller/caches/mfcc/markhhe.npy</td>\n",
       "      <td>/home/s1785140/rlspeller/caches/mfcc/marquis__...</td>\n",
       "      <td>/home/s1785140/rlspeller/caches/hubert/raw/mar...</td>\n",
       "      <td>/home/s1785140/rlspeller/caches/hubert/raw/mar...</td>\n",
       "      <td>/home/s1785140/rlspeller/caches/hubert/soft/ma...</td>\n",
       "      <td>/home/s1785140/rlspeller/caches/hubert/soft/ma...</td>\n",
       "      <td>/home/s1785140/rlspeller/caches/hubert/discret...</td>\n",
       "      <td>/home/s1785140/rlspeller/caches/hubert/discret...</td>\n",
       "      <td>/home/s1785140/rlspeller/caches/hubert/discret...</td>\n",
       "      <td>/home/s1785140/rlspeller/caches/hubert/discret...</td>\n",
       "    </tr>\n",
       "    <tr>\n",
       "      <th>2</th>\n",
       "      <td>marquis__LJ003-0177__occ1__len9280</td>\n",
       "      <td>marquis</td>\n",
       "      <td>amarkey</td>\n",
       "      <td>71.428571</td>\n",
       "      <td>/home/s1785140/speechbrain/templates/speech_re...</td>\n",
       "      <td>/home/s1785140/rlspeller/caches/mfcc/amarkey.npy</td>\n",
       "      <td>/home/s1785140/rlspeller/caches/mfcc/marquis__...</td>\n",
       "      <td>/home/s1785140/rlspeller/caches/hubert/raw/ama...</td>\n",
       "      <td>/home/s1785140/rlspeller/caches/hubert/raw/mar...</td>\n",
       "      <td>/home/s1785140/rlspeller/caches/hubert/soft/am...</td>\n",
       "      <td>/home/s1785140/rlspeller/caches/hubert/soft/ma...</td>\n",
       "      <td>/home/s1785140/rlspeller/caches/hubert/discret...</td>\n",
       "      <td>/home/s1785140/rlspeller/caches/hubert/discret...</td>\n",
       "      <td>/home/s1785140/rlspeller/caches/hubert/discret...</td>\n",
       "      <td>/home/s1785140/rlspeller/caches/hubert/discret...</td>\n",
       "    </tr>\n",
       "    <tr>\n",
       "      <th>3</th>\n",
       "      <td>marquis__LJ003-0177__occ1__len9280</td>\n",
       "      <td>marquis</td>\n",
       "      <td>markeyy</td>\n",
       "      <td>57.142857</td>\n",
       "      <td>/home/s1785140/speechbrain/templates/speech_re...</td>\n",
       "      <td>/home/s1785140/rlspeller/caches/mfcc/markeyy.npy</td>\n",
       "      <td>/home/s1785140/rlspeller/caches/mfcc/marquis__...</td>\n",
       "      <td>/home/s1785140/rlspeller/caches/hubert/raw/mar...</td>\n",
       "      <td>/home/s1785140/rlspeller/caches/hubert/raw/mar...</td>\n",
       "      <td>/home/s1785140/rlspeller/caches/hubert/soft/ma...</td>\n",
       "      <td>/home/s1785140/rlspeller/caches/hubert/soft/ma...</td>\n",
       "      <td>/home/s1785140/rlspeller/caches/hubert/discret...</td>\n",
       "      <td>/home/s1785140/rlspeller/caches/hubert/discret...</td>\n",
       "      <td>/home/s1785140/rlspeller/caches/hubert/discret...</td>\n",
       "      <td>/home/s1785140/rlspeller/caches/hubert/discret...</td>\n",
       "    </tr>\n",
       "    <tr>\n",
       "      <th>4</th>\n",
       "      <td>marquis__LJ003-0177__occ1__len9280</td>\n",
       "      <td>marquis</td>\n",
       "      <td>markee</td>\n",
       "      <td>57.142857</td>\n",
       "      <td>/home/s1785140/speechbrain/templates/speech_re...</td>\n",
       "      <td>/home/s1785140/rlspeller/caches/mfcc/markee.npy</td>\n",
       "      <td>/home/s1785140/rlspeller/caches/mfcc/marquis__...</td>\n",
       "      <td>/home/s1785140/rlspeller/caches/hubert/raw/mar...</td>\n",
       "      <td>/home/s1785140/rlspeller/caches/hubert/raw/mar...</td>\n",
       "      <td>/home/s1785140/rlspeller/caches/hubert/soft/ma...</td>\n",
       "      <td>/home/s1785140/rlspeller/caches/hubert/soft/ma...</td>\n",
       "      <td>/home/s1785140/rlspeller/caches/hubert/discret...</td>\n",
       "      <td>/home/s1785140/rlspeller/caches/hubert/discret...</td>\n",
       "      <td>/home/s1785140/rlspeller/caches/hubert/discret...</td>\n",
       "      <td>/home/s1785140/rlspeller/caches/hubert/discret...</td>\n",
       "    </tr>\n",
       "    <tr>\n",
       "      <th>...</th>\n",
       "      <td>...</td>\n",
       "      <td>...</td>\n",
       "      <td>...</td>\n",
       "      <td>...</td>\n",
       "      <td>...</td>\n",
       "      <td>...</td>\n",
       "      <td>...</td>\n",
       "      <td>...</td>\n",
       "      <td>...</td>\n",
       "      <td>...</td>\n",
       "      <td>...</td>\n",
       "      <td>...</td>\n",
       "      <td>...</td>\n",
       "      <td>...</td>\n",
       "      <td>...</td>\n",
       "    </tr>\n",
       "    <tr>\n",
       "      <th>9973</th>\n",
       "      <td>columns__LJ005-0109__occ1__len9600</td>\n",
       "      <td>columns</td>\n",
       "      <td>columns</td>\n",
       "      <td>0.000000</td>\n",
       "      <td>/home/s1785140/speechbrain/templates/speech_re...</td>\n",
       "      <td>/home/s1785140/rlspeller/caches/mfcc/columns.npy</td>\n",
       "      <td>/home/s1785140/rlspeller/caches/mfcc/columns__...</td>\n",
       "      <td>/home/s1785140/rlspeller/caches/hubert/raw/col...</td>\n",
       "      <td>/home/s1785140/rlspeller/caches/hubert/raw/col...</td>\n",
       "      <td>/home/s1785140/rlspeller/caches/hubert/soft/co...</td>\n",
       "      <td>/home/s1785140/rlspeller/caches/hubert/soft/co...</td>\n",
       "      <td>/home/s1785140/rlspeller/caches/hubert/discret...</td>\n",
       "      <td>/home/s1785140/rlspeller/caches/hubert/discret...</td>\n",
       "      <td>/home/s1785140/rlspeller/caches/hubert/discret...</td>\n",
       "      <td>/home/s1785140/rlspeller/caches/hubert/discret...</td>\n",
       "    </tr>\n",
       "    <tr>\n",
       "      <th>9974</th>\n",
       "      <td>boulogne__LJ015-0213__occ1__len8000</td>\n",
       "      <td>boulogne</td>\n",
       "      <td>boulogne</td>\n",
       "      <td>0.000000</td>\n",
       "      <td>/home/s1785140/speechbrain/templates/speech_re...</td>\n",
       "      <td>/home/s1785140/rlspeller/caches/mfcc/boulogne.npy</td>\n",
       "      <td>/home/s1785140/rlspeller/caches/mfcc/boulogne_...</td>\n",
       "      <td>/home/s1785140/rlspeller/caches/hubert/raw/bou...</td>\n",
       "      <td>/home/s1785140/rlspeller/caches/hubert/raw/bou...</td>\n",
       "      <td>/home/s1785140/rlspeller/caches/hubert/soft/bo...</td>\n",
       "      <td>/home/s1785140/rlspeller/caches/hubert/soft/bo...</td>\n",
       "      <td>/home/s1785140/rlspeller/caches/hubert/discret...</td>\n",
       "      <td>/home/s1785140/rlspeller/caches/hubert/discret...</td>\n",
       "      <td>/home/s1785140/rlspeller/caches/hubert/discret...</td>\n",
       "      <td>/home/s1785140/rlspeller/caches/hubert/discret...</td>\n",
       "    </tr>\n",
       "    <tr>\n",
       "      <th>9975</th>\n",
       "      <td>shredded__LJ031-0047__occ1__len8960</td>\n",
       "      <td>shredded</td>\n",
       "      <td>shredded</td>\n",
       "      <td>0.000000</td>\n",
       "      <td>/home/s1785140/speechbrain/templates/speech_re...</td>\n",
       "      <td>/home/s1785140/rlspeller/caches/mfcc/shredded.npy</td>\n",
       "      <td>/home/s1785140/rlspeller/caches/mfcc/shredded_...</td>\n",
       "      <td>/home/s1785140/rlspeller/caches/hubert/raw/shr...</td>\n",
       "      <td>/home/s1785140/rlspeller/caches/hubert/raw/shr...</td>\n",
       "      <td>/home/s1785140/rlspeller/caches/hubert/soft/sh...</td>\n",
       "      <td>/home/s1785140/rlspeller/caches/hubert/soft/sh...</td>\n",
       "      <td>/home/s1785140/rlspeller/caches/hubert/discret...</td>\n",
       "      <td>/home/s1785140/rlspeller/caches/hubert/discret...</td>\n",
       "      <td>/home/s1785140/rlspeller/caches/hubert/discret...</td>\n",
       "      <td>/home/s1785140/rlspeller/caches/hubert/discret...</td>\n",
       "    </tr>\n",
       "    <tr>\n",
       "      <th>9976</th>\n",
       "      <td>courtesy__LJ029-0179__occ1__len10080</td>\n",
       "      <td>courtesy</td>\n",
       "      <td>courtesy</td>\n",
       "      <td>0.000000</td>\n",
       "      <td>/home/s1785140/speechbrain/templates/speech_re...</td>\n",
       "      <td>/home/s1785140/rlspeller/caches/mfcc/courtesy.npy</td>\n",
       "      <td>/home/s1785140/rlspeller/caches/mfcc/courtesy_...</td>\n",
       "      <td>/home/s1785140/rlspeller/caches/hubert/raw/cou...</td>\n",
       "      <td>/home/s1785140/rlspeller/caches/hubert/raw/cou...</td>\n",
       "      <td>/home/s1785140/rlspeller/caches/hubert/soft/co...</td>\n",
       "      <td>/home/s1785140/rlspeller/caches/hubert/soft/co...</td>\n",
       "      <td>/home/s1785140/rlspeller/caches/hubert/discret...</td>\n",
       "      <td>/home/s1785140/rlspeller/caches/hubert/discret...</td>\n",
       "      <td>/home/s1785140/rlspeller/caches/hubert/discret...</td>\n",
       "      <td>/home/s1785140/rlspeller/caches/hubert/discret...</td>\n",
       "    </tr>\n",
       "    <tr>\n",
       "      <th>9977</th>\n",
       "      <td>ferrari__LJ012-0214__occ1__len11200</td>\n",
       "      <td>ferrari</td>\n",
       "      <td>ferrari</td>\n",
       "      <td>0.000000</td>\n",
       "      <td>/home/s1785140/speechbrain/templates/speech_re...</td>\n",
       "      <td>/home/s1785140/rlspeller/caches/mfcc/ferrari.npy</td>\n",
       "      <td>/home/s1785140/rlspeller/caches/mfcc/ferrari__...</td>\n",
       "      <td>/home/s1785140/rlspeller/caches/hubert/raw/fer...</td>\n",
       "      <td>/home/s1785140/rlspeller/caches/hubert/raw/fer...</td>\n",
       "      <td>/home/s1785140/rlspeller/caches/hubert/soft/fe...</td>\n",
       "      <td>/home/s1785140/rlspeller/caches/hubert/soft/fe...</td>\n",
       "      <td>/home/s1785140/rlspeller/caches/hubert/discret...</td>\n",
       "      <td>/home/s1785140/rlspeller/caches/hubert/discret...</td>\n",
       "      <td>/home/s1785140/rlspeller/caches/hubert/discret...</td>\n",
       "      <td>/home/s1785140/rlspeller/caches/hubert/discret...</td>\n",
       "    </tr>\n",
       "  </tbody>\n",
       "</table>\n",
       "<p>9978 rows × 15 columns</p>\n",
       "</div>"
      ],
      "text/plain": [
       "                                  token_id  wordtype respelling        cer  \\\n",
       "0       marquis__LJ003-0177__occ1__len9280   marquis     wmarke  71.428571   \n",
       "1       marquis__LJ003-0177__occ1__len9280   marquis    markhhe  57.142857   \n",
       "2       marquis__LJ003-0177__occ1__len9280   marquis    amarkey  71.428571   \n",
       "3       marquis__LJ003-0177__occ1__len9280   marquis    markeyy  57.142857   \n",
       "4       marquis__LJ003-0177__occ1__len9280   marquis     markee  57.142857   \n",
       "...                                    ...       ...        ...        ...   \n",
       "9973    columns__LJ005-0109__occ1__len9600   columns    columns   0.000000   \n",
       "9974   boulogne__LJ015-0213__occ1__len8000  boulogne   boulogne   0.000000   \n",
       "9975   shredded__LJ031-0047__occ1__len8960  shredded   shredded   0.000000   \n",
       "9976  courtesy__LJ029-0179__occ1__len10080  courtesy   courtesy   0.000000   \n",
       "9977   ferrari__LJ012-0214__occ1__len11200   ferrari    ferrari   0.000000   \n",
       "\n",
       "                                               orig_wav  \\\n",
       "0     /home/s1785140/speechbrain/templates/speech_re...   \n",
       "1     /home/s1785140/speechbrain/templates/speech_re...   \n",
       "2     /home/s1785140/speechbrain/templates/speech_re...   \n",
       "3     /home/s1785140/speechbrain/templates/speech_re...   \n",
       "4     /home/s1785140/speechbrain/templates/speech_re...   \n",
       "...                                                 ...   \n",
       "9973  /home/s1785140/speechbrain/templates/speech_re...   \n",
       "9974  /home/s1785140/speechbrain/templates/speech_re...   \n",
       "9975  /home/s1785140/speechbrain/templates/speech_re...   \n",
       "9976  /home/s1785140/speechbrain/templates/speech_re...   \n",
       "9977  /home/s1785140/speechbrain/templates/speech_re...   \n",
       "\n",
       "                                                   mfcc  \\\n",
       "0       /home/s1785140/rlspeller/caches/mfcc/wmarke.npy   \n",
       "1      /home/s1785140/rlspeller/caches/mfcc/markhhe.npy   \n",
       "2      /home/s1785140/rlspeller/caches/mfcc/amarkey.npy   \n",
       "3      /home/s1785140/rlspeller/caches/mfcc/markeyy.npy   \n",
       "4       /home/s1785140/rlspeller/caches/mfcc/markee.npy   \n",
       "...                                                 ...   \n",
       "9973   /home/s1785140/rlspeller/caches/mfcc/columns.npy   \n",
       "9974  /home/s1785140/rlspeller/caches/mfcc/boulogne.npy   \n",
       "9975  /home/s1785140/rlspeller/caches/mfcc/shredded.npy   \n",
       "9976  /home/s1785140/rlspeller/caches/mfcc/courtesy.npy   \n",
       "9977   /home/s1785140/rlspeller/caches/mfcc/ferrari.npy   \n",
       "\n",
       "                                                mfcc-GT  \\\n",
       "0     /home/s1785140/rlspeller/caches/mfcc/marquis__...   \n",
       "1     /home/s1785140/rlspeller/caches/mfcc/marquis__...   \n",
       "2     /home/s1785140/rlspeller/caches/mfcc/marquis__...   \n",
       "3     /home/s1785140/rlspeller/caches/mfcc/marquis__...   \n",
       "4     /home/s1785140/rlspeller/caches/mfcc/marquis__...   \n",
       "...                                                 ...   \n",
       "9973  /home/s1785140/rlspeller/caches/mfcc/columns__...   \n",
       "9974  /home/s1785140/rlspeller/caches/mfcc/boulogne_...   \n",
       "9975  /home/s1785140/rlspeller/caches/mfcc/shredded_...   \n",
       "9976  /home/s1785140/rlspeller/caches/mfcc/courtesy_...   \n",
       "9977  /home/s1785140/rlspeller/caches/mfcc/ferrari__...   \n",
       "\n",
       "                                             hubert-raw  \\\n",
       "0     /home/s1785140/rlspeller/caches/hubert/raw/wma...   \n",
       "1     /home/s1785140/rlspeller/caches/hubert/raw/mar...   \n",
       "2     /home/s1785140/rlspeller/caches/hubert/raw/ama...   \n",
       "3     /home/s1785140/rlspeller/caches/hubert/raw/mar...   \n",
       "4     /home/s1785140/rlspeller/caches/hubert/raw/mar...   \n",
       "...                                                 ...   \n",
       "9973  /home/s1785140/rlspeller/caches/hubert/raw/col...   \n",
       "9974  /home/s1785140/rlspeller/caches/hubert/raw/bou...   \n",
       "9975  /home/s1785140/rlspeller/caches/hubert/raw/shr...   \n",
       "9976  /home/s1785140/rlspeller/caches/hubert/raw/cou...   \n",
       "9977  /home/s1785140/rlspeller/caches/hubert/raw/fer...   \n",
       "\n",
       "                                          hubert-raw-GT  \\\n",
       "0     /home/s1785140/rlspeller/caches/hubert/raw/mar...   \n",
       "1     /home/s1785140/rlspeller/caches/hubert/raw/mar...   \n",
       "2     /home/s1785140/rlspeller/caches/hubert/raw/mar...   \n",
       "3     /home/s1785140/rlspeller/caches/hubert/raw/mar...   \n",
       "4     /home/s1785140/rlspeller/caches/hubert/raw/mar...   \n",
       "...                                                 ...   \n",
       "9973  /home/s1785140/rlspeller/caches/hubert/raw/col...   \n",
       "9974  /home/s1785140/rlspeller/caches/hubert/raw/bou...   \n",
       "9975  /home/s1785140/rlspeller/caches/hubert/raw/shr...   \n",
       "9976  /home/s1785140/rlspeller/caches/hubert/raw/cou...   \n",
       "9977  /home/s1785140/rlspeller/caches/hubert/raw/fer...   \n",
       "\n",
       "                                            hubert-soft  \\\n",
       "0     /home/s1785140/rlspeller/caches/hubert/soft/wm...   \n",
       "1     /home/s1785140/rlspeller/caches/hubert/soft/ma...   \n",
       "2     /home/s1785140/rlspeller/caches/hubert/soft/am...   \n",
       "3     /home/s1785140/rlspeller/caches/hubert/soft/ma...   \n",
       "4     /home/s1785140/rlspeller/caches/hubert/soft/ma...   \n",
       "...                                                 ...   \n",
       "9973  /home/s1785140/rlspeller/caches/hubert/soft/co...   \n",
       "9974  /home/s1785140/rlspeller/caches/hubert/soft/bo...   \n",
       "9975  /home/s1785140/rlspeller/caches/hubert/soft/sh...   \n",
       "9976  /home/s1785140/rlspeller/caches/hubert/soft/co...   \n",
       "9977  /home/s1785140/rlspeller/caches/hubert/soft/fe...   \n",
       "\n",
       "                                         hubert-soft-GT  \\\n",
       "0     /home/s1785140/rlspeller/caches/hubert/soft/ma...   \n",
       "1     /home/s1785140/rlspeller/caches/hubert/soft/ma...   \n",
       "2     /home/s1785140/rlspeller/caches/hubert/soft/ma...   \n",
       "3     /home/s1785140/rlspeller/caches/hubert/soft/ma...   \n",
       "4     /home/s1785140/rlspeller/caches/hubert/soft/ma...   \n",
       "...                                                 ...   \n",
       "9973  /home/s1785140/rlspeller/caches/hubert/soft/co...   \n",
       "9974  /home/s1785140/rlspeller/caches/hubert/soft/bo...   \n",
       "9975  /home/s1785140/rlspeller/caches/hubert/soft/sh...   \n",
       "9976  /home/s1785140/rlspeller/caches/hubert/soft/co...   \n",
       "9977  /home/s1785140/rlspeller/caches/hubert/soft/fe...   \n",
       "\n",
       "                                   hubert-discrete-code  \\\n",
       "0     /home/s1785140/rlspeller/caches/hubert/discret...   \n",
       "1     /home/s1785140/rlspeller/caches/hubert/discret...   \n",
       "2     /home/s1785140/rlspeller/caches/hubert/discret...   \n",
       "3     /home/s1785140/rlspeller/caches/hubert/discret...   \n",
       "4     /home/s1785140/rlspeller/caches/hubert/discret...   \n",
       "...                                                 ...   \n",
       "9973  /home/s1785140/rlspeller/caches/hubert/discret...   \n",
       "9974  /home/s1785140/rlspeller/caches/hubert/discret...   \n",
       "9975  /home/s1785140/rlspeller/caches/hubert/discret...   \n",
       "9976  /home/s1785140/rlspeller/caches/hubert/discret...   \n",
       "9977  /home/s1785140/rlspeller/caches/hubert/discret...   \n",
       "\n",
       "                                hubert-discrete-code-GT  \\\n",
       "0     /home/s1785140/rlspeller/caches/hubert/discret...   \n",
       "1     /home/s1785140/rlspeller/caches/hubert/discret...   \n",
       "2     /home/s1785140/rlspeller/caches/hubert/discret...   \n",
       "3     /home/s1785140/rlspeller/caches/hubert/discret...   \n",
       "4     /home/s1785140/rlspeller/caches/hubert/discret...   \n",
       "...                                                 ...   \n",
       "9973  /home/s1785140/rlspeller/caches/hubert/discret...   \n",
       "9974  /home/s1785140/rlspeller/caches/hubert/discret...   \n",
       "9975  /home/s1785140/rlspeller/caches/hubert/discret...   \n",
       "9976  /home/s1785140/rlspeller/caches/hubert/discret...   \n",
       "9977  /home/s1785140/rlspeller/caches/hubert/discret...   \n",
       "\n",
       "                               hubert-discrete-centroid  \\\n",
       "0     /home/s1785140/rlspeller/caches/hubert/discret...   \n",
       "1     /home/s1785140/rlspeller/caches/hubert/discret...   \n",
       "2     /home/s1785140/rlspeller/caches/hubert/discret...   \n",
       "3     /home/s1785140/rlspeller/caches/hubert/discret...   \n",
       "4     /home/s1785140/rlspeller/caches/hubert/discret...   \n",
       "...                                                 ...   \n",
       "9973  /home/s1785140/rlspeller/caches/hubert/discret...   \n",
       "9974  /home/s1785140/rlspeller/caches/hubert/discret...   \n",
       "9975  /home/s1785140/rlspeller/caches/hubert/discret...   \n",
       "9976  /home/s1785140/rlspeller/caches/hubert/discret...   \n",
       "9977  /home/s1785140/rlspeller/caches/hubert/discret...   \n",
       "\n",
       "                            hubert-discrete-centroid-GT  \n",
       "0     /home/s1785140/rlspeller/caches/hubert/discret...  \n",
       "1     /home/s1785140/rlspeller/caches/hubert/discret...  \n",
       "2     /home/s1785140/rlspeller/caches/hubert/discret...  \n",
       "3     /home/s1785140/rlspeller/caches/hubert/discret...  \n",
       "4     /home/s1785140/rlspeller/caches/hubert/discret...  \n",
       "...                                                 ...  \n",
       "9973  /home/s1785140/rlspeller/caches/hubert/discret...  \n",
       "9974  /home/s1785140/rlspeller/caches/hubert/discret...  \n",
       "9975  /home/s1785140/rlspeller/caches/hubert/discret...  \n",
       "9976  /home/s1785140/rlspeller/caches/hubert/discret...  \n",
       "9977  /home/s1785140/rlspeller/caches/hubert/discret...  \n",
       "\n",
       "[9978 rows x 15 columns]"
      ]
     },
     "execution_count": 67,
     "metadata": {},
     "output_type": "execute_result"
    }
   ],
   "source": [
    "df"
   ]
  },
  {
   "cell_type": "markdown",
   "id": "0768f426-16a5-47ea-9469-d94d385236e9",
   "metadata": {},
   "source": [
    "# Verify that predicted mel-spectrograms are normalised in same way as GT mel-spectrograms"
   ]
  },
  {
   "cell_type": "code",
   "execution_count": 68,
   "id": "708ff4a6-2b89-4541-a7e0-9761f46fd525",
   "metadata": {
    "tags": []
   },
   "outputs": [],
   "source": [
    "def plot_melspec(mel, title=\"\"):\n",
    "    if type(mel) == torch.Tensor:\n",
    "        mel = mel.cpu().numpy()\n",
    "    fig, ax = plt.subplots(figsize=(10, 2))\n",
    "    if title:\n",
    "        plt.title(title)\n",
    "    plt.imshow(mel, aspect='auto', origin='lower', interpolation='none')\n",
    "    plt.colorbar()\n",
    "    \n",
    "def pad_along_axis(array: np.ndarray, target_length: int, axis: int = 0, constant_values=0) -> np.ndarray:\n",
    "    # Pad the data with NaN values at both ends\n",
    "    pad_size = target_length - array.shape[axis]\n",
    "    assert pad_size % 2 == 0\n",
    "\n",
    "    if pad_size <= 0:\n",
    "        return array\n",
    "\n",
    "    npad = [(0, 0)] * array.ndim\n",
    "    npad[axis] = (int(pad_size/2), int(pad_size/2))\n",
    "\n",
    "    return np.pad(array, pad_width=npad, mode='constant', constant_values=constant_values)\n",
    "\n",
    "def wma_smooth(mel, weights, dim_to_smooth=0, maintain_time_dim=False, extra_padding=0):\n",
    "    # mel should be shape [t, dim]\n",
    "    if dim_to_smooth == 0:\n",
    "        data = mel.transpose(0,1)\n",
    "    elif dim_to_smooth == 1:\n",
    "        data = mel\n",
    "    else:\n",
    "        raise ValueError\n",
    "\n",
    "    weights = weights / np.sum(weights)\n",
    "    window = weights.shape[0]\n",
    "    dim = data.shape[1]\n",
    "        \n",
    "    # stack along feat dimension\n",
    "    stacked_weights = [weights for _ in range(dim)]\n",
    "    stacked_weights = np.stack(stacked_weights, axis=-1)\n",
    "    weights = stacked_weights\n",
    "\n",
    "    # pad data\n",
    "    target_len_after_padding = data.shape[0] + 2 * (window // 2) + 2 * extra_padding\n",
    "    padded_data = pad_along_axis(data, \n",
    "                                 target_length=target_len_after_padding, \n",
    "                                 axis=0, \n",
    "                                 constant_values=data.min()) # use data.min() as padding val because for log mel, 0 is actually large!!!\n",
    "\n",
    "    # Compute the weighted moving average \n",
    "    N = len(padded_data) - window + 1\n",
    "    wma = np.array([np.sum(weights * padded_data[i:i+window], axis=0) / np.sum(np.nan_to_num(weights), axis=0) for i in range(N)])\n",
    "    \n",
    "    if maintain_time_dim:\n",
    "        assert wma.shape == data.shape, f\"{wma.shape=} == {data.shape=}\"\n",
    "    else:\n",
    "        assert wma.shape[1] == data.shape[1], f\"{wma.shape[1]=} == {data.shape[1]=}\"\n",
    "    \n",
    "    return wma"
   ]
  },
  {
   "cell_type": "code",
   "execution_count": 69,
   "id": "73aad651-be15-4b67-84d5-372c229d179a",
   "metadata": {
    "tags": []
   },
   "outputs": [
    {
     "data": {
      "image/png": "[encoded data removed]",
      "text/plain": [
       "<Figure size 1000x200 with 2 Axes>"
      ]
     },
     "metadata": {},
     "output_type": "display_data"
    }
   ],
   "source": [
    "# plot GT mel spectrogram\n",
    "token_id = list(token_id2fastpitch_gt_mel.keys())[0]\n",
    "wordtype = token_id.split('__')[0]\n",
    "gt_mel = token_id2fastpitch_gt_mel[token_id]\n",
    "\n",
    "plot_melspec(gt_mel, token_id + \" - ORIGINAL!!! (no weighted moving average)\")"
   ]
  },
  {
   "cell_type": "code",
   "execution_count": 70,
   "id": "c9cd27a1-d66a-4ca0-93c8-86599d56abbd",
   "metadata": {
    "tags": []
   },
   "outputs": [
    {
     "data": {
      "image/png": "[encoded data removed]",
      "text/plain": [
       "<Figure size 1000x200 with 2 Axes>"
      ]
     },
     "metadata": {},
     "output_type": "display_data"
    }
   ],
   "source": [
    "filter = [1,2,1]\n",
    "wma = wma_smooth(gt_mel.T, weights=filter).T\n",
    "plot_melspec(wma, token_id + f\" weights={filter}\")"
   ]
  },
  {
   "cell_type": "code",
   "execution_count": 71,
   "id": "ce2eb4c4-a396-4a49-8e87-c8358156c436",
   "metadata": {
    "tags": []
   },
   "outputs": [
    {
     "data": {
      "image/png": "[encoded data removed]",
      "text/plain": [
       "<Figure size 1000x200 with 2 Axes>"
      ]
     },
     "metadata": {},
     "output_type": "display_data"
    }
   ],
   "source": [
    "temporal_filter = [1,2,1]\n",
    "feature_filter = [1,1,2,1,1]\n",
    "wma = wma_smooth(gt_mel.T, dim_to_smooth=0, weights=temporal_filter).T\n",
    "wma = wma_smooth(wma.T, dim_to_smooth=1, weights=feature_filter).T\n",
    "plot_melspec(wma, token_id + f\" weights={filter}\")"
   ]
  },
  {
   "cell_type": "code",
   "execution_count": 72,
   "id": "d4d9b976-05b3-4395-b665-3ba2908ea471",
   "metadata": {},
   "outputs": [
    {
     "name": "stdout",
     "output_type": "stream",
     "text": [
      "marquis\n"
     ]
    },
    {
     "data": {
      "image/png": "[encoded data removed]",
      "text/plain": [
       "<Figure size 1000x200 with 2 Axes>"
      ]
     },
     "metadata": {},
     "output_type": "display_data"
    }
   ],
   "source": [
    "# plot predicted mel spectrogram\n",
    "mel = spelling2tts_mel[wordtype]\n",
    "\n",
    "print(wordtype)\n",
    "plot_melspec(mel, wordtype)"
   ]
  },
  {
   "cell_type": "markdown",
   "id": "de0354f2-2420-4f02-8b25-8bcd77e4b731",
   "metadata": {},
   "source": [
    "# convert mel spec to Mel-Cepstrum then plot"
   ]
  },
  {
   "cell_type": "code",
   "execution_count": 73,
   "id": "d310587d-3272-45bd-9a7a-3fb1c3a9f3ce",
   "metadata": {
    "tags": []
   },
   "outputs": [],
   "source": [
    "def plot_mfcc(mfcc, extra_title=\"\"):\n",
    "    # assume mfcc is a numpy array of shape (n_mfcc, n_frames)\n",
    "    plt.figure(figsize=(10, 4))\n",
    "    plt.imshow(mfcc, aspect='auto', origin='lower', cmap='coolwarm')\n",
    "    plt.xlabel('Time')\n",
    "    plt.ylabel('MFCC')\n",
    "    title = 'MFCC'\n",
    "    if extra_title:\n",
    "        title += f\": {extra_title}\"\n",
    "    plt.title(title)\n",
    "    plt.colorbar()\n",
    "    plt.tight_layout()\n",
    "    plt.show()"
   ]
  },
  {
   "cell_type": "code",
   "execution_count": 74,
   "id": "f165b8cd-2f83-496b-ba2a-12e23870dcd0",
   "metadata": {
    "tags": []
   },
   "outputs": [
    {
     "data": {
      "image/png": "[encoded data removed]",
      "text/plain": [
       "<Figure size 1000x400 with 2 Axes>"
      ]
     },
     "metadata": {},
     "output_type": "display_data"
    }
   ],
   "source": [
    "mfcc = melspec2mfcc(mel)\n",
    "plot_mfcc(mfcc, wordtype)"
   ]
  },
  {
   "cell_type": "code",
   "execution_count": 75,
   "id": "32dca6c5-0b3a-4316-b98a-981b0e8e941a",
   "metadata": {
    "tags": []
   },
   "outputs": [
    {
     "data": {
      "image/png": "[encoded data removed]",
      "text/plain": [
       "<Figure size 1000x400 with 2 Axes>"
      ]
     },
     "metadata": {},
     "output_type": "display_data"
    }
   ],
   "source": [
    "gt_mfcc = melspec2mfcc(gt_mel)\n",
    "plot_mfcc(gt_mfcc, token_id)"
   ]
  },
  {
   "cell_type": "markdown",
   "id": "4b6adef8-4070-4f84-be7e-64a05a9b693d",
   "metadata": {
    "tags": []
   },
   "source": [
    "# (optional) apply weighted moving average filters to GT mels"
   ]
  },
  {
   "cell_type": "code",
   "execution_count": 76,
   "id": "3795ab2c-6a07-426e-a3cb-7175104ce5a2",
   "metadata": {
    "tags": []
   },
   "outputs": [],
   "source": [
    "# temporal_filter = []\n",
    "# feature_filter = []\n",
    "temporal_filter = [1,2,1]\n",
    "feature_filter = [1,1,2,1,1]\n",
    "\n",
    "for token_id, fastpitch_gt_mel in token_id2fastpitch_gt_mel.items():\n",
    "    if temporal_filter:\n",
    "        fastpitch_gt_mel = wma_smooth(fastpitch_gt_mel.T, dim_to_smooth=0, weights=temporal_filter).T\n",
    "    if feature_filter:\n",
    "        fastpitch_gt_mel = wma_smooth(fastpitch_gt_mel.T, dim_to_smooth=1, weights=feature_filter).T    \n",
    "        \n",
    "    token_id2fastpitch_gt_mel[token_id] = fastpitch_gt_mel"
   ]
  },
  {
   "cell_type": "markdown",
   "id": "e6e692e0",
   "metadata": {},
   "source": [
    "# add acoustic distances between ground truth audio for word and synthesised respellings\n",
    "\n",
    "compare ranking by:\n",
    "- MCD-DTW\n",
    "- SoftDTW\n",
    "- L1, L2 distance"
   ]
  },
  {
   "cell_type": "markdown",
   "id": "cf3a8ac1-e268-4fc1-830a-f2767f05a71c",
   "metadata": {},
   "source": [
    "## Setup MCD-DTW and distance functions (e.g. euclidean, cosine, manhattan)"
   ]
  },
  {
   "cell_type": "code",
   "execution_count": 77,
   "id": "f858759b-4722-44ac-b8dd-2eb26a602e74",
   "metadata": {
    "tags": []
   },
   "outputs": [],
   "source": [
    "import mcd\n",
    "from mcd import dtw\n",
    "import sklearn\n",
    "from scipy.spatial.distance import cosine\n",
    "from numba import jit\n",
    "\n",
    "def eucCost(x, y):\n",
    "    \"\"\"AKA l2 norm\"\"\"\n",
    "    return math.sqrt(np.inner(x - y, x - y))\n",
    "\n",
    "def manCost(x, y):\n",
    "    \"\"\"AKA l1 norm\"\"\"\n",
    "    return np.sum(np.inner(x - y, x - y))\n",
    "\n",
    "def cosineSim(x, y):\n",
    "    \"\"\"x and y are two single-timestep vectors\"\"\"\n",
    "    # return torch.cosine_similarity(\n",
    "    #     x.unsqueeze(2),\n",
    "    #     self.label_embedding.weight.unsqueeze(0).unsqueeze(0),\n",
    "    #     dim=-1,\n",
    "    # )\n",
    "    \n",
    "    # TODO REPLACE THIS WITH NUMPY OPERATION TO SPEED UP???\n",
    "    # distance = sklearn.metrics.pairwise.cosine_similarity(x.reshape(1, -1), y.reshape(1, -1))[0][0]\n",
    "    distance = cosine(x, y)\n",
    "    \n",
    "    # print(\"DEBUGcosineSim\", distance, distance.shape)\n",
    "    return distance\n",
    "\n",
    "@jit(nopython=True)\n",
    "def fastCosineSim(u,v):\n",
    "    assert(u.shape[0] == v.shape[0])\n",
    "    uv = 0\n",
    "    uu = 0\n",
    "    vv = 0\n",
    "    for i in range(u.shape[0]):\n",
    "        uv += u[i]*v[i]\n",
    "        uu += u[i]*u[i]\n",
    "        vv += v[i]*v[i]\n",
    "    cos_theta = 1\n",
    "    if uu!=0 and vv!=0:\n",
    "        cos_theta = uv/np.sqrt(uu*vv)\n",
    "        \n",
    "    return 1 - cos_theta \n",
    "\n",
    "import textdistance\n",
    "norm_leven_dist = textdistance.Levenshtein()\n",
    "# norm_leven_dist = textdistance.DamerauLevenshtein()\n",
    "\n",
    "distance2costfn = {\n",
    "    \"euclidean\": eucCost,\n",
    "    \"manhattan\": manCost,\n",
    "    \"cosine\": fastCosineSim,\n",
    "}\n",
    "\n",
    "feats_col2distance_types = {\n",
    "    'mfcc': ['euclidean'],\n",
    "    'hubert-raw': ['cosine'],\n",
    "    'hubert-soft': ['cosine'],\n",
    "    'hubert-discrete-code': ['levenshtein'],\n",
    "    'hubert-discrete-centroid': ['cosine'],\n",
    "}\n"
   ]
  },
  {
   "cell_type": "markdown",
   "id": "96917d5b-35fd-47c9-98f8-7be21406f1f3",
   "metadata": {
    "tags": []
   },
   "source": [
    "## Calc DTW between synthesised speech representations and GT for all types of features and distance metrics)"
   ]
  },
  {
   "cell_type": "code",
   "execution_count": 78,
   "id": "cb7c2e88-ebdd-4435-b55d-f34514e5a3c0",
   "metadata": {},
   "outputs": [],
   "source": [
    "def calc_sl_penalty(pred_len, gt_len):\n",
    "    '''speech length mismatch penalty similar to MCD-DTW-SL\n",
    "    encourages two sequences to be of same length\n",
    "    M and N are length of each sequence\n",
    "    coef = Max(M,N) / Min(M,N)'''\n",
    "    coef = max(pred_len, gt_len) / min(pred_len, gt_len)\n",
    "    return coef"
   ]
  },
  {
   "cell_type": "code",
   "execution_count": 79,
   "id": "b1d63997-eb5d-4a40-b772-5effacb789b4",
   "metadata": {
    "tags": []
   },
   "outputs": [
    {
     "data": {
      "text/plain": [
       "Index(['token_id', 'wordtype', 'respelling', 'cer', 'orig_wav', 'mfcc',\n",
       "       'mfcc-GT', 'hubert-raw', 'hubert-raw-GT', 'hubert-soft',\n",
       "       'hubert-soft-GT', 'hubert-discrete-code', 'hubert-discrete-code-GT',\n",
       "       'hubert-discrete-centroid', 'hubert-discrete-centroid-GT'],\n",
       "      dtype='object')"
      ]
     },
     "execution_count": 79,
     "metadata": {},
     "output_type": "execute_result"
    }
   ],
   "source": [
    "df.columns"
   ]
  },
  {
   "cell_type": "code",
   "execution_count": 80,
   "id": "4df3db85-35f7-432c-ae6b-aa30d15e9739",
   "metadata": {
    "tags": []
   },
   "outputs": [
    {
     "data": {
      "text/plain": [
       "[('mfcc', None, None),\n",
       " ('hubert', 'raw', None),\n",
       " ('hubert', 'soft', None),\n",
       " ('hubert', 'discrete', 'code'),\n",
       " ('hubert', 'discrete', 'centroid')]"
      ]
     },
     "execution_count": 80,
     "metadata": {},
     "output_type": "execute_result"
    }
   ],
   "source": [
    "feats_to_use"
   ]
  },
  {
   "cell_type": "code",
   "execution_count": 81,
   "id": "88fd5ddf-9c2c-46c6-978e-b7820d730ca7",
   "metadata": {
    "tags": []
   },
   "outputs": [
    {
     "name": "stdout",
     "output_type": "stream",
     "text": [
      "Generating distances in 'mfcc::Distance(Euclidean)'\n"
     ]
    },
    {
     "name": "stderr",
     "output_type": "stream",
     "text": [
      "100%|███████████████████████████████████████████████████████████████| 9978/9978 [04:40<00:00, 35.54it/s]\n"
     ]
    },
    {
     "name": "stdout",
     "output_type": "stream",
     "text": [
      "Generating distances in 'hubert-raw::Distance(Cosine)'\n"
     ]
    },
    {
     "name": "stderr",
     "output_type": "stream",
     "text": [
      "100%|██████████████████████████████████████████████████████████████| 9978/9978 [01:27<00:00, 114.39it/s]\n"
     ]
    },
    {
     "name": "stdout",
     "output_type": "stream",
     "text": [
      "Generating distances in 'hubert-soft::Distance(Cosine)'\n"
     ]
    },
    {
     "name": "stderr",
     "output_type": "stream",
     "text": [
      "100%|██████████████████████████████████████████████████████████████| 9978/9978 [01:10<00:00, 141.75it/s]\n"
     ]
    },
    {
     "name": "stdout",
     "output_type": "stream",
     "text": [
      "Generating distances in 'hubert-discrete-code::Distance(Levenshtein)'\n"
     ]
    },
    {
     "name": "stderr",
     "output_type": "stream",
     "text": [
      "100%|██████████████████████████████████████████████████████████████| 9978/9978 [00:23<00:00, 425.19it/s]\n"
     ]
    },
    {
     "name": "stdout",
     "output_type": "stream",
     "text": [
      "Generating distances in 'hubert-discrete-centroid::Distance(Cosine)'\n"
     ]
    },
    {
     "name": "stderr",
     "output_type": "stream",
     "text": [
      "100%|██████████████████████████████████████████████████████████████| 9978/9978 [01:29<00:00, 111.92it/s]\n"
     ]
    }
   ],
   "source": [
    "# calculate MCD-DTW distance for each synthesised respelling in the dataframe\n",
    "# to the gt speech representation for the token_id that the respelling was generated from (using ASR)\n",
    "    \n",
    "for feats in feats_to_use:\n",
    "    feat_type, *_ = feats\n",
    "    feats_col, gt_feats_col = feats2feats_col(feats)\n",
    "    \n",
    "    for distance_type in feats_col2distance_types[feats_col]:\n",
    "        distance_metric_col_name = f\"{feats_col}::Distance({distance_type.title()})\"\n",
    "        print(f\"Generating distances in '{distance_metric_col_name}'\")\n",
    "\n",
    "        for row_idx in tqdm(df.index):\n",
    "            spelling = df.loc[row_idx, 'respelling']\n",
    "            token_id = df.loc[row_idx, 'token_id']\n",
    "\n",
    "            spelling_speech_rep = np.load(df.loc[row_idx, feats_col])\n",
    "            gt_speech_rep = np.load(df.loc[row_idx, gt_feats_col])\n",
    "\n",
    "            if 'code' in feats_col:\n",
    "                distance_score = norm_leven_dist(gt_speech_rep.tolist(), \n",
    "                                                 spelling_speech_rep.tolist())\n",
    "                gt_len = len(gt_speech_rep.tolist())\n",
    "                spelling_len = len(spelling_speech_rep.tolist())\n",
    "            else:\n",
    "                distance_score, _path = dtw.dtw(gt_speech_rep.T, spelling_speech_rep.T, distance2costfn[distance_type])\n",
    "                gt_len = gt_speech_rep.shape[1]\n",
    "                spelling_len = spelling_speech_rep.shape[1]\n",
    "\n",
    "            df.loc[row_idx, distance_metric_col_name] = distance_score\n",
    "            \n",
    "            # also add speech length penalty version of distance\n",
    "            sl_pen_coef = calc_sl_penalty(spelling_len, gt_len)\n",
    "            df.loc[row_idx, distance_metric_col_name + \"::w_SL_Penalty\"] = sl_pen_coef * distance_score"
   ]
  },
  {
   "cell_type": "code",
   "execution_count": 82,
   "id": "7bc96244-5595-4976-9a0b-ea69f5cf3ffc",
   "metadata": {},
   "outputs": [
    {
     "name": "stdout",
     "output_type": "stream",
     "text": [
      "date and time = 28-Mar-2023_12:52:18\n",
      "Saved to disk @ /disk/nfs/ostrom/s1785140/rlspeller/results/distances_df_28-Mar-2023_12:52:18.pkl\n"
     ]
    }
   ],
   "source": [
    "# Cache dataframe to disk\n",
    "\n",
    "save = True\n",
    "\n",
    "if save:\n",
    "    from datetime import datetime\n",
    "\n",
    "    now = datetime.now()\n",
    "    dt_string = now.strftime(\"%d-%b-%Y_%H:%M:%S\")\n",
    "    print(\"date and time =\", dt_string)\n",
    "\n",
    "    os.makedirs(os.path.join(os.getcwd(), 'results'), exist_ok=True)\n",
    "    dataframe_outdir = os.path.join(os.getcwd(), 'results')\n",
    "    dataframe_outpath = os.path.join(dataframe_outdir, f'distances_df_{dt_string}.pkl')\n",
    "    df.to_pickle(dataframe_outpath)\n",
    "    df = None\n",
    "\n",
    "    # verify can load dataframe from disk\n",
    "    def get_latest_file(in_dir, file_type):\n",
    "        files = glob.glob(os.path.join(in_dir, file_type))\n",
    "        return max(files, key=os.path.getctime)\n",
    "\n",
    "    latest_file = get_latest_file(dataframe_outdir, r'*.pkl')\n",
    "\n",
    "    df = pd.read_pickle(latest_file)\n",
    "    print(\"Saved to disk @\", latest_file)\n",
    "else:\n",
    "    print(\"WARNING DID NOT SAVE! INTENDED? BECAUSE OF DEBUGGING?\")"
   ]
  },
  {
   "cell_type": "code",
   "execution_count": null,
   "id": "e2ac4c32-6f97-4d23-88ca-234c5871054e",
   "metadata": {
    "tags": []
   },
   "outputs": [
    {
     "data": {
      "text/html": [
       "<div>\n",
       "<style scoped>\n",
       "    .dataframe tbody tr th:only-of-type {\n",
       "        vertical-align: middle;\n",
       "    }\n",
       "\n",
       "    .dataframe tbody tr th {\n",
       "        vertical-align: top;\n",
       "    }\n",
       "\n",
       "    .dataframe thead th {\n",
       "        text-align: right;\n",
       "    }\n",
       "</style>\n",
       "<table border=\"1\" class=\"dataframe\">\n",
       "  <thead>\n",
       "    <tr style=\"text-align: right;\">\n",
       "      <th></th>\n",
       "      <th>token_id</th>\n",
       "      <th>wordtype</th>\n",
       "      <th>respelling</th>\n",
       "      <th>cer</th>\n",
       "      <th>orig_wav</th>\n",
       "      <th>mfcc</th>\n",
       "      <th>mfcc-GT</th>\n",
       "      <th>hubert-raw</th>\n",
       "      <th>hubert-raw-GT</th>\n",
       "      <th>hubert-soft</th>\n",
       "      <th>...</th>\n",
       "      <th>mfcc::Distance(Euclidean)</th>\n",
       "      <th>mfcc::Distance(Euclidean)::w_SL_Penalty</th>\n",
       "      <th>hubert-raw::Distance(Cosine)</th>\n",
       "      <th>hubert-raw::Distance(Cosine)::w_SL_Penalty</th>\n",
       "      <th>hubert-soft::Distance(Cosine)</th>\n",
       "      <th>hubert-soft::Distance(Cosine)::w_SL_Penalty</th>\n",
       "      <th>hubert-discrete-code::Distance(Levenshtein)</th>\n",
       "      <th>hubert-discrete-code::Distance(Levenshtein)::w_SL_Penalty</th>\n",
       "      <th>hubert-discrete-centroid::Distance(Cosine)</th>\n",
       "      <th>hubert-discrete-centroid::Distance(Cosine)::w_SL_Penalty</th>\n",
       "    </tr>\n",
       "  </thead>\n",
       "  <tbody>\n",
       "    <tr>\n",
       "      <th>0</th>\n",
       "      <td>marquis__LJ003-0177__occ1__len9280</td>\n",
       "      <td>marquis</td>\n",
       "      <td>wmarke</td>\n",
       "      <td>71.428571</td>\n",
       "      <td>/home/s1785140/speechbrain/templates/speech_re...</td>\n",
       "      <td>/home/s1785140/rlspeller/caches/mfcc/wmarke.npy</td>\n",
       "      <td>/home/s1785140/rlspeller/caches/mfcc/marquis__...</td>\n",
       "      <td>/home/s1785140/rlspeller/caches/hubert/raw/wma...</td>\n",
       "      <td>/home/s1785140/rlspeller/caches/hubert/raw/mar...</td>\n",
       "      <td>/home/s1785140/rlspeller/caches/hubert/soft/wm...</td>\n",
       "      <td>...</td>\n",
       "      <td>855.298708</td>\n",
       "      <td>1043.047205</td>\n",
       "      <td>20.241584</td>\n",
       "      <td>25.762016</td>\n",
       "      <td>21.112437</td>\n",
       "      <td>26.620030</td>\n",
       "      <td>26.0</td>\n",
       "      <td>32.782609</td>\n",
       "      <td>15.377948</td>\n",
       "      <td>19.389586</td>\n",
       "    </tr>\n",
       "    <tr>\n",
       "      <th>1</th>\n",
       "      <td>marquis__LJ003-0177__occ1__len9280</td>\n",
       "      <td>marquis</td>\n",
       "      <td>markhhe</td>\n",
       "      <td>57.142857</td>\n",
       "      <td>/home/s1785140/speechbrain/templates/speech_re...</td>\n",
       "      <td>/home/s1785140/rlspeller/caches/mfcc/markhhe.npy</td>\n",
       "      <td>/home/s1785140/rlspeller/caches/mfcc/marquis__...</td>\n",
       "      <td>/home/s1785140/rlspeller/caches/hubert/raw/mar...</td>\n",
       "      <td>/home/s1785140/rlspeller/caches/hubert/raw/mar...</td>\n",
       "      <td>/home/s1785140/rlspeller/caches/hubert/soft/ma...</td>\n",
       "      <td>...</td>\n",
       "      <td>966.510855</td>\n",
       "      <td>1342.376188</td>\n",
       "      <td>17.233714</td>\n",
       "      <td>24.127199</td>\n",
       "      <td>16.847023</td>\n",
       "      <td>24.428183</td>\n",
       "      <td>22.0</td>\n",
       "      <td>31.900000</td>\n",
       "      <td>15.540345</td>\n",
       "      <td>22.533500</td>\n",
       "    </tr>\n",
       "    <tr>\n",
       "      <th>2</th>\n",
       "      <td>marquis__LJ003-0177__occ1__len9280</td>\n",
       "      <td>marquis</td>\n",
       "      <td>amarkey</td>\n",
       "      <td>71.428571</td>\n",
       "      <td>/home/s1785140/speechbrain/templates/speech_re...</td>\n",
       "      <td>/home/s1785140/rlspeller/caches/mfcc/amarkey.npy</td>\n",
       "      <td>/home/s1785140/rlspeller/caches/mfcc/marquis__...</td>\n",
       "      <td>/home/s1785140/rlspeller/caches/hubert/raw/ama...</td>\n",
       "      <td>/home/s1785140/rlspeller/caches/hubert/raw/mar...</td>\n",
       "      <td>/home/s1785140/rlspeller/caches/hubert/soft/am...</td>\n",
       "      <td>...</td>\n",
       "      <td>817.720782</td>\n",
       "      <td>850.429613</td>\n",
       "      <td>16.906545</td>\n",
       "      <td>17.510350</td>\n",
       "      <td>16.783462</td>\n",
       "      <td>16.783462</td>\n",
       "      <td>26.0</td>\n",
       "      <td>26.000000</td>\n",
       "      <td>10.491015</td>\n",
       "      <td>10.491015</td>\n",
       "    </tr>\n",
       "    <tr>\n",
       "      <th>3</th>\n",
       "      <td>marquis__LJ003-0177__occ1__len9280</td>\n",
       "      <td>marquis</td>\n",
       "      <td>markeyy</td>\n",
       "      <td>57.142857</td>\n",
       "      <td>/home/s1785140/speechbrain/templates/speech_re...</td>\n",
       "      <td>/home/s1785140/rlspeller/caches/mfcc/markeyy.npy</td>\n",
       "      <td>/home/s1785140/rlspeller/caches/mfcc/marquis__...</td>\n",
       "      <td>/home/s1785140/rlspeller/caches/hubert/raw/mar...</td>\n",
       "      <td>/home/s1785140/rlspeller/caches/hubert/raw/mar...</td>\n",
       "      <td>/home/s1785140/rlspeller/caches/hubert/soft/ma...</td>\n",
       "      <td>...</td>\n",
       "      <td>938.559156</td>\n",
       "      <td>1091.347856</td>\n",
       "      <td>12.684142</td>\n",
       "      <td>14.798166</td>\n",
       "      <td>7.399585</td>\n",
       "      <td>8.941165</td>\n",
       "      <td>20.0</td>\n",
       "      <td>24.166667</td>\n",
       "      <td>10.827449</td>\n",
       "      <td>13.083168</td>\n",
       "    </tr>\n",
       "    <tr>\n",
       "      <th>4</th>\n",
       "      <td>marquis__LJ003-0177__occ1__len9280</td>\n",
       "      <td>marquis</td>\n",
       "      <td>markee</td>\n",
       "      <td>57.142857</td>\n",
       "      <td>/home/s1785140/speechbrain/templates/speech_re...</td>\n",
       "      <td>/home/s1785140/rlspeller/caches/mfcc/markee.npy</td>\n",
       "      <td>/home/s1785140/rlspeller/caches/mfcc/marquis__...</td>\n",
       "      <td>/home/s1785140/rlspeller/caches/hubert/raw/mar...</td>\n",
       "      <td>/home/s1785140/rlspeller/caches/hubert/raw/mar...</td>\n",
       "      <td>/home/s1785140/rlspeller/caches/hubert/soft/ma...</td>\n",
       "      <td>...</td>\n",
       "      <td>743.247152</td>\n",
       "      <td>844.599036</td>\n",
       "      <td>14.072109</td>\n",
       "      <td>16.417461</td>\n",
       "      <td>6.367633</td>\n",
       "      <td>7.694223</td>\n",
       "      <td>18.0</td>\n",
       "      <td>21.750000</td>\n",
       "      <td>7.928001</td>\n",
       "      <td>9.579668</td>\n",
       "    </tr>\n",
       "    <tr>\n",
       "      <th>...</th>\n",
       "      <td>...</td>\n",
       "      <td>...</td>\n",
       "      <td>...</td>\n",
       "      <td>...</td>\n",
       "      <td>...</td>\n",
       "      <td>...</td>\n",
       "      <td>...</td>\n",
       "      <td>...</td>\n",
       "      <td>...</td>\n",
       "      <td>...</td>\n",
       "      <td>...</td>\n",
       "      <td>...</td>\n",
       "      <td>...</td>\n",
       "      <td>...</td>\n",
       "      <td>...</td>\n",
       "      <td>...</td>\n",
       "      <td>...</td>\n",
       "      <td>...</td>\n",
       "      <td>...</td>\n",
       "      <td>...</td>\n",
       "      <td>...</td>\n",
       "    </tr>\n",
       "    <tr>\n",
       "      <th>9973</th>\n",
       "      <td>columns__LJ005-0109__occ1__len9600</td>\n",
       "      <td>columns</td>\n",
       "      <td>columns</td>\n",
       "      <td>0.000000</td>\n",
       "      <td>/home/s1785140/speechbrain/templates/speech_re...</td>\n",
       "      <td>/home/s1785140/rlspeller/caches/mfcc/columns.npy</td>\n",
       "      <td>/home/s1785140/rlspeller/caches/mfcc/columns__...</td>\n",
       "      <td>/home/s1785140/rlspeller/caches/hubert/raw/col...</td>\n",
       "      <td>/home/s1785140/rlspeller/caches/hubert/raw/col...</td>\n",
       "      <td>/home/s1785140/rlspeller/caches/hubert/soft/co...</td>\n",
       "      <td>...</td>\n",
       "      <td>913.557557</td>\n",
       "      <td>948.694386</td>\n",
       "      <td>14.901318</td>\n",
       "      <td>15.415157</td>\n",
       "      <td>8.224781</td>\n",
       "      <td>8.224781</td>\n",
       "      <td>22.0</td>\n",
       "      <td>22.000000</td>\n",
       "      <td>10.073286</td>\n",
       "      <td>10.073286</td>\n",
       "    </tr>\n",
       "    <tr>\n",
       "      <th>9974</th>\n",
       "      <td>boulogne__LJ015-0213__occ1__len8000</td>\n",
       "      <td>boulogne</td>\n",
       "      <td>boulogne</td>\n",
       "      <td>0.000000</td>\n",
       "      <td>/home/s1785140/speechbrain/templates/speech_re...</td>\n",
       "      <td>/home/s1785140/rlspeller/caches/mfcc/boulogne.npy</td>\n",
       "      <td>/home/s1785140/rlspeller/caches/mfcc/boulogne_...</td>\n",
       "      <td>/home/s1785140/rlspeller/caches/hubert/raw/bou...</td>\n",
       "      <td>/home/s1785140/rlspeller/caches/hubert/raw/bou...</td>\n",
       "      <td>/home/s1785140/rlspeller/caches/hubert/soft/bo...</td>\n",
       "      <td>...</td>\n",
       "      <td>1062.529068</td>\n",
       "      <td>1433.178743</td>\n",
       "      <td>18.421067</td>\n",
       "      <td>24.561422</td>\n",
       "      <td>17.719085</td>\n",
       "      <td>23.389192</td>\n",
       "      <td>26.0</td>\n",
       "      <td>34.320000</td>\n",
       "      <td>16.770334</td>\n",
       "      <td>22.136840</td>\n",
       "    </tr>\n",
       "    <tr>\n",
       "      <th>9975</th>\n",
       "      <td>shredded__LJ031-0047__occ1__len8960</td>\n",
       "      <td>shredded</td>\n",
       "      <td>shredded</td>\n",
       "      <td>0.000000</td>\n",
       "      <td>/home/s1785140/speechbrain/templates/speech_re...</td>\n",
       "      <td>/home/s1785140/rlspeller/caches/mfcc/shredded.npy</td>\n",
       "      <td>/home/s1785140/rlspeller/caches/mfcc/shredded_...</td>\n",
       "      <td>/home/s1785140/rlspeller/caches/hubert/raw/shr...</td>\n",
       "      <td>/home/s1785140/rlspeller/caches/hubert/raw/shr...</td>\n",
       "      <td>/home/s1785140/rlspeller/caches/hubert/soft/sh...</td>\n",
       "      <td>...</td>\n",
       "      <td>876.684239</td>\n",
       "      <td>931.477004</td>\n",
       "      <td>10.738968</td>\n",
       "      <td>11.136707</td>\n",
       "      <td>7.673391</td>\n",
       "      <td>7.947441</td>\n",
       "      <td>13.0</td>\n",
       "      <td>13.464286</td>\n",
       "      <td>7.678743</td>\n",
       "      <td>7.952983</td>\n",
       "    </tr>\n",
       "    <tr>\n",
       "      <th>9976</th>\n",
       "      <td>courtesy__LJ029-0179__occ1__len10080</td>\n",
       "      <td>courtesy</td>\n",
       "      <td>courtesy</td>\n",
       "      <td>0.000000</td>\n",
       "      <td>/home/s1785140/speechbrain/templates/speech_re...</td>\n",
       "      <td>/home/s1785140/rlspeller/caches/mfcc/courtesy.npy</td>\n",
       "      <td>/home/s1785140/rlspeller/caches/mfcc/courtesy_...</td>\n",
       "      <td>/home/s1785140/rlspeller/caches/hubert/raw/cou...</td>\n",
       "      <td>/home/s1785140/rlspeller/caches/hubert/raw/cou...</td>\n",
       "      <td>/home/s1785140/rlspeller/caches/hubert/soft/co...</td>\n",
       "      <td>...</td>\n",
       "      <td>793.124645</td>\n",
       "      <td>881.249606</td>\n",
       "      <td>16.242020</td>\n",
       "      <td>17.813829</td>\n",
       "      <td>15.227735</td>\n",
       "      <td>16.701387</td>\n",
       "      <td>23.0</td>\n",
       "      <td>25.225806</td>\n",
       "      <td>14.534422</td>\n",
       "      <td>15.940979</td>\n",
       "    </tr>\n",
       "    <tr>\n",
       "      <th>9977</th>\n",
       "      <td>ferrari__LJ012-0214__occ1__len11200</td>\n",
       "      <td>ferrari</td>\n",
       "      <td>ferrari</td>\n",
       "      <td>0.000000</td>\n",
       "      <td>/home/s1785140/speechbrain/templates/speech_re...</td>\n",
       "      <td>/home/s1785140/rlspeller/caches/mfcc/ferrari.npy</td>\n",
       "      <td>/home/s1785140/rlspeller/caches/mfcc/ferrari__...</td>\n",
       "      <td>/home/s1785140/rlspeller/caches/hubert/raw/fer...</td>\n",
       "      <td>/home/s1785140/rlspeller/caches/hubert/raw/fer...</td>\n",
       "      <td>/home/s1785140/rlspeller/caches/hubert/soft/fe...</td>\n",
       "      <td>...</td>\n",
       "      <td>1016.048415</td>\n",
       "      <td>1244.140917</td>\n",
       "      <td>19.567018</td>\n",
       "      <td>24.639949</td>\n",
       "      <td>19.515682</td>\n",
       "      <td>25.298106</td>\n",
       "      <td>26.0</td>\n",
       "      <td>33.703704</td>\n",
       "      <td>16.772545</td>\n",
       "      <td>21.742188</td>\n",
       "    </tr>\n",
       "  </tbody>\n",
       "</table>\n",
       "<p>9978 rows × 25 columns</p>\n",
       "</div>"
      ],
      "text/plain": [
       "                                  token_id  wordtype respelling        cer  \\\n",
       "0       marquis__LJ003-0177__occ1__len9280   marquis     wmarke  71.428571   \n",
       "1       marquis__LJ003-0177__occ1__len9280   marquis    markhhe  57.142857   \n",
       "2       marquis__LJ003-0177__occ1__len9280   marquis    amarkey  71.428571   \n",
       "3       marquis__LJ003-0177__occ1__len9280   marquis    markeyy  57.142857   \n",
       "4       marquis__LJ003-0177__occ1__len9280   marquis     markee  57.142857   \n",
       "...                                    ...       ...        ...        ...   \n",
       "9973    columns__LJ005-0109__occ1__len9600   columns    columns   0.000000   \n",
       "9974   boulogne__LJ015-0213__occ1__len8000  boulogne   boulogne   0.000000   \n",
       "9975   shredded__LJ031-0047__occ1__len8960  shredded   shredded   0.000000   \n",
       "9976  courtesy__LJ029-0179__occ1__len10080  courtesy   courtesy   0.000000   \n",
       "9977   ferrari__LJ012-0214__occ1__len11200   ferrari    ferrari   0.000000   \n",
       "\n",
       "                                               orig_wav  \\\n",
       "0     /home/s1785140/speechbrain/templates/speech_re...   \n",
       "1     /home/s1785140/speechbrain/templates/speech_re...   \n",
       "2     /home/s1785140/speechbrain/templates/speech_re...   \n",
       "3     /home/s1785140/speechbrain/templates/speech_re...   \n",
       "4     /home/s1785140/speechbrain/templates/speech_re...   \n",
       "...                                                 ...   \n",
       "9973  /home/s1785140/speechbrain/templates/speech_re...   \n",
       "9974  /home/s1785140/speechbrain/templates/speech_re...   \n",
       "9975  /home/s1785140/speechbrain/templates/speech_re...   \n",
       "9976  /home/s1785140/speechbrain/templates/speech_re...   \n",
       "9977  /home/s1785140/speechbrain/templates/speech_re...   \n",
       "\n",
       "                                                   mfcc  \\\n",
       "0       /home/s1785140/rlspeller/caches/mfcc/wmarke.npy   \n",
       "1      /home/s1785140/rlspeller/caches/mfcc/markhhe.npy   \n",
       "2      /home/s1785140/rlspeller/caches/mfcc/amarkey.npy   \n",
       "3      /home/s1785140/rlspeller/caches/mfcc/markeyy.npy   \n",
       "4       /home/s1785140/rlspeller/caches/mfcc/markee.npy   \n",
       "...                                                 ...   \n",
       "9973   /home/s1785140/rlspeller/caches/mfcc/columns.npy   \n",
       "9974  /home/s1785140/rlspeller/caches/mfcc/boulogne.npy   \n",
       "9975  /home/s1785140/rlspeller/caches/mfcc/shredded.npy   \n",
       "9976  /home/s1785140/rlspeller/caches/mfcc/courtesy.npy   \n",
       "9977   /home/s1785140/rlspeller/caches/mfcc/ferrari.npy   \n",
       "\n",
       "                                                mfcc-GT  \\\n",
       "0     /home/s1785140/rlspeller/caches/mfcc/marquis__...   \n",
       "1     /home/s1785140/rlspeller/caches/mfcc/marquis__...   \n",
       "2     /home/s1785140/rlspeller/caches/mfcc/marquis__...   \n",
       "3     /home/s1785140/rlspeller/caches/mfcc/marquis__...   \n",
       "4     /home/s1785140/rlspeller/caches/mfcc/marquis__...   \n",
       "...                                                 ...   \n",
       "9973  /home/s1785140/rlspeller/caches/mfcc/columns__...   \n",
       "9974  /home/s1785140/rlspeller/caches/mfcc/boulogne_...   \n",
       "9975  /home/s1785140/rlspeller/caches/mfcc/shredded_...   \n",
       "9976  /home/s1785140/rlspeller/caches/mfcc/courtesy_...   \n",
       "9977  /home/s1785140/rlspeller/caches/mfcc/ferrari__...   \n",
       "\n",
       "                                             hubert-raw  \\\n",
       "0     /home/s1785140/rlspeller/caches/hubert/raw/wma...   \n",
       "1     /home/s1785140/rlspeller/caches/hubert/raw/mar...   \n",
       "2     /home/s1785140/rlspeller/caches/hubert/raw/ama...   \n",
       "3     /home/s1785140/rlspeller/caches/hubert/raw/mar...   \n",
       "4     /home/s1785140/rlspeller/caches/hubert/raw/mar...   \n",
       "...                                                 ...   \n",
       "9973  /home/s1785140/rlspeller/caches/hubert/raw/col...   \n",
       "9974  /home/s1785140/rlspeller/caches/hubert/raw/bou...   \n",
       "9975  /home/s1785140/rlspeller/caches/hubert/raw/shr...   \n",
       "9976  /home/s1785140/rlspeller/caches/hubert/raw/cou...   \n",
       "9977  /home/s1785140/rlspeller/caches/hubert/raw/fer...   \n",
       "\n",
       "                                          hubert-raw-GT  \\\n",
       "0     /home/s1785140/rlspeller/caches/hubert/raw/mar...   \n",
       "1     /home/s1785140/rlspeller/caches/hubert/raw/mar...   \n",
       "2     /home/s1785140/rlspeller/caches/hubert/raw/mar...   \n",
       "3     /home/s1785140/rlspeller/caches/hubert/raw/mar...   \n",
       "4     /home/s1785140/rlspeller/caches/hubert/raw/mar...   \n",
       "...                                                 ...   \n",
       "9973  /home/s1785140/rlspeller/caches/hubert/raw/col...   \n",
       "9974  /home/s1785140/rlspeller/caches/hubert/raw/bou...   \n",
       "9975  /home/s1785140/rlspeller/caches/hubert/raw/shr...   \n",
       "9976  /home/s1785140/rlspeller/caches/hubert/raw/cou...   \n",
       "9977  /home/s1785140/rlspeller/caches/hubert/raw/fer...   \n",
       "\n",
       "                                            hubert-soft  ...  \\\n",
       "0     /home/s1785140/rlspeller/caches/hubert/soft/wm...  ...   \n",
       "1     /home/s1785140/rlspeller/caches/hubert/soft/ma...  ...   \n",
       "2     /home/s1785140/rlspeller/caches/hubert/soft/am...  ...   \n",
       "3     /home/s1785140/rlspeller/caches/hubert/soft/ma...  ...   \n",
       "4     /home/s1785140/rlspeller/caches/hubert/soft/ma...  ...   \n",
       "...                                                 ...  ...   \n",
       "9973  /home/s1785140/rlspeller/caches/hubert/soft/co...  ...   \n",
       "9974  /home/s1785140/rlspeller/caches/hubert/soft/bo...  ...   \n",
       "9975  /home/s1785140/rlspeller/caches/hubert/soft/sh...  ...   \n",
       "9976  /home/s1785140/rlspeller/caches/hubert/soft/co...  ...   \n",
       "9977  /home/s1785140/rlspeller/caches/hubert/soft/fe...  ...   \n",
       "\n",
       "     mfcc::Distance(Euclidean) mfcc::Distance(Euclidean)::w_SL_Penalty  \\\n",
       "0                   855.298708                             1043.047205   \n",
       "1                   966.510855                             1342.376188   \n",
       "2                   817.720782                              850.429613   \n",
       "3                   938.559156                             1091.347856   \n",
       "4                   743.247152                              844.599036   \n",
       "...                        ...                                     ...   \n",
       "9973                913.557557                              948.694386   \n",
       "9974               1062.529068                             1433.178743   \n",
       "9975                876.684239                              931.477004   \n",
       "9976                793.124645                              881.249606   \n",
       "9977               1016.048415                             1244.140917   \n",
       "\n",
       "     hubert-raw::Distance(Cosine) hubert-raw::Distance(Cosine)::w_SL_Penalty  \\\n",
       "0                       20.241584                                  25.762016   \n",
       "1                       17.233714                                  24.127199   \n",
       "2                       16.906545                                  17.510350   \n",
       "3                       12.684142                                  14.798166   \n",
       "4                       14.072109                                  16.417461   \n",
       "...                           ...                                        ...   \n",
       "9973                    14.901318                                  15.415157   \n",
       "9974                    18.421067                                  24.561422   \n",
       "9975                    10.738968                                  11.136707   \n",
       "9976                    16.242020                                  17.813829   \n",
       "9977                    19.567018                                  24.639949   \n",
       "\n",
       "     hubert-soft::Distance(Cosine)  \\\n",
       "0                        21.112437   \n",
       "1                        16.847023   \n",
       "2                        16.783462   \n",
       "3                         7.399585   \n",
       "4                         6.367633   \n",
       "...                            ...   \n",
       "9973                      8.224781   \n",
       "9974                     17.719085   \n",
       "9975                      7.673391   \n",
       "9976                     15.227735   \n",
       "9977                     19.515682   \n",
       "\n",
       "      hubert-soft::Distance(Cosine)::w_SL_Penalty  \\\n",
       "0                                       26.620030   \n",
       "1                                       24.428183   \n",
       "2                                       16.783462   \n",
       "3                                        8.941165   \n",
       "4                                        7.694223   \n",
       "...                                           ...   \n",
       "9973                                     8.224781   \n",
       "9974                                    23.389192   \n",
       "9975                                     7.947441   \n",
       "9976                                    16.701387   \n",
       "9977                                    25.298106   \n",
       "\n",
       "      hubert-discrete-code::Distance(Levenshtein)  \\\n",
       "0                                            26.0   \n",
       "1                                            22.0   \n",
       "2                                            26.0   \n",
       "3                                            20.0   \n",
       "4                                            18.0   \n",
       "...                                           ...   \n",
       "9973                                         22.0   \n",
       "9974                                         26.0   \n",
       "9975                                         13.0   \n",
       "9976                                         23.0   \n",
       "9977                                         26.0   \n",
       "\n",
       "      hubert-discrete-code::Distance(Levenshtein)::w_SL_Penalty  \\\n",
       "0                                             32.782609           \n",
       "1                                             31.900000           \n",
       "2                                             26.000000           \n",
       "3                                             24.166667           \n",
       "4                                             21.750000           \n",
       "...                                                 ...           \n",
       "9973                                          22.000000           \n",
       "9974                                          34.320000           \n",
       "9975                                          13.464286           \n",
       "9976                                          25.225806           \n",
       "9977                                          33.703704           \n",
       "\n",
       "      hubert-discrete-centroid::Distance(Cosine)  \\\n",
       "0                                      15.377948   \n",
       "1                                      15.540345   \n",
       "2                                      10.491015   \n",
       "3                                      10.827449   \n",
       "4                                       7.928001   \n",
       "...                                          ...   \n",
       "9973                                   10.073286   \n",
       "9974                                   16.770334   \n",
       "9975                                    7.678743   \n",
       "9976                                   14.534422   \n",
       "9977                                   16.772545   \n",
       "\n",
       "      hubert-discrete-centroid::Distance(Cosine)::w_SL_Penalty  \n",
       "0                                             19.389586         \n",
       "1                                             22.533500         \n",
       "2                                             10.491015         \n",
       "3                                             13.083168         \n",
       "4                                              9.579668         \n",
       "...                                                 ...         \n",
       "9973                                          10.073286         \n",
       "9974                                          22.136840         \n",
       "9975                                           7.952983         \n",
       "9976                                          15.940979         \n",
       "9977                                          21.742188         \n",
       "\n",
       "[9978 rows x 25 columns]"
      ]
     },
     "execution_count": 83,
     "metadata": {},
     "output_type": "execute_result"
    }
   ],
   "source": [
    "df"
   ]
  },
  {
   "cell_type": "code",
   "execution_count": null,
   "id": "e514c04c-3e36-4272-adb6-16120589825a",
   "metadata": {},
   "outputs": [],
   "source": []
  }
 ],
 "metadata": {
  "kernelspec": {
   "display_name": "Python 3 (ipykernel)",
   "language": "python",
   "name": "python3"
  },
  "language_info": {
   "codemirror_mode": {
    "name": "ipython",
    "version": 3
   },
   "file_extension": ".py",
   "mimetype": "text/x-python",
   "name": "python",
   "nbconvert_exporter": "python",
   "pygments_lexer": "ipython3",
   "version": "3.8.16"
  },
  "toc-autonumbering": true,
  "toc-showtags": false,
  "vscode": {
   "interpreter": {
    "hash": "6a8422eeb13ba8f92f71047f64b5c33152e234c2bbad3f45433feda7b6f3b4c2"
   }
  }
 },
 "nbformat": 4,
 "nbformat_minor": 5
}
