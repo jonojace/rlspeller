{
 "cells": [
  {
   "cell_type": "markdown",
   "id": "2be71c16-38a6-4619-b4b9-0df7ba7600bd",
   "metadata": {},
   "source": [
    "extract phone seqs from MFA alignments and save in format correct for\n",
    "- speechbrain ASR training\n",
    "- fastpitch TTS training"
   ]
  },
  {
   "cell_type": "markdown",
   "id": "011bba7b",
   "metadata": {},
   "source": [
    "# imports"
   ]
  },
  {
   "cell_type": "code",
   "execution_count": 59,
   "id": "c9c84a1d",
   "metadata": {},
   "outputs": [],
   "source": [
    "import os\n",
    "import tgt \n",
    "from tqdm import tqdm"
   ]
  },
  {
   "cell_type": "code",
   "execution_count": 60,
   "id": "63769fc5",
   "metadata": {},
   "outputs": [
    {
     "name": "stdout",
     "output_type": "stream",
     "text": [
      "kinloch.inf.ed.ac.uk\n"
     ]
    }
   ],
   "source": [
    "# print hostname to make sure we are on correct node\n",
    "import socket\n",
    "print(socket.gethostname())"
   ]
  },
  {
   "cell_type": "markdown",
   "id": "3a470f0c",
   "metadata": {},
   "source": [
    "# global vars "
   ]
  },
  {
   "cell_type": "code",
   "execution_count": 61,
   "id": "c2db31d0",
   "metadata": {},
   "outputs": [],
   "source": [
    "ALIGNMENT_DIR = '/home/s1785140/speechbrain/templates/speech_recognition_CharTokens_NoLM/data/LJSpeech-1.1/MFA_alignments_lowercase_nopunc'"
   ]
  },
  {
   "cell_type": "markdown",
   "id": "d18010dc-2066-41fd-90d2-3276b0c78c4f",
   "metadata": {},
   "source": [
    "# load alignments"
   ]
  },
  {
   "cell_type": "code",
   "execution_count": 62,
   "id": "929f03e6-9479-4c6c-87b8-90cf54eef90c",
   "metadata": {},
   "outputs": [],
   "source": [
    "# sanity check - assert that each utt has a corresponding alignment\n",
    "alignment_files = set(os.listdir(ALIGNMENT_DIR))"
   ]
  },
  {
   "cell_type": "code",
   "execution_count": 63,
   "id": "1231391d",
   "metadata": {},
   "outputs": [
    {
     "name": "stderr",
     "output_type": "stream",
     "text": [
      "100%|████████████████████████████████████████████████████████████| 13100/13100 [00:29<00:00, 439.03it/s]\n"
     ]
    }
   ],
   "source": [
    "uttid2textgrid = {}\n",
    "for textgrid in tqdm(alignment_files):\n",
    "    utt_id = textgrid.split('.')[0]\n",
    "    tg_path = os.path.join(ALIGNMENT_DIR, textgrid)\n",
    "    tg_obj = tgt.io.read_textgrid(tg_path, include_empty_intervals=True)\n",
    "    uttid2textgrid[utt_id] = tg_obj"
   ]
  },
  {
   "cell_type": "markdown",
   "id": "2680b2d9-6bcd-4877-94b6-4c64843db945",
   "metadata": {},
   "source": [
    "# parse alignments to extract phone seq"
   ]
  },
  {
   "cell_type": "code",
   "execution_count": 64,
   "id": "c6f5e166",
   "metadata": {},
   "outputs": [],
   "source": [
    "def get_phones_per_word(tg, ignore_sil=True, sil_labels=['sil', 'sp', '']):\n",
    "    phones, words = None, None\n",
    "    phones_per_word = []\n",
    "    for tier in tg.tiers:\n",
    "        if tier.name == 'phones':\n",
    "            phones = tier\n",
    "        elif tier.name == 'words':\n",
    "            words = tier\n",
    "    if phones is None or words is None:\n",
    "        raise ValueError('TextGrid does not contain phones or words tier')\n",
    "    for word in words.annotations:\n",
    "        if ignore_sil and word.text in sil_labels:\n",
    "            continue\n",
    "        word_start = word.start_time\n",
    "        word_end = word.end_time\n",
    "        word_text = word.text\n",
    "        phoneseq = []\n",
    "        for phone in phones.annotations:\n",
    "            if phone.start_time >= word_start and phone.end_time <= word_end:\n",
    "                phoneseq.append(phone.text)\n",
    "        phones_per_word.append((word_text, phoneseq))\n",
    "        ### DEBUG\n",
    "        if 'spn' in phoneseq:\n",
    "            print('spn in phoneseq', word, phoneseq)\n",
    "    return phones_per_word"
   ]
  },
  {
   "cell_type": "code",
   "execution_count": 65,
   "id": "4ff7daf6",
   "metadata": {},
   "outputs": [
    {
     "data": {
      "text/plain": [
       "[('printing', ['p', 'ɹ', 'ɪ', 'n', 't', 'ɪ', 'ŋ']),\n",
       " ('in', ['ɪ', 'n']),\n",
       " ('the', ['ð', 'i']),\n",
       " ('only', ['ow', 'ɲ', 'ʎ', 'i']),\n",
       " ('sense', ['s', 'ɛ', 'n', 's']),\n",
       " ('with', ['w', 'ɪ', 'θ']),\n",
       " ('which', ['w', 'ɪ', 'tʃ']),\n",
       " ('we', ['w', 'iː']),\n",
       " ('are', ['ɑ', 'ɹ']),\n",
       " ('at', ['æ', 'ʔ']),\n",
       " ('present', ['p', 'ɹ', 'ɛ', 'z', 'ə', 'n', 't']),\n",
       " ('concerned', ['kʰ', 'ə', 'n', 's', 'ɝ', 'n', 'd']),\n",
       " ('differs', ['d', 'ɪ', 'f', 'ɚ', 'z']),\n",
       " ('from', ['f', 'ɹ', 'ɐ', 'm']),\n",
       " ('most', ['m', 'ow', 's', 't']),\n",
       " ('if', ['ɪ', 'f']),\n",
       " ('not', ['n', 'ɑ', 'ʔ']),\n",
       " ('from', ['f', 'ɹ', 'ɐ', 'm']),\n",
       " ('all', ['ɒː', 'ɫ']),\n",
       " ('the', ['ð', 'i']),\n",
       " ('arts', ['ɑ', 'ɹ', 't', 's']),\n",
       " ('and', ['æ', 'n']),\n",
       " ('crafts', ['c', 'ɹ', 'æ', 'f', 't', 's']),\n",
       " ('represented', ['ɹ', 'ɛ', 'p', 'ɹ', 'ɪ', 'z', 'ɛ', 'n', 't', 'ɪ', 'd']),\n",
       " ('in', ['ɪ', 'n']),\n",
       " ('the', ['ð', 'i']),\n",
       " ('exhibition', ['ɛ', 'k', 's', 'ɪ', 'b', 'ɪ', 'ʃ', 'ə', 'n'])]"
      ]
     },
     "execution_count": 65,
     "metadata": {},
     "output_type": "execute_result"
    }
   ],
   "source": [
    "# sanity check\n",
    "get_phones_per_word(uttid2textgrid['LJ001-0001'])"
   ]
  },
  {
   "cell_type": "code",
   "execution_count": 66,
   "id": "e9e5f4af",
   "metadata": {},
   "outputs": [
    {
     "name": "stderr",
     "output_type": "stream",
     "text": [
      "  0%|▏                                                              | 31/13100 [00:00<00:43, 303.82it/s]"
     ]
    },
    {
     "name": "stdout",
     "output_type": "stream",
     "text": [
      "spn in phoneseq Interval(1.49, 2.18, \"hideel\") ['spn']\n",
      "spn in phoneseq Interval(0.29, 0.79, \"carrico\") ['spn']\n",
      "spn in phoneseq Interval(0.0, 0.04, \"esarhaddon\") ['spn']\n",
      "spn in phoneseq Interval(0.41, 0.89, \"sinacherib\") ['spn']\n",
      "spn in phoneseq Interval(8.12, 8.73, \"oswalds\") ['spn']\n",
      "spn in phoneseq Interval(1.09, 1.66, \"punchmark\") ['spn']\n",
      "spn in phoneseq Interval(0.0, 0.41, \"roupell\") ['spn']\n",
      "spn in phoneseq Interval(0.0, 0.6, \"scoggins\") ['spn']\n",
      "spn in phoneseq Interval(2.17, 2.62, \"eking\") ['spn']\n",
      "spn in phoneseq Interval(0.55, 1.17, \"askern\") ['spn']\n",
      "spn in phoneseq Interval(0.35, 1.01, \"courvoisier\") ['spn']\n"
     ]
    },
    {
     "name": "stderr",
     "output_type": "stream",
     "text": [
      "  1%|▍                                                              | 93/13100 [00:00<00:43, 302.35it/s]"
     ]
    },
    {
     "name": "stdout",
     "output_type": "stream",
     "text": [
      "spn in phoneseq Interval(2.57, 3.39, \"prs\") ['spn']\n",
      "spn in phoneseq Interval(2.1, 2.86, \"strychnia\") ['spn']\n",
      "spn in phoneseq Interval(0.15, 1.09, \"ineffectively\") ['spn']\n",
      "spn in phoneseq Interval(5.2, 5.92, \"bringuier\") ['spn']\n",
      "spn in phoneseq Interval(1.68, 2.05, \"misess\") ['spn']\n",
      "spn in phoneseq Interval(6.25, 6.91, \"millbank\") ['spn']\n",
      "spn in phoneseq Interval(6.14, 6.82, \"connally\") ['spn']\n",
      "spn in phoneseq Interval(0.83, 1.25, \"euins\") ['spn']\n",
      "spn in phoneseq Interval(0.95, 1.67, \"cadigan\") ['spn']\n",
      "spn in phoneseq Interval(0.0, 0.52, \"maltby\") ['spn']\n",
      "spn in phoneseq Interval(8.2, 9.09, \"prs\") ['spn']\n",
      "spn in phoneseq Interval(1.86, 2.57, \"prs\") ['spn']\n",
      "spn in phoneseq Interval(1.04, 1.85, \"sandersons\") ['spn']\n",
      "spn in phoneseq Interval(7.25, 8.03, \"contractile\") ['spn']\n",
      "spn in phoneseq Interval(4.38, 4.79, \"misess\") ['spn']\n",
      "spn in phoneseq Interval(5.39, 5.89, \"murret\") ['spn']\n",
      "spn in phoneseq Interval(0.16, 0.73, \"quigleys\") ['spn']\n",
      "spn in phoneseq Interval(1.71, 2.23, \"whitneys\") ['spn']\n",
      "spn in phoneseq Interval(4.57, 5.34, \"jermys\") ['spn']\n",
      "spn in phoneseq Interval(6.35, 7.12, \"stanfield\") ['spn']\n"
     ]
    },
    {
     "name": "stderr",
     "output_type": "stream",
     "text": [
      "  1%|▊                                                             | 163/13100 [00:00<00:39, 327.28it/s]"
     ]
    },
    {
     "name": "stdout",
     "output_type": "stream",
     "text": [
      "spn in phoneseq Interval(0.3, 1.12, \"hartogs\") ['spn']\n",
      "spn in phoneseq Interval(1.8, 2.24, \"misess\") ['spn']\n",
      "spn in phoneseq Interval(5.28, 5.67, \"misess\") ['spn']\n",
      "spn in phoneseq Interval(8.43, 9.2, \"oswalds\") ['spn']\n",
      "spn in phoneseq Interval(0.14, 0.74, \"oswalds\") ['spn']\n",
      "spn in phoneseq Interval(0.94, 1.24, \"gunther\") ['spn']\n",
      "spn in phoneseq Interval(1.24, 2.0, \"zeiners\") ['spn']\n",
      "spn in phoneseq Interval(4.39, 5.11, \"schussler\") ['spn']\n",
      "spn in phoneseq Interval(0.0, 0.61, \"wainwrights\") ['spn']\n",
      "spn in phoneseq Interval(0.12, 0.96, \"calcraft\") ['spn']\n",
      "spn in phoneseq Interval(2.46, 3.18, \"foxen\") ['spn']\n",
      "spn in phoneseq Interval(4.3, 4.86, \"botting\") ['spn']\n",
      "spn in phoneseq Interval(6.77, 7.71, \"courvoisiers\") ['spn']\n",
      "spn in phoneseq Interval(3.43, 4.24, \"ehrenberg\") ['spn']\n",
      "spn in phoneseq Interval(7.3, 8.18, \"infusoria\") ['spn']\n",
      "spn in phoneseq Interval(0.53, 1.25, \"oswalds\") ['spn']\n",
      "spn in phoneseq Interval(5.32, 5.95, \"fraziers\") ['spn']\n",
      "spn in phoneseq Interval(6.06, 7.12, \"sideposts\") ['spn']\n",
      "spn in phoneseq Interval(0.31, 1.33, \"defalcations\") ['spn']\n",
      "spn in phoneseq Interval(5.52, 6.16, \"companys\") ['spn']\n",
      "spn in phoneseq Interval(0.0, 0.56, \"websters\") ['spn']\n"
     ]
    },
    {
     "name": "stderr",
     "output_type": "stream",
     "text": [
      "  2%|█                                                             | 231/13100 [00:00<00:40, 317.53it/s]"
     ]
    },
    {
     "name": "stdout",
     "output_type": "stream",
     "text": [
      "spn in phoneseq Interval(6.29, 7.12, \"gardelle\") ['spn']\n",
      "spn in phoneseq Interval(1.21, 1.85, \"anoura\") ['spn']\n",
      "spn in phoneseq Interval(6.65, 7.3, \"guinyard\") ['spn']\n",
      "spn in phoneseq Interval(8.79, 9.34, \"countrys\") ['spn']\n",
      "spn in phoneseq Interval(0.9, 1.41, \"connally\") ['spn']\n",
      "spn in phoneseq Interval(1.43, 2.19, \"ordinarys\") ['spn']\n",
      "spn in phoneseq Interval(0.82, 1.48, \"cartons\") ['spn']\n",
      "spn in phoneseq Interval(5.24, 5.68, \"neild\") ['spn']\n",
      "spn in phoneseq Interval(0.0, 0.52, \"stombaugh\") ['spn']\n",
      "spn in phoneseq Interval(4.55, 5.49, \"smethursts\") ['spn']\n",
      "spn in phoneseq Interval(8.62, 9.37, \"cornewall\") ['spn']\n",
      "spn in phoneseq Interval(7.41, 7.97, \"cubits\") ['spn']\n",
      "spn in phoneseq Interval(1.96, 2.41, \"hosty\") ['spn']\n",
      "spn in phoneseq Interval(5.2, 5.61, \"misess\") ['spn']\n"
     ]
    },
    {
     "name": "stderr",
     "output_type": "stream",
     "text": [
      "  2%|█▍                                                            | 294/13100 [00:00<00:42, 301.23it/s]"
     ]
    },
    {
     "name": "stdout",
     "output_type": "stream",
     "text": [
      "spn in phoneseq Interval(4.4, 5.0, \"stomata\") ['spn']\n",
      "spn in phoneseq Interval(1.3, 2.43, \"assurbanipal\") ['spn']\n",
      "spn in phoneseq Interval(3.42, 4.51, \"sardanapalus\") ['spn']\n",
      "spn in phoneseq Interval(0.46, 1.02, \"rightwing\") ['spn']\n",
      "spn in phoneseq Interval(5.52, 5.93, \"hidell\") ['spn']\n",
      "spn in phoneseq Interval(1.37, 2.21, \"infirmaries\") ['spn']\n",
      "spn in phoneseq Interval(0.19, 0.88, \"romaness\") ['spn']\n",
      "spn in phoneseq Interval(4.16, 4.82, \"contes\") ['spn']\n",
      "spn in phoneseq Interval(0.31, 1.15, \"hartogs\") ['spn']\n",
      "spn in phoneseq Interval(3.6, 4.39, \"cabmans\") ['spn']\n",
      "spn in phoneseq Interval(0.0, 0.38, \"tippit\") ['spn']\n",
      "spn in phoneseq Interval(5.33, 5.67, \"ker\") ['spn']\n",
      "spn in phoneseq Interval(0.93, 1.61, \"mobbs\") ['spn']\n",
      "spn in phoneseq Interval(2.63, 3.47, \"minories\") ['spn']\n",
      "spn in phoneseq Interval(3.66, 4.25, \"oswalds\") ['spn']\n",
      "spn in phoneseq Interval(3.41, 4.08, \"connally\") ['spn']\n"
     ]
    },
    {
     "name": "stderr",
     "output_type": "stream",
     "text": [
      "  3%|█▋                                                            | 358/13100 [00:01<00:41, 304.26it/s]"
     ]
    },
    {
     "name": "stdout",
     "output_type": "stream",
     "text": [
      "spn in phoneseq Interval(0.0, 0.57, \"oswalds\") ['spn']\n",
      "spn in phoneseq Interval(2.02, 2.45, \"buncher\") ['spn']\n",
      "spn in phoneseq Interval(3.86, 5.08, \"wdsu\") ['spn']\n",
      "spn in phoneseq Interval(3.23, 3.72, \"cuvier\") ['spn']\n",
      "spn in phoneseq Interval(1.85, 2.68, \"unsifted\") ['spn']\n",
      "spn in phoneseq Interval(0.0, 0.33, \"haeckel\") ['spn']\n",
      "spn in phoneseq Interval(6.46, 7.23, \"protista\") ['spn']\n",
      "spn in phoneseq Interval(3.22, 3.66, \"tippit\") ['spn']\n",
      "spn in phoneseq Interval(5.82, 6.54, \"oswalds\") ['spn']\n",
      "spn in phoneseq Interval(5.94, 6.23, \"couldn\") ['spn']\n",
      "spn in phoneseq Interval(0.0, 0.84, \"palmprints\") ['spn']\n",
      "spn in phoneseq Interval(2.07, 2.74, \"cartons\") ['spn']\n",
      "spn in phoneseq Interval(0.0, 0.36, \"misess\") ['spn']\n",
      "spn in phoneseq Interval(1.94, 2.52, \"connally\") ['spn']\n",
      "spn in phoneseq Interval(0.29, 0.96, \"newsman\") ['spn']\n",
      "spn in phoneseq Interval(4.33, 5.26, \"unsearched\") ['spn']\n",
      "spn in phoneseq Interval(2.32, 3.22, \"handprinting\") ['spn']\n",
      "spn in phoneseq Interval(4.1, 4.77, \"hidell\") ['spn']\n",
      "spn in phoneseq Interval(1.05, 1.55, \"tippit\") ['spn']\n"
     ]
    },
    {
     "name": "stderr",
     "output_type": "stream",
     "text": [
      "  3%|██▏                                                           | 457/13100 [00:01<00:39, 317.76it/s]"
     ]
    },
    {
     "name": "stdout",
     "output_type": "stream",
     "text": [
      "spn in phoneseq Interval(0.0, 0.65, \"oswalds\") ['spn']\n",
      "spn in phoneseq Interval(0.8, 1.36, \"hostys\") ['spn']\n",
      "spn in phoneseq Interval(0.0, 0.39, \"misess\") ['spn']\n",
      "spn in phoneseq Interval(0.45, 1.39, \"swindlehurst\") ['spn']\n",
      "spn in phoneseq Interval(1.56, 2.26, \"saffery\") ['spn']\n",
      "spn in phoneseq Interval(5.18, 5.86, \"kidnaping\") ['spn']\n",
      "spn in phoneseq Interval(0.14, 0.69, \"vended\") ['spn']\n",
      "spn in phoneseq Interval(1.64, 2.29, \"burkley\") ['spn']\n",
      "spn in phoneseq Interval(6.28, 6.85, \"hatters\") ['spn']\n",
      "spn in phoneseq Interval(1.36, 2.14, \"kurrs\") ['spn']\n",
      "spn in phoneseq Interval(1.16, 2.11, \"courvoisier\") ['spn']\n",
      "spn in phoneseq Interval(6.32, 6.73, \"alek\") ['spn']\n",
      "spn in phoneseq Interval(7.47, 8.1, \"hidell\") ['spn']\n",
      "spn in phoneseq Interval(1.17, 2.03, \"smethurst\") ['spn']\n",
      "spn in phoneseq Interval(2.5, 3.03, \"bankes\") ['spn']\n",
      "spn in phoneseq Interval(0.22, 0.89, \"pitchforked\") ['spn']\n",
      "spn in phoneseq Interval(5.27, 5.74, \"misess\") ['spn']\n"
     ]
    },
    {
     "name": "stderr",
     "output_type": "stream",
     "text": [
      "  4%|██▍                                                           | 522/13100 [00:01<00:39, 319.53it/s]"
     ]
    },
    {
     "name": "stdout",
     "output_type": "stream",
     "text": [
      "spn in phoneseq Interval(6.36, 6.96, \"oswalds\") ['spn']\n",
      "spn in phoneseq Interval(5.28, 5.93, \"felonious\") ['spn']\n",
      "spn in phoneseq Interval(5.71, 6.21, \"dones\") ['spn']\n",
      "spn in phoneseq Interval(2.57, 3.05, \"oswalds\") ['spn']\n",
      "spn in phoneseq Interval(3.05, 3.81, \"roominghouse\") ['spn']\n",
      "spn in phoneseq Interval(6.52, 7.24, \"thornberry\") ['spn']\n",
      "spn in phoneseq Interval(8.71, 9.3, \"youngblood\") ['spn']\n",
      "spn in phoneseq Interval(7.16, 7.7, \"probative\") ['spn']\n",
      "spn in phoneseq Interval(3.04, 3.83, \"untruthful\") ['spn']\n",
      "spn in phoneseq Interval(0.0, 0.35, \"neild\") ['spn']\n",
      "spn in phoneseq Interval(6.61, 7.72, \"unsoundness\") ['spn']\n",
      "spn in phoneseq Interval(5.76, 6.27, \"russells\") ['spn']\n",
      "spn in phoneseq Interval(6.99, 7.84, \"homologies\") ['spn']\n",
      "spn in phoneseq Interval(1.39, 2.15, \"clarifying\") ['spn']\n",
      "spn in phoneseq Interval(6.5, 7.03, \"haggerty\") ['spn']\n",
      "spn in phoneseq Interval(0.0, 0.34, \"whaley\") ['spn']\n",
      "spn in phoneseq Interval(4.79, 5.45, \"stomata\") ['spn']\n"
     ]
    },
    {
     "name": "stderr",
     "output_type": "stream",
     "text": [
      "  4%|██▊                                                           | 588/13100 [00:01<00:39, 313.10it/s]"
     ]
    },
    {
     "name": "stdout",
     "output_type": "stream",
     "text": [
      "spn in phoneseq Interval(0.68, 1.43, \"tammuz\") ['spn']\n",
      "spn in phoneseq Interval(5.67, 6.24, \"opis\") ['spn']\n",
      "spn in phoneseq Interval(6.79, 7.65, \"salsallat\") ['spn']\n",
      "spn in phoneseq Interval(0.0, 0.36, \"whaley\") ['spn']\n",
      "spn in phoneseq Interval(0.0, 0.65, \"oswalds\") ['spn']\n",
      "spn in phoneseq Interval(0.56, 1.03, \"bamell\") ['spn']\n",
      "spn in phoneseq Interval(0.0, 0.55, \"benavides\") ['spn']\n",
      "spn in phoneseq Interval(5.74, 6.5, \"bodoni\") ['spn']\n",
      "spn in phoneseq Interval(7.4, 8.16, \"didot\") ['spn']\n",
      "spn in phoneseq Interval(2.14, 2.68, \"giltspur\") ['spn']\n",
      "spn in phoneseq Interval(2.04, 2.77, \"payrolls\") ['spn']\n",
      "spn in phoneseq Interval(2.31, 3.14, \"toffania\") ['spn']\n",
      "spn in phoneseq Interval(1.58, 1.62, \"didn\") ['spn']\n",
      "spn in phoneseq Interval(5.02, 5.05, \"didn\") ['spn']\n",
      "spn in phoneseq Interval(7.02, 7.1, \"didn\") ['spn']\n",
      "spn in phoneseq Interval(3.93, 4.94, \"perennibranchs\") ['spn']\n",
      "spn in phoneseq Interval(1.0, 1.54, \"palmprint\") ['spn']\n",
      "spn in phoneseq Interval(2.37, 3.04, \"hidell\") ['spn']\n",
      "spn in phoneseq Interval(7.37, 7.93, \"hidell\") ['spn']\n",
      "spn in phoneseq Interval(4.03, 4.79, \"schleidens\") ['spn']\n",
      "spn in phoneseq Interval(6.09, 6.9, \"skeptically\") ['spn']\n",
      "spn in phoneseq Interval(0.14, 0.74, \"oswalds\") ['spn']\n",
      "spn in phoneseq Interval(0.86, 1.63, \"sighings\") ['spn']\n",
      "spn in phoneseq Interval(1.58, 2.16, \"oswalds\") ['spn']\n",
      "spn in phoneseq Interval(0.0, 0.75, \"pegsworth\") ['spn']\n",
      "spn in phoneseq Interval(1.48, 2.27, \"greenacre\") ['spn']\n",
      "spn in phoneseq Interval(1.11, 1.72, \"oswalds\") ['spn']\n",
      "spn in phoneseq Interval(0.0, 0.71, \"calcraft\") ['spn']\n",
      "spn in phoneseq Interval(1.38, 1.98, \"baddow\") ['spn']\n"
     ]
    },
    {
     "name": "stderr",
     "output_type": "stream",
     "text": [
      "  5%|███▏                                                          | 664/13100 [00:02<00:36, 336.53it/s]"
     ]
    },
    {
     "name": "stdout",
     "output_type": "stream",
     "text": [
      "spn in phoneseq Interval(5.64, 6.25, \"connally\") ['spn']\n",
      "spn in phoneseq Interval(5.73, 6.25, \"mullay\") ['spn']\n",
      "spn in phoneseq Interval(2.44, 3.16, \"roominghouse\") ['spn']\n",
      "spn in phoneseq Interval(0.0, 0.77, \"wiedersheim\") ['spn']\n",
      "spn in phoneseq Interval(0.04, 0.82, \"safes\") ['spn']\n",
      "spn in phoneseq Interval(0.06, 0.66, \"caseload\") ['spn']\n",
      "spn in phoneseq Interval(1.19, 1.85, \"oswalds\") ['spn']\n",
      "spn in phoneseq Interval(0.6, 1.19, \"gatesman\") ['spn']\n",
      "spn in phoneseq Interval(3.67, 4.61, \"wardsman\") ['spn']\n",
      "spn in phoneseq Interval(0.16, 0.81, \"huxleys\") ['spn']\n",
      "spn in phoneseq Interval(2.51, 3.09, \"sullivans\") ['spn']\n",
      "spn in phoneseq Interval(5.89, 6.6, \"duranno\") ['spn']\n",
      "spn in phoneseq Interval(8.04, 8.86, \"marsolino\") ['spn']\n",
      "spn in phoneseq Interval(3.9, 4.63, \"lebizen\") ['spn']\n",
      "spn in phoneseq Interval(0.0, 0.56, \"oswalds\") ['spn']\n",
      "spn in phoneseq Interval(5.26, 5.88, \"martello\") ['spn']\n",
      "spn in phoneseq Interval(6.15, 6.2, \"oswalds\") ['spn']\n"
     ]
    },
    {
     "name": "stderr",
     "output_type": "stream",
     "text": [
      "  6%|███▍                                                          | 732/13100 [00:02<00:39, 314.61it/s]"
     ]
    },
    {
     "name": "stdout",
     "output_type": "stream",
     "text": [
      "spn in phoneseq Interval(4.23, 4.84, \"hosty\") ['spn']\n",
      "spn in phoneseq Interval(4.12, 4.41, \"wasn\") ['spn']\n",
      "spn in phoneseq Interval(5.08, 5.33, \"wasn\") ['spn']\n",
      "spn in phoneseq Interval(4.19, 4.93, \"stombaugh\") ['spn']\n",
      "spn in phoneseq Interval(2.12, 2.58, \"hostys\") ['spn']\n",
      "spn in phoneseq Interval(2.25, 2.84, \"roosevelts\") ['spn']\n",
      "spn in phoneseq Interval(2.53, 3.02, \"damnatory\") ['spn']\n",
      "spn in phoneseq Interval(1.26, 1.88, \"astutely\") ['spn']\n",
      "spn in phoneseq Interval(4.1, 4.7, \"bidwell\") ['spn']\n",
      "spn in phoneseq Interval(0.0, 0.55, \"sokolow\") ['spn']\n",
      "spn in phoneseq Interval(7.04, 7.81, \"chambering\") ['spn']\n"
     ]
    },
    {
     "name": "stderr",
     "output_type": "stream",
     "text": [
      "  6%|███▊                                                          | 796/13100 [00:02<00:40, 301.66it/s]"
     ]
    },
    {
     "name": "stdout",
     "output_type": "stream",
     "text": [
      "spn in phoneseq Interval(3.46, 4.43, \"sidearms\") ['spn']\n",
      "spn in phoneseq Interval(0.59, 0.96, \"peached\") ['spn']\n",
      "spn in phoneseq Interval(0.56, 1.13, \"probative\") ['spn']\n",
      "spn in phoneseq Interval(6.23, 6.65, \"missal\") ['spn']\n",
      "spn in phoneseq Interval(2.93, 3.74, \"dissentients\") ['spn']\n",
      "spn in phoneseq Interval(0.32, 0.75, \"connally\") ['spn']\n",
      "spn in phoneseq Interval(2.35, 3.03, \"carrico\") ['spn']\n",
      "spn in phoneseq Interval(4.25, 4.73, \"dulany\") ['spn']\n",
      "spn in phoneseq Interval(3.06, 3.57, \"saward\") ['spn']\n",
      "spn in phoneseq Interval(5.82, 5.86, \"didn\") ['spn']\n",
      "spn in phoneseq Interval(9.16, 9.95, \"guiteau\") ['spn']\n",
      "spn in phoneseq Interval(0.0, 0.38, \"neild\") ['spn']\n",
      "spn in phoneseq Interval(6.88, 7.74, \"castros\") ['spn']\n",
      "spn in phoneseq Interval(5.85, 6.24, \"misess\") ['spn']\n",
      "spn in phoneseq Interval(1.27, 2.02, \"mohrenschildt\") ['spn']\n",
      "spn in phoneseq Interval(4.44, 5.05, \"oswalds\") ['spn']\n",
      "spn in phoneseq Interval(5.13, 5.67, \"hosty\") ['spn']\n",
      "spn in phoneseq Interval(6.0, 6.7, \"oswalds\") ['spn']\n"
     ]
    },
    {
     "name": "stderr",
     "output_type": "stream",
     "text": [
      "  7%|████                                                          | 858/13100 [00:02<00:40, 302.35it/s]"
     ]
    },
    {
     "name": "stdout",
     "output_type": "stream",
     "text": [
      "spn in phoneseq Interval(6.57, 6.97, \"revill\") ['spn']\n",
      "spn in phoneseq Interval(0.0, 0.95, \"courvoisiers\") ['spn']\n",
      "spn in phoneseq Interval(1.81, 2.76, \"benavides\") ['spn']\n",
      "spn in phoneseq Interval(6.11, 6.7, \"lunchroom\") ['spn']\n",
      "spn in phoneseq Interval(6.57, 7.07, \"safes\") ['spn']\n",
      "spn in phoneseq Interval(0.11, 0.4, \"wasn\") ['spn']\n",
      "spn in phoneseq Interval(2.04, 2.17, \"wouldn\") ['spn']\n",
      "spn in phoneseq Interval(2.59, 3.33, \"promulgation\") ['spn']\n",
      "spn in phoneseq Interval(3.51, 4.49, \"silversmiths\") ['spn']\n",
      "spn in phoneseq Interval(0.83, 1.46, \"calcraft\") ['spn']\n",
      "spn in phoneseq Interval(3.42, 4.13, \"palmprint\") ['spn']\n",
      "spn in phoneseq Interval(6.45, 7.05, \"latona\") ['spn']\n",
      "spn in phoneseq Interval(1.63, 2.49, \"thornberry\") ['spn']\n",
      "spn in phoneseq Interval(0.0, 0.71, \"nabonidus\") ['spn']\n",
      "spn in phoneseq Interval(0.75, 1.22, \"fenning\") ['spn']\n"
     ]
    },
    {
     "name": "stderr",
     "output_type": "stream",
     "text": [
      "  7%|████▌                                                         | 956/13100 [00:03<00:39, 310.79it/s]"
     ]
    },
    {
     "name": "stdout",
     "output_type": "stream",
     "text": [
      "spn in phoneseq Interval(4.73, 5.4, \"pentonville\") ['spn']\n",
      "spn in phoneseq Interval(4.25, 4.79, \"christs\") ['spn']\n",
      "spn in phoneseq Interval(1.76, 2.28, \"probative\") ['spn']\n",
      "spn in phoneseq Interval(4.02, 4.64, \"palmprint\") ['spn']\n",
      "spn in phoneseq Interval(3.52, 4.26, \"palmprints\") ['spn']\n",
      "spn in phoneseq Interval(8.78, 9.36, \"connally\") ['spn']\n",
      "spn in phoneseq Interval(0.0, 0.54, \"sattler\") ['spn']\n",
      "spn in phoneseq Interval(6.05, 6.59, \"oswalds\") ['spn']\n",
      "spn in phoneseq Interval(3.67, 4.24, \"gatesman\") ['spn']\n",
      "spn in phoneseq Interval(4.36, 4.85, \"ladys\") ['spn']\n",
      "spn in phoneseq Interval(3.52, 3.96, \"babys\") ['spn']\n",
      "spn in phoneseq Interval(5.92, 6.83, \"semiramis\") ['spn']\n",
      "spn in phoneseq Interval(1.37, 1.92, \"hidell\") ['spn']\n",
      "spn in phoneseq Interval(2.92, 3.66, \"roominghouse\") ['spn']\n",
      "spn in phoneseq Interval(1.35, 1.99, \"latona\") ['spn']\n",
      "spn in phoneseq Interval(6.01, 6.72, \"fbis\") ['spn']\n",
      "spn in phoneseq Interval(0.19, 0.93, \"courvoisier\") ['spn']\n",
      "spn in phoneseq Interval(1.7, 2.24, \"alek\") ['spn']\n",
      "spn in phoneseq Interval(3.52, 4.08, \"hidell\") ['spn']\n",
      "spn in phoneseq Interval(6.81, 7.31, \"alek\") ['spn']\n",
      "spn in phoneseq Interval(7.78, 8.38, \"oswalds\") ['spn']\n",
      "spn in phoneseq Interval(1.51, 2.35, \"glendinning\") ['spn']\n",
      "spn in phoneseq Interval(2.59, 3.38, \"stombaughs\") ['spn']\n",
      "spn in phoneseq Interval(5.97, 6.62, \"youngblood\") ['spn']\n"
     ]
    },
    {
     "name": "stderr",
     "output_type": "stream",
     "text": [
      "  8%|████▊                                                        | 1023/13100 [00:03<00:37, 318.45it/s]"
     ]
    },
    {
     "name": "stdout",
     "output_type": "stream",
     "text": [
      "spn in phoneseq Interval(2.6, 3.19, \"cartons\") ['spn']\n",
      "spn in phoneseq Interval(3.08, 3.79, \"esagil\") ['spn']\n",
      "spn in phoneseq Interval(3.95, 4.58, \"ezida\") ['spn']\n",
      "spn in phoneseq Interval(0.66, 1.18, \"carro\") ['spn']\n",
      "spn in phoneseq Interval(4.9, 5.46, \"stemmons\") ['spn']\n",
      "spn in phoneseq Interval(2.24, 2.8, \"unburned\") ['spn']\n",
      "spn in phoneseq Interval(3.56, 4.18, \"poydras\") ['spn']\n",
      "spn in phoneseq Interval(3.16, 3.57, \"connally\") ['spn']\n",
      "spn in phoneseq Interval(3.08, 3.68, \"youngbloods\") ['spn']\n",
      "spn in phoneseq Interval(1.93, 2.83, \"rusticated\") ['spn']\n"
     ]
    },
    {
     "name": "stderr",
     "output_type": "stream",
     "text": [
      "  8%|█████                                                        | 1087/13100 [00:03<00:38, 312.11it/s]"
     ]
    },
    {
     "name": "stdout",
     "output_type": "stream",
     "text": [
      "spn in phoneseq Interval(0.0, 0.33, \"misess\") ['spn']\n",
      "spn in phoneseq Interval(4.03, 4.66, \"oswalds\") ['spn']\n",
      "spn in phoneseq Interval(0.0, 0.92, \"infirmaries\") ['spn']\n",
      "spn in phoneseq Interval(1.59, 2.35, \"thistlewood\") ['spn']\n",
      "spn in phoneseq Interval(4.65, 5.28, \"renters\") ['spn']\n",
      "spn in phoneseq Interval(5.41, 5.53, \"didn\") ['spn']\n",
      "spn in phoneseq Interval(7.39, 8.24, \"mohrenschildt\") ['spn']\n",
      "spn in phoneseq Interval(1.65, 2.3, \"proximately\") ['spn']\n",
      "spn in phoneseq Interval(3.54, 4.21, \"prs\") ['spn']\n",
      "spn in phoneseq Interval(0.59, 1.68, \"mohammedanism\") ['spn']\n",
      "spn in phoneseq Interval(1.27, 1.96, \"redpaths\") ['spn']\n",
      "spn in phoneseq Interval(1.55, 2.21, \"dietaries\") ['spn']\n",
      "spn in phoneseq Interval(1.84, 1.87, \"didn\") ['spn']\n"
     ]
    },
    {
     "name": "stderr",
     "output_type": "stream",
     "text": [
      "  9%|█████▍                                                       | 1155/13100 [00:03<00:38, 313.38it/s]"
     ]
    },
    {
     "name": "stdout",
     "output_type": "stream",
     "text": [
      "spn in phoneseq Interval(0.0, 0.4, \"misess\") ['spn']\n",
      "spn in phoneseq Interval(1.22, 1.77, \"oswalds\") ['spn']\n",
      "spn in phoneseq Interval(6.8, 7.39, \"deterring\") ['spn']\n",
      "spn in phoneseq Interval(0.94, 1.65, \"oswalds\") ['spn']\n",
      "spn in phoneseq Interval(4.65, 5.25, \"viscose\") ['spn']\n",
      "spn in phoneseq Interval(8.22, 9.2, \"misess\") ['spn']\n",
      "spn in phoneseq Interval(9.2, 9.23, \"cannings\") ['spn']\n",
      "spn in phoneseq Interval(0.95, 1.53, \"latona\") ['spn']\n",
      "spn in phoneseq Interval(1.18, 1.85, \"oswalds\") ['spn']\n",
      "spn in phoneseq Interval(7.44, 8.13, \"oswalds\") ['spn']\n",
      "spn in phoneseq Interval(5.12, 5.16, \"amphioxus\") ['spn']\n",
      "spn in phoneseq Interval(0.04, 0.72, \"wardsman\") ['spn']\n",
      "spn in phoneseq Interval(4.36, 4.78, \"misess\") ['spn']\n",
      "spn in phoneseq Interval(2.85, 3.23, \"misess\") ['spn']\n",
      "spn in phoneseq Interval(2.11, 2.17, \"behn\") ['spn']\n",
      "spn in phoneseq Interval(6.47, 7.08, \"sorrels\") ['spn']\n",
      "spn in phoneseq Interval(3.32, 3.96, \"marwood\") ['spn']\n"
     ]
    },
    {
     "name": "stderr",
     "output_type": "stream",
     "text": [
      "  9%|█████▋                                                       | 1218/13100 [00:03<00:39, 301.93it/s]"
     ]
    },
    {
     "name": "stdout",
     "output_type": "stream",
     "text": [
      "spn in phoneseq Interval(0.42, 1.08, \"harlands\") ['spn']\n",
      "spn in phoneseq Interval(0.49, 1.3, \"premising\") ['spn']\n",
      "spn in phoneseq Interval(4.8, 6.07, \"humanitarianism\") ['spn']\n",
      "spn in phoneseq Interval(0.0, 0.7, \"lerigo\") ['spn']\n",
      "spn in phoneseq Interval(0.77, 1.27, \"bouck\") ['spn']\n",
      "spn in phoneseq Interval(3.52, 4.32, \"prs\") ['spn']\n",
      "spn in phoneseq Interval(0.0, 0.34, \"misess\") ['spn']\n",
      "spn in phoneseq Interval(2.85, 3.19, \"misess\") ['spn']\n",
      "spn in phoneseq Interval(0.0, 0.35, \"revill\") ['spn']\n",
      "spn in phoneseq Interval(3.35, 3.99, \"palmprint\") ['spn']\n",
      "spn in phoneseq Interval(0.39, 1.16, \"oswalds\") ['spn']\n",
      "spn in phoneseq Interval(3.25, 4.49, \"characterizations\") ['spn']\n",
      "spn in phoneseq Interval(8.67, 9.26, \"dasent\") ['spn']\n",
      "spn in phoneseq Interval(0.0, 0.9, \"calcraft\") ['spn']\n",
      "spn in phoneseq Interval(1.36, 1.75, \"misess\") ['spn']\n",
      "spn in phoneseq Interval(4.94, 5.59, \"stemmons\") ['spn']\n"
     ]
    },
    {
     "name": "stderr",
     "output_type": "stream",
     "text": [
      " 10%|█████▉                                                       | 1284/13100 [00:04<00:38, 307.36it/s]"
     ]
    },
    {
     "name": "stdout",
     "output_type": "stream",
     "text": [
      "spn in phoneseq Interval(0.0, 0.33, \"misess\") ['spn']\n",
      "spn in phoneseq Interval(4.27, 4.79, \"hidell\") ['spn']\n",
      "spn in phoneseq Interval(3.71, 4.54, \"protoplasm\") ['spn']\n",
      "spn in phoneseq Interval(4.09, 4.54, \"mullay\") ['spn']\n",
      "spn in phoneseq Interval(7.62, 8.37, \"courvoisier\") ['spn']\n",
      "spn in phoneseq Interval(4.18, 4.49, \"bouhe\") ['spn']\n",
      "spn in phoneseq Interval(0.2, 0.53, \"tippit\") ['spn']\n",
      "spn in phoneseq Interval(0.53, 1.2, \"patroled\") ['spn']\n",
      "spn in phoneseq Interval(3.6, 4.16, \"mannings\") ['spn']\n",
      "spn in phoneseq Interval(6.25, 7.1, \"tenantless\") ['spn']\n",
      "spn in phoneseq Interval(0.83, 1.43, \"fassons\") ['spn']\n",
      "spn in phoneseq Interval(1.66, 2.22, \"youngblood\") ['spn']\n",
      "spn in phoneseq Interval(0.95, 1.88, \"czolgosz\") ['spn']\n",
      "spn in phoneseq Interval(3.21, 4.14, \"nitrates\") ['spn']\n"
     ]
    },
    {
     "name": "stderr",
     "output_type": "stream",
     "text": [
      " 10%|██████▎                                                      | 1349/13100 [00:04<00:37, 314.62it/s]"
     ]
    },
    {
     "name": "stdout",
     "output_type": "stream",
     "text": [
      "spn in phoneseq Interval(3.14, 3.53, \"wifes\") ['spn']\n",
      "spn in phoneseq Interval(2.15, 2.85, \"blandy\") ['spn']\n",
      "spn in phoneseq Interval(2.13, 2.7, \"oswalds\") ['spn']\n",
      "spn in phoneseq Interval(3.33, 3.83, \"hurchel\") ['spn']\n",
      "spn in phoneseq Interval(1.2, 1.74, \"connally\") ['spn']\n",
      "spn in phoneseq Interval(2.17, 2.59, \"wifes\") ['spn']\n",
      "spn in phoneseq Interval(0.69, 1.33, \"disbeliever\") ['spn']\n",
      "spn in phoneseq Interval(0.0, 0.92, \"smethursts\") ['spn']\n",
      "spn in phoneseq Interval(2.38, 3.04, \"bankes\") ['spn']\n",
      "spn in phoneseq Interval(5.19, 5.88, \"oxfords\") ['spn']\n",
      "spn in phoneseq Interval(6.4, 7.0, \"connallys\") ['spn']\n",
      "spn in phoneseq Interval(3.22, 3.88, \"prs\") ['spn']\n",
      "spn in phoneseq Interval(7.9, 8.56, \"mailroom\") ['spn']\n"
     ]
    },
    {
     "name": "stderr",
     "output_type": "stream",
     "text": [
      " 11%|██████▌                                                      | 1412/13100 [00:04<00:38, 304.29it/s]"
     ]
    },
    {
     "name": "stdout",
     "output_type": "stream",
     "text": [
      "spn in phoneseq Interval(3.57, 4.41, \"ameliorating\") ['spn']\n",
      "spn in phoneseq Interval(0.15, 0.85, \"ilchester\") ['spn']\n",
      "spn in phoneseq Interval(7.06, 7.78, \"garotting\") ['spn']\n",
      "spn in phoneseq Interval(0.14, 0.86, \"referrals\") ['spn']\n",
      "spn in phoneseq Interval(4.67, 5.41, \"calcraft\") ['spn']\n",
      "spn in phoneseq Interval(0.0, 0.44, \"revill\") ['spn']\n",
      "spn in phoneseq Interval(1.72, 2.16, \"hosty\") ['spn']\n",
      "spn in phoneseq Interval(0.25, 0.72, \"ings\") ['spn']\n",
      "spn in phoneseq Interval(0.4, 1.22, \"canonicals\") ['spn']\n",
      "spn in phoneseq Interval(0.17, 1.1, \"calcrafts\") ['spn']\n",
      "spn in phoneseq Interval(0.2, 0.42, \"shouldn\") ['spn']\n",
      "spn in phoneseq Interval(4.21, 5.08, \"prs\") ['spn']\n",
      "spn in phoneseq Interval(3.27, 3.89, \"familys\") ['spn']\n",
      "spn in phoneseq Interval(0.74, 1.9, \"fpcc\") ['spn']\n"
     ]
    },
    {
     "name": "stderr",
     "output_type": "stream",
     "text": [
      " 11%|██████▉                                                      | 1481/13100 [00:04<00:36, 318.80it/s]"
     ]
    },
    {
     "name": "stdout",
     "output_type": "stream",
     "text": [
      "spn in phoneseq Interval(2.79, 3.84, \"nabopolassar\") ['spn']\n",
      "spn in phoneseq Interval(4.61, 5.37, \"chinamen\") ['spn']\n",
      "spn in phoneseq Interval(5.81, 6.92, \"sclavonian\") ['spn']\n",
      "spn in phoneseq Interval(0.0, 0.37, \"hocker\") ['spn']\n",
      "spn in phoneseq Interval(0.49, 1.35, \"calcraft\") ['spn']\n",
      "spn in phoneseq Interval(2.01, 2.65, \"foxen\") ['spn']\n",
      "spn in phoneseq Interval(1.25, 2.0, \"calcraft\") ['spn']\n",
      "spn in phoneseq Interval(3.54, 4.34, \"oswalds\") ['spn']\n",
      "spn in phoneseq Interval(0.17, 0.97, \"mohrenschildts\") ['spn']\n",
      "spn in phoneseq Interval(7.36, 7.85, \"oswalds\") ['spn']\n",
      "spn in phoneseq Interval(2.03, 2.64, \"romanes\") ['spn']\n",
      "spn in phoneseq Interval(4.81, 5.35, \"tippit\") ['spn']\n",
      "spn in phoneseq Interval(2.25, 3.03, \"elzevirs\") ['spn']\n",
      "spn in phoneseq Interval(1.08, 1.6, \"patrolman\") ['spn']\n",
      "spn in phoneseq Interval(0.0, 0.33, \"whaley\") ['spn']\n",
      "spn in phoneseq Interval(2.89, 3.48, \"drittal\") ['spn']\n",
      "spn in phoneseq Interval(1.32, 1.88, \"prs\") ['spn']\n",
      "spn in phoneseq Interval(5.17, 5.62, \"adlai\") ['spn']\n",
      "spn in phoneseq Interval(1.84, 2.54, \"romanes\") ['spn']\n",
      "spn in phoneseq Interval(4.51, 5.35, \"majestys\") ['spn']\n"
     ]
    },
    {
     "name": "stderr",
     "output_type": "stream",
     "text": [
      " 12%|███████▎                                                     | 1578/13100 [00:05<00:37, 309.71it/s]"
     ]
    },
    {
     "name": "stdout",
     "output_type": "stream",
     "text": [
      "spn in phoneseq Interval(2.88, 3.59, \"passbook\") ['spn']\n",
      "spn in phoneseq Interval(5.41, 5.98, \"companys\") ['spn']\n",
      "spn in phoneseq Interval(0.0, 0.37, \"misess\") ['spn']\n",
      "spn in phoneseq Interval(0.0, 0.22, \"calcrafts\") ['spn']\n",
      "spn in phoneseq Interval(0.22, 1.58, \"emoluments\") ['spn']\n",
      "spn in phoneseq Interval(0.0, 0.45, \"neild\") ['spn']\n",
      "spn in phoneseq Interval(2.35, 2.94, \"burchell\") ['spn']\n",
      "spn in phoneseq Interval(3.74, 4.27, \"wallack\") ['spn']\n",
      "spn in phoneseq Interval(5.48, 6.1, \"respited\") ['spn']\n",
      "spn in phoneseq Interval(0.94, 1.23, \"damnatory\") ['spn']\n",
      "spn in phoneseq Interval(5.56, 6.22, \"greenacre\") ['spn']\n",
      "spn in phoneseq Interval(0.09, 0.81, \"promulgation\") ['spn']\n",
      "spn in phoneseq Interval(0.0, 0.36, \"misess\") ['spn']\n",
      "spn in phoneseq Interval(0.0, 0.38, \"hosty\") ['spn']\n",
      "spn in phoneseq Interval(6.44, 6.94, \"revill\") ['spn']\n",
      "spn in phoneseq Interval(2.62, 2.9, \"couldn\") ['spn']\n",
      "spn in phoneseq Interval(0.96, 1.54, \"euins\") ['spn']\n",
      "spn in phoneseq Interval(2.9, 3.44, \"probative\") ['spn']\n"
     ]
    },
    {
     "name": "stderr",
     "output_type": "stream",
     "text": [
      " 13%|███████▋                                                     | 1641/13100 [00:05<00:38, 300.88it/s]"
     ]
    },
    {
     "name": "stdout",
     "output_type": "stream",
     "text": [
      "spn in phoneseq Interval(1.09, 1.69, \"adequacy\") ['spn']\n",
      "spn in phoneseq Interval(3.83, 4.36, \"tylers\") ['spn']\n",
      "spn in phoneseq Interval(0.34, 0.93, \"lawsons\") ['spn']\n",
      "spn in phoneseq Interval(3.33, 3.92, \"missals\") ['spn']\n",
      "spn in phoneseq Interval(4.25, 5.0, \"psalters\") ['spn']\n",
      "spn in phoneseq Interval(0.17, 0.79, \"misess\") ['spn']\n",
      "spn in phoneseq Interval(0.79, 1.24, \"smethurst\") ['spn']\n",
      "spn in phoneseq Interval(3.37, 4.05, \"mannlicher\") ['spn']\n",
      "spn in phoneseq Interval(4.05, 4.75, \"carcano\") ['spn']\n",
      "spn in phoneseq Interval(3.23, 3.8, \"lunchroom\") ['spn']\n",
      "spn in phoneseq Interval(0.0, 0.55, \"howse\") ['spn']\n",
      "spn in phoneseq Interval(0.0, 0.3, \"misess\") ['spn']\n"
     ]
    },
    {
     "name": "stderr",
     "output_type": "stream",
     "text": [
      " 13%|███████▉                                                     | 1712/13100 [00:05<00:36, 316.15it/s]"
     ]
    },
    {
     "name": "stdout",
     "output_type": "stream",
     "text": [
      "spn in phoneseq Interval(0.0, 0.37, \"tarpey\") ['spn']\n",
      "spn in phoneseq Interval(1.07, 1.66, \"misseurs\") ['spn']\n",
      "spn in phoneseq Interval(1.3, 1.58, \"gunther\") ['spn']\n",
      "spn in phoneseq Interval(1.58, 2.31, \"zeiner\") ['spn']\n",
      "spn in phoneseq Interval(0.36, 1.07, \"sorrels\") ['spn']\n",
      "spn in phoneseq Interval(3.4, 3.93, \"wechsler\") ['spn']\n",
      "spn in phoneseq Interval(1.34, 1.68, \"misess\") ['spn']\n",
      "spn in phoneseq Interval(1.37, 2.26, \"stockdale\") ['spn']\n",
      "spn in phoneseq Interval(4.84, 5.24, \"minver\") ['spn']\n",
      "spn in phoneseq Interval(0.0, 0.37, \"misess\") ['spn']\n",
      "spn in phoneseq Interval(2.18, 2.79, \"greenacre\") ['spn']\n",
      "spn in phoneseq Interval(1.72, 2.18, \"dasset\") ['spn']\n",
      "spn in phoneseq Interval(3.48, 4.03, \"cartons\") ['spn']\n",
      "spn in phoneseq Interval(0.63, 1.63, \"misdemeanants\") ['spn']\n",
      "spn in phoneseq Interval(4.87, 5.23, \"misess\") ['spn']\n",
      "spn in phoneseq Interval(1.2, 1.86, \"founts\") ['spn']\n",
      "spn in phoneseq Interval(4.02, 4.69, \"wardsmen\") ['spn']\n",
      "spn in phoneseq Interval(3.18, 4.1, \"unventilated\") ['spn']\n"
     ]
    },
    {
     "name": "stderr",
     "output_type": "stream",
     "text": [
      " 14%|████████▎                                                    | 1775/13100 [00:05<00:37, 301.77it/s]"
     ]
    },
    {
     "name": "stdout",
     "output_type": "stream",
     "text": [
      "spn in phoneseq Interval(7.55, 8.44, \"benavides\") ['spn']\n",
      "spn in phoneseq Interval(4.25, 5.11, \"courvoisier\") ['spn']\n",
      "spn in phoneseq Interval(0.33, 0.96, \"buxtons\") ['spn']\n",
      "spn in phoneseq Interval(4.11, 4.73, \"youngblood\") ['spn']\n",
      "spn in phoneseq Interval(2.7, 3.34, \"rivaling\") ['spn']\n",
      "spn in phoneseq Interval(0.22, 0.73, \"delarue\") ['spn']\n",
      "spn in phoneseq Interval(5.73, 6.3, \"connally\") ['spn']\n",
      "spn in phoneseq Interval(0.46, 0.94, \"carrico\") ['spn']\n",
      "spn in phoneseq Interval(3.37, 3.83, \"dulany\") ['spn']\n",
      "spn in phoneseq Interval(1.66, 2.23, \"alwyn\") ['spn']\n",
      "spn in phoneseq Interval(5.37, 6.01, \"cadigan\") ['spn']\n",
      "spn in phoneseq Interval(5.12, 5.84, \"oswalds\") ['spn']\n",
      "spn in phoneseq Interval(2.32, 2.91, \"cartons\") ['spn']\n",
      "spn in phoneseq Interval(0.72, 1.12, \"misess\") ['spn']\n",
      "spn in phoneseq Interval(3.05, 3.13, \"misess\") ['spn']\n",
      "spn in phoneseq Interval(3.13, 4.16, \"soames\") ['spn']\n",
      "spn in phoneseq Interval(0.42, 0.97, \"connally\") ['spn']\n",
      "spn in phoneseq Interval(3.25, 3.65, \"misess\") ['spn']\n",
      "spn in phoneseq Interval(3.65, 4.13, \"connally\") ['spn']\n",
      "spn in phoneseq Interval(5.12, 5.15, \"didn\") ['spn']\n",
      "spn in phoneseq Interval(3.38, 4.07, \"mcwatters\") ['spn']\n"
     ]
    },
    {
     "name": "stderr",
     "output_type": "stream",
     "text": [
      " 14%|████████▌                                                    | 1839/13100 [00:05<00:36, 308.14it/s]"
     ]
    },
    {
     "name": "stdout",
     "output_type": "stream",
     "text": [
      "spn in phoneseq Interval(0.97, 1.47, \"probative\") ['spn']\n",
      "spn in phoneseq Interval(3.33, 3.9, \"kerbela\") ['spn']\n",
      "spn in phoneseq Interval(4.14, 4.56, \"nejef\") ['spn']\n",
      "spn in phoneseq Interval(5.71, 6.41, \"retarded\") ['spn']\n",
      "spn in phoneseq Interval(2.1, 2.56, \"cartons\") ['spn']\n",
      "spn in phoneseq Interval(1.41, 1.8, \"hocker\") ['spn']\n",
      "spn in phoneseq Interval(0.5, 1.13, \"donellan\") ['spn']\n",
      "spn in phoneseq Interval(0.39, 1.02, \"oswalds\") ['spn']\n",
      "spn in phoneseq Interval(9.11, 9.5, \"misess\") ['spn']\n",
      "spn in phoneseq Interval(4.84, 5.65, \"gratuities\") ['spn']\n",
      "spn in phoneseq Interval(4.13, 4.66, \"respited\") ['spn']\n",
      "spn in phoneseq Interval(1.05, 1.55, \"tippit\") ['spn']\n",
      "spn in phoneseq Interval(6.65, 6.68, \"didn\") ['spn']\n"
     ]
    },
    {
     "name": "stderr",
     "output_type": "stream",
     "text": [
      " 15%|████████▊                                                    | 1900/13100 [00:06<00:38, 291.69it/s]"
     ]
    },
    {
     "name": "stdout",
     "output_type": "stream",
     "text": [
      "spn in phoneseq Interval(1.92, 2.99, \"impoverishment\") ['spn']\n",
      "spn in phoneseq Interval(4.81, 6.06, \"humanitarianism\") ['spn']\n",
      "spn in phoneseq Interval(3.7, 4.2, \"dumaine\") ['spn']\n",
      "spn in phoneseq Interval(3.48, 4.07, \"bunchers\") ['spn']\n",
      "spn in phoneseq Interval(6.46, 7.07, \"burnetts\") ['spn']\n",
      "spn in phoneseq Interval(0.43, 1.36, \"sokolow\") ['spn']\n",
      "spn in phoneseq Interval(3.34, 3.79, \"wifes\") ['spn']\n",
      "spn in phoneseq Interval(3.47, 4.41, \"patrolman\") ['spn']\n",
      "spn in phoneseq Interval(4.41, 4.5, \"tippit\") ['spn']\n",
      "spn in phoneseq Interval(6.58, 7.16, \"oswalds\") ['spn']\n",
      "spn in phoneseq Interval(4.54, 5.36, \"roupell\") ['spn']\n",
      "spn in phoneseq Interval(6.03, 6.69, \"ilchester\") ['spn']\n",
      "spn in phoneseq Interval(0.0, 0.62, \"marwood\") ['spn']\n"
     ]
    },
    {
     "name": "stderr",
     "output_type": "stream",
     "text": [
      " 15%|█████████▏                                                   | 1965/13100 [00:06<00:36, 308.19it/s]"
     ]
    },
    {
     "name": "stdout",
     "output_type": "stream",
     "text": [
      "spn in phoneseq Interval(5.25, 5.91, \"shrigley\") ['spn']\n",
      "spn in phoneseq Interval(2.15, 2.79, \"rugeley\") ['spn']\n",
      "spn in phoneseq Interval(1.19, 1.6, \"thistlewoods\") ['spn']\n",
      "spn in phoneseq Interval(1.92, 2.47, \"contriver\") ['spn']\n",
      "spn in phoneseq Interval(4.54, 6.41, \"entrapper\") ['spn']\n",
      "spn in phoneseq Interval(0.0, 0.6, \"bousfield\") ['spn']\n",
      "spn in phoneseq Interval(2.01, 2.67, \"rugeley\") ['spn']\n",
      "spn in phoneseq Interval(2.32, 2.67, \"misess\") ['spn']\n",
      "spn in phoneseq Interval(2.67, 3.12, \"paines\") ['spn']\n",
      "spn in phoneseq Interval(0.8, 1.06, \"thain\") ['spn']\n",
      "spn in phoneseq Interval(3.86, 4.38, \"bambridge\") ['spn']\n",
      "spn in phoneseq Interval(0.93, 1.46, \"misess\") ['spn']\n",
      "spn in phoneseq Interval(1.46, 1.8, \"frys\") ['spn']\n",
      "spn in phoneseq Interval(5.9, 6.34, \"guinyard\") ['spn']\n",
      "spn in phoneseq Interval(0.45, 1.04, \"oswalds\") ['spn']\n",
      "spn in phoneseq Interval(2.22, 2.89, \"oswalds\") ['spn']\n",
      "spn in phoneseq Interval(3.72, 4.33, \"empaneling\") ['spn']\n",
      "spn in phoneseq Interval(2.79, 3.51, \"esagil\") ['spn']\n",
      "spn in phoneseq Interval(3.63, 4.19, \"ezida\") ['spn']\n",
      "spn in phoneseq Interval(5.35, 6.48, \"nabopolassar\") ['spn']\n",
      "spn in phoneseq Interval(6.97, 7.78, \"wakefields\") ['spn']\n",
      "spn in phoneseq Interval(0.0, 0.35, \"misess\") ['spn']\n",
      "spn in phoneseq Interval(3.89, 4.33, \"weares\") ['spn']\n"
     ]
    },
    {
     "name": "stderr",
     "output_type": "stream",
     "text": [
      " 15%|█████████▍                                                   | 2027/13100 [00:06<00:37, 297.10it/s]"
     ]
    },
    {
     "name": "stdout",
     "output_type": "stream",
     "text": [
      "spn in phoneseq Interval(8.64, 9.16, \"midweek\") ['spn']\n",
      "spn in phoneseq Interval(2.76, 3.5, \"bambridge\") ['spn']\n",
      "spn in phoneseq Interval(3.9, 4.3, \"huggin\") ['spn']\n",
      "spn in phoneseq Interval(0.06, 0.59, \"gatesman\") ['spn']\n",
      "spn in phoneseq Interval(5.88, 6.39, \"jamess\") ['spn']\n",
      "spn in phoneseq Interval(0.0, 0.58, \"pieman\") ['spn']\n",
      "spn in phoneseq Interval(7.17, 7.82, \"misess\") ['spn']\n",
      "spn in phoneseq Interval(7.82, 8.25, \"cannings\") ['spn']\n",
      "spn in phoneseq Interval(1.4, 1.7, \"misess\") ['spn']\n",
      "spn in phoneseq Interval(2.36, 3.15, \"thistlewood\") ['spn']\n",
      "spn in phoneseq Interval(3.47, 4.12, \"ings\") ['spn']\n",
      "spn in phoneseq Interval(6.75, 7.23, \"tidd\") ['spn']\n",
      "spn in phoneseq Interval(2.29, 2.94, \"committals\") ['spn']\n",
      "spn in phoneseq Interval(4.17, 4.73, \"oswalds\") ['spn']\n"
     ]
    },
    {
     "name": "stderr",
     "output_type": "stream",
     "text": [
      " 16%|█████████▉                                                   | 2128/13100 [00:06<00:34, 317.01it/s]"
     ]
    },
    {
     "name": "stdout",
     "output_type": "stream",
     "text": [
      "spn in phoneseq Interval(0.0, 0.46, \"hocker\") ['spn']\n",
      "spn in phoneseq Interval(2.03, 2.46, \"misess\") ['spn']\n",
      "spn in phoneseq Interval(6.65, 7.25, \"stopwatch\") ['spn']\n",
      "spn in phoneseq Interval(1.94, 3.04, \"misappropriated\") ['spn']\n",
      "spn in phoneseq Interval(0.0, 0.35, \"euins\") ['spn']\n",
      "spn in phoneseq Interval(0.0, 0.83, \"misess\") ['spn']\n",
      "spn in phoneseq Interval(0.83, 0.86, \"frys\") ['spn']\n",
      "spn in phoneseq Interval(1.18, 1.78, \"absconding\") ['spn']\n",
      "spn in phoneseq Interval(3.35, 4.05, \"bryanston\") ['spn']\n",
      "spn in phoneseq Interval(0.16, 0.8, \"coverest\") ['spn']\n",
      "spn in phoneseq Interval(5.49, 6.05, \"maiming\") ['spn']\n",
      "spn in phoneseq Interval(0.0, 0.39, \"carro\") ['spn']\n",
      "spn in phoneseq Interval(0.85, 1.51, \"palmprint\") ['spn']\n",
      "spn in phoneseq Interval(5.84, 6.51, \"cartons\") ['spn']\n",
      "spn in phoneseq Interval(1.57, 2.1, \"chromatophores\") ['spn']\n",
      "spn in phoneseq Interval(1.12, 1.66, \"chevaux\") ['spn']\n",
      "spn in phoneseq Interval(1.75, 2.34, \"frise\") ['spn']\n",
      "spn in phoneseq Interval(3.61, 4.26, \"calcraft\") ['spn']\n"
     ]
    },
    {
     "name": "stderr",
     "output_type": "stream",
     "text": [
      " 17%|██████████                                                   | 2163/13100 [00:06<00:33, 324.02it/s]"
     ]
    },
    {
     "name": "stdout",
     "output_type": "stream",
     "text": [
      "spn in phoneseq Interval(3.4, 4.25, \"illegibility\") ['spn']\n",
      "spn in phoneseq Interval(1.2, 1.78, \"oswalds\") ['spn']\n",
      "spn in phoneseq Interval(7.1, 7.5, \"wifes\") ['spn']\n",
      "spn in phoneseq Interval(0.74, 1.79, \"misappropriating\") ['spn']\n",
      "spn in phoneseq Interval(2.81, 3.74, \"feloniously\") ['spn']\n",
      "spn in phoneseq Interval(1.98, 2.63, \"mandella\") ['spn']\n",
      "spn in phoneseq Interval(7.75, 8.4, \"prs\") ['spn']\n",
      "spn in phoneseq Interval(7.6, 8.08, \"tippit\") ['spn']\n",
      "spn in phoneseq Interval(0.18, 0.53, \"misess\") ['spn']\n",
      "spn in phoneseq Interval(2.86, 3.55, \"fauntleroys\") ['spn']\n",
      "spn in phoneseq Interval(7.05, 7.77, \"mannings\") ['spn']\n",
      "spn in phoneseq Interval(0.04, 0.58, \"lunchroom\") ['spn']\n",
      "spn in phoneseq Interval(2.01, 2.57, \"greaser\") ['spn']\n",
      "spn in phoneseq Interval(3.27, 3.91, \"oswalds\") ['spn']\n"
     ]
    },
    {
     "name": "stderr",
     "output_type": "stream",
     "text": [
      " 17%|██████████▌                                                  | 2262/13100 [00:07<00:34, 315.54it/s]"
     ]
    },
    {
     "name": "stdout",
     "output_type": "stream",
     "text": [
      "spn in phoneseq Interval(6.82, 7.65, \"underpay\") ['spn']\n",
      "spn in phoneseq Interval(3.46, 4.12, \"cartons\") ['spn']\n",
      "spn in phoneseq Interval(2.91, 3.46, \"viscose\") ['spn']\n",
      "spn in phoneseq Interval(3.0, 3.67, \"ekdahl\") ['spn']\n",
      "spn in phoneseq Interval(7.83, 8.77, \"separations\") ['spn']\n",
      "spn in phoneseq Interval(9.36, 9.86, \"voce\") ['spn']\n",
      "spn in phoneseq Interval(8.41, 8.91, \"batess\") ['spn']\n",
      "spn in phoneseq Interval(1.23, 1.92, \"perjurer\") ['spn']\n",
      "spn in phoneseq Interval(2.13, 2.77, \"courvoisier\") ['spn']\n",
      "spn in phoneseq Interval(7.68, 8.19, \"adlai\") ['spn']\n",
      "spn in phoneseq Interval(3.46, 3.81, \"tippit\") ['spn']\n",
      "spn in phoneseq Interval(7.37, 8.03, \"patesi\") ['spn']\n",
      "spn in phoneseq Interval(2.74, 3.45, \"hidell\") ['spn']\n",
      "spn in phoneseq Interval(7.04, 7.65, \"latona\") ['spn']\n",
      "spn in phoneseq Interval(0.48, 1.33, \"angelini\") ['spn']\n",
      "spn in phoneseq Interval(2.02, 2.95, \"fauntleroys\") ['spn']\n"
     ]
    },
    {
     "name": "stderr",
     "output_type": "stream",
     "text": [
      " 18%|██████████▊                                                  | 2326/13100 [00:07<00:34, 310.41it/s]"
     ]
    },
    {
     "name": "stdout",
     "output_type": "stream",
     "text": [
      "spn in phoneseq Interval(7.25, 7.91, \"hatters\") ['spn']\n",
      "spn in phoneseq Interval(4.8, 5.43, \"oswalds\") ['spn']\n",
      "spn in phoneseq Interval(7.78, 8.36, \"oswalds\") ['spn']\n",
      "spn in phoneseq Interval(4.36, 5.33, \"charioteers\") ['spn']\n",
      "spn in phoneseq Interval(7.33, 7.94, \"youngblood\") ['spn']\n",
      "spn in phoneseq Interval(0.0, 0.81, \"smethurst\") ['spn']\n",
      "spn in phoneseq Interval(0.23, 0.34, \"didn\") ['spn']\n",
      "spn in phoneseq Interval(0.0, 0.26, \"misess\") ['spn']\n",
      "spn in phoneseq Interval(0.53, 1.46, \"calcrafts\") ['spn']\n",
      "spn in phoneseq Interval(3.3, 3.81, \"tippit\") ['spn']\n"
     ]
    },
    {
     "name": "stderr",
     "output_type": "stream",
     "text": [
      " 18%|███████████▏                                                 | 2394/13100 [00:07<00:33, 323.64it/s]"
     ]
    },
    {
     "name": "stdout",
     "output_type": "stream",
     "text": [
      "spn in phoneseq Interval(7.61, 8.11, \"hosty\") ['spn']\n",
      "spn in phoneseq Interval(0.0, 0.72, \"prs\") ['spn']\n",
      "spn in phoneseq Interval(0.0, 0.38, \"hosty\") ['spn']\n",
      "spn in phoneseq Interval(0.38, 0.8, \"berthed\") ['spn']\n",
      "spn in phoneseq Interval(1.23, 1.78, \"dumaine\") ['spn']\n",
      "spn in phoneseq Interval(4.26, 4.72, \"touts\") ['spn']\n",
      "spn in phoneseq Interval(0.66, 1.24, \"oswalds\") ['spn']\n",
      "spn in phoneseq Interval(3.87, 4.46, \"chinamen\") ['spn']\n",
      "spn in phoneseq Interval(0.0, 0.5, \"krapps\") ['spn']\n",
      "spn in phoneseq Interval(2.84, 3.85, \"belshazzar\") ['spn']\n",
      "spn in phoneseq Interval(4.17, 4.84, \"chaldean\") ['spn']\n",
      "spn in phoneseq Interval(0.0, 0.7, \"misess\") ['spn']\n",
      "spn in phoneseq Interval(0.7, 0.91, \"tarpey\") ['spn']\n",
      "spn in phoneseq Interval(2.41, 2.77, \"misess\") ['spn']\n",
      "spn in phoneseq Interval(1.78, 2.39, \"oswalds\") ['spn']\n",
      "spn in phoneseq Interval(0.75, 1.42, \"oswalds\") ['spn']\n"
     ]
    },
    {
     "name": "stderr",
     "output_type": "stream",
     "text": [
      " 19%|███████████▌                                                 | 2491/13100 [00:08<00:34, 311.81it/s]"
     ]
    },
    {
     "name": "stdout",
     "output_type": "stream",
     "text": [
      "spn in phoneseq Interval(0.0, 0.82, \"berossus\") ['spn']\n",
      "spn in phoneseq Interval(3.6, 4.29, \"oswalds\") ['spn']\n",
      "spn in phoneseq Interval(0.87, 1.4, \"gatesman\") ['spn']\n",
      "spn in phoneseq Interval(1.72, 2.28, \"wardsman\") ['spn']\n",
      "spn in phoneseq Interval(1.42, 2.1, \"marshalsea\") ['spn']\n",
      "spn in phoneseq Interval(0.0, 0.3, \"misess\") ['spn']\n",
      "spn in phoneseq Interval(1.92, 2.39, \"forfeiting\") ['spn']\n",
      "spn in phoneseq Interval(7.91, 8.68, \"misfiring\") ['spn']\n",
      "spn in phoneseq Interval(6.22, 6.78, \"oswalds\") ['spn']\n",
      "spn in phoneseq Interval(1.06, 1.71, \"oswalds\") ['spn']\n",
      "spn in phoneseq Interval(0.0, 0.66, \"scoggins\") ['spn']\n",
      "spn in phoneseq Interval(0.0, 0.41, \"hosty\") ['spn']\n",
      "spn in phoneseq Interval(0.0, 0.61, \"prs\") ['spn']\n",
      "spn in phoneseq Interval(0.37, 0.88, \"hidell\") ['spn']\n"
     ]
    },
    {
     "name": "stderr",
     "output_type": "stream",
     "text": [
      " 19%|███████████▋                                                 | 2523/13100 [00:08<00:36, 290.91it/s]"
     ]
    },
    {
     "name": "stdout",
     "output_type": "stream",
     "text": [
      "spn in phoneseq Interval(4.51, 5.08, \"paines\") ['spn']\n",
      "spn in phoneseq Interval(2.22, 2.97, \"horsemonger\") ['spn']\n",
      "spn in phoneseq Interval(1.06, 2.03, \"soubriquet\") ['spn']\n",
      "spn in phoneseq Interval(3.12, 3.76, \"haynau\") ['spn']\n",
      "spn in phoneseq Interval(4.38, 4.83, \"mullay\") ['spn']\n",
      "spn in phoneseq Interval(8.53, 9.53, \"infirmaries\") ['spn']\n",
      "spn in phoneseq Interval(4.94, 5.94, \"housebreakers\") ['spn']\n",
      "spn in phoneseq Interval(7.17, 7.98, \"uninvested\") ['spn']\n",
      "spn in phoneseq Interval(5.1, 5.82, \"cartons\") ['spn']\n",
      "spn in phoneseq Interval(2.57, 3.25, \"wittmus\") ['spn']\n",
      "spn in phoneseq Interval(6.81, 7.37, \"latona\") ['spn']\n",
      "spn in phoneseq Interval(8.49, 9.34, \"oswalds\") ['spn']\n",
      "spn in phoneseq Interval(0.59, 1.56, \"reevaluation\") ['spn']\n",
      "spn in phoneseq Interval(7.67, 8.42, \"prs\") ['spn']\n",
      "spn in phoneseq Interval(5.43, 6.02, \"oswalds\") ['spn']\n",
      "spn in phoneseq Interval(2.41, 3.3, \"protoplasm\") ['spn']\n",
      "spn in phoneseq Interval(3.86, 4.82, \"handspikes\") ['spn']\n"
     ]
    },
    {
     "name": "stderr",
     "output_type": "stream",
     "text": [
      " 20%|████████████▏                                                | 2620/13100 [00:08<00:34, 306.83it/s]"
     ]
    },
    {
     "name": "stdout",
     "output_type": "stream",
     "text": [
      "spn in phoneseq Interval(5.36, 6.19, \"heartbeats\") ['spn']\n",
      "spn in phoneseq Interval(0.0, 0.68, \"calcraft\") ['spn']\n",
      "spn in phoneseq Interval(4.71, 5.27, \"pensioned\") ['spn']\n",
      "spn in phoneseq Interval(2.92, 3.67, \"crosshairs\") ['spn']\n",
      "spn in phoneseq Interval(1.36, 2.03, \"passbook\") ['spn']\n",
      "spn in phoneseq Interval(6.18, 6.61, \"misess\") ['spn']\n",
      "spn in phoneseq Interval(1.08, 2.07, \"euphemistically\") ['spn']\n",
      "spn in phoneseq Interval(0.7, 1.17, \"layard\") ['spn']\n",
      "spn in phoneseq Interval(0.0, 0.88, \"courvoisier\") ['spn']\n",
      "spn in phoneseq Interval(2.54, 3.18, \"rouleaux\") ['spn']\n",
      "spn in phoneseq Interval(0.62, 0.91, \"misess\") ['spn']\n",
      "spn in phoneseq Interval(4.79, 5.19, \"misess\") ['spn']\n",
      "spn in phoneseq Interval(3.88, 4.22, \"dealey\") ['spn']\n",
      "spn in phoneseq Interval(1.47, 2.08, \"forgers\") ['spn']\n",
      "spn in phoneseq Interval(3.8, 4.22, \"hostys\") ['spn']\n",
      "spn in phoneseq Interval(0.88, 1.53, \"mcwatters\") ['spn']\n",
      "spn in phoneseq Interval(7.83, 8.39, \"goree\") ['spn']\n"
     ]
    },
    {
     "name": "stderr",
     "output_type": "stream",
     "text": [
      " 20%|████████████▎                                                | 2651/13100 [00:08<00:36, 288.35it/s]"
     ]
    },
    {
     "name": "stdout",
     "output_type": "stream",
     "text": [
      "spn in phoneseq Interval(3.93, 4.54, \"oswalds\") ['spn']\n",
      "spn in phoneseq Interval(4.8, 5.1, \"misess\") ['spn']\n",
      "spn in phoneseq Interval(6.57, 7.6, \"affectionless\") ['spn']\n",
      "spn in phoneseq Interval(0.83, 1.51, \"lears\") ['spn']\n",
      "spn in phoneseq Interval(0.62, 1.2, \"hosty\") ['spn']\n",
      "spn in phoneseq Interval(1.62, 1.97, \"misess\") ['spn']\n",
      "spn in phoneseq Interval(2.57, 3.29, \"ekdahl\") ['spn']\n",
      "spn in phoneseq Interval(5.61, 6.42, \"marguerites\") ['spn']\n",
      "spn in phoneseq Interval(0.51, 1.21, \"mobbs\") ['spn']\n",
      "spn in phoneseq Interval(3.37, 4.15, \"haynau\") ['spn']\n",
      "spn in phoneseq Interval(5.42, 6.3, \"thirstiness\") ['spn']\n",
      "spn in phoneseq Interval(3.23, 3.74, \"connally\") ['spn']\n",
      "spn in phoneseq Interval(2.24, 2.83, \"oswalds\") ['spn']\n",
      "spn in phoneseq Interval(5.81, 6.33, \"youngblood\") ['spn']\n",
      "spn in phoneseq Interval(1.37, 1.87, \"bootmaker\") ['spn']\n",
      "spn in phoneseq Interval(1.78, 2.96, \"obscurations\") ['spn']\n",
      "spn in phoneseq Interval(4.25, 5.1, \"smashers\") ['spn']\n",
      "spn in phoneseq Interval(5.83, 6.47, \"bringuier\") ['spn']\n",
      "spn in phoneseq Interval(0.19, 0.45, \"misess\") ['spn']\n"
     ]
    },
    {
     "name": "stderr",
     "output_type": "stream",
     "text": [
      " 21%|████████████▊                                                | 2745/13100 [00:08<00:35, 294.07it/s]"
     ]
    },
    {
     "name": "stdout",
     "output_type": "stream",
     "text": [
      "spn in phoneseq Interval(0.46, 1.03, \"jebb\") ['spn']\n",
      "spn in phoneseq Interval(1.76, 2.59, \"custodians\") ['spn']\n",
      "spn in phoneseq Interval(5.65, 6.45, \"presentments\") ['spn']\n",
      "spn in phoneseq Interval(0.28, 0.6, \"misess\") ['spn']\n",
      "spn in phoneseq Interval(0.19, 0.56, \"whaley\") ['spn']\n",
      "spn in phoneseq Interval(1.07, 1.71, \"oswalds\") ['spn']\n",
      "spn in phoneseq Interval(2.28, 3.7, \"fpcc\") ['spn']\n",
      "spn in phoneseq Interval(4.81, 5.39, \"stemmons\") ['spn']\n",
      "spn in phoneseq Interval(2.46, 3.16, \"libels\") ['spn']\n",
      "spn in phoneseq Interval(4.11, 4.85, \"marshalsea\") ['spn']\n",
      "spn in phoneseq Interval(4.79, 5.61, \"horsemonger\") ['spn']\n",
      "spn in phoneseq Interval(8.0, 8.57, \"mannings\") ['spn']\n",
      "spn in phoneseq Interval(6.0, 7.0, \"notorieties\") ['spn']\n",
      "spn in phoneseq Interval(0.63, 1.01, \"misess\") ['spn']\n",
      "spn in phoneseq Interval(0.1, 1.04, \"caducibranch\") ['spn']\n",
      "spn in phoneseq Interval(4.14, 4.95, \"perennibranch\") ['spn']\n",
      "spn in phoneseq Interval(6.86, 7.72, \"caducibranch\") ['spn']\n",
      "spn in phoneseq Interval(2.51, 3.21, \"thurtell\") ['spn']\n"
     ]
    },
    {
     "name": "stderr",
     "output_type": "stream",
     "text": [
      " 21%|█████████████                                                | 2810/13100 [00:09<00:33, 304.12it/s]"
     ]
    },
    {
     "name": "stdout",
     "output_type": "stream",
     "text": [
      "spn in phoneseq Interval(2.45, 3.07, \"forgers\") ['spn']\n",
      "spn in phoneseq Interval(0.85, 1.31, \"bouck\") ['spn']\n",
      "spn in phoneseq Interval(3.19, 3.55, \"misess\") ['spn']\n",
      "spn in phoneseq Interval(3.62, 4.3, \"hangmans\") ['spn']\n",
      "spn in phoneseq Interval(3.1, 4.1, \"protoplasm\") ['spn']\n",
      "spn in phoneseq Interval(4.47, 5.12, \"oswalds\") ['spn']\n",
      "spn in phoneseq Interval(0.51, 1.25, \"discounters\") ['spn']\n",
      "spn in phoneseq Interval(0.0, 0.71, \"redpaths\") ['spn']\n",
      "spn in phoneseq Interval(0.0, 0.39, \"buncher\") ['spn']\n",
      "spn in phoneseq Interval(4.49, 4.88, \"tippit\") ['spn']\n",
      "spn in phoneseq Interval(5.27, 5.91, \"thereunder\") ['spn']\n",
      "spn in phoneseq Interval(0.06, 0.57, \"lennies\") ['spn']\n",
      "spn in phoneseq Interval(0.0, 0.57, \"sawards\") ['spn']\n",
      "spn in phoneseq Interval(3.46, 4.12, \"reprehension\") ['spn']\n",
      "spn in phoneseq Interval(3.48, 3.89, \"whaley\") ['spn']\n",
      "spn in phoneseq Interval(4.22, 4.7, \"maintz\") ['spn']\n",
      "spn in phoneseq Interval(5.22, 5.84, \"schoeffer\") ['spn']\n",
      "spn in phoneseq Interval(4.53, 5.33, \"projectionist\") ['spn']\n",
      "spn in phoneseq Interval(4.98, 5.01, \"fpcc\") ['spn']\n",
      "spn in phoneseq Interval(3.41, 4.17, \"compters\") ['spn']\n",
      "spn in phoneseq Interval(2.84, 3.24, \"cardiotachyscope\") ['spn']\n",
      "spn in phoneseq Interval(0.0, 0.57, \"saward\") ['spn']\n",
      "spn in phoneseq Interval(1.33, 1.73, \"whaley\") ['spn']\n"
     ]
    },
    {
     "name": "stderr",
     "output_type": "stream",
     "text": [
      " 22%|█████████████▍                                               | 2878/13100 [00:09<00:32, 318.30it/s]"
     ]
    },
    {
     "name": "stdout",
     "output_type": "stream",
     "text": [
      "spn in phoneseq Interval(2.11, 2.7, \"teletype\") ['spn']\n",
      "spn in phoneseq Interval(4.13, 4.96, \"zopyrus\") ['spn']\n",
      "spn in phoneseq Interval(5.06, 5.86, \"unmaimed\") ['spn']\n",
      "spn in phoneseq Interval(7.78, 8.67, \"babylons\") ['spn']\n",
      "spn in phoneseq Interval(1.05, 1.45, \"misess\") ['spn']\n",
      "spn in phoneseq Interval(2.59, 3.07, \"stemmons\") ['spn']\n",
      "spn in phoneseq Interval(7.97, 8.93, \"patrolman\") ['spn']\n",
      "spn in phoneseq Interval(8.93, 9.05, \"tippit\") ['spn']\n",
      "spn in phoneseq Interval(5.25, 5.54, \"misess\") ['spn']\n",
      "spn in phoneseq Interval(1.55, 1.92, \"misess\") ['spn']\n",
      "spn in phoneseq Interval(0.19, 0.57, \"misess\") ['spn']\n",
      "spn in phoneseq Interval(5.72, 6.73, \"recollectedness\") ['spn']\n",
      "spn in phoneseq Interval(5.68, 6.11, \"behn\") ['spn']\n",
      "spn in phoneseq Interval(5.61, 6.35, \"oswalds\") ['spn']\n",
      "spn in phoneseq Interval(0.0, 0.2, \"hillah\") ['spn']\n",
      "spn in phoneseq Interval(4.67, 5.79, \"nebuchadnezzars\") ['spn']\n",
      "spn in phoneseq Interval(1.22, 1.88, \"oswalds\") ['spn']\n",
      "spn in phoneseq Interval(5.0, 6.18, \"propagandizing\") ['spn']\n",
      "spn in phoneseq Interval(0.48, 0.72, \"didn\") ['spn']\n",
      "spn in phoneseq Interval(1.66, 2.19, \"oswalds\") ['spn']\n"
     ]
    },
    {
     "name": "stderr",
     "output_type": "stream",
     "text": [
      " 22%|█████████████▋                                               | 2945/13100 [00:09<00:31, 325.27it/s]"
     ]
    },
    {
     "name": "stdout",
     "output_type": "stream",
     "text": [
      "spn in phoneseq Interval(0.23, 0.87, \"harrowbys\") ['spn']\n",
      "spn in phoneseq Interval(0.0, 0.37, \"whaley\") ['spn']\n",
      "spn in phoneseq Interval(0.0, 0.5, \"hosty\") ['spn']\n",
      "spn in phoneseq Interval(2.48, 3.12, \"lunchroom\") ['spn']\n",
      "spn in phoneseq Interval(0.0, 0.59, \"sorrels\") ['spn']\n",
      "spn in phoneseq Interval(0.2, 0.73, \"giltspur\") ['spn']\n",
      "spn in phoneseq Interval(5.13, 5.21, \"accordez\") ['spn']\n",
      "spn in phoneseq Interval(5.21, 5.55, \"moi\") ['spn']\n",
      "spn in phoneseq Interval(5.55, 6.5, \"cette\") ['spn']\n",
      "spn in phoneseq Interval(2.75, 3.69, \"prs\") ['spn']\n",
      "spn in phoneseq Interval(1.01, 1.85, \"misdemeanants\") ['spn']\n",
      "spn in phoneseq Interval(3.81, 4.35, \"gamins\") ['spn']\n",
      "spn in phoneseq Interval(2.59, 3.34, \"anglesea\") ['spn']\n",
      "spn in phoneseq Interval(1.27, 1.61, \"whats\") ['spn']\n",
      "spn in phoneseq Interval(0.0, 0.37, \"hosty\") ['spn']\n",
      "spn in phoneseq Interval(6.66, 7.32, \"oswalds\") ['spn']\n"
     ]
    },
    {
     "name": "stderr",
     "output_type": "stream",
     "text": [
      " 23%|██████████████                                               | 3018/13100 [00:09<00:29, 339.75it/s]"
     ]
    },
    {
     "name": "stdout",
     "output_type": "stream",
     "text": [
      "spn in phoneseq Interval(5.64, 6.24, \"anoura\") ['spn']\n",
      "spn in phoneseq Interval(3.0, 3.27, \"wasn\") ['spn']\n",
      "spn in phoneseq Interval(2.96, 3.58, \"niebuhr\") ['spn']\n",
      "spn in phoneseq Interval(0.41, 0.96, \"connally\") ['spn']\n",
      "spn in phoneseq Interval(2.94, 3.95, \"rothschilds\") ['spn']\n",
      "spn in phoneseq Interval(2.99, 3.67, \"oswalds\") ['spn']\n",
      "spn in phoneseq Interval(0.0, 0.35, \"misess\") ['spn']\n",
      "spn in phoneseq Interval(3.26, 4.04, \"horsemonger\") ['spn']\n",
      "spn in phoneseq Interval(1.65, 2.24, \"oswalds\") ['spn']\n",
      "spn in phoneseq Interval(2.86, 3.47, \"oswalds\") ['spn']\n",
      "spn in phoneseq Interval(1.52, 2.7, \"unsanctified\") ['spn']\n",
      "spn in phoneseq Interval(6.71, 7.47, \"greenacre\") ['spn']\n",
      "spn in phoneseq Interval(4.88, 5.66, \"caseload\") ['spn']\n",
      "spn in phoneseq Interval(6.49, 6.89, \"misess\") ['spn']\n",
      "spn in phoneseq Interval(6.78, 7.63, \"thurtell\") ['spn']\n",
      "spn in phoneseq Interval(9.21, 9.76, \"probert\") ['spn']\n",
      "spn in phoneseq Interval(0.34, 0.93, \"stuckey\") ['spn']\n",
      "spn in phoneseq Interval(1.38, 2.07, \"oswalds\") ['spn']\n"
     ]
    },
    {
     "name": "stderr",
     "output_type": "stream",
     "text": [
      " 24%|██████████████▎                                              | 3086/13100 [00:09<00:31, 321.24it/s]"
     ]
    },
    {
     "name": "stdout",
     "output_type": "stream",
     "text": [
      "spn in phoneseq Interval(2.31, 2.98, \"cuvier\") ['spn']\n",
      "spn in phoneseq Interval(6.03, 6.93, \"oxenford\") ['spn']\n",
      "spn in phoneseq Interval(5.71, 6.36, \"conduced\") ['spn']\n",
      "spn in phoneseq Interval(0.0, 0.31, \"mullay\") ['spn']\n",
      "spn in phoneseq Interval(0.36, 0.95, \"schrank\") ['spn']\n",
      "spn in phoneseq Interval(1.46, 1.89, \"guiseppe\") ['spn']\n",
      "spn in phoneseq Interval(1.89, 2.82, \"zangara\") ['spn']\n",
      "spn in phoneseq Interval(5.88, 6.96, \"housebreakers\") ['spn']\n",
      "spn in phoneseq Interval(0.56, 1.38, \"mohrenschildt\") ['spn']\n",
      "spn in phoneseq Interval(0.98, 1.4, \"shouldn\") ['spn']\n",
      "spn in phoneseq Interval(0.0, 0.61, \"wainwrights\") ['spn']\n",
      "spn in phoneseq Interval(2.86, 3.44, \"lunchroom\") ['spn']\n",
      "spn in phoneseq Interval(0.72, 1.43, \"remands\") ['spn']\n",
      "spn in phoneseq Interval(2.13, 2.79, \"saward\") ['spn']\n",
      "spn in phoneseq Interval(7.9, 8.65, \"lovelady\") ['spn']\n",
      "spn in phoneseq Interval(0.0, 0.7, \"adequacy\") ['spn']\n"
     ]
    },
    {
     "name": "stderr",
     "output_type": "stream",
     "text": [
      " 24%|██████████████▋                                              | 3151/13100 [00:10<00:32, 305.51it/s]"
     ]
    },
    {
     "name": "stdout",
     "output_type": "stream",
     "text": [
      "spn in phoneseq Interval(2.54, 3.02, \"mullay\") ['spn']\n",
      "spn in phoneseq Interval(5.8, 6.31, \"latona\") ['spn']\n",
      "spn in phoneseq Interval(7.41, 8.13, \"oswalds\") ['spn']\n",
      "spn in phoneseq Interval(8.67, 9.23, \"palmprint\") ['spn']\n",
      "spn in phoneseq Interval(2.74, 3.18, \"hornig\") ['spn']\n",
      "spn in phoneseq Interval(5.44, 6.15, \"hartogs\") ['spn']\n",
      "spn in phoneseq Interval(7.16, 7.55, \"misess\") ['spn']\n",
      "spn in phoneseq Interval(3.15, 4.07, \"caspars\") ['spn']\n",
      "spn in phoneseq Interval(4.28, 4.92, \"annexe\") ['spn']\n",
      "spn in phoneseq Interval(1.76, 2.13, \"misess\") ['spn']\n",
      "spn in phoneseq Interval(0.15, 0.98, \"calcraft\") ['spn']\n",
      "spn in phoneseq Interval(5.76, 6.53, \"cuvier\") ['spn']\n",
      "spn in phoneseq Interval(2.7, 3.58, \"custodians\") ['spn']\n",
      "spn in phoneseq Interval(5.26, 5.84, \"connally\") ['spn']\n",
      "spn in phoneseq Interval(3.4, 4.11, \"companys\") ['spn']\n",
      "spn in phoneseq Interval(4.3, 4.78, \"roupell\") ['spn']\n"
     ]
    },
    {
     "name": "stderr",
     "output_type": "stream",
     "text": [
      " 25%|███████████████                                              | 3222/13100 [00:10<00:30, 327.23it/s]"
     ]
    },
    {
     "name": "stdout",
     "output_type": "stream",
     "text": [
      "spn in phoneseq Interval(0.0, 0.49, \"mobbs\") ['spn']\n",
      "spn in phoneseq Interval(1.09, 1.7, \"faggots\") ['spn']\n",
      "spn in phoneseq Interval(2.34, 3.69, \"reinvigorated\") ['spn']\n",
      "spn in phoneseq Interval(3.98, 4.77, \"fumigated\") ['spn']\n",
      "spn in phoneseq Interval(0.25, 0.79, \"prs\") ['spn']\n",
      "spn in phoneseq Interval(0.0, 0.69, \"barthelemy\") ['spn']\n",
      "spn in phoneseq Interval(0.16, 0.85, \"courvoisier\") ['spn']\n",
      "spn in phoneseq Interval(3.98, 4.36, \"misess\") ['spn']\n",
      "spn in phoneseq Interval(1.37, 2.28, \"proteinaceous\") ['spn']\n",
      "spn in phoneseq Interval(6.13, 6.86, \"nitocris\") ['spn']\n",
      "spn in phoneseq Interval(0.97, 1.6, \"founts\") ['spn']\n",
      "spn in phoneseq Interval(0.0, 0.64, \"oswalds\") ['spn']\n",
      "spn in phoneseq Interval(0.0, 0.43, \"roupell\") ['spn']\n",
      "spn in phoneseq Interval(1.55, 1.99, \"allnutt\") ['spn']\n",
      "spn in phoneseq Interval(3.94, 4.8, \"marshalsea\") ['spn']\n",
      "spn in phoneseq Interval(1.0, 1.6, \"chummage\") ['spn']\n",
      "spn in phoneseq Interval(0.79, 0.87, \"didn\") ['spn']\n"
     ]
    },
    {
     "name": "stderr",
     "output_type": "stream",
     "text": [
      " 25%|███████████████▎                                             | 3291/13100 [00:10<00:29, 333.64it/s]"
     ]
    },
    {
     "name": "stdout",
     "output_type": "stream",
     "text": [
      "spn in phoneseq Interval(0.0, 0.38, \"misess\") ['spn']\n",
      "spn in phoneseq Interval(0.38, 0.92, \"connally\") ['spn']\n",
      "spn in phoneseq Interval(8.65, 8.95, \"doesn\") ['spn']\n",
      "spn in phoneseq Interval(0.0, 0.58, \"kellermans\") ['spn']\n",
      "spn in phoneseq Interval(0.08, 0.84, \"mohrenschildt\") ['spn']\n",
      "spn in phoneseq Interval(5.03, 5.47, \"whiling\") ['spn']\n",
      "spn in phoneseq Interval(0.15, 0.7, \"parkers\") ['spn']\n",
      "spn in phoneseq Interval(0.39, 0.91, \"hibner\") ['spn']\n",
      "spn in phoneseq Interval(7.41, 8.1, \"predicable\") ['spn']\n",
      "spn in phoneseq Interval(0.18, 0.76, \"brennans\") ['spn']\n",
      "spn in phoneseq Interval(0.84, 1.39, \"johnsons\") ['spn']\n",
      "spn in phoneseq Interval(6.82, 7.61, \"judice\") ['spn']\n",
      "spn in phoneseq Interval(0.0, 0.42, \"stuckey\") ['spn']\n"
     ]
    },
    {
     "name": "stderr",
     "output_type": "stream",
     "text": [
      " 26%|███████████████▋                                             | 3360/13100 [00:10<00:29, 325.57it/s]"
     ]
    },
    {
     "name": "stdout",
     "output_type": "stream",
     "text": [
      "spn in phoneseq Interval(2.46, 3.12, \"oswalds\") ['spn']\n",
      "spn in phoneseq Interval(0.0, 0.58, \"hostys\") ['spn']\n",
      "spn in phoneseq Interval(4.17, 4.76, \"referrals\") ['spn']\n",
      "spn in phoneseq Interval(3.16, 3.81, \"palmprint\") ['spn']\n",
      "spn in phoneseq Interval(4.98, 5.54, \"chevaux\") ['spn']\n",
      "spn in phoneseq Interval(5.63, 6.1, \"frise\") ['spn']\n",
      "spn in phoneseq Interval(1.35, 1.42, \"misess\") ['spn']\n",
      "spn in phoneseq Interval(1.42, 2.21, \"phipoe\") ['spn']\n",
      "spn in phoneseq Interval(1.09, 1.76, \"starchy\") ['spn']\n",
      "spn in phoneseq Interval(5.34, 6.09, \"delustered\") ['spn']\n",
      "spn in phoneseq Interval(6.09, 6.69, \"viscose\") ['spn']\n",
      "spn in phoneseq Interval(2.95, 3.5, \"fraziers\") ['spn']\n",
      "spn in phoneseq Interval(8.56, 9.44, \"roominghouse\") ['spn']\n",
      "spn in phoneseq Interval(3.99, 4.66, \"wakefields\") ['spn']\n",
      "spn in phoneseq Interval(5.1, 5.67, \"hosty\") ['spn']\n",
      "spn in phoneseq Interval(1.07, 1.72, \"oswalds\") ['spn']\n",
      "spn in phoneseq Interval(0.55, 0.83, \"hillah\") ['spn']\n",
      "spn in phoneseq Interval(2.72, 3.33, \"oswalds\") ['spn']\n",
      "spn in phoneseq Interval(1.21, 1.93, \"oswalds\") ['spn']\n",
      "spn in phoneseq Interval(4.59, 5.3, \"orwells\") ['spn']\n",
      "spn in phoneseq Interval(7.45, 8.01, \"oswalds\") ['spn']\n",
      "spn in phoneseq Interval(0.32, 0.95, \"stombaugh\") ['spn']\n"
     ]
    },
    {
     "name": "stderr",
     "output_type": "stream",
     "text": [
      " 26%|███████████████▉                                             | 3427/13100 [00:11<00:31, 304.00it/s]"
     ]
    },
    {
     "name": "stdout",
     "output_type": "stream",
     "text": [
      "spn in phoneseq Interval(0.35, 0.88, \"hosty\") ['spn']\n",
      "spn in phoneseq Interval(0.44, 1.03, \"roupell\") ['spn']\n",
      "spn in phoneseq Interval(6.45, 7.01, \"roupells\") ['spn']\n",
      "spn in phoneseq Interval(1.79, 2.63, \"habitue\") ['spn']\n",
      "spn in phoneseq Interval(0.0, 0.57, \"oswalds\") ['spn']\n",
      "spn in phoneseq Interval(0.0, 0.32, \"misess\") ['spn']\n",
      "spn in phoneseq Interval(2.1, 2.67, \"oswalds\") ['spn']\n",
      "spn in phoneseq Interval(1.02, 1.8, \"starchy\") ['spn']\n",
      "spn in phoneseq Interval(1.11, 1.48, \"misess\") ['spn']\n",
      "spn in phoneseq Interval(2.0, 2.33, \"misess\") ['spn']\n",
      "spn in phoneseq Interval(3.52, 4.17, \"mullay\") ['spn']\n",
      "spn in phoneseq Interval(4.87, 5.17, \"mullay\") ['spn']\n",
      "spn in phoneseq Interval(2.04, 2.54, \"mcwatters\") ['spn']\n"
     ]
    },
    {
     "name": "stderr",
     "output_type": "stream",
     "text": [
      " 27%|████████████████▎                                            | 3493/13100 [00:11<00:30, 311.50it/s]"
     ]
    },
    {
     "name": "stdout",
     "output_type": "stream",
     "text": [
      "spn in phoneseq Interval(6.18, 6.94, \"briefless\") ['spn']\n",
      "spn in phoneseq Interval(0.59, 1.24, \"castros\") ['spn']\n",
      "spn in phoneseq Interval(3.38, 3.81, \"citys\") ['spn']\n",
      "spn in phoneseq Interval(0.0, 0.43, \"misess\") ['spn']\n",
      "spn in phoneseq Interval(0.43, 0.78, \"murret\") ['spn']\n",
      "spn in phoneseq Interval(0.45, 0.95, \"fasson\") ['spn']\n",
      "spn in phoneseq Interval(5.53, 6.22, \"oswalds\") ['spn']\n",
      "spn in phoneseq Interval(0.27, 1.14, \"smethurst\") ['spn']\n",
      "spn in phoneseq Interval(1.46, 2.19, \"contravention\") ['spn']\n",
      "spn in phoneseq Interval(2.1, 2.73, \"oswalds\") ['spn']\n",
      "spn in phoneseq Interval(0.19, 0.78, \"tarpeys\") ['spn']\n",
      "spn in phoneseq Interval(1.62, 2.0, \"wifes\") ['spn']\n",
      "spn in phoneseq Interval(0.0, 0.52, \"hostys\") ['spn']\n"
     ]
    },
    {
     "name": "stderr",
     "output_type": "stream",
     "text": [
      " 27%|████████████████▌                                            | 3562/13100 [00:11<00:29, 322.27it/s]"
     ]
    },
    {
     "name": "stdout",
     "output_type": "stream",
     "text": [
      "spn in phoneseq Interval(4.82, 5.85, \"spectrographic\") ['spn']\n",
      "spn in phoneseq Interval(0.24, 0.7, \"thurtell\") ['spn']\n",
      "spn in phoneseq Interval(6.59, 7.41, \"lefroy\") ['spn']\n",
      "spn in phoneseq Interval(4.06, 4.58, \"gauger\") ['spn']\n",
      "spn in phoneseq Interval(8.65, 9.06, \"misess\") ['spn']\n",
      "spn in phoneseq Interval(4.46, 5.33, \"nebuchadnezzars\") ['spn']\n",
      "spn in phoneseq Interval(2.62, 2.97, \"misess\") ['spn']\n",
      "spn in phoneseq Interval(3.37, 3.76, \"sorrels\") ['spn']\n",
      "spn in phoneseq Interval(3.75, 4.55, \"laverstock\") ['spn']\n",
      "spn in phoneseq Interval(1.28, 1.82, \"krapps\") ['spn']\n",
      "spn in phoneseq Interval(2.15, 3.11, \"patrolman\") ['spn']\n",
      "spn in phoneseq Interval(3.11, 3.21, \"tippit\") ['spn']\n",
      "spn in phoneseq Interval(3.66, 4.31, \"oswalds\") ['spn']\n",
      "spn in phoneseq Interval(4.31, 4.85, \"lunchroom\") ['spn']\n",
      "spn in phoneseq Interval(3.36, 4.36, \"fpcc\") ['spn']\n",
      "spn in phoneseq Interval(2.01, 2.51, \"euins\") ['spn']\n"
     ]
    },
    {
     "name": "stderr",
     "output_type": "stream",
     "text": [
      " 28%|████████████████▉                                            | 3634/13100 [00:11<00:27, 338.51it/s]"
     ]
    },
    {
     "name": "stdout",
     "output_type": "stream",
     "text": [
      "spn in phoneseq Interval(1.99, 2.99, \"firers\") ['spn']\n",
      "spn in phoneseq Interval(2.72, 3.08, \"misess\") ['spn']\n",
      "spn in phoneseq Interval(8.39, 9.22, \"palmprint\") ['spn']\n",
      "spn in phoneseq Interval(3.49, 4.44, \"handspikes\") ['spn']\n",
      "spn in phoneseq Interval(2.14, 2.53, \"wifes\") ['spn']\n",
      "spn in phoneseq Interval(0.24, 0.74, \"carrico\") ['spn']\n",
      "spn in phoneseq Interval(1.62, 2.21, \"euins\") ['spn']\n",
      "spn in phoneseq Interval(2.31, 3.1, \"praecipe\") ['spn']\n",
      "spn in phoneseq Interval(6.15, 6.63, \"neild\") ['spn']\n",
      "spn in phoneseq Interval(1.21, 2.09, \"ejectment\") ['spn']\n",
      "spn in phoneseq Interval(0.0, 0.64, \"vartos\") ['spn']\n",
      "spn in phoneseq Interval(2.96, 3.55, \"paines\") ['spn']\n",
      "spn in phoneseq Interval(5.18, 5.56, \"misess\") ['spn']\n",
      "spn in phoneseq Interval(7.99, 8.61, \"oswalds\") ['spn']\n",
      "spn in phoneseq Interval(0.0, 0.79, \"oswalds\") ['spn']\n",
      "spn in phoneseq Interval(2.66, 3.52, \"prs\") ['spn']\n",
      "spn in phoneseq Interval(0.84, 1.69, \"michaelis\") ['spn']\n",
      "spn in phoneseq Interval(1.48, 1.72, \"misess\") ['spn']\n",
      "spn in phoneseq Interval(0.51, 1.42, \"underwriters\") ['spn']\n",
      "spn in phoneseq Interval(3.22, 4.01, \"majestys\") ['spn']\n"
     ]
    },
    {
     "name": "stderr",
     "output_type": "stream",
     "text": [
      " 28%|█████████████████▎                                           | 3706/13100 [00:11<00:28, 325.74it/s]"
     ]
    },
    {
     "name": "stdout",
     "output_type": "stream",
     "text": [
      "spn in phoneseq Interval(2.14, 3.06, \"defalcations\") ['spn']\n",
      "spn in phoneseq Interval(4.25, 4.99, \"greenacres\") ['spn']\n",
      "spn in phoneseq Interval(8.78, 9.39, \"hudsons\") ['spn']\n",
      "spn in phoneseq Interval(3.14, 3.84, \"retchings\") ['spn']\n",
      "spn in phoneseq Interval(3.98, 4.72, \"vomitings\") ['spn']\n",
      "spn in phoneseq Interval(5.36, 6.21, \"prs\") ['spn']\n",
      "spn in phoneseq Interval(1.57, 2.0, \"dealey\") ['spn']\n",
      "spn in phoneseq Interval(2.63, 3.05, \"connally\") ['spn']\n",
      "spn in phoneseq Interval(2.48, 3.14, \"oswalds\") ['spn']\n",
      "spn in phoneseq Interval(5.89, 6.73, \"feloniously\") ['spn']\n",
      "spn in phoneseq Interval(5.73, 6.64, \"misdemeanants\") ['spn']\n",
      "spn in phoneseq Interval(0.43, 1.09, \"caslon\") ['spn']\n",
      "spn in phoneseq Interval(1.21, 2.28, \"perennibranchs\") ['spn']\n",
      "spn in phoneseq Interval(8.25, 9.15, \"caducibranch\") ['spn']\n",
      "spn in phoneseq Interval(3.69, 4.44, \"oxenford\") ['spn']\n",
      "spn in phoneseq Interval(2.97, 3.91, \"protoplasm\") ['spn']\n",
      "spn in phoneseq Interval(2.8, 3.45, \"oswalds\") ['spn']\n",
      "spn in phoneseq Interval(2.34, 2.86, \"roupell\") ['spn']\n",
      "spn in phoneseq Interval(2.11, 2.98, \"stauntons\") ['spn']\n",
      "spn in phoneseq Interval(3.84, 4.26, \"misess\") ['spn']\n"
     ]
    },
    {
     "name": "stderr",
     "output_type": "stream",
     "text": [
      " 29%|█████████████████▌                                           | 3779/13100 [00:12<00:27, 342.12it/s]"
     ]
    },
    {
     "name": "stdout",
     "output_type": "stream",
     "text": [
      "spn in phoneseq Interval(2.91, 3.39, \"russells\") ['spn']\n",
      "spn in phoneseq Interval(0.06, 0.65, \"latters\") ['spn']\n",
      "spn in phoneseq Interval(4.49, 5.03, \"chandlers\") ['spn']\n",
      "spn in phoneseq Interval(0.56, 0.84, \"anns\") ['spn']\n",
      "spn in phoneseq Interval(1.52, 2.11, \"giltspur\") ['spn']\n",
      "spn in phoneseq Interval(3.39, 4.06, \"compters\") ['spn']\n",
      "spn in phoneseq Interval(0.68, 1.43, \"lujan\") ['spn']\n",
      "spn in phoneseq Interval(0.25, 0.95, \"pentonville\") ['spn']\n",
      "spn in phoneseq Interval(0.23, 0.6, \"misess\") ['spn']\n",
      "spn in phoneseq Interval(3.19, 4.04, \"abstracting\") ['spn']\n",
      "spn in phoneseq Interval(3.36, 4.31, \"parasitically\") ['spn']\n",
      "spn in phoneseq Interval(1.39, 1.93, \"oswalds\") ['spn']\n",
      "spn in phoneseq Interval(1.75, 2.63, \"hystaspes\") ['spn']\n",
      "spn in phoneseq Interval(4.62, 5.38, \"babylonians\") ['spn']\n",
      "spn in phoneseq Interval(5.04, 5.99, \"unwholesomely\") ['spn']\n",
      "spn in phoneseq Interval(3.97, 4.0, \"didn\") ['spn']\n"
     ]
    },
    {
     "name": "stderr",
     "output_type": "stream",
     "text": [
      " 29%|█████████████████▉                                           | 3847/13100 [00:12<00:28, 320.35it/s]"
     ]
    },
    {
     "name": "stdout",
     "output_type": "stream",
     "text": [
      "spn in phoneseq Interval(3.03, 3.47, \"neild\") ['spn']\n",
      "spn in phoneseq Interval(0.0, 0.56, \"neches\") ['spn']\n",
      "spn in phoneseq Interval(2.39, 3.09, \"roominghouse\") ['spn']\n",
      "spn in phoneseq Interval(2.51, 3.3, \"reymond\") ['spn']\n",
      "spn in phoneseq Interval(4.84, 5.07, \"mcwatters\") ['spn']\n",
      "spn in phoneseq Interval(5.1, 5.44, \"busdriver\") ['spn']\n",
      "spn in phoneseq Interval(6.64, 7.22, \"companys\") ['spn']\n",
      "spn in phoneseq Interval(1.81, 2.52, \"bridewell\") ['spn']\n",
      "spn in phoneseq Interval(4.77, 5.45, \"millbank\") ['spn']\n",
      "spn in phoneseq Interval(0.0, 0.83, \"prs\") ['spn']\n",
      "spn in phoneseq Interval(0.45, 1.33, \"inanimated\") ['spn']\n",
      "spn in phoneseq Interval(2.51, 3.34, \"bousfield\") ['spn']\n",
      "spn in phoneseq Interval(0.0, 0.98, \"excretions\") ['spn']\n"
     ]
    },
    {
     "name": "stderr",
     "output_type": "stream",
     "text": [
      " 30%|██████████████████▏                                          | 3915/13100 [00:12<00:28, 318.59it/s]"
     ]
    },
    {
     "name": "stdout",
     "output_type": "stream",
     "text": [
      "spn in phoneseq Interval(0.14, 0.58, \"stuckey\") ['spn']\n",
      "spn in phoneseq Interval(1.28, 1.64, \"misess\") ['spn']\n",
      "spn in phoneseq Interval(5.95, 6.2, \"didn\") ['spn']\n",
      "spn in phoneseq Interval(7.94, 8.4, \"oswalds\") ['spn']\n",
      "spn in phoneseq Interval(3.98, 4.59, \"lunchroom\") ['spn']\n",
      "spn in phoneseq Interval(1.37, 2.19, \"animadverted\") ['spn']\n",
      "spn in phoneseq Interval(2.32, 2.9, \"patrolman\") ['spn']\n",
      "spn in phoneseq Interval(3.78, 4.24, \"tippit\") ['spn']\n",
      "spn in phoneseq Interval(1.98, 2.52, \"oswalds\") ['spn']\n",
      "spn in phoneseq Interval(7.52, 8.34, \"procurable\") ['spn']\n",
      "spn in phoneseq Interval(0.0, 0.37, \"misess\") ['spn']\n",
      "spn in phoneseq Interval(1.44, 1.9, \"hosty\") ['spn']\n",
      "spn in phoneseq Interval(6.22, 6.64, \"misess\") ['spn']\n",
      "spn in phoneseq Interval(5.18, 5.8, \"giltspur\") ['spn']\n"
     ]
    },
    {
     "name": "stderr",
     "output_type": "stream",
     "text": [
      " 31%|██████████████████▋                                          | 4014/13100 [00:12<00:28, 317.31it/s]"
     ]
    },
    {
     "name": "stdout",
     "output_type": "stream",
     "text": [
      "spn in phoneseq Interval(7.99, 8.73, \"sorrels\") ['spn']\n",
      "spn in phoneseq Interval(3.92, 4.47, \"cadigan\") ['spn']\n",
      "spn in phoneseq Interval(0.0, 0.38, \"misess\") ['spn']\n",
      "spn in phoneseq Interval(0.38, 0.81, \"connally\") ['spn']\n",
      "spn in phoneseq Interval(5.63, 6.66, \"misfires\") ['spn']\n",
      "spn in phoneseq Interval(3.7, 4.26, \"oswalds\") ['spn']\n",
      "spn in phoneseq Interval(1.07, 1.55, \"jebb\") ['spn']\n",
      "spn in phoneseq Interval(2.66, 3.23, \"oswalds\") ['spn']\n",
      "spn in phoneseq Interval(0.0, 0.36, \"misess\") ['spn']\n",
      "spn in phoneseq Interval(2.15, 2.71, \"oswalds\") ['spn']\n",
      "spn in phoneseq Interval(0.25, 0.74, \"whaleys\") ['spn']\n",
      "spn in phoneseq Interval(0.55, 1.13, \"patrolman\") ['spn']\n",
      "spn in phoneseq Interval(1.13, 1.69, \"tippit\") ['spn']\n",
      "spn in phoneseq Interval(0.78, 1.46, \"urgings\") ['spn']\n",
      "spn in phoneseq Interval(0.0, 0.6, \"patrolman\") ['spn']\n",
      "spn in phoneseq Interval(1.27, 1.73, \"tippit\") ['spn']\n",
      "spn in phoneseq Interval(3.21, 3.63, \"misess\") ['spn']\n",
      "spn in phoneseq Interval(1.93, 2.28, \"tippit\") ['spn']\n"
     ]
    },
    {
     "name": "stderr",
     "output_type": "stream",
     "text": [
      " 31%|██████████████████▉                                          | 4078/13100 [00:13<00:28, 312.43it/s]"
     ]
    },
    {
     "name": "stdout",
     "output_type": "stream",
     "text": [
      "spn in phoneseq Interval(0.62, 1.11, \"hocker\") ['spn']\n",
      "spn in phoneseq Interval(8.81, 9.3, \"libitum\") ['spn']\n",
      "spn in phoneseq Interval(0.0, 0.36, \"misess\") ['spn']\n",
      "spn in phoneseq Interval(2.67, 3.28, \"greenacre\") ['spn']\n",
      "spn in phoneseq Interval(2.18, 2.84, \"thurtell\") ['spn']\n",
      "spn in phoneseq Interval(1.46, 2.06, \"thistlewood\") ['spn']\n",
      "spn in phoneseq Interval(0.91, 1.65, \"proteids\") ['spn']\n",
      "spn in phoneseq Interval(8.4, 9.35, \"protoplasm\") ['spn']\n",
      "spn in phoneseq Interval(3.35, 3.65, \"misess\") ['spn']\n",
      "spn in phoneseq Interval(1.87, 2.65, \"colchicum\") ['spn']\n",
      "spn in phoneseq Interval(4.18, 4.58, \"misess\") ['spn']\n",
      "spn in phoneseq Interval(0.0, 0.62, \"thistlewood\") ['spn']\n",
      "spn in phoneseq Interval(7.22, 8.09, \"vilification\") ['spn']\n",
      "spn in phoneseq Interval(1.33, 1.92, \"pentonville\") ['spn']\n",
      "spn in phoneseq Interval(2.08, 2.87, \"roominghouse\") ['spn']\n",
      "spn in phoneseq Interval(4.35, 5.1, \"oswalds\") ['spn']\n",
      "spn in phoneseq Interval(6.57, 7.27, \"cartons\") ['spn']\n",
      "spn in phoneseq Interval(0.58, 0.97, \"misess\") ['spn']\n",
      "spn in phoneseq Interval(6.2, 6.73, \"carrico\") ['spn']\n"
     ]
    },
    {
     "name": "stderr",
     "output_type": "stream",
     "text": [
      " 32%|███████████████████▎                                         | 4142/13100 [00:13<00:29, 307.06it/s]"
     ]
    },
    {
     "name": "stdout",
     "output_type": "stream",
     "text": [
      "spn in phoneseq Interval(4.83, 5.45, \"disbursed\") ['spn']\n",
      "spn in phoneseq Interval(1.4, 1.94, \"stemmons\") ['spn']\n",
      "spn in phoneseq Interval(4.37, 5.14, \"scoggins\") ['spn']\n",
      "spn in phoneseq Interval(3.82, 4.77, \"canonicals\") ['spn']\n",
      "spn in phoneseq Interval(0.57, 0.92, \"misess\") ['spn']\n",
      "spn in phoneseq Interval(0.0, 0.42, \"probert\") ['spn']\n",
      "spn in phoneseq Interval(4.85, 5.59, \"thurtell\") ['spn']\n",
      "spn in phoneseq Interval(2.5, 3.05, \"greaser\") ['spn']\n",
      "spn in phoneseq Interval(7.61, 8.02, \"reily\") ['spn']\n",
      "spn in phoneseq Interval(6.05, 7.17, \"notorieties\") ['spn']\n",
      "spn in phoneseq Interval(1.07, 1.72, \"dismaying\") ['spn']\n",
      "spn in phoneseq Interval(1.68, 2.06, \"misess\") ['spn']\n",
      "spn in phoneseq Interval(2.43, 2.94, \"carrico\") ['spn']\n",
      "spn in phoneseq Interval(3.22, 3.55, \"didn\") ['spn']\n"
     ]
    },
    {
     "name": "stderr",
     "output_type": "stream",
     "text": [
      " 32%|███████████████████▌                                         | 4209/13100 [00:13<00:27, 319.19it/s]"
     ]
    },
    {
     "name": "stdout",
     "output_type": "stream",
     "text": [
      "spn in phoneseq Interval(0.88, 1.58, \"marshalsea\") ['spn']\n",
      "spn in phoneseq Interval(6.83, 7.48, \"robsons\") ['spn']\n",
      "spn in phoneseq Interval(3.17, 3.53, \"wifes\") ['spn']\n",
      "spn in phoneseq Interval(1.32, 2.08, \"sorrels\") ['spn']\n",
      "spn in phoneseq Interval(1.64, 2.3, \"cranworth\") ['spn']\n",
      "spn in phoneseq Interval(4.46, 5.3, \"societys\") ['spn']\n",
      "spn in phoneseq Interval(0.3, 0.82, \"bankes\") ['spn']\n",
      "spn in phoneseq Interval(3.56, 4.34, \"whitewashing\") ['spn']\n",
      "spn in phoneseq Interval(7.16, 8.01, \"marsalis\") ['spn']\n",
      "spn in phoneseq Interval(7.3, 7.98, \"undated\") ['spn']\n",
      "spn in phoneseq Interval(4.26, 4.6, \"misess\") ['spn']\n",
      "spn in phoneseq Interval(4.93, 5.3, \"misess\") ['spn']\n",
      "spn in phoneseq Interval(0.0, 0.31, \"misess\") ['spn']\n",
      "spn in phoneseq Interval(5.69, 6.09, \"buncher\") ['spn']\n",
      "spn in phoneseq Interval(3.29, 3.92, \"haggerty\") ['spn']\n"
     ]
    },
    {
     "name": "stderr",
     "output_type": "stream",
     "text": [
      " 33%|███████████████████▉                                         | 4276/13100 [00:13<00:28, 305.48it/s]"
     ]
    },
    {
     "name": "stdout",
     "output_type": "stream",
     "text": [
      "spn in phoneseq Interval(3.93, 4.63, \"centurys\") ['spn']\n",
      "spn in phoneseq Interval(4.84, 5.51, \"cartons\") ['spn']\n",
      "spn in phoneseq Interval(2.44, 3.1, \"oswalds\") ['spn']\n",
      "spn in phoneseq Interval(1.15, 1.76, \"wardsman\") ['spn']\n",
      "spn in phoneseq Interval(6.27, 7.35, \"spitalfields\") ['spn']\n",
      "spn in phoneseq Interval(5.2, 5.83, \"catabolic\") ['spn']\n",
      "spn in phoneseq Interval(6.5, 7.32, \"characterless\") ['spn']\n",
      "spn in phoneseq Interval(0.09, 0.55, \"lears\") ['spn']\n",
      "spn in phoneseq Interval(1.62, 2.53, \"protoplasm\") ['spn']\n",
      "spn in phoneseq Interval(0.0, 0.6, \"calcraft\") ['spn']\n",
      "spn in phoneseq Interval(5.61, 6.19, \"tylers\") ['spn']\n",
      "spn in phoneseq Interval(1.33, 2.17, \"ilchester\") ['spn']\n",
      "spn in phoneseq Interval(0.41, 1.13, \"damnatory\") ['spn']\n"
     ]
    },
    {
     "name": "stderr",
     "output_type": "stream",
     "text": [
      " 33%|████████████████████▏                                        | 4344/13100 [00:13<00:27, 319.63it/s]"
     ]
    },
    {
     "name": "stdout",
     "output_type": "stream",
     "text": [
      "spn in phoneseq Interval(0.0, 0.71, \"nabonidus\") ['spn']\n",
      "spn in phoneseq Interval(3.88, 4.77, \"marchesvan\") ['spn']\n",
      "spn in phoneseq Interval(2.25, 3.0, \"backboned\") ['spn']\n",
      "spn in phoneseq Interval(1.52, 2.09, \"sorrels\") ['spn']\n",
      "spn in phoneseq Interval(2.45, 2.86, \"behn\") ['spn']\n",
      "spn in phoneseq Interval(2.17, 2.98, \"smethurst\") ['spn']\n",
      "spn in phoneseq Interval(2.19, 3.07, \"marsolino\") ['spn']\n",
      "spn in phoneseq Interval(3.48, 3.97, \"reprieved\") ['spn']\n",
      "spn in phoneseq Interval(3.77, 4.5, \"bubbletop\") ['spn']\n",
      "spn in phoneseq Interval(1.14, 1.44, \"tippit\") ['spn']\n",
      "spn in phoneseq Interval(3.36, 4.07, \"potman\") ['spn']\n",
      "spn in phoneseq Interval(3.66, 3.93, \"misess\") ['spn']\n",
      "spn in phoneseq Interval(2.35, 2.85, \"sorrels\") ['spn']\n",
      "spn in phoneseq Interval(4.08, 4.75, \"zopyrus\") ['spn']\n",
      "spn in phoneseq Interval(2.59, 3.25, \"oswalds\") ['spn']\n"
     ]
    },
    {
     "name": "stderr",
     "output_type": "stream",
     "text": [
      " 34%|████████████████████▌                                        | 4412/13100 [00:14<00:27, 316.30it/s]"
     ]
    },
    {
     "name": "stdout",
     "output_type": "stream",
     "text": [
      "spn in phoneseq Interval(1.07, 1.88, \"protoplasm\") ['spn']\n",
      "spn in phoneseq Interval(2.08, 2.83, \"proteids\") ['spn']\n",
      "spn in phoneseq Interval(4.16, 4.88, \"oswalds\") ['spn']\n",
      "spn in phoneseq Interval(1.22, 1.32, \"didn\") ['spn']\n",
      "spn in phoneseq Interval(0.23, 1.18, \"babylonians\") ['spn']\n",
      "spn in phoneseq Interval(6.46, 6.9, \"tippit\") ['spn']\n",
      "spn in phoneseq Interval(8.09, 8.88, \"regimented\") ['spn']\n",
      "spn in phoneseq Interval(1.95, 2.37, \"misess\") ['spn']\n",
      "spn in phoneseq Interval(0.96, 1.62, \"oswalds\") ['spn']\n",
      "spn in phoneseq Interval(5.48, 5.93, \"paines\") ['spn']\n",
      "spn in phoneseq Interval(7.43, 7.97, \"oswalds\") ['spn']\n",
      "spn in phoneseq Interval(2.48, 3.28, \"calcraft\") ['spn']\n"
     ]
    },
    {
     "name": "stderr",
     "output_type": "stream",
     "text": [
      " 34%|████████████████████▊                                        | 4481/13100 [00:14<00:28, 306.70it/s]"
     ]
    },
    {
     "name": "stdout",
     "output_type": "stream",
     "text": [
      "spn in phoneseq Interval(2.29, 3.05, \"smethurst\") ['spn']\n",
      "spn in phoneseq Interval(0.21, 1.03, \"thistlewood\") ['spn']\n",
      "spn in phoneseq Interval(3.47, 4.25, \"sepulchres\") ['spn']\n",
      "spn in phoneseq Interval(1.83, 2.62, \"zulueta\") ['spn']\n",
      "spn in phoneseq Interval(0.61, 0.93, \"misess\") ['spn']\n",
      "spn in phoneseq Interval(0.9, 1.56, \"whitecross\") ['spn']\n",
      "spn in phoneseq Interval(4.8, 5.45, \"hideel\") ['spn']\n",
      "spn in phoneseq Interval(4.08, 4.8, \"sullivans\") ['spn']\n",
      "spn in phoneseq Interval(4.39, 4.9, \"lunchroom\") ['spn']\n",
      "spn in phoneseq Interval(1.6, 2.68, \"misappropriated\") ['spn']\n",
      "spn in phoneseq Interval(6.77, 7.4, \"stemmons\") ['spn']\n",
      "spn in phoneseq Interval(1.26, 1.75, \"probative\") ['spn']\n",
      "spn in phoneseq Interval(5.31, 6.04, \"shanklin\") ['spn']\n",
      "spn in phoneseq Interval(1.87, 2.62, \"ryders\") ['spn']\n",
      "spn in phoneseq Interval(0.4, 0.97, \"rakings\") ['spn']\n",
      "spn in phoneseq Interval(1.72, 2.38, \"oswalds\") ['spn']\n"
     ]
    },
    {
     "name": "stderr",
     "output_type": "stream",
     "text": [
      " 35%|█████████████████████▏                                       | 4549/13100 [00:14<00:26, 317.49it/s]"
     ]
    },
    {
     "name": "stdout",
     "output_type": "stream",
     "text": [
      "spn in phoneseq Interval(1.31, 1.97, \"oswalds\") ['spn']\n",
      "spn in phoneseq Interval(0.65, 1.2, \"probert\") ['spn']\n",
      "spn in phoneseq Interval(2.56, 3.07, \"neches\") ['spn']\n",
      "spn in phoneseq Interval(2.79, 3.44, \"impugned\") ['spn']\n",
      "spn in phoneseq Interval(8.36, 9.0, \"mally\") ['spn']\n",
      "spn in phoneseq Interval(4.9, 5.34, \"misess\") ['spn']\n",
      "spn in phoneseq Interval(5.34, 5.95, \"daulby\") ['spn']\n",
      "spn in phoneseq Interval(1.28, 2.02, \"incriminated\") ['spn']\n",
      "spn in phoneseq Interval(2.14, 2.57, \"wifes\") ['spn']\n",
      "spn in phoneseq Interval(7.79, 8.66, \"dietaries\") ['spn']\n",
      "spn in phoneseq Interval(1.05, 1.6, \"patrolman\") ['spn']\n",
      "spn in phoneseq Interval(2.16, 2.46, \"tippit\") ['spn']\n",
      "spn in phoneseq Interval(2.99, 3.9, \"prs\") ['spn']\n",
      "spn in phoneseq Interval(5.94, 6.79, \"proteids\") ['spn']\n",
      "spn in phoneseq Interval(7.21, 8.13, \"protoplasm\") ['spn']\n",
      "spn in phoneseq Interval(0.0, 0.35, \"misess\") ['spn']\n",
      "spn in phoneseq Interval(5.32, 6.01, \"euins\") ['spn']\n",
      "spn in phoneseq Interval(2.64, 3.42, \"shroeder\") ['spn']\n"
     ]
    },
    {
     "name": "stderr",
     "output_type": "stream",
     "text": [
      " 35%|█████████████████████▍                                       | 4616/13100 [00:14<00:26, 318.55it/s]"
     ]
    },
    {
     "name": "stdout",
     "output_type": "stream",
     "text": [
      "spn in phoneseq Interval(1.71, 2.37, \"redpaths\") ['spn']\n",
      "spn in phoneseq Interval(5.83, 6.83, \"reorganizing\") ['spn']\n",
      "spn in phoneseq Interval(0.0, 0.49, \"brennans\") ['spn']\n",
      "spn in phoneseq Interval(1.15, 1.57, \"guinyard\") ['spn']\n",
      "spn in phoneseq Interval(2.57, 3.2, \"springett\") ['spn']\n",
      "spn in phoneseq Interval(0.0, 0.38, \"misess\") ['spn']\n",
      "spn in phoneseq Interval(2.48, 3.16, \"esagil\") ['spn']\n",
      "spn in phoneseq Interval(3.99, 4.51, \"hidell\") ['spn']\n",
      "spn in phoneseq Interval(0.0, 0.61, \"angelini\") ['spn']\n",
      "spn in phoneseq Interval(0.68, 1.3, \"scoggins\") ['spn']\n",
      "spn in phoneseq Interval(3.62, 4.22, \"wardsmen\") ['spn']\n",
      "spn in phoneseq Interval(3.55, 3.9, \"misess\") ['spn']\n",
      "spn in phoneseq Interval(3.9, 4.43, \"mannings\") ['spn']\n",
      "spn in phoneseq Interval(2.28, 2.96, \"dietaries\") ['spn']\n"
     ]
    },
    {
     "name": "stderr",
     "output_type": "stream",
     "text": [
      " 36%|█████████████████████▊                                       | 4683/13100 [00:14<00:25, 324.87it/s]"
     ]
    },
    {
     "name": "stdout",
     "output_type": "stream",
     "text": [
      "spn in phoneseq Interval(2.42, 3.08, \"prs\") ['spn']\n",
      "spn in phoneseq Interval(4.59, 5.26, \"dasset\") ['spn']\n",
      "spn in phoneseq Interval(4.18, 4.84, \"benavides\") ['spn']\n",
      "spn in phoneseq Interval(1.19, 1.71, \"atwell\") ['spn']\n",
      "spn in phoneseq Interval(5.7, 6.36, \"saward\") ['spn']\n",
      "spn in phoneseq Interval(0.0, 0.39, \"misess\") ['spn']\n",
      "spn in phoneseq Interval(4.52, 5.12, \"connally\") ['spn']\n",
      "spn in phoneseq Interval(1.83, 2.69, \"handholds\") ['spn']\n",
      "spn in phoneseq Interval(4.59, 5.09, \"hostys\") ['spn']\n",
      "spn in phoneseq Interval(6.14, 6.5, \"misess\") ['spn']\n",
      "spn in phoneseq Interval(2.94, 3.9, \"caslons\") ['spn']\n",
      "spn in phoneseq Interval(3.97, 4.2, \"founts\") ['spn']\n",
      "spn in phoneseq Interval(5.67, 6.18, \"longman\") ['spn']\n",
      "spn in phoneseq Interval(0.8, 1.39, \"youngblood\") ['spn']\n",
      "spn in phoneseq Interval(1.93, 2.26, \"misess\") ['spn']\n",
      "spn in phoneseq Interval(0.0, 0.65, \"agardh\") ['spn']\n",
      "spn in phoneseq Interval(2.54, 3.11, \"cuviers\") ['spn']\n",
      "spn in phoneseq Interval(6.22, 6.87, \"stuckey\") ['spn']\n",
      "spn in phoneseq Interval(6.21, 7.31, \"notorieties\") ['spn']\n",
      "spn in phoneseq Interval(5.94, 6.63, \"prs\") ['spn']\n",
      "spn in phoneseq Interval(4.98, 5.59, \"oswalds\") ['spn']\n",
      "spn in phoneseq Interval(0.64, 1.43, \"stombaugh\") ['spn']\n",
      "spn in phoneseq Interval(7.25, 7.95, \"wardsmen\") ['spn']\n",
      "spn in phoneseq Interval(0.21, 0.82, \"wardsman\") ['spn']\n"
     ]
    },
    {
     "name": "stderr",
     "output_type": "stream",
     "text": [
      " 36%|██████████████████████▏                                      | 4752/13100 [00:15<00:25, 321.83it/s]"
     ]
    },
    {
     "name": "stdout",
     "output_type": "stream",
     "text": [
      "spn in phoneseq Interval(8.75, 9.6, \"emoluments\") ['spn']\n",
      "spn in phoneseq Interval(1.56, 2.73, \"nabopolassar\") ['spn']\n",
      "spn in phoneseq Interval(2.54, 3.35, \"roominghouse\") ['spn']\n",
      "spn in phoneseq Interval(1.49, 2.35, \"frequenters\") ['spn']\n",
      "spn in phoneseq Interval(3.36, 4.28, \"stationers\") ['spn']\n",
      "spn in phoneseq Interval(0.75, 1.39, \"correlating\") ['spn']\n",
      "spn in phoneseq Interval(3.22, 3.94, \"lunchroom\") ['spn']\n",
      "spn in phoneseq Interval(4.37, 4.72, \"misess\") ['spn']\n",
      "spn in phoneseq Interval(2.02, 3.59, \"wdsu\") ['spn']\n",
      "spn in phoneseq Interval(5.64, 6.33, \"bringuier\") ['spn']\n",
      "spn in phoneseq Interval(6.12, 7.25, \"notorieties\") ['spn']\n",
      "spn in phoneseq Interval(6.17, 6.66, \"latona\") ['spn']\n",
      "spn in phoneseq Interval(0.0, 0.43, \"voebel\") ['spn']\n",
      "spn in phoneseq Interval(0.2, 0.78, \"oswalds\") ['spn']\n",
      "spn in phoneseq Interval(3.0, 3.67, \"lovelady\") ['spn']\n",
      "spn in phoneseq Interval(4.63, 5.2, \"lunchroom\") ['spn']\n",
      "spn in phoneseq Interval(5.31, 6.0, \"mostyn\") ['spn']\n",
      "spn in phoneseq Interval(3.11, 3.33, \"didn\") ['spn']\n",
      "spn in phoneseq Interval(6.85, 7.65, \"unconvicted\") ['spn']\n"
     ]
    },
    {
     "name": "stderr",
     "output_type": "stream",
     "text": [
      " 37%|██████████████████████▍                                      | 4818/13100 [00:15<00:27, 302.31it/s]"
     ]
    },
    {
     "name": "stdout",
     "output_type": "stream",
     "text": [
      "spn in phoneseq Interval(3.9, 4.51, \"lunchroom\") ['spn']\n",
      "spn in phoneseq Interval(2.92, 3.44, \"oswalds\") ['spn']\n",
      "spn in phoneseq Interval(3.81, 5.08, \"barbariously\") ['spn']\n",
      "spn in phoneseq Interval(4.96, 5.85, \"civilize\") ['spn']\n",
      "spn in phoneseq Interval(1.88, 2.28, \"misess\") ['spn']\n",
      "spn in phoneseq Interval(2.23, 3.04, \"consignees\") ['spn']\n",
      "spn in phoneseq Interval(5.53, 6.07, \"patrolman\") ['spn']\n",
      "spn in phoneseq Interval(6.48, 7.24, \"majestys\") ['spn']\n",
      "spn in phoneseq Interval(0.4, 0.95, \"connally\") ['spn']\n",
      "spn in phoneseq Interval(1.64, 1.99, \"higgledy\") ['spn']\n",
      "spn in phoneseq Interval(1.99, 2.64, \"piggledy\") ['spn']\n",
      "spn in phoneseq Interval(1.63, 2.16, \"schwann\") ['spn']\n",
      "spn in phoneseq Interval(2.24, 2.9, \"schleiden\") ['spn']\n",
      "spn in phoneseq Interval(4.34, 4.93, \"shrigley\") ['spn']\n",
      "spn in phoneseq Interval(5.25, 5.71, \"turners\") ['spn']\n",
      "spn in phoneseq Interval(2.64, 3.34, \"wakefields\") ['spn']\n",
      "spn in phoneseq Interval(8.05, 8.98, \"fauntleroys\") ['spn']\n",
      "spn in phoneseq Interval(2.66, 3.11, \"paines\") ['spn']\n",
      "spn in phoneseq Interval(0.21, 0.62, \"misess\") ['spn']\n",
      "spn in phoneseq Interval(4.31, 5.11, \"courvoisier\") ['spn']\n",
      "spn in phoneseq Interval(0.28, 0.79, \"carrico\") ['spn']\n"
     ]
    },
    {
     "name": "stderr",
     "output_type": "stream",
     "text": [
      " 38%|██████████████████████▉                                      | 4922/13100 [00:15<00:25, 319.28it/s]"
     ]
    },
    {
     "name": "stdout",
     "output_type": "stream",
     "text": [
      "spn in phoneseq Interval(5.15, 5.65, \"gunmans\") ['spn']\n",
      "spn in phoneseq Interval(0.0, 0.43, \"cuvier\") ['spn']\n",
      "spn in phoneseq Interval(7.15, 7.54, \"misess\") ['spn']\n",
      "spn in phoneseq Interval(0.0, 0.49, \"sorrels\") ['spn']\n",
      "spn in phoneseq Interval(0.0, 0.57, \"taffir\") ['spn']\n",
      "spn in phoneseq Interval(3.14, 3.54, \"oswalds\") ['spn']\n",
      "spn in phoneseq Interval(0.0, 0.36, \"bouck\") ['spn']\n",
      "spn in phoneseq Interval(0.0, 0.34, \"wasn\") ['spn']\n",
      "spn in phoneseq Interval(6.52, 6.87, \"hosty\") ['spn']\n",
      "spn in phoneseq Interval(2.48, 2.84, \"misess\") ['spn']\n",
      "spn in phoneseq Interval(1.92, 2.32, \"hidell\") ['spn']\n",
      "spn in phoneseq Interval(6.86, 7.47, \"oswalds\") ['spn']\n",
      "spn in phoneseq Interval(4.93, 5.6, \"revelries\") ['spn']\n",
      "spn in phoneseq Interval(6.32, 7.28, \"notorieties\") ['spn']\n",
      "spn in phoneseq Interval(0.0, 0.73, \"oswalds\") ['spn']\n",
      "spn in phoneseq Interval(0.0, 0.33, \"neild\") ['spn']\n",
      "spn in phoneseq Interval(0.73, 1.1, \"misess\") ['spn']\n",
      "spn in phoneseq Interval(6.94, 7.0, \"misess\") ['spn']\n",
      "spn in phoneseq Interval(7.0, 7.74, \"linnie\") ['spn']\n"
     ]
    },
    {
     "name": "stderr",
     "output_type": "stream",
     "text": [
      " 38%|███████████████████████                                      | 4955/13100 [00:15<00:25, 320.29it/s]"
     ]
    },
    {
     "name": "stdout",
     "output_type": "stream",
     "text": [
      "spn in phoneseq Interval(0.61, 1.26, \"patrolman\") ['spn']\n",
      "spn in phoneseq Interval(3.63, 4.02, \"misess\") ['spn']\n",
      "spn in phoneseq Interval(5.26, 5.65, \"misess\") ['spn']\n",
      "spn in phoneseq Interval(2.47, 3.1, \"ekdahl\") ['spn']\n",
      "spn in phoneseq Interval(0.72, 1.43, \"oswalds\") ['spn']\n",
      "spn in phoneseq Interval(6.21, 6.84, \"lovelady\") ['spn']\n",
      "spn in phoneseq Interval(0.0, 0.62, \"patrolman\") ['spn']\n",
      "spn in phoneseq Interval(5.35, 5.99, \"hutson\") ['spn']\n",
      "spn in phoneseq Interval(8.4, 9.29, \"unicellar\") ['spn']\n",
      "spn in phoneseq Interval(1.55, 2.18, \"oswalds\") ['spn']\n",
      "spn in phoneseq Interval(0.0, 0.34, \"tippit\") ['spn']\n",
      "spn in phoneseq Interval(0.34, 0.37, \"summarizing\") ['spn']\n"
     ]
    },
    {
     "name": "stderr",
     "output_type": "stream",
     "text": [
      " 39%|███████████████████████▌                                     | 5053/13100 [00:16<00:25, 312.84it/s]"
     ]
    },
    {
     "name": "stdout",
     "output_type": "stream",
     "text": [
      "spn in phoneseq Interval(4.91, 5.67, \"aloman\") ['spn']\n",
      "spn in phoneseq Interval(6.02, 6.78, \"colsman\") ['spn']\n",
      "spn in phoneseq Interval(0.0, 0.54, \"marsalis\") ['spn']\n",
      "spn in phoneseq Interval(1.44, 2.16, \"marsalis\") ['spn']\n",
      "spn in phoneseq Interval(2.01, 2.48, \"altgens\") ['spn']\n",
      "spn in phoneseq Interval(0.62, 1.34, \"lefevre\") ['spn']\n",
      "spn in phoneseq Interval(4.36, 4.72, \"misess\") ['spn']\n",
      "spn in phoneseq Interval(4.24, 4.84, \"oswalds\") ['spn']\n",
      "spn in phoneseq Interval(5.5, 6.15, \"oswalds\") ['spn']\n",
      "spn in phoneseq Interval(1.73, 2.06, \"misess\") ['spn']\n",
      "spn in phoneseq Interval(0.15, 0.77, \"oswalds\") ['spn']\n",
      "spn in phoneseq Interval(0.0, 0.69, \"calcraft\") ['spn']\n"
     ]
    },
    {
     "name": "stderr",
     "output_type": "stream",
     "text": [
      " 39%|███████████████████████▊                                     | 5119/13100 [00:16<00:25, 319.08it/s]"
     ]
    },
    {
     "name": "stdout",
     "output_type": "stream",
     "text": [
      "spn in phoneseq Interval(5.79, 6.48, \"chaldasan\") ['spn']\n",
      "spn in phoneseq Interval(0.0, 0.29, \"hocker\") ['spn']\n",
      "spn in phoneseq Interval(2.51, 3.03, \"armless\") ['spn']\n",
      "spn in phoneseq Interval(0.16, 0.46, \"didn\") ['spn']\n",
      "spn in phoneseq Interval(6.84, 7.23, \"alek\") ['spn']\n",
      "spn in phoneseq Interval(8.18, 8.74, \"hidell\") ['spn']\n",
      "spn in phoneseq Interval(2.5, 3.03, \"mulcted\") ['spn']\n",
      "spn in phoneseq Interval(4.16, 4.68, \"bouhes\") ['spn']\n",
      "spn in phoneseq Interval(6.04, 6.8, \"mohrenschildt\") ['spn']\n",
      "spn in phoneseq Interval(5.86, 6.77, \"protoplasm\") ['spn']\n",
      "spn in phoneseq Interval(5.73, 6.46, \"colchicum\") ['spn']\n",
      "spn in phoneseq Interval(1.21, 1.81, \"disrobing\") ['spn']\n",
      "spn in phoneseq Interval(2.32, 2.92, \"companys\") ['spn']\n",
      "spn in phoneseq Interval(2.25, 2.68, \"euins\") ['spn']\n",
      "spn in phoneseq Interval(1.79, 2.46, \"libels\") ['spn']\n",
      "spn in phoneseq Interval(1.7, 2.09, \"misess\") ['spn']\n"
     ]
    },
    {
     "name": "stderr",
     "output_type": "stream",
     "text": [
      " 40%|████████████████████████▏                                    | 5184/13100 [00:16<00:24, 320.04it/s]"
     ]
    },
    {
     "name": "stdout",
     "output_type": "stream",
     "text": [
      "spn in phoneseq Interval(1.52, 2.62, \"discontinuance\") ['spn']\n",
      "spn in phoneseq Interval(0.06, 0.66, \"wardsman\") ['spn']\n",
      "spn in phoneseq Interval(1.9, 2.55, \"codify\") ['spn']\n",
      "spn in phoneseq Interval(2.49, 3.06, \"oswalds\") ['spn']\n",
      "spn in phoneseq Interval(0.0, 0.44, \"latona\") ['spn']\n",
      "spn in phoneseq Interval(0.0, 0.64, \"stationing\") ['spn']\n",
      "spn in phoneseq Interval(0.0, 0.46, \"misess\") ['spn']\n",
      "spn in phoneseq Interval(0.0, 0.58, \"calcraft\") ['spn']\n",
      "spn in phoneseq Interval(5.77, 6.45, \"handhold\") ['spn']\n",
      "spn in phoneseq Interval(1.72, 2.21, \"probative\") ['spn']\n",
      "spn in phoneseq Interval(0.0, 0.83, \"smethursts\") ['spn']\n",
      "spn in phoneseq Interval(0.69, 1.04, \"misess\") ['spn']\n",
      "spn in phoneseq Interval(1.26, 2.03, \"marshalsea\") ['spn']\n",
      "spn in phoneseq Interval(0.81, 1.56, \"firers\") ['spn']\n",
      "spn in phoneseq Interval(0.56, 1.42, \"barthelemy\") ['spn']\n",
      "spn in phoneseq Interval(4.09, 4.6, \"bunchers\") ['spn']\n",
      "spn in phoneseq Interval(0.0, 0.48, \"tippits\") ['spn']\n",
      "spn in phoneseq Interval(1.11, 1.56, \"giltspur\") ['spn']\n",
      "spn in phoneseq Interval(3.44, 4.08, \"bridewell\") ['spn']\n",
      "spn in phoneseq Interval(1.81, 2.65, \"scoggins\") ['spn']\n",
      "spn in phoneseq Interval(0.33, 1.31, \"malpractices\") ['spn']\n",
      "spn in phoneseq Interval(0.94, 1.56, \"oswalds\") ['spn']\n",
      "spn in phoneseq Interval(1.79, 2.34, \"patrolman\") ['spn']\n"
     ]
    },
    {
     "name": "stderr",
     "output_type": "stream",
     "text": [
      " 40%|████████████████████████▍                                    | 5249/13100 [00:16<00:26, 296.61it/s]"
     ]
    },
    {
     "name": "stdout",
     "output_type": "stream",
     "text": [
      "spn in phoneseq Interval(8.89, 9.73, \"ferments\") ['spn']\n",
      "spn in phoneseq Interval(1.78, 2.24, \"hocker\") ['spn']\n",
      "spn in phoneseq Interval(6.38, 7.13, \"altgens\") ['spn']\n",
      "spn in phoneseq Interval(8.17, 8.8, \"stemmons\") ['spn']\n",
      "spn in phoneseq Interval(0.0, 0.4, \"voebel\") ['spn']\n",
      "spn in phoneseq Interval(2.27, 2.58, \"wouldn\") ['spn']\n",
      "spn in phoneseq Interval(0.0, 0.72, \"benavides\") ['spn']\n",
      "spn in phoneseq Interval(1.25, 1.97, \"whitewashing\") ['spn']\n",
      "spn in phoneseq Interval(0.0, 0.99, \"incommodious\") ['spn']\n",
      "spn in phoneseq Interval(5.97, 6.63, \"forgers\") ['spn']\n",
      "spn in phoneseq Interval(3.79, 4.3, \"tippits\") ['spn']\n",
      "spn in phoneseq Interval(6.12, 6.79, \"thistlewood\") ['spn']\n",
      "spn in phoneseq Interval(7.06, 7.63, \"ings\") ['spn']\n",
      "spn in phoneseq Interval(5.41, 5.81, \"paines\") ['spn']\n"
     ]
    },
    {
     "name": "stderr",
     "output_type": "stream",
     "text": [
      " 41%|████████████████████████▋                                    | 5312/13100 [00:17<00:26, 296.44it/s]"
     ]
    },
    {
     "name": "stdout",
     "output_type": "stream",
     "text": [
      "spn in phoneseq Interval(0.0, 0.46, \"stuckey\") ['spn']\n",
      "spn in phoneseq Interval(8.64, 9.39, \"satler\") ['spn']\n",
      "spn in phoneseq Interval(4.71, 5.4, \"oswalds\") ['spn']\n",
      "spn in phoneseq Interval(4.58, 5.43, \"reprieved\") ['spn']\n",
      "spn in phoneseq Interval(4.46, 5.21, \"marwood\") ['spn']\n",
      "spn in phoneseq Interval(0.22, 0.7, \"lockman\") ['spn']\n",
      "spn in phoneseq Interval(5.38, 6.11, \"misess\") ['spn']\n",
      "spn in phoneseq Interval(6.11, 6.44, \"daulbys\") ['spn']\n",
      "spn in phoneseq Interval(1.78, 2.27, \"probative\") ['spn']\n",
      "spn in phoneseq Interval(2.95, 3.51, \"misess\") ['spn']\n",
      "spn in phoneseq Interval(3.51, 3.79, \"markhams\") ['spn']\n",
      "spn in phoneseq Interval(2.52, 2.92, \"russells\") ['spn']\n",
      "spn in phoneseq Interval(7.37, 7.88, \"maiming\") ['spn']\n",
      "spn in phoneseq Interval(1.68, 2.5, \"crosshairs\") ['spn']\n",
      "spn in phoneseq Interval(6.36, 7.04, \"shaneyfelt\") ['spn']\n",
      "spn in phoneseq Interval(1.88, 2.59, \"calcraft\") ['spn']\n",
      "spn in phoneseq Interval(7.51, 8.43, \"stenographic\") ['spn']\n",
      "spn in phoneseq Interval(0.88, 1.6, \"lecasser\") ['spn']\n",
      "spn in phoneseq Interval(4.4, 5.03, \"coldbath\") ['spn']\n",
      "spn in phoneseq Interval(1.35, 1.94, \"krapps\") ['spn']\n",
      "spn in phoneseq Interval(4.95, 5.86, \"pocketbooks\") ['spn']\n"
     ]
    },
    {
     "name": "stderr",
     "output_type": "stream",
     "text": [
      " 41%|█████████████████████████                                    | 5376/13100 [00:17<00:25, 307.25it/s]"
     ]
    },
    {
     "name": "stdout",
     "output_type": "stream",
     "text": [
      "spn in phoneseq Interval(1.67, 2.18, \"bidwell\") ['spn']\n",
      "spn in phoneseq Interval(1.61, 2.16, \"voebel\") ['spn']\n",
      "spn in phoneseq Interval(3.68, 4.52, \"librivox\") ['spn']\n",
      "spn in phoneseq Interval(3.6, 4.31, \"argool\") ['spn']\n",
      "spn in phoneseq Interval(3.34, 3.87, \"whaley\") ['spn']\n",
      "spn in phoneseq Interval(1.32, 1.73, \"misess\") ['spn']\n",
      "spn in phoneseq Interval(6.18, 6.59, \"misess\") ['spn']\n",
      "spn in phoneseq Interval(7.51, 7.83, \"misess\") ['spn']\n",
      "spn in phoneseq Interval(7.83, 8.34, \"connally\") ['spn']\n",
      "spn in phoneseq Interval(6.62, 7.29, \"hideel\") ['spn']\n",
      "spn in phoneseq Interval(0.0, 0.41, \"misess\") ['spn']\n",
      "spn in phoneseq Interval(0.32, 1.0, \"wainwrights\") ['spn']\n"
     ]
    },
    {
     "name": "stderr",
     "output_type": "stream",
     "text": [
      " 42%|█████████████████████████▎                                   | 5441/13100 [00:17<00:24, 314.95it/s]"
     ]
    },
    {
     "name": "stdout",
     "output_type": "stream",
     "text": [
      "spn in phoneseq Interval(7.12, 7.57, \"scotched\") ['spn']\n",
      "spn in phoneseq Interval(7.83, 8.38, \"connally\") ['spn']\n",
      "spn in phoneseq Interval(0.0, 0.84, \"nonreferral\") ['spn']\n",
      "spn in phoneseq Interval(1.08, 1.64, \"wardsmen\") ['spn']\n",
      "spn in phoneseq Interval(0.37, 0.81, \"connally\") ['spn']\n",
      "spn in phoneseq Interval(0.16, 0.51, \"carro\") ['spn']\n",
      "spn in phoneseq Interval(0.19, 1.02, \"animadverted\") ['spn']\n",
      "spn in phoneseq Interval(5.82, 6.2, \"couldn\") ['spn']\n",
      "spn in phoneseq Interval(5.12, 6.21, \"oswaldskovitch\") ['spn']\n",
      "spn in phoneseq Interval(0.0, 0.65, \"oswalds\") ['spn']\n",
      "spn in phoneseq Interval(0.27, 0.63, \"mullay\") ['spn']\n"
     ]
    },
    {
     "name": "stderr",
     "output_type": "stream",
     "text": [
      " 42%|█████████████████████████▋                                   | 5512/13100 [00:17<00:23, 324.49it/s]"
     ]
    },
    {
     "name": "stdout",
     "output_type": "stream",
     "text": [
      "spn in phoneseq Interval(0.0, 0.39, \"misess\") ['spn']\n",
      "spn in phoneseq Interval(2.51, 3.1, \"fasson\") ['spn']\n",
      "spn in phoneseq Interval(5.44, 6.45, \"excretions\") ['spn']\n",
      "spn in phoneseq Interval(0.38, 0.94, \"cartons\") ['spn']\n",
      "spn in phoneseq Interval(0.61, 1.12, \"connally\") ['spn']\n",
      "spn in phoneseq Interval(0.22, 0.9, \"prs\") ['spn']\n",
      "spn in phoneseq Interval(1.34, 2.03, \"zopyrus\") ['spn']\n",
      "spn in phoneseq Interval(3.33, 3.75, \"misess\") ['spn']\n",
      "spn in phoneseq Interval(7.86, 8.6, \"clarifying\") ['spn']\n",
      "spn in phoneseq Interval(3.93, 4.47, \"saward\") ['spn']\n",
      "spn in phoneseq Interval(4.3, 5.22, \"expatriated\") ['spn']\n",
      "spn in phoneseq Interval(4.8, 5.33, \"millbank\") ['spn']\n"
     ]
    },
    {
     "name": "stderr",
     "output_type": "stream",
     "text": [
      " 43%|█████████████████████████▉                                   | 5580/13100 [00:17<00:23, 324.58it/s]"
     ]
    },
    {
     "name": "stdout",
     "output_type": "stream",
     "text": [
      "spn in phoneseq Interval(6.52, 7.05, \"festered\") ['spn']\n",
      "spn in phoneseq Interval(0.21, 0.54, \"misess\") ['spn']\n",
      "spn in phoneseq Interval(1.81, 2.47, \"remarriage\") ['spn']\n",
      "spn in phoneseq Interval(1.64, 2.28, \"oswalds\") ['spn']\n",
      "spn in phoneseq Interval(4.1, 4.57, \"maltby\") ['spn']\n",
      "spn in phoneseq Interval(4.72, 5.31, \"companys\") ['spn']\n",
      "spn in phoneseq Interval(5.99, 6.63, \"thistlewood\") ['spn']\n",
      "spn in phoneseq Interval(2.01, 2.56, \"youngblood\") ['spn']\n",
      "spn in phoneseq Interval(0.18, 0.8, \"benavides\") ['spn']\n",
      "spn in phoneseq Interval(1.96, 2.61, \"craigs\") ['spn']\n",
      "spn in phoneseq Interval(2.74, 3.47, \"fauntleroys\") ['spn']\n",
      "spn in phoneseq Interval(2.42, 2.91, \"giltspur\") ['spn']\n",
      "spn in phoneseq Interval(4.87, 5.91, \"deoxidation\") ['spn']\n",
      "spn in phoneseq Interval(1.27, 1.95, \"rotifers\") ['spn']\n",
      "spn in phoneseq Interval(3.95, 4.68, \"catabolic\") ['spn']\n",
      "spn in phoneseq Interval(6.19, 6.95, \"alderson\") ['spn']\n"
     ]
    },
    {
     "name": "stderr",
     "output_type": "stream",
     "text": [
      " 43%|██████████████████████████▎                                  | 5648/13100 [00:18<00:23, 317.55it/s]"
     ]
    },
    {
     "name": "stdout",
     "output_type": "stream",
     "text": [
      "spn in phoneseq Interval(4.3, 4.81, \"busies\") ['spn']\n",
      "spn in phoneseq Interval(0.0, 0.58, \"hocker\") ['spn']\n",
      "spn in phoneseq Interval(7.63, 8.45, \"delarue\") ['spn']\n",
      "spn in phoneseq Interval(3.96, 4.52, \"whaley\") ['spn']\n",
      "spn in phoneseq Interval(0.0, 0.64, \"scoggins\") ['spn']\n",
      "spn in phoneseq Interval(1.2, 2.07, \"bradawls\") ['spn']\n",
      "spn in phoneseq Interval(2.41, 3.22, \"curtailment\") ['spn']\n",
      "spn in phoneseq Interval(6.14, 6.89, \"marguerites\") ['spn']\n",
      "spn in phoneseq Interval(8.1, 8.7, \"hosty\") ['spn']\n",
      "spn in phoneseq Interval(5.85, 6.34, \"hidell\") ['spn']\n",
      "spn in phoneseq Interval(5.56, 6.25, \"oswalds\") ['spn']\n",
      "spn in phoneseq Interval(0.62, 1.42, \"mohrenschildt\") ['spn']\n",
      "spn in phoneseq Interval(6.09, 6.6, \"kasr\") ['spn']\n"
     ]
    },
    {
     "name": "stderr",
     "output_type": "stream",
     "text": [
      " 44%|██████████████████████████▌                                  | 5715/13100 [00:18<00:23, 313.81it/s]"
     ]
    },
    {
     "name": "stdout",
     "output_type": "stream",
     "text": [
      "spn in phoneseq Interval(2.17, 2.92, \"firers\") ['spn']\n",
      "spn in phoneseq Interval(3.43, 3.82, \"harboring\") ['spn']\n",
      "spn in phoneseq Interval(0.51, 1.17, \"passbook\") ['spn']\n",
      "spn in phoneseq Interval(1.36, 1.95, \"strychnia\") ['spn']\n",
      "spn in phoneseq Interval(0.23, 1.05, \"babylonians\") ['spn']\n",
      "spn in phoneseq Interval(0.28, 0.97, \"cartons\") ['spn']\n"
     ]
    },
    {
     "name": "stderr",
     "output_type": "stream",
     "text": [
      " 44%|██████████████████████████▉                                  | 5778/13100 [00:18<00:25, 292.22it/s]"
     ]
    },
    {
     "name": "stdout",
     "output_type": "stream",
     "text": [
      "spn in phoneseq Interval(0.47, 0.82, \"arke\") ['spn']\n",
      "spn in phoneseq Interval(5.51, 6.18, \"condigne\") ['spn']\n",
      "spn in phoneseq Interval(0.27, 0.77, \"hosty\") ['spn']\n",
      "spn in phoneseq Interval(4.26, 4.83, \"oswalds\") ['spn']\n",
      "spn in phoneseq Interval(1.15, 1.84, \"wardsmen\") ['spn']\n",
      "spn in phoneseq Interval(4.21, 5.12, \"scorbutic\") ['spn']\n",
      "spn in phoneseq Interval(0.52, 0.76, \"misess\") ['spn']\n",
      "spn in phoneseq Interval(1.93, 2.57, \"vindelin\") ['spn']\n",
      "spn in phoneseq Interval(1.28, 2.15, \"inventress\") ['spn']\n",
      "spn in phoneseq Interval(3.32, 4.21, \"toffana\") ['spn']\n",
      "spn in phoneseq Interval(0.35, 1.28, \"babylonians\") ['spn']\n",
      "spn in phoneseq Interval(2.88, 3.84, \"depredators\") ['spn']\n",
      "spn in phoneseq Interval(0.56, 0.89, \"misess\") ['spn']\n",
      "spn in phoneseq Interval(7.13, 7.63, \"whitecross\") ['spn']\n",
      "spn in phoneseq Interval(4.52, 5.34, \"outspokenly\") ['spn']\n",
      "spn in phoneseq Interval(1.68, 1.99, \"misess\") ['spn']\n"
     ]
    },
    {
     "name": "stderr",
     "output_type": "stream",
     "text": [
      " 45%|███████████████████████████▏                                 | 5844/13100 [00:18<00:23, 307.44it/s]"
     ]
    },
    {
     "name": "stdout",
     "output_type": "stream",
     "text": [
      "spn in phoneseq Interval(1.56, 2.42, \"roominghouse\") ['spn']\n",
      "spn in phoneseq Interval(0.0, 0.63, \"michaelis\") ['spn']\n",
      "spn in phoneseq Interval(0.96, 1.58, \"arthor\") ['spn']\n",
      "spn in phoneseq Interval(4.92, 5.59, \"hebert\") ['spn']\n",
      "spn in phoneseq Interval(2.78, 3.47, \"mandella\") ['spn']\n",
      "spn in phoneseq Interval(2.28, 3.05, \"oswalds\") ['spn']\n",
      "spn in phoneseq Interval(4.61, 4.97, \"stemmons\") ['spn']\n",
      "spn in phoneseq Interval(2.02, 2.7, \"hidell\") ['spn']\n",
      "spn in phoneseq Interval(3.14, 3.91, \"humanizing\") ['spn']\n",
      "spn in phoneseq Interval(0.0, 0.42, \"hosty\") ['spn']\n",
      "spn in phoneseq Interval(1.63, 2.1, \"connally\") ['spn']\n",
      "spn in phoneseq Interval(4.17, 5.01, \"stretchers\") ['spn']\n",
      "spn in phoneseq Interval(3.78, 4.37, \"kilduff\") ['spn']\n",
      "spn in phoneseq Interval(0.16, 0.5, \"ker\") ['spn']\n",
      "spn in phoneseq Interval(5.33, 6.11, \"protoplasm\") ['spn']\n",
      "spn in phoneseq Interval(2.28, 2.99, \"zopyrus\") ['spn']\n",
      "spn in phoneseq Interval(3.65, 4.95, \"fpcc\") ['spn']\n",
      "spn in phoneseq Interval(2.72, 3.52, \"crosshairs\") ['spn']\n"
     ]
    },
    {
     "name": "stderr",
     "output_type": "stream",
     "text": [
      " 45%|███████████████████████████▍                                 | 5905/13100 [00:18<00:24, 293.94it/s]"
     ]
    },
    {
     "name": "stdout",
     "output_type": "stream",
     "text": [
      "spn in phoneseq Interval(0.0, 0.35, \"carro\") ['spn']\n",
      "spn in phoneseq Interval(4.42, 4.94, \"buncher\") ['spn']\n",
      "spn in phoneseq Interval(6.02, 6.6, \"strutton\") ['spn']\n",
      "spn in phoneseq Interval(4.02, 4.91, \"prs\") ['spn']\n",
      "spn in phoneseq Interval(1.56, 1.88, \"hosty\") ['spn']\n",
      "spn in phoneseq Interval(2.86, 3.25, \"misess\") ['spn']\n",
      "spn in phoneseq Interval(3.25, 3.54, \"paines\") ['spn']\n",
      "spn in phoneseq Interval(7.1, 7.8, \"lerigo\") ['spn']\n",
      "spn in phoneseq Interval(2.71, 3.18, \"caulked\") ['spn']\n",
      "spn in phoneseq Interval(0.16, 0.9, \"prs\") ['spn']\n",
      "spn in phoneseq Interval(0.33, 0.96, \"sawards\") ['spn']\n",
      "spn in phoneseq Interval(7.92, 8.54, \"palmprint\") ['spn']\n",
      "spn in phoneseq Interval(0.5, 0.92, \"neild\") ['spn']\n",
      "spn in phoneseq Interval(0.29, 0.92, \"cadigan\") ['spn']\n",
      "spn in phoneseq Interval(0.0, 0.55, \"oswalds\") ['spn']\n"
     ]
    },
    {
     "name": "stderr",
     "output_type": "stream",
     "text": [
      " 46%|███████████████████████████▊                                 | 5972/13100 [00:19<00:22, 310.76it/s]"
     ]
    },
    {
     "name": "stdout",
     "output_type": "stream",
     "text": [
      "spn in phoneseq Interval(2.4, 3.03, \"forgers\") ['spn']\n",
      "spn in phoneseq Interval(3.3, 3.91, \"saward\") ['spn']\n",
      "spn in phoneseq Interval(0.0, 0.84, \"misdemeanants\") ['spn']\n",
      "spn in phoneseq Interval(2.96, 3.65, \"ekdahl\") ['spn']\n",
      "spn in phoneseq Interval(6.67, 7.67, \"pawnbrokers\") ['spn']\n",
      "spn in phoneseq Interval(1.0, 1.42, \"misess\") ['spn']\n",
      "spn in phoneseq Interval(0.92, 1.59, \"mandella\") ['spn']\n",
      "spn in phoneseq Interval(2.09, 2.78, \"refiner\") ['spn']\n",
      "spn in phoneseq Interval(3.29, 3.97, \"saward\") ['spn']\n",
      "spn in phoneseq Interval(4.85, 5.52, \"penman\") ['spn']\n",
      "spn in phoneseq Interval(1.98, 2.36, \"hosty\") ['spn']\n",
      "spn in phoneseq Interval(2.66, 3.0, \"misess\") ['spn']\n"
     ]
    },
    {
     "name": "stderr",
     "output_type": "stream",
     "text": [
      " 46%|████████████████████████████▎                                | 6068/13100 [00:19<00:22, 308.74it/s]"
     ]
    },
    {
     "name": "stdout",
     "output_type": "stream",
     "text": [
      "spn in phoneseq Interval(2.86, 3.56, \"connally\") ['spn']\n",
      "spn in phoneseq Interval(2.67, 3.24, \"lunchroom\") ['spn']\n",
      "spn in phoneseq Interval(2.87, 3.64, \"midmorning\") ['spn']\n",
      "spn in phoneseq Interval(0.0, 0.35, \"mullay\") ['spn']\n",
      "spn in phoneseq Interval(0.26, 0.71, \"mullay\") ['spn']\n",
      "spn in phoneseq Interval(0.8, 1.43, \"patrolman\") ['spn']\n",
      "spn in phoneseq Interval(2.13, 2.44, \"tippit\") ['spn']\n",
      "spn in phoneseq Interval(0.0, 0.78, \"courvoisier\") ['spn']\n",
      "spn in phoneseq Interval(0.93, 1.55, \"lyndal\") ['spn']\n",
      "spn in phoneseq Interval(1.98, 2.9, \"shaneyfelt\") ['spn']\n",
      "spn in phoneseq Interval(1.19, 1.78, \"prs\") ['spn']\n",
      "spn in phoneseq Interval(1.37, 1.89, \"atwell\") ['spn']\n",
      "spn in phoneseq Interval(5.81, 6.49, \"approvers\") ['spn']\n",
      "spn in phoneseq Interval(0.29, 0.68, \"misess\") ['spn']\n",
      "spn in phoneseq Interval(7.74, 8.16, \"misess\") ['spn']\n",
      "spn in phoneseq Interval(4.55, 5.26, \"hanfield\") ['spn']\n"
     ]
    },
    {
     "name": "stderr",
     "output_type": "stream",
     "text": [
      " 47%|████████████████████████████▌                                | 6135/13100 [00:19<00:21, 319.78it/s]"
     ]
    },
    {
     "name": "stdout",
     "output_type": "stream",
     "text": [
      "spn in phoneseq Interval(1.81, 2.51, \"koldewey\") ['spn']\n",
      "spn in phoneseq Interval(0.0, 0.35, \"misess\") ['spn']\n",
      "spn in phoneseq Interval(1.85, 2.18, \"tippits\") ['spn']\n",
      "spn in phoneseq Interval(3.35, 3.93, \"initialed\") ['spn']\n",
      "spn in phoneseq Interval(0.09, 0.6, \"pieman\") ['spn']\n",
      "spn in phoneseq Interval(1.88, 2.56, \"prs\") ['spn']\n",
      "spn in phoneseq Interval(6.75, 7.28, \"wardsman\") ['spn']\n",
      "spn in phoneseq Interval(1.25, 1.89, \"shanklin\") ['spn']\n",
      "spn in phoneseq Interval(0.78, 1.48, \"gardelles\") ['spn']\n",
      "spn in phoneseq Interval(3.08, 4.07, \"courvoisier\") ['spn']\n",
      "spn in phoneseq Interval(3.77, 4.3, \"todays\") ['spn']\n"
     ]
    },
    {
     "name": "stderr",
     "output_type": "stream",
     "text": [
      " 47%|████████████████████████████▉                                | 6204/13100 [00:19<00:21, 323.35it/s]"
     ]
    },
    {
     "name": "stdout",
     "output_type": "stream",
     "text": [
      "spn in phoneseq Interval(5.26, 5.77, \"rugeley\") ['spn']\n",
      "spn in phoneseq Interval(0.76, 1.4, \"eulogized\") ['spn']\n",
      "spn in phoneseq Interval(0.72, 1.39, \"fumigating\") ['spn']\n",
      "spn in phoneseq Interval(0.0, 0.45, \"howse\") ['spn']\n",
      "spn in phoneseq Interval(0.29, 0.86, \"oswalds\") ['spn']\n",
      "spn in phoneseq Interval(6.78, 7.71, \"misdemeanants\") ['spn']\n",
      "spn in phoneseq Interval(0.45, 1.2, \"mohrenschildt\") ['spn']\n",
      "spn in phoneseq Interval(2.3, 2.7, \"neild\") ['spn']\n",
      "spn in phoneseq Interval(0.34, 1.15, \"hartogs\") ['spn']\n",
      "spn in phoneseq Interval(0.8, 1.18, \"misess\") ['spn']\n",
      "spn in phoneseq Interval(0.0, 0.77, \"calcraft\") ['spn']\n",
      "spn in phoneseq Interval(4.03, 4.5, \"ladys\") ['spn']\n"
     ]
    },
    {
     "name": "stderr",
     "output_type": "stream",
     "text": [
      " 48%|█████████████████████████████▏                               | 6278/13100 [00:20<00:20, 334.49it/s]"
     ]
    },
    {
     "name": "stdout",
     "output_type": "stream",
     "text": [
      "spn in phoneseq Interval(4.67, 5.2, \"employable\") ['spn']\n",
      "spn in phoneseq Interval(1.22, 1.25, \"didn\") ['spn']\n",
      "spn in phoneseq Interval(1.97, 2.66, \"aldus\") ['spn']\n",
      "spn in phoneseq Interval(0.0, 0.54, \"starchy\") ['spn']\n",
      "spn in phoneseq Interval(2.11, 3.15, \"prognostication\") ['spn']\n",
      "spn in phoneseq Interval(1.01, 1.65, \"cissian\") ['spn']\n",
      "spn in phoneseq Interval(1.97, 2.46, \"belian\") ['spn']\n",
      "spn in phoneseq Interval(2.0, 2.49, \"oswalds\") ['spn']\n",
      "spn in phoneseq Interval(0.91, 1.46, \"lunchroom\") ['spn']\n",
      "spn in phoneseq Interval(0.0, 0.62, \"oswalds\") ['spn']\n",
      "spn in phoneseq Interval(0.0, 0.6, \"lovelady\") ['spn']\n",
      "spn in phoneseq Interval(1.22, 1.83, \"prs\") ['spn']\n",
      "spn in phoneseq Interval(0.86, 1.65, \"depredators\") ['spn']\n",
      "spn in phoneseq Interval(0.39, 0.99, \"lawsons\") ['spn']\n",
      "spn in phoneseq Interval(1.83, 2.7, \"mohrenschildt\") ['spn']\n",
      "spn in phoneseq Interval(4.83, 5.39, \"oswalds\") ['spn']\n",
      "spn in phoneseq Interval(2.3, 2.86, \"cartons\") ['spn']\n",
      "spn in phoneseq Interval(4.65, 5.39, \"mannings\") ['spn']\n"
     ]
    },
    {
     "name": "stderr",
     "output_type": "stream",
     "text": [
      " 48%|█████████████████████████████▌                               | 6346/13100 [00:20<00:20, 326.32it/s]"
     ]
    },
    {
     "name": "stdout",
     "output_type": "stream",
     "text": [
      "spn in phoneseq Interval(3.59, 4.15, \"sattler\") ['spn']\n",
      "spn in phoneseq Interval(3.31, 3.91, \"wardsman\") ['spn']\n",
      "spn in phoneseq Interval(4.28, 4.35, \"didn\") ['spn']\n",
      "spn in phoneseq Interval(4.67, 5.54, \"invalidity\") ['spn']\n",
      "spn in phoneseq Interval(2.28, 2.91, \"calcraft\") ['spn']\n",
      "spn in phoneseq Interval(0.24, 0.62, \"hidell\") ['spn']\n",
      "spn in phoneseq Interval(4.99, 5.36, \"tippit\") ['spn']\n",
      "spn in phoneseq Interval(1.29, 1.71, \"misess\") ['spn']\n",
      "spn in phoneseq Interval(2.65, 2.71, \"misess\") ['spn']\n",
      "spn in phoneseq Interval(2.71, 3.48, \"soames\") ['spn']\n",
      "spn in phoneseq Interval(1.91, 2.53, \"misess\") ['spn']\n"
     ]
    },
    {
     "name": "stderr",
     "output_type": "stream",
     "text": [
      " 49%|█████████████████████████████▉                               | 6417/13100 [00:20<00:20, 330.63it/s]"
     ]
    },
    {
     "name": "stdout",
     "output_type": "stream",
     "text": [
      "spn in phoneseq Interval(2.53, 2.69, \"soames\") ['spn']\n",
      "spn in phoneseq Interval(4.9, 5.36, \"copes\") ['spn']\n",
      "spn in phoneseq Interval(5.2, 5.74, \"diemens\") ['spn']\n",
      "spn in phoneseq Interval(5.92, 6.77, \"catwalks\") ['spn']\n",
      "spn in phoneseq Interval(8.42, 8.96, \"connally\") ['spn']\n",
      "spn in phoneseq Interval(7.27, 8.39, \"postilions\") ['spn']\n",
      "spn in phoneseq Interval(1.75, 2.49, \"greenacre\") ['spn']\n",
      "spn in phoneseq Interval(1.76, 2.57, \"excretions\") ['spn']\n",
      "spn in phoneseq Interval(7.11, 8.0, \"protoplasm\") ['spn']\n",
      "spn in phoneseq Interval(4.47, 4.76, \"redpaths\") ['spn']\n",
      "spn in phoneseq Interval(4.76, 6.13, \"defalcations\") ['spn']\n"
     ]
    },
    {
     "name": "stderr",
     "output_type": "stream",
     "text": [
      " 49%|██████████████████████████████                               | 6451/13100 [00:20<00:20, 327.47it/s]"
     ]
    },
    {
     "name": "stdout",
     "output_type": "stream",
     "text": [
      "spn in phoneseq Interval(0.0, 0.36, \"hosty\") ['spn']\n",
      "spn in phoneseq Interval(6.59, 7.01, \"hosty\") ['spn']\n",
      "spn in phoneseq Interval(0.76, 1.46, \"zopyrus\") ['spn']\n",
      "spn in phoneseq Interval(0.69, 1.07, \"misess\") ['spn']\n",
      "spn in phoneseq Interval(4.3, 5.32, \"courvoisier\") ['spn']\n",
      "spn in phoneseq Interval(4.69, 5.46, \"paramours\") ['spn']\n",
      "spn in phoneseq Interval(0.0, 0.65, \"mcwatters\") ['spn']\n",
      "spn in phoneseq Interval(8.72, 9.52, \"prs\") ['spn']\n",
      "spn in phoneseq Interval(0.05, 0.54, \"mally\") ['spn']\n",
      "spn in phoneseq Interval(1.82, 2.37, \"oswalds\") ['spn']\n",
      "spn in phoneseq Interval(1.02, 1.75, \"legibility\") ['spn']\n",
      "spn in phoneseq Interval(5.99, 6.58, \"dustlike\") ['spn']\n",
      "spn in phoneseq Interval(7.05, 7.43, \"neild\") ['spn']\n",
      "spn in phoneseq Interval(1.55, 2.28, \"thurtell\") ['spn']\n",
      "spn in phoneseq Interval(3.03, 3.71, \"nixons\") ['spn']\n",
      "spn in phoneseq Interval(1.15, 1.73, \"cadigan\") ['spn']\n"
     ]
    },
    {
     "name": "stderr",
     "output_type": "stream",
     "text": [
      " 50%|██████████████████████████████▍                              | 6546/13100 [00:20<00:21, 303.43it/s]"
     ]
    },
    {
     "name": "stdout",
     "output_type": "stream",
     "text": [
      "spn in phoneseq Interval(0.0, 0.47, \"foxen\") ['spn']\n",
      "spn in phoneseq Interval(3.44, 3.87, \"copes\") ['spn']\n",
      "spn in phoneseq Interval(4.11, 4.99, \"contractile\") ['spn']\n",
      "spn in phoneseq Interval(5.45, 6.27, \"disseminating\") ['spn']\n",
      "spn in phoneseq Interval(3.78, 4.39, \"mcwatters\") ['spn']\n",
      "spn in phoneseq Interval(2.36, 2.89, \"hosty\") ['spn']\n",
      "spn in phoneseq Interval(5.39, 5.91, \"oswalds\") ['spn']\n",
      "spn in phoneseq Interval(2.94, 3.86, \"rosenbergs\") ['spn']\n",
      "spn in phoneseq Interval(3.55, 4.34, \"mannings\") ['spn']\n",
      "spn in phoneseq Interval(3.59, 4.28, \"zosimus\") ['spn']\n",
      "spn in phoneseq Interval(0.0, 0.58, \"oswalds\") ['spn']\n",
      "spn in phoneseq Interval(6.93, 7.36, \"misess\") ['spn']\n"
     ]
    },
    {
     "name": "stderr",
     "output_type": "stream",
     "text": [
      " 50%|██████████████████████████████▊                              | 6609/13100 [00:21<00:21, 306.06it/s]"
     ]
    },
    {
     "name": "stdout",
     "output_type": "stream",
     "text": [
      "spn in phoneseq Interval(0.45, 0.99, \"saward\") ['spn']\n",
      "spn in phoneseq Interval(3.02, 3.62, \"oswalds\") ['spn']\n",
      "spn in phoneseq Interval(5.34, 5.99, \"hidell\") ['spn']\n",
      "spn in phoneseq Interval(2.79, 3.38, \"jensons\") ['spn']\n",
      "spn in phoneseq Interval(2.38, 2.91, \"sorrels\") ['spn']\n",
      "spn in phoneseq Interval(0.17, 0.52, \"misess\") ['spn']\n",
      "spn in phoneseq Interval(2.51, 3.27, \"patrolman\") ['spn']\n",
      "spn in phoneseq Interval(3.27, 3.49, \"tippit\") ['spn']\n",
      "spn in phoneseq Interval(6.2, 6.81, \"oswalds\") ['spn']\n",
      "spn in phoneseq Interval(5.81, 6.13, \"tippit\") ['spn']\n",
      "spn in phoneseq Interval(0.0, 0.26, \"misess\") ['spn']\n",
      "spn in phoneseq Interval(1.66, 2.51, \"prs\") ['spn']\n"
     ]
    },
    {
     "name": "stderr",
     "output_type": "stream",
     "text": [
      " 51%|███████████████████████████████                              | 6681/13100 [00:21<00:19, 328.82it/s]"
     ]
    },
    {
     "name": "stdout",
     "output_type": "stream",
     "text": [
      "spn in phoneseq Interval(1.22, 1.55, \"misess\") ['spn']\n",
      "spn in phoneseq Interval(1.93, 2.79, \"walthers\") ['spn']\n",
      "spn in phoneseq Interval(7.86, 8.71, \"letterpress\") ['spn']\n",
      "spn in phoneseq Interval(0.58, 1.46, \"pawnbrokers\") ['spn']\n",
      "spn in phoneseq Interval(4.88, 5.4, \"lemmon\") ['spn']\n",
      "spn in phoneseq Interval(0.21, 0.83, \"wainwrights\") ['spn']\n",
      "spn in phoneseq Interval(6.94, 7.37, \"wifes\") ['spn']\n",
      "spn in phoneseq Interval(5.45, 6.27, \"stauntons\") ['spn']\n",
      "spn in phoneseq Interval(2.72, 3.29, \"probative\") ['spn']\n",
      "spn in phoneseq Interval(2.25, 2.93, \"sorrels\") ['spn']\n",
      "spn in phoneseq Interval(2.01, 2.81, \"marsalis\") ['spn']\n",
      "spn in phoneseq Interval(1.21, 2.21, \"resourcefulness\") ['spn']\n"
     ]
    },
    {
     "name": "stderr",
     "output_type": "stream",
     "text": [
      " 52%|███████████████████████████████▍                             | 6751/13100 [00:21<00:18, 336.88it/s]"
     ]
    },
    {
     "name": "stdout",
     "output_type": "stream",
     "text": [
      "spn in phoneseq Interval(5.15, 5.94, \"provisos\") ['spn']\n",
      "spn in phoneseq Interval(3.14, 3.86, \"agencys\") ['spn']\n",
      "spn in phoneseq Interval(0.14, 0.51, \"misess\") ['spn']\n",
      "spn in phoneseq Interval(0.26, 0.83, \"oswalds\") ['spn']\n",
      "spn in phoneseq Interval(0.0, 0.64, \"oswalds\") ['spn']\n",
      "spn in phoneseq Interval(1.67, 2.23, \"passbook\") ['spn']\n",
      "spn in phoneseq Interval(2.32, 2.86, \"misess\") ['spn']\n",
      "spn in phoneseq Interval(2.86, 3.14, \"markhams\") ['spn']\n",
      "spn in phoneseq Interval(8.09, 8.43, \"tippit\") ['spn']\n",
      "spn in phoneseq Interval(1.99, 2.5, \"carrico\") ['spn']\n",
      "spn in phoneseq Interval(0.22, 0.96, \"sturges\") ['spn']\n",
      "spn in phoneseq Interval(3.95, 4.6, \"oswalds\") ['spn']\n",
      "spn in phoneseq Interval(3.1, 3.68, \"bankes\") ['spn']\n",
      "spn in phoneseq Interval(3.32, 3.96, \"disbursed\") ['spn']\n",
      "spn in phoneseq Interval(7.27, 7.91, \"passbook\") ['spn']\n",
      "spn in phoneseq Interval(2.21, 2.91, \"gobrias\") ['spn']\n",
      "spn in phoneseq Interval(4.69, 5.34, \"lunchroom\") ['spn']\n",
      "spn in phoneseq Interval(0.03, 0.65, \"snatchers\") ['spn']\n"
     ]
    },
    {
     "name": "stderr",
     "output_type": "stream",
     "text": [
      " 52%|███████████████████████████████▋                             | 6818/13100 [00:21<00:19, 324.90it/s]"
     ]
    },
    {
     "name": "stdout",
     "output_type": "stream",
     "text": [
      "spn in phoneseq Interval(3.25, 3.69, \"hosty\") ['spn']\n",
      "spn in phoneseq Interval(2.1, 2.75, \"proteid\") ['spn']\n",
      "spn in phoneseq Interval(1.24, 1.52, \"kerp\") ['spn']\n",
      "spn in phoneseq Interval(0.0, 0.59, \"stombaugh\") ['spn']\n",
      "spn in phoneseq Interval(0.0, 0.39, \"neild\") ['spn']\n",
      "spn in phoneseq Interval(0.59, 1.3, \"stovall\") ['spn']\n",
      "spn in phoneseq Interval(5.92, 6.56, \"oswalds\") ['spn']\n",
      "spn in phoneseq Interval(6.53, 7.32, \"tracheotomy\") ['spn']\n",
      "spn in phoneseq Interval(5.82, 6.35, \"pampering\") ['spn']\n",
      "spn in phoneseq Interval(0.46, 1.07, \"duranno\") ['spn']\n",
      "spn in phoneseq Interval(1.71, 2.39, \"reconveyed\") ['spn']\n",
      "spn in phoneseq Interval(3.23, 3.68, \"wifes\") ['spn']\n",
      "spn in phoneseq Interval(5.13, 5.65, \"connally\") ['spn']\n"
     ]
    },
    {
     "name": "stderr",
     "output_type": "stream",
     "text": [
      " 53%|████████████████████████████████▏                            | 6921/13100 [00:22<00:19, 322.12it/s]"
     ]
    },
    {
     "name": "stdout",
     "output_type": "stream",
     "text": [
      "spn in phoneseq Interval(0.0, 0.7, \"calcraft\") ['spn']\n",
      "spn in phoneseq Interval(3.76, 4.46, \"bousfield\") ['spn']\n",
      "spn in phoneseq Interval(0.66, 0.84, \"charae\") ['spn']\n",
      "spn in phoneseq Interval(3.71, 4.36, \"roupell\") ['spn']\n",
      "spn in phoneseq Interval(0.0, 0.61, \"marwood\") ['spn']\n",
      "spn in phoneseq Interval(0.76, 1.34, \"dasent\") ['spn']\n",
      "spn in phoneseq Interval(0.61, 1.1, \"raison\") ['spn']\n",
      "spn in phoneseq Interval(1.19, 1.46, \"etre\") ['spn']\n",
      "spn in phoneseq Interval(2.75, 3.55, \"proteids\") ['spn']\n",
      "spn in phoneseq Interval(4.54, 5.27, \"roistering\") ['spn']\n",
      "spn in phoneseq Interval(6.83, 7.63, \"jehoiakin\") ['spn']\n",
      "spn in phoneseq Interval(6.04, 6.69, \"companys\") ['spn']\n",
      "spn in phoneseq Interval(7.81, 8.54, \"robsons\") ['spn']\n"
     ]
    },
    {
     "name": "stderr",
     "output_type": "stream",
     "text": [
      " 53%|████████████████████████████████▌                            | 6987/13100 [00:22<00:19, 321.15it/s]"
     ]
    },
    {
     "name": "stdout",
     "output_type": "stream",
     "text": [
      "spn in phoneseq Interval(4.43, 5.22, \"capstans\") ['spn']\n",
      "spn in phoneseq Interval(0.0, 0.57, \"oswalds\") ['spn']\n",
      "spn in phoneseq Interval(0.57, 1.34, \"palmprint\") ['spn']\n",
      "spn in phoneseq Interval(0.61, 0.97, \"misess\") ['spn']\n",
      "spn in phoneseq Interval(5.65, 6.26, \"wardsman\") ['spn']\n",
      "spn in phoneseq Interval(2.32, 2.81, \"killion\") ['spn']\n",
      "spn in phoneseq Interval(0.15, 0.75, \"oswalds\") ['spn']\n",
      "spn in phoneseq Interval(2.15, 2.57, \"bouck\") ['spn']\n",
      "spn in phoneseq Interval(1.16, 1.69, \"uv\") ['spn']\n",
      "spn in phoneseq Interval(3.64, 4.32, \"oswalds\") ['spn']\n",
      "spn in phoneseq Interval(5.74, 6.31, \"mailroom\") ['spn']\n",
      "spn in phoneseq Interval(2.01, 2.97, \"sweynheim\") ['spn']\n",
      "spn in phoneseq Interval(3.26, 3.9, \"pannartz\") ['spn']\n",
      "spn in phoneseq Interval(1.1, 2.12, \"protectionists\") ['spn']\n",
      "spn in phoneseq Interval(0.39, 1.11, \"calcraft\") ['spn']\n"
     ]
    },
    {
     "name": "stderr",
     "output_type": "stream",
     "text": [
      " 54%|████████████████████████████████▊                            | 7051/13100 [00:22<00:20, 300.14it/s]"
     ]
    },
    {
     "name": "stdout",
     "output_type": "stream",
     "text": [
      "spn in phoneseq Interval(1.1, 1.53, \"misess\") ['spn']\n",
      "spn in phoneseq Interval(5.89, 6.62, \"libels\") ['spn']\n",
      "spn in phoneseq Interval(2.54, 3.38, \"ordinarys\") ['spn']\n",
      "spn in phoneseq Interval(0.0, 0.48, \"earlene\") ['spn']\n",
      "spn in phoneseq Interval(2.43, 2.79, \"misess\") ['spn']\n",
      "spn in phoneseq Interval(0.77, 1.04, \"didn\") ['spn']\n",
      "spn in phoneseq Interval(5.69, 6.55, \"henrichson\") ['spn']\n",
      "spn in phoneseq Interval(8.71, 9.3, \"smethurst\") ['spn']\n",
      "spn in phoneseq Interval(3.78, 4.6, \"strychnia\") ['spn']\n"
     ]
    },
    {
     "name": "stderr",
     "output_type": "stream",
     "text": [
      " 54%|█████████████████████████████████                            | 7112/13100 [00:22<00:20, 294.30it/s]"
     ]
    },
    {
     "name": "stdout",
     "output_type": "stream",
     "text": [
      "spn in phoneseq Interval(2.51, 3.24, \"oswalds\") ['spn']\n",
      "spn in phoneseq Interval(8.13, 8.78, \"hidell\") ['spn']\n",
      "spn in phoneseq Interval(2.37, 3.11, \"delicti\") ['spn']\n",
      "spn in phoneseq Interval(4.8, 5.2, \"misess\") ['spn']\n",
      "spn in phoneseq Interval(7.38, 8.27, \"histologist\") ['spn']\n",
      "spn in phoneseq Interval(2.44, 3.18, \"babylonians\") ['spn']\n",
      "spn in phoneseq Interval(2.98, 3.92, \"retrenched\") ['spn']\n",
      "spn in phoneseq Interval(2.24, 2.97, \"oswalds\") ['spn']\n",
      "spn in phoneseq Interval(4.97, 5.67, \"underwriters\") ['spn']\n",
      "spn in phoneseq Interval(0.79, 1.32, \"safes\") ['spn']\n",
      "spn in phoneseq Interval(1.98, 2.55, \"chubbs\") ['spn']\n",
      "spn in phoneseq Interval(4.16, 4.64, \"chubbs\") ['spn']\n",
      "spn in phoneseq Interval(0.0, 0.59, \"oswalds\") ['spn']\n",
      "spn in phoneseq Interval(1.04, 1.44, \"misess\") ['spn']\n",
      "spn in phoneseq Interval(4.08, 4.47, \"misess\") ['spn']\n",
      "spn in phoneseq Interval(0.0, 0.47, \"cadigan\") ['spn']\n",
      "spn in phoneseq Interval(4.91, 5.92, \"prs\") ['spn']\n"
     ]
    },
    {
     "name": "stderr",
     "output_type": "stream",
     "text": [
      " 55%|█████████████████████████████████▍                           | 7171/13100 [00:22<00:20, 282.45it/s]"
     ]
    },
    {
     "name": "stdout",
     "output_type": "stream",
     "text": [
      "spn in phoneseq Interval(3.79, 4.46, \"oswalds\") ['spn']\n",
      "spn in phoneseq Interval(5.97, 6.34, \"misess\") ['spn']\n",
      "spn in phoneseq Interval(2.15, 2.85, \"cuviers\") ['spn']\n",
      "spn in phoneseq Interval(7.31, 7.93, \"oswalds\") ['spn']\n",
      "spn in phoneseq Interval(5.56, 6.08, \"womans\") ['spn']\n",
      "spn in phoneseq Interval(0.2, 0.55, \"misess\") ['spn']\n",
      "spn in phoneseq Interval(2.31, 3.06, \"nabonidus\") ['spn']\n",
      "spn in phoneseq Interval(4.99, 5.5, \"lapels\") ['spn']\n",
      "spn in phoneseq Interval(0.0, 0.3, \"neild\") ['spn']\n",
      "spn in phoneseq Interval(8.87, 9.73, \"marsalis\") ['spn']\n",
      "spn in phoneseq Interval(2.48, 3.09, \"exhales\") ['spn']\n",
      "spn in phoneseq Interval(6.2, 6.84, \"exhales\") ['spn']\n",
      "spn in phoneseq Interval(4.45, 5.13, \"unconvicted\") ['spn']\n",
      "spn in phoneseq Interval(0.57, 0.92, \"misess\") ['spn']\n",
      "spn in phoneseq Interval(1.6, 2.21, \"catnach\") ['spn']\n"
     ]
    },
    {
     "name": "stderr",
     "output_type": "stream",
     "text": [
      " 55%|█████████████████████████████████▋                           | 7230/13100 [00:23<00:20, 285.04it/s]"
     ]
    },
    {
     "name": "stdout",
     "output_type": "stream",
     "text": [
      "spn in phoneseq Interval(5.05, 5.66, \"lerigos\") ['spn']\n",
      "spn in phoneseq Interval(6.02, 6.22, \"didn\") ['spn']\n",
      "spn in phoneseq Interval(3.21, 3.79, \"oswalds\") ['spn']\n",
      "spn in phoneseq Interval(2.05, 2.61, \"gentlemans\") ['spn']\n",
      "spn in phoneseq Interval(0.07, 0.68, \"wardsman\") ['spn']\n",
      "spn in phoneseq Interval(2.37, 2.98, \"cuviers\") ['spn']\n",
      "spn in phoneseq Interval(4.24, 5.63, \"oswalds\") ['spn']\n",
      "spn in phoneseq Interval(5.63, 5.84, \"mannlicher\") ['spn']\n",
      "spn in phoneseq Interval(5.84, 6.35, \"carcano\") ['spn']\n",
      "spn in phoneseq Interval(3.86, 4.13, \"wych\") ['spn']\n",
      "spn in phoneseq Interval(3.72, 4.5, \"dissections\") ['spn']\n",
      "spn in phoneseq Interval(0.0, 0.7, \"urological\") ['spn']\n"
     ]
    },
    {
     "name": "stderr",
     "output_type": "stream",
     "text": [
      " 56%|██████████████████████████████████▏                          | 7329/13100 [00:23<00:18, 305.46it/s]"
     ]
    },
    {
     "name": "stdout",
     "output_type": "stream",
     "text": [
      "spn in phoneseq Interval(0.0, 0.55, \"oswalds\") ['spn']\n",
      "spn in phoneseq Interval(3.16, 3.7, \"russells\") ['spn']\n",
      "spn in phoneseq Interval(1.26, 1.85, \"safes\") ['spn']\n",
      "spn in phoneseq Interval(7.25, 7.6, \"misess\") ['spn']\n",
      "spn in phoneseq Interval(7.45, 8.42, \"homologies\") ['spn']\n",
      "spn in phoneseq Interval(0.0, 0.44, \"hockers\") ['spn']\n",
      "spn in phoneseq Interval(3.7, 4.55, \"palmprints\") ['spn']\n",
      "spn in phoneseq Interval(6.14, 6.79, \"cartons\") ['spn']\n",
      "spn in phoneseq Interval(0.0, 0.66, \"sorrels\") ['spn']\n",
      "spn in phoneseq Interval(1.9, 2.59, \"oswalds\") ['spn']\n",
      "spn in phoneseq Interval(6.74, 7.75, \"misdemeanants\") ['spn']\n",
      "spn in phoneseq Interval(0.1, 0.77, \"compters\") ['spn']\n",
      "spn in phoneseq Interval(1.91, 2.59, \"giltspur\") ['spn']\n",
      "spn in phoneseq Interval(0.08, 0.94, \"babylonians\") ['spn']\n",
      "spn in phoneseq Interval(3.55, 4.24, \"coiffeur\") ['spn']\n",
      "spn in phoneseq Interval(3.46, 4.17, \"dasset\") ['spn']\n",
      "spn in phoneseq Interval(5.84, 6.34, \"cripple\") ['spn']\n",
      "spn in phoneseq Interval(3.67, 4.18, \"jamess\") ['spn']\n",
      "spn in phoneseq Interval(3.93, 4.68, \"ilchester\") ['spn']\n",
      "spn in phoneseq Interval(2.75, 3.47, \"armless\") ['spn']\n",
      "spn in phoneseq Interval(3.67, 4.48, \"shoestore\") ['spn']\n",
      "spn in phoneseq Interval(5.52, 5.89, \"misess\") ['spn']\n",
      "spn in phoneseq Interval(0.15, 1.03, \"esarhaddon\") ['spn']\n",
      "spn in phoneseq Interval(3.37, 3.4, \"samas\") ['spn']\n",
      "spn in phoneseq Interval(3.7, 4.68, \"yukin\") ['spn']\n"
     ]
    },
    {
     "name": "stderr",
     "output_type": "stream",
     "text": [
      " 56%|██████████████████████████████████▍                          | 7399/13100 [00:23<00:17, 324.71it/s]"
     ]
    },
    {
     "name": "stdout",
     "output_type": "stream",
     "text": [
      "spn in phoneseq Interval(1.07, 1.62, \"oswalds\") ['spn']\n",
      "spn in phoneseq Interval(1.69, 2.34, \"oswalds\") ['spn']\n",
      "spn in phoneseq Interval(2.28, 2.96, \"prs\") ['spn']\n",
      "spn in phoneseq Interval(1.1, 1.99, \"marshalsea\") ['spn']\n",
      "spn in phoneseq Interval(3.29, 3.98, \"locomotor\") ['spn']\n",
      "spn in phoneseq Interval(0.0, 0.63, \"fraziers\") ['spn']\n",
      "spn in phoneseq Interval(3.86, 4.48, \"carro\") ['spn']\n",
      "spn in phoneseq Interval(2.07, 2.71, \"oswalds\") ['spn']\n",
      "spn in phoneseq Interval(0.0, 0.61, \"oswalds\") ['spn']\n",
      "spn in phoneseq Interval(0.17, 1.06, \"dietaries\") ['spn']\n",
      "spn in phoneseq Interval(4.75, 5.3, \"hidell\") ['spn']\n",
      "spn in phoneseq Interval(2.31, 2.97, \"cartons\") ['spn']\n",
      "spn in phoneseq Interval(4.93, 5.88, \"oswalds\") ['spn']\n",
      "spn in phoneseq Interval(0.65, 1.22, \"saward\") ['spn']\n"
     ]
    },
    {
     "name": "stderr",
     "output_type": "stream",
     "text": [
      " 57%|██████████████████████████████████▊                          | 7465/13100 [00:23<00:18, 301.73it/s]"
     ]
    },
    {
     "name": "stdout",
     "output_type": "stream",
     "text": [
      "spn in phoneseq Interval(0.91, 1.57, \"shaneyfelt\") ['spn']\n",
      "spn in phoneseq Interval(1.18, 1.76, \"oswalds\") ['spn']\n",
      "spn in phoneseq Interval(0.34, 1.15, \"chiselers\") ['spn']\n",
      "spn in phoneseq Interval(2.82, 3.41, \"bestowal\") ['spn']\n",
      "spn in phoneseq Interval(0.27, 0.91, \"oswalds\") ['spn']\n",
      "spn in phoneseq Interval(0.0, 0.46, \"giltspur\") ['spn']\n",
      "spn in phoneseq Interval(4.75, 5.06, \"misess\") ['spn']\n",
      "spn in phoneseq Interval(0.35, 1.0, \"hosty\") ['spn']\n",
      "spn in phoneseq Interval(1.66, 2.07, \"misess\") ['spn']\n",
      "spn in phoneseq Interval(5.05, 5.84, \"oswalds\") ['spn']\n",
      "spn in phoneseq Interval(1.29, 1.89, \"piemen\") ['spn']\n",
      "spn in phoneseq Interval(3.35, 4.25, \"protoplasm\") ['spn']\n",
      "spn in phoneseq Interval(1.57, 1.99, \"hosty\") ['spn']\n",
      "spn in phoneseq Interval(2.35, 2.95, \"oswalds\") ['spn']\n",
      "spn in phoneseq Interval(1.05, 1.88, \"misdemeanant\") ['spn']\n",
      "spn in phoneseq Interval(1.4, 2.1, \"purlieus\") ['spn']\n",
      "spn in phoneseq Interval(5.02, 5.59, \"romeos\") ['spn']\n"
     ]
    },
    {
     "name": "stderr",
     "output_type": "stream",
     "text": [
      " 57%|███████████████████████████████████                          | 7528/13100 [00:24<00:18, 304.76it/s]"
     ]
    },
    {
     "name": "stdout",
     "output_type": "stream",
     "text": [
      "spn in phoneseq Interval(3.94, 4.61, \"reexpand\") ['spn']\n",
      "spn in phoneseq Interval(4.41, 4.77, \"wifes\") ['spn']\n",
      "spn in phoneseq Interval(3.34, 4.2, \"transhipped\") ['spn']\n",
      "spn in phoneseq Interval(0.45, 1.12, \"prs\") ['spn']\n",
      "spn in phoneseq Interval(5.74, 6.03, \"doesn\") ['spn']\n",
      "spn in phoneseq Interval(1.13, 1.9, \"greenacre\") ['spn']\n",
      "spn in phoneseq Interval(1.38, 2.17, \"crosshairs\") ['spn']\n",
      "spn in phoneseq Interval(1.33, 2.08, \"amuhia\") ['spn']\n",
      "spn in phoneseq Interval(3.37, 3.89, \"medean\") ['spn']\n",
      "spn in phoneseq Interval(3.97, 4.91, \"nebuchadnezzars\") ['spn']\n",
      "spn in phoneseq Interval(3.2, 3.72, \"neilds\") ['spn']\n"
     ]
    },
    {
     "name": "stderr",
     "output_type": "stream",
     "text": [
      " 58%|███████████████████████████████████▍                         | 7600/13100 [00:24<00:16, 331.12it/s]"
     ]
    },
    {
     "name": "stdout",
     "output_type": "stream",
     "text": [
      "spn in phoneseq Interval(0.0, 0.76, \"filthiness\") ['spn']\n",
      "spn in phoneseq Interval(1.19, 1.72, \"youngblood\") ['spn']\n",
      "spn in phoneseq Interval(0.37, 1.04, \"fouad\") ['spn']\n",
      "spn in phoneseq Interval(1.56, 2.15, \"bashour\") ['spn']\n",
      "spn in phoneseq Interval(3.53, 4.22, \"borsippa\") ['spn']\n",
      "spn in phoneseq Interval(0.6, 0.94, \"misess\") ['spn']\n",
      "spn in phoneseq Interval(0.94, 1.34, \"connally\") ['spn']\n",
      "spn in phoneseq Interval(0.26, 0.6, \"whaley\") ['spn']\n",
      "spn in phoneseq Interval(4.09, 4.56, \"zippered\") ['spn']\n",
      "spn in phoneseq Interval(0.62, 1.21, \"hidell\") ['spn']\n",
      "spn in phoneseq Interval(4.33, 4.95, \"stemmons\") ['spn']\n",
      "spn in phoneseq Interval(2.83, 3.2, \"misess\") ['spn']\n",
      "spn in phoneseq Interval(0.0, 0.29, \"whaley\") ['spn']\n",
      "spn in phoneseq Interval(1.16, 1.85, \"oswalds\") ['spn']\n",
      "spn in phoneseq Interval(3.26, 3.83, \"greaser\") ['spn']\n",
      "spn in phoneseq Interval(0.0, 0.41, \"roupell\") ['spn']\n",
      "spn in phoneseq Interval(2.25, 3.31, \"exculpation\") ['spn']\n",
      "spn in phoneseq Interval(5.95, 6.63, \"proteid\") ['spn']\n",
      "spn in phoneseq Interval(0.0, 0.5, \"dasent\") ['spn']\n",
      "spn in phoneseq Interval(0.0, 0.67, \"bringuier\") ['spn']\n",
      "spn in phoneseq Interval(0.0, 0.69, \"greenacre\") ['spn']\n",
      "spn in phoneseq Interval(3.32, 3.76, \"connally\") ['spn']\n",
      "spn in phoneseq Interval(3.53, 4.16, \"christs\") ['spn']\n",
      "spn in phoneseq Interval(0.0, 0.47, \"sattler\") ['spn']\n",
      "spn in phoneseq Interval(3.56, 4.29, \"mannings\") ['spn']\n"
     ]
    },
    {
     "name": "stderr",
     "output_type": "stream",
     "text": [
      " 59%|███████████████████████████████████▋                         | 7666/13100 [00:24<00:17, 317.29it/s]"
     ]
    },
    {
     "name": "stdout",
     "output_type": "stream",
     "text": [
      "spn in phoneseq Interval(0.0, 0.81, \"zopyrus\") ['spn']\n",
      "spn in phoneseq Interval(2.86, 3.73, \"protoplasm\") ['spn']\n",
      "spn in phoneseq Interval(5.15, 6.28, \"tradescantia\") ['spn']\n",
      "spn in phoneseq Interval(2.59, 3.25, \"borgias\") ['spn']\n",
      "spn in phoneseq Interval(3.41, 4.45, \"brinvilliers\") ['spn']\n",
      "spn in phoneseq Interval(6.49, 7.6, \"unscrupulously\") ['spn']\n",
      "spn in phoneseq Interval(1.98, 2.27, \"tippit\") ['spn']\n",
      "spn in phoneseq Interval(0.56, 1.02, \"revill\") ['spn']\n",
      "spn in phoneseq Interval(1.21, 1.6, \"hosty\") ['spn']\n",
      "spn in phoneseq Interval(2.11, 2.77, \"fasson\") ['spn']\n",
      "spn in phoneseq Interval(3.42, 3.97, \"oswalds\") ['spn']\n",
      "spn in phoneseq Interval(0.85, 1.5, \"palmprint\") ['spn']\n",
      "spn in phoneseq Interval(2.53, 2.99, \"tippit\") ['spn']\n"
     ]
    },
    {
     "name": "stderr",
     "output_type": "stream",
     "text": [
      " 59%|███████████████████████████████████▉                         | 7730/13100 [00:24<00:17, 301.83it/s]"
     ]
    },
    {
     "name": "stdout",
     "output_type": "stream",
     "text": [
      "spn in phoneseq Interval(0.0, 0.67, \"calcrafts\") ['spn']\n",
      "spn in phoneseq Interval(3.01, 3.88, \"thirteenpence\") ['spn']\n",
      "spn in phoneseq Interval(4.64, 5.19, \"hangmans\") ['spn']\n",
      "spn in phoneseq Interval(6.03, 6.88, \"societys\") ['spn']\n",
      "spn in phoneseq Interval(1.09, 1.76, \"mannlicher\") ['spn']\n",
      "spn in phoneseq Interval(1.76, 2.45, \"carcano\") ['spn']\n",
      "spn in phoneseq Interval(1.33, 1.94, \"lunchroom\") ['spn']\n",
      "spn in phoneseq Interval(1.1, 1.47, \"euins\") ['spn']\n",
      "spn in phoneseq Interval(5.83, 6.33, \"stemmons\") ['spn']\n",
      "spn in phoneseq Interval(0.0, 0.48, \"hocker\") ['spn']\n",
      "spn in phoneseq Interval(6.51, 7.24, \"gardelle\") ['spn']\n",
      "spn in phoneseq Interval(0.0, 0.63, \"cuvier\") ['spn']\n"
     ]
    },
    {
     "name": "stderr",
     "output_type": "stream",
     "text": [
      " 60%|████████████████████████████████████▎                        | 7801/13100 [00:24<00:16, 321.68it/s]"
     ]
    },
    {
     "name": "stdout",
     "output_type": "stream",
     "text": [
      "spn in phoneseq Interval(0.24, 0.94, \"marsalis\") ['spn']\n",
      "spn in phoneseq Interval(2.24, 3.04, \"reexamining\") ['spn']\n",
      "spn in phoneseq Interval(0.0, 0.43, \"misess\") ['spn']\n",
      "spn in phoneseq Interval(0.43, 0.83, \"earlene\") ['spn']\n",
      "spn in phoneseq Interval(2.5, 3.38, \"oswalds\") ['spn']\n",
      "spn in phoneseq Interval(3.38, 3.83, \"roominghouse\") ['spn']\n",
      "spn in phoneseq Interval(2.35, 2.92, \"mullay\") ['spn']\n",
      "spn in phoneseq Interval(0.39, 0.78, \"neild\") ['spn']\n",
      "spn in phoneseq Interval(3.32, 3.97, \"ctesias\") ['spn']\n",
      "spn in phoneseq Interval(0.31, 0.93, \"proteid\") ['spn']\n",
      "spn in phoneseq Interval(2.1, 3.02, \"protoplasm\") ['spn']\n",
      "spn in phoneseq Interval(0.69, 1.29, \"belian\") ['spn']\n",
      "spn in phoneseq Interval(2.3, 2.96, \"cissian\") ['spn']\n",
      "spn in phoneseq Interval(0.06, 1.0, \"babylonians\") ['spn']\n",
      "spn in phoneseq Interval(0.38, 1.09, \"wainwrights\") ['spn']\n",
      "spn in phoneseq Interval(0.31, 0.98, \"hosty\") ['spn']\n",
      "spn in phoneseq Interval(0.95, 1.83, \"protoplasm\") ['spn']\n",
      "spn in phoneseq Interval(2.87, 3.52, \"proteids\") ['spn']\n",
      "spn in phoneseq Interval(4.86, 5.97, \"caducibranchs\") ['spn']\n",
      "spn in phoneseq Interval(0.0, 0.53, \"marwood\") ['spn']\n"
     ]
    },
    {
     "name": "stderr",
     "output_type": "stream",
     "text": [
      " 60%|████████████████████████████████████▋                        | 7868/13100 [00:25<00:16, 322.62it/s]"
     ]
    },
    {
     "name": "stdout",
     "output_type": "stream",
     "text": [
      "spn in phoneseq Interval(3.38, 4.13, \"belshazzar\") ['spn']\n",
      "spn in phoneseq Interval(0.42, 1.1, \"lawsons\") ['spn']\n",
      "spn in phoneseq Interval(6.36, 7.13, \"stortford\") ['spn']\n",
      "spn in phoneseq Interval(3.55, 4.2, \"oswalds\") ['spn']\n",
      "spn in phoneseq Interval(8.73, 9.46, \"probative\") ['spn']\n",
      "spn in phoneseq Interval(0.0, 0.67, \"oswalds\") ['spn']\n",
      "spn in phoneseq Interval(4.6, 5.45, \"roominghouse\") ['spn']\n",
      "spn in phoneseq Interval(0.0, 0.56, \"stombaugh\") ['spn']\n",
      "spn in phoneseq Interval(7.38, 7.94, \"oswalds\") ['spn']\n",
      "spn in phoneseq Interval(2.99, 3.92, \"sinacherib\") ['spn']\n",
      "spn in phoneseq Interval(2.35, 3.03, \"deprecates\") ['spn']\n",
      "spn in phoneseq Interval(3.41, 4.36, \"hindlimbs\") ['spn']\n",
      "spn in phoneseq Interval(0.0, 0.36, \"tippit\") ['spn']\n",
      "spn in phoneseq Interval(0.99, 1.35, \"misess\") ['spn']\n"
     ]
    },
    {
     "name": "stderr",
     "output_type": "stream",
     "text": [
      " 61%|████████████████████████████████████▉                        | 7937/13100 [00:25<00:16, 313.10it/s]"
     ]
    },
    {
     "name": "stdout",
     "output_type": "stream",
     "text": [
      "spn in phoneseq Interval(1.35, 1.9, \"connally\") ['spn']\n",
      "spn in phoneseq Interval(0.47, 1.02, \"fasson\") ['spn']\n",
      "spn in phoneseq Interval(0.21, 0.75, \"hidell\") ['spn']\n",
      "spn in phoneseq Interval(4.41, 4.85, \"alek\") ['spn']\n",
      "spn in phoneseq Interval(6.14, 6.69, \"hidell\") ['spn']\n",
      "spn in phoneseq Interval(3.26, 3.7, \"negro\") ['spn']\n",
      "spn in phoneseq Interval(3.9, 4.5, \"dollimore\") ['spn']\n",
      "spn in phoneseq Interval(3.21, 4.06, \"hammurabi\") ['spn']\n",
      "spn in phoneseq Interval(0.17, 0.94, \"montreuil\") ['spn']\n",
      "spn in phoneseq Interval(0.84, 1.42, \"safes\") ['spn']\n",
      "spn in phoneseq Interval(7.96, 8.56, \"plumule\") ['spn']\n",
      "spn in phoneseq Interval(1.33, 1.68, \"kerp\") ['spn']\n",
      "spn in phoneseq Interval(2.48, 3.11, \"ascription\") ['spn']\n",
      "spn in phoneseq Interval(2.14, 2.23, \"didn\") ['spn']\n",
      "spn in phoneseq Interval(0.38, 0.88, \"wifes\") ['spn']\n",
      "spn in phoneseq Interval(1.27, 2.52, \"reestablishment\") ['spn']\n"
     ]
    },
    {
     "name": "stderr",
     "output_type": "stream",
     "text": [
      " 61%|█████████████████████████████████████▎                       | 8013/13100 [00:25<00:14, 339.23it/s]"
     ]
    },
    {
     "name": "stdout",
     "output_type": "stream",
     "text": [
      "spn in phoneseq Interval(0.23, 0.88, \"scoggins\") ['spn']\n",
      "spn in phoneseq Interval(2.84, 3.54, \"scoggins\") ['spn']\n",
      "spn in phoneseq Interval(3.95, 4.66, \"tarpeys\") ['spn']\n",
      "spn in phoneseq Interval(0.0, 0.35, \"misess\") ['spn']\n",
      "spn in phoneseq Interval(2.11, 2.6, \"lunchroom\") ['spn']\n",
      "spn in phoneseq Interval(2.04, 2.84, \"horsemonger\") ['spn']\n",
      "spn in phoneseq Interval(5.61, 6.38, \"showplace\") ['spn']\n",
      "spn in phoneseq Interval(0.0, 0.34, \"hosty\") ['spn']\n",
      "spn in phoneseq Interval(1.69, 2.36, \"youngbloods\") ['spn']\n",
      "spn in phoneseq Interval(0.35, 0.81, \"hosty\") ['spn']\n",
      "spn in phoneseq Interval(1.13, 1.46, \"misess\") ['spn']\n",
      "spn in phoneseq Interval(4.8, 5.24, \"hosty\") ['spn']\n",
      "spn in phoneseq Interval(2.91, 3.59, \"flytrap\") ['spn']\n",
      "spn in phoneseq Interval(3.95, 4.92, \"lushington\") ['spn']\n",
      "spn in phoneseq Interval(6.66, 7.53, \"moncrieff\") ['spn']\n",
      "spn in phoneseq Interval(4.63, 4.93, \"misess\") ['spn']\n",
      "spn in phoneseq Interval(6.17, 6.74, \"connally\") ['spn']\n"
     ]
    },
    {
     "name": "stderr",
     "output_type": "stream",
     "text": [
      " 62%|█████████████████████████████████████▋                       | 8081/13100 [00:25<00:16, 306.47it/s]"
     ]
    },
    {
     "name": "stdout",
     "output_type": "stream",
     "text": [
      "spn in phoneseq Interval(3.72, 4.35, \"oswalds\") ['spn']\n",
      "spn in phoneseq Interval(4.0, 4.56, \"stemmons\") ['spn']\n",
      "spn in phoneseq Interval(4.94, 5.54, \"oswalds\") ['spn']\n",
      "spn in phoneseq Interval(2.55, 3.22, \"gentlemans\") ['spn']\n",
      "spn in phoneseq Interval(3.57, 4.14, \"gentlemans\") ['spn']\n",
      "spn in phoneseq Interval(0.69, 1.8, \"malpractices\") ['spn']\n",
      "spn in phoneseq Interval(1.99, 2.66, \"bambridge\") ['spn']\n",
      "spn in phoneseq Interval(8.94, 9.57, \"schoeffer\") ['spn']\n",
      "spn in phoneseq Interval(2.1, 2.43, \"hillah\") ['spn']\n",
      "spn in phoneseq Interval(4.05, 4.94, \"depositors\") ['spn']\n"
     ]
    },
    {
     "name": "stderr",
     "output_type": "stream",
     "text": [
      " 62%|█████████████████████████████████████▉                       | 8150/13100 [00:26<00:15, 314.52it/s]"
     ]
    },
    {
     "name": "stdout",
     "output_type": "stream",
     "text": [
      "spn in phoneseq Interval(1.8, 2.53, \"bradshaws\") ['spn']\n",
      "spn in phoneseq Interval(0.0, 0.37, \"misess\") ['spn']\n",
      "spn in phoneseq Interval(2.37, 2.58, \"wasn\") ['spn']\n",
      "spn in phoneseq Interval(2.58, 3.32, \"sorrels\") ['spn']\n",
      "spn in phoneseq Interval(1.26, 1.6, \"misess\") ['spn']\n",
      "spn in phoneseq Interval(1.6, 2.17, \"connally\") ['spn']\n",
      "spn in phoneseq Interval(2.92, 3.4, \"giltspur\") ['spn']\n",
      "spn in phoneseq Interval(6.75, 7.12, \"neild\") ['spn']\n",
      "spn in phoneseq Interval(0.33, 1.4, \"antecedently\") ['spn']\n",
      "spn in phoneseq Interval(1.66, 2.05, \"proberts\") ['spn']\n",
      "spn in phoneseq Interval(0.65, 1.35, \"sorrels\") ['spn']\n",
      "spn in phoneseq Interval(2.94, 3.64, \"greenacre\") ['spn']\n",
      "spn in phoneseq Interval(0.81, 1.41, \"prs\") ['spn']\n"
     ]
    },
    {
     "name": "stderr",
     "output_type": "stream",
     "text": [
      " 63%|██████████████████████████████████████▏                      | 8213/13100 [00:26<00:16, 298.44it/s]"
     ]
    },
    {
     "name": "stdout",
     "output_type": "stream",
     "text": [
      "spn in phoneseq Interval(1.25, 1.82, \"gatesmen\") ['spn']\n",
      "spn in phoneseq Interval(6.62, 7.56, \"reprehended\") ['spn']\n",
      "spn in phoneseq Interval(0.96, 1.58, \"oswalds\") ['spn']\n",
      "spn in phoneseq Interval(1.58, 2.26, \"palmprint\") ['spn']\n",
      "spn in phoneseq Interval(6.86, 7.73, \"sawards\") ['spn']\n",
      "spn in phoneseq Interval(1.23, 1.86, \"krapps\") ['spn']\n",
      "spn in phoneseq Interval(4.96, 5.91, \"wiedersheims\") ['spn']\n",
      "spn in phoneseq Interval(5.64, 6.24, \"connally\") ['spn']\n",
      "spn in phoneseq Interval(1.29, 2.09, \"thirteenpence\") ['spn']\n",
      "spn in phoneseq Interval(7.37, 7.94, \"hangmans\") ['spn']\n",
      "spn in phoneseq Interval(6.36, 7.04, \"akermans\") ['spn']\n",
      "spn in phoneseq Interval(4.19, 4.82, \"ponders\") ['spn']\n",
      "spn in phoneseq Interval(6.76, 7.53, \"esagil\") ['spn']\n",
      "spn in phoneseq Interval(7.68, 8.34, \"ezida\") ['spn']\n",
      "spn in phoneseq Interval(0.43, 1.27, \"zopyrus\") ['spn']\n",
      "spn in phoneseq Interval(4.01, 4.8, \"oswalds\") ['spn']\n"
     ]
    },
    {
     "name": "stderr",
     "output_type": "stream",
     "text": [
      " 63%|██████████████████████████████████████▌                      | 8275/13100 [00:26<00:16, 299.38it/s]"
     ]
    },
    {
     "name": "stdout",
     "output_type": "stream",
     "text": [
      "spn in phoneseq Interval(1.07, 1.96, \"legibility\") ['spn']\n",
      "spn in phoneseq Interval(0.75, 1.27, \"connally\") ['spn']\n",
      "spn in phoneseq Interval(3.63, 4.78, \"helsingfors\") ['spn']\n",
      "spn in phoneseq Interval(2.04, 2.31, \"didn\") ['spn']\n",
      "spn in phoneseq Interval(5.56, 6.2, \"ekdahl\") ['spn']\n",
      "spn in phoneseq Interval(1.03, 1.46, \"wifes\") ['spn']\n",
      "spn in phoneseq Interval(0.0, 0.66, \"caslons\") ['spn']\n",
      "spn in phoneseq Interval(2.02, 2.47, \"legh\") ['spn']\n",
      "spn in phoneseq Interval(2.79, 3.14, \"lym\") ['spn']\n",
      "spn in phoneseq Interval(0.0, 0.36, \"tippit\") ['spn']\n",
      "spn in phoneseq Interval(2.23, 2.67, \"hosty\") ['spn']\n",
      "spn in phoneseq Interval(2.53, 3.4, \"sorrels\") ['spn']\n",
      "spn in phoneseq Interval(4.5, 5.33, \"tracheotomy\") ['spn']\n",
      "spn in phoneseq Interval(4.86, 5.82, \"babylonians\") ['spn']\n"
     ]
    },
    {
     "name": "stderr",
     "output_type": "stream",
     "text": [
      " 64%|██████████████████████████████████████▊                      | 8343/13100 [00:26<00:15, 315.87it/s]"
     ]
    },
    {
     "name": "stdout",
     "output_type": "stream",
     "text": [
      "spn in phoneseq Interval(2.69, 3.26, \"patrolman\") ['spn']\n",
      "spn in phoneseq Interval(3.42, 3.95, \"hocker\") ['spn']\n",
      "spn in phoneseq Interval(3.63, 4.27, \"haggerty\") ['spn']\n",
      "spn in phoneseq Interval(1.69, 2.56, \"tracheotomy\") ['spn']\n",
      "spn in phoneseq Interval(3.42, 4.02, \"carrico\") ['spn']\n",
      "spn in phoneseq Interval(5.89, 6.36, \"cutdowns\") ['spn']\n",
      "spn in phoneseq Interval(5.73, 6.31, \"ker\") ['spn']\n",
      "spn in phoneseq Interval(3.67, 4.52, \"zopyrus\") ['spn']\n",
      "spn in phoneseq Interval(0.77, 1.31, \"carro\") ['spn']\n",
      "spn in phoneseq Interval(1.66, 1.87, \"misess\") ['spn']\n",
      "spn in phoneseq Interval(7.1, 7.76, \"oswalds\") ['spn']\n",
      "spn in phoneseq Interval(0.0, 0.36, \"misess\") ['spn']\n",
      "spn in phoneseq Interval(6.8, 7.67, \"powerscourt\") ['spn']\n",
      "spn in phoneseq Interval(4.67, 5.25, \"oswalds\") ['spn']\n",
      "spn in phoneseq Interval(0.0, 0.33, \"hosty\") ['spn']\n",
      "spn in phoneseq Interval(1.51, 1.88, \"misess\") ['spn']\n",
      "spn in phoneseq Interval(0.81, 1.7, \"vartos\") ['spn']\n",
      "spn in phoneseq Interval(1.97, 2.74, \"watto\") ['spn']\n",
      "spn in phoneseq Interval(4.45, 5.09, \"shrigley\") ['spn']\n",
      "spn in phoneseq Interval(4.22, 5.03, \"brutalized\") ['spn']\n",
      "spn in phoneseq Interval(5.41, 6.14, \"prs\") ['spn']\n",
      "spn in phoneseq Interval(4.34, 5.06, \"smethursts\") ['spn']\n",
      "spn in phoneseq Interval(0.71, 0.97, \"misess\") ['spn']\n",
      "spn in phoneseq Interval(8.4, 8.82, \"jebb\") ['spn']\n",
      "spn in phoneseq Interval(1.15, 1.81, \"hidell\") ['spn']\n",
      "spn in phoneseq Interval(2.35, 2.77, \"misess\") ['spn']\n",
      "spn in phoneseq Interval(2.77, 3.28, \"connally\") ['spn']\n"
     ]
    },
    {
     "name": "stderr",
     "output_type": "stream",
     "text": [
      " 64%|███████████████████████████████████████▏                     | 8407/13100 [00:26<00:15, 304.63it/s]"
     ]
    },
    {
     "name": "stdout",
     "output_type": "stream",
     "text": [
      "spn in phoneseq Interval(0.35, 1.32, \"misdemeanants\") ['spn']\n",
      "spn in phoneseq Interval(6.29, 6.89, \"defaulting\") ['spn']\n",
      "spn in phoneseq Interval(2.72, 3.3, \"udalric\") ['spn']\n",
      "spn in phoneseq Interval(3.3, 3.77, \"gering\") ['spn']\n",
      "spn in phoneseq Interval(1.31, 1.94, \"winsor\") ['spn']\n",
      "spn in phoneseq Interval(0.94, 1.46, \"cartons\") ['spn']\n",
      "spn in phoneseq Interval(0.31, 0.82, \"jebb\") ['spn']\n",
      "spn in phoneseq Interval(0.37, 1.21, \"benavides\") ['spn']\n",
      "spn in phoneseq Interval(1.79, 2.28, \"tippits\") ['spn']\n",
      "spn in phoneseq Interval(5.2, 5.99, \"patrolman\") ['spn']\n",
      "spn in phoneseq Interval(5.99, 6.16, \"tippit\") ['spn']\n",
      "spn in phoneseq Interval(0.0, 0.45, \"voebel\") ['spn']\n",
      "spn in phoneseq Interval(3.19, 3.64, \"paines\") ['spn']\n",
      "spn in phoneseq Interval(0.0, 0.42, \"edgeware\") ['spn']\n",
      "spn in phoneseq Interval(1.26, 1.89, \"akard\") ['spn']\n"
     ]
    },
    {
     "name": "stderr",
     "output_type": "stream",
     "text": [
      " 65%|███████████████████████████████████████▍                     | 8470/13100 [00:27<00:15, 299.92it/s]"
     ]
    },
    {
     "name": "stdout",
     "output_type": "stream",
     "text": [
      "spn in phoneseq Interval(3.01, 3.66, \"sessional\") ['spn']\n",
      "spn in phoneseq Interval(0.0, 1.27, \"nabopolassar\") ['spn']\n",
      "spn in phoneseq Interval(4.29, 4.79, \"imgur\") ['spn']\n",
      "spn in phoneseq Interval(1.11, 1.56, \"bunchers\") ['spn']\n",
      "spn in phoneseq Interval(2.44, 2.97, \"strutton\") ['spn']\n",
      "spn in phoneseq Interval(5.21, 5.76, \"foresman\") ['spn']\n",
      "spn in phoneseq Interval(5.44, 5.94, \"kean\") ['spn']\n",
      "spn in phoneseq Interval(7.95, 8.795873, \"thistlewood\") ['spn']\n",
      "spn in phoneseq Interval(2.09, 2.67, \"drittal\") ['spn']\n",
      "spn in phoneseq Interval(4.34, 4.94, \"oswalds\") ['spn']\n",
      "spn in phoneseq Interval(0.99, 1.52, \"anoura\") ['spn']\n",
      "spn in phoneseq Interval(4.42, 5.2, \"perennibranch\") ['spn']\n",
      "spn in phoneseq Interval(6.44, 7.31, \"caducibranch\") ['spn']\n",
      "spn in phoneseq Interval(9.22, 9.8, \"anoura\") ['spn']\n",
      "spn in phoneseq Interval(6.08, 6.85, \"brutalized\") ['spn']\n",
      "spn in phoneseq Interval(0.45, 0.98, \"roupell\") ['spn']\n",
      "spn in phoneseq Interval(8.48, 9.07, \"erythraean\") ['spn']\n",
      "spn in phoneseq Interval(0.0, 0.9, \"oswalds\") ['spn']\n",
      "spn in phoneseq Interval(0.9, 1.24, \"palmprint\") ['spn']\n",
      "spn in phoneseq Interval(3.24, 4.01, \"aldermens\") ['spn']\n"
     ]
    },
    {
     "name": "stderr",
     "output_type": "stream",
     "text": [
      " 65%|███████████████████████████████████████▉                     | 8565/13100 [00:27<00:14, 303.72it/s]"
     ]
    },
    {
     "name": "stdout",
     "output_type": "stream",
     "text": [
      "spn in phoneseq Interval(3.45, 3.92, \"mullay\") ['spn']\n",
      "spn in phoneseq Interval(4.2, 4.23, \"didn\") ['spn']\n",
      "spn in phoneseq Interval(8.75, 8.84, \"didn\") ['spn']\n",
      "spn in phoneseq Interval(4.29, 4.9, \"oswalds\") ['spn']\n",
      "spn in phoneseq Interval(0.33, 0.92, \"alinement\") ['spn']\n",
      "spn in phoneseq Interval(3.08, 3.71, \"stuckeys\") ['spn']\n",
      "spn in phoneseq Interval(6.42, 7.48, \"wdsu\") ['spn']\n",
      "spn in phoneseq Interval(0.17, 0.77, \"mcwatters\") ['spn']\n",
      "spn in phoneseq Interval(5.92, 6.88, \"notorieties\") ['spn']\n",
      "spn in phoneseq Interval(1.61, 2.12, \"retching\") ['spn']\n",
      "spn in phoneseq Interval(0.08, 0.7, \"forgers\") ['spn']\n",
      "spn in phoneseq Interval(0.0, 0.35, \"misess\") ['spn']\n",
      "spn in phoneseq Interval(0.7, 1.26, \"kean\") ['spn']\n",
      "spn in phoneseq Interval(1.66, 2.17, \"tippits\") ['spn']\n",
      "spn in phoneseq Interval(0.0, 0.71, \"oswalds\") ['spn']\n",
      "spn in phoneseq Interval(3.53, 4.19, \"unremedied\") ['spn']\n",
      "spn in phoneseq Interval(6.09, 6.9, \"redeployed\") ['spn']\n",
      "spn in phoneseq Interval(5.09, 5.64, \"whaleys\") ['spn']\n",
      "spn in phoneseq Interval(1.52, 2.08, \"gatesmen\") ['spn']\n"
     ]
    },
    {
     "name": "stderr",
     "output_type": "stream",
     "text": [
      " 66%|████████████████████████████████████████                     | 8602/13100 [00:27<00:14, 320.90it/s]"
     ]
    },
    {
     "name": "stdout",
     "output_type": "stream",
     "text": [
      "spn in phoneseq Interval(4.66, 5.83, \"opportunists\") ['spn']\n",
      "spn in phoneseq Interval(1.18, 1.92, \"belshazzar\") ['spn']\n",
      "spn in phoneseq Interval(1.95, 2.66, \"mannlicher\") ['spn']\n",
      "spn in phoneseq Interval(2.66, 3.32, \"carcano\") ['spn']\n",
      "spn in phoneseq Interval(6.77, 7.23, \"misess\") ['spn']\n",
      "spn in phoneseq Interval(2.64, 3.05, \"wifes\") ['spn']\n",
      "spn in phoneseq Interval(4.32, 4.92, \"prossa\") ['spn']\n",
      "spn in phoneseq Interval(0.48, 1.09, \"whaley\") ['spn']\n",
      "spn in phoneseq Interval(0.0, 0.59, \"thurtell\") ['spn']\n",
      "spn in phoneseq Interval(1.43, 2.01, \"lovelady\") ['spn']\n",
      "spn in phoneseq Interval(1.26, 1.61, \"misess\") ['spn']\n",
      "spn in phoneseq Interval(4.13, 4.7, \"sorrels\") ['spn']\n",
      "spn in phoneseq Interval(2.61, 3.0, \"wifes\") ['spn']\n"
     ]
    },
    {
     "name": "stderr",
     "output_type": "stream",
     "text": [
      " 66%|████████████████████████████████████████▎                    | 8665/13100 [00:27<00:15, 283.90it/s]"
     ]
    },
    {
     "name": "stdout",
     "output_type": "stream",
     "text": [
      "spn in phoneseq Interval(0.41, 1.07, \"connallys\") ['spn']\n",
      "spn in phoneseq Interval(7.22, 7.87, \"oswalds\") ['spn']\n",
      "spn in phoneseq Interval(4.46, 5.02, \"millbank\") ['spn']\n",
      "spn in phoneseq Interval(6.22, 6.82, \"oswalds\") ['spn']\n",
      "spn in phoneseq Interval(2.28, 2.99, \"lerigo\") ['spn']\n",
      "spn in phoneseq Interval(4.16, 4.86, \"prs\") ['spn']\n",
      "spn in phoneseq Interval(1.02, 1.33, \"misess\") ['spn']\n",
      "spn in phoneseq Interval(6.65, 7.17, \"agonal\") ['spn']\n",
      "spn in phoneseq Interval(1.02, 1.8, \"mohrenschildt\") ['spn']\n",
      "spn in phoneseq Interval(4.65, 5.19, \"oswalds\") ['spn']\n",
      "spn in phoneseq Interval(2.33, 3.02, \"bubbletop\") ['spn']\n",
      "spn in phoneseq Interval(3.8, 4.8, \"excretions\") ['spn']\n",
      "spn in phoneseq Interval(4.02, 4.78, \"babylonians\") ['spn']\n"
     ]
    },
    {
     "name": "stderr",
     "output_type": "stream",
     "text": [
      " 67%|████████████████████████████████████████▊                    | 8758/13100 [00:28<00:14, 297.88it/s]"
     ]
    },
    {
     "name": "stdout",
     "output_type": "stream",
     "text": [
      "spn in phoneseq Interval(3.76, 4.57, \"kirkdale\") ['spn']\n",
      "spn in phoneseq Interval(1.51, 2.31, \"arachtu\") ['spn']\n",
      "spn in phoneseq Interval(0.51, 1.13, \"patrolman\") ['spn']\n",
      "spn in phoneseq Interval(1.13, 1.67, \"tippit\") ['spn']\n",
      "spn in phoneseq Interval(6.37, 7.39, \"treviranus\") ['spn']\n",
      "spn in phoneseq Interval(1.77, 2.64, \"zopyrus\") ['spn']\n",
      "spn in phoneseq Interval(3.52, 4.56, \"megabyzus\") ['spn']\n",
      "spn in phoneseq Interval(0.0, 0.73, \"prs\") ['spn']\n",
      "spn in phoneseq Interval(3.39, 4.28, \"protoplasm\") ['spn']\n",
      "spn in phoneseq Interval(4.61, 5.27, \"proteid\") ['spn']\n",
      "spn in phoneseq Interval(5.64, 6.19, \"oswalds\") ['spn']\n",
      "spn in phoneseq Interval(1.17, 1.75, \"dwindles\") ['spn']\n",
      "spn in phoneseq Interval(0.17, 1.0, \"courtmartialed\") ['spn']\n",
      "spn in phoneseq Interval(3.28, 4.26, \"silversmiths\") ['spn']\n",
      "spn in phoneseq Interval(1.4, 1.86, \"neild\") ['spn']\n",
      "spn in phoneseq Interval(6.74, 7.36, \"sharings\") ['spn']\n",
      "spn in phoneseq Interval(2.06, 3.22, \"exasperatingly\") ['spn']\n"
     ]
    },
    {
     "name": "stderr",
     "output_type": "stream",
     "text": [
      " 67%|█████████████████████████████████████████                    | 8826/13100 [00:28<00:13, 313.66it/s]"
     ]
    },
    {
     "name": "stdout",
     "output_type": "stream",
     "text": [
      "spn in phoneseq Interval(1.9, 2.65, \"babylonians\") ['spn']\n",
      "spn in phoneseq Interval(0.0, 0.99, \"subversives\") ['spn']\n",
      "spn in phoneseq Interval(1.37, 1.7, \"ultrarightists\") ['spn']\n",
      "spn in phoneseq Interval(6.61, 7.28, \"saward\") ['spn']\n",
      "spn in phoneseq Interval(0.71, 1.55, \"marshalsea\") ['spn']\n",
      "spn in phoneseq Interval(0.49, 1.16, \"pawnbrokers\") ['spn']\n",
      "spn in phoneseq Interval(1.32, 2.32, \"subpoenaed\") ['spn']\n",
      "spn in phoneseq Interval(2.57, 3.38, \"mannlicher\") ['spn']\n",
      "spn in phoneseq Interval(3.38, 4.26, \"carcano\") ['spn']\n",
      "spn in phoneseq Interval(0.0, 0.44, \"latona\") ['spn']\n",
      "spn in phoneseq Interval(1.55, 2.28, \"palmprint\") ['spn']\n",
      "spn in phoneseq Interval(3.22, 3.83, \"palmprint\") ['spn']\n",
      "spn in phoneseq Interval(1.7, 2.49, \"stortford\") ['spn']\n",
      "spn in phoneseq Interval(0.28, 0.81, \"fouad\") ['spn']\n",
      "spn in phoneseq Interval(0.81, 1.45, \"bashour\") ['spn']\n",
      "spn in phoneseq Interval(1.97, 2.85, \"cardiology\") ['spn']\n",
      "spn in phoneseq Interval(5.22, 6.42, \"anesthesiology\") ['spn']\n",
      "spn in phoneseq Interval(8.17, 8.7, \"giesecke\") ['spn']\n",
      "spn in phoneseq Interval(5.97, 6.39, \"berrys\") ['spn']\n",
      "spn in phoneseq Interval(2.41, 2.86, \"chevaux\") ['spn']\n",
      "spn in phoneseq Interval(2.94, 3.54, \"frise\") ['spn']\n",
      "spn in phoneseq Interval(5.86, 6.58, \"romanes\") ['spn']\n"
     ]
    },
    {
     "name": "stderr",
     "output_type": "stream",
     "text": [
      " 68%|█████████████████████████████████████████▍                   | 8890/13100 [00:28<00:13, 310.32it/s]"
     ]
    },
    {
     "name": "stdout",
     "output_type": "stream",
     "text": [
      "spn in phoneseq Interval(0.25, 0.81, \"wardsmen\") ['spn']\n",
      "spn in phoneseq Interval(3.03, 3.39, \"misess\") ['spn']\n",
      "spn in phoneseq Interval(1.33, 1.97, \"oswalds\") ['spn']\n",
      "spn in phoneseq Interval(3.11, 3.67, \"connally\") ['spn']\n",
      "spn in phoneseq Interval(5.25, 5.53, \"behn\") ['spn']\n",
      "spn in phoneseq Interval(0.38, 1.44, \"godmanchester\") ['spn']\n",
      "spn in phoneseq Interval(6.84, 7.49, \"chambering\") ['spn']\n",
      "spn in phoneseq Interval(7.33, 8.25, \"proclivities\") ['spn']\n",
      "spn in phoneseq Interval(1.85, 2.17, \"misess\") ['spn']\n",
      "spn in phoneseq Interval(1.89, 2.02, \"forgers\") ['spn']\n",
      "spn in phoneseq Interval(0.23, 0.76, \"carrico\") ['spn']\n",
      "spn in phoneseq Interval(6.51, 7.2, \"zulueta\") ['spn']\n",
      "spn in phoneseq Interval(3.77, 4.74, \"protoplasm\") ['spn']\n"
     ]
    },
    {
     "name": "stderr",
     "output_type": "stream",
     "text": [
      " 68%|█████████████████████████████████████████▋                   | 8958/13100 [00:28<00:12, 320.37it/s]"
     ]
    },
    {
     "name": "stdout",
     "output_type": "stream",
     "text": [
      "spn in phoneseq Interval(4.27, 4.67, \"misess\") ['spn']\n",
      "spn in phoneseq Interval(3.64, 4.28, \"chinamen\") ['spn']\n",
      "spn in phoneseq Interval(0.75, 1.59, \"inveigling\") ['spn']\n",
      "spn in phoneseq Interval(7.13, 7.89, \"caspars\") ['spn']\n",
      "spn in phoneseq Interval(3.13, 4.05, \"siredon\") ['spn']\n",
      "spn in phoneseq Interval(4.38, 5.38, \"menobranchus\") ['spn']\n",
      "spn in phoneseq Interval(4.21, 4.95, \"incomers\") ['spn']\n",
      "spn in phoneseq Interval(3.33, 3.85, \"carrico\") ['spn']\n",
      "spn in phoneseq Interval(4.25, 5.33, \"slaughterhouses\") ['spn']\n",
      "spn in phoneseq Interval(0.13, 0.66, \"giltspur\") ['spn']\n",
      "spn in phoneseq Interval(0.0, 0.58, \"youngblood\") ['spn']\n",
      "spn in phoneseq Interval(6.53, 6.91, \"johnsons\") ['spn']\n",
      "spn in phoneseq Interval(8.96, 9.74, \"forgers\") ['spn']\n",
      "spn in phoneseq Interval(3.25, 3.76, \"tippit\") ['spn']\n",
      "spn in phoneseq Interval(2.93, 3.66, \"cartons\") ['spn']\n",
      "spn in phoneseq Interval(1.31, 1.72, \"misess\") ['spn']\n",
      "spn in phoneseq Interval(1.59, 1.98, \"misess\") ['spn']\n",
      "spn in phoneseq Interval(3.71, 4.4, \"oswalds\") ['spn']\n",
      "spn in phoneseq Interval(3.88, 4.57, \"smethurst\") ['spn']\n",
      "spn in phoneseq Interval(1.46, 2.08, \"oswalds\") ['spn']\n",
      "spn in phoneseq Interval(4.35, 5.24, \"pugnaciousness\") ['spn']\n"
     ]
    },
    {
     "name": "stderr",
     "output_type": "stream",
     "text": [
      " 69%|██████████████████████████████████████████                   | 9023/13100 [00:28<00:13, 295.54it/s]"
     ]
    },
    {
     "name": "stdout",
     "output_type": "stream",
     "text": [
      "spn in phoneseq Interval(4.37, 5.2, \"niggardliness\") ['spn']\n",
      "spn in phoneseq Interval(3.34, 4.03, \"shrigley\") ['spn']\n",
      "spn in phoneseq Interval(3.01, 3.62, \"oswalds\") ['spn']\n",
      "spn in phoneseq Interval(0.0, 0.43, \"thurtell\") ['spn']\n",
      "spn in phoneseq Interval(3.97, 4.58, \"thurtells\") ['spn']\n",
      "spn in phoneseq Interval(3.05, 3.27, \"wasn\") ['spn']\n",
      "spn in phoneseq Interval(4.51, 4.65, \"didn\") ['spn']\n",
      "spn in phoneseq Interval(4.14, 4.96, \"reprieved\") ['spn']\n",
      "spn in phoneseq Interval(2.07, 2.57, \"stombaugh\") ['spn']\n",
      "spn in phoneseq Interval(0.03, 0.08, \"didn\") ['spn']\n",
      "spn in phoneseq Interval(2.55, 3.22, \"sawyers\") ['spn']\n",
      "spn in phoneseq Interval(0.0, 0.33, \"misess\") ['spn']\n",
      "spn in phoneseq Interval(0.0, 0.61, \"wattss\") ['spn']\n",
      "spn in phoneseq Interval(8.08, 8.7, \"passbook\") ['spn']\n"
     ]
    },
    {
     "name": "stderr",
     "output_type": "stream",
     "text": [
      " 70%|██████████████████████████████████████████▍                  | 9122/13100 [00:29<00:12, 315.92it/s]"
     ]
    },
    {
     "name": "stdout",
     "output_type": "stream",
     "text": [
      "spn in phoneseq Interval(1.61, 2.87, \"resurrectionists\") ['spn']\n",
      "spn in phoneseq Interval(0.0, 0.61, \"oswalds\") ['spn']\n",
      "spn in phoneseq Interval(1.48, 2.23, \"palmprint\") ['spn']\n",
      "spn in phoneseq Interval(1.28, 1.73, \"misess\") ['spn']\n",
      "spn in phoneseq Interval(0.55, 1.3, \"curtailment\") ['spn']\n",
      "spn in phoneseq Interval(2.57, 3.49, \"courvoisiers\") ['spn']\n",
      "spn in phoneseq Interval(5.37, 6.05, \"officialy\") ['spn']\n",
      "spn in phoneseq Interval(0.55, 1.39, \"fauntleroys\") ['spn']\n",
      "spn in phoneseq Interval(1.87, 3.31, \"fpcc\") ['spn']\n",
      "spn in phoneseq Interval(3.3, 4.03, \"harrowbys\") ['spn']\n",
      "spn in phoneseq Interval(6.08, 6.62, \"coiner\") ['spn']\n",
      "spn in phoneseq Interval(0.58, 1.23, \"thain\") ['spn']\n",
      "spn in phoneseq Interval(5.89, 6.7, \"inveigled\") ['spn']\n",
      "spn in phoneseq Interval(0.44, 1.03, \"oswalds\") ['spn']\n",
      "spn in phoneseq Interval(4.32, 4.87, \"wardsman\") ['spn']\n",
      "spn in phoneseq Interval(5.34, 6.04, \"oswalds\") ['spn']\n",
      "spn in phoneseq Interval(4.25, 4.71, \"turners\") ['spn']\n",
      "spn in phoneseq Interval(2.73, 3.04, \"hadn\") ['spn']\n"
     ]
    },
    {
     "name": "stderr",
     "output_type": "stream",
     "text": [
      " 70%|██████████████████████████████████████████▊                  | 9186/13100 [00:29<00:12, 303.28it/s]"
     ]
    },
    {
     "name": "stdout",
     "output_type": "stream",
     "text": [
      "spn in phoneseq Interval(4.44, 4.87, \"hillah\") ['spn']\n",
      "spn in phoneseq Interval(1.01, 1.61, \"cuviers\") ['spn']\n",
      "spn in phoneseq Interval(2.36, 2.7, \"tippit\") ['spn']\n",
      "spn in phoneseq Interval(1.45, 1.82, \"celebre\") ['spn']\n",
      "spn in phoneseq Interval(7.32, 7.95, \"goncourt\") ['spn']\n",
      "spn in phoneseq Interval(1.53, 1.9, \"misess\") ['spn']\n",
      "spn in phoneseq Interval(2.1, 2.95, \"roominghouse\") ['spn']\n",
      "spn in phoneseq Interval(3.86, 4.49, \"earlene\") ['spn']\n",
      "spn in phoneseq Interval(2.22, 2.79, \"pearsons\") ['spn']\n",
      "spn in phoneseq Interval(5.47, 6.08, \"agencys\") ['spn']\n",
      "spn in phoneseq Interval(4.69, 5.64, \"roominghouse\") ['spn']\n",
      "spn in phoneseq Interval(0.45, 1.01, \"wardsmen\") ['spn']\n"
     ]
    },
    {
     "name": "stderr",
     "output_type": "stream",
     "text": [
      " 71%|███████████████████████████████████████████                  | 9251/13100 [00:29<00:12, 305.34it/s]"
     ]
    },
    {
     "name": "stdout",
     "output_type": "stream",
     "text": [
      "spn in phoneseq Interval(0.1, 0.83, \"palmprint\") ['spn']\n",
      "spn in phoneseq Interval(5.45, 6.13, \"foregrip\") ['spn']\n",
      "spn in phoneseq Interval(0.07, 0.96, \"misemployment\") ['spn']\n",
      "spn in phoneseq Interval(0.0, 0.38, \"ings\") ['spn']\n",
      "spn in phoneseq Interval(1.62, 2.2, \"roupell\") ['spn']\n",
      "spn in phoneseq Interval(1.57, 1.94, \"misess\") ['spn']\n",
      "spn in phoneseq Interval(5.25, 6.15, \"gluttonously\") ['spn']\n",
      "spn in phoneseq Interval(2.91, 3.56, \"prs\") ['spn']\n",
      "spn in phoneseq Interval(0.59, 1.25, \"robsons\") ['spn']\n",
      "spn in phoneseq Interval(3.49, 4.26, \"discounter\") ['spn']\n",
      "spn in phoneseq Interval(0.0, 0.33, \"heres\") ['spn']\n",
      "spn in phoneseq Interval(0.0, 0.63, \"oswalds\") ['spn']\n"
     ]
    },
    {
     "name": "stderr",
     "output_type": "stream",
     "text": [
      " 71%|███████████████████████████████████████████▎                 | 9314/13100 [00:29<00:12, 293.84it/s]"
     ]
    },
    {
     "name": "stdout",
     "output_type": "stream",
     "text": [
      "spn in phoneseq Interval(6.75, 7.49, \"oswalds\") ['spn']\n",
      "spn in phoneseq Interval(5.89, 6.6, \"voebels\") ['spn']\n",
      "spn in phoneseq Interval(6.4, 6.93, \"maltby\") ['spn']\n",
      "spn in phoneseq Interval(3.36, 4.06, \"crisscross\") ['spn']\n",
      "spn in phoneseq Interval(4.45, 5.09, \"safes\") ['spn']\n",
      "spn in phoneseq Interval(6.74, 7.34, \"chubbs\") ['spn']\n",
      "spn in phoneseq Interval(2.47, 3.04, \"neches\") ['spn']\n",
      "spn in phoneseq Interval(3.66, 4.31, \"lunchroom\") ['spn']\n",
      "spn in phoneseq Interval(1.62, 2.37, \"excretions\") ['spn']\n",
      "spn in phoneseq Interval(9.25, 9.94, \"stomata\") ['spn']\n",
      "spn in phoneseq Interval(4.29, 4.79, \"hidell\") ['spn']\n",
      "spn in phoneseq Interval(6.36, 7.02, \"oswalds\") ['spn']\n",
      "spn in phoneseq Interval(8.61, 9.54, \"reemployed\") ['spn']\n",
      "spn in phoneseq Interval(3.26, 3.88, \"oswalds\") ['spn']\n",
      "spn in phoneseq Interval(6.07, 6.93, \"tracheotomy\") ['spn']\n",
      "spn in phoneseq Interval(0.74, 1.13, \"hosty\") ['spn']\n",
      "spn in phoneseq Interval(1.59, 2.03, \"revill\") ['spn']\n",
      "spn in phoneseq Interval(5.9, 6.32, \"misess\") ['spn']\n",
      "spn in phoneseq Interval(6.32, 6.8, \"cannings\") ['spn']\n",
      "spn in phoneseq Interval(1.69, 2.37, \"roominghouse\") ['spn']\n"
     ]
    },
    {
     "name": "stderr",
     "output_type": "stream",
     "text": [
      " 72%|███████████████████████████████████████████▋                 | 9379/13100 [00:30<00:12, 306.43it/s]"
     ]
    },
    {
     "name": "stdout",
     "output_type": "stream",
     "text": [
      "spn in phoneseq Interval(0.14, 0.44, \"misess\") ['spn']\n",
      "spn in phoneseq Interval(1.76, 2.2, \"dwyers\") ['spn']\n",
      "spn in phoneseq Interval(1.82, 2.31, \"intrusting\") ['spn']\n",
      "spn in phoneseq Interval(0.0, 0.6, \"prs\") ['spn']\n",
      "spn in phoneseq Interval(1.0, 1.58, \"prs\") ['spn']\n",
      "spn in phoneseq Interval(6.92, 7.72, \"majestys\") ['spn']\n",
      "spn in phoneseq Interval(3.58, 4.19, \"altgens\") ['spn']\n",
      "spn in phoneseq Interval(1.01, 1.5, \"forfeiting\") ['spn']\n",
      "spn in phoneseq Interval(0.75, 1.22, \"cuvier\") ['spn']\n",
      "spn in phoneseq Interval(6.16, 7.36, \"conceptualisation\") ['spn']\n",
      "spn in phoneseq Interval(2.45, 2.95, \"tippit\") ['spn']\n",
      "spn in phoneseq Interval(4.54, 5.03, \"misess\") ['spn']\n",
      "spn in phoneseq Interval(5.03, 5.31, \"markhams\") ['spn']\n"
     ]
    },
    {
     "name": "stderr",
     "output_type": "stream",
     "text": [
      " 72%|███████████████████████████████████████████▉                 | 9441/13100 [00:30<00:12, 283.08it/s]"
     ]
    },
    {
     "name": "stdout",
     "output_type": "stream",
     "text": [
      "spn in phoneseq Interval(1.69, 2.86, \"nabopolassar\") ['spn']\n",
      "spn in phoneseq Interval(3.04, 3.58, \"hidell\") ['spn']\n",
      "spn in phoneseq Interval(0.0, 0.36, \"misess\") ['spn']\n",
      "spn in phoneseq Interval(0.0, 0.59, \"oswalds\") ['spn']\n",
      "spn in phoneseq Interval(6.44, 6.82, \"tippit\") ['spn']\n",
      "spn in phoneseq Interval(4.28, 5.23, \"animadverting\") ['spn']\n",
      "spn in phoneseq Interval(0.0, 0.55, \"hockers\") ['spn']\n",
      "spn in phoneseq Interval(1.9, 2.24, \"misess\") ['spn']\n",
      "spn in phoneseq Interval(4.09, 4.8, \"oswalds\") ['spn']\n",
      "spn in phoneseq Interval(6.72, 7.61, \"roominghouse\") ['spn']\n",
      "spn in phoneseq Interval(6.64, 7.32, \"prs\") ['spn']\n",
      "spn in phoneseq Interval(7.76, 8.55, \"roominghouse\") ['spn']\n",
      "spn in phoneseq Interval(3.57, 3.92, \"revved\") ['spn']\n",
      "spn in phoneseq Interval(1.97, 2.66, \"oswalds\") ['spn']\n",
      "spn in phoneseq Interval(2.28, 2.99, \"wakefields\") ['spn']\n",
      "spn in phoneseq Interval(0.72, 1.49, \"calcraft\") ['spn']\n",
      "spn in phoneseq Interval(4.82, 5.38, \"quigleys\") ['spn']\n"
     ]
    },
    {
     "name": "stderr",
     "output_type": "stream",
     "text": [
      " 73%|████████████████████████████████████████████▎                | 9504/13100 [00:30<00:12, 294.79it/s]"
     ]
    },
    {
     "name": "stdout",
     "output_type": "stream",
     "text": [
      "spn in phoneseq Interval(5.25, 6.08, \"excavators\") ['spn']\n",
      "spn in phoneseq Interval(1.19, 1.8, \"hosty\") ['spn']\n",
      "spn in phoneseq Interval(2.41, 3.14, \"oswalds\") ['spn']\n",
      "spn in phoneseq Interval(2.58, 3.3, \"yorks\") ['spn']\n",
      "spn in phoneseq Interval(1.7, 2.53, \"manumitted\") ['spn']\n",
      "spn in phoneseq Interval(3.51, 4.44, \"babylonians\") ['spn']\n",
      "spn in phoneseq Interval(7.44, 8.33, \"remunerated\") ['spn']\n",
      "spn in phoneseq Interval(5.32, 6.26, \"pawnbrokers\") ['spn']\n",
      "spn in phoneseq Interval(3.18, 4.15, \"embryologists\") ['spn']\n",
      "spn in phoneseq Interval(6.08, 6.95, \"strychnia\") ['spn']\n",
      "spn in phoneseq Interval(0.0, 0.66, \"oswalds\") ['spn']\n",
      "spn in phoneseq Interval(4.04, 4.99, \"americanized\") ['spn']\n"
     ]
    },
    {
     "name": "stderr",
     "output_type": "stream",
     "text": [
      " 73%|████████████████████████████████████████████▌                | 9571/13100 [00:30<00:11, 312.00it/s]"
     ]
    },
    {
     "name": "stdout",
     "output_type": "stream",
     "text": [
      "spn in phoneseq Interval(0.3, 0.99, \"palmprint\") ['spn']\n",
      "spn in phoneseq Interval(2.71, 3.59, \"unshrinking\") ['spn']\n",
      "spn in phoneseq Interval(4.08, 5.17, \"nabopolassar\") ['spn']\n",
      "spn in phoneseq Interval(5.82, 6.45, \"digests\") ['spn']\n",
      "spn in phoneseq Interval(0.76, 1.19, \"tippit\") ['spn']\n",
      "spn in phoneseq Interval(0.0, 0.62, \"thistlewood\") ['spn']\n",
      "spn in phoneseq Interval(4.44, 5.29, \"moorfields\") ['spn']\n",
      "spn in phoneseq Interval(2.68, 3.48, \"cutdowns\") ['spn']\n",
      "spn in phoneseq Interval(1.3, 2.01, \"roominghouse\") ['spn']\n",
      "spn in phoneseq Interval(4.45, 5.08, \"suturing\") ['spn']\n",
      "spn in phoneseq Interval(6.11, 6.79, \"paines\") ['spn']\n"
     ]
    },
    {
     "name": "stderr",
     "output_type": "stream",
     "text": [
      " 74%|████████████████████████████████████████████▉                | 9641/13100 [00:30<00:10, 330.54it/s]"
     ]
    },
    {
     "name": "stdout",
     "output_type": "stream",
     "text": [
      "spn in phoneseq Interval(1.49, 1.54, \"nabonidus\") ['spn']\n",
      "spn in phoneseq Interval(3.04, 5.12, \"belshazzar\") ['spn']\n",
      "spn in phoneseq Interval(8.54, 9.15, \"trulys\") ['spn']\n",
      "spn in phoneseq Interval(0.37, 1.02, \"misess\") ['spn']\n",
      "spn in phoneseq Interval(1.02, 1.28, \"daulby\") ['spn']\n",
      "spn in phoneseq Interval(3.71, 4.42, \"shrigley\") ['spn']\n",
      "spn in phoneseq Interval(4.3, 5.16, \"swandown\") ['spn']\n",
      "spn in phoneseq Interval(2.6, 2.9, \"didn\") ['spn']\n",
      "spn in phoneseq Interval(2.71, 3.31, \"hosty\") ['spn']\n",
      "spn in phoneseq Interval(6.12, 6.62, \"fains\") ['spn']\n",
      "spn in phoneseq Interval(0.09, 0.71, \"latonas\") ['spn']\n",
      "spn in phoneseq Interval(0.0, 0.75, \"macintoshs\") ['spn']\n",
      "spn in phoneseq Interval(2.95, 3.42, \"misess\") ['spn']\n",
      "spn in phoneseq Interval(6.66, 7.4, \"vermiform\") ['spn']\n",
      "spn in phoneseq Interval(6.72, 7.37, \"patman\") ['spn']\n",
      "spn in phoneseq Interval(1.72, 2.92, \"orientgesellschaft\") ['spn']\n"
     ]
    },
    {
     "name": "stderr",
     "output_type": "stream",
     "text": [
      " 74%|█████████████████████████████████████████████▏               | 9707/13100 [00:31<00:11, 306.66it/s]"
     ]
    },
    {
     "name": "stdout",
     "output_type": "stream",
     "text": [
      "spn in phoneseq Interval(0.9, 1.66, \"wakefields\") ['spn']\n",
      "spn in phoneseq Interval(0.95, 1.94, \"transpiration\") ['spn']\n",
      "spn in phoneseq Interval(7.07, 7.76, \"stomata\") ['spn']\n",
      "spn in phoneseq Interval(0.31, 0.93, \"abinger\") ['spn']\n",
      "spn in phoneseq Interval(2.06, 2.55, \"tuffnell\") ['spn']\n",
      "spn in phoneseq Interval(5.42, 6.43, \"oxenford\") ['spn']\n",
      "spn in phoneseq Interval(7.72, 8.14, \"neild\") ['spn']\n",
      "spn in phoneseq Interval(0.14, 0.39, \"misess\") ['spn']\n",
      "spn in phoneseq Interval(2.24, 3.05, \"depositors\") ['spn']\n",
      "spn in phoneseq Interval(0.29, 0.66, \"misess\") ['spn']\n",
      "spn in phoneseq Interval(0.66, 1.07, \"connally\") ['spn']\n",
      "spn in phoneseq Interval(5.82, 6.51, \"militated\") ['spn']\n"
     ]
    },
    {
     "name": "stderr",
     "output_type": "stream",
     "text": [
      " 75%|█████████████████████████████████████████████▌               | 9778/13100 [00:31<00:10, 329.17it/s]"
     ]
    },
    {
     "name": "stdout",
     "output_type": "stream",
     "text": [
      "spn in phoneseq Interval(2.38, 3.07, \"thistlewood\") ['spn']\n",
      "spn in phoneseq Interval(1.89, 2.43, \"stemmons\") ['spn']\n",
      "spn in phoneseq Interval(2.42, 3.15, \"strychnia\") ['spn']\n",
      "spn in phoneseq Interval(5.72, 6.97, \"constitutionality\") ['spn']\n",
      "spn in phoneseq Interval(1.06, 1.82, \"romanes\") ['spn']\n",
      "spn in phoneseq Interval(6.87, 7.85, \"embryology\") ['spn']\n",
      "spn in phoneseq Interval(3.43, 4.14, \"oswalds\") ['spn']\n",
      "spn in phoneseq Interval(0.0, 0.68, \"oswalds\") ['spn']\n",
      "spn in phoneseq Interval(8.36, 8.9, \"patrolman\") ['spn']\n",
      "spn in phoneseq Interval(9.4, 9.68, \"tippit\") ['spn']\n",
      "spn in phoneseq Interval(0.0, 0.5, \"sattler\") ['spn']\n",
      "spn in phoneseq Interval(4.14, 4.89, \"derelictions\") ['spn']\n",
      "spn in phoneseq Interval(3.98, 4.7, \"librivox\") ['spn']\n",
      "spn in phoneseq Interval(0.98, 1.58, \"revoking\") ['spn']\n",
      "spn in phoneseq Interval(0.78, 1.45, \"oswalds\") ['spn']\n",
      "spn in phoneseq Interval(4.05, 4.1, \"inefficiently\") ['spn']\n",
      "spn in phoneseq Interval(0.0, 0.78, \"pentonville\") ['spn']\n",
      "spn in phoneseq Interval(0.63, 1.38, \"sokolow\") ['spn']\n"
     ]
    },
    {
     "name": "stderr",
     "output_type": "stream",
     "text": [
      " 75%|█████████████████████████████████████████████▊               | 9845/13100 [00:31<00:09, 326.23it/s]"
     ]
    },
    {
     "name": "stdout",
     "output_type": "stream",
     "text": [
      "spn in phoneseq Interval(5.23, 5.8, \"armys\") ['spn']\n",
      "spn in phoneseq Interval(2.09, 3.4, \"nebuchadrezzar\") ['spn']\n",
      "spn in phoneseq Interval(2.34, 3.02, \"mannlicher\") ['spn']\n",
      "spn in phoneseq Interval(3.02, 3.78, \"carcano\") ['spn']\n",
      "spn in phoneseq Interval(5.36, 6.07, \"caunts\") ['spn']\n",
      "spn in phoneseq Interval(6.31, 7.19, \"pugilists\") ['spn']\n",
      "spn in phoneseq Interval(2.29, 2.84, \"altgens\") ['spn']\n",
      "spn in phoneseq Interval(0.81, 1.52, \"cuvier\") ['spn']\n",
      "spn in phoneseq Interval(6.49, 7.03, \"stemmons\") ['spn']\n",
      "spn in phoneseq Interval(5.18, 5.65, \"tapster\") ['spn']\n",
      "spn in phoneseq Interval(0.17, 0.62, \"misess\") ['spn']\n",
      "spn in phoneseq Interval(4.74, 5.43, \"carrico\") ['spn']\n",
      "spn in phoneseq Interval(4.11, 4.79, \"folgate\") ['spn']\n",
      "spn in phoneseq Interval(1.93, 2.59, \"nimitti\") ['spn']\n"
     ]
    },
    {
     "name": "stderr",
     "output_type": "stream",
     "text": [
      " 76%|██████████████████████████████████████████████▏              | 9911/13100 [00:31<00:09, 320.04it/s]"
     ]
    },
    {
     "name": "stdout",
     "output_type": "stream",
     "text": [
      "spn in phoneseq Interval(0.35, 1.12, \"adequacy\") ['spn']\n",
      "spn in phoneseq Interval(1.19, 2.02, \"chartists\") ['spn']\n",
      "spn in phoneseq Interval(2.37, 3.03, \"oswalds\") ['spn']\n",
      "spn in phoneseq Interval(3.22, 3.64, \"probert\") ['spn']\n",
      "spn in phoneseq Interval(4.2, 4.64, \"lynched\") ['spn']\n",
      "spn in phoneseq Interval(0.75, 1.46, \"gobrias\") ['spn']\n",
      "spn in phoneseq Interval(2.44, 2.82, \"misess\") ['spn']\n",
      "spn in phoneseq Interval(0.72, 1.31, \"buranelli\") ['spn']\n",
      "spn in phoneseq Interval(1.25, 1.63, \"wifes\") ['spn']\n",
      "spn in phoneseq Interval(3.35, 4.25, \"mvd\") ['spn']\n",
      "spn in phoneseq Interval(1.19, 1.8, \"stombaugh\") ['spn']\n",
      "spn in phoneseq Interval(1.99, 2.43, \"mullay\") ['spn']\n",
      "spn in phoneseq Interval(2.45, 2.96, \"saward\") ['spn']\n",
      "spn in phoneseq Interval(5.7, 6.29, \"mannings\") ['spn']\n",
      "spn in phoneseq Interval(2.47, 3.42, \"jeopardized\") ['spn']\n",
      "spn in phoneseq Interval(0.23, 0.78, \"appareled\") ['spn']\n",
      "spn in phoneseq Interval(1.75, 2.38, \"ervay\") ['spn']\n",
      "spn in phoneseq Interval(6.42, 7.08, \"pentonville\") ['spn']\n"
     ]
    },
    {
     "name": "stderr",
     "output_type": "stream",
     "text": [
      " 76%|██████████████████████████████████████████████▍              | 9976/13100 [00:32<00:10, 308.99it/s]"
     ]
    },
    {
     "name": "stdout",
     "output_type": "stream",
     "text": [
      "spn in phoneseq Interval(5.08, 5.74, \"suturing\") ['spn']\n",
      "spn in phoneseq Interval(0.64, 1.22, \"lanni\") ['spn']\n",
      "spn in phoneseq Interval(2.54, 3.23, \"bringuier\") ['spn']\n",
      "spn in phoneseq Interval(3.63, 4.45, \"lovelady\") ['spn']\n",
      "spn in phoneseq Interval(0.0, 0.67, \"prs\") ['spn']\n",
      "spn in phoneseq Interval(2.04, 2.82, \"mailroom\") ['spn']\n",
      "spn in phoneseq Interval(4.04, 4.68, \"prs\") ['spn']\n",
      "spn in phoneseq Interval(8.52, 8.55, \"didn\") ['spn']\n",
      "spn in phoneseq Interval(9.17, 9.52, \"tippit\") ['spn']\n",
      "spn in phoneseq Interval(6.42, 7.03, \"oswalds\") ['spn']\n",
      "spn in phoneseq Interval(2.16, 2.6, \"lunchroom\") ['spn']\n",
      "spn in phoneseq Interval(5.98, 6.92, \"patrolman\") ['spn']\n",
      "spn in phoneseq Interval(6.92, 7.05, \"tippit\") ['spn']\n",
      "spn in phoneseq Interval(0.7, 1.49, \"marsalis\") ['spn']\n"
     ]
    },
    {
     "name": "stderr",
     "output_type": "stream",
     "text": [
      " 77%|█████████████████████████████████████████████▉              | 10039/13100 [00:32<00:09, 309.43it/s]"
     ]
    },
    {
     "name": "stdout",
     "output_type": "stream",
     "text": [
      "spn in phoneseq Interval(0.0, 0.45, \"bouhe\") ['spn']\n",
      "spn in phoneseq Interval(6.26, 7.07, \"oswalds\") ['spn']\n",
      "spn in phoneseq Interval(2.35, 3.25, \"dietaries\") ['spn']\n",
      "spn in phoneseq Interval(0.54, 1.21, \"oxenford\") ['spn']\n",
      "spn in phoneseq Interval(2.49, 2.86, \"misess\") ['spn']\n",
      "spn in phoneseq Interval(2.22, 3.83, \"unconstitutionality\") ['spn']\n",
      "spn in phoneseq Interval(1.79, 2.31, \"sippar\") ['spn']\n",
      "spn in phoneseq Interval(7.79, 8.45, \"hidell\") ['spn']\n",
      "spn in phoneseq Interval(1.72, 2.71, \"courvoisier\") ['spn']\n",
      "spn in phoneseq Interval(0.0, 0.55, \"oswalds\") ['spn']\n"
     ]
    },
    {
     "name": "stderr",
     "output_type": "stream",
     "text": [
      " 77%|██████████████████████████████████████████████▎             | 10104/13100 [00:32<00:09, 311.39it/s]"
     ]
    },
    {
     "name": "stdout",
     "output_type": "stream",
     "text": [
      "spn in phoneseq Interval(5.6, 6.61, \"notorieties\") ['spn']\n",
      "spn in phoneseq Interval(1.09, 2.03, \"embryological\") ['spn']\n",
      "spn in phoneseq Interval(7.58, 8.48, \"embryology\") ['spn']\n",
      "spn in phoneseq Interval(0.68, 1.33, \"overbury\") ['spn']\n",
      "spn in phoneseq Interval(0.72, 1.29, \"buxtons\") ['spn']\n",
      "spn in phoneseq Interval(1.48, 1.94, \"misess\") ['spn']\n",
      "spn in phoneseq Interval(4.41, 5.41, \"courvoisier\") ['spn']\n",
      "spn in phoneseq Interval(2.59, 3.21, \"newmans\") ['spn']\n",
      "spn in phoneseq Interval(4.74, 5.65, \"protoplasm\") ['spn']\n",
      "spn in phoneseq Interval(0.14, 0.53, \"hosty\") ['spn']\n",
      "spn in phoneseq Interval(2.44, 3.03, \"extorting\") ['spn']\n",
      "spn in phoneseq Interval(0.66, 1.33, \"delarues\") ['spn']\n",
      "spn in phoneseq Interval(4.81, 5.16, \"hocker\") ['spn']\n",
      "spn in phoneseq Interval(6.42, 6.94, \"delarue\") ['spn']\n",
      "spn in phoneseq Interval(1.73, 2.1, \"misess\") ['spn']\n"
     ]
    },
    {
     "name": "stderr",
     "output_type": "stream",
     "text": [
      " 78%|██████████████████████████████████████████████▌             | 10167/13100 [00:32<00:09, 306.81it/s]"
     ]
    },
    {
     "name": "stdout",
     "output_type": "stream",
     "text": [
      "spn in phoneseq Interval(6.46, 6.81, \"misess\") ['spn']\n",
      "spn in phoneseq Interval(4.11, 4.63, \"elihu\") ['spn']\n",
      "spn in phoneseq Interval(0.0, 0.52, \"neild\") ['spn']\n",
      "spn in phoneseq Interval(5.57, 6.46, \"shoestore\") ['spn']\n",
      "spn in phoneseq Interval(3.58, 4.21, \"oswalds\") ['spn']\n",
      "spn in phoneseq Interval(7.38, 7.99, \"lunchroom\") ['spn']\n",
      "spn in phoneseq Interval(4.89, 5.79, \"protoplasm\") ['spn']\n",
      "spn in phoneseq Interval(5.32, 6.12, \"legless\") ['spn']\n",
      "spn in phoneseq Interval(0.12, 0.92, \"perennibranch\") ['spn']\n",
      "spn in phoneseq Interval(3.53, 4.43, \"perennibranch\") ['spn']\n",
      "spn in phoneseq Interval(1.46, 2.3, \"jumjuma\") ['spn']\n",
      "spn in phoneseq Interval(8.28, 8.84, \"lubbocks\") ['spn']\n",
      "spn in phoneseq Interval(0.23, 0.65, \"mannings\") ['spn']\n",
      "spn in phoneseq Interval(8.88, 9.28, \"minver\") ['spn']\n",
      "spn in phoneseq Interval(6.86, 7.48, \"prs\") ['spn']\n",
      "spn in phoneseq Interval(0.37, 1.24, \"proclivities\") ['spn']\n",
      "spn in phoneseq Interval(0.26, 0.98, \"buxtons\") ['spn']\n"
     ]
    },
    {
     "name": "stderr",
     "output_type": "stream",
     "text": [
      " 78%|███████████████████████████████████████████████             | 10268/13100 [00:32<00:08, 320.43it/s]"
     ]
    },
    {
     "name": "stdout",
     "output_type": "stream",
     "text": [
      "spn in phoneseq Interval(0.0, 0.36, \"misess\") ['spn']\n",
      "spn in phoneseq Interval(3.41, 4.07, \"wittmus\") ['spn']\n",
      "spn in phoneseq Interval(0.0, 0.36, \"misess\") ['spn']\n",
      "spn in phoneseq Interval(0.32, 1.82, \"anesthesiologists\") ['spn']\n",
      "spn in phoneseq Interval(5.47, 6.08, \"giesecke\") ['spn']\n",
      "spn in phoneseq Interval(1.29, 1.91, \"applin\") ['spn']\n",
      "spn in phoneseq Interval(8.76, 9.38, \"stopwatch\") ['spn']\n",
      "spn in phoneseq Interval(7.76, 8.29, \"hidell\") ['spn']\n",
      "spn in phoneseq Interval(0.21, 0.98, \"calcrafts\") ['spn']\n",
      "spn in phoneseq Interval(1.99, 2.67, \"oswalds\") ['spn']\n",
      "spn in phoneseq Interval(3.12, 3.77, \"sorrels\") ['spn']\n",
      "spn in phoneseq Interval(0.0, 0.5, \"oswalds\") ['spn']\n"
     ]
    },
    {
     "name": "stderr",
     "output_type": "stream",
     "text": [
      " 79%|███████████████████████████████████████████████▏            | 10301/13100 [00:33<00:09, 309.59it/s]"
     ]
    },
    {
     "name": "stdout",
     "output_type": "stream",
     "text": [
      "spn in phoneseq Interval(4.48, 4.85, \"alek\") ['spn']\n",
      "spn in phoneseq Interval(5.53, 6.01, \"hidell\") ['spn']\n",
      "spn in phoneseq Interval(3.23, 4.1, \"billfolds\") ['spn']\n",
      "spn in phoneseq Interval(0.72, 1.6, \"mcwatters\") ['spn']\n",
      "spn in phoneseq Interval(3.63, 4.35, \"marsalis\") ['spn']\n",
      "spn in phoneseq Interval(2.63, 3.1, \"tippit\") ['spn']\n",
      "spn in phoneseq Interval(5.19, 6.09, \"roominghouse\") ['spn']\n",
      "spn in phoneseq Interval(2.2, 2.83, \"oswalds\") ['spn']\n",
      "spn in phoneseq Interval(4.41, 5.16, \"hidell\") ['spn']\n",
      "spn in phoneseq Interval(5.47, 6.0, \"stemmons\") ['spn']\n",
      "spn in phoneseq Interval(1.18, 1.85, \"oswalds\") ['spn']\n",
      "spn in phoneseq Interval(1.42, 1.84, \"hosty\") ['spn']\n",
      "spn in phoneseq Interval(6.6, 7.23, \"mullay\") ['spn']\n"
     ]
    },
    {
     "name": "stderr",
     "output_type": "stream",
     "text": [
      " 79%|███████████████████████████████████████████████▋            | 10399/13100 [00:33<00:08, 313.36it/s]"
     ]
    },
    {
     "name": "stdout",
     "output_type": "stream",
     "text": [
      "spn in phoneseq Interval(0.3, 0.91, \"patrolman\") ['spn']\n",
      "spn in phoneseq Interval(0.0, 0.34, \"misess\") ['spn']\n",
      "spn in phoneseq Interval(1.03, 1.35, \"misess\") ['spn']\n",
      "spn in phoneseq Interval(4.55, 5.23, \"esagil\") ['spn']\n",
      "spn in phoneseq Interval(5.36, 6.01, \"ezida\") ['spn']\n",
      "spn in phoneseq Interval(0.73, 1.34, \"cabell\") ['spn']\n",
      "spn in phoneseq Interval(1.83, 2.5, \"oswalds\") ['spn']\n",
      "spn in phoneseq Interval(0.0, 0.67, \"oswalds\") ['spn']\n",
      "spn in phoneseq Interval(7.02, 7.74, \"nabonidus\") ['spn']\n",
      "spn in phoneseq Interval(0.97, 1.35, \"misess\") ['spn']\n",
      "spn in phoneseq Interval(4.64, 4.67, \"fpcc\") ['spn']\n",
      "spn in phoneseq Interval(0.0, 0.58, \"oswalds\") ['spn']\n",
      "spn in phoneseq Interval(2.31, 3.0, \"cartons\") ['spn']\n",
      "spn in phoneseq Interval(8.56, 9.29, \"cartons\") ['spn']\n"
     ]
    },
    {
     "name": "stderr",
     "output_type": "stream",
     "text": [
      " 80%|███████████████████████████████████████████████▉            | 10462/13100 [00:33<00:08, 303.65it/s]"
     ]
    },
    {
     "name": "stdout",
     "output_type": "stream",
     "text": [
      "spn in phoneseq Interval(4.86, 5.69, \"crisscrossing\") ['spn']\n",
      "spn in phoneseq Interval(5.98, 6.81, \"americanized\") ['spn']\n",
      "spn in phoneseq Interval(1.14, 1.99, \"roistering\") ['spn']\n",
      "spn in phoneseq Interval(0.0, 0.43, \"hidells\") ['spn']\n",
      "spn in phoneseq Interval(3.62, 4.27, \"oswalds\") ['spn']\n",
      "spn in phoneseq Interval(5.98, 6.55, \"hidell\") ['spn']\n",
      "spn in phoneseq Interval(3.55, 4.36, \"calcraft\") ['spn']\n",
      "spn in phoneseq Interval(1.43, 1.76, \"misess\") ['spn']\n",
      "spn in phoneseq Interval(4.06, 4.67, \"watkin\") ['spn']\n",
      "spn in phoneseq Interval(0.95, 1.32, \"misess\") ['spn']\n",
      "spn in phoneseq Interval(4.04, 4.37, \"reids\") ['spn']\n",
      "spn in phoneseq Interval(5.19, 5.95, \"liquorpond\") ['spn']\n",
      "spn in phoneseq Interval(1.33, 1.94, \"wardsman\") ['spn']\n",
      "spn in phoneseq Interval(4.79, 5.4, \"lessee\") ['spn']\n",
      "spn in phoneseq Interval(0.0, 0.87, \"dietaries\") ['spn']\n",
      "spn in phoneseq Interval(1.06, 1.92, \"greenacres\") ['spn']\n"
     ]
    },
    {
     "name": "stderr",
     "output_type": "stream",
     "text": [
      " 80%|████████████████████████████████████████████████▏           | 10526/13100 [00:33<00:08, 307.41it/s]"
     ]
    },
    {
     "name": "stdout",
     "output_type": "stream",
     "text": [
      "spn in phoneseq Interval(0.38, 0.42, \"gibes\") ['spn']\n",
      "spn in phoneseq Interval(1.67, 3.44, \"ordinarys\") ['spn']\n",
      "spn in phoneseq Interval(1.34, 1.93, \"lunchroom\") ['spn']\n",
      "spn in phoneseq Interval(0.46, 1.07, \"stemmons\") ['spn']\n",
      "spn in phoneseq Interval(6.43, 7.03, \"villanies\") ['spn']\n",
      "spn in phoneseq Interval(2.01, 2.9, \"chummage\") ['spn']\n",
      "spn in phoneseq Interval(0.33, 1.03, \"backboned\") ['spn']\n",
      "spn in phoneseq Interval(7.18, 8.49, \"fpcc\") ['spn']\n",
      "spn in phoneseq Interval(1.07, 1.81, \"unsexed\") ['spn']\n",
      "spn in phoneseq Interval(1.95, 2.69, \"brutalized\") ['spn']\n",
      "spn in phoneseq Interval(0.72, 1.64, \"affidavits\") ['spn']\n",
      "spn in phoneseq Interval(0.0, 0.69, \"prs\") ['spn']\n"
     ]
    },
    {
     "name": "stderr",
     "output_type": "stream",
     "text": [
      " 81%|████████████████████████████████████████████████▍           | 10589/13100 [00:34<00:08, 303.84it/s]"
     ]
    },
    {
     "name": "stdout",
     "output_type": "stream",
     "text": [
      "spn in phoneseq Interval(4.83, 4.86, \"didn\") ['spn']\n",
      "spn in phoneseq Interval(0.0, 0.34, \"misess\") ['spn']\n",
      "spn in phoneseq Interval(0.95, 1.46, \"hosty\") ['spn']\n",
      "spn in phoneseq Interval(0.46, 0.94, \"sorrels\") ['spn']\n",
      "spn in phoneseq Interval(4.4, 5.05, \"collyer\") ['spn']\n",
      "spn in phoneseq Interval(3.52, 4.73, \"experimentalize\") ['spn']\n",
      "spn in phoneseq Interval(2.09, 2.77, \"prs\") ['spn']\n",
      "spn in phoneseq Interval(5.42, 5.68, \"wouldn\") ['spn']\n",
      "spn in phoneseq Interval(6.79, 7.44, \"tagus\") ['spn']\n",
      "spn in phoneseq Interval(3.89, 4.58, \"lumpless\") ['spn']\n",
      "spn in phoneseq Interval(6.28, 6.83, \"lunchroom\") ['spn']\n",
      "spn in phoneseq Interval(1.39, 2.16, \"lifers\") ['spn']\n",
      "spn in phoneseq Interval(0.62, 1.08, \"zopyrus\") ['spn']\n",
      "spn in phoneseq Interval(1.34, 1.88, \"burkley\") ['spn']\n",
      "spn in phoneseq Interval(1.67, 2.24, \"guinyard\") ['spn']\n",
      "spn in phoneseq Interval(6.13, 7.25, \"notorieties\") ['spn']\n"
     ]
    },
    {
     "name": "stderr",
     "output_type": "stream",
     "text": [
      " 81%|████████████████████████████████████████████████▊           | 10657/13100 [00:34<00:07, 312.64it/s]"
     ]
    },
    {
     "name": "stdout",
     "output_type": "stream",
     "text": [
      "spn in phoneseq Interval(6.74, 6.85, \"didn\") ['spn']\n",
      "spn in phoneseq Interval(6.16, 6.74, \"connally\") ['spn']\n",
      "spn in phoneseq Interval(6.04, 6.79, \"defecting\") ['spn']\n",
      "spn in phoneseq Interval(6.59, 7.7, \"resurrectionist\") ['spn']\n",
      "spn in phoneseq Interval(0.0, 0.89, \"prs\") ['spn']\n",
      "spn in phoneseq Interval(1.78, 2.39, \"oswalds\") ['spn']\n",
      "spn in phoneseq Interval(2.39, 2.72, \"misess\") ['spn']\n",
      "spn in phoneseq Interval(7.01, 7.66, \"oswalds\") ['spn']\n",
      "spn in phoneseq Interval(0.08, 0.84, \"babylonians\") ['spn']\n",
      "spn in phoneseq Interval(0.0, 0.51, \"lawsons\") ['spn']\n",
      "spn in phoneseq Interval(2.7, 3.52, \"oxenford\") ['spn']\n",
      "spn in phoneseq Interval(3.57, 3.97, \"alek\") ['spn']\n"
     ]
    },
    {
     "name": "stderr",
     "output_type": "stream",
     "text": [
      " 82%|█████████████████████████████████████████████████           | 10724/13100 [00:34<00:07, 315.85it/s]"
     ]
    },
    {
     "name": "stdout",
     "output_type": "stream",
     "text": [
      "spn in phoneseq Interval(1.65, 2.05, \"paines\") ['spn']\n",
      "spn in phoneseq Interval(8.68, 9.44, \"rochesters\") ['spn']\n",
      "spn in phoneseq Interval(0.0, 0.36, \"misess\") ['spn']\n",
      "spn in phoneseq Interval(0.21, 0.79, \"euins\") ['spn']\n",
      "spn in phoneseq Interval(2.55, 3.43, \"delarue\") ['spn']\n",
      "spn in phoneseq Interval(0.12, 0.83, \"oxfords\") ['spn']\n",
      "spn in phoneseq Interval(5.61, 5.79, \"wouldn\") ['spn']\n",
      "spn in phoneseq Interval(5.58, 6.07, \"millbank\") ['spn']\n",
      "spn in phoneseq Interval(1.85, 2.2, \"misess\") ['spn']\n",
      "spn in phoneseq Interval(6.12, 6.82, \"oswalds\") ['spn']\n",
      "spn in phoneseq Interval(2.3, 3.1, \"stombaugh\") ['spn']\n",
      "spn in phoneseq Interval(5.5, 5.99, \"saward\") ['spn']\n",
      "spn in phoneseq Interval(0.73, 1.27, \"mandella\") ['spn']\n",
      "spn in phoneseq Interval(0.99, 1.78, \"remediable\") ['spn']\n",
      "spn in phoneseq Interval(7.33, 7.78, \"chevaux\") ['spn']\n",
      "spn in phoneseq Interval(7.86, 8.37, \"frise\") ['spn']\n",
      "spn in phoneseq Interval(7.54, 8.03, \"lunchroom\") ['spn']\n",
      "spn in phoneseq Interval(2.97, 3.53, \"stabler\") ['spn']\n"
     ]
    },
    {
     "name": "stderr",
     "output_type": "stream",
     "text": [
      " 82%|█████████████████████████████████████████████████▍          | 10789/13100 [00:34<00:07, 316.38it/s]"
     ]
    },
    {
     "name": "stdout",
     "output_type": "stream",
     "text": [
      "spn in phoneseq Interval(5.29, 5.85, \"oswalds\") ['spn']\n",
      "spn in phoneseq Interval(0.2, 1.11, \"chartists\") ['spn']\n",
      "spn in phoneseq Interval(0.71, 1.58, \"stombaugh\") ['spn']\n",
      "spn in phoneseq Interval(8.64, 9.25, \"bodoni\") ['spn']\n",
      "spn in phoneseq Interval(1.86, 2.56, \"oswalds\") ['spn']\n",
      "spn in phoneseq Interval(5.33, 6.22, \"courvoisiers\") ['spn']\n",
      "spn in phoneseq Interval(0.25, 0.9, \"hidell\") ['spn']\n",
      "spn in phoneseq Interval(2.05, 2.72, \"oswalds\") ['spn']\n",
      "spn in phoneseq Interval(5.29, 5.59, \"whaley\") ['spn']\n",
      "spn in phoneseq Interval(3.69, 4.48, \"roominghouse\") ['spn']\n",
      "spn in phoneseq Interval(1.14, 2.01, \"proctors\") ['spn']\n",
      "spn in phoneseq Interval(2.35, 2.77, \"misess\") ['spn']\n",
      "spn in phoneseq Interval(0.0, 0.81, \"strychnia\") ['spn']\n"
     ]
    },
    {
     "name": "stderr",
     "output_type": "stream",
     "text": [
      " 83%|█████████████████████████████████████████████████▋          | 10858/13100 [00:34<00:06, 322.55it/s]"
     ]
    },
    {
     "name": "stdout",
     "output_type": "stream",
     "text": [
      "spn in phoneseq Interval(0.09, 0.64, \"cartons\") ['spn']\n",
      "spn in phoneseq Interval(0.0, 0.47, \"huntons\") ['spn']\n",
      "spn in phoneseq Interval(4.39, 5.05, \"renatus\") ['spn']\n",
      "spn in phoneseq Interval(5.05, 5.95, \"hartogs\") ['spn']\n",
      "spn in phoneseq Interval(4.63, 5.44, \"mannings\") ['spn']\n",
      "spn in phoneseq Interval(6.19, 6.74, \"tippit\") ['spn']\n",
      "spn in phoneseq Interval(5.55, 5.87, \"misess\") ['spn']\n",
      "spn in phoneseq Interval(2.73, 3.45, \"odell\") ['spn']\n",
      "spn in phoneseq Interval(0.0, 0.53, \"trisect\") ['spn']\n",
      "spn in phoneseq Interval(1.13, 1.9, \"fauntleroys\") ['spn']\n",
      "spn in phoneseq Interval(4.12, 4.64, \"blogg\") ['spn']\n",
      "spn in phoneseq Interval(3.41, 4.13, \"ontogenic\") ['spn']\n",
      "spn in phoneseq Interval(2.97, 3.39, \"misess\") ['spn']\n",
      "spn in phoneseq Interval(7.22, 7.89, \"oswalds\") ['spn']\n"
     ]
    },
    {
     "name": "stderr",
     "output_type": "stream",
     "text": [
      " 83%|██████████████████████████████████████████████████          | 10923/13100 [00:35<00:06, 312.93it/s]"
     ]
    },
    {
     "name": "stdout",
     "output_type": "stream",
     "text": [
      "spn in phoneseq Interval(0.89, 1.29, \"misess\") ['spn']\n",
      "spn in phoneseq Interval(3.58, 4.49, \"indispensably\") ['spn']\n",
      "spn in phoneseq Interval(0.24, 0.71, \"mullay\") ['spn']\n",
      "spn in phoneseq Interval(3.36, 3.91, \"parceled\") ['spn']\n",
      "spn in phoneseq Interval(0.0, 0.57, \"mackays\") ['spn']\n",
      "spn in phoneseq Interval(4.52, 5.16, \"sorrels\") ['spn']\n",
      "spn in phoneseq Interval(1.9, 2.39, \"neate\") ['spn']\n",
      "spn in phoneseq Interval(5.57, 5.95, \"misess\") ['spn']\n",
      "spn in phoneseq Interval(0.52, 1.28, \"thistlewood\") ['spn']\n",
      "spn in phoneseq Interval(1.31, 1.64, \"misess\") ['spn']\n",
      "spn in phoneseq Interval(5.27, 5.58, \"misess\") ['spn']\n",
      "spn in phoneseq Interval(1.78, 2.0, \"oswalds\") ['spn']\n",
      "spn in phoneseq Interval(5.54, 6.12, \"grimms\") ['spn']\n",
      "spn in phoneseq Interval(8.12, 8.83, \"cruikshanks\") ['spn']\n",
      "spn in phoneseq Interval(2.16, 2.9, \"promulgation\") ['spn']\n",
      "spn in phoneseq Interval(0.44, 1.34, \"courvoisier\") ['spn']\n",
      "spn in phoneseq Interval(1.67, 2.75, \"assurbanipal\") ['spn']\n",
      "spn in phoneseq Interval(5.02, 5.84, \"calverly\") ['spn']\n"
     ]
    },
    {
     "name": "stderr",
     "output_type": "stream",
     "text": [
      " 84%|██████████████████████████████████████████████████▌         | 11026/13100 [00:35<00:06, 304.05it/s]"
     ]
    },
    {
     "name": "stdout",
     "output_type": "stream",
     "text": [
      "spn in phoneseq Interval(0.51, 0.56, \"didn\") ['spn']\n",
      "spn in phoneseq Interval(2.67, 3.23, \"oswalds\") ['spn']\n",
      "spn in phoneseq Interval(4.28, 5.21, \"sloppiness\") ['spn']\n",
      "spn in phoneseq Interval(2.48, 3.16, \"oswalds\") ['spn']\n",
      "spn in phoneseq Interval(1.21, 1.48, \"misess\") ['spn']\n",
      "spn in phoneseq Interval(0.09, 0.81, \"mohrenschildt\") ['spn']\n",
      "spn in phoneseq Interval(1.91, 2.73, \"marshalsea\") ['spn']\n",
      "spn in phoneseq Interval(0.0, 0.32, \"misess\") ['spn']\n",
      "spn in phoneseq Interval(0.32, 0.69, \"linnie\") ['spn']\n",
      "spn in phoneseq Interval(1.85, 2.25, \"fraziers\") ['spn']\n",
      "spn in phoneseq Interval(4.92, 5.53, \"oswalds\") ['spn']\n",
      "spn in phoneseq Interval(6.26, 6.75, \"midweek\") ['spn']\n",
      "spn in phoneseq Interval(4.65, 5.23, \"marwood\") ['spn']\n",
      "spn in phoneseq Interval(7.83, 8.54, \"calcraft\") ['spn']\n",
      "spn in phoneseq Interval(0.0, 0.49, \"misess\") ['spn']\n",
      "spn in phoneseq Interval(0.49, 1.05, \"atkinsons\") ['spn']\n",
      "spn in phoneseq Interval(2.77, 3.47, \"dixons\") ['spn']\n",
      "spn in phoneseq Interval(4.68, 5.06, \"misess\") ['spn']\n",
      "spn in phoneseq Interval(5.29, 5.78, \"wattled\") ['spn']\n",
      "spn in phoneseq Interval(3.48, 4.16, \"oswalds\") ['spn']\n",
      "spn in phoneseq Interval(3.68, 3.71, \"didn\") ['spn']\n",
      "spn in phoneseq Interval(5.02, 5.05, \"didn\") ['spn']\n",
      "spn in phoneseq Interval(2.42, 3.24, \"trotskyite\") ['spn']\n",
      "spn in phoneseq Interval(3.98, 4.9, \"paraphrasing\") ['spn']\n",
      "spn in phoneseq Interval(1.12, 1.72, \"calcraft\") ['spn']\n",
      "spn in phoneseq Interval(1.21, 1.82, \"bidwell\") ['spn']\n",
      "spn in phoneseq Interval(2.45, 3.04, \"johnsons\") ['spn']\n"
     ]
    },
    {
     "name": "stderr",
     "output_type": "stream",
     "text": [
      " 84%|██████████████████████████████████████████████████▋         | 11058/13100 [00:35<00:06, 308.16it/s]"
     ]
    },
    {
     "name": "stdout",
     "output_type": "stream",
     "text": [
      "spn in phoneseq Interval(1.59, 1.95, \"misess\") ['spn']\n",
      "spn in phoneseq Interval(0.46, 1.13, \"babylonians\") ['spn']\n",
      "spn in phoneseq Interval(2.93, 3.56, \"delarue\") ['spn']\n",
      "spn in phoneseq Interval(0.63, 1.21, \"greenacre\") ['spn']\n",
      "spn in phoneseq Interval(0.4, 0.87, \"cartons\") ['spn']\n",
      "spn in phoneseq Interval(0.07, 0.83, \"mohrenschildt\") ['spn']\n",
      "spn in phoneseq Interval(3.36, 4.04, \"rubeus\") ['spn']\n",
      "spn in phoneseq Interval(7.9, 8.58, \"adaptively\") ['spn']\n",
      "spn in phoneseq Interval(0.0, 0.75, \"oswalds\") ['spn']\n",
      "spn in phoneseq Interval(1.19, 1.67, \"cartons\") ['spn']\n",
      "spn in phoneseq Interval(6.75, 7.88, \"inefficacious\") ['spn']\n",
      "spn in phoneseq Interval(0.44, 0.73, \"didn\") ['spn']\n",
      "spn in phoneseq Interval(9.12, 9.81, \"pentonville\") ['spn']\n",
      "spn in phoneseq Interval(0.06, 0.97, \"misdemeanant\") ['spn']\n"
     ]
    },
    {
     "name": "stderr",
     "output_type": "stream",
     "text": [
      " 85%|██████████████████████████████████████████████████▉         | 11121/13100 [00:35<00:06, 287.48it/s]"
     ]
    },
    {
     "name": "stdout",
     "output_type": "stream",
     "text": [
      "spn in phoneseq Interval(4.31, 5.2, \"redesdales\") ['spn']\n",
      "spn in phoneseq Interval(5.04, 5.68, \"oswalds\") ['spn']\n",
      "spn in phoneseq Interval(6.74, 8.06, \"overconcentrated\") ['spn']\n",
      "spn in phoneseq Interval(2.41, 3.09, \"clipperton\") ['spn']\n",
      "spn in phoneseq Interval(2.2, 3.24, \"earthenwares\") ['spn']\n",
      "spn in phoneseq Interval(5.98, 6.95, \"oxfords\") ['spn']\n",
      "spn in phoneseq Interval(1.6, 2.28, \"conveners\") ['spn']\n",
      "spn in phoneseq Interval(0.55, 1.35, \"corroborative\") ['spn']\n",
      "spn in phoneseq Interval(3.71, 4.35, \"hidell\") ['spn']\n",
      "spn in phoneseq Interval(1.87, 2.47, \"latona\") ['spn']\n",
      "spn in phoneseq Interval(4.03, 4.61, \"cartons\") ['spn']\n",
      "spn in phoneseq Interval(0.0, 0.56, \"latonas\") ['spn']\n",
      "spn in phoneseq Interval(2.92, 3.55, \"wittmus\") ['spn']\n",
      "spn in phoneseq Interval(3.98, 4.85, \"unconvicted\") ['spn']\n",
      "spn in phoneseq Interval(0.42, 1.04, \"jensons\") ['spn']\n"
     ]
    },
    {
     "name": "stderr",
     "output_type": "stream",
     "text": [
      " 86%|███████████████████████████████████████████████████▍        | 11217/13100 [00:36<00:06, 306.49it/s]"
     ]
    },
    {
     "name": "stdout",
     "output_type": "stream",
     "text": [
      "spn in phoneseq Interval(0.0, 0.6, \"oswalds\") ['spn']\n",
      "spn in phoneseq Interval(0.6, 1.34, \"palmprint\") ['spn']\n",
      "spn in phoneseq Interval(0.42, 1.02, \"caxtons\") ['spn']\n",
      "spn in phoneseq Interval(0.54, 1.07, \"fains\") ['spn']\n",
      "spn in phoneseq Interval(2.28, 2.89, \"oswalds\") ['spn']\n",
      "spn in phoneseq Interval(1.43, 1.93, \"knurled\") ['spn']\n",
      "spn in phoneseq Interval(1.38, 2.46, \"mohrenschildt\") ['spn']\n",
      "spn in phoneseq Interval(2.08, 2.92, \"courvoisier\") ['spn']\n",
      "spn in phoneseq Interval(0.14, 0.9, \"prs\") ['spn']\n",
      "spn in phoneseq Interval(0.0, 0.45, \"guinyard\") ['spn']\n",
      "spn in phoneseq Interval(3.77, 4.19, \"tippit\") ['spn']\n",
      "spn in phoneseq Interval(7.94, 8.54, \"pinioning\") ['spn']\n"
     ]
    },
    {
     "name": "stderr",
     "output_type": "stream",
     "text": [
      " 86%|███████████████████████████████████████████████████▋        | 11281/13100 [00:36<00:05, 312.10it/s]"
     ]
    },
    {
     "name": "stdout",
     "output_type": "stream",
     "text": [
      "spn in phoneseq Interval(4.75, 5.33, \"stuckey\") ['spn']\n",
      "spn in phoneseq Interval(0.38, 0.85, \"connally\") ['spn']\n",
      "spn in phoneseq Interval(0.0, 0.49, \"wakefields\") ['spn']\n",
      "spn in phoneseq Interval(4.18, 5.02, \"truculence\") ['spn']\n",
      "spn in phoneseq Interval(5.16, 5.81, \"stopwatch\") ['spn']\n",
      "spn in phoneseq Interval(6.88, 7.69, \"phylogenic\") ['spn']\n",
      "spn in phoneseq Interval(0.27, 1.3, \"undesirably\") ['spn']\n",
      "spn in phoneseq Interval(3.69, 4.35, \"hidell\") ['spn']\n",
      "spn in phoneseq Interval(8.72, 9.21, \"chevaux\") ['spn']\n",
      "spn in phoneseq Interval(9.29, 9.89, \"frise\") ['spn']\n",
      "spn in phoneseq Interval(5.18, 5.85, \"calcraft\") ['spn']\n",
      "spn in phoneseq Interval(0.0, 0.82, \"amylaceous\") ['spn']\n",
      "spn in phoneseq Interval(0.51, 1.18, \"smirking\") ['spn']\n",
      "spn in phoneseq Interval(0.11, 0.61, \"sawards\") ['spn']\n",
      "spn in phoneseq Interval(5.8, 6.42, \"connally\") ['spn']\n"
     ]
    },
    {
     "name": "stderr",
     "output_type": "stream",
     "text": [
      " 87%|███████████████████████████████████████████████████▉        | 11347/13100 [00:36<00:05, 301.96it/s]"
     ]
    },
    {
     "name": "stdout",
     "output_type": "stream",
     "text": [
      "spn in phoneseq Interval(6.85, 7.47, \"defrayed\") ['spn']\n",
      "spn in phoneseq Interval(1.43, 2.01, \"mannings\") ['spn']\n",
      "spn in phoneseq Interval(4.22, 4.99, \"horsemonger\") ['spn']\n",
      "spn in phoneseq Interval(2.19, 2.64, \"misess\") ['spn']\n",
      "spn in phoneseq Interval(4.51, 5.6, \"meteyards\") ['spn']\n",
      "spn in phoneseq Interval(1.37, 1.85, \"tidd\") ['spn']\n",
      "spn in phoneseq Interval(3.07, 3.82, \"ordinarys\") ['spn']\n",
      "spn in phoneseq Interval(4.48, 5.1, \"cyruss\") ['spn']\n",
      "spn in phoneseq Interval(3.51, 4.4, \"inculcating\") ['spn']\n",
      "spn in phoneseq Interval(0.0, 0.71, \"shaneyfelt\") ['spn']\n",
      "spn in phoneseq Interval(4.93, 5.49, \"oswalds\") ['spn']\n",
      "spn in phoneseq Interval(1.46, 2.26, \"firers\") ['spn']\n",
      "spn in phoneseq Interval(0.87, 1.4, \"viscose\") ['spn']\n",
      "spn in phoneseq Interval(4.7, 5.18, \"viscose\") ['spn']\n",
      "spn in phoneseq Interval(1.86, 2.47, \"oswalds\") ['spn']\n",
      "spn in phoneseq Interval(1.14, 1.48, \"misess\") ['spn']\n",
      "spn in phoneseq Interval(4.41, 5.07, \"thornleys\") ['spn']\n",
      "spn in phoneseq Interval(2.33, 3.24, \"epitomizing\") ['spn']\n"
     ]
    },
    {
     "name": "stderr",
     "output_type": "stream",
     "text": [
      " 87%|████████████████████████████████████████████████████▎       | 11414/13100 [00:36<00:05, 310.73it/s]"
     ]
    },
    {
     "name": "stdout",
     "output_type": "stream",
     "text": [
      "spn in phoneseq Interval(7.0, 7.54, \"hosty\") ['spn']\n",
      "spn in phoneseq Interval(0.43, 1.3, \"obviated\") ['spn']\n",
      "spn in phoneseq Interval(7.66, 8.17, \"giltspur\") ['spn']\n",
      "spn in phoneseq Interval(2.33, 2.95, \"mentelin\") ['spn']\n",
      "spn in phoneseq Interval(6.98, 7.69, \"shapeliness\") ['spn']\n",
      "spn in phoneseq Interval(1.03, 1.38, \"misess\") ['spn']\n",
      "spn in phoneseq Interval(0.0, 0.65, \"prs\") ['spn']\n",
      "spn in phoneseq Interval(4.89, 4.98, \"exonerating\") ['spn']\n",
      "spn in phoneseq Interval(4.98, 6.23, \"misess\") ['spn']\n",
      "spn in phoneseq Interval(0.0, 0.22, \"bouck\") ['spn']\n",
      "spn in phoneseq Interval(3.09, 3.68, \"oswalds\") ['spn']\n",
      "spn in phoneseq Interval(1.15, 1.63, \"probative\") ['spn']\n",
      "spn in phoneseq Interval(0.39, 0.98, \"oswalds\") ['spn']\n",
      "spn in phoneseq Interval(0.08, 0.12, \"didn\") ['spn']\n",
      "spn in phoneseq Interval(1.18, 1.96, \"washingtons\") ['spn']\n",
      "spn in phoneseq Interval(0.9, 1.32, \"misess\") ['spn']\n",
      "spn in phoneseq Interval(2.33, 3.03, \"youngbloods\") ['spn']\n",
      "spn in phoneseq Interval(4.29, 4.69, \"misess\") ['spn']\n",
      "spn in phoneseq Interval(1.03, 1.76, \"felonious\") ['spn']\n",
      "spn in phoneseq Interval(0.18, 0.73, \"oswalds\") ['spn']\n",
      "spn in phoneseq Interval(1.59, 2.18, \"hidell\") ['spn']\n",
      "spn in phoneseq Interval(2.21, 2.78, \"arachtu\") ['spn']\n",
      "spn in phoneseq Interval(0.12, 0.51, \"stuckey\") ['spn']\n",
      "spn in phoneseq Interval(8.07, 9.08, \"cleancutness\") ['spn']\n"
     ]
    },
    {
     "name": "stderr",
     "output_type": "stream",
     "text": [
      " 88%|████████████████████████████████████████████████████▌       | 11488/13100 [00:36<00:04, 330.29it/s]"
     ]
    },
    {
     "name": "stdout",
     "output_type": "stream",
     "text": [
      "spn in phoneseq Interval(3.36, 4.12, \"lamson\") ['spn']\n",
      "spn in phoneseq Interval(2.07, 2.67, \"lunchroom\") ['spn']\n",
      "spn in phoneseq Interval(0.23, 0.67, \"hosty\") ['spn']\n",
      "spn in phoneseq Interval(0.0, 0.55, \"sattler\") ['spn']\n",
      "spn in phoneseq Interval(6.09, 6.75, \"saward\") ['spn']\n",
      "spn in phoneseq Interval(8.19, 8.92, \"penman\") ['spn']\n",
      "spn in phoneseq Interval(6.33, 7.15, \"oxfords\") ['spn']\n",
      "spn in phoneseq Interval(1.72, 2.38, \"karswell\") ['spn']\n",
      "spn in phoneseq Interval(2.7, 3.27, \"taffir\") ['spn']\n",
      "spn in phoneseq Interval(4.85, 5.4, \"greenacre\") ['spn']\n",
      "spn in phoneseq Interval(0.4, 0.81, \"jarrow\") ['spn']\n",
      "spn in phoneseq Interval(3.52, 4.29, \"mohrenschildt\") ['spn']\n",
      "spn in phoneseq Interval(0.79, 1.19, \"whaleys\") ['spn']\n",
      "spn in phoneseq Interval(4.01, 4.54, \"edgeware\") ['spn']\n",
      "spn in phoneseq Interval(5.9, 6.57, \"saward\") ['spn']\n",
      "spn in phoneseq Interval(4.39, 5.39, \"dietaries\") ['spn']\n",
      "spn in phoneseq Interval(4.82, 5.16, \"misess\") ['spn']\n",
      "spn in phoneseq Interval(5.46, 6.36, \"regimentation\") ['spn']\n",
      "spn in phoneseq Interval(6.83, 7.72, \"misdemeanants\") ['spn']\n",
      "spn in phoneseq Interval(2.2, 2.6, \"euins\") ['spn']\n",
      "spn in phoneseq Interval(5.8, 6.48, \"oswalds\") ['spn']\n"
     ]
    },
    {
     "name": "stderr",
     "output_type": "stream",
     "text": [
      " 88%|████████████████████████████████████████████████████▉       | 11554/13100 [00:37<00:05, 301.53it/s]"
     ]
    },
    {
     "name": "stdout",
     "output_type": "stream",
     "text": [
      "spn in phoneseq Interval(4.39, 4.62, \"wasn\") ['spn']\n",
      "spn in phoneseq Interval(0.94, 1.6, \"oswalds\") ['spn']\n",
      "spn in phoneseq Interval(7.86, 8.66, \"prs\") ['spn']\n",
      "spn in phoneseq Interval(7.19, 8.08, \"prusakova\") ['spn']\n",
      "spn in phoneseq Interval(0.17, 0.87, \"adequacy\") ['spn']\n",
      "spn in phoneseq Interval(0.74, 1.54, \"calcrafts\") ['spn']\n",
      "spn in phoneseq Interval(3.28, 4.03, \"jensons\") ['spn']\n",
      "spn in phoneseq Interval(3.86, 4.52, \"patrolman\") ['spn']\n",
      "spn in phoneseq Interval(4.66, 5.39, \"palmprint\") ['spn']\n",
      "spn in phoneseq Interval(9.2, 9.78, \"bagne\") ['spn']\n"
     ]
    },
    {
     "name": "stderr",
     "output_type": "stream",
     "text": [
      " 89%|█████████████████████████████████████████████████████▎      | 11653/13100 [00:37<00:04, 316.80it/s]"
     ]
    },
    {
     "name": "stdout",
     "output_type": "stream",
     "text": [
      "spn in phoneseq Interval(1.04, 1.41, \"misess\") ['spn']\n",
      "spn in phoneseq Interval(6.52, 7.39, \"infirmaries\") ['spn']\n",
      "spn in phoneseq Interval(0.37, 0.87, \"connally\") ['spn']\n",
      "spn in phoneseq Interval(5.38, 6.23, \"calcraft\") ['spn']\n",
      "spn in phoneseq Interval(4.02, 4.53, \"ketchs\") ['spn']\n",
      "spn in phoneseq Interval(2.25, 2.57, \"misess\") ['spn']\n",
      "spn in phoneseq Interval(0.38, 1.07, \"oswalds\") ['spn']\n",
      "spn in phoneseq Interval(0.92, 1.54, \"latona\") ['spn']\n",
      "spn in phoneseq Interval(3.07, 3.63, \"fbis\") ['spn']\n",
      "spn in phoneseq Interval(2.64, 3.08, \"wynkyn\") ['spn']\n",
      "spn in phoneseq Interval(3.2, 3.67, \"worde\") ['spn']\n",
      "spn in phoneseq Interval(4.03, 4.78, \"caxtons\") ['spn']\n",
      "spn in phoneseq Interval(5.81, 6.79, \"mss\") ['spn']\n",
      "spn in phoneseq Interval(0.0, 0.7, \"smethurst\") ['spn']\n",
      "spn in phoneseq Interval(5.07, 5.59, \"leew\") ['spn']\n",
      "spn in phoneseq Interval(1.99, 2.72, \"roominghouse\") ['spn']\n"
     ]
    },
    {
     "name": "stderr",
     "output_type": "stream",
     "text": [
      " 89%|█████████████████████████████████████████████████████▋      | 11716/13100 [00:37<00:04, 299.57it/s]"
     ]
    },
    {
     "name": "stdout",
     "output_type": "stream",
     "text": [
      "spn in phoneseq Interval(1.56, 1.83, \"bouck\") ['spn']\n",
      "spn in phoneseq Interval(0.84, 1.05, \"hadn\") ['spn']\n",
      "spn in phoneseq Interval(0.0, 0.69, \"greenacre\") ['spn']\n",
      "spn in phoneseq Interval(1.01, 1.55, \"imgur\") ['spn']\n",
      "spn in phoneseq Interval(2.29, 3.03, \"nimitti\") ['spn']\n",
      "spn in phoneseq Interval(1.27, 1.66, \"hosty\") ['spn']\n",
      "spn in phoneseq Interval(3.3, 3.91, \"oswalds\") ['spn']\n",
      "spn in phoneseq Interval(1.42, 2.36, \"defalcations\") ['spn']\n",
      "spn in phoneseq Interval(1.78, 2.2, \"brac\") ['spn']\n",
      "spn in phoneseq Interval(9.05, 9.84, \"paines\") ['spn']\n",
      "spn in phoneseq Interval(0.94, 1.57, \"walthers\") ['spn']\n",
      "spn in phoneseq Interval(1.1, 1.85, \"bringuiers\") ['spn']\n",
      "spn in phoneseq Interval(0.86, 1.79, \"babylonians\") ['spn']\n",
      "spn in phoneseq Interval(2.83, 3.38, \"gatesman\") ['spn']\n",
      "spn in phoneseq Interval(2.55, 3.11, \"inveigled\") ['spn']\n",
      "spn in phoneseq Interval(3.11, 3.6, \"misess\") ['spn']\n",
      "spn in phoneseq Interval(0.46, 0.8, \"sattler\") ['spn']\n",
      "spn in phoneseq Interval(7.03, 7.63, \"thain\") ['spn']\n",
      "spn in phoneseq Interval(8.44, 9.55, \"embonpoint\") ['spn']\n",
      "spn in phoneseq Interval(0.0, 0.61, \"mcwatters\") ['spn']\n"
     ]
    },
    {
     "name": "stderr",
     "output_type": "stream",
     "text": [
      " 90%|█████████████████████████████████████████████████████▉      | 11783/13100 [00:37<00:04, 312.11it/s]"
     ]
    },
    {
     "name": "stdout",
     "output_type": "stream",
     "text": [
      "spn in phoneseq Interval(1.18, 2.14, \"notorieties\") ['spn']\n",
      "spn in phoneseq Interval(1.33, 2.24, \"misappropriated\") ['spn']\n",
      "spn in phoneseq Interval(2.78, 3.67, \"reiterating\") ['spn']\n",
      "spn in phoneseq Interval(2.67, 3.31, \"oswalds\") ['spn']\n",
      "spn in phoneseq Interval(3.24, 3.82, \"oswalds\") ['spn']\n",
      "spn in phoneseq Interval(0.8, 1.37, \"cubits\") ['spn']\n",
      "spn in phoneseq Interval(0.66, 1.14, \"citys\") ['spn']\n",
      "spn in phoneseq Interval(3.61, 4.21, \"palmprint\") ['spn']\n",
      "spn in phoneseq Interval(2.74, 3.19, \"craigs\") ['spn']\n",
      "spn in phoneseq Interval(4.79, 5.22, \"bouhe\") ['spn']\n",
      "spn in phoneseq Interval(3.41, 3.98, \"pinioning\") ['spn']\n",
      "spn in phoneseq Interval(0.0, 0.42, \"guinyard\") ['spn']\n",
      "spn in phoneseq Interval(4.32, 4.69, \"misess\") ['spn']\n",
      "spn in phoneseq Interval(0.54, 1.04, \"gentlemans\") ['spn']\n",
      "spn in phoneseq Interval(1.68, 2.1, \"adlai\") ['spn']\n",
      "spn in phoneseq Interval(3.4, 4.16, \"contravention\") ['spn']\n",
      "spn in phoneseq Interval(3.3, 3.91, \"pinioning\") ['spn']\n"
     ]
    },
    {
     "name": "stderr",
     "output_type": "stream",
     "text": [
      " 91%|██████████████████████████████████████████████████████▎     | 11857/13100 [00:38<00:03, 341.44it/s]"
     ]
    },
    {
     "name": "stdout",
     "output_type": "stream",
     "text": [
      "spn in phoneseq Interval(0.0, 0.68, \"oswalds\") ['spn']\n",
      "spn in phoneseq Interval(3.26, 4.11, \"embryology\") ['spn']\n",
      "spn in phoneseq Interval(6.7, 7.19, \"gurneys\") ['spn']\n",
      "spn in phoneseq Interval(0.7, 1.19, \"bouck\") ['spn']\n",
      "spn in phoneseq Interval(0.0, 0.3, \"buncher\") ['spn']\n",
      "spn in phoneseq Interval(4.96, 5.32, \"misess\") ['spn']\n",
      "spn in phoneseq Interval(3.09, 3.98, \"roominghouse\") ['spn']\n",
      "spn in phoneseq Interval(7.31, 8.06, \"sorrels\") ['spn']\n",
      "spn in phoneseq Interval(0.86, 1.49, \"moline\") ['spn']\n",
      "spn in phoneseq Interval(0.09, 0.7, \"oswalds\") ['spn']\n",
      "spn in phoneseq Interval(0.1, 0.69, \"lerigo\") ['spn']\n",
      "spn in phoneseq Interval(0.53, 1.38, \"equerries\") ['spn']\n",
      "spn in phoneseq Interval(5.47, 6.29, \"dixblanc\") ['spn']\n",
      "spn in phoneseq Interval(2.43, 3.23, \"saleslady\") ['spn']\n",
      "spn in phoneseq Interval(2.3, 2.99, \"manacling\") ['spn']\n",
      "spn in phoneseq Interval(6.17, 7.16, \"inexcusably\") ['spn']\n",
      "spn in phoneseq Interval(1.74, 2.45, \"strychnia\") ['spn']\n"
     ]
    },
    {
     "name": "stderr",
     "output_type": "stream",
     "text": [
      " 91%|██████████████████████████████████████████████████████▌     | 11925/13100 [00:38<00:03, 323.18it/s]"
     ]
    },
    {
     "name": "stdout",
     "output_type": "stream",
     "text": [
      "spn in phoneseq Interval(1.84, 2.59, \"motorcades\") ['spn']\n",
      "spn in phoneseq Interval(5.95, 6.68, \"boardroom\") ['spn']\n",
      "spn in phoneseq Interval(0.31, 1.07, \"alexanders\") ['spn']\n",
      "spn in phoneseq Interval(5.28, 5.84, \"burking\") ['spn']\n",
      "spn in phoneseq Interval(0.78, 1.38, \"bidwell\") ['spn']\n",
      "spn in phoneseq Interval(0.57, 1.18, \"lovelady\") ['spn']\n",
      "spn in phoneseq Interval(4.73, 5.17, \"tippit\") ['spn']\n",
      "spn in phoneseq Interval(7.68, 8.78, \"oswalds\") ['spn']\n",
      "spn in phoneseq Interval(8.78, 9.27, \"roominghouse\") ['spn']\n",
      "spn in phoneseq Interval(0.0, 0.36, \"guinyard\") ['spn']\n",
      "spn in phoneseq Interval(1.67, 2.33, \"sorrels\") ['spn']\n",
      "spn in phoneseq Interval(0.0, 0.35, \"misess\") ['spn']\n",
      "spn in phoneseq Interval(0.42, 1.14, \"mohrenschildt\") ['spn']\n",
      "spn in phoneseq Interval(7.11, 7.47, \"misess\") ['spn']\n"
     ]
    },
    {
     "name": "stderr",
     "output_type": "stream",
     "text": [
      " 92%|██████████████████████████████████████████████████████▉     | 11989/13100 [00:38<00:03, 297.84it/s]"
     ]
    },
    {
     "name": "stdout",
     "output_type": "stream",
     "text": [
      "spn in phoneseq Interval(8.01, 8.69, \"stretchers\") ['spn']\n",
      "spn in phoneseq Interval(6.3, 6.64, \"tippit\") ['spn']\n",
      "spn in phoneseq Interval(2.92, 3.6, \"youngblood\") ['spn']\n",
      "spn in phoneseq Interval(7.12, 7.71, \"youngbloods\") ['spn']\n",
      "spn in phoneseq Interval(0.0, 0.59, \"thistlewood\") ['spn']\n",
      "spn in phoneseq Interval(7.28, 7.56, \"tippit\") ['spn']\n",
      "spn in phoneseq Interval(0.0, 0.57, \"todays\") ['spn']\n",
      "spn in phoneseq Interval(1.01, 1.9, \"excretory\") ['spn']\n",
      "spn in phoneseq Interval(0.07, 1.13, \"contractility\") ['spn']\n"
     ]
    },
    {
     "name": "stderr",
     "output_type": "stream",
     "text": [
      " 92%|███████████████████████████████████████████████████████▏    | 12056/13100 [00:38<00:03, 309.48it/s]"
     ]
    },
    {
     "name": "stdout",
     "output_type": "stream",
     "text": [
      "spn in phoneseq Interval(0.13, 0.55, \"couldn\") ['spn']\n",
      "spn in phoneseq Interval(2.7, 3.17, \"latona\") ['spn']\n",
      "spn in phoneseq Interval(0.22, 0.47, \"rightwing\") ['spn']\n",
      "spn in phoneseq Interval(0.47, 1.52, \"extremism\") ['spn']\n",
      "spn in phoneseq Interval(5.48, 6.01, \"oswalds\") ['spn']\n",
      "spn in phoneseq Interval(0.46, 1.04, \"carrico\") ['spn']\n",
      "spn in phoneseq Interval(2.07, 3.03, \"endotracheal\") ['spn']\n",
      "spn in phoneseq Interval(0.26, 1.09, \"calcraft\") ['spn']\n",
      "spn in phoneseq Interval(2.6, 3.34, \"palmprint\") ['spn']\n",
      "spn in phoneseq Interval(7.39, 8.0, \"oswalds\") ['spn']\n",
      "spn in phoneseq Interval(2.42, 2.99, \"robsons\") ['spn']\n",
      "spn in phoneseq Interval(0.0, 0.47, \"guinyard\") ['spn']\n",
      "spn in phoneseq Interval(0.94, 1.34, \"hosty\") ['spn']\n",
      "spn in phoneseq Interval(1.94, 2.9, \"preliminarily\") ['spn']\n",
      "spn in phoneseq Interval(3.31, 3.9, \"patrolman\") ['spn']\n",
      "spn in phoneseq Interval(2.47, 2.84, \"wasn\") ['spn']\n",
      "spn in phoneseq Interval(7.71, 7.96, \"wasn\") ['spn']\n"
     ]
    },
    {
     "name": "stderr",
     "output_type": "stream",
     "text": [
      " 93%|███████████████████████████████████████████████████████▌    | 12124/13100 [00:38<00:03, 311.44it/s]"
     ]
    },
    {
     "name": "stdout",
     "output_type": "stream",
     "text": [
      "spn in phoneseq Interval(5.21, 6.17, \"vilification\") ['spn']\n",
      "spn in phoneseq Interval(2.89, 3.41, \"schwanns\") ['spn']\n",
      "spn in phoneseq Interval(2.54, 2.94, \"jebb\") ['spn']\n",
      "spn in phoneseq Interval(0.0, 0.62, \"oswalds\") ['spn']\n",
      "spn in phoneseq Interval(1.98, 2.41, \"roupell\") ['spn']\n",
      "spn in phoneseq Interval(0.53, 1.31, \"prs\") ['spn']\n",
      "spn in phoneseq Interval(0.0, 0.61, \"shaneyfelt\") ['spn']\n",
      "spn in phoneseq Interval(6.29, 6.65, \"jamess\") ['spn']\n",
      "spn in phoneseq Interval(4.64, 5.43, \"marsalis\") ['spn']\n",
      "spn in phoneseq Interval(0.0, 0.49, \"marwood\") ['spn']\n",
      "spn in phoneseq Interval(0.17, 0.7, \"mullers\") ['spn']\n",
      "spn in phoneseq Interval(2.62, 2.89, \"lubeck\") ['spn']\n",
      "spn in phoneseq Interval(3.3, 3.96, \"uncombed\") ['spn']\n",
      "spn in phoneseq Interval(1.2, 1.88, \"reproves\") ['spn']\n",
      "spn in phoneseq Interval(0.14, 1.03, \"courvoisiers\") ['spn']\n",
      "spn in phoneseq Interval(1.9, 2.29, \"wifes\") ['spn']\n",
      "spn in phoneseq Interval(6.11, 7.07, \"mohrenschildt\") ['spn']\n"
     ]
    },
    {
     "name": "stderr",
     "output_type": "stream",
     "text": [
      " 93%|███████████████████████████████████████████████████████▊    | 12188/13100 [00:39<00:02, 311.29it/s]"
     ]
    },
    {
     "name": "stdout",
     "output_type": "stream",
     "text": [
      "spn in phoneseq Interval(0.46, 1.01, \"sattler\") ['spn']\n",
      "spn in phoneseq Interval(4.39, 5.07, \"ekdahl\") ['spn']\n",
      "spn in phoneseq Interval(0.9, 1.35, \"checkup\") ['spn']\n",
      "spn in phoneseq Interval(8.89, 9.82, \"roominghouse\") ['spn']\n",
      "spn in phoneseq Interval(0.0, 0.71, \"ctesias\") ['spn']\n",
      "spn in phoneseq Interval(1.44, 2.12, \"pentonville\") ['spn']\n",
      "spn in phoneseq Interval(6.57, 7.32, \"normanby\") ['spn']\n",
      "spn in phoneseq Interval(3.12, 4.1, \"delustered\") ['spn']\n",
      "spn in phoneseq Interval(4.1, 4.72, \"viscose\") ['spn']\n",
      "spn in phoneseq Interval(6.32, 6.65, \"misess\") ['spn']\n",
      "spn in phoneseq Interval(0.57, 1.39, \"refaced\") ['spn']\n",
      "spn in phoneseq Interval(5.53, 6.26, \"selvages\") ['spn']\n",
      "spn in phoneseq Interval(1.22, 2.11, \"sepulchres\") ['spn']\n",
      "spn in phoneseq Interval(0.0, 0.34, \"carro\") ['spn']\n",
      "spn in phoneseq Interval(1.04, 1.49, \"buncher\") ['spn']\n",
      "spn in phoneseq Interval(0.56, 1.33, \"demonstrably\") ['spn']\n",
      "spn in phoneseq Interval(6.95, 7.57, \"vilest\") ['spn']\n",
      "spn in phoneseq Interval(5.48, 6.19, \"stuckey\") ['spn']\n",
      "spn in phoneseq Interval(1.47, 2.06, \"mwddy\") ['spn']\n",
      "spn in phoneseq Interval(5.3, 5.93, \"pinfold\") ['spn']\n"
     ]
    },
    {
     "name": "stderr",
     "output_type": "stream",
     "text": [
      " 94%|████████████████████████████████████████████████████████▎   | 12286/13100 [00:40<00:06, 123.65it/s]"
     ]
    },
    {
     "name": "stdout",
     "output_type": "stream",
     "text": [
      "spn in phoneseq Interval(5.72, 6.33, \"lunchroom\") ['spn']\n",
      "spn in phoneseq Interval(3.14, 3.6, \"misess\") ['spn']\n",
      "spn in phoneseq Interval(0.0, 0.78, \"belshazzar\") ['spn']\n",
      "spn in phoneseq Interval(0.0, 0.46, \"misess\") ['spn']\n",
      "spn in phoneseq Interval(4.85, 5.29, \"tippit\") ['spn']\n",
      "spn in phoneseq Interval(5.37, 5.94, \"medes\") ['spn']\n",
      "spn in phoneseq Interval(0.63, 1.39, \"reconverted\") ['spn']\n",
      "spn in phoneseq Interval(5.35, 5.91, \"ervay\") ['spn']\n",
      "spn in phoneseq Interval(0.77, 1.39, \"oswalds\") ['spn']\n",
      "spn in phoneseq Interval(1.83, 2.7, \"homologies\") ['spn']\n",
      "spn in phoneseq Interval(1.86, 2.55, \"courvoisier\") ['spn']\n",
      "spn in phoneseq Interval(3.61, 4.38, \"stationers\") ['spn']\n",
      "spn in phoneseq Interval(2.0, 2.36, \"misess\") ['spn']\n",
      "spn in phoneseq Interval(0.65, 1.41, \"bousfield\") ['spn']\n"
     ]
    },
    {
     "name": "stderr",
     "output_type": "stream",
     "text": [
      " 94%|████████████████████████████████████████████████████████▌   | 12349/13100 [00:40<00:04, 178.21it/s]"
     ]
    },
    {
     "name": "stdout",
     "output_type": "stream",
     "text": [
      "spn in phoneseq Interval(0.07, 0.63, \"mannings\") ['spn']\n",
      "spn in phoneseq Interval(4.07, 4.88, \"purlieus\") ['spn']\n",
      "spn in phoneseq Interval(5.35, 5.78, \"trenched\") ['spn']\n",
      "spn in phoneseq Interval(1.19, 1.93, \"prs\") ['spn']\n",
      "spn in phoneseq Interval(2.16, 2.88, \"sorrels\") ['spn']\n",
      "spn in phoneseq Interval(7.18, 7.9, \"calcraft\") ['spn']\n",
      "spn in phoneseq Interval(0.31, 0.66, \"tippit\") ['spn']\n",
      "spn in phoneseq Interval(0.82, 1.35, \"misess\") ['spn']\n",
      "spn in phoneseq Interval(1.35, 1.7, \"soames\") ['spn']\n"
     ]
    },
    {
     "name": "stderr",
     "output_type": "stream",
     "text": [
      " 95%|████████████████████████████████████████████████████████▊   | 12412/13100 [00:40<00:03, 224.47it/s]"
     ]
    },
    {
     "name": "stdout",
     "output_type": "stream",
     "text": [
      "spn in phoneseq Interval(0.47, 1.09, \"burkley\") ['spn']\n",
      "spn in phoneseq Interval(0.37, 1.11, \"calcraft\") ['spn']\n",
      "spn in phoneseq Interval(0.8, 1.43, \"neches\") ['spn']\n",
      "spn in phoneseq Interval(4.51, 4.96, \"krapps\") ['spn']\n",
      "spn in phoneseq Interval(4.12, 4.91, \"wardsman\") ['spn']\n",
      "spn in phoneseq Interval(5.36, 6.19, \"yardsman\") ['spn']\n",
      "spn in phoneseq Interval(3.92, 4.52, \"militate\") ['spn']\n",
      "spn in phoneseq Interval(7.88, 8.62, \"apteryx\") ['spn']\n",
      "spn in phoneseq Interval(5.21, 6.07, \"misdemeanants\") ['spn']\n",
      "spn in phoneseq Interval(0.0, 0.36, \"misess\") ['spn']\n",
      "spn in phoneseq Interval(2.61, 3.28, \"amran\") ['spn']\n",
      "spn in phoneseq Interval(6.92, 7.62, \"mohammedan\") ['spn']\n",
      "spn in phoneseq Interval(4.82, 5.7, \"supervene\") ['spn']\n",
      "spn in phoneseq Interval(8.46, 8.83, \"felo\") ['spn']\n",
      "spn in phoneseq Interval(1.38, 1.97, \"wardsman\") ['spn']\n",
      "spn in phoneseq Interval(4.67, 5.24, \"fbis\") ['spn']\n",
      "spn in phoneseq Interval(6.62, 7.28, \"oswalds\") ['spn']\n",
      "spn in phoneseq Interval(1.09, 1.69, \"fenning\") ['spn']\n"
     ]
    },
    {
     "name": "stderr",
     "output_type": "stream",
     "text": [
      " 95%|█████████████████████████████████████████████████████████▏  | 12480/13100 [00:41<00:02, 271.50it/s]"
     ]
    },
    {
     "name": "stdout",
     "output_type": "stream",
     "text": [
      "spn in phoneseq Interval(0.57, 1.08, \"connally\") ['spn']\n",
      "spn in phoneseq Interval(2.58, 3.65, \"fpcc\") ['spn']\n",
      "spn in phoneseq Interval(5.34, 6.26, \"excretions\") ['spn']\n",
      "spn in phoneseq Interval(0.0, 1.03, \"oswalds\") ['spn']\n",
      "spn in phoneseq Interval(1.03, 1.35, \"mannlicher\") ['spn']\n",
      "spn in phoneseq Interval(1.35, 1.99, \"carcano\") ['spn']\n",
      "spn in phoneseq Interval(6.23, 6.95, \"erechtheum\") ['spn']\n",
      "spn in phoneseq Interval(2.02, 2.73, \"handhold\") ['spn']\n",
      "spn in phoneseq Interval(1.85, 2.53, \"coldbath\") ['spn']\n",
      "spn in phoneseq Interval(0.0, 0.36, \"misess\") ['spn']\n",
      "spn in phoneseq Interval(4.75, 5.4, \"greenacres\") ['spn']\n",
      "spn in phoneseq Interval(3.92, 4.5, \"sorrels\") ['spn']\n",
      "spn in phoneseq Interval(0.0, 0.55, \"mannings\") ['spn']\n",
      "spn in phoneseq Interval(2.3, 2.55, \"didn\") ['spn']\n"
     ]
    },
    {
     "name": "stderr",
     "output_type": "stream",
     "text": [
      " 96%|█████████████████████████████████████████████████████████▍  | 12550/13100 [00:41<00:01, 301.92it/s]"
     ]
    },
    {
     "name": "stdout",
     "output_type": "stream",
     "text": [
      "spn in phoneseq Interval(0.0, 0.42, \"misess\") ['spn']\n",
      "spn in phoneseq Interval(0.0, 0.69, \"maltby\") ['spn']\n",
      "spn in phoneseq Interval(1.24, 1.61, \"dealey\") ['spn']\n",
      "spn in phoneseq Interval(2.7, 3.41, \"attractively\") ['spn']\n",
      "spn in phoneseq Interval(0.55, 1.3, \"nabonidus\") ['spn']\n",
      "spn in phoneseq Interval(5.24, 5.96, \"crosshair\") ['spn']\n",
      "spn in phoneseq Interval(8.35, 9.1, \"sorrels\") ['spn']\n",
      "spn in phoneseq Interval(1.21, 1.8, \"strychnia\") ['spn']\n",
      "spn in phoneseq Interval(4.63, 5.28, \"nux\") ['spn']\n",
      "spn in phoneseq Interval(5.28, 5.62, \"vomica\") ['spn']\n",
      "spn in phoneseq Interval(4.7, 5.41, \"palmprint\") ['spn']\n",
      "spn in phoneseq Interval(2.8, 3.35, \"oswalds\") ['spn']\n",
      "spn in phoneseq Interval(2.21, 3.24, \"unavailability\") ['spn']\n",
      "spn in phoneseq Interval(5.78, 6.59, \"ineffectualness\") ['spn']\n",
      "spn in phoneseq Interval(0.71, 1.46, \"patrolman\") ['spn']\n",
      "spn in phoneseq Interval(1.46, 1.77, \"tippit\") ['spn']\n",
      "spn in phoneseq Interval(6.5, 7.32, \"roominghouse\") ['spn']\n",
      "spn in phoneseq Interval(1.62, 2.0, \"regne\") ['spn']\n"
     ]
    },
    {
     "name": "stderr",
     "output_type": "stream",
     "text": [
      " 96%|█████████████████████████████████████████████████████████▊  | 12614/13100 [00:41<00:01, 293.14it/s]"
     ]
    },
    {
     "name": "stdout",
     "output_type": "stream",
     "text": [
      "spn in phoneseq Interval(1.87, 2.29, \"misess\") ['spn']\n",
      "spn in phoneseq Interval(0.13, 0.82, \"oswalds\") ['spn']\n",
      "spn in phoneseq Interval(0.65, 1.55, \"nitrogenous\") ['spn']\n",
      "spn in phoneseq Interval(1.7, 2.34, \"millbank\") ['spn']\n",
      "spn in phoneseq Interval(6.55, 7.17, \"lunchroom\") ['spn']\n",
      "spn in phoneseq Interval(6.48, 7.13, \"oswalds\") ['spn']\n",
      "spn in phoneseq Interval(2.9, 4.02, \"nebuchadnezzars\") ['spn']\n",
      "spn in phoneseq Interval(7.16, 7.79, \"shrigley\") ['spn']\n",
      "spn in phoneseq Interval(3.79, 4.51, \"handprinting\") ['spn']\n",
      "spn in phoneseq Interval(3.91, 4.69, \"lovelady\") ['spn']\n"
     ]
    },
    {
     "name": "stderr",
     "output_type": "stream",
     "text": [
      " 97%|██████████████████████████████████████████████████████████  | 12681/13100 [00:41<00:01, 308.42it/s]"
     ]
    },
    {
     "name": "stdout",
     "output_type": "stream",
     "text": [
      "spn in phoneseq Interval(7.58, 8.22, \"oswalds\") ['spn']\n",
      "spn in phoneseq Interval(8.01, 8.62, \"connally\") ['spn']\n",
      "spn in phoneseq Interval(0.7, 1.16, \"womans\") ['spn']\n",
      "spn in phoneseq Interval(2.65, 3.05, \"connally\") ['spn']\n",
      "spn in phoneseq Interval(1.75, 2.87, \"nabopolassar\") ['spn']\n",
      "spn in phoneseq Interval(0.0, 0.5, \"scoggins\") ['spn']\n",
      "spn in phoneseq Interval(4.71, 5.29, \"proberts\") ['spn']\n",
      "spn in phoneseq Interval(0.0, 0.91, \"courvoisier\") ['spn']\n",
      "spn in phoneseq Interval(3.11, 3.92, \"prohibitory\") ['spn']\n",
      "spn in phoneseq Interval(4.48, 5.2, \"caspars\") ['spn']\n",
      "spn in phoneseq Interval(5.0, 5.42, \"fpcc\") ['spn']\n",
      "spn in phoneseq Interval(2.0, 2.77, \"unpracticed\") ['spn']\n",
      "spn in phoneseq Interval(4.22, 4.88, \"foxen\") ['spn']\n"
     ]
    },
    {
     "name": "stderr",
     "output_type": "stream",
     "text": [
      " 97%|██████████████████████████████████████████████████████████▎ | 12744/13100 [00:42<00:01, 299.34it/s]"
     ]
    },
    {
     "name": "stdout",
     "output_type": "stream",
     "text": [
      "spn in phoneseq Interval(7.96, 8.57, \"calcraft\") ['spn']\n",
      "spn in phoneseq Interval(3.24, 3.86, \"lunchroom\") ['spn']\n",
      "spn in phoneseq Interval(7.09, 7.68, \"gatesman\") ['spn']\n",
      "spn in phoneseq Interval(0.64, 1.52, \"mohrenschildt\") ['spn']\n",
      "spn in phoneseq Interval(2.54, 2.93, \"imgur\") ['spn']\n",
      "spn in phoneseq Interval(1.01, 1.84, \"roominghouse\") ['spn']\n",
      "spn in phoneseq Interval(2.07, 2.85, \"marsalis\") ['spn']\n",
      "spn in phoneseq Interval(0.0, 0.42, \"marwood\") ['spn']\n",
      "spn in phoneseq Interval(5.26, 5.78, \"fasson\") ['spn']\n",
      "spn in phoneseq Interval(2.84, 3.46, \"oswalds\") ['spn']\n",
      "spn in phoneseq Interval(5.08, 6.0, \"misstatements\") ['spn']\n",
      "spn in phoneseq Interval(2.67, 3.12, \"misess\") ['spn']\n",
      "spn in phoneseq Interval(0.0, 0.95, \"wdsu\") ['spn']\n",
      "spn in phoneseq Interval(4.6, 5.12, \"hamburgh\") ['spn']\n"
     ]
    },
    {
     "name": "stderr",
     "output_type": "stream",
     "text": [
      " 98%|██████████████████████████████████████████████████████████▋ | 12816/13100 [00:42<00:00, 327.51it/s]"
     ]
    },
    {
     "name": "stdout",
     "output_type": "stream",
     "text": [
      "spn in phoneseq Interval(3.58, 4.29, \"petitioning\") ['spn']\n",
      "spn in phoneseq Interval(0.83, 1.49, \"byles\") ['spn']\n",
      "spn in phoneseq Interval(7.1, 7.68, \"roupells\") ['spn']\n",
      "spn in phoneseq Interval(0.42, 0.93, \"babylonians\") ['spn']\n",
      "spn in phoneseq Interval(2.04, 2.98, \"misess\") ['spn']\n",
      "spn in phoneseq Interval(2.98, 3.19, \"smethurst\") ['spn']\n",
      "spn in phoneseq Interval(1.11, 1.14, \"defalcations\") ['spn']\n",
      "spn in phoneseq Interval(1.6, 1.98, \"mullay\") ['spn']\n",
      "spn in phoneseq Interval(3.28, 3.9, \"oswalds\") ['spn']\n",
      "spn in phoneseq Interval(3.51, 4.38, \"babylonians\") ['spn']\n",
      "spn in phoneseq Interval(3.67, 4.25, \"tylers\") ['spn']\n",
      "spn in phoneseq Interval(6.85, 6.88, \"didn\") ['spn']\n",
      "spn in phoneseq Interval(0.0, 0.61, \"oswalds\") ['spn']\n",
      "spn in phoneseq Interval(0.45, 1.22, \"nitrites\") ['spn']\n",
      "spn in phoneseq Interval(1.32, 2.0, \"nitrates\") ['spn']\n",
      "spn in phoneseq Interval(2.55, 3.55, \"exhumation\") ['spn']\n",
      "spn in phoneseq Interval(5.82, 6.87, \"disinterring\") ['spn']\n"
     ]
    },
    {
     "name": "stderr",
     "output_type": "stream",
     "text": [
      " 98%|███████████████████████████████████████████████████████████ | 12884/13100 [00:42<00:00, 315.87it/s]"
     ]
    },
    {
     "name": "stdout",
     "output_type": "stream",
     "text": [
      "spn in phoneseq Interval(1.48, 2.31, \"incommodious\") ['spn']\n",
      "spn in phoneseq Interval(0.59, 1.42, \"babylonians\") ['spn']\n",
      "spn in phoneseq Interval(5.54, 6.51, \"recapitulates\") ['spn']\n",
      "spn in phoneseq Interval(4.63, 5.3, \"catabolic\") ['spn']\n",
      "spn in phoneseq Interval(3.26, 3.81, \"marrs\") ['spn']\n",
      "spn in phoneseq Interval(1.05, 1.71, \"mannlicher\") ['spn']\n",
      "spn in phoneseq Interval(1.71, 2.39, \"carano\") ['spn']\n",
      "spn in phoneseq Interval(4.62, 5.02, \"misess\") ['spn']\n",
      "spn in phoneseq Interval(0.11, 1.14, \"oswalds\") ['spn']\n",
      "spn in phoneseq Interval(1.14, 1.57, \"billfold\") ['spn']\n",
      "spn in phoneseq Interval(3.82, 4.59, \"thanksgivings\") ['spn']\n",
      "spn in phoneseq Interval(0.0, 0.35, \"misess\") ['spn']\n",
      "spn in phoneseq Interval(5.3, 5.8, \"cuvier\") ['spn']\n"
     ]
    },
    {
     "name": "stderr",
     "output_type": "stream",
     "text": [
      " 99%|███████████████████████████████████████████████████████████▍| 12980/13100 [00:42<00:00, 302.52it/s]"
     ]
    },
    {
     "name": "stdout",
     "output_type": "stream",
     "text": [
      "spn in phoneseq Interval(0.0, 0.67, \"prs\") ['spn']\n",
      "spn in phoneseq Interval(2.79, 3.47, \"shrillness\") ['spn']\n",
      "spn in phoneseq Interval(2.01, 2.46, \"newmans\") ['spn']\n",
      "spn in phoneseq Interval(5.33, 5.78, \"hosty\") ['spn']\n",
      "spn in phoneseq Interval(4.26, 4.37, \"wouldn\") ['spn']\n",
      "spn in phoneseq Interval(0.0, 0.39, \"misess\") ['spn']\n",
      "spn in phoneseq Interval(4.06, 4.85, \"caslon\") ['spn']\n",
      "spn in phoneseq Interval(0.66, 1.27, \"lovelady\") ['spn']\n",
      "spn in phoneseq Interval(0.71, 1.33, \"sorrels\") ['spn']\n",
      "spn in phoneseq Interval(6.0, 6.84, \"bringuier\") ['spn']\n",
      "spn in phoneseq Interval(6.64, 7.23, \"wakefields\") ['spn']\n",
      "spn in phoneseq Interval(4.53, 5.26, \"snatchers\") ['spn']\n",
      "spn in phoneseq Interval(0.0, 0.75, \"zopyrus\") ['spn']\n"
     ]
    },
    {
     "name": "stderr",
     "output_type": "stream",
     "text": [
      "100%|███████████████████████████████████████████████████████████▋| 13045/13100 [00:43<00:00, 314.61it/s]"
     ]
    },
    {
     "name": "stdout",
     "output_type": "stream",
     "text": [
      "spn in phoneseq Interval(7.69, 8.51, \"laverstock\") ['spn']\n",
      "spn in phoneseq Interval(0.0, 0.64, \"scoggins\") ['spn']\n",
      "spn in phoneseq Interval(2.28, 3.05, \"nutfield\") ['spn']\n",
      "spn in phoneseq Interval(3.61, 4.32, \"reigate\") ['spn']\n",
      "spn in phoneseq Interval(2.91, 3.55, \"oswalds\") ['spn']\n",
      "spn in phoneseq Interval(0.0, 0.4, \"hosty\") ['spn']\n",
      "spn in phoneseq Interval(1.25, 2.02, \"roominghouse\") ['spn']\n",
      "spn in phoneseq Interval(3.72, 4.79, \"resurrectionist\") ['spn']\n",
      "spn in phoneseq Interval(0.54, 1.63, \"familiarization\") ['spn']\n",
      "spn in phoneseq Interval(1.01, 1.68, \"stombaughs\") ['spn']\n",
      "spn in phoneseq Interval(2.83, 3.33, \"probative\") ['spn']\n",
      "spn in phoneseq Interval(0.73, 1.28, \"youngblood\") ['spn']\n",
      "spn in phoneseq Interval(3.52, 4.22, \"greenacre\") ['spn']\n",
      "spn in phoneseq Interval(8.65, 9.78, \"courvoisiers\") ['spn']\n",
      "spn in phoneseq Interval(0.33, 0.81, \"paines\") ['spn']\n",
      "spn in phoneseq Interval(6.01, 6.47, \"decamped\") ['spn']\n",
      "spn in phoneseq Interval(1.93, 2.62, \"christs\") ['spn']\n",
      "spn in phoneseq Interval(0.0, 0.6, \"taffir\") ['spn']\n"
     ]
    },
    {
     "name": "stderr",
     "output_type": "stream",
     "text": [
      "100%|████████████████████████████████████████████████████████████| 13100/13100 [00:43<00:00, 303.39it/s]"
     ]
    },
    {
     "name": "stdout",
     "output_type": "stream",
     "text": [
      "spn in phoneseq Interval(3.49, 3.96, \"currys\") ['spn']\n",
      "spn in phoneseq Interval(0.0, 0.48, \"carro\") ['spn']\n",
      "spn in phoneseq Interval(1.61, 2.33, \"oswalds\") ['spn']\n",
      "spn in phoneseq Interval(0.0, 0.34, \"whaley\") ['spn']\n",
      "spn in phoneseq Interval(1.56, 2.14, \"oswalds\") ['spn']\n",
      "spn in phoneseq Interval(5.9, 6.84, \"babylonians\") ['spn']\n",
      "spn in phoneseq Interval(0.0, 0.39, \"misess\") ['spn']\n",
      "spn in phoneseq Interval(1.4, 2.11, \"fleetingly\") ['spn']\n",
      "spn in phoneseq Interval(3.3, 3.95, \"joshuas\") ['spn']\n"
     ]
    },
    {
     "name": "stderr",
     "output_type": "stream",
     "text": [
      "\n"
     ]
    }
   ],
   "source": [
    "uttid2phones_per_word = {}\n",
    "mfa_symbol_set = set()\n",
    "for uttid, textgrid in tqdm(uttid2textgrid.items()):\n",
    "    phones_per_word = get_phones_per_word(textgrid)\n",
    "    uttid2phones_per_word[uttid] = phones_per_word\n",
    "    for word, phones in phones_per_word:\n",
    "        mfa_symbol_set.update(phones)"
   ]
  },
  {
   "cell_type": "code",
   "execution_count": 67,
   "id": "89fe01b4",
   "metadata": {},
   "outputs": [
    {
     "name": "stdout",
     "output_type": "stream",
     "text": [
      "82\n"
     ]
    },
    {
     "data": {
      "text/plain": [
       "'a, aj, aw, aː, b, bʲ, c, cʰ, d, dʒ, dʲ, d̪, e, ej, f, fʲ, h, i, iː, j, k, kʰ, l, m, mʲ, m̩, n, n̩, o, ow, p, pʰ, pʲ, s, spn, t, tʃ, tʰ, tʲ, t̪, u, uː, v, vʲ, w, z, æ, ç, ð, ŋ, ɐ, ɑ, ɑː, ɒ, ɒː, ɔ, ɔj, ə, əw, ɚ, ɛ, ɛː, ɜ, ɜː, ɝ, ɟ, ɡ, ɪ, ɫ, ɫ̩, ɱ, ɲ, ɹ, ɾ, ʃ, ʉ, ʉː, ʊ, ʎ, ʒ, ʔ, θ'"
      ]
     },
     "execution_count": 67,
     "metadata": {},
     "output_type": "execute_result"
    }
   ],
   "source": [
    "print(len(mfa_symbol_set))\n",
    "\", \".join(sorted(mfa_symbol_set))"
   ]
  },
  {
   "cell_type": "markdown",
   "id": "c722a942-447a-4d2d-b000-5fe3e9f2f608",
   "metadata": {},
   "source": [
    "# save in format for fastpitch"
   ]
  },
  {
   "cell_type": "markdown",
   "id": "3b0fb016-e238-41c2-87c7-23626a2213de",
   "metadata": {},
   "source": [
    "# save in format for speechbrain "
   ]
  },
  {
   "cell_type": "code",
   "execution_count": 68,
   "id": "ed1c8386-e73e-45b6-baa2-dcec2a648a91",
   "metadata": {},
   "outputs": [
    {
     "ename": "NameError",
     "evalue": "name 'tg' is not defined",
     "output_type": "error",
     "traceback": [
      "\u001b[0;31m---------------------------------------------------------------------------\u001b[0m",
      "\u001b[0;31mNameError\u001b[0m                                 Traceback (most recent call last)",
      "Cell \u001b[0;32mIn[68], line 27\u001b[0m\n\u001b[1;32m     22\u001b[0m             sil_durations\u001b[39m.\u001b[39mappend(num_frames)\n\u001b[1;32m     24\u001b[0m     \u001b[39mreturn\u001b[39;00m words, word_durations, sil_durations, start_frames, end_frames, utt_start_time, utt_end_time\n\u001b[1;32m     26\u001b[0m words, word_durs, sil_durations, start_frames, end_frames, utt_start, utt_end \u001b[39m=\u001b[39m parse_textgrid(\n\u001b[0;32m---> 27\u001b[0m     tg\u001b[39m.\u001b[39mget_tier_by_name(\u001b[39m'\u001b[39m\u001b[39mwords\u001b[39m\u001b[39m'\u001b[39m), reps, ignore_all_pauses\u001b[39m=\u001b[39m\u001b[39mTrue\u001b[39;00m\n\u001b[1;32m     28\u001b[0m )\n",
      "\u001b[0;31mNameError\u001b[0m: name 'tg' is not defined"
     ]
    }
   ],
   "source": [
    "def parse_textgrid(tier, speechreps, ignore_all_pauses=True):\n",
    "    # latest MFA replaces silence phones with \"\" in output TextGrids\n",
    "    total_num_frames = speechreps.size(0)\n",
    "    sil_phones = [\"sil\", \"sp\", \"spn\", \"\"]\n",
    "    utt_start_time = tier[0].start_time\n",
    "    utt_end_time = tier[-1].end_time\n",
    "    words = []\n",
    "    word_durations = [] \n",
    "    sil_durations = []\n",
    "    start_frames = []\n",
    "    end_frames = []\n",
    "    for i, t in enumerate(tier._objects):\n",
    "        start, end, token = t.start_time, t.end_time, t.text\n",
    "        start_idx, end_idx, num_frames = extract_reprs_with_timestamps(total_num_frames, start, end, utt_end_time)\n",
    "    \n",
    "        if token not in sil_phones:\n",
    "            words.append(token)\n",
    "            start_frames.append(start_idx)\n",
    "            end_frames.append(end_idx)\n",
    "            word_durations.append(num_frames)\n",
    "        else:\n",
    "            sil_durations.append(num_frames)\n",
    "\n",
    "    return words, word_durations, sil_durations, start_frames, end_frames, utt_start_time, utt_end_time\n",
    "\n",
    "words, word_durs, sil_durations, start_frames, end_frames, utt_start, utt_end = parse_textgrid(\n",
    "    tg.get_tier_by_name('words'), reps, ignore_all_pauses=True\n",
    ")"
   ]
  }
 ],
 "metadata": {
  "kernelspec": {
   "display_name": "Python 3 (ipykernel)",
   "language": "python",
   "name": "python3"
  },
  "language_info": {
   "codemirror_mode": {
    "name": "ipython",
    "version": 3
   },
   "file_extension": ".py",
   "mimetype": "text/x-python",
   "name": "python",
   "nbconvert_exporter": "python",
   "pygments_lexer": "ipython3",
   "version": "3.8.16"
  }
 },
 "nbformat": 4,
 "nbformat_minor": 5
}
