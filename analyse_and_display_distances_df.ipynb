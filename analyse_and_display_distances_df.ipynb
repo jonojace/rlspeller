{
 "cells": [
  {
   "cell_type": "code",
   "execution_count": 95,
   "id": "91a9abca-1158-4de9-99f2-0d4bdaad22d8",
   "metadata": {},
   "outputs": [],
   "source": [
    "import math\n",
    "import os\n",
    "import pandas as pd\n",
    "from IPython.display import Audio\n",
    "import pickle\n",
    "import glob\n",
    "import os.path\n",
    "from tqdm import tqdm\n",
    "import scipy\n",
    "from scipy.io.wavfile import write\n",
    "import shutil\n",
    "from collections import defaultdict\n",
    "from matplotlib import pyplot as plt"
   ]
  },
  {
   "cell_type": "code",
   "execution_count": 96,
   "id": "b9b88694-9ef0-48cf-ab96-fc2d8ca192a1",
   "metadata": {
    "tags": []
   },
   "outputs": [],
   "source": [
    "GT_SAMPLE_RATE = 16000"
   ]
  },
  {
   "cell_type": "code",
   "execution_count": 97,
   "id": "7682857b-1abe-40cd-adf4-10c2728cfe6b",
   "metadata": {
    "tags": []
   },
   "outputs": [],
   "source": [
    "HIFIGAN_SAMPLE_RATE = 22050"
   ]
  },
  {
   "cell_type": "code",
   "execution_count": 98,
   "id": "dfdd00a2-7ae8-4dfb-af91-3a54b6f8553d",
   "metadata": {},
   "outputs": [],
   "source": [
    "pd.set_option('display.max_columns', None)"
   ]
  },
  {
   "cell_type": "code",
   "execution_count": 99,
   "id": "63c6a945-cbab-431d-ba1d-b1c03a90a6ec",
   "metadata": {
    "tags": []
   },
   "outputs": [
    {
     "name": "stdout",
     "output_type": "stream",
     "text": [
      "loaded cache at /home/s1785140/rlspeller/caches/spelling2vocoded_audio_cache.pkl\n"
     ]
    }
   ],
   "source": [
    "def load_cache(cache_path):\n",
    "    if os.path.exists(cache_path):\n",
    "        with open(cache_path, \"rb\") as f:\n",
    "            cache = pickle.load(f)\n",
    "        print(\"loaded cache at\", cache_path)\n",
    "    else:\n",
    "        print(\"WARNING NO CACHE NOT FOUND AT\", cache_path, 'returning empty one')\n",
    "        cache = {}\n",
    "    return cache\n",
    "\n",
    "spelling2vocoded_audio = load_cache(\"/home/s1785140/rlspeller/caches/spelling2vocoded_audio_cache.pkl\",)"
   ]
  },
  {
   "cell_type": "code",
   "execution_count": 100,
   "id": "737aafc5-d6e3-4a83-a996-41c1016f6480",
   "metadata": {
    "tags": []
   },
   "outputs": [
    {
     "data": {
      "text/plain": [
       "['test_dump_feats',\n",
       " 'distances_df_16-03-2023_16:08:58.pkl',\n",
       " 'distances_df_16-03-2023_16:12:59.pkl',\n",
       " 'distances_df_16-Mar-2023_16:16:57.pkl',\n",
       " 'distances_df_16-Mar-2023_16:42:14.pkl',\n",
       " 'distances_df_16-Mar-2023_16:46:34.pkl',\n",
       " 'distances_df_16-Mar-2023_16:55:34.pkl',\n",
       " 'distances_df_16-Mar-2023_16:59:52.pkl',\n",
       " 'distances_df_16-Mar-2023_17:14:10.pkl',\n",
       " 'distances_df_17-Mar-2023_00:55:15.pkl',\n",
       " 'distances_df_27-Mar-2023_12:38:45.pkl',\n",
       " 'distances_df_27-Mar-2023_13:04:06.pkl',\n",
       " 'distances_df_27-Mar-2023_15:06:19.pkl',\n",
       " 'distances_df_27-Mar-2023_15:44:02.pkl',\n",
       " 'distances_df_28-Mar-2023_12:52:18.pkl',\n",
       " 'distances_df_28-Mar-2023_17:13:48.pkl',\n",
       " 'distances_df_29-Mar-2023_11:10:08.pkl',\n",
       " 'distances_df_31-Mar-2023_20:50:35.pkl',\n",
       " 'distances_df_01-Apr-2023_13:05:28.pkl',\n",
       " 'distances_df_experiment1.pkl']"
      ]
     },
     "execution_count": 100,
     "metadata": {},
     "output_type": "execute_result"
    }
   ],
   "source": [
    "dataframe_outdir = os.path.join(os.getcwd(), 'results')\n",
    "os.listdir(dataframe_outdir)"
   ]
  },
  {
   "cell_type": "code",
   "execution_count": 101,
   "id": "91c75876-a9d0-4d95-934c-61bc2258fda5",
   "metadata": {
    "tags": []
   },
   "outputs": [
    {
     "data": {
      "text/plain": [
       "'/disk/nfs/ostrom/s1785140/rlspeller/results/distances_df_experiment1.pkl'"
      ]
     },
     "execution_count": 101,
     "metadata": {},
     "output_type": "execute_result"
    }
   ],
   "source": [
    "# get latest created file in output folder \n",
    "def get_latest_file(in_dir, file_type):\n",
    "    files = glob.glob(os.path.join(in_dir, file_type))\n",
    "    return max(files, key=os.path.getctime)\n",
    "\n",
    "df_to_load = \"\"\n",
    "# df_to_load = '/disk/nfs/ostrom/s1785140/rlspeller/results/distances_df_17-Mar-2023_00:55:15.pkl' # first big test of pipeline\n",
    "# df_to_load = '/disk/nfs/ostrom/s1785140/rlspeller/results/distances_df_27-Mar-2023_13:04:06.pkl' # first test of 1000 spellings per wordtype (no dropout)\n",
    "# df_to_load = '/disk/nfs/ostrom/s1785140/rlspeller/results/distances_df_experiment1.pkl'\n",
    "\n",
    "if not df_to_load:\n",
    "    df_to_load = get_latest_file(dataframe_outdir, r'*.pkl')\n",
    "    \n",
    "df_to_load"
   ]
  },
  {
   "cell_type": "code",
   "execution_count": 102,
   "id": "353e7e3c-3013-479e-8d25-ed8bf686add3",
   "metadata": {},
   "outputs": [],
   "source": [
    "# load dataframe from disk\n",
    "df = pd.read_pickle(df_to_load)"
   ]
  },
  {
   "cell_type": "code",
   "execution_count": 103,
   "id": "005c5c49-e00a-4951-aeee-a838f4499de3",
   "metadata": {},
   "outputs": [
    {
     "name": "stdout",
     "output_type": "stream",
     "text": [
      "mfcc::Distance(Euclidean)\n",
      "mfcc::Distance(Euclidean)::w_SL_Penalty\n",
      "hubert-raw::Distance(Cosine)\n",
      "hubert-raw::Distance(Cosine)::w_SL_Penalty\n",
      "hubert-soft::Distance(Cosine)\n",
      "hubert-soft::Distance(Cosine)::w_SL_Penalty\n",
      "hubert-discrete-code::Distance(Levenshtein)\n",
      "hubert-discrete-code::Distance(Levenshtein)::w_SL_Penalty\n",
      "hubert-discrete-centroid::Distance(Cosine)\n",
      "hubert-discrete-centroid::Distance(Cosine)::w_SL_Penalty\n"
     ]
    },
    {
     "data": {
      "text/plain": [
       "Index(['mfcc==Distance(Euclidean)', 'mfcc==Distance(Euclidean)==w_SL_Penalty',\n",
       "       'hubert-raw==Distance(Cosine)',\n",
       "       'hubert-raw==Distance(Cosine)==w_SL_Penalty',\n",
       "       'hubert-soft==Distance(Cosine)',\n",
       "       'hubert-soft==Distance(Cosine)==w_SL_Penalty',\n",
       "       'hubert-discrete-code==Distance(Levenshtein)',\n",
       "       'hubert-discrete-code==Distance(Levenshtein)==w_SL_Penalty',\n",
       "       'hubert-discrete-centroid==Distance(Cosine)',\n",
       "       'hubert-discrete-centroid==Distance(Cosine)==w_SL_Penalty'],\n",
       "      dtype='object')"
      ]
     },
     "execution_count": 103,
     "metadata": {},
     "output_type": "execute_result"
    }
   ],
   "source": [
    "distance_columns = df.columns[df.columns.str.contains(\"::\")]\n",
    "for col in distance_columns:\n",
    "    print(col)\n",
    "    new_col = col.replace('::', '==')\n",
    "    df.rename(columns={col: new_col}, inplace=True)\n",
    "df.columns[df.columns.str.contains(\"==\")]"
   ]
  },
  {
   "cell_type": "code",
   "execution_count": 104,
   "id": "ac4f0fec-9ccb-47d4-92a5-3a2f8c992d06",
   "metadata": {
    "tags": []
   },
   "outputs": [],
   "source": [
    "# exclude wordtypes \n",
    "# i.e. \n",
    "    # because they are not pronounced incorrectly by TTS\n",
    "    # bad alignment\n",
    "bad_alignments = [\n",
    "    'subpoenaed',\n",
    "    'deprecated',\n",
    "    'habitually',\n",
    "    'hogshead',\n",
    "    'schleiden',\n",
    "    'sabotage',\n",
    "    'schoeffer',\n",
    "] \n",
    "\n",
    "pronounced_ok_by_tts = [\n",
    "    # don't add any words here! we are ok if TTS pronounces original spelling ok, we might be able to find a better pronunciation with our spelling pipeline anyway\n",
    "]\n",
    "    \n",
    "wordtypes_to_exclude = bad_alignments + pronounced_ok_by_tts"
   ]
  },
  {
   "cell_type": "code",
   "execution_count": 105,
   "id": "1b81e485-8f83-4653-b839-f2bb06c1fa46",
   "metadata": {
    "tags": []
   },
   "outputs": [
    {
     "name": "stdout",
     "output_type": "stream",
     "text": [
      "pre-filter df has 246 total wordtypes\n"
     ]
    }
   ],
   "source": [
    "print(\"pre-filter df has\", len(df['wordtype'].unique()), \"total wordtypes\")"
   ]
  },
  {
   "cell_type": "code",
   "execution_count": 106,
   "id": "5d2adc74-5691-45a0-8a1c-07f4bc01bfed",
   "metadata": {
    "tags": []
   },
   "outputs": [],
   "source": [
    "df = df[~df['wordtype'].isin(wordtypes_to_exclude)]"
   ]
  },
  {
   "cell_type": "code",
   "execution_count": 107,
   "id": "f5f8ecbf-b8b6-4aed-92b2-99c8b2ea7df1",
   "metadata": {
    "tags": []
   },
   "outputs": [
    {
     "name": "stdout",
     "output_type": "stream",
     "text": [
      "filtered df has 246 total wordtypes\n"
     ]
    }
   ],
   "source": [
    "print(\"filtered df has\", len(df['wordtype'].unique()), \"total wordtypes\")"
   ]
  },
  {
   "cell_type": "markdown",
   "id": "fe566f5a-28ec-4016-920d-9f96579cac76",
   "metadata": {},
   "source": [
    "# display n-best ranked spellings for a distance metric"
   ]
  },
  {
   "cell_type": "code",
   "execution_count": 108,
   "id": "cc6b23b0-b53a-4393-9c01-d01fb454e40d",
   "metadata": {},
   "outputs": [],
   "source": [
    "# add column to indicate whether it is original spelling or not\n",
    "new_col_idx = 1 + df.columns.get_loc('respelling') # insert after respelling column\n",
    "new_col_name = 'is_orig'\n",
    "df.insert(new_col_idx, new_col_name, df['wordtype'] == df['respelling'])"
   ]
  },
  {
   "cell_type": "code",
   "execution_count": 109,
   "id": "28769b63-2c36-449f-9f2e-354b2e49fea8",
   "metadata": {},
   "outputs": [],
   "source": [
    "wordtype2numspellings = {} #excludes original spelling\n",
    "for wordtype in df['wordtype'].unique():\n",
    "    count = len(df[(df['wordtype'] == wordtype) & (df['is_orig'] == False)])\n",
    "    wordtype2numspellings[wordtype] = count"
   ]
  },
  {
   "cell_type": "code",
   "execution_count": 110,
   "id": "59b73a39-781a-4eb3-9092-05c0a099159a",
   "metadata": {
    "tags": []
   },
   "outputs": [
    {
     "name": "stdout",
     "output_type": "stream",
     "text": [
      "246\n"
     ]
    },
    {
     "data": {
      "text/plain": [
       "array(['conducive', 'patriotic', 'exertion', 'exhaustion', 'soubriquet',\n",
       "       'borsippa', 'minorities', 'fatigues', 'narcotics', 'monitored',\n",
       "       'discouraging', 'spirituous', 'czolgosz', 'psychiatrist',\n",
       "       'brochure', 'juveniles', 'ostentatious', 'inveigled', 'subsidiary',\n",
       "       'nonpartisan', 'sepulchres', 'gonzalez', 'injuring', 'phosphorus',\n",
       "       'penknife', 'collared', 'jealousy', 'courtesy', 'shropshire',\n",
       "       'pecuniary', 'gloucester', 'erasures', 'usurious', 'silhouette',\n",
       "       'alleging', 'juvenile', 'executor', 'nourished', 'dastardly',\n",
       "       'exhorted', 'uncombed', 'overseer', 'etiquette', 'paradise',\n",
       "       'itinerary', 'nauseous', 'exertions', 'adhering', 'brougham',\n",
       "       'prerogative', 'exorbitant', 'vestiges', 'southern', 'hereford',\n",
       "       'beaumont', 'baronetcy', 'ferocious', 'horizontal', 'amusement',\n",
       "       'courtyards', 'brazilian', 'launched', 'morality', 'recalcitrant',\n",
       "       'punitive', 'nicholas', 'spiritual', 'tocqueville', 'aspirants',\n",
       "       'frenzied', 'attribute', 'khrushchev', 'longevity', 'sneering',\n",
       "       'vacillating', 'saccharine', 'exhortations', 'rothschilds',\n",
       "       'bonaventura', 'shredded', 'fastidious', 'alexanders', 'families',\n",
       "       'forgetfulness', 'barthelemy', 'exonerated', 'rouleaux',\n",
       "       'colleagues', 'devilish', 'laborers', 'ethelred', 'calamity',\n",
       "       'confided', 'exuberant', 'executors', 'bequeathed', 'appetite',\n",
       "       'exhorting', 'speeches', 'merionethshire', 'obscenity', 'cadillac',\n",
       "       'individuality', 'laughter', 'protests', 'matrices', 'terrestrial',\n",
       "       'boisterous', 'venetian', 'insecure', 'habitual', 'european',\n",
       "       'escritoire', 'marseilles', 'competitive', 'mesopotamia',\n",
       "       'persevered', 'turreted', 'seleucia', 'solemnly', 'erroneous',\n",
       "       'respited', 'shepherds', 'invoices', 'karswell', 'executing',\n",
       "       'intellectual', 'maryland', 'immature', 'exhortation', 'annulled',\n",
       "       'thinness', 'advertised', 'parasitic', 'bulwarks', 'hammurabi',\n",
       "       'giovanni', 'perished', 'charlotte', 'heterogeneous', 'monsieur',\n",
       "       'dovetail', 'momentary', 'interred', 'champagne', 'collegians',\n",
       "       'alexander', 'mortgages', 'theodore', 'colonial', 'prestige',\n",
       "       'minarets', 'pugnacious', 'burchell', 'sassanian', 'durability',\n",
       "       'presided', 'endorsed', 'loitering', 'staffordshire', 'engendered',\n",
       "       'caravans', 'priority', 'aligning', 'specimen', 'connived',\n",
       "       'decorated', 'delicate', 'outshone', 'debutant', 'therapist',\n",
       "       'flintshire', 'entourage', 'premising', 'susannah', 'napoleon',\n",
       "       'accelerator', 'harassed', 'cribbage', 'sepulchre', 'consignees',\n",
       "       'cupidity', 'peninsula', 'definitive', 'ehrenberg', 'monastery',\n",
       "       'unclothed', 'decorous', 'forenoon', 'calamitous', 'roughened',\n",
       "       'guiseppe', 'presides', 'macintosh', 'eventual', 'unearthed',\n",
       "       'oscillating', 'reverend', 'minority', 'maecenas', 'decorations',\n",
       "       'escalade', 'auditorium', 'boulogne', 'coughing', 'heiresses',\n",
       "       'exploited', 'parasitically', 'forgiveness', 'barouche',\n",
       "       'theodosius', 'asparagus', 'epithets', 'discourage', 'clangour',\n",
       "       'allegiance', 'adherence', 'colonization', 'phosphoric',\n",
       "       'battalion', 'deterred', 'analyzed', 'deutsche', 'charioteers',\n",
       "       'compromised', 'mediterranean', 'reservoir', 'disinterring',\n",
       "       'elliptical', 'effluvia', 'grimaldi', 'respiratory', 'portuguese',\n",
       "       'augmented', 'peninsular', 'cemetery', 'cherished', 'salubrious',\n",
       "       'peripheral', 'licensed', 'experimental', 'capillary', 'righteous',\n",
       "       'exhaustive', 'ridicule', 'gloucestershire'], dtype=object)"
      ]
     },
     "execution_count": 110,
     "metadata": {},
     "output_type": "execute_result"
    }
   ],
   "source": [
    "wordtypes = df[\"wordtype\"].unique()\n",
    "print(len(wordtypes))\n",
    "wordtypes"
   ]
  },
  {
   "cell_type": "code",
   "execution_count": 111,
   "id": "d55cfc95-e52c-4ff2-af56-2d95bd0c0b6f",
   "metadata": {},
   "outputs": [
    {
     "name": "stdout",
     "output_type": "stream",
     "text": [
      "Using hubert-soft==Distance(Cosine) to rank spellings\n"
     ]
    }
   ],
   "source": [
    "# Select column that we sort by\n",
    "\n",
    "# distance_metric_col_name = \"mfcc==Distance(Euclidean)\"\n",
    "# distance_metric_col_name = \"hubert-raw==Distance(Cosine)\"\n",
    "distance_metric_col_name = \"hubert-soft==Distance(Cosine)\"\n",
    "# distance_metric_col_name = \"hubert-discrete-code==Distance(Levenshtein)\"\n",
    "# distance_metric_col_name = \"hubert-discrete-centroid==Distance(Cosine)\"\n",
    "\n",
    "use_SL_Penalty = False\n",
    "if use_SL_Penalty:\n",
    "    distance_metric_col_name += \"==w_SL_Penalty\"\n",
    "    \n",
    "print(f\"Using {distance_metric_col_name} to rank spellings\")"
   ]
  },
  {
   "cell_type": "code",
   "execution_count": 112,
   "id": "56c79b30-f2fd-45c2-b78c-24b04b95bdd6",
   "metadata": {},
   "outputs": [],
   "source": [
    "def get_n_best_df(df, distance_metric_col_name, n_spellings_per_token_id=1, show_smallest=True):\n",
    "    # Display N-best ranked respellings per original input audio (excluding original spellings!)\n",
    "    if show_smallest:\n",
    "        n_best_lambda_fn = lambda x: x.nsmallest(n_spellings_per_token_id, distance_metric_col_name)\n",
    "    else:\n",
    "        n_best_lambda_fn = lambda x: x.nlargest(n_spellings_per_token_id, distance_metric_col_name)\n",
    "\n",
    "    original_spellings_mask = df['wordtype'] == df['respelling']\n",
    "    original_spellings_df = df[original_spellings_mask]\n",
    "    inverted_mask = ~original_spellings_mask\n",
    "    no_orig_spellings_df = df[inverted_mask]\n",
    "    n_best_df = no_orig_spellings_df.groupby('wordtype', group_keys=False).apply(n_best_lambda_fn)\n",
    "    return n_best_df, original_spellings_df"
   ]
  },
  {
   "cell_type": "markdown",
   "id": "1a362e0d",
   "metadata": {},
   "source": [
    "## add nbest ranking to df"
   ]
  },
  {
   "cell_type": "code",
   "execution_count": 113,
   "id": "5b8bc11d",
   "metadata": {},
   "outputs": [
    {
     "name": "stderr",
     "output_type": "stream",
     "text": [
      "100%|████████████████████████████████████████████████████████████████████████████████████████████████████████████████████████████████████████████████| 246/246 [00:44<00:00,  5.55it/s]\n"
     ]
    }
   ],
   "source": [
    "LEN_OF_NBEST_LIST = 1000\n",
    "\n",
    "# for each word in dataframe, add a new column that indicates its ASR nbest ranking\n",
    "for w in tqdm(df['wordtype'].unique()):\n",
    "    for i, df_idx in enumerate(df[df['wordtype'] == w].index[:LEN_OF_NBEST_LIST], 1):\n",
    "        df.loc[df_idx, \"asr_nbest_rank\"] = i"
   ]
  },
  {
   "cell_type": "markdown",
   "id": "1f1e0f83-8e9e-4502-b34f-83f2fae37134",
   "metadata": {},
   "source": [
    "## sort wordtypes by distance gap "
   ]
  },
  {
   "cell_type": "code",
   "execution_count": 114,
   "id": "148aa592-e097-474a-9c5b-38ea2019edb3",
   "metadata": {},
   "outputs": [],
   "source": [
    "# add back original spellings and sort by distance and also by gap between best spelling and original spelling\n",
    "n_best_df, original_spellings_df = get_n_best_df(df, distance_metric_col_name, n_spellings_per_token_id=1)\n",
    "n_best_df = pd.concat([n_best_df, original_spellings_df], ignore_index=True)"
   ]
  },
  {
   "cell_type": "code",
   "execution_count": 115,
   "id": "0bf20e01-8d3b-41f6-baac-ad8c5aebc8a0",
   "metadata": {
    "tags": []
   },
   "outputs": [],
   "source": [
    "# Produce a single dataframe where rows of the same wordtype are grouped\n",
    "# within a group they are ordered by the distance metric\n",
    "# and the order of the groups is determined by the gap between the distance value of the best spelling and the original spelling\n",
    "\n",
    "# add new col for distace_gap\n",
    "distance_gap_col_name = f\"{distance_metric_col_name}==distance_gap\"\n",
    "n_best_df.insert(1 + n_best_df.columns.get_loc(distance_metric_col_name), distance_gap_col_name, None)"
   ]
  },
  {
   "cell_type": "code",
   "execution_count": 116,
   "id": "c2f698dd-2ef0-46d7-8d94-77ca8b2d7e2f",
   "metadata": {
    "tags": []
   },
   "outputs": [
    {
     "name": "stdout",
     "output_type": "stream",
     "text": [
      "WARNING invalid wordtype alexander\n",
      "WARNING invalid wordtype spiritual\n"
     ]
    }
   ],
   "source": [
    "wordtype2df = {}\n",
    "wordtype2maximum_distance_gap = {}\n",
    "\n",
    "# get each sub_df corresponding to wordtype\n",
    "wordtypes = n_best_df['wordtype'].unique()\n",
    "for wordtype in wordtypes:\n",
    "    wordtype_df = n_best_df[n_best_df['wordtype'] == wordtype]\n",
    "    \n",
    "    # for each spelling calculate its distance gap from the original wordtype (calc'd against same GT token_id!)\n",
    "    max_distance_gap = -math.inf\n",
    "    for i in wordtype_df[wordtype_df['wordtype'] == wordtype].index:\n",
    "        token_id = wordtype_df.loc[i, 'token_id']\n",
    "\n",
    "        # this should be the correct code! but we haven't guaranteed that we have calculated distance from original spelling to each respective token_id yet!!!\n",
    "        # original_spelling_distance = wordtype_df[(wordtype_df['wordtype'] == wordtype) & (wordtype_df['is_orig'] == True) & (wordtype_df['token_id'] == token_id)][distance_metric_col_name].item()\n",
    "\n",
    "        # temporary code, not ideal!\n",
    "        # print(wordtype_df[(wordtype_df['wordtype'] == wordtype) & (wordtype_df['is_orig'] == True)][distance_metric_col_name])\n",
    "        \n",
    "        # TODO fix code so this isn't needed\n",
    "        if len(wordtype_df[(wordtype_df['wordtype'] == wordtype) & (wordtype_df['is_orig'] == True)].head(1)[distance_metric_col_name]) != 1:\n",
    "            original_spelling_distance = -math.inf\n",
    "            print('WARNING invalid wordtype', wordtype)\n",
    "        else:\n",
    "            original_spelling_distance = wordtype_df[(wordtype_df['wordtype'] == wordtype) & (wordtype_df['is_orig'] == True)].head(1)[distance_metric_col_name].item()\n",
    "\n",
    "        distance_gap = original_spelling_distance - wordtype_df.loc[i, distance_metric_col_name]\n",
    "        max_distance_gap = max(distance_gap, max_distance_gap)\n",
    "        wordtype_df.loc[i, distance_gap_col_name] = distance_gap\n",
    "\n",
    "    # store df into dictionary temporarily\n",
    "    wordtype2df[wordtype] = wordtype_df\n",
    "\n",
    "    # track max distance gap for each wordtype\n",
    "    wordtype2maximum_distance_gap[wordtype] = max_distance_gap\n",
    "    \n",
    "# order wordtypes by distance\n",
    "# sorted(wordtypes, key=lambda x: wordtype2maximum_distance_gap[x])\n",
    "sorted_wordtype2maximum_distance_gap = dict(sorted(wordtype2maximum_distance_gap.items(), key=lambda item: item[1], reverse=True))"
   ]
  },
  {
   "cell_type": "code",
   "execution_count": 117,
   "id": "cf788e94-dadc-486a-ba4f-46ddfd22367c",
   "metadata": {},
   "outputs": [],
   "source": [
    "# recombine dfs into big df\n",
    "df_list = [wordtype2df[wordtype] for wordtype in sorted_wordtype2maximum_distance_gap.keys()]\n",
    "combined_df = pd.concat(df_list)"
   ]
  },
  {
   "cell_type": "markdown",
   "id": "a639b937-630c-40e7-8cab-58aa184be074",
   "metadata": {},
   "source": [
    "# print n-best spellings for each wordtype"
   ]
  },
  {
   "cell_type": "code",
   "execution_count": 118,
   "id": "577f4294-3359-499d-b21a-3e76b8e1a222",
   "metadata": {
    "tags": []
   },
   "outputs": [],
   "source": [
    "# current_wordtype = \"\"\n",
    "# for token_id, wordtype, respelling, distance, orig_wav, is_orig in zip(\n",
    "#     combined_df['token_id'], \n",
    "#     combined_df['wordtype'], \n",
    "#     combined_df['respelling'], \n",
    "#     combined_df[distance_metric_col_name], \n",
    "#     combined_df['orig_wav'],\n",
    "#     combined_df['is_orig']\n",
    "# ):\n",
    "#     # new wordtype, print GT token_ids and display audios\n",
    "#     if current_wordtype != wordtype:\n",
    "#         current_wordtype = wordtype\n",
    "        \n",
    "#         # get all token_ids and orig_wavs for this wordtype\n",
    "#         wordtype_df = combined_df[combined_df['wordtype'] == wordtype]\n",
    "#         first_row_for_each_token_id = wordtype_df.groupby('token_id').nth(0)\n",
    "        \n",
    "#         str_symb_len = 75\n",
    "        \n",
    "#         print(str_symb_len * \"=\")\n",
    "#         print(f\" Original word aligned WAV(s) \".center(str_symb_len, '='))\n",
    "#         print(str_symb_len * \"=\")\n",
    "        \n",
    "#         for index, row in first_row_for_each_token_id.iterrows():\n",
    "#             token_id = index # index is now equal to token_id as we used groupby above\n",
    "#             print(f\"[GT - {token_id}]:\")\n",
    "#             display(Audio(row['orig_wav'], rate=GT_SAMPLE_RATE))\n",
    "#         print(str_symb_len * \"-\")\n",
    "#         print(f\" Respellings ({wordtype2numspellings[wordtype]} in total) \".center(str_symb_len, '-'))\n",
    "#         print(f\" Best distance gap: {wordtype2maximum_distance_gap[wordtype]:.3f} \".center(str_symb_len, '-'))\n",
    "#         print(str_symb_len * \"-\")\n",
    "    \n",
    "#     # create string to print for this respelling\n",
    "#     print_str = \"\"\n",
    "#     if is_orig:\n",
    "#         print_str += f\"{' '+wordtype+' ':*^35}\"\n",
    "#     else:\n",
    "#         print_str += f\" ---> {respelling=}\"\n",
    "#     distance_str = f\" {distance:.2f} [{distance_metric_col_name}] [calc'ed vs GT: {token_id}]\"\n",
    "#     print_str += distance_str\n",
    "#     print(print_str)\n",
    "    \n",
    "#     display(Audio(spelling2vocoded_audio[respelling], rate=HIFIGAN_SAMPLE_RATE))"
   ]
  },
  {
   "cell_type": "code",
   "execution_count": 119,
   "id": "6fc05151-e7a9-4959-9c65-4a0aa8423454",
   "metadata": {
    "tags": []
   },
   "outputs": [],
   "source": [
    "# # CUSTOM FOR ONLY PRINTING GT AUDIO!!!!!!!!!!!!!!\n",
    "\n",
    "# current_wordtype = \"\"\n",
    "# for token_id, wordtype, respelling, distance, orig_wav, is_orig in zip(\n",
    "#     combined_df['token_id'], \n",
    "#     combined_df['wordtype'], \n",
    "#     combined_df['respelling'], \n",
    "#     combined_df[distance_metric_col_name], \n",
    "#     combined_df['orig_wav'],\n",
    "#     combined_df['is_orig']\n",
    "# ):\n",
    "#     # new wordtype, print GT token_ids and display audios\n",
    "#     if current_wordtype != wordtype:\n",
    "#         current_wordtype = wordtype\n",
    "        \n",
    "#         # get all token_ids and orig_wavs for this wordtype\n",
    "#         wordtype_df = combined_df[combined_df['wordtype'] == wordtype]\n",
    "#         first_row_for_each_token_id = wordtype_df.groupby('token_id').nth(0)\n",
    "        \n",
    "#         for index, row in first_row_for_each_token_id.iterrows():\n",
    "#             token_id = index # index is now equal to token_id as we used groupby above\n",
    "#             print(f\"[GT - {token_id}]:\")\n",
    "#             display(Audio(row['orig_wav'], rate=GT_SAMPLE_RATE))\n"
   ]
  },
  {
   "cell_type": "markdown",
   "id": "5927e41e-2a59-44e4-8a4b-54afd2d011aa",
   "metadata": {},
   "source": [
    "# define list of dev set and test set wordtypes in reproducible manner"
   ]
  },
  {
   "cell_type": "code",
   "execution_count": 120,
   "id": "867e5bc3-f99e-42ee-be7a-784f0cb0cd40",
   "metadata": {
    "tags": []
   },
   "outputs": [],
   "source": [
    "# filter so we only keep enough for dev and test sets\n",
    "dev_n = 100\n",
    "test_n = 100\n",
    "assert dev_n + test_n < len(df['wordtype'].unique())"
   ]
  },
  {
   "cell_type": "code",
   "execution_count": 121,
   "id": "fe8901e4-59c3-42a7-830b-ce817b1e7fb0",
   "metadata": {
    "tags": []
   },
   "outputs": [],
   "source": [
    "wordtype2per = {}\n",
    "for w in df['wordtype'].unique():\n",
    "    per = df[df['wordtype'] == w]['per'].head(1).values[0]\n",
    "    wordtype2per[w] = per"
   ]
  },
  {
   "cell_type": "code",
   "execution_count": 122,
   "id": "f621be10-fb7f-49b8-a0a9-b470c6bcd64c",
   "metadata": {
    "tags": []
   },
   "outputs": [],
   "source": [
    "sorted_wordtype2per = sorted(wordtype2per.items(), key=lambda x: x[1], reverse=True)"
   ]
  },
  {
   "cell_type": "code",
   "execution_count": 123,
   "id": "0ac3d297-b37c-4a2b-9afc-2918f506f8a7",
   "metadata": {
    "tags": []
   },
   "outputs": [],
   "source": [
    "# odd is test set, even is dev set\n",
    "dev_set_wordtypes = set()\n",
    "test_set_wordtypes = set()\n",
    "for i, (w, _per) in enumerate(sorted_wordtype2per[:dev_n+test_n], 1):\n",
    "    if i % 2 == 0:\n",
    "        dev_set_wordtypes.add(w)\n",
    "    elif i % 2 == 1:\n",
    "        test_set_wordtypes.add(w)\n",
    "    else:\n",
    "        raise ValueError\n",
    "    \n",
    "assert len(dev_set_wordtypes) == dev_n, f\"{len(dev_set_wordtypes)} != {dev_n}\" \n",
    "assert len(test_set_wordtypes) == test_n, f\"{len(test_set_wordtypes)} != {test_n}\" "
   ]
  },
  {
   "cell_type": "code",
   "execution_count": 124,
   "id": "572395e1-8dd5-401f-8451-c536fec3e5be",
   "metadata": {
    "tags": []
   },
   "outputs": [
    {
     "data": {
      "text/plain": [
       "'allegiance, alleging, annulled, attribute, auditorium, battalion, bequeathed, boulogne, brochure, brougham, bulwarks, burchell, cadillac, calamity, caravans, cemetery, charioteers, colleagues, collegians, colonial, competitive, conducive, coughing, courtesy, cribbage, czolgosz, decorated, deterred, effluvia, epithets, european, executing, executor, exertions, exhortations, exhorted, exhorting, exonerated, experimental, fastidious, flintshire, forenoon, forgetfulness, forgiveness, frenzied, giovanni, gloucester, gloucestershire, gonzalez, hammurabi, harassed, hereford, horizontal, individuality, invoices, juvenile, juveniles, macintosh, maryland, matrices, mediterranean, mesopotamia, minarets, monitored, monsieur, narcotics, nonpartisan, nourished, oscillating, ostentatious, paradise, parasitic, parasitically, penknife, persevered, phosphoric, portuguese, premising, prerogative, presided, pugnacious, punitive, respiratory, reverend, ridicule, seleucia, sepulchre, shredded, shropshire, soubriquet, specimen, speeches, spiritual, spirituous, staffordshire, tocqueville, turreted, unclothed, usurious, venetian'"
      ]
     },
     "execution_count": 124,
     "metadata": {},
     "output_type": "execute_result"
    }
   ],
   "source": [
    "\", \".join(sorted(dev_set_wordtypes))"
   ]
  },
  {
   "cell_type": "code",
   "execution_count": 125,
   "id": "1c001d16-2081-487c-9098-584d4a428ccf",
   "metadata": {
    "tags": []
   },
   "outputs": [
    {
     "data": {
      "text/plain": [
       "'adherence, adhering, advertised, alexander, alexanders, aligning, analyzed, aspirants, augmented, barouche, beaumont, boisterous, bonaventura, borsippa, capillary, champagne, clangour, collared, colonization, compromised, confided, dastardly, decorous, delicate, deutsche, discourage, ehrenberg, endorsed, engendered, entourage, erasures, erroneous, escalade, escritoire, ethelred, etiquette, eventual, executors, exertion, exhaustion, exhaustive, exhortation, exorbitant, fatigues, grimaldi, guiseppe, habitual, heiresses, heterogeneous, immature, insecure, intellectual, interred, inveigled, itinerary, jealousy, karswell, khrushchev, laughter, launched, licensed, maecenas, marseilles, merionethshire, minorities, minority, monastery, morality, mortgages, napoleon, nauseous, nicholas, obscenity, outshone, patriotic, pecuniary, peripheral, phosphorus, presides, prestige, priority, protests, psychiatrist, reservoir, respited, righteous, rothschilds, rouleaux, saccharine, sassanian, sepulchres, silhouette, solemnly, southern, subsidiary, theodosius, therapist, thinness, unearthed, vestiges'"
      ]
     },
     "execution_count": 125,
     "metadata": {},
     "output_type": "execute_result"
    }
   ],
   "source": [
    "\", \".join(sorted(test_set_wordtypes))"
   ]
  },
  {
   "cell_type": "markdown",
   "id": "854d2346",
   "metadata": {},
   "source": [
    "## calculate statistics such as avg n-best rank of retrieved spellings"
   ]
  },
  {
   "cell_type": "code",
   "execution_count": 126,
   "id": "05170a6d",
   "metadata": {},
   "outputs": [],
   "source": [
    "def rename_condition(condition):\n",
    "    mapping = {\n",
    "        # exp1\n",
    "        'hubert-discrete-centroid==Distance(Cosine)': 'hubert-centroid',\n",
    "        'hubert-discrete-code==Distance(Levenshtein)': 'hubert-code',\n",
    "        'hubert-raw==Distance(Cosine)': 'hubert-raw',\n",
    "        'hubert-soft==Distance(Cosine)': 'hubert-soft',\n",
    "        'mfcc==Distance(Euclidean)': 'mfcc',\n",
    "        \n",
    "        # exp2\n",
    "        'asr_1000_best_acoustic_autorank_top1': 'asr-acousticrank1',\n",
    "        'asr_1000_best_acoustic_autorank_top5_filtered': 'asr-acousticrank5',\n",
    "        'asr_1_best': 'asr-1best',\n",
    "        'asr_5_best_acoustic_filtered': 'asr-5best',\n",
    "        'original_spellings': 'origspell',\n",
    "    }\n",
    "    return mapping[condition]"
   ]
  },
  {
   "cell_type": "code",
   "execution_count": 143,
   "id": "816a7d33",
   "metadata": {},
   "outputs": [
    {
     "data": {
      "image/png": "[encoded data removed]",
      "text/plain": [
       "<Figure size 600x300 with 1 Axes>"
      ]
     },
     "metadata": {},
     "output_type": "display_data"
    },
    {
     "data": {
      "image/png": "[encoded data removed]",
      "text/plain": [
       "<Figure size 600x300 with 1 Axes>"
      ]
     },
     "metadata": {},
     "output_type": "display_data"
    },
    {
     "data": {
      "image/png": "[encoded data removed]",
      "text/plain": [
       "<Figure size 600x300 with 1 Axes>"
      ]
     },
     "metadata": {},
     "output_type": "display_data"
    },
    {
     "data": {
      "image/png": "[encoded data removed]",
      "text/plain": [
       "<Figure size 600x300 with 1 Axes>"
      ]
     },
     "metadata": {},
     "output_type": "display_data"
    },
    {
     "data": {
      "image/png": "[encoded data removed]",
      "text/plain": [
       "<Figure size 600x300 with 1 Axes>"
      ]
     },
     "metadata": {},
     "output_type": "display_data"
    }
   ],
   "source": [
    "# N_SPELLINGS_PER_TOKEN_ID = 1 # acousticrank1\n",
    "N_SPELLINGS_PER_TOKEN_ID = 5 # acousticrank5 (human in the loop)\n",
    "NUM_BINS = 25\n",
    "FIGSIZE = (6, 3)\n",
    "\n",
    "for distance_metric_col_name in [\n",
    "    'mfcc==Distance(Euclidean)',\n",
    "    'hubert-raw==Distance(Cosine)',\n",
    "    'hubert-soft==Distance(Cosine)',\n",
    "    'hubert-discrete-code==Distance(Levenshtein)',\n",
    "    'hubert-discrete-centroid==Distance(Cosine)',\n",
    "]:\n",
    "    \n",
    "    only_dev_test_df = df[df['wordtype'].isin(dev_set_wordtypes | test_set_wordtypes)]\n",
    "    n_best_df, _ = get_n_best_df(only_dev_test_df, distance_metric_col_name, n_spellings_per_token_id=N_SPELLINGS_PER_TOKEN_ID)\n",
    "\n",
    "    # plot histogram of asr_nbest_rank\n",
    "    plt.figure(figsize=FIGSIZE)\n",
    "    n_best_df['asr_nbest_rank'].hist(edgecolor='black', bins=NUM_BINS)\n",
    "    plt.xlabel('ASR n-best list rank')\n",
    "    plt.ylabel('Count')\n",
    "    plt.title(f'ASR 1000-best rank distribution ({rename_condition(distance_metric_col_name)}, top{N_SPELLINGS_PER_TOKEN_ID})')\n",
    "    plt.gca().set_axisbelow(True)\n",
    "    # add minor ticks for y axis\n",
    "    plt.tight_layout()\n",
    "\n",
    "    plt.savefig(f\"plots/asr_1000best_rank_distribution_{rename_condition(distance_metric_col_name)}_top{N_SPELLINGS_PER_TOKEN_ID}.pdf\",\n",
    "                bbox_inches='tight', pad_inches=0.00)\n",
    "    \n",
    "    plt.show()"
   ]
  },
  {
   "cell_type": "markdown",
   "id": "57472776",
   "metadata": {},
   "source": [
    "### histogram of ASR nbest rank of spellings that human expert (you) chose for each wordtype"
   ]
  },
  {
   "cell_type": "code",
   "execution_count": 144,
   "id": "7bcaba57",
   "metadata": {},
   "outputs": [],
   "source": [
    "# load the wordtypes that you chose for the dev and test sets\n",
    "def get_wordtype2humanchosenspelling(urllist):\n",
    "    wordtype2humanchosenspelling = {}\n",
    "    with open(urllist, 'r') as f:\n",
    "        lines = f.readlines()\n",
    "    for line in lines:\n",
    "        file = line.split('/')[-1].rstrip('\\n')\n",
    "        file = file.split('.')[0]\n",
    "        wordtype = file.split('_')[1]\n",
    "        spelling = file.split('_')[2]\n",
    "        wordtype2humanchosenspelling[wordtype] = spelling\n",
    "    return wordtype2humanchosenspelling\n",
    "\n",
    "asr_filtered_urllist = '/home/s1785140/rlspeller/listening_tests/experiment2/url_lists/asr_5_best_acoustic_filtered.txt'\n",
    "wordtype2humanchosenspelling = get_wordtype2humanchosenspelling(asr_filtered_urllist)"
   ]
  },
  {
   "cell_type": "code",
   "execution_count": 145,
   "id": "0789b4bc",
   "metadata": {},
   "outputs": [
    {
     "data": {
      "text/plain": [
       "{'adherence': 'etidherance',\n",
       " 'adhering': 'adearing',\n",
       " 'advertised': 'adbvratized',\n",
       " 'alexander': 'outexannder',\n",
       " 'alexanders': 'allexando',\n",
       " 'aligning': 'lhelineing',\n",
       " 'analyzed': 'annalizdg',\n",
       " 'aspirants': 'espirns',\n",
       " 'augmented': 'audmentid',\n",
       " 'barouche': 'burush',\n",
       " 'beaumont': 'bomodn',\n",
       " 'boisterous': 'boyisderustk',\n",
       " 'bonaventura': 'boneovantoaru',\n",
       " 'borsippa': 'borcsipoc',\n",
       " 'capillary': 'capilerie',\n",
       " 'champagne': 'dshampainme',\n",
       " 'clangour': 'crlanguer',\n",
       " 'collared': 'cgolord',\n",
       " 'colonization': 'colinuzationr',\n",
       " 'compromised': 'compermuize',\n",
       " 'confided': 'hconfidie',\n",
       " 'dastardly': 'dasterddleea',\n",
       " 'decorous': 'decoraos',\n",
       " 'delicate': 'delacatte',\n",
       " 'deutsche': 'doichatk',\n",
       " 'discourage': 'discrurad',\n",
       " 'ehrenberg': 'airinburbde',\n",
       " 'endorsed': 'endoirced',\n",
       " 'engendered': 'ingenderzo',\n",
       " 'entourage': 'unterarz',\n",
       " 'erasures': 'eratieres',\n",
       " 'erroneous': 'naronioast',\n",
       " 'escalade': 'esgcolayv',\n",
       " 'escritoire': 'ascretwuar',\n",
       " 'ethelred': 'efloread',\n",
       " 'etiquette': 'etikiets',\n",
       " 'eventual': 'evintaal',\n",
       " 'executors': 'exetcutours',\n",
       " 'exertion': 'exgercion',\n",
       " 'exhaustion': 'exaolstene',\n",
       " 'exhaustive': 'exustivpe',\n",
       " 'exhortation': 'excerpttation',\n",
       " 'exorbitant': 'exorvgitant',\n",
       " 'fatigues': 'feteendcs',\n",
       " 'grimaldi': 'agromaldi',\n",
       " 'guiseppe': 'jesdept',\n",
       " 'habitual': 'cadbidual',\n",
       " 'heiresses': 'aresses',\n",
       " 'heterogeneous': 'dhetoreugenious',\n",
       " 'immature': 'imecheur',\n",
       " 'insecure': 'incsicure',\n",
       " 'intellectual': 'intollectuoual',\n",
       " 'interred': 'ndinterne',\n",
       " 'inveigled': 'invegll',\n",
       " 'itinerary': 'itanrary',\n",
       " 'jealousy': 'jaellacy',\n",
       " 'karswell': 'cqarswellt',\n",
       " 'khrushchev': 'croussshef',\n",
       " 'laughter': 'laftdter',\n",
       " 'launched': 'hlonche',\n",
       " 'licensed': 'ligseince',\n",
       " 'maecenas': 'msinis',\n",
       " 'marseilles': 'xmarssayy',\n",
       " 'merionethshire': 'maryampshir',\n",
       " 'minorities': 'manoroities',\n",
       " 'minority': 'immaorty',\n",
       " 'monastery': 'monastaryeq',\n",
       " 'morality': 'maoralitye',\n",
       " 'mortgages': 'morkages',\n",
       " 'napoleon': 'nepolianed',\n",
       " 'nauseous': 'notxhious',\n",
       " 'nicholas': 'fnigcollis',\n",
       " 'obscenity': 'tepcenatye',\n",
       " 'outshone': 'outshownmg',\n",
       " 'patriotic': 'paytriatic',\n",
       " 'pecuniary': 'pvecuninary',\n",
       " 'peripheral': 'pereferlal',\n",
       " 'phosphorus': 'flosferis',\n",
       " 'presides': 'vpresidese',\n",
       " 'prestige': 'presieged',\n",
       " 'priority': 'prioritze',\n",
       " 'protests': 'hprotestso',\n",
       " 'psychiatrist': 'suekieterest',\n",
       " 'reservoir': 'resrwarrro',\n",
       " 'respited': 'brespitiede',\n",
       " 'righteous': 'richious',\n",
       " 'rothschilds': 'roghtchiylds',\n",
       " 'rouleaux': 'ruwmlow',\n",
       " 'saccharine': 'sacoerean',\n",
       " 'sassanian': 'sysannian',\n",
       " 'sepulchres': 'suplolvcurs',\n",
       " 'silhouette': 'sylllowet',\n",
       " 'solemnly': 'tsolemla',\n",
       " 'southern': 'esotheirn',\n",
       " 'subsidiary': 'msubcidiary',\n",
       " 'theodosius': 'thyeadotious',\n",
       " 'therapist': 'therpisd',\n",
       " 'thinness': 'thinniszs',\n",
       " 'unearthed': 'onurfhet',\n",
       " 'vestiges': 'vesteges'}"
      ]
     },
     "execution_count": 145,
     "metadata": {},
     "output_type": "execute_result"
    }
   ],
   "source": [
    "wordtype2humanchosenspelling"
   ]
  },
  {
   "cell_type": "code",
   "execution_count": 146,
   "id": "971d8814",
   "metadata": {},
   "outputs": [
    {
     "name": "stderr",
     "output_type": "stream",
     "text": [
      "100%|████████████████████████████████████████████████████████████████████████████████████████████████████████████████████████████████████████████████| 100/100 [00:05<00:00, 17.96it/s]\n"
     ]
    }
   ],
   "source": [
    "asr_nbest_ranks = []\n",
    "for spelling in tqdm(wordtype2humanchosenspelling.values()):\n",
    "    assert len(df[df['respelling'] == spelling][\"asr_nbest_rank\"].values) == 1\n",
    "    asr_nbest_rank = df[df['respelling'] == spelling][\"asr_nbest_rank\"].values[0]\n",
    "    assert asr_nbest_rank % 1 == 0\n",
    "    asr_nbest_rank = int(asr_nbest_rank)\n",
    "    asr_nbest_ranks.append(asr_nbest_rank)"
   ]
  },
  {
   "cell_type": "code",
   "execution_count": 147,
   "id": "bc0361e6",
   "metadata": {},
   "outputs": [
    {
     "data": {
      "text/plain": [
       "array([21, 22, 19, 21, 17])"
      ]
     },
     "execution_count": 147,
     "metadata": {},
     "output_type": "execute_result"
    }
   ],
   "source": [
    "import numpy as np\n",
    "count, bins = np.histogram(asr_nbest_ranks, bins=5)\n",
    "count"
   ]
  },
  {
   "cell_type": "code",
   "execution_count": 148,
   "id": "7c99e9c8",
   "metadata": {},
   "outputs": [
    {
     "data": {
      "image/png": "[encoded data removed]",
      "text/plain": [
       "<Figure size 600x300 with 1 Axes>"
      ]
     },
     "metadata": {},
     "output_type": "display_data"
    }
   ],
   "source": [
    "plt.figure(figsize=(6, 3))\n",
    "plt.bar(x=range(1,6), height=count, edgecolor='black', width=0.66)\n",
    "\n",
    "# add horizontal grid lines\n",
    "plt.gca().yaxis.grid(True)\n",
    "\n",
    "# put grid lines behind bars\n",
    "plt.gca().set_axisbelow(True)\n",
    "\n",
    "# add title\n",
    "plt.title('ASR 5-best rank distribution of human-picked spellings')\n",
    "\n",
    "# add minor ticks only for y axis\n",
    "plt.minorticks_on()\n",
    "plt.tick_params(axis='x', which='minor', bottom=False)\n",
    "\n",
    "# add x and y labels\n",
    "plt.xlabel('ASR 5-best rank')\n",
    "plt.ylabel('Count')\n",
    "\n",
    "plt.tight_layout()\n",
    "\n",
    "plt.savefig('plots/asr_5_best_rank_distribution_of_human_picked_spellings.pdf', bbox_inches='tight', pad_inches=0.0)"
   ]
  },
  {
   "cell_type": "markdown",
   "id": "63e0f4b7",
   "metadata": {},
   "source": [
    "### now for acoustic rank retrieved spellings"
   ]
  },
  {
   "cell_type": "code",
   "execution_count": 149,
   "id": "0eea9d8d",
   "metadata": {},
   "outputs": [],
   "source": [
    "acousticrank_filtered_urllist = '/home/s1785140/rlspeller/listening_tests/experiment2/url_lists/asr_1000_best_acoustic_autorank_top5_filtered.txt'\n",
    "wordtype2humanchosenspelling = get_wordtype2humanchosenspelling(acousticrank_filtered_urllist)"
   ]
  },
  {
   "cell_type": "code",
   "execution_count": 150,
   "id": "900e584b",
   "metadata": {},
   "outputs": [
    {
     "data": {
      "text/plain": [
       "'idheearance'"
      ]
     },
     "execution_count": 150,
     "metadata": {},
     "output_type": "execute_result"
    }
   ],
   "source": [
    "list(wordtype2humanchosenspelling.values())[0]"
   ]
  },
  {
   "cell_type": "code",
   "execution_count": 151,
   "id": "59577fb8",
   "metadata": {},
   "outputs": [
    {
     "data": {
      "text/html": [
       "<div>\n",
       "<style scoped>\n",
       "    .dataframe tbody tr th:only-of-type {\n",
       "        vertical-align: middle;\n",
       "    }\n",
       "\n",
       "    .dataframe tbody tr th {\n",
       "        vertical-align: top;\n",
       "    }\n",
       "\n",
       "    .dataframe thead th {\n",
       "        text-align: right;\n",
       "    }\n",
       "</style>\n",
       "<table border=\"1\" class=\"dataframe\">\n",
       "  <thead>\n",
       "    <tr style=\"text-align: right;\">\n",
       "      <th></th>\n",
       "      <th>token_id</th>\n",
       "      <th>wordtype</th>\n",
       "      <th>respelling</th>\n",
       "      <th>is_orig</th>\n",
       "      <th>cer</th>\n",
       "      <th>orig_wav</th>\n",
       "      <th>per</th>\n",
       "      <th>mfcc</th>\n",
       "      <th>mfcc-GT</th>\n",
       "      <th>hubert-raw</th>\n",
       "      <th>hubert-raw-GT</th>\n",
       "      <th>hubert-soft</th>\n",
       "      <th>hubert-soft-GT</th>\n",
       "      <th>hubert-discrete-code</th>\n",
       "      <th>hubert-discrete-code-GT</th>\n",
       "      <th>hubert-discrete-centroid</th>\n",
       "      <th>hubert-discrete-centroid-GT</th>\n",
       "      <th>mfcc==Distance(Euclidean)</th>\n",
       "      <th>mfcc==Distance(Euclidean)==w_SL_Penalty</th>\n",
       "      <th>hubert-raw==Distance(Cosine)</th>\n",
       "      <th>hubert-raw==Distance(Cosine)==w_SL_Penalty</th>\n",
       "      <th>hubert-soft==Distance(Cosine)</th>\n",
       "      <th>hubert-soft==Distance(Cosine)==w_SL_Penalty</th>\n",
       "      <th>hubert-discrete-code==Distance(Levenshtein)</th>\n",
       "      <th>hubert-discrete-code==Distance(Levenshtein)==w_SL_Penalty</th>\n",
       "      <th>hubert-discrete-centroid==Distance(Cosine)</th>\n",
       "      <th>hubert-discrete-centroid==Distance(Cosine)==w_SL_Penalty</th>\n",
       "      <th>asr_nbest_rank</th>\n",
       "    </tr>\n",
       "  </thead>\n",
       "  <tbody>\n",
       "    <tr>\n",
       "      <th>176591</th>\n",
       "      <td>accelerator__LJ030-0189__occ1__len14080</td>\n",
       "      <td>accelerator</td>\n",
       "      <td>pexcellerater</td>\n",
       "      <td>False</td>\n",
       "      <td>45.454545</td>\n",
       "      <td>/home/s1785140/speechbrain/templates/speech_re...</td>\n",
       "      <td>0.333333</td>\n",
       "      <td>/home/s1785140/rlspeller/caches/mfcc/pexceller...</td>\n",
       "      <td>/home/s1785140/rlspeller/caches/mfcc/accelerat...</td>\n",
       "      <td>/home/s1785140/rlspeller/caches/hubert/raw/pex...</td>\n",
       "      <td>/home/s1785140/rlspeller/caches/hubert/raw/acc...</td>\n",
       "      <td>/home/s1785140/rlspeller/caches/hubert/soft/pe...</td>\n",
       "      <td>/home/s1785140/rlspeller/caches/hubert/soft/ac...</td>\n",
       "      <td>/home/s1785140/rlspeller/caches/hubert/discret...</td>\n",
       "      <td>/home/s1785140/rlspeller/caches/hubert/discret...</td>\n",
       "      <td>/home/s1785140/rlspeller/caches/hubert/discret...</td>\n",
       "      <td>/home/s1785140/rlspeller/caches/hubert/discret...</td>\n",
       "      <td>943.371437</td>\n",
       "      <td>1030.260912</td>\n",
       "      <td>12.082473</td>\n",
       "      <td>13.206424</td>\n",
       "      <td>6.950015</td>\n",
       "      <td>7.423879</td>\n",
       "      <td>14.0</td>\n",
       "      <td>14.954545</td>\n",
       "      <td>6.636262</td>\n",
       "      <td>7.088735</td>\n",
       "      <td>592.0</td>\n",
       "    </tr>\n",
       "    <tr>\n",
       "      <th>176699</th>\n",
       "      <td>accelerator__LJ030-0189__occ1__len14080</td>\n",
       "      <td>accelerator</td>\n",
       "      <td>exellerater</td>\n",
       "      <td>False</td>\n",
       "      <td>45.454545</td>\n",
       "      <td>/home/s1785140/speechbrain/templates/speech_re...</td>\n",
       "      <td>0.333333</td>\n",
       "      <td>/home/s1785140/rlspeller/caches/mfcc/exellerat...</td>\n",
       "      <td>/home/s1785140/rlspeller/caches/mfcc/accelerat...</td>\n",
       "      <td>/home/s1785140/rlspeller/caches/hubert/raw/exe...</td>\n",
       "      <td>/home/s1785140/rlspeller/caches/hubert/raw/acc...</td>\n",
       "      <td>/home/s1785140/rlspeller/caches/hubert/soft/ex...</td>\n",
       "      <td>/home/s1785140/rlspeller/caches/hubert/soft/ac...</td>\n",
       "      <td>/home/s1785140/rlspeller/caches/hubert/discret...</td>\n",
       "      <td>/home/s1785140/rlspeller/caches/hubert/discret...</td>\n",
       "      <td>/home/s1785140/rlspeller/caches/hubert/discret...</td>\n",
       "      <td>/home/s1785140/rlspeller/caches/hubert/discret...</td>\n",
       "      <td>951.410004</td>\n",
       "      <td>1014.002767</td>\n",
       "      <td>12.617815</td>\n",
       "      <td>13.498127</td>\n",
       "      <td>7.813665</td>\n",
       "      <td>8.168832</td>\n",
       "      <td>21.0</td>\n",
       "      <td>21.954545</td>\n",
       "      <td>9.705153</td>\n",
       "      <td>10.146297</td>\n",
       "      <td>700.0</td>\n",
       "    </tr>\n",
       "    <tr>\n",
       "      <th>176798</th>\n",
       "      <td>accelerator__LJ030-0189__occ1__len14080</td>\n",
       "      <td>accelerator</td>\n",
       "      <td>ixcelarater</td>\n",
       "      <td>False</td>\n",
       "      <td>36.363636</td>\n",
       "      <td>/home/s1785140/speechbrain/templates/speech_re...</td>\n",
       "      <td>0.333333</td>\n",
       "      <td>/home/s1785140/rlspeller/caches/mfcc/ixcelarat...</td>\n",
       "      <td>/home/s1785140/rlspeller/caches/mfcc/accelerat...</td>\n",
       "      <td>/home/s1785140/rlspeller/caches/hubert/raw/ixc...</td>\n",
       "      <td>/home/s1785140/rlspeller/caches/hubert/raw/acc...</td>\n",
       "      <td>/home/s1785140/rlspeller/caches/hubert/soft/ix...</td>\n",
       "      <td>/home/s1785140/rlspeller/caches/hubert/soft/ac...</td>\n",
       "      <td>/home/s1785140/rlspeller/caches/hubert/discret...</td>\n",
       "      <td>/home/s1785140/rlspeller/caches/hubert/discret...</td>\n",
       "      <td>/home/s1785140/rlspeller/caches/hubert/discret...</td>\n",
       "      <td>/home/s1785140/rlspeller/caches/hubert/discret...</td>\n",
       "      <td>915.797048</td>\n",
       "      <td>953.432543</td>\n",
       "      <td>13.322273</td>\n",
       "      <td>13.972140</td>\n",
       "      <td>7.000350</td>\n",
       "      <td>7.512571</td>\n",
       "      <td>18.0</td>\n",
       "      <td>19.317073</td>\n",
       "      <td>10.379739</td>\n",
       "      <td>11.139232</td>\n",
       "      <td>799.0</td>\n",
       "    </tr>\n",
       "    <tr>\n",
       "      <th>176593</th>\n",
       "      <td>accelerator__LJ030-0189__occ1__len14080</td>\n",
       "      <td>accelerator</td>\n",
       "      <td>excellerater</td>\n",
       "      <td>False</td>\n",
       "      <td>36.363636</td>\n",
       "      <td>/home/s1785140/speechbrain/templates/speech_re...</td>\n",
       "      <td>0.333333</td>\n",
       "      <td>/home/s1785140/rlspeller/caches/mfcc/excellera...</td>\n",
       "      <td>/home/s1785140/rlspeller/caches/mfcc/accelerat...</td>\n",
       "      <td>/home/s1785140/rlspeller/caches/hubert/raw/exc...</td>\n",
       "      <td>/home/s1785140/rlspeller/caches/hubert/raw/acc...</td>\n",
       "      <td>/home/s1785140/rlspeller/caches/hubert/soft/ex...</td>\n",
       "      <td>/home/s1785140/rlspeller/caches/hubert/soft/ac...</td>\n",
       "      <td>/home/s1785140/rlspeller/caches/hubert/discret...</td>\n",
       "      <td>/home/s1785140/rlspeller/caches/hubert/discret...</td>\n",
       "      <td>/home/s1785140/rlspeller/caches/hubert/discret...</td>\n",
       "      <td>/home/s1785140/rlspeller/caches/hubert/discret...</td>\n",
       "      <td>877.965801</td>\n",
       "      <td>914.046587</td>\n",
       "      <td>13.449970</td>\n",
       "      <td>14.106066</td>\n",
       "      <td>6.843343</td>\n",
       "      <td>7.344075</td>\n",
       "      <td>22.0</td>\n",
       "      <td>23.609756</td>\n",
       "      <td>12.539801</td>\n",
       "      <td>13.457347</td>\n",
       "      <td>594.0</td>\n",
       "    </tr>\n",
       "    <tr>\n",
       "      <th>176671</th>\n",
       "      <td>accelerator__LJ030-0189__occ1__len14080</td>\n",
       "      <td>accelerator</td>\n",
       "      <td>ixcellarater</td>\n",
       "      <td>False</td>\n",
       "      <td>45.454545</td>\n",
       "      <td>/home/s1785140/speechbrain/templates/speech_re...</td>\n",
       "      <td>0.333333</td>\n",
       "      <td>/home/s1785140/rlspeller/caches/mfcc/ixcellara...</td>\n",
       "      <td>/home/s1785140/rlspeller/caches/mfcc/accelerat...</td>\n",
       "      <td>/home/s1785140/rlspeller/caches/hubert/raw/ixc...</td>\n",
       "      <td>/home/s1785140/rlspeller/caches/hubert/raw/acc...</td>\n",
       "      <td>/home/s1785140/rlspeller/caches/hubert/soft/ix...</td>\n",
       "      <td>/home/s1785140/rlspeller/caches/hubert/soft/ac...</td>\n",
       "      <td>/home/s1785140/rlspeller/caches/hubert/discret...</td>\n",
       "      <td>/home/s1785140/rlspeller/caches/hubert/discret...</td>\n",
       "      <td>/home/s1785140/rlspeller/caches/hubert/discret...</td>\n",
       "      <td>/home/s1785140/rlspeller/caches/hubert/discret...</td>\n",
       "      <td>854.214218</td>\n",
       "      <td>921.652182</td>\n",
       "      <td>13.550016</td>\n",
       "      <td>14.495366</td>\n",
       "      <td>11.586642</td>\n",
       "      <td>12.376640</td>\n",
       "      <td>17.0</td>\n",
       "      <td>18.159091</td>\n",
       "      <td>7.915419</td>\n",
       "      <td>8.455107</td>\n",
       "      <td>672.0</td>\n",
       "    </tr>\n",
       "    <tr>\n",
       "      <th>...</th>\n",
       "      <td>...</td>\n",
       "      <td>...</td>\n",
       "      <td>...</td>\n",
       "      <td>...</td>\n",
       "      <td>...</td>\n",
       "      <td>...</td>\n",
       "      <td>...</td>\n",
       "      <td>...</td>\n",
       "      <td>...</td>\n",
       "      <td>...</td>\n",
       "      <td>...</td>\n",
       "      <td>...</td>\n",
       "      <td>...</td>\n",
       "      <td>...</td>\n",
       "      <td>...</td>\n",
       "      <td>...</td>\n",
       "      <td>...</td>\n",
       "      <td>...</td>\n",
       "      <td>...</td>\n",
       "      <td>...</td>\n",
       "      <td>...</td>\n",
       "      <td>...</td>\n",
       "      <td>...</td>\n",
       "      <td>...</td>\n",
       "      <td>...</td>\n",
       "      <td>...</td>\n",
       "      <td>...</td>\n",
       "      <td>...</td>\n",
       "    </tr>\n",
       "    <tr>\n",
       "      <th>51622</th>\n",
       "      <td>vestiges__LJ027-0106__occ1__len10880</td>\n",
       "      <td>vestiges</td>\n",
       "      <td>vestoges</td>\n",
       "      <td>False</td>\n",
       "      <td>12.500000</td>\n",
       "      <td>/home/s1785140/speechbrain/templates/speech_re...</td>\n",
       "      <td>0.375000</td>\n",
       "      <td>/home/s1785140/rlspeller/caches/mfcc/vestoges.npy</td>\n",
       "      <td>/home/s1785140/rlspeller/caches/mfcc/vestiges_...</td>\n",
       "      <td>/home/s1785140/rlspeller/caches/hubert/raw/ves...</td>\n",
       "      <td>/home/s1785140/rlspeller/caches/hubert/raw/ves...</td>\n",
       "      <td>/home/s1785140/rlspeller/caches/hubert/soft/ve...</td>\n",
       "      <td>/home/s1785140/rlspeller/caches/hubert/soft/ve...</td>\n",
       "      <td>/home/s1785140/rlspeller/caches/hubert/discret...</td>\n",
       "      <td>/home/s1785140/rlspeller/caches/hubert/discret...</td>\n",
       "      <td>/home/s1785140/rlspeller/caches/hubert/discret...</td>\n",
       "      <td>/home/s1785140/rlspeller/caches/hubert/discret...</td>\n",
       "      <td>711.264745</td>\n",
       "      <td>748.054301</td>\n",
       "      <td>9.409067</td>\n",
       "      <td>9.694190</td>\n",
       "      <td>5.260401</td>\n",
       "      <td>5.260401</td>\n",
       "      <td>13.0</td>\n",
       "      <td>13.000000</td>\n",
       "      <td>4.841775</td>\n",
       "      <td>4.841775</td>\n",
       "      <td>623.0</td>\n",
       "    </tr>\n",
       "    <tr>\n",
       "      <th>51429</th>\n",
       "      <td>vestiges__LJ027-0106__occ1__len10880</td>\n",
       "      <td>vestiges</td>\n",
       "      <td>vestigys</td>\n",
       "      <td>False</td>\n",
       "      <td>12.500000</td>\n",
       "      <td>/home/s1785140/speechbrain/templates/speech_re...</td>\n",
       "      <td>0.375000</td>\n",
       "      <td>/home/s1785140/rlspeller/caches/mfcc/vestigys.npy</td>\n",
       "      <td>/home/s1785140/rlspeller/caches/mfcc/vestiges_...</td>\n",
       "      <td>/home/s1785140/rlspeller/caches/hubert/raw/ves...</td>\n",
       "      <td>/home/s1785140/rlspeller/caches/hubert/raw/ves...</td>\n",
       "      <td>/home/s1785140/rlspeller/caches/hubert/soft/ve...</td>\n",
       "      <td>/home/s1785140/rlspeller/caches/hubert/soft/ve...</td>\n",
       "      <td>/home/s1785140/rlspeller/caches/hubert/discret...</td>\n",
       "      <td>/home/s1785140/rlspeller/caches/hubert/discret...</td>\n",
       "      <td>/home/s1785140/rlspeller/caches/hubert/discret...</td>\n",
       "      <td>/home/s1785140/rlspeller/caches/hubert/discret...</td>\n",
       "      <td>1024.792410</td>\n",
       "      <td>1236.818426</td>\n",
       "      <td>9.499658</td>\n",
       "      <td>11.226869</td>\n",
       "      <td>7.297984</td>\n",
       "      <td>8.585864</td>\n",
       "      <td>17.0</td>\n",
       "      <td>20.000000</td>\n",
       "      <td>10.247189</td>\n",
       "      <td>12.055517</td>\n",
       "      <td>430.0</td>\n",
       "    </tr>\n",
       "    <tr>\n",
       "      <th>51057</th>\n",
       "      <td>vestiges__LJ027-0106__occ1__len10880</td>\n",
       "      <td>vestiges</td>\n",
       "      <td>vestdidges</td>\n",
       "      <td>False</td>\n",
       "      <td>25.000000</td>\n",
       "      <td>/home/s1785140/speechbrain/templates/speech_re...</td>\n",
       "      <td>0.375000</td>\n",
       "      <td>/home/s1785140/rlspeller/caches/mfcc/vestdidge...</td>\n",
       "      <td>/home/s1785140/rlspeller/caches/mfcc/vestiges_...</td>\n",
       "      <td>/home/s1785140/rlspeller/caches/hubert/raw/ves...</td>\n",
       "      <td>/home/s1785140/rlspeller/caches/hubert/raw/ves...</td>\n",
       "      <td>/home/s1785140/rlspeller/caches/hubert/soft/ve...</td>\n",
       "      <td>/home/s1785140/rlspeller/caches/hubert/soft/ve...</td>\n",
       "      <td>/home/s1785140/rlspeller/caches/hubert/discret...</td>\n",
       "      <td>/home/s1785140/rlspeller/caches/hubert/discret...</td>\n",
       "      <td>/home/s1785140/rlspeller/caches/hubert/discret...</td>\n",
       "      <td>/home/s1785140/rlspeller/caches/hubert/discret...</td>\n",
       "      <td>962.923611</td>\n",
       "      <td>1278.364104</td>\n",
       "      <td>10.041517</td>\n",
       "      <td>13.084401</td>\n",
       "      <td>5.230351</td>\n",
       "      <td>6.768689</td>\n",
       "      <td>19.0</td>\n",
       "      <td>24.588235</td>\n",
       "      <td>7.932869</td>\n",
       "      <td>10.266066</td>\n",
       "      <td>58.0</td>\n",
       "    </tr>\n",
       "    <tr>\n",
       "      <th>51782</th>\n",
       "      <td>vestiges__LJ027-0106__occ1__len10880</td>\n",
       "      <td>vestiges</td>\n",
       "      <td>dvestigis</td>\n",
       "      <td>False</td>\n",
       "      <td>25.000000</td>\n",
       "      <td>/home/s1785140/speechbrain/templates/speech_re...</td>\n",
       "      <td>0.375000</td>\n",
       "      <td>/home/s1785140/rlspeller/caches/mfcc/dvestigis...</td>\n",
       "      <td>/home/s1785140/rlspeller/caches/mfcc/vestiges_...</td>\n",
       "      <td>/home/s1785140/rlspeller/caches/hubert/raw/dve...</td>\n",
       "      <td>/home/s1785140/rlspeller/caches/hubert/raw/ves...</td>\n",
       "      <td>/home/s1785140/rlspeller/caches/hubert/soft/dv...</td>\n",
       "      <td>/home/s1785140/rlspeller/caches/hubert/soft/ve...</td>\n",
       "      <td>/home/s1785140/rlspeller/caches/hubert/discret...</td>\n",
       "      <td>/home/s1785140/rlspeller/caches/hubert/discret...</td>\n",
       "      <td>/home/s1785140/rlspeller/caches/hubert/discret...</td>\n",
       "      <td>/home/s1785140/rlspeller/caches/hubert/discret...</td>\n",
       "      <td>809.165872</td>\n",
       "      <td>809.165872</td>\n",
       "      <td>10.784599</td>\n",
       "      <td>11.121618</td>\n",
       "      <td>4.836702</td>\n",
       "      <td>4.983269</td>\n",
       "      <td>16.0</td>\n",
       "      <td>16.484848</td>\n",
       "      <td>7.708945</td>\n",
       "      <td>7.942550</td>\n",
       "      <td>783.0</td>\n",
       "    </tr>\n",
       "    <tr>\n",
       "      <th>51045</th>\n",
       "      <td>vestiges__LJ027-0106__occ1__len10880</td>\n",
       "      <td>vestiges</td>\n",
       "      <td>vestigev</td>\n",
       "      <td>False</td>\n",
       "      <td>12.500000</td>\n",
       "      <td>/home/s1785140/speechbrain/templates/speech_re...</td>\n",
       "      <td>0.375000</td>\n",
       "      <td>/home/s1785140/rlspeller/caches/mfcc/vestigev.npy</td>\n",
       "      <td>/home/s1785140/rlspeller/caches/mfcc/vestiges_...</td>\n",
       "      <td>/home/s1785140/rlspeller/caches/hubert/raw/ves...</td>\n",
       "      <td>/home/s1785140/rlspeller/caches/hubert/raw/ves...</td>\n",
       "      <td>/home/s1785140/rlspeller/caches/hubert/soft/ve...</td>\n",
       "      <td>/home/s1785140/rlspeller/caches/hubert/soft/ve...</td>\n",
       "      <td>/home/s1785140/rlspeller/caches/hubert/discret...</td>\n",
       "      <td>/home/s1785140/rlspeller/caches/hubert/discret...</td>\n",
       "      <td>/home/s1785140/rlspeller/caches/hubert/discret...</td>\n",
       "      <td>/home/s1785140/rlspeller/caches/hubert/discret...</td>\n",
       "      <td>791.189094</td>\n",
       "      <td>859.395051</td>\n",
       "      <td>11.346736</td>\n",
       "      <td>12.034417</td>\n",
       "      <td>9.874250</td>\n",
       "      <td>10.164669</td>\n",
       "      <td>18.0</td>\n",
       "      <td>18.529412</td>\n",
       "      <td>8.715401</td>\n",
       "      <td>8.971737</td>\n",
       "      <td>46.0</td>\n",
       "    </tr>\n",
       "  </tbody>\n",
       "</table>\n",
       "<p>1230 rows × 28 columns</p>\n",
       "</div>"
      ],
      "text/plain": [
       "                                       token_id     wordtype     respelling  \\\n",
       "176591  accelerator__LJ030-0189__occ1__len14080  accelerator  pexcellerater   \n",
       "176699  accelerator__LJ030-0189__occ1__len14080  accelerator    exellerater   \n",
       "176798  accelerator__LJ030-0189__occ1__len14080  accelerator    ixcelarater   \n",
       "176593  accelerator__LJ030-0189__occ1__len14080  accelerator   excellerater   \n",
       "176671  accelerator__LJ030-0189__occ1__len14080  accelerator   ixcellarater   \n",
       "...                                         ...          ...            ...   \n",
       "51622      vestiges__LJ027-0106__occ1__len10880     vestiges       vestoges   \n",
       "51429      vestiges__LJ027-0106__occ1__len10880     vestiges       vestigys   \n",
       "51057      vestiges__LJ027-0106__occ1__len10880     vestiges     vestdidges   \n",
       "51782      vestiges__LJ027-0106__occ1__len10880     vestiges      dvestigis   \n",
       "51045      vestiges__LJ027-0106__occ1__len10880     vestiges       vestigev   \n",
       "\n",
       "        is_orig        cer                                           orig_wav  \\\n",
       "176591    False  45.454545  /home/s1785140/speechbrain/templates/speech_re...   \n",
       "176699    False  45.454545  /home/s1785140/speechbrain/templates/speech_re...   \n",
       "176798    False  36.363636  /home/s1785140/speechbrain/templates/speech_re...   \n",
       "176593    False  36.363636  /home/s1785140/speechbrain/templates/speech_re...   \n",
       "176671    False  45.454545  /home/s1785140/speechbrain/templates/speech_re...   \n",
       "...         ...        ...                                                ...   \n",
       "51622     False  12.500000  /home/s1785140/speechbrain/templates/speech_re...   \n",
       "51429     False  12.500000  /home/s1785140/speechbrain/templates/speech_re...   \n",
       "51057     False  25.000000  /home/s1785140/speechbrain/templates/speech_re...   \n",
       "51782     False  25.000000  /home/s1785140/speechbrain/templates/speech_re...   \n",
       "51045     False  12.500000  /home/s1785140/speechbrain/templates/speech_re...   \n",
       "\n",
       "             per                                               mfcc  \\\n",
       "176591  0.333333  /home/s1785140/rlspeller/caches/mfcc/pexceller...   \n",
       "176699  0.333333  /home/s1785140/rlspeller/caches/mfcc/exellerat...   \n",
       "176798  0.333333  /home/s1785140/rlspeller/caches/mfcc/ixcelarat...   \n",
       "176593  0.333333  /home/s1785140/rlspeller/caches/mfcc/excellera...   \n",
       "176671  0.333333  /home/s1785140/rlspeller/caches/mfcc/ixcellara...   \n",
       "...          ...                                                ...   \n",
       "51622   0.375000  /home/s1785140/rlspeller/caches/mfcc/vestoges.npy   \n",
       "51429   0.375000  /home/s1785140/rlspeller/caches/mfcc/vestigys.npy   \n",
       "51057   0.375000  /home/s1785140/rlspeller/caches/mfcc/vestdidge...   \n",
       "51782   0.375000  /home/s1785140/rlspeller/caches/mfcc/dvestigis...   \n",
       "51045   0.375000  /home/s1785140/rlspeller/caches/mfcc/vestigev.npy   \n",
       "\n",
       "                                                  mfcc-GT  \\\n",
       "176591  /home/s1785140/rlspeller/caches/mfcc/accelerat...   \n",
       "176699  /home/s1785140/rlspeller/caches/mfcc/accelerat...   \n",
       "176798  /home/s1785140/rlspeller/caches/mfcc/accelerat...   \n",
       "176593  /home/s1785140/rlspeller/caches/mfcc/accelerat...   \n",
       "176671  /home/s1785140/rlspeller/caches/mfcc/accelerat...   \n",
       "...                                                   ...   \n",
       "51622   /home/s1785140/rlspeller/caches/mfcc/vestiges_...   \n",
       "51429   /home/s1785140/rlspeller/caches/mfcc/vestiges_...   \n",
       "51057   /home/s1785140/rlspeller/caches/mfcc/vestiges_...   \n",
       "51782   /home/s1785140/rlspeller/caches/mfcc/vestiges_...   \n",
       "51045   /home/s1785140/rlspeller/caches/mfcc/vestiges_...   \n",
       "\n",
       "                                               hubert-raw  \\\n",
       "176591  /home/s1785140/rlspeller/caches/hubert/raw/pex...   \n",
       "176699  /home/s1785140/rlspeller/caches/hubert/raw/exe...   \n",
       "176798  /home/s1785140/rlspeller/caches/hubert/raw/ixc...   \n",
       "176593  /home/s1785140/rlspeller/caches/hubert/raw/exc...   \n",
       "176671  /home/s1785140/rlspeller/caches/hubert/raw/ixc...   \n",
       "...                                                   ...   \n",
       "51622   /home/s1785140/rlspeller/caches/hubert/raw/ves...   \n",
       "51429   /home/s1785140/rlspeller/caches/hubert/raw/ves...   \n",
       "51057   /home/s1785140/rlspeller/caches/hubert/raw/ves...   \n",
       "51782   /home/s1785140/rlspeller/caches/hubert/raw/dve...   \n",
       "51045   /home/s1785140/rlspeller/caches/hubert/raw/ves...   \n",
       "\n",
       "                                            hubert-raw-GT  \\\n",
       "176591  /home/s1785140/rlspeller/caches/hubert/raw/acc...   \n",
       "176699  /home/s1785140/rlspeller/caches/hubert/raw/acc...   \n",
       "176798  /home/s1785140/rlspeller/caches/hubert/raw/acc...   \n",
       "176593  /home/s1785140/rlspeller/caches/hubert/raw/acc...   \n",
       "176671  /home/s1785140/rlspeller/caches/hubert/raw/acc...   \n",
       "...                                                   ...   \n",
       "51622   /home/s1785140/rlspeller/caches/hubert/raw/ves...   \n",
       "51429   /home/s1785140/rlspeller/caches/hubert/raw/ves...   \n",
       "51057   /home/s1785140/rlspeller/caches/hubert/raw/ves...   \n",
       "51782   /home/s1785140/rlspeller/caches/hubert/raw/ves...   \n",
       "51045   /home/s1785140/rlspeller/caches/hubert/raw/ves...   \n",
       "\n",
       "                                              hubert-soft  \\\n",
       "176591  /home/s1785140/rlspeller/caches/hubert/soft/pe...   \n",
       "176699  /home/s1785140/rlspeller/caches/hubert/soft/ex...   \n",
       "176798  /home/s1785140/rlspeller/caches/hubert/soft/ix...   \n",
       "176593  /home/s1785140/rlspeller/caches/hubert/soft/ex...   \n",
       "176671  /home/s1785140/rlspeller/caches/hubert/soft/ix...   \n",
       "...                                                   ...   \n",
       "51622   /home/s1785140/rlspeller/caches/hubert/soft/ve...   \n",
       "51429   /home/s1785140/rlspeller/caches/hubert/soft/ve...   \n",
       "51057   /home/s1785140/rlspeller/caches/hubert/soft/ve...   \n",
       "51782   /home/s1785140/rlspeller/caches/hubert/soft/dv...   \n",
       "51045   /home/s1785140/rlspeller/caches/hubert/soft/ve...   \n",
       "\n",
       "                                           hubert-soft-GT  \\\n",
       "176591  /home/s1785140/rlspeller/caches/hubert/soft/ac...   \n",
       "176699  /home/s1785140/rlspeller/caches/hubert/soft/ac...   \n",
       "176798  /home/s1785140/rlspeller/caches/hubert/soft/ac...   \n",
       "176593  /home/s1785140/rlspeller/caches/hubert/soft/ac...   \n",
       "176671  /home/s1785140/rlspeller/caches/hubert/soft/ac...   \n",
       "...                                                   ...   \n",
       "51622   /home/s1785140/rlspeller/caches/hubert/soft/ve...   \n",
       "51429   /home/s1785140/rlspeller/caches/hubert/soft/ve...   \n",
       "51057   /home/s1785140/rlspeller/caches/hubert/soft/ve...   \n",
       "51782   /home/s1785140/rlspeller/caches/hubert/soft/ve...   \n",
       "51045   /home/s1785140/rlspeller/caches/hubert/soft/ve...   \n",
       "\n",
       "                                     hubert-discrete-code  \\\n",
       "176591  /home/s1785140/rlspeller/caches/hubert/discret...   \n",
       "176699  /home/s1785140/rlspeller/caches/hubert/discret...   \n",
       "176798  /home/s1785140/rlspeller/caches/hubert/discret...   \n",
       "176593  /home/s1785140/rlspeller/caches/hubert/discret...   \n",
       "176671  /home/s1785140/rlspeller/caches/hubert/discret...   \n",
       "...                                                   ...   \n",
       "51622   /home/s1785140/rlspeller/caches/hubert/discret...   \n",
       "51429   /home/s1785140/rlspeller/caches/hubert/discret...   \n",
       "51057   /home/s1785140/rlspeller/caches/hubert/discret...   \n",
       "51782   /home/s1785140/rlspeller/caches/hubert/discret...   \n",
       "51045   /home/s1785140/rlspeller/caches/hubert/discret...   \n",
       "\n",
       "                                  hubert-discrete-code-GT  \\\n",
       "176591  /home/s1785140/rlspeller/caches/hubert/discret...   \n",
       "176699  /home/s1785140/rlspeller/caches/hubert/discret...   \n",
       "176798  /home/s1785140/rlspeller/caches/hubert/discret...   \n",
       "176593  /home/s1785140/rlspeller/caches/hubert/discret...   \n",
       "176671  /home/s1785140/rlspeller/caches/hubert/discret...   \n",
       "...                                                   ...   \n",
       "51622   /home/s1785140/rlspeller/caches/hubert/discret...   \n",
       "51429   /home/s1785140/rlspeller/caches/hubert/discret...   \n",
       "51057   /home/s1785140/rlspeller/caches/hubert/discret...   \n",
       "51782   /home/s1785140/rlspeller/caches/hubert/discret...   \n",
       "51045   /home/s1785140/rlspeller/caches/hubert/discret...   \n",
       "\n",
       "                                 hubert-discrete-centroid  \\\n",
       "176591  /home/s1785140/rlspeller/caches/hubert/discret...   \n",
       "176699  /home/s1785140/rlspeller/caches/hubert/discret...   \n",
       "176798  /home/s1785140/rlspeller/caches/hubert/discret...   \n",
       "176593  /home/s1785140/rlspeller/caches/hubert/discret...   \n",
       "176671  /home/s1785140/rlspeller/caches/hubert/discret...   \n",
       "...                                                   ...   \n",
       "51622   /home/s1785140/rlspeller/caches/hubert/discret...   \n",
       "51429   /home/s1785140/rlspeller/caches/hubert/discret...   \n",
       "51057   /home/s1785140/rlspeller/caches/hubert/discret...   \n",
       "51782   /home/s1785140/rlspeller/caches/hubert/discret...   \n",
       "51045   /home/s1785140/rlspeller/caches/hubert/discret...   \n",
       "\n",
       "                              hubert-discrete-centroid-GT  \\\n",
       "176591  /home/s1785140/rlspeller/caches/hubert/discret...   \n",
       "176699  /home/s1785140/rlspeller/caches/hubert/discret...   \n",
       "176798  /home/s1785140/rlspeller/caches/hubert/discret...   \n",
       "176593  /home/s1785140/rlspeller/caches/hubert/discret...   \n",
       "176671  /home/s1785140/rlspeller/caches/hubert/discret...   \n",
       "...                                                   ...   \n",
       "51622   /home/s1785140/rlspeller/caches/hubert/discret...   \n",
       "51429   /home/s1785140/rlspeller/caches/hubert/discret...   \n",
       "51057   /home/s1785140/rlspeller/caches/hubert/discret...   \n",
       "51782   /home/s1785140/rlspeller/caches/hubert/discret...   \n",
       "51045   /home/s1785140/rlspeller/caches/hubert/discret...   \n",
       "\n",
       "        mfcc==Distance(Euclidean)  mfcc==Distance(Euclidean)==w_SL_Penalty  \\\n",
       "176591                 943.371437                              1030.260912   \n",
       "176699                 951.410004                              1014.002767   \n",
       "176798                 915.797048                               953.432543   \n",
       "176593                 877.965801                               914.046587   \n",
       "176671                 854.214218                               921.652182   \n",
       "...                           ...                                      ...   \n",
       "51622                  711.264745                               748.054301   \n",
       "51429                 1024.792410                              1236.818426   \n",
       "51057                  962.923611                              1278.364104   \n",
       "51782                  809.165872                               809.165872   \n",
       "51045                  791.189094                               859.395051   \n",
       "\n",
       "        hubert-raw==Distance(Cosine)  \\\n",
       "176591                     12.082473   \n",
       "176699                     12.617815   \n",
       "176798                     13.322273   \n",
       "176593                     13.449970   \n",
       "176671                     13.550016   \n",
       "...                              ...   \n",
       "51622                       9.409067   \n",
       "51429                       9.499658   \n",
       "51057                      10.041517   \n",
       "51782                      10.784599   \n",
       "51045                      11.346736   \n",
       "\n",
       "        hubert-raw==Distance(Cosine)==w_SL_Penalty  \\\n",
       "176591                                   13.206424   \n",
       "176699                                   13.498127   \n",
       "176798                                   13.972140   \n",
       "176593                                   14.106066   \n",
       "176671                                   14.495366   \n",
       "...                                            ...   \n",
       "51622                                     9.694190   \n",
       "51429                                    11.226869   \n",
       "51057                                    13.084401   \n",
       "51782                                    11.121618   \n",
       "51045                                    12.034417   \n",
       "\n",
       "        hubert-soft==Distance(Cosine)  \\\n",
       "176591                       6.950015   \n",
       "176699                       7.813665   \n",
       "176798                       7.000350   \n",
       "176593                       6.843343   \n",
       "176671                      11.586642   \n",
       "...                               ...   \n",
       "51622                        5.260401   \n",
       "51429                        7.297984   \n",
       "51057                        5.230351   \n",
       "51782                        4.836702   \n",
       "51045                        9.874250   \n",
       "\n",
       "        hubert-soft==Distance(Cosine)==w_SL_Penalty  \\\n",
       "176591                                     7.423879   \n",
       "176699                                     8.168832   \n",
       "176798                                     7.512571   \n",
       "176593                                     7.344075   \n",
       "176671                                    12.376640   \n",
       "...                                             ...   \n",
       "51622                                      5.260401   \n",
       "51429                                      8.585864   \n",
       "51057                                      6.768689   \n",
       "51782                                      4.983269   \n",
       "51045                                     10.164669   \n",
       "\n",
       "        hubert-discrete-code==Distance(Levenshtein)  \\\n",
       "176591                                         14.0   \n",
       "176699                                         21.0   \n",
       "176798                                         18.0   \n",
       "176593                                         22.0   \n",
       "176671                                         17.0   \n",
       "...                                             ...   \n",
       "51622                                          13.0   \n",
       "51429                                          17.0   \n",
       "51057                                          19.0   \n",
       "51782                                          16.0   \n",
       "51045                                          18.0   \n",
       "\n",
       "        hubert-discrete-code==Distance(Levenshtein)==w_SL_Penalty  \\\n",
       "176591                                          14.954545           \n",
       "176699                                          21.954545           \n",
       "176798                                          19.317073           \n",
       "176593                                          23.609756           \n",
       "176671                                          18.159091           \n",
       "...                                                   ...           \n",
       "51622                                           13.000000           \n",
       "51429                                           20.000000           \n",
       "51057                                           24.588235           \n",
       "51782                                           16.484848           \n",
       "51045                                           18.529412           \n",
       "\n",
       "        hubert-discrete-centroid==Distance(Cosine)  \\\n",
       "176591                                    6.636262   \n",
       "176699                                    9.705153   \n",
       "176798                                   10.379739   \n",
       "176593                                   12.539801   \n",
       "176671                                    7.915419   \n",
       "...                                            ...   \n",
       "51622                                     4.841775   \n",
       "51429                                    10.247189   \n",
       "51057                                     7.932869   \n",
       "51782                                     7.708945   \n",
       "51045                                     8.715401   \n",
       "\n",
       "        hubert-discrete-centroid==Distance(Cosine)==w_SL_Penalty  \\\n",
       "176591                                           7.088735          \n",
       "176699                                          10.146297          \n",
       "176798                                          11.139232          \n",
       "176593                                          13.457347          \n",
       "176671                                           8.455107          \n",
       "...                                                   ...          \n",
       "51622                                            4.841775          \n",
       "51429                                           12.055517          \n",
       "51057                                           10.266066          \n",
       "51782                                            7.942550          \n",
       "51045                                            8.971737          \n",
       "\n",
       "        asr_nbest_rank  \n",
       "176591           592.0  \n",
       "176699           700.0  \n",
       "176798           799.0  \n",
       "176593           594.0  \n",
       "176671           672.0  \n",
       "...                ...  \n",
       "51622            623.0  \n",
       "51429            430.0  \n",
       "51057             58.0  \n",
       "51782            783.0  \n",
       "51045             46.0  \n",
       "\n",
       "[1230 rows x 28 columns]"
      ]
     },
     "execution_count": 151,
     "metadata": {},
     "output_type": "execute_result"
    }
   ],
   "source": [
    "n_best_df, _ = get_n_best_df(df, 'hubert-raw==Distance(Cosine)', n_spellings_per_token_id=5)\n",
    "n_best_df"
   ]
  },
  {
   "cell_type": "code",
   "execution_count": 152,
   "id": "8b169a02",
   "metadata": {},
   "outputs": [],
   "source": [
    "# add acoustic rank column to n_best_df\n",
    "previous_wordtype = None\n",
    "rank = 1\n",
    "for i in n_best_df.index:\n",
    "    if n_best_df.loc[i, 'wordtype'] != previous_wordtype:\n",
    "        rank = 1\n",
    "    n_best_df.loc[i, 'acousticrank'] = rank\n",
    "    rank += 1\n",
    "    previous_wordtype = n_best_df.loc[i, 'wordtype']"
   ]
  },
  {
   "cell_type": "code",
   "execution_count": 153,
   "id": "d12fbeae",
   "metadata": {},
   "outputs": [],
   "source": [
    "acousticranks = []\n",
    "for spelling in wordtype2humanchosenspelling.values():\n",
    "    assert len(n_best_df[n_best_df['respelling'] == spelling]['acousticrank'].values) == 1\n",
    "    acousticrank = n_best_df[n_best_df['respelling'] == spelling]['acousticrank'].values[0]\n",
    "    assert acousticrank % 1 == 0\n",
    "    acousticrank = int(acousticrank)\n",
    "    acousticranks.append(acousticrank)"
   ]
  },
  {
   "cell_type": "code",
   "execution_count": 154,
   "id": "7c7e51cf",
   "metadata": {},
   "outputs": [
    {
     "data": {
      "text/plain": [
       "array([22, 27, 20, 12, 19])"
      ]
     },
     "execution_count": 154,
     "metadata": {},
     "output_type": "execute_result"
    }
   ],
   "source": [
    "count, bins = np.histogram(acousticranks, bins=5)\n",
    "count"
   ]
  },
  {
   "cell_type": "code",
   "execution_count": 155,
   "id": "2eadcfa8",
   "metadata": {},
   "outputs": [
    {
     "data": {
      "image/png": "[encoded data removed]",
      "text/plain": [
       "<Figure size 600x300 with 1 Axes>"
      ]
     },
     "metadata": {},
     "output_type": "display_data"
    }
   ],
   "source": [
    "plt.figure(figsize=(6, 3))\n",
    "plt.bar(x=range(1,6), height=count, edgecolor='black', width=0.66)\n",
    "\n",
    "# add horizontal grid lines\n",
    "plt.gca().yaxis.grid(True)\n",
    "\n",
    "# put grid lines behind bars\n",
    "plt.gca().set_axisbelow(True)\n",
    "\n",
    "# add title\n",
    "plt.title(f'Acoustic ranks of human-picked spellings ({rename_condition(\"hubert-raw==Distance(Cosine)\")})')\n",
    "\n",
    "# add minor ticks only for y axis\n",
    "plt.minorticks_on()\n",
    "plt.tick_params(axis='x', which='minor', bottom=False)\n",
    "\n",
    "# add x and y labels\n",
    "plt.xlabel('Acoustic rank')\n",
    "plt.ylabel('Count')\n",
    "\n",
    "plt.savefig('plots/acousticrank_human_picked_spellings.pdf', bbox_inches='tight', pad_inches=0.0)\n",
    "\n",
    "plt.tight_layout()"
   ]
  },
  {
   "cell_type": "code",
   "execution_count": 156,
   "id": "c5b043cb",
   "metadata": {},
   "outputs": [
    {
     "name": "stdout",
     "output_type": "stream",
     "text": [
      "# Run following cmd on macbook to transfer plots back\n",
      "\n",
      "\n",
      "\n"
     ]
    }
   ],
   "source": [
    "print(\"# Run following cmd on macbook to transfer plots back\")\n",
    "print(\"\"\"\n",
    "\n",
    "\"\"\")"
   ]
  },
  {
   "cell_type": "code",
   "execution_count": 157,
   "id": "be29c95c",
   "metadata": {},
   "outputs": [
    {
     "ename": "ValueError",
     "evalue": "",
     "output_type": "error",
     "traceback": [
      "\u001b[0;31m---------------------------------------------------------------------------\u001b[0m",
      "\u001b[0;31mValueError\u001b[0m                                Traceback (most recent call last)",
      "Cell \u001b[0;32mIn[157], line 1\u001b[0m\n\u001b[0;32m----> 1\u001b[0m \u001b[39mraise\u001b[39;00m \u001b[39mValueError\u001b[39;00m\n",
      "\u001b[0;31mValueError\u001b[0m: "
     ]
    }
   ],
   "source": [
    "raise ValueError"
   ]
  },
  {
   "cell_type": "markdown",
   "id": "90099254-00f4-45b3-9856-9b73bab7e2a1",
   "metadata": {},
   "source": [
    "# save files to disk to create listening test for experiment 1\n",
    "\n",
    "- save wavs for each ranking metric to its own folder \n",
    "- save GT wavs\n",
    "- save url lists (used by create_ab_url_lists_for_qualtreats.ipynb)"
   ]
  },
  {
   "cell_type": "code",
   "execution_count": null,
   "id": "622aebaa-d488-4f21-9d71-67c7b8fefcee",
   "metadata": {},
   "outputs": [],
   "source": [
    "distances_to_save = [\n",
    "    \"mfcc==Distance(Euclidean)\",\n",
    "    \"hubert-raw==Distance(Cosine)\",\n",
    "    \"hubert-soft==Distance(Cosine)\",\n",
    "    \"hubert-discrete-code==Distance(Levenshtein)\",\n",
    "    \"hubert-discrete-centroid==Distance(Cosine)\",\n",
    "]\n",
    "\n",
    "# for creating url lists that are used to create qualtreats tests\n",
    "conditionname2wavlist = defaultdict(list)\n",
    "\n",
    "# save dev set spelling wavs to disk\n",
    "for i, w in enumerate(tqdm(sorted(dev_set_wordtypes)), 1):\n",
    "    for distance_metric_col_name in distances_to_save:\n",
    "        # retrieve best ranked spelling for wordtype\n",
    "        n_best_df, original_spellings_df = get_n_best_df(df, distance_metric_col_name, n_spellings_per_token_id=1)\n",
    "        best_ranked_spelling = n_best_df[n_best_df['wordtype'] == w]['respelling'].values[0]\n",
    "        wav = spelling2vocoded_audio[best_ranked_spelling]\n",
    "\n",
    "        # create outdir\n",
    "        outdir = os.path.join(\"listening_tests\", 'experiment1', distance_metric_col_name)\n",
    "        os.makedirs(outdir, exist_ok=True)\n",
    "        wavfilename = f\"{i}_{w}_{best_ranked_spelling}.wav\"\n",
    "        outpath = os.path.join(outdir, wavfilename)\n",
    "\n",
    "        # save in outdir\n",
    "        write(outpath, HIFIGAN_SAMPLE_RATE, wav)\n",
    "        \n",
    "        conditionname2wavlist[distance_metric_col_name].append(wavfilename)\n",
    "        \n",
    "    ## save GT audio for wordtypes to disk\n",
    "    # get path to GT wav from df \n",
    "    orig_wav_paths = df[df['wordtype'] == w]['orig_wav'].unique()\n",
    "    assert len(orig_wav_paths) == 1 # should be the case since we only have one token_id per wordtype\n",
    "    orig_wav_path = orig_wav_paths[0]\n",
    "    # use shell/bash to copy file to destination folder\n",
    "    outdir = os.path.join(\"listening_tests\", 'experiment1', 'groundtruth')\n",
    "    os.makedirs(outdir, exist_ok=True)\n",
    "    wavfilename = f\"{i}_{os.path.basename(orig_wav_path)}\"\n",
    "    outpath = os.path.join(outdir, wavfilename)\n",
    "    shutil.copy(orig_wav_path, outpath)\n",
    "    \n",
    "    conditionname2wavlist['groundtruth'].append(wavfilename)"
   ]
  },
  {
   "cell_type": "code",
   "execution_count": null,
   "id": "2c773dfe-c37b-4d26-be11-0ac1650c1e7f",
   "metadata": {
    "tags": []
   },
   "outputs": [],
   "source": [
    "# save url_lists to disk, ready for qualtreats\n",
    "\n",
    "# example URL https://jonojace.github.io/IS22-speech-audio-corrector-samples/SAC-grapheme-input/1-how is afghan pronounced.wav\n",
    "url_folder = \"https://jonojace.github.io/SSW23-asr-speller-samples\"\n",
    "url_lists_outdir = os.path.join(\"listening_tests\", 'experiment1', 'url_lists')\n",
    "os.makedirs(url_lists_outdir, exist_ok=True)\n",
    "\n",
    "for condition_name, wavlist in conditionname2wavlist.items():\n",
    "    urls = []\n",
    "    for wavfilename in wavlist:\n",
    "        full_url = f\"{url_folder}/{condition_name}/{wavfilename}\"\n",
    "        urls.append(full_url)\n",
    "    \n",
    "    # write url list to disk\n",
    "    with open(os.path.join(url_lists_outdir, f\"{condition_name}.txt\"), 'w') as f:\n",
    "        f.write(\"\\n\".join(urls))"
   ]
  },
  {
   "cell_type": "markdown",
   "id": "aaa16956-8dfb-4648-8b7f-b068d0bdbe25",
   "metadata": {},
   "source": [
    "## run the following command in bash from your laptop to transfer files to your local mac\n",
    "\n",
    "```bash\n",
    "SOURCE=s1785140@escience6.inf.ed.ac.uk:/home/s1785140/rlspeller/listening_tests/\n",
    "DEST=/Users/jonojace/asr_speller/listening_tests/\n",
    "mkdir -p $DEST\n",
    "rsync -avu $SOURCE $DEST\n",
    "```"
   ]
  },
  {
   "cell_type": "markdown",
   "id": "ded2c6ab-6657-44d7-9be4-2685f58ac04a",
   "metadata": {},
   "source": [
    "# save files to disk to create listening test for experiment 2"
   ]
  },
  {
   "cell_type": "markdown",
   "id": "ee5c3285-5ce5-440b-9ba6-c7eaba369219",
   "metadata": {},
   "source": [
    "- GT audio\n",
    "- original_spellings\n",
    "- asr_1000_best_acoustic_autorank_top1\n",
    "- asr_1000_best_acoustic_autorank_top5"
   ]
  },
  {
   "cell_type": "code",
   "execution_count": null,
   "id": "16f1c415-c80a-44b7-a578-abe5ab991c61",
   "metadata": {
    "tags": []
   },
   "outputs": [],
   "source": [
    "### create all outdirs\n",
    "exp2_conditions = [\n",
    "    \"asr_1000_best_acoustic_autorank_top1\",\n",
    "    \"asr_1000_best_acoustic_autorank_top5\",\n",
    "]\n",
    "\n",
    "condition2outdir = {\n",
    "    condition: os.path.join(\"listening_tests\", 'experiment2', EXP2_DISTANCE_NAME, condition)\n",
    "    for condition in exp2_conditions\n",
    "}\n",
    "\n",
    "condition2outdir[\"original_spellings\"] = os.path.join(\"listening_tests\", 'experiment2', 'original_spellings')\n",
    "condition2outdir[\"groundtruth\"] = os.path.join(\"listening_tests\", 'experiment2', 'groundtruth')\n",
    "condition2outdir[\"asr_1_best\"] = os.path.join(\"listening_tests\", \"experiment2\", \"asr_1_best\")\n",
    "condition2outdir[\"asr_5_best_acoustic\"] = os.path.join(\"listening_tests\", \"experiment2\", \"asr_5_best_acoustic\")\n",
    "condition2outdir[\"asr_5_best_no_acoustic\"] = os.path.join(\"listening_tests\", \"experiment2\", \"asr_5_best_no_acoustic\")\n",
    "\n",
    "for condition, outdir in condition2outdir.items():\n",
    "    os.makedirs(outdir, exist_ok=True)"
   ]
  },
  {
   "cell_type": "code",
   "execution_count": null,
   "id": "dbe97847-dd7e-4a91-950b-205de03f5b10",
   "metadata": {
    "tags": []
   },
   "outputs": [],
   "source": [
    "NUM_SPELLINGS_PER_WORDTYPE = 5\n",
    "EXP2_DISTANCE_NAME = \"hubert-raw==Distance(Cosine)\"\n",
    "\n",
    "for i, w in enumerate(tqdm(sorted(test_set_wordtypes)), 1):\n",
    "    n_best_df, original_spellings_df = get_n_best_df(df, EXP2_DISTANCE_NAME, n_spellings_per_token_id=NUM_SPELLINGS_PER_WORDTYPE)\n",
    "    best_ranked_spellings = n_best_df[n_best_df['wordtype'] == w]['respelling'].values\n",
    "    assert len(best_ranked_spellings) == NUM_SPELLINGS_PER_WORDTYPE\n",
    "    best_ranked_spelling = best_ranked_spellings[0] # since these are ranked in order of the distance!\n",
    "\n",
    "    ### save wavs for asr_1000_best_acoustic_autorank_top1 and top5\n",
    "    # top 1\n",
    "    wavfilename = f\"{i}_{w}_{best_ranked_spelling}.wav\"\n",
    "    outpath = os.path.join(condition2outdir['asr_1000_best_acoustic_autorank_top1'], wavfilename)\n",
    "    write(outpath, HIFIGAN_SAMPLE_RATE, spelling2vocoded_audio[best_ranked_spelling])\n",
    "    # top 5\n",
    "    for spelling in best_ranked_spellings:\n",
    "        wavfilename = f\"{i}_{w}_{spelling}.wav\"\n",
    "        outpath = os.path.join(condition2outdir['asr_1000_best_acoustic_autorank_top5'], wavfilename)\n",
    "        write(outpath, HIFIGAN_SAMPLE_RATE, spelling2vocoded_audio[spelling])\n",
    "\n",
    "    ### save wav original spelling\n",
    "    wavfilename = f\"{i}_{w}.wav\"\n",
    "    outpath = os.path.join(condition2outdir['original_spellings'], wavfilename)\n",
    "    write(outpath, HIFIGAN_SAMPLE_RATE, spelling2vocoded_audio[w])\n",
    "    \n",
    "    ### save wav for GT\n",
    "    orig_wav_paths = df[df['wordtype'] == w]['orig_wav'].unique()\n",
    "    assert len(orig_wav_paths) == 1 # should be the case since we only have one token_id per wordtype\n",
    "    orig_wav_path = orig_wav_paths[0]\n",
    "    # use shell/bash to copy file to destination folder\n",
    "    wavfilename = f\"{i}_{os.path.basename(orig_wav_path)}\"\n",
    "    outpath = os.path.join(condition2outdir[\"groundtruth\"], wavfilename)\n",
    "    shutil.copy(orig_wav_path, outpath)"
   ]
  },
  {
   "cell_type": "markdown",
   "id": "69405c84-0af7-43c6-8c71-abf7030105c8",
   "metadata": {},
   "source": [
    "Audios for ASR nbest:\n",
    "- asr_1_best\n",
    "- asr_5_best_acoustic\n",
    "- asr_5_best_no_acoustic\n",
    "\n",
    "Below approach works since we can recover nbest rank for each respelling from its index in pandas df, since df \n",
    "conserves the order from which we added items into it"
   ]
  },
  {
   "cell_type": "code",
   "execution_count": null,
   "id": "196dd478-0460-4e3b-a0c9-ace0d14ef99f",
   "metadata": {
    "tags": []
   },
   "outputs": [],
   "source": [
    "def save_wav(outpath, wav_data):\n",
    "    write(outpath, HIFIGAN_SAMPLE_RATE, wav_data)"
   ]
  },
  {
   "cell_type": "code",
   "execution_count": null,
   "id": "0a9fd626-b314-4cd7-93af-9d70dd583f87",
   "metadata": {
    "tags": []
   },
   "outputs": [],
   "source": [
    "for i, w in enumerate(tqdm(sorted(test_set_wordtypes)), 1):\n",
    "    # get asr nbest from dataframe\n",
    "    n_best_df = df[df['wordtype'] == w][:NUM_SPELLINGS_PER_WORDTYPE]\n",
    "    assert n_best_df[\"asr_nbest_rank\"].max() == 5.0\n",
    "    assert n_best_df[\"asr_nbest_rank\"].min() == 1.0\n",
    "\n",
    "    # save wavs to disk\n",
    "    # for spelling in \n",
    "    for df_idx in n_best_df.index:\n",
    "        spelling = df.loc[df_idx, \"respelling\"]\n",
    "        wavfilename = f\"{i}_{w}_{spelling}.wav\"\n",
    "\n",
    "        outpath = os.path.join(condition2outdir['asr_5_best_acoustic'], wavfilename)\n",
    "        save_wav(outpath, spelling2vocoded_audio[spelling])\n",
    "        outpath = os.path.join(condition2outdir['asr_5_best_no_acoustic'], wavfilename)\n",
    "        save_wav(outpath, spelling2vocoded_audio[spelling])\n",
    "\n",
    "        if df.loc[df_idx, \"asr_nbest_rank\"] == 1.0:\n",
    "            outpath = os.path.join(condition2outdir['asr_1_best'], wavfilename)\n",
    "            save_wav(outpath, spelling2vocoded_audio[spelling])"
   ]
  },
  {
   "cell_type": "markdown",
   "id": "b9476ab8-77d7-4453-ba23-e3c6ca954baf",
   "metadata": {},
   "source": [
    "## copy wavs back to laptop for filtering of wavs (for asr_5_best_acoustic and asr_1000_best_acoustic_autorank_top5)\n",
    "\n",
    "```bash\n",
    "SOURCE=s1785140@escience6.inf.ed.ac.uk:/home/s1785140/rlspeller/listening_tests/\n",
    "DEST=/Users/jonojace/asr_speller/listening_tests/\n",
    "mkdir -p $DEST\n",
    "rsync -avu $SOURCE $DEST\n",
    "```"
   ]
  },
  {
   "cell_type": "markdown",
   "id": "341f9f69-b6ac-4405-aba2-818dd3f523d2",
   "metadata": {},
   "source": [
    "## create url lists from folders of wav files\n",
    "\n",
    "before this step, ensure that you choose the best one for top 5 systems!!! (delete the ones that are not as good)"
   ]
  },
  {
   "cell_type": "code",
   "execution_count": null,
   "id": "952e2f47-d2ff-491e-9dca-3b119481767c",
   "metadata": {
    "tags": []
   },
   "outputs": [],
   "source": [
    "    \n",
    "# save url_lists to disk, ready for qualtreats\n",
    "# example URL https://jonojace.github.io/IS22-speech-audio-corrector-samples/SAC-grapheme-input/1-how is afghan pronounced.wav\n",
    "url_folder = \"https://jonojace.github.io/SSW23-asr-speller-samples\"\n",
    "url_lists_outdir = os.path.join(\"listening_tests\", 'experiment1', 'url_lists')\n",
    "os.makedirs(url_lists_outdir, exist_ok=True)\n",
    "\n",
    "for condition_name, wavlist in conditionname2wavlist.items():\n",
    "    urls = []\n",
    "    for wavfilename in wavlist:\n",
    "        full_url = f\"{url_folder}/{condition_name}/{wavfilename}\"\n",
    "        urls.append(full_url)\n",
    "    \n",
    "    # write url list to disk\n",
    "    with open(os.path.join(url_lists_outdir, f\"{condition_name}.txt\"), 'w') as f:\n",
    "        f.write(\"\\n\".join(urls))"
   ]
  },
  {
   "cell_type": "markdown",
   "id": "51505040-9753-4347-9d36-20cd3c505555",
   "metadata": {},
   "source": [
    "## run the following command in bash from your laptop to transfer files to your local mac\n",
    "\n",
    "```bash\n",
    "SOURCE=s1785140@escience6.inf.ed.ac.uk:/home/s1785140/rlspeller/listening_tests/\n",
    "DEST=/Users/jonojace/asr_speller/listening_tests/\n",
    "mkdir -p $DEST\n",
    "rsync -avu $SOURCE $DEST\n",
    "```"
   ]
  }
 ],
 "metadata": {
  "kernelspec": {
   "display_name": "Python 3 (ipykernel)",
   "language": "python",
   "name": "python3"
  },
  "language_info": {
   "codemirror_mode": {
    "name": "ipython",
    "version": 3
   },
   "file_extension": ".py",
   "mimetype": "text/x-python",
   "name": "python",
   "nbconvert_exporter": "python",
   "pygments_lexer": "ipython3",
   "version": "3.8.16"
  }
 },
 "nbformat": 4,
 "nbformat_minor": 5
}
