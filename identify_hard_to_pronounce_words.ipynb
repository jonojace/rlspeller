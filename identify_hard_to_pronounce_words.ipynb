{
 "cells": [
  {
   "cell_type": "markdown",
   "id": "4d155d10-1c44-4a1b-b2f9-89b168afeb1d",
   "metadata": {},
   "source": [
    "# Goal of this notebook\n",
    "\n",
    "- use certain metrics (LM perplexity, G2P error) to identify wordtypes that are more likely to be mispronounced by our grapheme-input TTS system"
   ]
  },
  {
   "cell_type": "markdown",
   "id": "afbc98ee-f488-432c-b0d1-c266cee8097c",
   "metadata": {},
   "source": [
    "# automatic reloading magic"
   ]
  },
  {
   "cell_type": "code",
   "execution_count": 1,
   "id": "44dde61e-d22b-4383-85e9-b6994cb14fd9",
   "metadata": {},
   "outputs": [],
   "source": [
    "%load_ext autoreload\n",
    "%autoreload 2"
   ]
  },
  {
   "cell_type": "markdown",
   "id": "61abcb09-f231-4f75-8a6c-bd701d9a19b9",
   "metadata": {},
   "source": [
    "# Imports "
   ]
  },
  {
   "cell_type": "code",
   "execution_count": 2,
   "id": "3f303211-1bcd-4f69-a3be-9ceec333ee22",
   "metadata": {
    "tags": []
   },
   "outputs": [],
   "source": [
    "import json\n",
    "from datasets import load_dataset\n",
    "import torch\n",
    "import jiwer"
   ]
  },
  {
   "cell_type": "markdown",
   "id": "552fe736-d3c3-4814-88a8-b9ccd339403c",
   "metadata": {},
   "source": [
    "# check if have correct type of node "
   ]
  },
  {
   "cell_type": "code",
   "execution_count": 3,
   "id": "b9c11189-ba5b-45ae-a62f-2b06b020217b",
   "metadata": {
    "tags": []
   },
   "outputs": [
    {
     "name": "stdout",
     "output_type": "stream",
     "text": [
      "levi.inf.ed.ac.uk\n"
     ]
    }
   ],
   "source": [
    "import socket\n",
    "\n",
    "# print hostname to make sure we are on correct node\n",
    "disallowed_nodes = ['escience6']\n",
    "hostname = socket.gethostname()\n",
    "print(hostname)\n",
    "node = hostname.split('.')[0]\n",
    "if node in disallowed_nodes:\n",
    "    raise ValueError(f\"Running on disallowed node {node}!\")"
   ]
  },
  {
   "cell_type": "code",
   "execution_count": 4,
   "id": "eada4296-861a-4b7a-8512-82306ddc64f8",
   "metadata": {},
   "outputs": [],
   "source": [
    "device = torch.device('cuda' if torch.cuda.is_available() else 'cpu')\n",
    "torch.cuda.is_available()\n",
    "assert torch.cuda.is_available()"
   ]
  },
  {
   "cell_type": "markdown",
   "id": "1334affc-0cfd-441d-81c0-1379701f84d5",
   "metadata": {},
   "source": [
    "# Load OOV list\n",
    "\n",
    "(wordtypes not seen in the half of LJSpeech used to train TTS and ASR)"
   ]
  },
  {
   "cell_type": "code",
   "execution_count": 5,
   "id": "b69cafa0-fb92-49c8-b4b2-c3ca00585194",
   "metadata": {},
   "outputs": [
    {
     "name": "stdout",
     "output_type": "stream",
     "text": [
      "original before cleaning/sampling len(oovs)=8343\n"
     ]
    }
   ],
   "source": [
    "# get oov wordtypes list (words that are not seen in tts training)\n",
    "oov_wordlist_path = '/home/s1785140/data/ljspeech_fastpitch/oov_list.json'\n",
    "with open(oov_wordlist_path, 'r') as f:\n",
    "    oovs_and_freqs = json.load(f)\n",
    "    \n",
    "oovs = set(w.strip() for w in oovs_and_freqs.keys())\n",
    "print(f'original before cleaning/sampling {len(oovs)=}')"
   ]
  },
  {
   "cell_type": "markdown",
   "id": "3585bc13-9dc6-40b1-bba0-b59aef6f0a44",
   "metadata": {},
   "source": [
    "# Load G2P pronunciation lexicon"
   ]
  },
  {
   "cell_type": "markdown",
   "id": "7a1bfcab-fc24-43b4-b2e5-c07c16e20208",
   "metadata": {
    "tags": []
   },
   "source": [
    "## LibriG2P Lexicon "
   ]
  },
  {
   "cell_type": "code",
   "execution_count": 6,
   "id": "8d2a0944-4f6e-462e-b831-aac086b839eb",
   "metadata": {},
   "outputs": [
    {
     "name": "stderr",
     "output_type": "stream",
     "text": [
      "Found cached dataset librig2p-nostress (/home/s1785140/.cache/huggingface/datasets/flexthink___librig2p-nostress/default/0.0.0/95c204c6be42796a753ef410b5dfce2bfa21d61b51f0c3ffe85cf6e3a4dee65f)\n"
     ]
    },
    {
     "data": {
      "application/vnd.jupyter.widget-view+json": {
       "model_id": "55a0cbad2e824cb4b4f00705c5189e09",
       "version_major": 2,
       "version_minor": 0
      },
      "text/plain": [
       "  0%|          | 0/6 [00:00<?, ?it/s]"
      ]
     },
     "metadata": {},
     "output_type": "display_data"
    }
   ],
   "source": [
    "# load lexicon that G2P model was trained on\n",
    "dataset_dict = load_dataset(\"flexthink/librig2p-nostress\")"
   ]
  },
  {
   "cell_type": "code",
   "execution_count": 7,
   "id": "318206e6-a420-4e2f-b9a0-f53c25e42fac",
   "metadata": {
    "tags": []
   },
   "outputs": [
    {
     "data": {
      "text/plain": [
       "datasets.arrow_dataset.Dataset"
      ]
     },
     "execution_count": 7,
     "metadata": {},
     "output_type": "execute_result"
    }
   ],
   "source": [
    "type(dataset_dict['lexicon_train'])"
   ]
  },
  {
   "cell_type": "code",
   "execution_count": 8,
   "id": "0a51fe2e-7c43-44a0-93fa-381f52ff9874",
   "metadata": {
    "tags": []
   },
   "outputs": [],
   "source": [
    "# combine data splits in the lexicon \n",
    "# (as we are not training G2P, don't need train valid test splits)\n",
    "from datasets import concatenate_datasets\n",
    "datasets = [dataset_dict['lexicon_train'], dataset_dict['lexicon_valid'], dataset_dict['lexicon_test']]\n",
    "dataset = concatenate_datasets(datasets)"
   ]
  },
  {
   "cell_type": "code",
   "execution_count": 9,
   "id": "c7f4b825-85d3-4200-8d84-d03e6b5fb990",
   "metadata": {
    "tags": []
   },
   "outputs": [],
   "source": [
    "# create dict of wordtype to pronunciation\n",
    "lexicon = {}\n",
    "for char, phn in zip(dataset['char'], dataset['phn']):\n",
    "    lexicon[char.lower().strip()] = phn"
   ]
  },
  {
   "cell_type": "markdown",
   "id": "c4739019-3607-45bc-be34-a23f62c466cf",
   "metadata": {},
   "source": [
    "## CMUdict"
   ]
  },
  {
   "cell_type": "markdown",
   "id": "9e5704db-0c9f-412e-97ba-b316c4dba265",
   "metadata": {},
   "source": [
    "## combine the libriG2P with CMUdict"
   ]
  },
  {
   "cell_type": "markdown",
   "id": "9b05b04c-680d-4876-ba2c-856e9f09e3ca",
   "metadata": {},
   "source": [
    "# only consider the OOV words that are in the pronunciation lexicon\n"
   ]
  },
  {
   "cell_type": "code",
   "execution_count": 10,
   "id": "f09fd59d-1fbb-40de-a326-3a17ec4fdcc1",
   "metadata": {
    "tags": []
   },
   "outputs": [
    {
     "data": {
      "text/plain": [
       "8343"
      ]
     },
     "execution_count": 10,
     "metadata": {},
     "output_type": "execute_result"
    }
   ],
   "source": [
    "len(oovs)"
   ]
  },
  {
   "cell_type": "code",
   "execution_count": 11,
   "id": "1c15bc92-6529-4a0d-99af-f5b67073b7b1",
   "metadata": {
    "tags": []
   },
   "outputs": [
    {
     "data": {
      "text/plain": [
       "7966"
      ]
     },
     "execution_count": 11,
     "metadata": {},
     "output_type": "execute_result"
    }
   ],
   "source": [
    "oovs_in_lexicon = oovs.intersection(lexicon.keys())\n",
    "len(oovs_in_lexicon)"
   ]
  },
  {
   "cell_type": "markdown",
   "id": "e7d53049-9b81-481d-b613-1245b4fd9b5e",
   "metadata": {},
   "source": [
    "# G2P Error Rates\n",
    "\n",
    "Only will work with words that occur in the lexicon?"
   ]
  },
  {
   "cell_type": "code",
   "execution_count": 12,
   "id": "5a838975-712e-4b81-a822-ede67d10120a",
   "metadata": {
    "tags": []
   },
   "outputs": [],
   "source": [
    "oovs_in_lexicon = sorted(oovs_in_lexicon, key=lambda x: len(x), reverse=True) # sort by len to make batches more efficient (shud help with soundchoiceG2P, not sure about phonetisaurus)"
   ]
  },
  {
   "cell_type": "markdown",
   "id": "c38dc871-a627-4a6d-a342-ea7f671a3260",
   "metadata": {},
   "source": [
    "## use g2p to predict phn seqs"
   ]
  },
  {
   "cell_type": "code",
   "execution_count": 13,
   "id": "0406dfb3-526b-415c-a896-0bacb783656f",
   "metadata": {
    "tags": []
   },
   "outputs": [],
   "source": [
    "from tqdm import tqdm\n",
    "import os\n",
    "wordtype2predicted_phnseq = {}"
   ]
  },
  {
   "cell_type": "code",
   "execution_count": 16,
   "id": "c0cf0d0d-6802-453a-bdff-80339a649a0b",
   "metadata": {
    "tags": []
   },
   "outputs": [],
   "source": [
    "use_phonetisaurus = True\n",
    "\n",
    "if use_phonetisaurus:\n",
    "    import subprocess\n",
    "    # to stop warning\n",
    "    os.environ['TOKENIZERS_PARALLELISM'] = 'false'\n",
    "\n",
    "    shell_cmd = [\n",
    "        \"phonetisaurus\",\n",
    "        \"predict\",\n",
    "        \"--model\", \n",
    "        \"/home/s1785140/data/ljspeech_fastpitch/train_meta_half_phonetisaurusG2P_model.fst\"\n",
    "    ]\n",
    "    words = oovs_in_lexicon\n",
    "    shell_result = subprocess.run(shell_cmd + words, capture_output=True, text=True)\n",
    "    lines = shell_result.stdout.split('\\n')\n",
    "    lines = [l for l in lines if l != \"\"] \n",
    "    \n",
    "    wordtype2predicted_phnseq = {}\n",
    "    for l in lines:\n",
    "        spelling = l.split(\" \")[0]\n",
    "        phones = l.split(\" \")[1:]\n",
    "        wordtype2predicted_phnseq[spelling] = phones\n",
    "else:\n",
    "    # load G2P model \n",
    "    from speechbrain.pretrained import GraphemeToPhoneme\n",
    "    g2p = GraphemeToPhoneme.from_hparams(\"speechbrain/soundchoice-g2p\")\n",
    "    \n",
    "    batch_size = 128\n",
    "    warning_phn_seqs = []\n",
    "    for i in tqdm(range(0, len(oovs_in_lexicon), batch_size)):\n",
    "        batch = oovs_in_lexicon[i:i+batch_size]\n",
    "        predictions = g2p(batch)\n",
    "        for wordtype, phn_seq in zip(batch, predictions):\n",
    "            if \"\" in phn_seq or \" \" in phn_seq:\n",
    "                warning_phn_seqs.append((wordtype, phn_seq))\n",
    "            phn_seq = [phn for phn in phn_seq if phn not in [\"\", \" \"]] # strip empty phns\n",
    "            wordtype2predicted_phnseq[wordtype] = phn_seq\n",
    "        # break # debug"
   ]
  },
  {
   "cell_type": "markdown",
   "id": "b28da7ef-6357-4e28-942a-c9196876f626",
   "metadata": {},
   "source": [
    "## calc PER for each phn seqs"
   ]
  },
  {
   "cell_type": "code",
   "execution_count": 17,
   "id": "c530d9e8-f7fc-43c3-b0ff-77ca979b9d42",
   "metadata": {
    "tags": []
   },
   "outputs": [],
   "source": [
    "import pandas as pd"
   ]
  },
  {
   "cell_type": "code",
   "execution_count": 18,
   "id": "42c7a1ad-e9fb-47d5-8d54-027e83de2dab",
   "metadata": {
    "tags": []
   },
   "outputs": [],
   "source": [
    "import textdistance\n",
    "lev = textdistance.Levenshtein() # create an instance of Levenshtein distance\n",
    "def per(ref, hyp):\n",
    "    dist = lev.distance(ref, hyp) # calculate the distance between ref and hyp\n",
    "    per = dist / len(ref) # calculate the PER by dividing by the length of ref\n",
    "    return per"
   ]
  },
  {
   "cell_type": "code",
   "execution_count": 19,
   "id": "925069fa-ffb7-4352-9136-df86d9279693",
   "metadata": {
    "tags": []
   },
   "outputs": [],
   "source": [
    "data = []\n",
    "for wordtype, predicted_phnseq in wordtype2predicted_phnseq.items():\n",
    "    data.append({\n",
    "        \"wordtype\": wordtype, \n",
    "        \"lexicon_entry\": lexicon[wordtype], \n",
    "        \"predicted_phnseq\": predicted_phnseq, \n",
    "        \"per\": per(lexicon[wordtype], predicted_phnseq),\n",
    "    })"
   ]
  },
  {
   "cell_type": "code",
   "execution_count": 20,
   "id": "7af308b8-759c-4bff-add2-622ea015e934",
   "metadata": {
    "tags": []
   },
   "outputs": [
    {
     "data": {
      "text/html": [
       "<div>\n",
       "<style scoped>\n",
       "    .dataframe tbody tr th:only-of-type {\n",
       "        vertical-align: middle;\n",
       "    }\n",
       "\n",
       "    .dataframe tbody tr th {\n",
       "        vertical-align: top;\n",
       "    }\n",
       "\n",
       "    .dataframe thead th {\n",
       "        text-align: right;\n",
       "    }\n",
       "</style>\n",
       "<table border=\"1\" class=\"dataframe\">\n",
       "  <thead>\n",
       "    <tr style=\"text-align: right;\">\n",
       "      <th></th>\n",
       "      <th>wordtype</th>\n",
       "      <th>lexicon_entry</th>\n",
       "      <th>predicted_phnseq</th>\n",
       "      <th>per</th>\n",
       "    </tr>\n",
       "  </thead>\n",
       "  <tbody>\n",
       "    <tr>\n",
       "      <th>7954</th>\n",
       "      <td>ah</td>\n",
       "      <td>[AA]</td>\n",
       "      <td>[AH, HH]</td>\n",
       "      <td>2.000000</td>\n",
       "    </tr>\n",
       "    <tr>\n",
       "      <th>4168</th>\n",
       "      <td>deutsche</td>\n",
       "      <td>[D, OY, CH]</td>\n",
       "      <td>[D, IH, UW, T, S, K, IY]</td>\n",
       "      <td>2.000000</td>\n",
       "    </tr>\n",
       "    <tr>\n",
       "      <th>7874</th>\n",
       "      <td>nux</td>\n",
       "      <td>[N, UW]</td>\n",
       "      <td>[N, AH, K, S]</td>\n",
       "      <td>1.500000</td>\n",
       "    </tr>\n",
       "    <tr>\n",
       "      <th>4423</th>\n",
       "      <td>jacques</td>\n",
       "      <td>[ZH, AA, K]</td>\n",
       "      <td>[JH, AH, K, W, Z]</td>\n",
       "      <td>1.333333</td>\n",
       "    </tr>\n",
       "    <tr>\n",
       "      <th>6791</th>\n",
       "      <td>chaos</td>\n",
       "      <td>[K, EY, AA, S]</td>\n",
       "      <td>[CH, AE, OW, Z]</td>\n",
       "      <td>1.000000</td>\n",
       "    </tr>\n",
       "    <tr>\n",
       "      <th>...</th>\n",
       "      <td>...</td>\n",
       "      <td>...</td>\n",
       "      <td>...</td>\n",
       "      <td>...</td>\n",
       "    </tr>\n",
       "    <tr>\n",
       "      <th>3566</th>\n",
       "      <td>fiercely</td>\n",
       "      <td>[F, IH, R, S, L, IY]</td>\n",
       "      <td>[F, IH, R, S, L, IY]</td>\n",
       "      <td>0.000000</td>\n",
       "    </tr>\n",
       "    <tr>\n",
       "      <th>3565</th>\n",
       "      <td>laughing</td>\n",
       "      <td>[L, AE, F, IH, NG]</td>\n",
       "      <td>[L, AE, F, IH, NG]</td>\n",
       "      <td>0.000000</td>\n",
       "    </tr>\n",
       "    <tr>\n",
       "      <th>3564</th>\n",
       "      <td>indulged</td>\n",
       "      <td>[IH, N, D, AH, L, JH, D]</td>\n",
       "      <td>[IH, N, D, AH, L, JH, D]</td>\n",
       "      <td>0.000000</td>\n",
       "    </tr>\n",
       "    <tr>\n",
       "      <th>3562</th>\n",
       "      <td>coverest</td>\n",
       "      <td>[K, AH, V, R, AH, S, T]</td>\n",
       "      <td>[K, AH, V, R, AH, S, T]</td>\n",
       "      <td>0.000000</td>\n",
       "    </tr>\n",
       "    <tr>\n",
       "      <th>7965</th>\n",
       "      <td>u</td>\n",
       "      <td>[Y, UW]</td>\n",
       "      <td>[Y, UW]</td>\n",
       "      <td>0.000000</td>\n",
       "    </tr>\n",
       "  </tbody>\n",
       "</table>\n",
       "<p>7966 rows × 4 columns</p>\n",
       "</div>"
      ],
      "text/plain": [
       "      wordtype             lexicon_entry          predicted_phnseq       per\n",
       "7954        ah                      [AA]                  [AH, HH]  2.000000\n",
       "4168  deutsche               [D, OY, CH]  [D, IH, UW, T, S, K, IY]  2.000000\n",
       "7874       nux                   [N, UW]             [N, AH, K, S]  1.500000\n",
       "4423   jacques               [ZH, AA, K]         [JH, AH, K, W, Z]  1.333333\n",
       "6791     chaos            [K, EY, AA, S]           [CH, AE, OW, Z]  1.000000\n",
       "...        ...                       ...                       ...       ...\n",
       "3566  fiercely      [F, IH, R, S, L, IY]      [F, IH, R, S, L, IY]  0.000000\n",
       "3565  laughing        [L, AE, F, IH, NG]        [L, AE, F, IH, NG]  0.000000\n",
       "3564  indulged  [IH, N, D, AH, L, JH, D]  [IH, N, D, AH, L, JH, D]  0.000000\n",
       "3562  coverest   [K, AH, V, R, AH, S, T]   [K, AH, V, R, AH, S, T]  0.000000\n",
       "7965         u                   [Y, UW]                   [Y, UW]  0.000000\n",
       "\n",
       "[7966 rows x 4 columns]"
      ]
     },
     "execution_count": 20,
     "metadata": {},
     "output_type": "execute_result"
    }
   ],
   "source": [
    "df = pd.DataFrame(data)\n",
    "df.sort_values('per', ascending=False)"
   ]
  },
  {
   "cell_type": "markdown",
   "id": "c75c221b-67cc-40b3-853a-7c60eeca5c41",
   "metadata": {
    "tags": []
   },
   "source": [
    "##  save oov list with PERs to disk "
   ]
  },
  {
   "cell_type": "code",
   "execution_count": 21,
   "id": "508653df-0c7f-4ba0-8f76-e2016c434dbb",
   "metadata": {},
   "outputs": [],
   "source": [
    "outpath = '/home/s1785140/data/ljspeech_fastpitch/oov_list_with_PER.pickle'\n",
    "df.to_pickle(outpath)"
   ]
  },
  {
   "cell_type": "markdown",
   "id": "97e793ff-cd04-4194-adba-bad842066160",
   "metadata": {},
   "source": [
    "## load oov with PER from disk"
   ]
  },
  {
   "cell_type": "code",
   "execution_count": 22,
   "id": "30e6f094-06ed-4970-b05c-fce8aae0db87",
   "metadata": {
    "tags": []
   },
   "outputs": [
    {
     "data": {
      "text/plain": [
       "7966"
      ]
     },
     "execution_count": 22,
     "metadata": {},
     "output_type": "execute_result"
    }
   ],
   "source": [
    "loaded_df = pd.read_pickle(outpath)\n",
    "orig_num = len(loaded_df)\n",
    "orig_num"
   ]
  },
  {
   "cell_type": "markdown",
   "id": "8935b906-27bc-48e9-86c8-b072a4bf7a61",
   "metadata": {},
   "source": [
    "### do some filtering"
   ]
  },
  {
   "cell_type": "code",
   "execution_count": 23,
   "id": "9a49f005-6ecd-4875-8843-35051b3ce6a0",
   "metadata": {
    "tags": []
   },
   "outputs": [
    {
     "name": "stdout",
     "output_type": "stream",
     "text": [
      "filtered out 5967\n"
     ]
    },
    {
     "data": {
      "text/plain": [
       "1999"
      ]
     },
     "execution_count": 23,
     "metadata": {},
     "output_type": "execute_result"
    }
   ],
   "source": [
    "str_min_len_threshold = 10\n",
    "loaded_df = loaded_df[loaded_df['wordtype'].str.len() >= str_min_len_threshold]\n",
    "new_num = len(loaded_df)\n",
    "print(f'filtered out {orig_num - new_num}')\n",
    "new_num"
   ]
  },
  {
   "cell_type": "markdown",
   "id": "ed35ad9e-91a8-4d43-98ef-8da636a07220",
   "metadata": {},
   "source": [
    "### display"
   ]
  },
  {
   "cell_type": "code",
   "execution_count": 24,
   "id": "1cf77b32-a02e-4881-bb54-f6fbb683619c",
   "metadata": {
    "tags": []
   },
   "outputs": [
    {
     "data": {
      "text/html": [
       "<div>\n",
       "<style scoped>\n",
       "    .dataframe tbody tr th:only-of-type {\n",
       "        vertical-align: middle;\n",
       "    }\n",
       "\n",
       "    .dataframe tbody tr th {\n",
       "        vertical-align: top;\n",
       "    }\n",
       "\n",
       "    .dataframe thead th {\n",
       "        text-align: right;\n",
       "    }\n",
       "</style>\n",
       "<table border=\"1\" class=\"dataframe\">\n",
       "  <thead>\n",
       "    <tr style=\"text-align: right;\">\n",
       "      <th></th>\n",
       "      <th>wordtype</th>\n",
       "      <th>lexicon_entry</th>\n",
       "      <th>predicted_phnseq</th>\n",
       "      <th>per</th>\n",
       "    </tr>\n",
       "  </thead>\n",
       "  <tbody>\n",
       "    <tr>\n",
       "      <th>1275</th>\n",
       "      <td>saccharine</td>\n",
       "      <td>[S, AE, K, ER, AY, N]</td>\n",
       "      <td>[S, EY, K, CH, EH, R, AH, N]</td>\n",
       "      <td>0.833333</td>\n",
       "    </tr>\n",
       "    <tr>\n",
       "      <th>692</th>\n",
       "      <td>tocqueville</td>\n",
       "      <td>[T, OW, K, V, IH, L]</td>\n",
       "      <td>[T, AH, K, K, W, EH, V, IH, L]</td>\n",
       "      <td>0.666667</td>\n",
       "    </tr>\n",
       "    <tr>\n",
       "      <th>42</th>\n",
       "      <td>gloucestershire</td>\n",
       "      <td>[G, L, AO, S, T, ER, SH, ER]</td>\n",
       "      <td>[G, L, AW, S, EH, S, T, ER, SH, IH, R]</td>\n",
       "      <td>0.625000</td>\n",
       "    </tr>\n",
       "    <tr>\n",
       "      <th>1407</th>\n",
       "      <td>peripheral</td>\n",
       "      <td>[P, ER, IH, F, R, AH, L]</td>\n",
       "      <td>[P, IH, R, IY, F, ER, AH, L]</td>\n",
       "      <td>0.571429</td>\n",
       "    </tr>\n",
       "    <tr>\n",
       "      <th>1963</th>\n",
       "      <td>allegiance</td>\n",
       "      <td>[AH, L, IY, JH, AH, N, S]</td>\n",
       "      <td>[AE, L, AH, G, AY, AH, N, S]</td>\n",
       "      <td>0.571429</td>\n",
       "    </tr>\n",
       "    <tr>\n",
       "      <th>1543</th>\n",
       "      <td>khrushchev</td>\n",
       "      <td>[K, R, UW, S, CH, EH, V]</td>\n",
       "      <td>[K, R, AH, SH, SH, IH, V]</td>\n",
       "      <td>0.571429</td>\n",
       "    </tr>\n",
       "    <tr>\n",
       "      <th>1630</th>\n",
       "      <td>bequeathed</td>\n",
       "      <td>[B, AH, K, W, IY, TH, T]</td>\n",
       "      <td>[B, IH, K, IY, DH, D]</td>\n",
       "      <td>0.571429</td>\n",
       "    </tr>\n",
       "    <tr>\n",
       "      <th>1787</th>\n",
       "      <td>sepulchres</td>\n",
       "      <td>[S, EY, P, UW, L, CH, R, Z]</td>\n",
       "      <td>[S, EH, P, Y, AH, L, CH, ER, Z]</td>\n",
       "      <td>0.500000</td>\n",
       "    </tr>\n",
       "    <tr>\n",
       "      <th>1180</th>\n",
       "      <td>gloucester</td>\n",
       "      <td>[G, L, AO, S, T, ER]</td>\n",
       "      <td>[G, L, AW, S, EH, S, T, ER]</td>\n",
       "      <td>0.500000</td>\n",
       "    </tr>\n",
       "    <tr>\n",
       "      <th>729</th>\n",
       "      <td>exhortation</td>\n",
       "      <td>[EH, G, Z, AO, R, T, EY, SH, AH, N]</td>\n",
       "      <td>[IH, K, S, HH, ER, T, EY, SH, AH, N]</td>\n",
       "      <td>0.500000</td>\n",
       "    </tr>\n",
       "    <tr>\n",
       "      <th>1476</th>\n",
       "      <td>marseilles</td>\n",
       "      <td>[M, AA, R, S, AY, Z]</td>\n",
       "      <td>[M, AA, R, S, AH, IH, L, Z]</td>\n",
       "      <td>0.500000</td>\n",
       "    </tr>\n",
       "    <tr>\n",
       "      <th>1971</th>\n",
       "      <td>colleagues</td>\n",
       "      <td>[K, AA, L, IY, G, Z]</td>\n",
       "      <td>[K, AH, L, IY, G, Y, UW, Z]</td>\n",
       "      <td>0.500000</td>\n",
       "    </tr>\n",
       "    <tr>\n",
       "      <th>913</th>\n",
       "      <td>respiratory</td>\n",
       "      <td>[R, EH, S, P, ER, AH, T, AO, R, IY]</td>\n",
       "      <td>[R, IH, S, P, IH, R, AH, T, ER, IY]</td>\n",
       "      <td>0.500000</td>\n",
       "    </tr>\n",
       "    <tr>\n",
       "      <th>613</th>\n",
       "      <td>forgiveness</td>\n",
       "      <td>[F, ER, G, IH, V, N, AH, S]</td>\n",
       "      <td>[F, AO, R, JH, IH, V, AH, N, AH, S]</td>\n",
       "      <td>0.500000</td>\n",
       "    </tr>\n",
       "    <tr>\n",
       "      <th>1204</th>\n",
       "      <td>exhaustive</td>\n",
       "      <td>[IH, G, Z, AO, S, T, IH, V]</td>\n",
       "      <td>[IH, K, S, AH, AH, S, T, IH, V]</td>\n",
       "      <td>0.500000</td>\n",
       "    </tr>\n",
       "    <tr>\n",
       "      <th>1026</th>\n",
       "      <td>nonpartisan</td>\n",
       "      <td>[N, AA, N, P, AA, R, T, AH, Z, AH, N]</td>\n",
       "      <td>[N, AH, N, P, ER, T, IH, S, AH, N]</td>\n",
       "      <td>0.454545</td>\n",
       "    </tr>\n",
       "    <tr>\n",
       "      <th>421</th>\n",
       "      <td>exhortations</td>\n",
       "      <td>[EH, G, Z, AO, R, T, EY, SH, AH, N, Z]</td>\n",
       "      <td>[IH, K, S, HH, ER, T, EY, SH, AH, N, Z]</td>\n",
       "      <td>0.454545</td>\n",
       "    </tr>\n",
       "    <tr>\n",
       "      <th>1280</th>\n",
       "      <td>exorbitant</td>\n",
       "      <td>[IH, G, Z, AO, R, B, IH, T, AH, N, T]</td>\n",
       "      <td>[IH, K, S, ER, B, AH, T, AH, N, T]</td>\n",
       "      <td>0.454545</td>\n",
       "    </tr>\n",
       "    <tr>\n",
       "      <th>1337</th>\n",
       "      <td>minorities</td>\n",
       "      <td>[M, AH, N, AO, R, AH, T, IY, Z]</td>\n",
       "      <td>[M, AY, N, ER, IH, T, IY, Z]</td>\n",
       "      <td>0.444444</td>\n",
       "    </tr>\n",
       "    <tr>\n",
       "      <th>1872</th>\n",
       "      <td>fastidious</td>\n",
       "      <td>[F, AE, S, T, IH, D, IY, AH, S]</td>\n",
       "      <td>[F, AE, S, CH, JH, AH, S]</td>\n",
       "      <td>0.444444</td>\n",
       "    </tr>\n",
       "    <tr>\n",
       "      <th>151</th>\n",
       "      <td>staffordshire</td>\n",
       "      <td>[S, T, AE, F, ER, D, SH, AY, ER]</td>\n",
       "      <td>[S, T, AE, F, AO, R, D, SH, IH, R]</td>\n",
       "      <td>0.444444</td>\n",
       "    </tr>\n",
       "    <tr>\n",
       "      <th>1198</th>\n",
       "      <td>escritoire</td>\n",
       "      <td>[EH, S, K, R, IH, T, W, AA, R]</td>\n",
       "      <td>[IH, S, K, R, IH, T, AH, AY, ER]</td>\n",
       "      <td>0.444444</td>\n",
       "    </tr>\n",
       "    <tr>\n",
       "      <th>1354</th>\n",
       "      <td>theodosius</td>\n",
       "      <td>[TH, IY, AH, D, OW, S, IY, IH, S]</td>\n",
       "      <td>[TH, IH, D, OW, S, AY, AH, S]</td>\n",
       "      <td>0.444444</td>\n",
       "    </tr>\n",
       "    <tr>\n",
       "      <th>703</th>\n",
       "      <td>charioteers</td>\n",
       "      <td>[CH, EH, R, IY, AH, T, IH, R, Z]</td>\n",
       "      <td>[CH, AA, R, AY, AH, T, EH, ER, Z]</td>\n",
       "      <td>0.444444</td>\n",
       "    </tr>\n",
       "    <tr>\n",
       "      <th>1733</th>\n",
       "      <td>auditorium</td>\n",
       "      <td>[AO, D, AH, T, AO, R, IY, AH, M]</td>\n",
       "      <td>[AO, D, IH, T, ER, AY, AH, M]</td>\n",
       "      <td>0.444444</td>\n",
       "    </tr>\n",
       "    <tr>\n",
       "      <th>1185</th>\n",
       "      <td>subpoenaed</td>\n",
       "      <td>[S, AH, P, IY, N, AH, D]</td>\n",
       "      <td>[S, AH, B, P, OW, N, AH, T]</td>\n",
       "      <td>0.428571</td>\n",
       "    </tr>\n",
       "    <tr>\n",
       "      <th>1751</th>\n",
       "      <td>discourage</td>\n",
       "      <td>[D, IH, S, K, ER, IH, JH]</td>\n",
       "      <td>[D, IH, S, K, AO, R, AH, JH]</td>\n",
       "      <td>0.428571</td>\n",
       "    </tr>\n",
       "    <tr>\n",
       "      <th>1939</th>\n",
       "      <td>phosphorus</td>\n",
       "      <td>[F, AA, S, F, ER, AH, S]</td>\n",
       "      <td>[F, AH, S, F, AO, R, AH, S]</td>\n",
       "      <td>0.428571</td>\n",
       "    </tr>\n",
       "    <tr>\n",
       "      <th>1479</th>\n",
       "      <td>boisterous</td>\n",
       "      <td>[B, OY, S, T, R, AH, S]</td>\n",
       "      <td>[B, AA, IH, S, T, ER, AH, S]</td>\n",
       "      <td>0.428571</td>\n",
       "    </tr>\n",
       "    <tr>\n",
       "      <th>1658</th>\n",
       "      <td>silhouette</td>\n",
       "      <td>[S, IH, L, AH, W, EH, T]</td>\n",
       "      <td>[S, IH, L, HH, Y, UW, EH, T]</td>\n",
       "      <td>0.428571</td>\n",
       "    </tr>\n",
       "    <tr>\n",
       "      <th>1473</th>\n",
       "      <td>soubriquet</td>\n",
       "      <td>[S, UW, B, R, AH, K, EY]</td>\n",
       "      <td>[S, AW, B, R, IY, K, T]</td>\n",
       "      <td>0.428571</td>\n",
       "    </tr>\n",
       "    <tr>\n",
       "      <th>1920</th>\n",
       "      <td>shropshire</td>\n",
       "      <td>[SH, R, AA, P, SH, AY, R]</td>\n",
       "      <td>[SH, R, AH, P, SH, ER]</td>\n",
       "      <td>0.428571</td>\n",
       "    </tr>\n",
       "    <tr>\n",
       "      <th>1166</th>\n",
       "      <td>phosphoric</td>\n",
       "      <td>[F, AA, S, F, ER, IH, K]</td>\n",
       "      <td>[F, AH, S, F, AO, R, IH, K]</td>\n",
       "      <td>0.428571</td>\n",
       "    </tr>\n",
       "    <tr>\n",
       "      <th>1496</th>\n",
       "      <td>flintshire</td>\n",
       "      <td>[F, L, IH, N, CH, AY, R]</td>\n",
       "      <td>[F, L, IH, N, T, SH, ER]</td>\n",
       "      <td>0.428571</td>\n",
       "    </tr>\n",
       "    <tr>\n",
       "      <th>633</th>\n",
       "      <td>competitive</td>\n",
       "      <td>[K, AH, M, P, EH, T, IH, T, IH, V]</td>\n",
       "      <td>[K, AA, M, P, AH, T, IH, SH, V]</td>\n",
       "      <td>0.400000</td>\n",
       "    </tr>\n",
       "    <tr>\n",
       "      <th>1547</th>\n",
       "      <td>subsidiary</td>\n",
       "      <td>[S, AH, B, S, IH, D, IY, EH, R, IY]</td>\n",
       "      <td>[S, AH, B, S, AY, D, AY, ER, IY]</td>\n",
       "      <td>0.400000</td>\n",
       "    </tr>\n",
       "    <tr>\n",
       "      <th>1158</th>\n",
       "      <td>spirituous</td>\n",
       "      <td>[S, P, IH, R, IH, CH, AH, W, AH, S]</td>\n",
       "      <td>[S, P, IH, R, AH, T, UW, AH, S]</td>\n",
       "      <td>0.400000</td>\n",
       "    </tr>\n",
       "    <tr>\n",
       "      <th>701</th>\n",
       "      <td>prerogative</td>\n",
       "      <td>[P, R, IH, R, AA, G, AH, T, IH, V]</td>\n",
       "      <td>[P, R, IY, AH, G, EY, T, IH, V]</td>\n",
       "      <td>0.400000</td>\n",
       "    </tr>\n",
       "    <tr>\n",
       "      <th>1246</th>\n",
       "      <td>exonerated</td>\n",
       "      <td>[IH, G, Z, AA, N, ER, EY, T, IH, D]</td>\n",
       "      <td>[IH, K, S, AH, N, ER, EY, T, AH, D]</td>\n",
       "      <td>0.400000</td>\n",
       "    </tr>\n",
       "    <tr>\n",
       "      <th>403</th>\n",
       "      <td>psychiatrist</td>\n",
       "      <td>[S, AH, K, AY, AH, T, R, AH, S, T]</td>\n",
       "      <td>[S, AY, K, IY, AE, T, R, IH, S, T]</td>\n",
       "      <td>0.400000</td>\n",
       "    </tr>\n",
       "    <tr>\n",
       "      <th>464</th>\n",
       "      <td>experimental</td>\n",
       "      <td>[IH, K, S, P, ER, M, EH, N, AH, L]</td>\n",
       "      <td>[IH, K, S, P, EH, R, AH, M, EH, N, T, AH, L]</td>\n",
       "      <td>0.400000</td>\n",
       "    </tr>\n",
       "    <tr>\n",
       "      <th>1844</th>\n",
       "      <td>alexanders</td>\n",
       "      <td>[AE, L, IH, G, Z, AE, N, D, ER, Z]</td>\n",
       "      <td>[AO, L, EH, K, S, AE, N, D, ER, Z]</td>\n",
       "      <td>0.400000</td>\n",
       "    </tr>\n",
       "    <tr>\n",
       "      <th>359</th>\n",
       "      <td>ostentatious</td>\n",
       "      <td>[AA, S, T, AH, N, T, EY, SH, AH, S]</td>\n",
       "      <td>[AA, S, T, EH, N, T, AH, T, IH, AH, S]</td>\n",
       "      <td>0.400000</td>\n",
       "    </tr>\n",
       "    <tr>\n",
       "      <th>1636</th>\n",
       "      <td>horizontal</td>\n",
       "      <td>[HH, AO, R, AH, Z, AA, N, T, AH, L]</td>\n",
       "      <td>[HH, ER, AY, Z, AH, N, T, AH, L]</td>\n",
       "      <td>0.400000</td>\n",
       "    </tr>\n",
       "    <tr>\n",
       "      <th>1059</th>\n",
       "      <td>compromised</td>\n",
       "      <td>[K, AA, M, P, R, AH, M, AY, Z, D]</td>\n",
       "      <td>[K, AA, M, P, R, AA, M, AH, S, T]</td>\n",
       "      <td>0.400000</td>\n",
       "    </tr>\n",
       "    <tr>\n",
       "      <th>364</th>\n",
       "      <td>intellectual</td>\n",
       "      <td>[IH, N, AH, L, EH, K, CH, UW, AH, L]</td>\n",
       "      <td>[IH, N, T, EH, L, EH, K, CH, AH, W, AH, L]</td>\n",
       "      <td>0.400000</td>\n",
       "    </tr>\n",
       "    <tr>\n",
       "      <th>269</th>\n",
       "      <td>individuality</td>\n",
       "      <td>[IH, N, D, IH, V, IH, JH, UW, AE, L, IH, T, IY]</td>\n",
       "      <td>[IH, N, D, AH, V, IH, JH, AH, W, AH, L, AH, T,...</td>\n",
       "      <td>0.384615</td>\n",
       "    </tr>\n",
       "    <tr>\n",
       "      <th>1606</th>\n",
       "      <td>pugnacious</td>\n",
       "      <td>[P, AH, G, N, AE, SH, IH, S]</td>\n",
       "      <td>[P, UH, G, N, EY, SH, AH, S]</td>\n",
       "      <td>0.375000</td>\n",
       "    </tr>\n",
       "    <tr>\n",
       "      <th>1244</th>\n",
       "      <td>advertised</td>\n",
       "      <td>[AE, D, V, ER, T, AY, Z, D]</td>\n",
       "      <td>[AE, D, V, ER, T, AH, S, T]</td>\n",
       "      <td>0.375000</td>\n",
       "    </tr>\n",
       "    <tr>\n",
       "      <th>1859</th>\n",
       "      <td>engendered</td>\n",
       "      <td>[EH, N, JH, EH, N, D, ER, D]</td>\n",
       "      <td>[IH, NG, G, EH, N, D, ER, D]</td>\n",
       "      <td>0.375000</td>\n",
       "    </tr>\n",
       "  </tbody>\n",
       "</table>\n",
       "</div>"
      ],
      "text/plain": [
       "             wordtype                                    lexicon_entry  \\\n",
       "1275       saccharine                            [S, AE, K, ER, AY, N]   \n",
       "692       tocqueville                             [T, OW, K, V, IH, L]   \n",
       "42    gloucestershire                     [G, L, AO, S, T, ER, SH, ER]   \n",
       "1407       peripheral                         [P, ER, IH, F, R, AH, L]   \n",
       "1963       allegiance                        [AH, L, IY, JH, AH, N, S]   \n",
       "1543       khrushchev                         [K, R, UW, S, CH, EH, V]   \n",
       "1630       bequeathed                         [B, AH, K, W, IY, TH, T]   \n",
       "1787       sepulchres                      [S, EY, P, UW, L, CH, R, Z]   \n",
       "1180       gloucester                             [G, L, AO, S, T, ER]   \n",
       "729       exhortation              [EH, G, Z, AO, R, T, EY, SH, AH, N]   \n",
       "1476       marseilles                             [M, AA, R, S, AY, Z]   \n",
       "1971       colleagues                             [K, AA, L, IY, G, Z]   \n",
       "913       respiratory              [R, EH, S, P, ER, AH, T, AO, R, IY]   \n",
       "613       forgiveness                      [F, ER, G, IH, V, N, AH, S]   \n",
       "1204       exhaustive                      [IH, G, Z, AO, S, T, IH, V]   \n",
       "1026      nonpartisan            [N, AA, N, P, AA, R, T, AH, Z, AH, N]   \n",
       "421      exhortations           [EH, G, Z, AO, R, T, EY, SH, AH, N, Z]   \n",
       "1280       exorbitant            [IH, G, Z, AO, R, B, IH, T, AH, N, T]   \n",
       "1337       minorities                  [M, AH, N, AO, R, AH, T, IY, Z]   \n",
       "1872       fastidious                  [F, AE, S, T, IH, D, IY, AH, S]   \n",
       "151     staffordshire                 [S, T, AE, F, ER, D, SH, AY, ER]   \n",
       "1198       escritoire                   [EH, S, K, R, IH, T, W, AA, R]   \n",
       "1354       theodosius                [TH, IY, AH, D, OW, S, IY, IH, S]   \n",
       "703       charioteers                 [CH, EH, R, IY, AH, T, IH, R, Z]   \n",
       "1733       auditorium                 [AO, D, AH, T, AO, R, IY, AH, M]   \n",
       "1185       subpoenaed                         [S, AH, P, IY, N, AH, D]   \n",
       "1751       discourage                        [D, IH, S, K, ER, IH, JH]   \n",
       "1939       phosphorus                         [F, AA, S, F, ER, AH, S]   \n",
       "1479       boisterous                          [B, OY, S, T, R, AH, S]   \n",
       "1658       silhouette                         [S, IH, L, AH, W, EH, T]   \n",
       "1473       soubriquet                         [S, UW, B, R, AH, K, EY]   \n",
       "1920       shropshire                        [SH, R, AA, P, SH, AY, R]   \n",
       "1166       phosphoric                         [F, AA, S, F, ER, IH, K]   \n",
       "1496       flintshire                         [F, L, IH, N, CH, AY, R]   \n",
       "633       competitive               [K, AH, M, P, EH, T, IH, T, IH, V]   \n",
       "1547       subsidiary              [S, AH, B, S, IH, D, IY, EH, R, IY]   \n",
       "1158       spirituous              [S, P, IH, R, IH, CH, AH, W, AH, S]   \n",
       "701       prerogative               [P, R, IH, R, AA, G, AH, T, IH, V]   \n",
       "1246       exonerated              [IH, G, Z, AA, N, ER, EY, T, IH, D]   \n",
       "403      psychiatrist               [S, AH, K, AY, AH, T, R, AH, S, T]   \n",
       "464      experimental               [IH, K, S, P, ER, M, EH, N, AH, L]   \n",
       "1844       alexanders               [AE, L, IH, G, Z, AE, N, D, ER, Z]   \n",
       "359      ostentatious              [AA, S, T, AH, N, T, EY, SH, AH, S]   \n",
       "1636       horizontal              [HH, AO, R, AH, Z, AA, N, T, AH, L]   \n",
       "1059      compromised                [K, AA, M, P, R, AH, M, AY, Z, D]   \n",
       "364      intellectual             [IH, N, AH, L, EH, K, CH, UW, AH, L]   \n",
       "269     individuality  [IH, N, D, IH, V, IH, JH, UW, AE, L, IH, T, IY]   \n",
       "1606       pugnacious                     [P, AH, G, N, AE, SH, IH, S]   \n",
       "1244       advertised                      [AE, D, V, ER, T, AY, Z, D]   \n",
       "1859       engendered                     [EH, N, JH, EH, N, D, ER, D]   \n",
       "\n",
       "                                       predicted_phnseq       per  \n",
       "1275                       [S, EY, K, CH, EH, R, AH, N]  0.833333  \n",
       "692                      [T, AH, K, K, W, EH, V, IH, L]  0.666667  \n",
       "42               [G, L, AW, S, EH, S, T, ER, SH, IH, R]  0.625000  \n",
       "1407                       [P, IH, R, IY, F, ER, AH, L]  0.571429  \n",
       "1963                       [AE, L, AH, G, AY, AH, N, S]  0.571429  \n",
       "1543                          [K, R, AH, SH, SH, IH, V]  0.571429  \n",
       "1630                              [B, IH, K, IY, DH, D]  0.571429  \n",
       "1787                    [S, EH, P, Y, AH, L, CH, ER, Z]  0.500000  \n",
       "1180                        [G, L, AW, S, EH, S, T, ER]  0.500000  \n",
       "729                [IH, K, S, HH, ER, T, EY, SH, AH, N]  0.500000  \n",
       "1476                        [M, AA, R, S, AH, IH, L, Z]  0.500000  \n",
       "1971                        [K, AH, L, IY, G, Y, UW, Z]  0.500000  \n",
       "913                 [R, IH, S, P, IH, R, AH, T, ER, IY]  0.500000  \n",
       "613                 [F, AO, R, JH, IH, V, AH, N, AH, S]  0.500000  \n",
       "1204                    [IH, K, S, AH, AH, S, T, IH, V]  0.500000  \n",
       "1026                 [N, AH, N, P, ER, T, IH, S, AH, N]  0.454545  \n",
       "421             [IH, K, S, HH, ER, T, EY, SH, AH, N, Z]  0.454545  \n",
       "1280                 [IH, K, S, ER, B, AH, T, AH, N, T]  0.454545  \n",
       "1337                       [M, AY, N, ER, IH, T, IY, Z]  0.444444  \n",
       "1872                          [F, AE, S, CH, JH, AH, S]  0.444444  \n",
       "151                  [S, T, AE, F, AO, R, D, SH, IH, R]  0.444444  \n",
       "1198                   [IH, S, K, R, IH, T, AH, AY, ER]  0.444444  \n",
       "1354                      [TH, IH, D, OW, S, AY, AH, S]  0.444444  \n",
       "703                   [CH, AA, R, AY, AH, T, EH, ER, Z]  0.444444  \n",
       "1733                      [AO, D, IH, T, ER, AY, AH, M]  0.444444  \n",
       "1185                        [S, AH, B, P, OW, N, AH, T]  0.428571  \n",
       "1751                       [D, IH, S, K, AO, R, AH, JH]  0.428571  \n",
       "1939                        [F, AH, S, F, AO, R, AH, S]  0.428571  \n",
       "1479                       [B, AA, IH, S, T, ER, AH, S]  0.428571  \n",
       "1658                       [S, IH, L, HH, Y, UW, EH, T]  0.428571  \n",
       "1473                            [S, AW, B, R, IY, K, T]  0.428571  \n",
       "1920                             [SH, R, AH, P, SH, ER]  0.428571  \n",
       "1166                        [F, AH, S, F, AO, R, IH, K]  0.428571  \n",
       "1496                           [F, L, IH, N, T, SH, ER]  0.428571  \n",
       "633                     [K, AA, M, P, AH, T, IH, SH, V]  0.400000  \n",
       "1547                   [S, AH, B, S, AY, D, AY, ER, IY]  0.400000  \n",
       "1158                    [S, P, IH, R, AH, T, UW, AH, S]  0.400000  \n",
       "701                     [P, R, IY, AH, G, EY, T, IH, V]  0.400000  \n",
       "1246                [IH, K, S, AH, N, ER, EY, T, AH, D]  0.400000  \n",
       "403                  [S, AY, K, IY, AE, T, R, IH, S, T]  0.400000  \n",
       "464        [IH, K, S, P, EH, R, AH, M, EH, N, T, AH, L]  0.400000  \n",
       "1844                 [AO, L, EH, K, S, AE, N, D, ER, Z]  0.400000  \n",
       "359              [AA, S, T, EH, N, T, AH, T, IH, AH, S]  0.400000  \n",
       "1636                   [HH, ER, AY, Z, AH, N, T, AH, L]  0.400000  \n",
       "1059                  [K, AA, M, P, R, AA, M, AH, S, T]  0.400000  \n",
       "364          [IH, N, T, EH, L, EH, K, CH, AH, W, AH, L]  0.400000  \n",
       "269   [IH, N, D, AH, V, IH, JH, AH, W, AH, L, AH, T,...  0.384615  \n",
       "1606                       [P, UH, G, N, EY, SH, AH, S]  0.375000  \n",
       "1244                        [AE, D, V, ER, T, AH, S, T]  0.375000  \n",
       "1859                       [IH, NG, G, EH, N, D, ER, D]  0.375000  "
      ]
     },
     "execution_count": 24,
     "metadata": {},
     "output_type": "execute_result"
    }
   ],
   "source": [
    "NUM_TO_DISPLAY = 50\n",
    "loaded_df.sort_values('per', ascending=False).head(NUM_TO_DISPLAY)"
   ]
  },
  {
   "cell_type": "markdown",
   "id": "be4de7a2-dfcf-437b-9771-6f08e44525c3",
   "metadata": {},
   "source": [
    "# LM Perplexity"
   ]
  },
  {
   "cell_type": "code",
   "execution_count": null,
   "id": "bb0c72b6-769e-402b-a7a1-68ea5d213dcf",
   "metadata": {},
   "outputs": [],
   "source": []
  }
 ],
 "metadata": {
  "kernelspec": {
   "display_name": "Python 3 (ipykernel)",
   "language": "python",
   "name": "python3"
  },
  "language_info": {
   "codemirror_mode": {
    "name": "ipython",
    "version": 3
   },
   "file_extension": ".py",
   "mimetype": "text/x-python",
   "name": "python",
   "nbconvert_exporter": "python",
   "pygments_lexer": "ipython3",
   "version": "3.8.16"
  }
 },
 "nbformat": 4,
 "nbformat_minor": 5
}
