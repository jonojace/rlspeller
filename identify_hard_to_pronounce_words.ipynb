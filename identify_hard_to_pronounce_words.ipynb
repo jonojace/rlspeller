{
 "cells": [
  {
   "cell_type": "markdown",
   "id": "4d155d10-1c44-4a1b-b2f9-89b168afeb1d",
   "metadata": {},
   "source": [
    "# Goal of this notebook\n",
    "\n",
    "- use certain metrics (LM perplexity, G2P error) to identify wordtypes that are more likely to be mispronounced by our grapheme-input TTS system"
   ]
  },
  {
   "cell_type": "markdown",
   "id": "afbc98ee-f488-432c-b0d1-c266cee8097c",
   "metadata": {},
   "source": [
    "# automatic reloading magic"
   ]
  },
  {
   "cell_type": "code",
   "execution_count": 1,
   "id": "44dde61e-d22b-4383-85e9-b6994cb14fd9",
   "metadata": {},
   "outputs": [],
   "source": [
    "%load_ext autoreload\n",
    "%autoreload 2"
   ]
  },
  {
   "cell_type": "markdown",
   "id": "61abcb09-f231-4f75-8a6c-bd701d9a19b9",
   "metadata": {},
   "source": [
    "# Imports "
   ]
  },
  {
   "cell_type": "code",
   "execution_count": 1,
   "id": "b9c11189-ba5b-45ae-a62f-2b06b020217b",
   "metadata": {
    "tags": []
   },
   "outputs": [
    {
     "name": "stdout",
     "output_type": "stream",
     "text": [
      "levi.inf.ed.ac.uk\n"
     ]
    }
   ],
   "source": [
    "import socket\n",
    "\n",
    "# print hostname to make sure we are on correct node\n",
    "disallowed_nodes = ['escience6']\n",
    "hostname = socket.gethostname()\n",
    "print(hostname)\n",
    "node = hostname.split('.')[0]\n",
    "if node in disallowed_nodes:\n",
    "    raise ValueError(f\"Running on disallowed node {node}!\")"
   ]
  },
  {
   "cell_type": "markdown",
   "id": "1334affc-0cfd-441d-81c0-1379701f84d5",
   "metadata": {},
   "source": [
    "# Load OOV list\n",
    "\n",
    "(wordtypes not seen in the half of LJSpeech used to train TTS and ASR)"
   ]
  },
  {
   "cell_type": "code",
   "execution_count": null,
   "id": "b69cafa0-fb92-49c8-b4b2-c3ca00585194",
   "metadata": {},
   "outputs": [],
   "source": []
  },
  {
   "cell_type": "markdown",
   "id": "e7d53049-9b81-481d-b613-1245b4fd9b5e",
   "metadata": {},
   "source": [
    "# G2P Error Rates\n",
    "\n",
    "Only will work with words that occur in the lexicon?"
   ]
  },
  {
   "cell_type": "code",
   "execution_count": null,
   "id": "863a6de5-9834-45e4-9895-399d60acd860",
   "metadata": {},
   "outputs": [],
   "source": [
    "# load G2P model "
   ]
  },
  {
   "cell_type": "code",
   "execution_count": null,
   "id": "8d2a0944-4f6e-462e-b831-aac086b839eb",
   "metadata": {},
   "outputs": [],
   "source": [
    "# load lexicon that G2P model was trained on"
   ]
  },
  {
   "cell_type": "code",
   "execution_count": null,
   "id": "13248cb0-1e44-4add-89b9-1403322e3ac2",
   "metadata": {},
   "outputs": [],
   "source": [
    "# only consider the OOV words that are in the lexicon"
   ]
  },
  {
   "cell_type": "markdown",
   "id": "be4de7a2-dfcf-437b-9771-6f08e44525c3",
   "metadata": {},
   "source": [
    "# LM Perplexity"
   ]
  },
  {
   "cell_type": "code",
   "execution_count": null,
   "id": "bb0c72b6-769e-402b-a7a1-68ea5d213dcf",
   "metadata": {},
   "outputs": [],
   "source": []
  }
 ],
 "metadata": {
  "kernelspec": {
   "display_name": "Python 3 (ipykernel)",
   "language": "python",
   "name": "python3"
  },
  "language_info": {
   "codemirror_mode": {
    "name": "ipython",
    "version": 3
   },
   "file_extension": ".py",
   "mimetype": "text/x-python",
   "name": "python",
   "nbconvert_exporter": "python",
   "pygments_lexer": "ipython3",
   "version": "3.8.16"
  }
 },
 "nbformat": 4,
 "nbformat_minor": 5
}
