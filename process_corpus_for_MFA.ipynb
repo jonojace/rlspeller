{
 "cells": [
  {
   "cell_type": "markdown",
   "metadata": {},
   "source": [
    "# process corpus in preparation for MFA"
   ]
  },
  {
   "attachments": {},
   "cell_type": "markdown",
   "metadata": {},
   "source": [
    "- moves wav and lab files into correct directories for MFA\n",
    "- processes transcript files to remove punctuation and make lowercase\n",
    "- generate MFA alignments (these can be used getting wordaligned speechbrain and fastpitch mels)"
   ]
  },
  {
   "cell_type": "code",
   "execution_count": 22,
   "metadata": {},
   "outputs": [],
   "source": [
    "import os\n",
    "from fastpitch.common.text.cleaners import lowercase_no_punc\n",
    "from tqdm import tqdm"
   ]
  },
  {
   "cell_type": "code",
   "execution_count": 23,
   "metadata": {},
   "outputs": [],
   "source": [
    "corpus_name = 'ljspeech'\n",
    "corpus_dir = '/home/s1785140/speechbrain/templates/speech_recognition_CharTokens_NoLM/data/LJSpeech-1.1'\n",
    "out_folder = 'wav_and_labs_for_MFA'\n",
    "out_dir = os.path.join(corpus_dir, out_folder)\n",
    "aligns_out_folder = 'MFA_alignments_lowercase_nopunc'\n",
    "aligns_out_dir = os.path.join(corpus_dir, aligns_out_folder)\n",
    "os.makedirs(out_dir, exist_ok=True)"
   ]
  },
  {
   "cell_type": "code",
   "execution_count": 13,
   "metadata": {},
   "outputs": [
    {
     "name": "stdout",
     "output_type": "stream",
     "text": [
      "[('LJ001-0001', 'printing in the only sense with which we are at present concerned differs from most if not from all the arts and crafts represented in the exhibition'), ('LJ001-0002', 'in being comparatively modern'), ('LJ001-0003', 'for although the chinese took impressions from wood blocks engraved in relief for centuries before the woodcutters of the netherlands by a similar process'), ('LJ001-0004', 'produced the block books which were the immediate predecessors of the true printed book'), ('LJ001-0005', 'the invention of movable metal letters in the middle of the fifteenth century may justly be considered as the invention of the art of printing')]\n"
     ]
    }
   ],
   "source": [
    "# TODO - make this a function that depends on the corpus\n",
    "\n",
    "# load transcript file for ljspeech\n",
    "transcript_file = os.path.join(corpus_dir, 'metadata.csv')\n",
    "\n",
    "# grab normalised text from transcript file\n",
    "with open(transcript_file) as f:\n",
    "    lines = f.read().splitlines()\n",
    "    lines = [line.split('|') for line in lines]\n",
    "    lines = [(line[0], lowercase_no_punc(line[2])) for line in lines]\n",
    "\n",
    "print(lines[:5])"
   ]
  },
  {
   "cell_type": "code",
   "execution_count": 14,
   "metadata": {},
   "outputs": [
    {
     "name": "stderr",
     "output_type": "stream",
     "text": [
      "100%|██████████| 13100/13100 [00:03<00:00, 3797.88it/s]\n"
     ]
    }
   ],
   "source": [
    "# copy .wav files into outdir\n",
    "for wav_name, _ in tqdm(lines):\n",
    "    wav_name = wav_name + '.wav'\n",
    "    wav_path = os.path.join(corpus_dir, 'wavs', wav_name)\n",
    "    out_path = os.path.join(out_dir, wav_name)\n",
    "    if not os.path.exists(out_path):\n",
    "        os.system(f'cp {wav_path} {out_path}')"
   ]
  },
  {
   "cell_type": "code",
   "execution_count": 15,
   "metadata": {},
   "outputs": [
    {
     "name": "stderr",
     "output_type": "stream",
     "text": [
      "100%|██████████| 13100/13100 [07:52<00:00, 27.75it/s] \n"
     ]
    }
   ],
   "source": [
    "# make .lab files in outdir\n",
    "for wav_name, text in tqdm(lines):\n",
    "    lab_name = wav_name + '.lab'\n",
    "    lab_path = os.path.join(out_dir, lab_name)\n",
    "    with open(lab_path, 'w') as f:\n",
    "        f.write(text)"
   ]
  },
  {
   "cell_type": "markdown",
   "metadata": {},
   "source": [
    "# print MFA command to run"
   ]
  },
  {
   "attachments": {},
   "cell_type": "markdown",
   "metadata": {},
   "source": [
    "install mfa:\n",
    "```bash\n",
    "# update conda\n",
    "conda update -n base -c defaults conda\n",
    "\n",
    "#install MFA in new conda env\n",
    "conda create -n aligner -c conda-forge montreal-forced-aligner\n",
    "source ~/.bashrc\n",
    "conda activate aligner\n",
    "\n",
    "# download models\n",
    "mfa model download acoustic english_us_arpa\n",
    "mfa model download dictionary english_us_arpa\n",
    "```"
   ]
  },
  {
   "cell_type": "code",
   "execution_count": 26,
   "metadata": {},
   "outputs": [
    {
     "name": "stdout",
     "output_type": "stream",
     "text": [
      "# *** Run following command on GPU node: ***\n",
      "conda activate aligner\n",
      "\n",
      "mfa validate /home/s1785140/speechbrain/templates/speech_recognition_CharTokens_NoLM/data/LJSpeech-1.1/wav_and_labs_for_MFA english_us_arpa english_us_arpa\n",
      "\n",
      "mfa align --clean /home/s1785140/speechbrain/templates/speech_recognition_CharTokens_NoLM/data/LJSpeech-1.1/wav_and_labs_for_MFA english_us_arpa english_us_arpa /home/s1785140/speechbrain/templates/speech_recognition_CharTokens_NoLM/data/LJSpeech-1.1/MFA_alignments_lowercase_nopunc\n"
     ]
    }
   ],
   "source": [
    "# print a MFA command to run at the command line\n",
    "print('# *** Run following command on GPU node: ***')\n",
    "print('conda activate aligner')\n",
    "print(f\"\\nmfa validate {out_dir} english_us_arpa english_us_arpa\")\n",
    "print(f\"\\nmfa align --clean {out_dir} english_us_arpa english_us_arpa {aligns_out_dir}\")"
   ]
  },
  {
   "cell_type": "code",
   "execution_count": null,
   "metadata": {},
   "outputs": [],
   "source": []
  }
 ],
 "metadata": {
  "kernelspec": {
   "display_name": "rlspeller",
   "language": "python",
   "name": "python3"
  },
  "language_info": {
   "codemirror_mode": {
    "name": "ipython",
    "version": 3
   },
   "file_extension": ".py",
   "mimetype": "text/x-python",
   "name": "python",
   "nbconvert_exporter": "python",
   "pygments_lexer": "ipython3",
   "version": "3.8.0"
  },
  "orig_nbformat": 4,
  "vscode": {
   "interpreter": {
    "hash": "6a8422eeb13ba8f92f71047f64b5c33152e234c2bbad3f45433feda7b6f3b4c2"
   }
  }
 },
 "nbformat": 4,
 "nbformat_minor": 2
}
